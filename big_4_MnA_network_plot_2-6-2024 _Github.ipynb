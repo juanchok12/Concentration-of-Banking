{
 "cells": [
  {
   "cell_type": "markdown",
   "metadata": {},
   "source": [
    "# Concentration of banking through acquistions & mergers: network analysis\n",
    "\n"
   ]
  },
  {
   "cell_type": "markdown",
   "metadata": {},
   "source": [
    "\n",
    "<u>Concentration of banking</u> is the tendency of capital centralizing more and more around a few financial institutions, creating a financial network where a small number of banks and industrial monopolies wield anormous power over production (or under-production), investment (or lack of it), and commerce (or its stultification). It subordinates the separated regional economies of a society into a singularity.\n",
    "\n",
    "In this Notebook, we look at this economic property by the trends in acquisitions and mergers by the biggest four commercial banks in the U.S. (here referred to as the Big Four) from the 1960's up until today. The The data also includes branch and subsidiary consolidation throughout time. \n",
    "\n",
    "\n",
    "<u>Data source:</u> \"Relationships.csv\". National Information Center. Federal Financial Instututions Examination Council. Feb. 5, 2024. [Link](https://www.ffiec.gov/npw/FinancialReport/DataDownload).\n",
    "\n",
    "<u>Data dictionary:</u> \"Bulk Data Download Data Dictionary and References Guide.\" Version 2.0. National Information Center. Federal Financial Instututions Examination Council. Sept., 2023. [Link](https://www.ffiec.gov/npw/StaticData/DataDownload/NPW%20Data%20Dictionary.pdf).\n",
    "\n",
    "\n",
    "\n",
    "\n",
    "\n",
    "\n"
   ]
  },
  {
   "cell_type": "markdown",
   "metadata": {},
   "source": [
    "## Table of Contents\n",
    "1. [Data Cleaning](#0)<br>\n",
    "    a. [Adding missing legal names](#1)<br>\n",
    "    b. [Changing the accouting method and transformations codes](#2)<br>\n",
    "2. [Data Wrangling](#3)<br>\n",
    "    a. [Chase dataframe development](#4)<br>\n",
    "    b. [Bank of America dataframe development](#5)<br>\n",
    "    c. [Wells Fargo dataframe development](#6)<br>\n",
    "    d. [Citibank dataframe development](#7)<br>\n",
    "3. [M&A Network Plot Development](#8) <br>\n",
    "    a. [Network plot for Chase](#9)<br>\n",
    "    b. [Network plot for Bank of America](#10)<br>\n",
    "    c. [Network plot for Wells Fargo](#11)<br>\n",
    "    d. [Network plot for Citibank](#12)<br>\n",
    "\n"
   ]
  },
  {
   "cell_type": "code",
   "execution_count": 2,
   "metadata": {},
   "outputs": [
    {
     "name": "stderr",
     "output_type": "stream",
     "text": [
      "C:\\Users\\16193\\AppData\\Local\\Temp\\ipykernel_19860\\3558206401.py:17: UserWarning: \n",
      "The dash_html_components package is deprecated. Please replace\n",
      "`import dash_html_components as html` with `from dash import html`\n",
      "  import dash_html_components as html\n"
     ]
    }
   ],
   "source": [
    "import pandas as pd\n",
    "import numpy\n",
    "import matplotlib.pyplot as plt\n",
    "import matplotlib\n",
    "import plotly.graph_objs as go\n",
    "import plotly\n",
    "import gunicorn\n",
    "import dash\n",
    "import networkx as nx\n",
    "import matplotlib.pyplot as plt\n",
    "import Bio\n",
    "import networkx as nx\n",
    "import dash\n",
    "from dash import dcc, html\n",
    "from dash.dependencies import Input, Output\n",
    "import jupyter_dash\n",
    "import dash_html_components as html\n",
    "import dash_mantine_components as dmc\n"
   ]
  },
  {
   "cell_type": "markdown",
   "metadata": {},
   "source": [
    "<a id='Data-Cleaning'></a>\n",
    "## 1. Data Cleaning <a id=\"0\"></a>\n",
    "\n",
    "Let's upload the raw data from the National Information Center and convert and denomarlize data so as to have one database from which we can engage in our exploratory data analysis.\n",
    "\n",
    "The data that contains the information on the mergers and acquisitions of banks is the 'transformations' file. It can be found in the webpage of the Federal Financial Institutions Examination Council: https://www.ffiec.gov/npw/FinancialReport/DataDownload\n",
    "\n"
   ]
  },
  {
   "cell_type": "code",
   "execution_count": 3,
   "metadata": {},
   "outputs": [
    {
     "data": {
      "text/html": [
       "<div>\n",
       "<style scoped>\n",
       "    .dataframe tbody tr th:only-of-type {\n",
       "        vertical-align: middle;\n",
       "    }\n",
       "\n",
       "    .dataframe tbody tr th {\n",
       "        vertical-align: top;\n",
       "    }\n",
       "\n",
       "    .dataframe thead th {\n",
       "        text-align: right;\n",
       "    }\n",
       "</style>\n",
       "<table border=\"1\" class=\"dataframe\">\n",
       "  <thead>\n",
       "    <tr style=\"text-align: right;\">\n",
       "      <th></th>\n",
       "      <th>ID_RSSD_PREDECESSOR</th>\n",
       "      <th>ID_RSSD_SUCCESSOR</th>\n",
       "      <th>D_DT_TRANS</th>\n",
       "      <th>TRNSFM_CD</th>\n",
       "      <th>ACCT_METHOD</th>\n",
       "      <th>DT_TRANS</th>\n",
       "      <th>Year</th>\n",
       "    </tr>\n",
       "  </thead>\n",
       "  <tbody>\n",
       "    <tr>\n",
       "      <th>0</th>\n",
       "      <td>477639</td>\n",
       "      <td>35785</td>\n",
       "      <td>2024-01-17</td>\n",
       "      <td>1</td>\n",
       "      <td>0</td>\n",
       "      <td>20240117</td>\n",
       "      <td>2024</td>\n",
       "    </tr>\n",
       "    <tr>\n",
       "      <th>1</th>\n",
       "      <td>900379</td>\n",
       "      <td>864471</td>\n",
       "      <td>2024-01-03</td>\n",
       "      <td>1</td>\n",
       "      <td>2</td>\n",
       "      <td>20240103</td>\n",
       "      <td>2024</td>\n",
       "    </tr>\n",
       "    <tr>\n",
       "      <th>2</th>\n",
       "      <td>3837430</td>\n",
       "      <td>5726556</td>\n",
       "      <td>2024-01-03</td>\n",
       "      <td>1</td>\n",
       "      <td>0</td>\n",
       "      <td>20240103</td>\n",
       "      <td>2024</td>\n",
       "    </tr>\n",
       "    <tr>\n",
       "      <th>3</th>\n",
       "      <td>3837467</td>\n",
       "      <td>5726556</td>\n",
       "      <td>2024-01-03</td>\n",
       "      <td>1</td>\n",
       "      <td>0</td>\n",
       "      <td>20240103</td>\n",
       "      <td>2024</td>\n",
       "    </tr>\n",
       "    <tr>\n",
       "      <th>4</th>\n",
       "      <td>30650</td>\n",
       "      <td>3971</td>\n",
       "      <td>2024-01-01</td>\n",
       "      <td>1</td>\n",
       "      <td>1</td>\n",
       "      <td>20240101</td>\n",
       "      <td>2024</td>\n",
       "    </tr>\n",
       "  </tbody>\n",
       "</table>\n",
       "</div>"
      ],
      "text/plain": [
       "   ID_RSSD_PREDECESSOR  ID_RSSD_SUCCESSOR D_DT_TRANS  TRNSFM_CD  ACCT_METHOD  \\\n",
       "0               477639              35785 2024-01-17          1            0   \n",
       "1               900379             864471 2024-01-03          1            2   \n",
       "2              3837430            5726556 2024-01-03          1            0   \n",
       "3              3837467            5726556 2024-01-03          1            0   \n",
       "4                30650               3971 2024-01-01          1            1   \n",
       "\n",
       "   DT_TRANS  Year  \n",
       "0  20240117  2024  \n",
       "1  20240103  2024  \n",
       "2  20240103  2024  \n",
       "3  20240103  2024  \n",
       "4  20240101  2024  "
      ]
     },
     "execution_count": 3,
     "metadata": {},
     "output_type": "execute_result"
    }
   ],
   "source": [
    "\n",
    "#Defining the directory path towards the excel file containing the data\n",
    "excel_dir_trans=r\"file\\path\\transformations.xlsx\"\n",
    "\n",
    "#Load excel file into dataframe\n",
    "transformations_df=pd.read_excel(excel_dir_trans, sheet_name=\"transformations_big_7\")\n",
    "transformations_df.head()"
   ]
  },
  {
   "cell_type": "code",
   "execution_count": null,
   "metadata": {},
   "outputs": [],
   "source": [
    "# Define the RSSD IDs of the Big Seven banks\n",
    "big_seven_rssd = {\n",
    "    'JPMORGAN CHASE BK NA/JPMORGAN CHASE & CO': 852218,\n",
    "    'BANK OF AMER NA/BANK OF AMER CORP': 480228,\n",
    "    'CITIBANK NA/CITIGROUP': 476810,\n",
    "    'WELLS FARGO BK NA/WELLS FARGO & CO': 451965,\n",
    "    'U S BK NA/U S BC': 504713,\n",
    "    'TRUIST BK/TRUIST FC': 852320,\n",
    "    'PNC BK NA/PNC FNCL SVC GROUP': 817824\n",
    "}"
   ]
  },
  {
   "cell_type": "markdown",
   "metadata": {},
   "source": [
    "### 1a) Adding missing legal names <a id=\"1\"></a>\n",
    "The first problem that we encounter with the raw data is that we don't have the legal names of the banks. For this reason, we have to relly on the the 'attributes' dataset of active and closed institutions in the same webpage. This datasets have the RSSD and the legal name through which we can correlate the RSSD of our 'transformations' datataset. "
   ]
  },
  {
   "cell_type": "code",
   "execution_count": 4,
   "metadata": {},
   "outputs": [
    {
     "data": {
      "text/html": [
       "<div>\n",
       "<style scoped>\n",
       "    .dataframe tbody tr th:only-of-type {\n",
       "        vertical-align: middle;\n",
       "    }\n",
       "\n",
       "    .dataframe tbody tr th {\n",
       "        vertical-align: top;\n",
       "    }\n",
       "\n",
       "    .dataframe thead th {\n",
       "        text-align: right;\n",
       "    }\n",
       "</style>\n",
       "<table border=\"1\" class=\"dataframe\">\n",
       "  <thead>\n",
       "    <tr style=\"text-align: right;\">\n",
       "      <th></th>\n",
       "      <th>ID_RSSD</th>\n",
       "      <th>D_DT_START</th>\n",
       "      <th>D_DT_END</th>\n",
       "      <th>BHC_IND</th>\n",
       "      <th>BROAD_REG_CD</th>\n",
       "      <th>CHTR_AUTH_CD</th>\n",
       "      <th>CHTR_TYPE_CD</th>\n",
       "      <th>FBO_4C9_IND</th>\n",
       "      <th>FHC_IND</th>\n",
       "      <th>FUNC_REG</th>\n",
       "      <th>...</th>\n",
       "      <th>URL</th>\n",
       "      <th>SLHC_IND</th>\n",
       "      <th>SLHC_TYPE_IND</th>\n",
       "      <th>PRIM_FED_REG</th>\n",
       "      <th>STATE_INC_CD</th>\n",
       "      <th>CNTRY_INC_CD</th>\n",
       "      <th>STATE_INC_ABBR_NM</th>\n",
       "      <th>CNTRY_INC_NM</th>\n",
       "      <th>ID_LEI</th>\n",
       "      <th>IHC_IND</th>\n",
       "    </tr>\n",
       "  </thead>\n",
       "  <tbody>\n",
       "    <tr>\n",
       "      <th>0</th>\n",
       "      <td>56294</td>\n",
       "      <td>2008-12-31</td>\n",
       "      <td>9999-12-31 00:00:00</td>\n",
       "      <td>0</td>\n",
       "      <td>2</td>\n",
       "      <td>2</td>\n",
       "      <td>330</td>\n",
       "      <td>0</td>\n",
       "      <td>0</td>\n",
       "      <td>0</td>\n",
       "      <td>...</td>\n",
       "      <td>0</td>\n",
       "      <td>0</td>\n",
       "      <td>0</td>\n",
       "      <td>NCUA</td>\n",
       "      <td>0</td>\n",
       "      <td>0</td>\n",
       "      <td>0</td>\n",
       "      <td>NaN</td>\n",
       "      <td>0</td>\n",
       "      <td>0</td>\n",
       "    </tr>\n",
       "    <tr>\n",
       "      <th>1</th>\n",
       "      <td>56351</td>\n",
       "      <td>2019-01-22</td>\n",
       "      <td>9999-12-31 00:00:00</td>\n",
       "      <td>0</td>\n",
       "      <td>1</td>\n",
       "      <td>1</td>\n",
       "      <td>200</td>\n",
       "      <td>0</td>\n",
       "      <td>0</td>\n",
       "      <td>0</td>\n",
       "      <td>...</td>\n",
       "      <td>WWW.CNBTEXAS.COM</td>\n",
       "      <td>0</td>\n",
       "      <td>0</td>\n",
       "      <td>OCC</td>\n",
       "      <td>0</td>\n",
       "      <td>0</td>\n",
       "      <td>0</td>\n",
       "      <td>NaN</td>\n",
       "      <td>0</td>\n",
       "      <td>0</td>\n",
       "    </tr>\n",
       "    <tr>\n",
       "      <th>2</th>\n",
       "      <td>56548</td>\n",
       "      <td>2023-04-03</td>\n",
       "      <td>9999-12-31 00:00:00</td>\n",
       "      <td>0</td>\n",
       "      <td>1</td>\n",
       "      <td>2</td>\n",
       "      <td>200</td>\n",
       "      <td>0</td>\n",
       "      <td>0</td>\n",
       "      <td>0</td>\n",
       "      <td>...</td>\n",
       "      <td>0</td>\n",
       "      <td>0</td>\n",
       "      <td>0</td>\n",
       "      <td>FDIC</td>\n",
       "      <td>55</td>\n",
       "      <td>0</td>\n",
       "      <td>WI</td>\n",
       "      <td>NaN</td>\n",
       "      <td>549300LC0BP2X1F6BE13</td>\n",
       "      <td>0</td>\n",
       "    </tr>\n",
       "    <tr>\n",
       "      <th>3</th>\n",
       "      <td>56678</td>\n",
       "      <td>2012-05-17</td>\n",
       "      <td>9999-12-31 00:00:00</td>\n",
       "      <td>0</td>\n",
       "      <td>2</td>\n",
       "      <td>1</td>\n",
       "      <td>330</td>\n",
       "      <td>0</td>\n",
       "      <td>0</td>\n",
       "      <td>0</td>\n",
       "      <td>...</td>\n",
       "      <td>0</td>\n",
       "      <td>0</td>\n",
       "      <td>0</td>\n",
       "      <td>NCUA</td>\n",
       "      <td>0</td>\n",
       "      <td>0</td>\n",
       "      <td>0</td>\n",
       "      <td>NaN</td>\n",
       "      <td>0</td>\n",
       "      <td>0</td>\n",
       "    </tr>\n",
       "    <tr>\n",
       "      <th>4</th>\n",
       "      <td>56717</td>\n",
       "      <td>2017-10-26</td>\n",
       "      <td>9999-12-31 00:00:00</td>\n",
       "      <td>0</td>\n",
       "      <td>1</td>\n",
       "      <td>2</td>\n",
       "      <td>200</td>\n",
       "      <td>0</td>\n",
       "      <td>0</td>\n",
       "      <td>0</td>\n",
       "      <td>...</td>\n",
       "      <td>0</td>\n",
       "      <td>0</td>\n",
       "      <td>0</td>\n",
       "      <td>FDIC</td>\n",
       "      <td>42</td>\n",
       "      <td>0</td>\n",
       "      <td>PA</td>\n",
       "      <td>NaN</td>\n",
       "      <td>549300JSQZG5CD2LWR30</td>\n",
       "      <td>0</td>\n",
       "    </tr>\n",
       "  </tbody>\n",
       "</table>\n",
       "<p>5 rows × 74 columns</p>\n",
       "</div>"
      ],
      "text/plain": [
       "   ID_RSSD D_DT_START             D_DT_END  BHC_IND  BROAD_REG_CD  \\\n",
       "0    56294 2008-12-31  9999-12-31 00:00:00        0             2   \n",
       "1    56351 2019-01-22  9999-12-31 00:00:00        0             1   \n",
       "2    56548 2023-04-03  9999-12-31 00:00:00        0             1   \n",
       "3    56678 2012-05-17  9999-12-31 00:00:00        0             2   \n",
       "4    56717 2017-10-26  9999-12-31 00:00:00        0             1   \n",
       "\n",
       "   CHTR_AUTH_CD  CHTR_TYPE_CD  FBO_4C9_IND  FHC_IND  FUNC_REG  ...  \\\n",
       "0             2           330            0        0         0  ...   \n",
       "1             1           200            0        0         0  ...   \n",
       "2             2           200            0        0         0  ...   \n",
       "3             1           330            0        0         0  ...   \n",
       "4             2           200            0        0         0  ...   \n",
       "\n",
       "                URL  SLHC_IND  SLHC_TYPE_IND  PRIM_FED_REG  STATE_INC_CD  \\\n",
       "0                 0         0              0          NCUA             0   \n",
       "1  WWW.CNBTEXAS.COM         0              0           OCC             0   \n",
       "2                 0         0              0          FDIC            55   \n",
       "3                 0         0              0          NCUA             0   \n",
       "4                 0         0              0          FDIC            42   \n",
       "\n",
       "   CNTRY_INC_CD  STATE_INC_ABBR_NM CNTRY_INC_NM                ID_LEI  IHC_IND  \n",
       "0             0                  0          NaN                     0        0  \n",
       "1             0                  0          NaN                     0        0  \n",
       "2             0                 WI          NaN  549300LC0BP2X1F6BE13        0  \n",
       "3             0                  0          NaN                     0        0  \n",
       "4             0                 PA          NaN  549300JSQZG5CD2LWR30        0  \n",
       "\n",
       "[5 rows x 74 columns]"
      ]
     },
     "execution_count": 4,
     "metadata": {},
     "output_type": "execute_result"
    }
   ],
   "source": [
    "#Defining the attributes_active dataframe\n",
    "\n",
    "#Defining the directory path towards the excel file containing the data\n",
    "excel_dir_attr_act=r\"C:file\\path\\transformations.xlsx\"\n",
    "\n",
    "#Load excel file into dataframe\n",
    "attr_act_df=pd.read_excel(excel_dir_attr_act, sheet_name=\"attributes_active\")\n",
    "\n",
    "attr_act_df.head()\n"
   ]
  },
  {
   "cell_type": "code",
   "execution_count": 6,
   "metadata": {},
   "outputs": [
    {
     "data": {
      "text/html": [
       "<div>\n",
       "<style scoped>\n",
       "    .dataframe tbody tr th:only-of-type {\n",
       "        vertical-align: middle;\n",
       "    }\n",
       "\n",
       "    .dataframe tbody tr th {\n",
       "        vertical-align: top;\n",
       "    }\n",
       "\n",
       "    .dataframe thead th {\n",
       "        text-align: right;\n",
       "    }\n",
       "</style>\n",
       "<table border=\"1\" class=\"dataframe\">\n",
       "  <thead>\n",
       "    <tr style=\"text-align: right;\">\n",
       "      <th></th>\n",
       "      <th>ID_RSSD</th>\n",
       "      <th>D_DT_START</th>\n",
       "      <th>D_DT_END</th>\n",
       "      <th>BHC_IND</th>\n",
       "      <th>BROAD_REG_CD</th>\n",
       "      <th>CHTR_AUTH_CD</th>\n",
       "      <th>CHTR_TYPE_CD</th>\n",
       "      <th>FBO_4C9_IND</th>\n",
       "      <th>FHC_IND</th>\n",
       "      <th>FUNC_REG</th>\n",
       "      <th>...</th>\n",
       "      <th>URL</th>\n",
       "      <th>SLHC_IND</th>\n",
       "      <th>SLHC_TYPE_IND</th>\n",
       "      <th>PRIM_FED_REG</th>\n",
       "      <th>STATE_INC_CD</th>\n",
       "      <th>CNTRY_INC_CD</th>\n",
       "      <th>STATE_INC_ABBR_NM</th>\n",
       "      <th>CNTRY_INC_NM</th>\n",
       "      <th>ID_LEI</th>\n",
       "      <th>IHC_IND</th>\n",
       "    </tr>\n",
       "  </thead>\n",
       "  <tbody>\n",
       "    <tr>\n",
       "      <th>0</th>\n",
       "      <td>56285</td>\n",
       "      <td>1979-12-31 00:00:00</td>\n",
       "      <td>1982-11-16</td>\n",
       "      <td>0</td>\n",
       "      <td>2</td>\n",
       "      <td>1</td>\n",
       "      <td>330</td>\n",
       "      <td>0</td>\n",
       "      <td>0</td>\n",
       "      <td>0</td>\n",
       "      <td>...</td>\n",
       "      <td>0</td>\n",
       "      <td>0</td>\n",
       "      <td>0</td>\n",
       "      <td>NCUA</td>\n",
       "      <td>0</td>\n",
       "      <td>0</td>\n",
       "      <td>0</td>\n",
       "      <td>NaN</td>\n",
       "      <td>0</td>\n",
       "      <td>0</td>\n",
       "    </tr>\n",
       "    <tr>\n",
       "      <th>1</th>\n",
       "      <td>56379</td>\n",
       "      <td>1989-08-09 00:00:00</td>\n",
       "      <td>1993-05-28</td>\n",
       "      <td>0</td>\n",
       "      <td>2</td>\n",
       "      <td>1</td>\n",
       "      <td>300</td>\n",
       "      <td>0</td>\n",
       "      <td>0</td>\n",
       "      <td>0</td>\n",
       "      <td>...</td>\n",
       "      <td>0</td>\n",
       "      <td>0</td>\n",
       "      <td>0</td>\n",
       "      <td>OTS</td>\n",
       "      <td>0</td>\n",
       "      <td>0</td>\n",
       "      <td>0</td>\n",
       "      <td>NaN</td>\n",
       "      <td>0</td>\n",
       "      <td>0</td>\n",
       "    </tr>\n",
       "    <tr>\n",
       "      <th>2</th>\n",
       "      <td>56388</td>\n",
       "      <td>1979-12-31 00:00:00</td>\n",
       "      <td>1980-03-21</td>\n",
       "      <td>0</td>\n",
       "      <td>2</td>\n",
       "      <td>1</td>\n",
       "      <td>330</td>\n",
       "      <td>0</td>\n",
       "      <td>0</td>\n",
       "      <td>0</td>\n",
       "      <td>...</td>\n",
       "      <td>0</td>\n",
       "      <td>0</td>\n",
       "      <td>0</td>\n",
       "      <td>NCUA</td>\n",
       "      <td>0</td>\n",
       "      <td>0</td>\n",
       "      <td>0</td>\n",
       "      <td>NaN</td>\n",
       "      <td>0</td>\n",
       "      <td>0</td>\n",
       "    </tr>\n",
       "    <tr>\n",
       "      <th>3</th>\n",
       "      <td>56397</td>\n",
       "      <td>1980-12-31 00:00:00</td>\n",
       "      <td>1984-10-03</td>\n",
       "      <td>0</td>\n",
       "      <td>2</td>\n",
       "      <td>2</td>\n",
       "      <td>330</td>\n",
       "      <td>0</td>\n",
       "      <td>0</td>\n",
       "      <td>0</td>\n",
       "      <td>...</td>\n",
       "      <td>0</td>\n",
       "      <td>0</td>\n",
       "      <td>0</td>\n",
       "      <td>NCUA</td>\n",
       "      <td>0</td>\n",
       "      <td>0</td>\n",
       "      <td>0</td>\n",
       "      <td>NaN</td>\n",
       "      <td>0</td>\n",
       "      <td>0</td>\n",
       "    </tr>\n",
       "    <tr>\n",
       "      <th>4</th>\n",
       "      <td>56472</td>\n",
       "      <td>1986-01-01 00:00:00</td>\n",
       "      <td>1986-05-04</td>\n",
       "      <td>0</td>\n",
       "      <td>2</td>\n",
       "      <td>1</td>\n",
       "      <td>300</td>\n",
       "      <td>0</td>\n",
       "      <td>0</td>\n",
       "      <td>0</td>\n",
       "      <td>...</td>\n",
       "      <td>0</td>\n",
       "      <td>0</td>\n",
       "      <td>0</td>\n",
       "      <td>NaN</td>\n",
       "      <td>0</td>\n",
       "      <td>0</td>\n",
       "      <td>0</td>\n",
       "      <td>NaN</td>\n",
       "      <td>0</td>\n",
       "      <td>0</td>\n",
       "    </tr>\n",
       "  </tbody>\n",
       "</table>\n",
       "<p>5 rows × 74 columns</p>\n",
       "</div>"
      ],
      "text/plain": [
       "   ID_RSSD           D_DT_START   D_DT_END  BHC_IND  BROAD_REG_CD  \\\n",
       "0    56285  1979-12-31 00:00:00 1982-11-16        0             2   \n",
       "1    56379  1989-08-09 00:00:00 1993-05-28        0             2   \n",
       "2    56388  1979-12-31 00:00:00 1980-03-21        0             2   \n",
       "3    56397  1980-12-31 00:00:00 1984-10-03        0             2   \n",
       "4    56472  1986-01-01 00:00:00 1986-05-04        0             2   \n",
       "\n",
       "   CHTR_AUTH_CD  CHTR_TYPE_CD  FBO_4C9_IND  FHC_IND  FUNC_REG  ...  URL  \\\n",
       "0             1           330            0        0         0  ...    0   \n",
       "1             1           300            0        0         0  ...    0   \n",
       "2             1           330            0        0         0  ...    0   \n",
       "3             2           330            0        0         0  ...    0   \n",
       "4             1           300            0        0         0  ...    0   \n",
       "\n",
       "   SLHC_IND  SLHC_TYPE_IND  PRIM_FED_REG  STATE_INC_CD  CNTRY_INC_CD  \\\n",
       "0         0              0          NCUA             0             0   \n",
       "1         0              0           OTS             0             0   \n",
       "2         0              0          NCUA             0             0   \n",
       "3         0              0          NCUA             0             0   \n",
       "4         0              0           NaN             0             0   \n",
       "\n",
       "   STATE_INC_ABBR_NM CNTRY_INC_NM ID_LEI  IHC_IND  \n",
       "0                  0          NaN      0        0  \n",
       "1                  0          NaN      0        0  \n",
       "2                  0          NaN      0        0  \n",
       "3                  0          NaN      0        0  \n",
       "4                  0          NaN      0        0  \n",
       "\n",
       "[5 rows x 74 columns]"
      ]
     },
     "execution_count": 6,
     "metadata": {},
     "output_type": "execute_result"
    }
   ],
   "source": [
    "#Defining the attributes_closed dataframe\n",
    "\n",
    "#Defining the directory path towards the excel file containing the data\n",
    "excel_dir_attr_cls=r\"file\\path\\transformations.xlsx\"\n",
    "\n",
    "#Load excel file into dataframe\n",
    "attr_cls_df=pd.read_excel(excel_dir_attr_cls, sheet_name=\"attributes_closed\")\n",
    "\n",
    "#Display the dataframe\n",
    "attr_cls_df.head()"
   ]
  },
  {
   "cell_type": "markdown",
   "metadata": {},
   "source": [
    "Now, let's combine the active and closed 'attributes' datasets to create a list of RSSD's and their respective names. After this, we will map the legal names to the RSSD of the 'transformations' dataset into the 'trasformations_df'."
   ]
  },
  {
   "cell_type": "code",
   "execution_count": 11,
   "metadata": {},
   "outputs": [],
   "source": [
    "#Combine the active and closed attributes dataframes\n",
    "attr_df=pd.concat([attr_act_df, attr_cls_df], axis=0)\n",
    "\n",
    "#Download the dataframe as a excel file\n",
    "attr_df.to_excel(r\"file\\path\\transformations.xlsx\")"
   ]
  },
  {
   "cell_type": "code",
   "execution_count": 17,
   "metadata": {},
   "outputs": [
    {
     "data": {
      "text/plain": [
       "ID_RSSD\n",
       "56294    SPRINGFIELD FIREFIGHTERS CREDIT UNION         ...\n",
       "56351    VERABANK, NATIONAL ASSOCIATION                ...\n",
       "56548    DMB COMMUNITY BANK                            ...\n",
       "56678    FRANKLIN TRUST FEDERAL CREDIT UNION           ...\n",
       "56717    DIME BANK, THE                                ...\n",
       "dtype: object"
      ]
     },
     "execution_count": 17,
     "metadata": {},
     "output_type": "execute_result"
    }
   ],
   "source": [
    "#Create a dictionary to map ID_RSSD to NM_LGL\n",
    "rssd_nm_dict=pd.Series(attr_df.NM_LGL.values,\n",
    "                       index=attr_df.ID_RSSD)\n",
    "rssd_nm_dict.head()\n"
   ]
  },
  {
   "cell_type": "code",
   "execution_count": 18,
   "metadata": {},
   "outputs": [
    {
     "data": {
      "text/html": [
       "<div>\n",
       "<style scoped>\n",
       "    .dataframe tbody tr th:only-of-type {\n",
       "        vertical-align: middle;\n",
       "    }\n",
       "\n",
       "    .dataframe tbody tr th {\n",
       "        vertical-align: top;\n",
       "    }\n",
       "\n",
       "    .dataframe thead th {\n",
       "        text-align: right;\n",
       "    }\n",
       "</style>\n",
       "<table border=\"1\" class=\"dataframe\">\n",
       "  <thead>\n",
       "    <tr style=\"text-align: right;\">\n",
       "      <th></th>\n",
       "      <th>ID_RSSD_PREDECESSOR</th>\n",
       "      <th>ID_RSSD_SUCCESSOR</th>\n",
       "      <th>D_DT_TRANS</th>\n",
       "      <th>TRNSFM_CD</th>\n",
       "      <th>ACCT_METHOD</th>\n",
       "      <th>DT_TRANS</th>\n",
       "      <th>Year</th>\n",
       "      <th>Predecessor_Name</th>\n",
       "      <th>Successor_Name</th>\n",
       "    </tr>\n",
       "  </thead>\n",
       "  <tbody>\n",
       "    <tr>\n",
       "      <th>0</th>\n",
       "      <td>477639</td>\n",
       "      <td>35785</td>\n",
       "      <td>2024-01-17</td>\n",
       "      <td>1</td>\n",
       "      <td>0</td>\n",
       "      <td>20240117</td>\n",
       "      <td>2024</td>\n",
       "      <td>SUNSOUTH BANK                                 ...</td>\n",
       "      <td>ALL IN FEDERAL CREDIT UNION                   ...</td>\n",
       "    </tr>\n",
       "    <tr>\n",
       "      <th>1</th>\n",
       "      <td>900379</td>\n",
       "      <td>864471</td>\n",
       "      <td>2024-01-03</td>\n",
       "      <td>1</td>\n",
       "      <td>2</td>\n",
       "      <td>20240103</td>\n",
       "      <td>2024</td>\n",
       "      <td>NaN</td>\n",
       "      <td>PIEDMONT FEDERAL SAVINGS BANK                 ...</td>\n",
       "    </tr>\n",
       "    <tr>\n",
       "      <th>2</th>\n",
       "      <td>3837430</td>\n",
       "      <td>5726556</td>\n",
       "      <td>2024-01-03</td>\n",
       "      <td>1</td>\n",
       "      <td>0</td>\n",
       "      <td>20240103</td>\n",
       "      <td>2024</td>\n",
       "      <td>WAKE FOREST BANCSHARES, INC.                  ...</td>\n",
       "      <td>PIEDMONT FINANCIAL HOLDING COMPANY            ...</td>\n",
       "    </tr>\n",
       "    <tr>\n",
       "      <th>3</th>\n",
       "      <td>3837467</td>\n",
       "      <td>5726556</td>\n",
       "      <td>2024-01-03</td>\n",
       "      <td>1</td>\n",
       "      <td>0</td>\n",
       "      <td>20240103</td>\n",
       "      <td>2024</td>\n",
       "      <td>WAKE FOREST BANCORP, M.H.C.                   ...</td>\n",
       "      <td>PIEDMONT FINANCIAL HOLDING COMPANY            ...</td>\n",
       "    </tr>\n",
       "    <tr>\n",
       "      <th>4</th>\n",
       "      <td>30650</td>\n",
       "      <td>3971</td>\n",
       "      <td>2024-01-01</td>\n",
       "      <td>1</td>\n",
       "      <td>1</td>\n",
       "      <td>20240101</td>\n",
       "      <td>2024</td>\n",
       "      <td>NaN</td>\n",
       "      <td>MIDCOUNTRY BANK                               ...</td>\n",
       "    </tr>\n",
       "  </tbody>\n",
       "</table>\n",
       "</div>"
      ],
      "text/plain": [
       "   ID_RSSD_PREDECESSOR  ID_RSSD_SUCCESSOR D_DT_TRANS  TRNSFM_CD  ACCT_METHOD  \\\n",
       "0               477639              35785 2024-01-17          1            0   \n",
       "1               900379             864471 2024-01-03          1            2   \n",
       "2              3837430            5726556 2024-01-03          1            0   \n",
       "3              3837467            5726556 2024-01-03          1            0   \n",
       "4                30650               3971 2024-01-01          1            1   \n",
       "\n",
       "   DT_TRANS  Year                                   Predecessor_Name  \\\n",
       "0  20240117  2024  SUNSOUTH BANK                                 ...   \n",
       "1  20240103  2024                                                NaN   \n",
       "2  20240103  2024  WAKE FOREST BANCSHARES, INC.                  ...   \n",
       "3  20240103  2024  WAKE FOREST BANCORP, M.H.C.                   ...   \n",
       "4  20240101  2024                                                NaN   \n",
       "\n",
       "                                      Successor_Name  \n",
       "0  ALL IN FEDERAL CREDIT UNION                   ...  \n",
       "1  PIEDMONT FEDERAL SAVINGS BANK                 ...  \n",
       "2  PIEDMONT FINANCIAL HOLDING COMPANY            ...  \n",
       "3  PIEDMONT FINANCIAL HOLDING COMPANY            ...  \n",
       "4  MIDCOUNTRY BANK                               ...  "
      ]
     },
     "execution_count": 18,
     "metadata": {},
     "output_type": "execute_result"
    }
   ],
   "source": [
    "#Map the legal names to the transformations dataframe\n",
    "transformations_df['Predecessor_Name']=transformations_df['ID_RSSD_PREDECESSOR'].map(rssd_nm_dict)\n",
    "transformations_df['Successor_Name']=transformations_df['ID_RSSD_SUCCESSOR'].map(rssd_nm_dict)\n",
    "transformations_df.head()"
   ]
  },
  {
   "cell_type": "markdown",
   "metadata": {},
   "source": [
    "### 1b) Changing the accouting method and transformation codes <a id=\"2\"></a>"
   ]
  },
  {
   "cell_type": "code",
   "execution_count": 75,
   "metadata": {},
   "outputs": [],
   "source": [
    "# Change the header of 'TRNSFM_CD' to 'Transformation Code'\n",
    "transformations_df = transformations_df.rename(columns={'TRNSFM_CD': 'Transformation Code'})\n",
    "\n",
    "# Change the codes in the 'Transformation Code' column\n",
    "transformations_df['Transformation Code'] = transformations_df['Transformation Code'].replace({\n",
    "    1: 'Charter Discontinued',\n",
    "    5: 'Split',\n",
    "    7: 'Sale of Assets',\n",
    "    9: 'Charter Retained',\n",
    "    50: 'Failure'\n",
    "})\n"
   ]
  },
  {
   "cell_type": "code",
   "execution_count": 76,
   "metadata": {},
   "outputs": [],
   "source": [
    "# Change the header of 'ACCT_METHOD' to 'Accounting Method'\n",
    "transformations_df = transformations_df.rename(columns={'ACCT_METHOD': 'Accounting Method'})\n",
    "\n",
    "# Change the codes in the 'Accounting Method' column\n",
    "transformations_df['Accounting Method'] = transformations_df['Accounting Method'].replace({\n",
    "    0: 'Not Applicable',\n",
    "    1: 'Merger',\n",
    "    2: 'Purchase/Acquisition'\n",
    "})"
   ]
  },
  {
   "cell_type": "code",
   "execution_count": 79,
   "metadata": {},
   "outputs": [
    {
     "data": {
      "text/html": [
       "<div>\n",
       "<style scoped>\n",
       "    .dataframe tbody tr th:only-of-type {\n",
       "        vertical-align: middle;\n",
       "    }\n",
       "\n",
       "    .dataframe tbody tr th {\n",
       "        vertical-align: top;\n",
       "    }\n",
       "\n",
       "    .dataframe thead th {\n",
       "        text-align: right;\n",
       "    }\n",
       "</style>\n",
       "<table border=\"1\" class=\"dataframe\">\n",
       "  <thead>\n",
       "    <tr style=\"text-align: right;\">\n",
       "      <th></th>\n",
       "      <th>ID_RSSD_PREDECESSOR</th>\n",
       "      <th>ID_RSSD_SUCCESSOR</th>\n",
       "      <th>D_DT_TRANS</th>\n",
       "      <th>Transformation Code</th>\n",
       "      <th>Accounting Method</th>\n",
       "      <th>DT_TRANS</th>\n",
       "      <th>Year</th>\n",
       "      <th>Predecessor_Name</th>\n",
       "      <th>Successor_Name</th>\n",
       "    </tr>\n",
       "  </thead>\n",
       "  <tbody>\n",
       "    <tr>\n",
       "      <th>0</th>\n",
       "      <td>477639</td>\n",
       "      <td>35785</td>\n",
       "      <td>2024-01-17</td>\n",
       "      <td>Charter Discontinued</td>\n",
       "      <td>Not Applicable</td>\n",
       "      <td>20240117</td>\n",
       "      <td>2024</td>\n",
       "      <td>SUNSOUTH BANK                                 ...</td>\n",
       "      <td>ALL IN FEDERAL CREDIT UNION                   ...</td>\n",
       "    </tr>\n",
       "    <tr>\n",
       "      <th>1</th>\n",
       "      <td>900379</td>\n",
       "      <td>864471</td>\n",
       "      <td>2024-01-03</td>\n",
       "      <td>Charter Discontinued</td>\n",
       "      <td>Purchase/Acquisition</td>\n",
       "      <td>20240103</td>\n",
       "      <td>2024</td>\n",
       "      <td>NaN</td>\n",
       "      <td>PIEDMONT FEDERAL SAVINGS BANK                 ...</td>\n",
       "    </tr>\n",
       "    <tr>\n",
       "      <th>2</th>\n",
       "      <td>3837430</td>\n",
       "      <td>5726556</td>\n",
       "      <td>2024-01-03</td>\n",
       "      <td>Charter Discontinued</td>\n",
       "      <td>Not Applicable</td>\n",
       "      <td>20240103</td>\n",
       "      <td>2024</td>\n",
       "      <td>WAKE FOREST BANCSHARES, INC.                  ...</td>\n",
       "      <td>PIEDMONT FINANCIAL HOLDING COMPANY            ...</td>\n",
       "    </tr>\n",
       "    <tr>\n",
       "      <th>3</th>\n",
       "      <td>3837467</td>\n",
       "      <td>5726556</td>\n",
       "      <td>2024-01-03</td>\n",
       "      <td>Charter Discontinued</td>\n",
       "      <td>Not Applicable</td>\n",
       "      <td>20240103</td>\n",
       "      <td>2024</td>\n",
       "      <td>WAKE FOREST BANCORP, M.H.C.                   ...</td>\n",
       "      <td>PIEDMONT FINANCIAL HOLDING COMPANY            ...</td>\n",
       "    </tr>\n",
       "    <tr>\n",
       "      <th>4</th>\n",
       "      <td>30650</td>\n",
       "      <td>3971</td>\n",
       "      <td>2024-01-01</td>\n",
       "      <td>Charter Discontinued</td>\n",
       "      <td>Merger</td>\n",
       "      <td>20240101</td>\n",
       "      <td>2024</td>\n",
       "      <td>NaN</td>\n",
       "      <td>MIDCOUNTRY BANK                               ...</td>\n",
       "    </tr>\n",
       "  </tbody>\n",
       "</table>\n",
       "</div>"
      ],
      "text/plain": [
       "   ID_RSSD_PREDECESSOR  ID_RSSD_SUCCESSOR D_DT_TRANS   Transformation Code  \\\n",
       "0               477639              35785 2024-01-17  Charter Discontinued   \n",
       "1               900379             864471 2024-01-03  Charter Discontinued   \n",
       "2              3837430            5726556 2024-01-03  Charter Discontinued   \n",
       "3              3837467            5726556 2024-01-03  Charter Discontinued   \n",
       "4                30650               3971 2024-01-01  Charter Discontinued   \n",
       "\n",
       "      Accounting Method  DT_TRANS  Year  \\\n",
       "0        Not Applicable  20240117  2024   \n",
       "1  Purchase/Acquisition  20240103  2024   \n",
       "2        Not Applicable  20240103  2024   \n",
       "3        Not Applicable  20240103  2024   \n",
       "4                Merger  20240101  2024   \n",
       "\n",
       "                                    Predecessor_Name  \\\n",
       "0  SUNSOUTH BANK                                 ...   \n",
       "1                                                NaN   \n",
       "2  WAKE FOREST BANCSHARES, INC.                  ...   \n",
       "3  WAKE FOREST BANCORP, M.H.C.                   ...   \n",
       "4                                                NaN   \n",
       "\n",
       "                                      Successor_Name  \n",
       "0  ALL IN FEDERAL CREDIT UNION                   ...  \n",
       "1  PIEDMONT FEDERAL SAVINGS BANK                 ...  \n",
       "2  PIEDMONT FINANCIAL HOLDING COMPANY            ...  \n",
       "3  PIEDMONT FINANCIAL HOLDING COMPANY            ...  \n",
       "4  MIDCOUNTRY BANK                               ...  "
      ]
     },
     "execution_count": 79,
     "metadata": {},
     "output_type": "execute_result"
    }
   ],
   "source": [
    "#Displayed changed transformations_df dataframe with the new headers and codes\n",
    "transformations_df.head()"
   ]
  },
  {
   "cell_type": "code",
   "execution_count": null,
   "metadata": {},
   "outputs": [],
   "source": [
    "#Download the transformations_df as a excel file\n",
    "transformations_df.to_excel(r\"file\\path\\transformations.xlsx\")"
   ]
  },
  {
   "cell_type": "markdown",
   "metadata": {},
   "source": [
    "Although we a feasible dataframe in 'transformation_df', we don't have a complete list of the legal names of the predecessor entities. This is mainly because the 'attributes' datasets do not register branch divisions as seperate entities from the national association bank. Therefore, we will need to download the 'transformations_df' dataframe into an excel file 'trans_df' and fill the missing data entries manually for the banks of interest. "
   ]
  },
  {
   "cell_type": "code",
   "execution_count": 2,
   "metadata": {},
   "outputs": [],
   "source": [
    "#Create a data from from the 'trans_df' excel file\n",
    "file_path=r\"file\\path\\transformations.xlsx\""
   ]
  },
  {
   "cell_type": "code",
   "execution_count": 42,
   "metadata": {},
   "outputs": [
    {
     "data": {
      "text/html": [
       "<div>\n",
       "<style scoped>\n",
       "    .dataframe tbody tr th:only-of-type {\n",
       "        vertical-align: middle;\n",
       "    }\n",
       "\n",
       "    .dataframe tbody tr th {\n",
       "        vertical-align: top;\n",
       "    }\n",
       "\n",
       "    .dataframe thead th {\n",
       "        text-align: right;\n",
       "    }\n",
       "</style>\n",
       "<table border=\"1\" class=\"dataframe\">\n",
       "  <thead>\n",
       "    <tr style=\"text-align: right;\">\n",
       "      <th></th>\n",
       "      <th>Column1</th>\n",
       "      <th>ID_RSSD_PREDECESSOR</th>\n",
       "      <th>ID_RSSD_SUCCESSOR</th>\n",
       "      <th>D_DT_TRANS</th>\n",
       "      <th>Transformation Code</th>\n",
       "      <th>Accounting Method</th>\n",
       "      <th>DT_TRANS</th>\n",
       "      <th>Year</th>\n",
       "      <th>Predecessor_Name</th>\n",
       "      <th>Successor_Name</th>\n",
       "    </tr>\n",
       "  </thead>\n",
       "  <tbody>\n",
       "    <tr>\n",
       "      <th>0</th>\n",
       "      <td>0</td>\n",
       "      <td>477639</td>\n",
       "      <td>35785</td>\n",
       "      <td>2024-01-17</td>\n",
       "      <td>Charter Discontinued</td>\n",
       "      <td>Not Applicable</td>\n",
       "      <td>20240117</td>\n",
       "      <td>2024</td>\n",
       "      <td>SUNSOUTH BANK                                 ...</td>\n",
       "      <td>ALL IN FEDERAL CREDIT UNION                   ...</td>\n",
       "    </tr>\n",
       "    <tr>\n",
       "      <th>1</th>\n",
       "      <td>1</td>\n",
       "      <td>900379</td>\n",
       "      <td>864471</td>\n",
       "      <td>2024-01-03</td>\n",
       "      <td>Charter Discontinued</td>\n",
       "      <td>Purchase/Acquisition</td>\n",
       "      <td>20240103</td>\n",
       "      <td>2024</td>\n",
       "      <td>NaN</td>\n",
       "      <td>PIEDMONT FEDERAL SAVINGS BANK                 ...</td>\n",
       "    </tr>\n",
       "    <tr>\n",
       "      <th>2</th>\n",
       "      <td>2</td>\n",
       "      <td>3837430</td>\n",
       "      <td>5726556</td>\n",
       "      <td>2024-01-03</td>\n",
       "      <td>Charter Discontinued</td>\n",
       "      <td>Not Applicable</td>\n",
       "      <td>20240103</td>\n",
       "      <td>2024</td>\n",
       "      <td>WAKE FOREST BANCSHARES, INC.                  ...</td>\n",
       "      <td>PIEDMONT FINANCIAL HOLDING COMPANY            ...</td>\n",
       "    </tr>\n",
       "    <tr>\n",
       "      <th>3</th>\n",
       "      <td>3</td>\n",
       "      <td>3837467</td>\n",
       "      <td>5726556</td>\n",
       "      <td>2024-01-03</td>\n",
       "      <td>Charter Discontinued</td>\n",
       "      <td>Not Applicable</td>\n",
       "      <td>20240103</td>\n",
       "      <td>2024</td>\n",
       "      <td>WAKE FOREST BANCORP, M.H.C.                   ...</td>\n",
       "      <td>PIEDMONT FINANCIAL HOLDING COMPANY            ...</td>\n",
       "    </tr>\n",
       "    <tr>\n",
       "      <th>4</th>\n",
       "      <td>4</td>\n",
       "      <td>30650</td>\n",
       "      <td>3971</td>\n",
       "      <td>2024-01-01</td>\n",
       "      <td>Charter Discontinued</td>\n",
       "      <td>Merger</td>\n",
       "      <td>20240101</td>\n",
       "      <td>2024</td>\n",
       "      <td>NaN</td>\n",
       "      <td>MIDCOUNTRY BANK                               ...</td>\n",
       "    </tr>\n",
       "  </tbody>\n",
       "</table>\n",
       "</div>"
      ],
      "text/plain": [
       "   Column1  ID_RSSD_PREDECESSOR  ID_RSSD_SUCCESSOR D_DT_TRANS  \\\n",
       "0        0               477639              35785 2024-01-17   \n",
       "1        1               900379             864471 2024-01-03   \n",
       "2        2              3837430            5726556 2024-01-03   \n",
       "3        3              3837467            5726556 2024-01-03   \n",
       "4        4                30650               3971 2024-01-01   \n",
       "\n",
       "    Transformation Code     Accounting Method  DT_TRANS  Year  \\\n",
       "0  Charter Discontinued        Not Applicable  20240117  2024   \n",
       "1  Charter Discontinued  Purchase/Acquisition  20240103  2024   \n",
       "2  Charter Discontinued        Not Applicable  20240103  2024   \n",
       "3  Charter Discontinued        Not Applicable  20240103  2024   \n",
       "4  Charter Discontinued                Merger  20240101  2024   \n",
       "\n",
       "                                    Predecessor_Name  \\\n",
       "0  SUNSOUTH BANK                                 ...   \n",
       "1                                                NaN   \n",
       "2  WAKE FOREST BANCSHARES, INC.                  ...   \n",
       "3  WAKE FOREST BANCORP, M.H.C.                   ...   \n",
       "4                                                NaN   \n",
       "\n",
       "                                      Successor_Name  \n",
       "0  ALL IN FEDERAL CREDIT UNION                   ...  \n",
       "1  PIEDMONT FEDERAL SAVINGS BANK                 ...  \n",
       "2  PIEDMONT FINANCIAL HOLDING COMPANY            ...  \n",
       "3  PIEDMONT FINANCIAL HOLDING COMPANY            ...  \n",
       "4  MIDCOUNTRY BANK                               ...  "
      ]
     },
     "execution_count": 42,
     "metadata": {},
     "output_type": "execute_result"
    }
   ],
   "source": [
    "#Load excel file 'trans_df.xlsx'into dataframe\n",
    "trans_df=pd.read_excel(file_path, sheet_name=\"Sheet1\")\n",
    "trans_df.head()"
   ]
  },
  {
   "cell_type": "markdown",
   "metadata": {},
   "source": [
    "## 2) Data Wrangling <a id=\"3\"></a>\n",
    "Now that we have standardized our data, we need to create seperate dataframes for each of the Big Four banks to add flexibility to our network mapping. This is because, despite combining our dataframes of the 'properties' and 'transformations' datasets allowed us to find names of most of the transformation instances, branch consolidated transformations were not named with the legal name. This is perhaps because the 'properties' dataset does not recognize branch entities as seperate entities from national association. \n",
    "\n",
    "\n",
    "As a result of this, we will be adding this names manually by searching for the RSSD of the predecessor entity in the [National Information Center RSSD search engine](https://www.ffiec.gov/npw). \n",
    "\n",
    "Additionally, we are going to create a list of all the branch entities of the national association so we can latter use this dataframe to add a switch bottom on our Dash app to allow the user to filter out all those data points related to brach consolidation."
   ]
  },
  {
   "cell_type": "markdown",
   "metadata": {},
   "source": [
    "### 2a) Chase dataframe development <a id=\"4\"></a>"
   ]
  },
  {
   "cell_type": "code",
   "execution_count": 5,
   "metadata": {},
   "outputs": [],
   "source": [
    "# Filter the 'transformations_df' dataframe based on the ID_RSSD_SUCCESSOR\n",
    "trans_chase_df = trans_df[trans_df['ID_RSSD_SUCCESSOR'] == 852218]\n"
   ]
  },
  {
   "cell_type": "code",
   "execution_count": 6,
   "metadata": {},
   "outputs": [
    {
     "name": "stderr",
     "output_type": "stream",
     "text": [
      "C:\\Users\\16193\\AppData\\Local\\Temp\\ipykernel_3080\\3583578456.py:2: SettingWithCopyWarning: \n",
      "A value is trying to be set on a copy of a slice from a DataFrame.\n",
      "Try using .loc[row_indexer,col_indexer] = value instead\n",
      "\n",
      "See the caveats in the documentation: https://pandas.pydata.org/pandas-docs/stable/user_guide/indexing.html#returning-a-view-versus-a-copy\n",
      "  trans_chase_df ['Successor_Name']='Chase'\n"
     ]
    }
   ],
   "source": [
    "#Rename the successor to 'Chase'\n",
    "trans_chase_df ['Successor_Name']='Chase'"
   ]
  },
  {
   "cell_type": "code",
   "execution_count": 45,
   "metadata": {},
   "outputs": [
    {
     "data": {
      "text/html": [
       "<div>\n",
       "<style scoped>\n",
       "    .dataframe tbody tr th:only-of-type {\n",
       "        vertical-align: middle;\n",
       "    }\n",
       "\n",
       "    .dataframe tbody tr th {\n",
       "        vertical-align: top;\n",
       "    }\n",
       "\n",
       "    .dataframe thead th {\n",
       "        text-align: right;\n",
       "    }\n",
       "</style>\n",
       "<table border=\"1\" class=\"dataframe\">\n",
       "  <thead>\n",
       "    <tr style=\"text-align: right;\">\n",
       "      <th></th>\n",
       "      <th>Column1</th>\n",
       "      <th>ID_RSSD_PREDECESSOR</th>\n",
       "      <th>ID_RSSD_SUCCESSOR</th>\n",
       "      <th>D_DT_TRANS</th>\n",
       "      <th>Transformation Code</th>\n",
       "      <th>Accounting Method</th>\n",
       "      <th>DT_TRANS</th>\n",
       "      <th>Year</th>\n",
       "      <th>Predecessor_Name</th>\n",
       "      <th>Successor_Name</th>\n",
       "    </tr>\n",
       "  </thead>\n",
       "  <tbody>\n",
       "    <tr>\n",
       "      <th>0</th>\n",
       "      <td>318</td>\n",
       "      <td>4114567</td>\n",
       "      <td>852218</td>\n",
       "      <td>2023-05-01</td>\n",
       "      <td>Failure</td>\n",
       "      <td>Not Applicable</td>\n",
       "      <td>20230501</td>\n",
       "      <td>2023</td>\n",
       "      <td>FIRST REPUBLIC BANK                           ...</td>\n",
       "      <td>Chase</td>\n",
       "    </tr>\n",
       "    <tr>\n",
       "      <th>1</th>\n",
       "      <td>1108</td>\n",
       "      <td>3179318</td>\n",
       "      <td>852218</td>\n",
       "      <td>2021-12-31</td>\n",
       "      <td>Charter Discontinued</td>\n",
       "      <td>Merger</td>\n",
       "      <td>20211231</td>\n",
       "      <td>2021</td>\n",
       "      <td>ONE MORTGAGE PARTNERS CORP.                   ...</td>\n",
       "      <td>Chase</td>\n",
       "    </tr>\n",
       "    <tr>\n",
       "      <th>2</th>\n",
       "      <td>2372</td>\n",
       "      <td>3118474</td>\n",
       "      <td>852218</td>\n",
       "      <td>2019-10-20</td>\n",
       "      <td>Charter Discontinued</td>\n",
       "      <td>Merger</td>\n",
       "      <td>20191020</td>\n",
       "      <td>2019</td>\n",
       "      <td>J.P. MORGAN TREASURY TECHNOLOGIES CORPORATION ...</td>\n",
       "      <td>Chase</td>\n",
       "    </tr>\n",
       "    <tr>\n",
       "      <th>3</th>\n",
       "      <td>2620</td>\n",
       "      <td>489913</td>\n",
       "      <td>852218</td>\n",
       "      <td>2019-05-19</td>\n",
       "      <td>Charter Discontinued</td>\n",
       "      <td>Merger</td>\n",
       "      <td>20190519</td>\n",
       "      <td>2019</td>\n",
       "      <td>CHASE BANK USA, NATIONAL ASSOCIATION          ...</td>\n",
       "      <td>Chase</td>\n",
       "    </tr>\n",
       "    <tr>\n",
       "      <th>4</th>\n",
       "      <td>2621</td>\n",
       "      <td>1451364</td>\n",
       "      <td>852218</td>\n",
       "      <td>2019-05-19</td>\n",
       "      <td>Charter Discontinued</td>\n",
       "      <td>Merger</td>\n",
       "      <td>20190519</td>\n",
       "      <td>2019</td>\n",
       "      <td>CHASE BANKCARD SERVICES, INC.                 ...</td>\n",
       "      <td>Chase</td>\n",
       "    </tr>\n",
       "  </tbody>\n",
       "</table>\n",
       "</div>"
      ],
      "text/plain": [
       "   Column1  ID_RSSD_PREDECESSOR  ID_RSSD_SUCCESSOR D_DT_TRANS  \\\n",
       "0      318              4114567             852218 2023-05-01   \n",
       "1     1108              3179318             852218 2021-12-31   \n",
       "2     2372              3118474             852218 2019-10-20   \n",
       "3     2620               489913             852218 2019-05-19   \n",
       "4     2621              1451364             852218 2019-05-19   \n",
       "\n",
       "    Transformation Code Accounting Method  DT_TRANS  Year  \\\n",
       "0               Failure    Not Applicable  20230501  2023   \n",
       "1  Charter Discontinued            Merger  20211231  2021   \n",
       "2  Charter Discontinued            Merger  20191020  2019   \n",
       "3  Charter Discontinued            Merger  20190519  2019   \n",
       "4  Charter Discontinued            Merger  20190519  2019   \n",
       "\n",
       "                                    Predecessor_Name Successor_Name  \n",
       "0  FIRST REPUBLIC BANK                           ...          Chase  \n",
       "1  ONE MORTGAGE PARTNERS CORP.                   ...          Chase  \n",
       "2  J.P. MORGAN TREASURY TECHNOLOGIES CORPORATION ...          Chase  \n",
       "3  CHASE BANK USA, NATIONAL ASSOCIATION          ...          Chase  \n",
       "4  CHASE BANKCARD SERVICES, INC.                 ...          Chase  "
      ]
     },
     "execution_count": 45,
     "metadata": {},
     "output_type": "execute_result"
    }
   ],
   "source": [
    "#Display the dataframe for the Chase bank\n",
    "trans_chase_df.head()"
   ]
  },
  {
   "cell_type": "code",
   "execution_count": 110,
   "metadata": {},
   "outputs": [],
   "source": [
    "#Now let's download the 'trans_chase_df' as an excel file for revision\n",
    "path_to_tables = r\"file\\path\\transformations.xlsx\"\n",
    "trans_chase_df.to_excel(path_to_tables + '\\\\trans_chase_df.xlsx', index=False)\n"
   ]
  },
  {
   "cell_type": "markdown",
   "metadata": {},
   "source": [
    "Create a list of all the legal names of all the branches that were consolidated under Chase. "
   ]
  },
  {
   "cell_type": "code",
   "execution_count": 29,
   "metadata": {},
   "outputs": [
    {
     "data": {
      "text/html": [
       "<div>\n",
       "<style scoped>\n",
       "    .dataframe tbody tr th:only-of-type {\n",
       "        vertical-align: middle;\n",
       "    }\n",
       "\n",
       "    .dataframe tbody tr th {\n",
       "        vertical-align: top;\n",
       "    }\n",
       "\n",
       "    .dataframe thead th {\n",
       "        text-align: right;\n",
       "    }\n",
       "</style>\n",
       "<table border=\"1\" class=\"dataframe\">\n",
       "  <thead>\n",
       "    <tr style=\"text-align: right;\">\n",
       "      <th></th>\n",
       "      <th>ID_RSSD_PREDECESSOR</th>\n",
       "      <th>ID_RSSD_SUCCESSOR</th>\n",
       "      <th>D_DT_TRANS</th>\n",
       "      <th>Transformation Code</th>\n",
       "      <th>Accounting Method</th>\n",
       "      <th>DT_TRANS</th>\n",
       "      <th>Year</th>\n",
       "      <th>Predecessor_Name</th>\n",
       "      <th>Predecessor_Name_Branch</th>\n",
       "      <th>Successor_Name</th>\n",
       "    </tr>\n",
       "  </thead>\n",
       "  <tbody>\n",
       "    <tr>\n",
       "      <th>0</th>\n",
       "      <td>4114567</td>\n",
       "      <td>852218</td>\n",
       "      <td>2023-05-01</td>\n",
       "      <td>Failure</td>\n",
       "      <td>Not Applicable</td>\n",
       "      <td>20230501</td>\n",
       "      <td>2023</td>\n",
       "      <td>FIRST REPUBLIC BANK                           ...</td>\n",
       "      <td>FIRST REPUBLIC BANK                           ...</td>\n",
       "      <td>JPMORGAN CHASE BANK, NATIONAL ASSOCIATION     ...</td>\n",
       "    </tr>\n",
       "    <tr>\n",
       "      <th>1</th>\n",
       "      <td>3179318</td>\n",
       "      <td>852218</td>\n",
       "      <td>2021-12-31</td>\n",
       "      <td>Charter Discontinued</td>\n",
       "      <td>Merger</td>\n",
       "      <td>20211231</td>\n",
       "      <td>2021</td>\n",
       "      <td>ONE MORTGAGE PARTNERS CORP.                   ...</td>\n",
       "      <td>ONE MORTGAGE PARTNERS CORP.                   ...</td>\n",
       "      <td>JPMORGAN CHASE BANK, NATIONAL ASSOCIATION     ...</td>\n",
       "    </tr>\n",
       "    <tr>\n",
       "      <th>2</th>\n",
       "      <td>3118474</td>\n",
       "      <td>852218</td>\n",
       "      <td>2019-10-20</td>\n",
       "      <td>Charter Discontinued</td>\n",
       "      <td>Merger</td>\n",
       "      <td>20191020</td>\n",
       "      <td>2019</td>\n",
       "      <td>J.P. MORGAN TREASURY TECHNOLOGIES CORPORATION ...</td>\n",
       "      <td>J.P. MORGAN TREASURY TECHNOLOGIES CORPORATION ...</td>\n",
       "      <td>JPMORGAN CHASE BANK, NATIONAL ASSOCIATION     ...</td>\n",
       "    </tr>\n",
       "    <tr>\n",
       "      <th>3</th>\n",
       "      <td>489913</td>\n",
       "      <td>852218</td>\n",
       "      <td>2019-05-19</td>\n",
       "      <td>Charter Discontinued</td>\n",
       "      <td>Merger</td>\n",
       "      <td>20190519</td>\n",
       "      <td>2019</td>\n",
       "      <td>CHASE BANK USA, NATIONAL ASSOCIATION          ...</td>\n",
       "      <td>CHASE BANK USA, NATIONAL ASSOCIATION          ...</td>\n",
       "      <td>JPMORGAN CHASE BANK, NATIONAL ASSOCIATION     ...</td>\n",
       "    </tr>\n",
       "    <tr>\n",
       "      <th>4</th>\n",
       "      <td>1451364</td>\n",
       "      <td>852218</td>\n",
       "      <td>2019-05-19</td>\n",
       "      <td>Charter Discontinued</td>\n",
       "      <td>Merger</td>\n",
       "      <td>20190519</td>\n",
       "      <td>2019</td>\n",
       "      <td>CHASE BANKCARD SERVICES, INC.                 ...</td>\n",
       "      <td>CHASE BANKCARD SERVICES, INC.                 ...</td>\n",
       "      <td>JPMORGAN CHASE BANK, NATIONAL ASSOCIATION     ...</td>\n",
       "    </tr>\n",
       "  </tbody>\n",
       "</table>\n",
       "</div>"
      ],
      "text/plain": [
       "   ID_RSSD_PREDECESSOR  ID_RSSD_SUCCESSOR D_DT_TRANS   Transformation Code  \\\n",
       "0              4114567             852218 2023-05-01               Failure   \n",
       "1              3179318             852218 2021-12-31  Charter Discontinued   \n",
       "2              3118474             852218 2019-10-20  Charter Discontinued   \n",
       "3               489913             852218 2019-05-19  Charter Discontinued   \n",
       "4              1451364             852218 2019-05-19  Charter Discontinued   \n",
       "\n",
       "  Accounting Method  DT_TRANS  Year  \\\n",
       "0    Not Applicable  20230501  2023   \n",
       "1            Merger  20211231  2021   \n",
       "2            Merger  20191020  2019   \n",
       "3            Merger  20190519  2019   \n",
       "4            Merger  20190519  2019   \n",
       "\n",
       "                                    Predecessor_Name  \\\n",
       "0  FIRST REPUBLIC BANK                           ...   \n",
       "1  ONE MORTGAGE PARTNERS CORP.                   ...   \n",
       "2  J.P. MORGAN TREASURY TECHNOLOGIES CORPORATION ...   \n",
       "3  CHASE BANK USA, NATIONAL ASSOCIATION          ...   \n",
       "4  CHASE BANKCARD SERVICES, INC.                 ...   \n",
       "\n",
       "                             Predecessor_Name_Branch  \\\n",
       "0  FIRST REPUBLIC BANK                           ...   \n",
       "1  ONE MORTGAGE PARTNERS CORP.                   ...   \n",
       "2  J.P. MORGAN TREASURY TECHNOLOGIES CORPORATION ...   \n",
       "3  CHASE BANK USA, NATIONAL ASSOCIATION          ...   \n",
       "4  CHASE BANKCARD SERVICES, INC.                 ...   \n",
       "\n",
       "                                      Successor_Name  \n",
       "0  JPMORGAN CHASE BANK, NATIONAL ASSOCIATION     ...  \n",
       "1  JPMORGAN CHASE BANK, NATIONAL ASSOCIATION     ...  \n",
       "2  JPMORGAN CHASE BANK, NATIONAL ASSOCIATION     ...  \n",
       "3  JPMORGAN CHASE BANK, NATIONAL ASSOCIATION     ...  \n",
       "4  JPMORGAN CHASE BANK, NATIONAL ASSOCIATION     ...  "
      ]
     },
     "execution_count": 29,
     "metadata": {},
     "output_type": "execute_result"
    }
   ],
   "source": [
    "#Upload the dataframe for Chase that juxtaposes the column of predecessors  that has the branch legal names and the column that does not\n",
    "path_to_branch_tables=r\"file\\path\\transformations.xlsx\"\n",
    "chase_branch_df=pd.read_excel(path_to_branch_tables + '\\\\chase_branch_con.xlsx')\n",
    "chase_branch_df.head()"
   ]
  },
  {
   "cell_type": "code",
   "execution_count": 31,
   "metadata": {},
   "outputs": [
    {
     "data": {
      "text/plain": [
       "['BINGHAMTON BRANCH [CHASE MANHATTAN BANK, THE]',\n",
       " 'GREENWICH OFFICE [GLENS FALLS NATIONAL BANK AND TRUST COMPANY]',\n",
       " 'HILTON BRANCH [MANUFACTURERS AND TRADERS TRUST COMPANY]',\n",
       " '225 SOUTH STREET BRANCH [JPMORGAN CHASE BANK, NATIONAL ASSOCIATION]',\n",
       " 'HEMPSTEAD BRANCH [JPMORGAN CHASE BANK]',\n",
       " 'BROAD STREET DOWNTOWN [JPMORGAN CHASE BANK, NATIONAL ASSOCIATION]',\n",
       " 'NYACK BRANCH [MANUFACTURERS AND TRADERS TRUST COMPANY]',\n",
       " 'CHICAGO MAIN [JPMORGAN CHASE BANK, NATIONAL ASSOCIATION]',\n",
       " '60 WALL STREET BRANCH [JPMORGAN CHASE BANK, NATIONAL ASSOCIATION]',\n",
       " 'PLUM STREET BRANCH [CHASE MANHATTAN BANK, THE]',\n",
       " 'SMITHTOWN BRANCH [JPMORGAN CHASE BANK, NATIONAL ASSOCIATION]',\n",
       " 'KIMBALL JUNCTION BRANCH [JPMORGAN CHASE BANK, NATIONAL ASSOCIATION]',\n",
       " 'CHASE PLAZA [JPMORGAN CHASE BANK, NATIONAL ASSOCIATION]',\n",
       " 'HOUSTON MAIN BRANCH [JPMORGAN CHASE BANK, NATIONAL ASSOCIATION]',\n",
       " '277 PARK AVENUE BRANCH [CHEMICAL BANK]',\n",
       " 'BUFFALO BRANCH [MANUFACTURERS AND TRADERS TRUST COMPANY]']"
      ]
     },
     "execution_count": 31,
     "metadata": {},
     "output_type": "execute_result"
    }
   ],
   "source": [
    "#Create a list of the missing points\n",
    "chase_missing_points=list(set(chase_branch_df['Predecessor_Name_Branch'])-set(chase_branch_df['Predecessor_Name']))\n",
    "chase_missing_points"
   ]
  },
  {
   "cell_type": "code",
   "execution_count": null,
   "metadata": {},
   "outputs": [],
   "source": [
    "# Define the list of branch consolidation entities for the switch filter\n",
    "\n",
    "chase_branch_list=[\n",
    " 'BINGHAMTON BRANCH [CHASE MANHATTAN BANK, THE]',\n",
    " 'GREENWICH OFFICE [GLENS FALLS NATIONAL BANK AND TRUST COMPANY]',\n",
    " 'HILTON BRANCH [MANUFACTURERS AND TRADERS TRUST COMPANY]',\n",
    " '225 SOUTH STREET BRANCH [JPMORGAN CHASE BANK, NATIONAL ASSOCIATION]',\n",
    " 'HEMPSTEAD BRANCH [JPMORGAN CHASE BANK]',\n",
    " 'BROAD STREET DOWNTOWN [JPMORGAN CHASE BANK, NATIONAL ASSOCIATION]',\n",
    " 'NYACK BRANCH [MANUFACTURERS AND TRADERS TRUST COMPANY]',\n",
    " 'CHICAGO MAIN [JPMORGAN CHASE BANK, NATIONAL ASSOCIATION]',\n",
    " '60 WALL STREET BRANCH [JPMORGAN CHASE BANK, NATIONAL ASSOCIATION]',\n",
    " 'PLUM STREET BRANCH [CHASE MANHATTAN BANK, THE]',\n",
    " 'SMITHTOWN BRANCH [JPMORGAN CHASE BANK, NATIONAL ASSOCIATION]',\n",
    " 'KIMBALL JUNCTION BRANCH [JPMORGAN CHASE BANK, NATIONAL ASSOCIATION]',\n",
    " 'CHASE PLAZA [JPMORGAN CHASE BANK, NATIONAL ASSOCIATION]',\n",
    " 'HOUSTON MAIN BRANCH [JPMORGAN CHASE BANK, NATIONAL ASSOCIATION]',\n",
    " '277 PARK AVENUE BRANCH [CHEMICAL BANK]',\n",
    " 'BUFFALO BRANCH [MANUFACTURERS AND TRADERS TRUST COMPANY]'\n",
    "]"
   ]
  },
  {
   "cell_type": "markdown",
   "metadata": {},
   "source": [
    "### 2b) Bank of American dataframe development <a id=\"5\"></a>"
   ]
  },
  {
   "cell_type": "code",
   "execution_count": 56,
   "metadata": {},
   "outputs": [
    {
     "name": "stderr",
     "output_type": "stream",
     "text": [
      "C:\\Users\\16193\\AppData\\Local\\Temp\\ipykernel_3080\\1291295719.py:5: SettingWithCopyWarning:\n",
      "\n",
      "\n",
      "A value is trying to be set on a copy of a slice from a DataFrame.\n",
      "Try using .loc[row_indexer,col_indexer] = value instead\n",
      "\n",
      "See the caveats in the documentation: https://pandas.pydata.org/pandas-docs/stable/user_guide/indexing.html#returning-a-view-versus-a-copy\n",
      "\n"
     ]
    },
    {
     "data": {
      "text/html": [
       "<div>\n",
       "<style scoped>\n",
       "    .dataframe tbody tr th:only-of-type {\n",
       "        vertical-align: middle;\n",
       "    }\n",
       "\n",
       "    .dataframe tbody tr th {\n",
       "        vertical-align: top;\n",
       "    }\n",
       "\n",
       "    .dataframe thead th {\n",
       "        text-align: right;\n",
       "    }\n",
       "</style>\n",
       "<table border=\"1\" class=\"dataframe\">\n",
       "  <thead>\n",
       "    <tr style=\"text-align: right;\">\n",
       "      <th></th>\n",
       "      <th>Column1</th>\n",
       "      <th>ID_RSSD_PREDECESSOR</th>\n",
       "      <th>ID_RSSD_SUCCESSOR</th>\n",
       "      <th>D_DT_TRANS</th>\n",
       "      <th>Transformation Code</th>\n",
       "      <th>Accounting Method</th>\n",
       "      <th>DT_TRANS</th>\n",
       "      <th>Year</th>\n",
       "      <th>Predecessor_Name</th>\n",
       "      <th>Successor_Name</th>\n",
       "    </tr>\n",
       "  </thead>\n",
       "  <tbody>\n",
       "    <tr>\n",
       "      <th>2043</th>\n",
       "      <td>2043</td>\n",
       "      <td>3313943</td>\n",
       "      <td>480228</td>\n",
       "      <td>2020-03-31</td>\n",
       "      <td>Charter Discontinued</td>\n",
       "      <td>Merger</td>\n",
       "      <td>20200331</td>\n",
       "      <td>2020</td>\n",
       "      <td>TAPO CANYON BRANCH [BANK OF AMERICA, NATIONAL ...</td>\n",
       "      <td>Bank of America</td>\n",
       "    </tr>\n",
       "    <tr>\n",
       "      <th>6997</th>\n",
       "      <td>6997</td>\n",
       "      <td>1830035</td>\n",
       "      <td>480228</td>\n",
       "      <td>2014-10-01</td>\n",
       "      <td>Charter Discontinued</td>\n",
       "      <td>Merger</td>\n",
       "      <td>20141001</td>\n",
       "      <td>2014</td>\n",
       "      <td>FIA CARD SERVICES, NATIONAL ASSOCIATION       ...</td>\n",
       "      <td>Bank of America</td>\n",
       "    </tr>\n",
       "    <tr>\n",
       "      <th>8458</th>\n",
       "      <td>8458</td>\n",
       "      <td>2867056</td>\n",
       "      <td>480228</td>\n",
       "      <td>2013-04-01</td>\n",
       "      <td>Charter Discontinued</td>\n",
       "      <td>Merger</td>\n",
       "      <td>20130401</td>\n",
       "      <td>2013</td>\n",
       "      <td>BANK OF AMERICA OREGON, NATIONAL ASSOCIATION  ...</td>\n",
       "      <td>Bank of America</td>\n",
       "    </tr>\n",
       "    <tr>\n",
       "      <th>8462</th>\n",
       "      <td>8462</td>\n",
       "      <td>3344611</td>\n",
       "      <td>480228</td>\n",
       "      <td>2013-04-01</td>\n",
       "      <td>Charter Discontinued</td>\n",
       "      <td>Merger</td>\n",
       "      <td>20130401</td>\n",
       "      <td>2013</td>\n",
       "      <td>BANK OF AMERICA RHODE ISLAND, NATIONAL ASSOCIA...</td>\n",
       "      <td>Bank of America</td>\n",
       "    </tr>\n",
       "    <tr>\n",
       "      <th>10403</th>\n",
       "      <td>10403</td>\n",
       "      <td>2496120</td>\n",
       "      <td>480228</td>\n",
       "      <td>2011-07-01</td>\n",
       "      <td>Charter Discontinued</td>\n",
       "      <td>Merger</td>\n",
       "      <td>20110701</td>\n",
       "      <td>2011</td>\n",
       "      <td>MERRILL LYNCH CREDIT CORPORATION              ...</td>\n",
       "      <td>Bank of America</td>\n",
       "    </tr>\n",
       "  </tbody>\n",
       "</table>\n",
       "</div>"
      ],
      "text/plain": [
       "       Column1  ID_RSSD_PREDECESSOR  ID_RSSD_SUCCESSOR D_DT_TRANS  \\\n",
       "2043      2043              3313943             480228 2020-03-31   \n",
       "6997      6997              1830035             480228 2014-10-01   \n",
       "8458      8458              2867056             480228 2013-04-01   \n",
       "8462      8462              3344611             480228 2013-04-01   \n",
       "10403    10403              2496120             480228 2011-07-01   \n",
       "\n",
       "        Transformation Code Accounting Method  DT_TRANS  Year  \\\n",
       "2043   Charter Discontinued            Merger  20200331  2020   \n",
       "6997   Charter Discontinued            Merger  20141001  2014   \n",
       "8458   Charter Discontinued            Merger  20130401  2013   \n",
       "8462   Charter Discontinued            Merger  20130401  2013   \n",
       "10403  Charter Discontinued            Merger  20110701  2011   \n",
       "\n",
       "                                        Predecessor_Name   Successor_Name  \n",
       "2043   TAPO CANYON BRANCH [BANK OF AMERICA, NATIONAL ...  Bank of America  \n",
       "6997   FIA CARD SERVICES, NATIONAL ASSOCIATION       ...  Bank of America  \n",
       "8458   BANK OF AMERICA OREGON, NATIONAL ASSOCIATION  ...  Bank of America  \n",
       "8462   BANK OF AMERICA RHODE ISLAND, NATIONAL ASSOCIA...  Bank of America  \n",
       "10403  MERRILL LYNCH CREDIT CORPORATION              ...  Bank of America  "
      ]
     },
     "execution_count": 56,
     "metadata": {},
     "output_type": "execute_result"
    }
   ],
   "source": [
    "#Filter the 'transformation_df' dataframe based on the ID_RSSD of Bank of America\n",
    "trans_boa_df=trans_df[trans_df['ID_RSSD_SUCCESSOR']==480228]\n",
    "\n",
    "#Rename the successor to 'Bank of America'\n",
    "trans_boa_df['Successor_Name']='Bank of America'\n",
    "\n",
    "#Display the dataframe for the Bank of America\n",
    "trans_boa_df.head()"
   ]
  },
  {
   "cell_type": "code",
   "execution_count": 57,
   "metadata": {},
   "outputs": [],
   "source": [
    "#Download the 'trans_boa_df' as an excel file for revision\n",
    "path_to_tables = r\"file\\path\\transformations.xlsx\"\n",
    "trans_boa_df.to_excel(path_to_tables + '\\\\trans_boa_df.xlsx', index=False)"
   ]
  },
  {
   "cell_type": "markdown",
   "metadata": {},
   "source": [
    "Create a list of all the legal names of all the branches that were consolidated under Bank of America. "
   ]
  },
  {
   "cell_type": "code",
   "execution_count": 26,
   "metadata": {},
   "outputs": [
    {
     "data": {
      "text/html": [
       "<div>\n",
       "<style scoped>\n",
       "    .dataframe tbody tr th:only-of-type {\n",
       "        vertical-align: middle;\n",
       "    }\n",
       "\n",
       "    .dataframe tbody tr th {\n",
       "        vertical-align: top;\n",
       "    }\n",
       "\n",
       "    .dataframe thead th {\n",
       "        text-align: right;\n",
       "    }\n",
       "</style>\n",
       "<table border=\"1\" class=\"dataframe\">\n",
       "  <thead>\n",
       "    <tr style=\"text-align: right;\">\n",
       "      <th></th>\n",
       "      <th>Column1</th>\n",
       "      <th>ID_RSSD_PREDECESSOR</th>\n",
       "      <th>ID_RSSD_SUCCESSOR</th>\n",
       "      <th>D_DT_TRANS</th>\n",
       "      <th>Transformation Code</th>\n",
       "      <th>Accounting Method</th>\n",
       "      <th>DT_TRANS</th>\n",
       "      <th>Year</th>\n",
       "      <th>Predecessor_Name</th>\n",
       "      <th>Predecessor_Name_Branch</th>\n",
       "      <th>Successor_Name</th>\n",
       "    </tr>\n",
       "  </thead>\n",
       "  <tbody>\n",
       "    <tr>\n",
       "      <th>0</th>\n",
       "      <td>2043</td>\n",
       "      <td>3313943</td>\n",
       "      <td>480228</td>\n",
       "      <td>2020-03-31</td>\n",
       "      <td>Charter Discontinued</td>\n",
       "      <td>Merger</td>\n",
       "      <td>20200331</td>\n",
       "      <td>2020</td>\n",
       "      <td>NaN</td>\n",
       "      <td>TAPO CANYON BRANCH [BANK OF AMERICA, NATIONAL ...</td>\n",
       "      <td>BANK OF AMERICA, NATIONAL ASSOCIATION         ...</td>\n",
       "    </tr>\n",
       "    <tr>\n",
       "      <th>1</th>\n",
       "      <td>6997</td>\n",
       "      <td>1830035</td>\n",
       "      <td>480228</td>\n",
       "      <td>2014-10-01</td>\n",
       "      <td>Charter Discontinued</td>\n",
       "      <td>Merger</td>\n",
       "      <td>20141001</td>\n",
       "      <td>2014</td>\n",
       "      <td>FIA CARD SERVICES, NATIONAL ASSOCIATION       ...</td>\n",
       "      <td>FIA CARD SERVICES, NATIONAL ASSOCIATION       ...</td>\n",
       "      <td>BANK OF AMERICA, NATIONAL ASSOCIATION         ...</td>\n",
       "    </tr>\n",
       "    <tr>\n",
       "      <th>2</th>\n",
       "      <td>8458</td>\n",
       "      <td>2867056</td>\n",
       "      <td>480228</td>\n",
       "      <td>2013-04-01</td>\n",
       "      <td>Charter Discontinued</td>\n",
       "      <td>Merger</td>\n",
       "      <td>20130401</td>\n",
       "      <td>2013</td>\n",
       "      <td>BANK OF AMERICA OREGON, NATIONAL ASSOCIATION  ...</td>\n",
       "      <td>BANK OF AMERICA OREGON, NATIONAL ASSOCIATION  ...</td>\n",
       "      <td>BANK OF AMERICA, NATIONAL ASSOCIATION         ...</td>\n",
       "    </tr>\n",
       "    <tr>\n",
       "      <th>3</th>\n",
       "      <td>8462</td>\n",
       "      <td>3344611</td>\n",
       "      <td>480228</td>\n",
       "      <td>2013-04-01</td>\n",
       "      <td>Charter Discontinued</td>\n",
       "      <td>Merger</td>\n",
       "      <td>20130401</td>\n",
       "      <td>2013</td>\n",
       "      <td>BANK OF AMERICA RHODE ISLAND, NATIONAL ASSOCIA...</td>\n",
       "      <td>BANK OF AMERICA RHODE ISLAND, NATIONAL ASSOCIA...</td>\n",
       "      <td>BANK OF AMERICA, NATIONAL ASSOCIATION         ...</td>\n",
       "    </tr>\n",
       "    <tr>\n",
       "      <th>4</th>\n",
       "      <td>10403</td>\n",
       "      <td>2496120</td>\n",
       "      <td>480228</td>\n",
       "      <td>2011-07-01</td>\n",
       "      <td>Charter Discontinued</td>\n",
       "      <td>Merger</td>\n",
       "      <td>20110701</td>\n",
       "      <td>2011</td>\n",
       "      <td>MERRILL LYNCH CREDIT CORPORATION              ...</td>\n",
       "      <td>MERRILL LYNCH CREDIT CORPORATION              ...</td>\n",
       "      <td>BANK OF AMERICA, NATIONAL ASSOCIATION         ...</td>\n",
       "    </tr>\n",
       "  </tbody>\n",
       "</table>\n",
       "</div>"
      ],
      "text/plain": [
       "   Column1  ID_RSSD_PREDECESSOR  ID_RSSD_SUCCESSOR D_DT_TRANS  \\\n",
       "0     2043              3313943             480228 2020-03-31   \n",
       "1     6997              1830035             480228 2014-10-01   \n",
       "2     8458              2867056             480228 2013-04-01   \n",
       "3     8462              3344611             480228 2013-04-01   \n",
       "4    10403              2496120             480228 2011-07-01   \n",
       "\n",
       "    Transformation Code Accounting Method  DT_TRANS  Year  \\\n",
       "0  Charter Discontinued            Merger  20200331  2020   \n",
       "1  Charter Discontinued            Merger  20141001  2014   \n",
       "2  Charter Discontinued            Merger  20130401  2013   \n",
       "3  Charter Discontinued            Merger  20130401  2013   \n",
       "4  Charter Discontinued            Merger  20110701  2011   \n",
       "\n",
       "                                    Predecessor_Name  \\\n",
       "0                                                NaN   \n",
       "1  FIA CARD SERVICES, NATIONAL ASSOCIATION       ...   \n",
       "2  BANK OF AMERICA OREGON, NATIONAL ASSOCIATION  ...   \n",
       "3  BANK OF AMERICA RHODE ISLAND, NATIONAL ASSOCIA...   \n",
       "4  MERRILL LYNCH CREDIT CORPORATION              ...   \n",
       "\n",
       "                             Predecessor_Name_Branch  \\\n",
       "0  TAPO CANYON BRANCH [BANK OF AMERICA, NATIONAL ...   \n",
       "1  FIA CARD SERVICES, NATIONAL ASSOCIATION       ...   \n",
       "2  BANK OF AMERICA OREGON, NATIONAL ASSOCIATION  ...   \n",
       "3  BANK OF AMERICA RHODE ISLAND, NATIONAL ASSOCIA...   \n",
       "4  MERRILL LYNCH CREDIT CORPORATION              ...   \n",
       "\n",
       "                                      Successor_Name  \n",
       "0  BANK OF AMERICA, NATIONAL ASSOCIATION         ...  \n",
       "1  BANK OF AMERICA, NATIONAL ASSOCIATION         ...  \n",
       "2  BANK OF AMERICA, NATIONAL ASSOCIATION         ...  \n",
       "3  BANK OF AMERICA, NATIONAL ASSOCIATION         ...  \n",
       "4  BANK OF AMERICA, NATIONAL ASSOCIATION         ...  "
      ]
     },
     "execution_count": 26,
     "metadata": {},
     "output_type": "execute_result"
    }
   ],
   "source": [
    "#Upload the dataframe for Bank of America that juxtaposes the column of predecessors  that has the branch legal names and the column that does not\n",
    "path_to_branch_tables=r\"file\\path\\transformations.xlsx\"\n",
    "boa_branch_df=pd.read_excel(path_to_branch_tables + '\\\\boa_branch_con.xlsx')\n",
    "boa_branch_df.head()"
   ]
  },
  {
   "cell_type": "code",
   "execution_count": 27,
   "metadata": {},
   "outputs": [
    {
     "data": {
      "text/plain": [
       "['COLUMBIA DOWNTOWN BRANCH [BANK OF AMERICA, NATIONAL ASSOCIATION]',\n",
       " 'FORT DODGE BRANCH [NORTHWEST BANK]',\n",
       " 'DOWNTOWN JACKSONVILLE BRANCH [BANK OF AMERICA, NATIONAL ASSOCIATION]',\n",
       " 'ASHEVILLE BRANCH [BANK OF AMERICA, NATIONAL ASSOCIATION]',\n",
       " 'NEW YORK BRANCH [BANK OF AMERICA, NATIONAL ASSOCIATION]',\n",
       " 'QUINCY BRANCH [BANK OF AMERICA, NATIONAL ASSOCIATION]',\n",
       " 'PINE BLUFF MAIN BRANCH [BANK OF AMERICA, NATIONAL ASSOCIATION]',\n",
       " 'NORTH AKARD STREET BRANCH [BANK OF AMERICA, NATIONAL ASSOCIATION]',\n",
       " 'SANIBEL BRANCH [BANK OF AMERICA, NATIONAL ASSOCIATION]',\n",
       " 'CAMDEN BRANCH [FARMERS BANK & TRUST COMPANY]',\n",
       " 'HOME OFFICE [RBC CENTURA BANK]',\n",
       " 'BATESVILLE MAIN BRANCH [BANK OF AMERICA, NATIONAL ASSOCIATION]',\n",
       " 'HILLSBORO MAIN BRANCH [FIRST COMMUNITY BANK OF HILLSBORO]',\n",
       " 'FAYETTEVILLE EAST CENTER BRANCH [BANK OF AMERICA, NATIONAL ASSOCIATION]',\n",
       " 'JACKSONVILLE BRANCH [BANK OF AMERICA, NATIONAL ASSOCIATION]',\n",
       " 'MOUNT VERNON MAIN BRANCH [FIRST FINANCIAL BANK, NATIONAL ASSOCIATION]',\n",
       " 'BANK OF AMERICA CENTER TULSA BRANCH [BANK OF AMERICA, NATIONAL ASSOCIATION]',\n",
       " 'RICHMOND CENTER BRANCH [BANK OF AMERICA, NATIONAL ASSOCIATION]',\n",
       " 'LINCOLNTON BRANCH [BANK OF AMERICA, NATIONAL ASSOCIATION]',\n",
       " 'FIELD BUILDING BRANCH, THE [BANK OF AMERICA, NATIONAL ASSOCIATION]',\n",
       " 'MARSHALL MAIN BRANCH [BANK OF AMERICA, NATIONAL ASSOCIATION]',\n",
       " 'BENTON BRANCH PUBLIC SQUARE [FIRST FINANCIAL BANK, NATIONAL ASSOCIATION]',\n",
       " 'SOUTHWEST MISSOURI BRANCH [BANK OF AMERICA, NATIONAL ASSOCIATION]',\n",
       " '114 WEST 47TH STREET BRANCH [BANK OF AMERICA, NATIONAL ASSOCIATION]',\n",
       " 'SKYWALK BRANCH [BANK OF AMERICA, NATIONAL ASSOCIATION]',\n",
       " 'PWM LITTLE ROCK BRANCH [BANK OF AMERICA, NATIONAL ASSOCIATION]',\n",
       " 'ROCK HILL BRANCH [BANK OF AMERICA, NATIONAL ASSOCIATION]',\n",
       " 'ROSWELL MAIN [WASHINGTON FEDERAL, NATIONAL ASSOCIATION]',\n",
       " 'RICHLAND BRANCH [BANK OF AMERICA, NATIONAL ASSOCIATION]',\n",
       " 'HOT SPRINGS MAIN BRANCH [BANK OF AMERICA, NATIONAL ASSOCIATION]',\n",
       " 'WEST PLAINS MAIN BRANCH [BANK OF AMERICA, NATIONAL ASSOCIATION]',\n",
       " 'PWM LASALLE MIDWEST BRANCH [BANK OF AMERICA, NATIONAL ASSOCIATION]',\n",
       " 'DELAWARE AVENUE BRANCH [BANK OF AMERICA, NATIONAL ASSOCIATION]',\n",
       " 'RATON BRANCH [BANK OF AMERICA, NATIONAL ASSOCIATION]',\n",
       " 'TAPO CANYON BRANCH [BANK OF AMERICA, NATIONAL ASSOCIATION]',\n",
       " 'LAS CRUCES BRANCH [BANK OF AMERICA, NATIONAL ASSOCIATION]',\n",
       " 'FARMINGTON BRANCH [BANK OF AMERICA, NATIONAL ASSOCIATION]',\n",
       " 'GLOUCESTER STREET BRANCH [BANK OF AMERICA, NATIONAL ASSOCIATION]',\n",
       " 'RIO ARRIBA MAIN BRANCH [WASHINGTON FEDERAL BANK]',\n",
       " 'SILVER CITY MAIN BRANCH [WASHINGTON FEDERAL BANK]',\n",
       " 'ONE KANSAS CITY PLACE BRANCH [BANK OF AMERICA, NATIONAL ASSOCIATION]',\n",
       " 'SANTA TERESA NM BRANCH [BANK OF AMERICA, NATIONAL ASSOCIATION]',\n",
       " 'CALIFORNIA STREET BRANCH [BANK OF AMERICA, NATIONAL ASSOCIATION]',\n",
       " 'NEWARK FRONT STREET BRANCH [BANK OF AMERICA, NATIONAL ASSOCIATION]',\n",
       " 'ALBUQUERQUE BRANCH [BANK OF AMERICA, NATIONAL ASSOCIATION]',\n",
       " 'SPENCER BRANCH [NORTHWEST BANK]',\n",
       " 'BOATMENS VANDALIA BRANCH [BANK OF AMERICA, NATIONAL ASSOCIATION]',\n",
       " 'SOUTHERN MISSOURI BR [BANK OF AMERICA, NATIONAL ASSOCIATION]',\n",
       " 'CHERRY CREEK BRANCH [BANK OF AMERICA, NATIONAL ASSOCIATION]',\n",
       " 'LEBANON BRANCH [ARVEST BANK]',\n",
       " 'ATLANTA BANK OF AMERICA PLAZA BRANCH [BANK OF AMERICA, NATIONAL ASSOCIATION]',\n",
       " 'SANTA FE BRANCH [BANK OF AMERICA, NATIONAL ASSOCIATION]',\n",
       " 'BOONVILLE BRANCH [FIRST STATE COMMUNITY BANK]',\n",
       " 'RUSSELLVILLE MAIN BRANCH [ARVEST BANK]',\n",
       " 'JONESBORO MAIN BRANCH [BANK OF AMERICA, NATIONAL ASSOCIATION]',\n",
       " 'BULL SHOALS MAIN BRANCH [FIRST SECURITY BANK]',\n",
       " 'HARKRIDER NORTH BRANCH [BANK OF AMERICA, NATIONAL ASSOCIATION]',\n",
       " 'WILLIAM STREET BRANCH [FIRST STATE COMMUNITY BANK]',\n",
       " 'MASON CITY BRANCH [BANK OF AMERICA, NATIONAL ASSOCIATION]',\n",
       " 'MIDTOWN BRANCH [BANK OF AMERICA, NATIONAL ASSOCIATION]',\n",
       " 'RIVER VALLEY BRANCH [BANK OF AMERICA, NATIONAL ASSOCIATION]',\n",
       " 'SAINT LOUIS MAIN BRANCH [BANK OF AMERICA, NATIONAL ASSOCIATION]',\n",
       " 'GALLUP BRANCH [BANK OF AMERICA, NATIONAL ASSOCIATION]',\n",
       " 'KENNEDY PLAZA [BANK OF AMERICA, NATIONAL ASSOCIATION]',\n",
       " 'NEW BERN OFFICE [BANK OF AMERICA, NATIONAL ASSOCIATION]',\n",
       " 'HOBBS MAIN BRANCH [WASHINGTON FEDERAL BANK]',\n",
       " 'BANK OF AMERICA PLAZA BRANCH [BANK OF AMERICA, NATIONAL ASSOCIATION]',\n",
       " 'TROY BRANCH [BANK OF AMERICA, NATIONAL ASSOCIATION]',\n",
       " 'HIGHLANDS BRANCH [BANK OF AMERICA, NATIONAL ASSOCIATION]',\n",
       " 'PLAZA SAN JACINTO BRANCH [BANK OF AMERICA, NATIONAL ASSOCIATION]',\n",
       " 'COLES COUNTY BRANCH [BANK OF AMERICA, NATIONAL ASSOCIATION]',\n",
       " 'HENDERSON OFFICE [NATIONSBANK OF NORTH CAROLINA, NATIONAL ASSOCIATION]',\n",
       " 'CLOVIS BRANCH [BANK OF AMERICA, NATIONAL ASSOCIATION]',\n",
       " 'KENNETT BRANCH [FIRST STATE COMMUNITY BANK]',\n",
       " 'OSAGE BRANCH [BANK OF AMERICA, NATIONAL ASSOCIATION]',\n",
       " 'ROLLA MAIN BRANCH [FIRST STATE COMMUNITY BANK]',\n",
       " 'NASHVILLE MAIN BRANCH [BANK OF AMERICA, NATIONAL ASSOCIATION]',\n",
       " 'SALT LAKE CITY BRANCH [BANK OF AMERICA, NATIONAL ASSOCIATION]',\n",
       " 'MOUNT AIRY OFFICE [FIRST COMMUNITY BANK]']"
      ]
     },
     "execution_count": 27,
     "metadata": {},
     "output_type": "execute_result"
    }
   ],
   "source": [
    "#Create a list of all the missing points in the dataframe\n",
    "boa_missing_points = list(set(boa_branch_df['Predecessor_Name_Branch']) - set(boa_branch_df['Predecessor_Name']))\n",
    "boa_missing_points"
   ]
  },
  {
   "cell_type": "code",
   "execution_count": 28,
   "metadata": {},
   "outputs": [],
   "source": [
    "# Define the list of branch consolidation entities for the switch filter\n",
    "boa_branch_list = [\n",
    " 'COLUMBIA DOWNTOWN BRANCH [BANK OF AMERICA, NATIONAL ASSOCIATION]',\n",
    " 'FORT DODGE BRANCH [NORTHWEST BANK]',\n",
    " 'DOWNTOWN JACKSONVILLE BRANCH [BANK OF AMERICA, NATIONAL ASSOCIATION]',\n",
    " 'ASHEVILLE BRANCH [BANK OF AMERICA, NATIONAL ASSOCIATION]',\n",
    " 'NEW YORK BRANCH [BANK OF AMERICA, NATIONAL ASSOCIATION]',\n",
    " 'QUINCY BRANCH [BANK OF AMERICA, NATIONAL ASSOCIATION]',\n",
    " 'PINE BLUFF MAIN BRANCH [BANK OF AMERICA, NATIONAL ASSOCIATION]',\n",
    " 'NORTH AKARD STREET BRANCH [BANK OF AMERICA, NATIONAL ASSOCIATION]',\n",
    " 'SANIBEL BRANCH [BANK OF AMERICA, NATIONAL ASSOCIATION]',\n",
    " 'CAMDEN BRANCH [FARMERS BANK & TRUST COMPANY]',\n",
    " 'HOME OFFICE [RBC CENTURA BANK]',\n",
    " 'BATESVILLE MAIN BRANCH [BANK OF AMERICA, NATIONAL ASSOCIATION]',\n",
    " 'HILLSBORO MAIN BRANCH [FIRST COMMUNITY BANK OF HILLSBORO]',\n",
    " 'FAYETTEVILLE EAST CENTER BRANCH [BANK OF AMERICA, NATIONAL ASSOCIATION]',\n",
    " 'JACKSONVILLE BRANCH [BANK OF AMERICA, NATIONAL ASSOCIATION]',\n",
    " 'MOUNT VERNON MAIN BRANCH [FIRST FINANCIAL BANK, NATIONAL ASSOCIATION]',\n",
    " 'BANK OF AMERICA CENTER TULSA BRANCH [BANK OF AMERICA, NATIONAL ASSOCIATION]',\n",
    " 'RICHMOND CENTER BRANCH [BANK OF AMERICA, NATIONAL ASSOCIATION]',\n",
    " 'LINCOLNTON BRANCH [BANK OF AMERICA, NATIONAL ASSOCIATION]',\n",
    " 'FIELD BUILDING BRANCH, THE [BANK OF AMERICA, NATIONAL ASSOCIATION]',\n",
    " 'MARSHALL MAIN BRANCH [BANK OF AMERICA, NATIONAL ASSOCIATION]',\n",
    " 'BENTON BRANCH PUBLIC SQUARE [FIRST FINANCIAL BANK, NATIONAL ASSOCIATION]',\n",
    " 'SOUTHWEST MISSOURI BRANCH [BANK OF AMERICA, NATIONAL ASSOCIATION]',\n",
    " '114 WEST 47TH STREET BRANCH [BANK OF AMERICA, NATIONAL ASSOCIATION]',\n",
    " 'SKYWALK BRANCH [BANK OF AMERICA, NATIONAL ASSOCIATION]',\n",
    " 'PWM LITTLE ROCK BRANCH [BANK OF AMERICA, NATIONAL ASSOCIATION]',\n",
    " 'ROCK HILL BRANCH [BANK OF AMERICA, NATIONAL ASSOCIATION]',\n",
    " 'ROSWELL MAIN [WASHINGTON FEDERAL, NATIONAL ASSOCIATION]',\n",
    " 'RICHLAND BRANCH [BANK OF AMERICA, NATIONAL ASSOCIATION]',\n",
    " 'HOT SPRINGS MAIN BRANCH [BANK OF AMERICA, NATIONAL ASSOCIATION]',\n",
    " 'WEST PLAINS MAIN BRANCH [BANK OF AMERICA, NATIONAL ASSOCIATION]',\n",
    " 'PWM LASALLE MIDWEST BRANCH [BANK OF AMERICA, NATIONAL ASSOCIATION]',\n",
    " 'DELAWARE AVENUE BRANCH [BANK OF AMERICA, NATIONAL ASSOCIATION]',\n",
    " 'RATON BRANCH [BANK OF AMERICA, NATIONAL ASSOCIATION]',\n",
    " 'TAPO CANYON BRANCH [BANK OF AMERICA, NATIONAL ASSOCIATION]',\n",
    " 'LAS CRUCES BRANCH [BANK OF AMERICA, NATIONAL ASSOCIATION]',\n",
    " 'FARMINGTON BRANCH [BANK OF AMERICA, NATIONAL ASSOCIATION]',\n",
    " 'GLOUCESTER STREET BRANCH [BANK OF AMERICA, NATIONAL ASSOCIATION]',\n",
    " 'RIO ARRIBA MAIN BRANCH [WASHINGTON FEDERAL BANK]',\n",
    " 'SILVER CITY MAIN BRANCH [WASHINGTON FEDERAL BANK]',\n",
    " 'ONE KANSAS CITY PLACE BRANCH [BANK OF AMERICA, NATIONAL ASSOCIATION]',\n",
    " 'SANTA TERESA NM BRANCH [BANK OF AMERICA, NATIONAL ASSOCIATION]',\n",
    " 'CALIFORNIA STREET BRANCH [BANK OF AMERICA, NATIONAL ASSOCIATION]',\n",
    " 'NEWARK FRONT STREET BRANCH [BANK OF AMERICA, NATIONAL ASSOCIATION]',\n",
    " 'ALBUQUERQUE BRANCH [BANK OF AMERICA, NATIONAL ASSOCIATION]',\n",
    " 'SPENCER BRANCH [NORTHWEST BANK]',\n",
    " 'BOATMENS VANDALIA BRANCH [BANK OF AMERICA, NATIONAL ASSOCIATION]',\n",
    " 'SOUTHERN MISSOURI BR [BANK OF AMERICA, NATIONAL ASSOCIATION]',\n",
    " 'CHERRY CREEK BRANCH [BANK OF AMERICA, NATIONAL ASSOCIATION]',\n",
    " 'LEBANON BRANCH [ARVEST BANK]',\n",
    " 'ATLANTA BANK OF AMERICA PLAZA BRANCH [BANK OF AMERICA, NATIONAL ASSOCIATION]',\n",
    " 'SANTA FE BRANCH [BANK OF AMERICA, NATIONAL ASSOCIATION]',\n",
    " 'BOONVILLE BRANCH [FIRST STATE COMMUNITY BANK]',\n",
    " 'RUSSELLVILLE MAIN BRANCH [ARVEST BANK]',\n",
    " 'JONESBORO MAIN BRANCH [BANK OF AMERICA, NATIONAL ASSOCIATION]',\n",
    " 'BULL SHOALS MAIN BRANCH [FIRST SECURITY BANK]',\n",
    " 'HARKRIDER NORTH BRANCH [BANK OF AMERICA, NATIONAL ASSOCIATION]',\n",
    " 'WILLIAM STREET BRANCH [FIRST STATE COMMUNITY BANK]',\n",
    " 'MASON CITY BRANCH [BANK OF AMERICA, NATIONAL ASSOCIATION]',\n",
    " 'MIDTOWN BRANCH [BANK OF AMERICA, NATIONAL ASSOCIATION]',\n",
    " 'RIVER VALLEY BRANCH [BANK OF AMERICA, NATIONAL ASSOCIATION]',\n",
    " 'SAINT LOUIS MAIN BRANCH [BANK OF AMERICA, NATIONAL ASSOCIATION]',\n",
    " 'GALLUP BRANCH [BANK OF AMERICA, NATIONAL ASSOCIATION]',\n",
    " 'KENNEDY PLAZA [BANK OF AMERICA, NATIONAL ASSOCIATION]',\n",
    " 'NEW BERN OFFICE [BANK OF AMERICA, NATIONAL ASSOCIATION]',\n",
    " 'HOBBS MAIN BRANCH [WASHINGTON FEDERAL BANK]',\n",
    " 'BANK OF AMERICA PLAZA BRANCH [BANK OF AMERICA, NATIONAL ASSOCIATION]',\n",
    " 'TROY BRANCH [BANK OF AMERICA, NATIONAL ASSOCIATION]',\n",
    " 'HIGHLANDS BRANCH [BANK OF AMERICA, NATIONAL ASSOCIATION]',\n",
    " 'PLAZA SAN JACINTO BRANCH [BANK OF AMERICA, NATIONAL ASSOCIATION]',\n",
    " 'COLES COUNTY BRANCH [BANK OF AMERICA, NATIONAL ASSOCIATION]',\n",
    " 'HENDERSON OFFICE [NATIONSBANK OF NORTH CAROLINA, NATIONAL ASSOCIATION]',\n",
    " 'CLOVIS BRANCH [BANK OF AMERICA, NATIONAL ASSOCIATION]',\n",
    " 'KENNETT BRANCH [FIRST STATE COMMUNITY BANK]',\n",
    " 'OSAGE BRANCH [BANK OF AMERICA, NATIONAL ASSOCIATION]',\n",
    " 'ROLLA MAIN BRANCH [FIRST STATE COMMUNITY BANK]',\n",
    " 'NASHVILLE MAIN BRANCH [BANK OF AMERICA, NATIONAL ASSOCIATION]',\n",
    " 'SALT LAKE CITY BRANCH [BANK OF AMERICA, NATIONAL ASSOCIATION]',\n",
    " 'MOUNT AIRY OFFICE [FIRST COMMUNITY BANK]']\n"
   ]
  },
  {
   "cell_type": "markdown",
   "metadata": {},
   "source": [
    "### 2c) Wells Fargo dataframe development <a id=\"6\"></a>"
   ]
  },
  {
   "cell_type": "code",
   "execution_count": 59,
   "metadata": {},
   "outputs": [
    {
     "name": "stderr",
     "output_type": "stream",
     "text": [
      "C:\\Users\\16193\\AppData\\Local\\Temp\\ipykernel_3080\\1479698906.py:5: SettingWithCopyWarning:\n",
      "\n",
      "\n",
      "A value is trying to be set on a copy of a slice from a DataFrame.\n",
      "Try using .loc[row_indexer,col_indexer] = value instead\n",
      "\n",
      "See the caveats in the documentation: https://pandas.pydata.org/pandas-docs/stable/user_guide/indexing.html#returning-a-view-versus-a-copy\n",
      "\n"
     ]
    },
    {
     "data": {
      "text/html": [
       "<div>\n",
       "<style scoped>\n",
       "    .dataframe tbody tr th:only-of-type {\n",
       "        vertical-align: middle;\n",
       "    }\n",
       "\n",
       "    .dataframe tbody tr th {\n",
       "        vertical-align: top;\n",
       "    }\n",
       "\n",
       "    .dataframe thead th {\n",
       "        text-align: right;\n",
       "    }\n",
       "</style>\n",
       "<table border=\"1\" class=\"dataframe\">\n",
       "  <thead>\n",
       "    <tr style=\"text-align: right;\">\n",
       "      <th></th>\n",
       "      <th>Column1</th>\n",
       "      <th>ID_RSSD_PREDECESSOR</th>\n",
       "      <th>ID_RSSD_SUCCESSOR</th>\n",
       "      <th>D_DT_TRANS</th>\n",
       "      <th>Transformation Code</th>\n",
       "      <th>Accounting Method</th>\n",
       "      <th>DT_TRANS</th>\n",
       "      <th>Year</th>\n",
       "      <th>Predecessor_Name</th>\n",
       "      <th>Successor_Name</th>\n",
       "    </tr>\n",
       "  </thead>\n",
       "  <tbody>\n",
       "    <tr>\n",
       "      <th>9503</th>\n",
       "      <td>9503</td>\n",
       "      <td>1027143</td>\n",
       "      <td>451965</td>\n",
       "      <td>2012-02-01</td>\n",
       "      <td>Charter Discontinued</td>\n",
       "      <td>Merger</td>\n",
       "      <td>20120201</td>\n",
       "      <td>2012</td>\n",
       "      <td>WELLS FARGO AUTO FINANCE, LLC                 ...</td>\n",
       "      <td>Wells Fargo</td>\n",
       "    </tr>\n",
       "    <tr>\n",
       "      <th>10341</th>\n",
       "      <td>10341</td>\n",
       "      <td>2575052</td>\n",
       "      <td>451965</td>\n",
       "      <td>2011-07-15</td>\n",
       "      <td>Charter Discontinued</td>\n",
       "      <td>Merger</td>\n",
       "      <td>20110715</td>\n",
       "      <td>2011</td>\n",
       "      <td>FIRST UNION FINANCIAL INVESTMENTS, LLC        ...</td>\n",
       "      <td>Wells Fargo</td>\n",
       "    </tr>\n",
       "    <tr>\n",
       "      <th>10344</th>\n",
       "      <td>10344</td>\n",
       "      <td>3536537</td>\n",
       "      <td>451965</td>\n",
       "      <td>2011-07-15</td>\n",
       "      <td>Charter Discontinued</td>\n",
       "      <td>Merger</td>\n",
       "      <td>20110715</td>\n",
       "      <td>2011</td>\n",
       "      <td>WES HOLDING CORPORATION                       ...</td>\n",
       "      <td>Wells Fargo</td>\n",
       "    </tr>\n",
       "    <tr>\n",
       "      <th>10398</th>\n",
       "      <td>10398</td>\n",
       "      <td>1079544</td>\n",
       "      <td>451965</td>\n",
       "      <td>2011-07-01</td>\n",
       "      <td>Charter Discontinued</td>\n",
       "      <td>Merger</td>\n",
       "      <td>20110701</td>\n",
       "      <td>2011</td>\n",
       "      <td>SOUTHTRUST MORTGAGE CORPORATION               ...</td>\n",
       "      <td>Wells Fargo</td>\n",
       "    </tr>\n",
       "    <tr>\n",
       "      <th>10399</th>\n",
       "      <td>10399</td>\n",
       "      <td>1117660</td>\n",
       "      <td>451965</td>\n",
       "      <td>2011-07-01</td>\n",
       "      <td>Charter Discontinued</td>\n",
       "      <td>Merger</td>\n",
       "      <td>20110701</td>\n",
       "      <td>2011</td>\n",
       "      <td>MERIDIAN MORTGAGE CORPORATION                 ...</td>\n",
       "      <td>Wells Fargo</td>\n",
       "    </tr>\n",
       "  </tbody>\n",
       "</table>\n",
       "</div>"
      ],
      "text/plain": [
       "       Column1  ID_RSSD_PREDECESSOR  ID_RSSD_SUCCESSOR D_DT_TRANS  \\\n",
       "9503      9503              1027143             451965 2012-02-01   \n",
       "10341    10341              2575052             451965 2011-07-15   \n",
       "10344    10344              3536537             451965 2011-07-15   \n",
       "10398    10398              1079544             451965 2011-07-01   \n",
       "10399    10399              1117660             451965 2011-07-01   \n",
       "\n",
       "        Transformation Code Accounting Method  DT_TRANS  Year  \\\n",
       "9503   Charter Discontinued            Merger  20120201  2012   \n",
       "10341  Charter Discontinued            Merger  20110715  2011   \n",
       "10344  Charter Discontinued            Merger  20110715  2011   \n",
       "10398  Charter Discontinued            Merger  20110701  2011   \n",
       "10399  Charter Discontinued            Merger  20110701  2011   \n",
       "\n",
       "                                        Predecessor_Name Successor_Name  \n",
       "9503   WELLS FARGO AUTO FINANCE, LLC                 ...    Wells Fargo  \n",
       "10341  FIRST UNION FINANCIAL INVESTMENTS, LLC        ...    Wells Fargo  \n",
       "10344  WES HOLDING CORPORATION                       ...    Wells Fargo  \n",
       "10398  SOUTHTRUST MORTGAGE CORPORATION               ...    Wells Fargo  \n",
       "10399  MERIDIAN MORTGAGE CORPORATION                 ...    Wells Fargo  "
      ]
     },
     "execution_count": 59,
     "metadata": {},
     "output_type": "execute_result"
    }
   ],
   "source": [
    "#Filter the 'transformation_df' dataframe based on the ID_RSSD of Wells Fargo\n",
    "trans_wf_df=trans_df[trans_df['ID_RSSD_SUCCESSOR']==451965]\n",
    "\n",
    "#Rename the successor to 'Wells Farog'\n",
    "trans_wf_df['Successor_Name']='Wells Fargo'\n",
    "\n",
    "#Display the dataframe for the Bank of America\n",
    "trans_wf_df.head()"
   ]
  },
  {
   "cell_type": "code",
   "execution_count": 60,
   "metadata": {},
   "outputs": [],
   "source": [
    "#Download the 'trans_wf_df' as an excel file for revision\n",
    "path_to_tables = r\"file\\path\\transformations.xlsx\"\n",
    "trans_wf_df.to_excel(path_to_tables + '\\\\trans_wf_df.xlsx', index=False)"
   ]
  },
  {
   "cell_type": "markdown",
   "metadata": {},
   "source": [
    "Create a list of all the legal names of all the branches that were consolidated under Wells Fargo. "
   ]
  },
  {
   "cell_type": "code",
   "execution_count": 39,
   "metadata": {},
   "outputs": [
    {
     "data": {
      "text/html": [
       "<div>\n",
       "<style scoped>\n",
       "    .dataframe tbody tr th:only-of-type {\n",
       "        vertical-align: middle;\n",
       "    }\n",
       "\n",
       "    .dataframe tbody tr th {\n",
       "        vertical-align: top;\n",
       "    }\n",
       "\n",
       "    .dataframe thead th {\n",
       "        text-align: right;\n",
       "    }\n",
       "</style>\n",
       "<table border=\"1\" class=\"dataframe\">\n",
       "  <thead>\n",
       "    <tr style=\"text-align: right;\">\n",
       "      <th></th>\n",
       "      <th>ID_RSSD_PREDECESSOR</th>\n",
       "      <th>ID_RSSD_SUCCESSOR</th>\n",
       "      <th>D_DT_TRANS</th>\n",
       "      <th>Transformation Code</th>\n",
       "      <th>Accounting Method</th>\n",
       "      <th>DT_TRANS</th>\n",
       "      <th>Year</th>\n",
       "      <th>Predecessor_Name</th>\n",
       "      <th>Predecessor_Name_Branch</th>\n",
       "      <th>Successor_Name</th>\n",
       "    </tr>\n",
       "  </thead>\n",
       "  <tbody>\n",
       "    <tr>\n",
       "      <th>0</th>\n",
       "      <td>1027143</td>\n",
       "      <td>451965</td>\n",
       "      <td>2012-02-01</td>\n",
       "      <td>Charter Discontinued</td>\n",
       "      <td>Merger</td>\n",
       "      <td>20120201</td>\n",
       "      <td>2012</td>\n",
       "      <td>WELLS FARGO AUTO FINANCE, LLC                 ...</td>\n",
       "      <td>WELLS FARGO AUTO FINANCE, LLC                 ...</td>\n",
       "      <td>WELLS FARGO BANK, NATIONAL ASSOCIATION        ...</td>\n",
       "    </tr>\n",
       "    <tr>\n",
       "      <th>1</th>\n",
       "      <td>2575052</td>\n",
       "      <td>451965</td>\n",
       "      <td>2011-07-15</td>\n",
       "      <td>Charter Discontinued</td>\n",
       "      <td>Merger</td>\n",
       "      <td>20110715</td>\n",
       "      <td>2011</td>\n",
       "      <td>FIRST UNION FINANCIAL INVESTMENTS, LLC        ...</td>\n",
       "      <td>FIRST UNION FINANCIAL INVESTMENTS, LLC        ...</td>\n",
       "      <td>WELLS FARGO BANK, NATIONAL ASSOCIATION        ...</td>\n",
       "    </tr>\n",
       "    <tr>\n",
       "      <th>2</th>\n",
       "      <td>3536537</td>\n",
       "      <td>451965</td>\n",
       "      <td>2011-07-15</td>\n",
       "      <td>Charter Discontinued</td>\n",
       "      <td>Merger</td>\n",
       "      <td>20110715</td>\n",
       "      <td>2011</td>\n",
       "      <td>WES HOLDING CORPORATION                       ...</td>\n",
       "      <td>WES HOLDING CORPORATION                       ...</td>\n",
       "      <td>WELLS FARGO BANK, NATIONAL ASSOCIATION        ...</td>\n",
       "    </tr>\n",
       "    <tr>\n",
       "      <th>3</th>\n",
       "      <td>1079544</td>\n",
       "      <td>451965</td>\n",
       "      <td>2011-07-01</td>\n",
       "      <td>Charter Discontinued</td>\n",
       "      <td>Merger</td>\n",
       "      <td>20110701</td>\n",
       "      <td>2011</td>\n",
       "      <td>SOUTHTRUST MORTGAGE CORPORATION               ...</td>\n",
       "      <td>SOUTHTRUST MORTGAGE CORPORATION               ...</td>\n",
       "      <td>WELLS FARGO BANK, NATIONAL ASSOCIATION        ...</td>\n",
       "    </tr>\n",
       "    <tr>\n",
       "      <th>4</th>\n",
       "      <td>1117660</td>\n",
       "      <td>451965</td>\n",
       "      <td>2011-07-01</td>\n",
       "      <td>Charter Discontinued</td>\n",
       "      <td>Merger</td>\n",
       "      <td>20110701</td>\n",
       "      <td>2011</td>\n",
       "      <td>MERIDIAN MORTGAGE CORPORATION                 ...</td>\n",
       "      <td>MERIDIAN MORTGAGE CORPORATION                 ...</td>\n",
       "      <td>WELLS FARGO BANK, NATIONAL ASSOCIATION        ...</td>\n",
       "    </tr>\n",
       "  </tbody>\n",
       "</table>\n",
       "</div>"
      ],
      "text/plain": [
       "   ID_RSSD_PREDECESSOR  ID_RSSD_SUCCESSOR D_DT_TRANS   Transformation Code  \\\n",
       "0              1027143             451965 2012-02-01  Charter Discontinued   \n",
       "1              2575052             451965 2011-07-15  Charter Discontinued   \n",
       "2              3536537             451965 2011-07-15  Charter Discontinued   \n",
       "3              1079544             451965 2011-07-01  Charter Discontinued   \n",
       "4              1117660             451965 2011-07-01  Charter Discontinued   \n",
       "\n",
       "  Accounting Method  DT_TRANS  Year  \\\n",
       "0            Merger  20120201  2012   \n",
       "1            Merger  20110715  2011   \n",
       "2            Merger  20110715  2011   \n",
       "3            Merger  20110701  2011   \n",
       "4            Merger  20110701  2011   \n",
       "\n",
       "                                    Predecessor_Name  \\\n",
       "0  WELLS FARGO AUTO FINANCE, LLC                 ...   \n",
       "1  FIRST UNION FINANCIAL INVESTMENTS, LLC        ...   \n",
       "2  WES HOLDING CORPORATION                       ...   \n",
       "3  SOUTHTRUST MORTGAGE CORPORATION               ...   \n",
       "4  MERIDIAN MORTGAGE CORPORATION                 ...   \n",
       "\n",
       "                             Predecessor_Name_Branch  \\\n",
       "0  WELLS FARGO AUTO FINANCE, LLC                 ...   \n",
       "1  FIRST UNION FINANCIAL INVESTMENTS, LLC        ...   \n",
       "2  WES HOLDING CORPORATION                       ...   \n",
       "3  SOUTHTRUST MORTGAGE CORPORATION               ...   \n",
       "4  MERIDIAN MORTGAGE CORPORATION                 ...   \n",
       "\n",
       "                                      Successor_Name  \n",
       "0  WELLS FARGO BANK, NATIONAL ASSOCIATION        ...  \n",
       "1  WELLS FARGO BANK, NATIONAL ASSOCIATION        ...  \n",
       "2  WELLS FARGO BANK, NATIONAL ASSOCIATION        ...  \n",
       "3  WELLS FARGO BANK, NATIONAL ASSOCIATION        ...  \n",
       "4  WELLS FARGO BANK, NATIONAL ASSOCIATION        ...  "
      ]
     },
     "execution_count": 39,
     "metadata": {},
     "output_type": "execute_result"
    }
   ],
   "source": [
    "#Upload the dataframe for Wells Fargo that juxtaposes the column of predecessors  that has the branch legal names and the column that does not\n",
    "path_to_branch_tables=r\"file\\path\\transformations.xlsx\"\n",
    "wf_branch_df=pd.read_excel(path_to_branch_tables + '\\\\wf_branch_con.xlsx')\n",
    "wf_branch_df.head()"
   ]
  },
  {
   "cell_type": "code",
   "execution_count": 40,
   "metadata": {},
   "outputs": [
    {
     "data": {
      "text/plain": [
       "['PAJARO VALLEY BRANCH [WELLS FARGO BANK, NATIONAL ASSOCIATION]',\n",
       " 'BOISE MAIN BRANCH [WELLS FARGO BANK, NATIONAL ASSOCIATION]',\n",
       " 'FARGO MAIN BRANCH [WELLS FARGO BANK, NATIONAL ASSOCIATION]',\n",
       " 'BARRANCA TOWERS BRANCH [WELLS FARGO BANK, NATIONAL ASSOCIATION]',\n",
       " 'SEATTLE MAIN BRANCH [WELLS FARGO BANK, NATIONAL ASSOCIATION]',\n",
       " 'SOLANA BEACH BRANCH [WELLS FARGO BANK, NATIONAL ASSOCIATION]',\n",
       " 'BEVERLY HILLS BRANCH [WELLS FARGO BANK, NATIONAL ASSOCIATION]',\n",
       " 'DOWNTOWN MB BRANCH [WELLS FARGO BANK, NATIONAL ASSOCIATION]',\n",
       " 'MID-PENINSULA BANK MAIN, COWPER BRANCH [WELLS FARGO BANK, NATIONAL ASSOCIATION]',\n",
       " 'DRIGGS BRANCH [WELLS FARGO BANK, NATIONAL ASSOCIATION]',\n",
       " 'PINEDALE BRANCH [WELLS FARGO BANK, NATIONAL ASSOCIATION]',\n",
       " 'SHERIDAN MAIN BRANCH [WELLS FARGO BANK, NATIONAL ASSOCIATION]',\n",
       " 'WELLS FARGO BANK SAN FRANCISCO OFFICE [WELLS FARGO BANK, NATIONAL ASSOCIATION]',\n",
       " 'DENVER MAIN BRANCH [WELLS FARGO BANK, NATIONAL ASSOCIATION]',\n",
       " '5TH & JEFFERSON BRANCH [WELLS FARGO BANK, NATIONAL ASSOCIATION]',\n",
       " 'WELLS FARGO FINANCIAL BANK BRANCH [WELLS FARGO BANK, NATIONAL ASSOCIATION]',\n",
       " 'CANON MAIN BRANCH [WELLS FARGO BANK, NATIONAL ASSOCIATION]',\n",
       " 'NORTHERN LIGHTS & C STREET BRANCH [WELLS FARGO BANK, NATIONAL ASSOCIATION]',\n",
       " 'MESA MALL BRANCH [WELLS FARGO BANK, NATIONAL ASSOCIATION]',\n",
       " 'ANAHEIM BRANCH #3 [WELLS FARGO BANK, NATIONAL ASSOCIATION]',\n",
       " 'VENTURA OFFICE [WELLS FARGO BANK, NATIONAL ASSOCIATION]',\n",
       " 'GLENDALE BRAND OFFICE [WELLS FARGO BANK, NATIONAL ASSOCIATION]',\n",
       " 'PHOENIX MAIN BRANCH [WELLS FARGO BANK, NATIONAL ASSOCIATION]',\n",
       " 'SANTA MARIA BRANCH [WELLS FARGO BANK, NATIONAL ASSOCIATION]',\n",
       " 'TOWER BRANCH [WELLS FARGO BANK, NATIONAL ASSOCIATION]',\n",
       " 'GATEWAY BRANCH [WELLS FARGO BANK, NATIONAL ASSOCIATION]',\n",
       " 'DIXIE FARM ROAD STORE BRANCH [WELLS FARGO BANK, NATIONAL ASSOCIATION]',\n",
       " 'VAN WERT BRANCH [FLAGSTAR BANK, NATIONAL ASSOCIATION]',\n",
       " 'NAPA DOWNTOWN BRANCH [WELLS FARGO BANK, NATIONAL ASSOCIATION]',\n",
       " 'TENTH & SHIPLEY BRANCH [WELLS FARGO BANK, NATIONAL ASSOCIATION]',\n",
       " 'CASPER DOWNTOWN BRANCH [WELLS FARGO BANK, NATIONAL ASSOCIATION]',\n",
       " 'JACKSON TOWN SQUARE BRANCH [WELLS FARGO BANK, NATIONAL ASSOCIATION]',\n",
       " 'OMAHA MAIN BRANCH [WELLS FARGO BANK, NATIONAL ASSOCIATION]',\n",
       " 'FELICITA VILLAGE BRANCH [WELLS FARGO BANK, NATIONAL ASSOCIATION]',\n",
       " 'SANTA CRUZ BRANCH [WELLS FARGO BANK, NATIONAL ASSOCIATION]',\n",
       " 'CENTRAL & WASHINGTON BRANCH [WELLS FARGO BANK, NATIONAL ASSOCIATION]',\n",
       " 'LAS VEGAS TOWER BRANCH [WELLS FARGO BANK, NATIONAL ASSOCIATION]',\n",
       " 'WELLS FARGO CENTER SKYWAY BRANCH [WELLS FARGO BANK, NATIONAL ASSOCIATION]',\n",
       " 'HARBOR BOULEVARD BRANCH [WELLS FARGO BANK, NATIONAL ASSOCIATION]',\n",
       " 'MARQUETTE DOWNTOWN BRANCH [FLAGSTAR BANK, NATIONAL ASSOCIATION]',\n",
       " 'CODY MAIN BRANCH [WELLS FARGO BANK, NATIONAL ASSOCIATION]',\n",
       " 'BILLINGS DOWNTOWN BRANCH [WELLS FARGO BANK, NATIONAL ASSOCIATION]',\n",
       " 'ROGERS SOUTH BRANCH [WELLS FARGO BANK, NATIONAL ASSOCIATION]',\n",
       " 'ORANGE PLAZA BRANCH [WELLS FARGO BANK, NATIONAL ASSOCIATION]',\n",
       " 'SANTA FE MAIN BRANCH [WELLS FARGO BANK, NATIONAL ASSOCIATION]',\n",
       " 'BUENA PARK BRANCH [WELLS FARGO BANK, NATIONAL ASSOCIATION]',\n",
       " 'SAN FRANCISCO MAIN OFFICE [WELLS FARGO BANK, NATIONAL ASSOCIATION]',\n",
       " 'INDIANA CENTER BRANCH [FLAGSTAR BANK, NATIONAL ASSOCIATION]',\n",
       " 'DOWNTOWN AUBURN BRANCH [WELLS FARGO BANK, NATIONAL ASSOCIATION]',\n",
       " 'HOLTVILLE BRANCH [WELLS FARGO BANK, NATIONAL ASSOCIATION]',\n",
       " 'MARKET FINANCIAL BRANCH [WELLS FARGO BANK, NATIONAL ASSOCIATION]',\n",
       " 'MARYSVILLE BRANCH [WELLS FARGO BANK, NATIONAL ASSOCIATION]',\n",
       " 'AZUSA BRANCH [WELLS FARGO BANK, NATIONAL ASSOCIATION]',\n",
       " 'RICHMOND ROAD BRANCH [WELLS FARGO BANK, NATIONAL ASSOCIATION]',\n",
       " 'JACKSON BRANCH [WELLS FARGO BANK, NATIONAL ASSOCIATION]',\n",
       " 'SAN FRANCISCO MAIN BRANCH [WELLS FARGO BANK, NATIONAL ASSOCIATION]',\n",
       " 'COLORADO-ORANGE GROVE BLVD BRANCH [WELLS FARGO BANK, NATIONAL ASSOCIATION]',\n",
       " 'MILWAUKEE MAIN BRANCH [WELLS FARGO BANK, NATIONAL ASSOCIATION]',\n",
       " 'NORTH LAS VEGAS BRANCH [WELLS FARGO BANK, NATIONAL ASSOCIATION]',\n",
       " 'THOUSAND OAKS BRANCH [WELLS FARGO BANK, NATIONAL ASSOCIATION]',\n",
       " 'LOMAS BRANCH [WELLS FARGO BANK, NATIONAL ASSOCIATION]',\n",
       " 'PUEBLO MESSENGER SERVICE BRANCH [WELLS FARGO BANK, NATIONAL ASSOCIATION]',\n",
       " 'SAN LUIS OBISPO BRANCH [WELLS FARGO BANK, NATIONAL ASSOCIATION]',\n",
       " 'GALESBURG BRANCH [WELLS FARGO BANK, NATIONAL ASSOCIATION]',\n",
       " 'PARADISE OFFICE [WELLS FARGO BANK, NATIONAL ASSOCIATION]']"
      ]
     },
     "execution_count": 40,
     "metadata": {},
     "output_type": "execute_result"
    }
   ],
   "source": [
    "#Create a list of teh missing points in the dataframe\n",
    "wf_missing_points=list(set(wf_branch_df['Predecessor_Name_Branch'])-set(wf_branch_df['Predecessor_Name']))\n",
    "wf_missing_points"
   ]
  },
  {
   "cell_type": "code",
   "execution_count": null,
   "metadata": {},
   "outputs": [],
   "source": [
    "# Define the list of branch consolidation entities for the switch filter\n",
    "wf_branch_df=[\n",
    " 'PAJARO VALLEY BRANCH [WELLS FARGO BANK, NATIONAL ASSOCIATION]',\n",
    " 'BOISE MAIN BRANCH [WELLS FARGO BANK, NATIONAL ASSOCIATION]',\n",
    " 'FARGO MAIN BRANCH [WELLS FARGO BANK, NATIONAL ASSOCIATION]',\n",
    " 'BARRANCA TOWERS BRANCH [WELLS FARGO BANK, NATIONAL ASSOCIATION]',\n",
    " 'SEATTLE MAIN BRANCH [WELLS FARGO BANK, NATIONAL ASSOCIATION]',\n",
    " 'SOLANA BEACH BRANCH [WELLS FARGO BANK, NATIONAL ASSOCIATION]',\n",
    " 'BEVERLY HILLS BRANCH [WELLS FARGO BANK, NATIONAL ASSOCIATION]',\n",
    " 'DOWNTOWN MB BRANCH [WELLS FARGO BANK, NATIONAL ASSOCIATION]',\n",
    " 'MID-PENINSULA BANK MAIN, COWPER BRANCH [WELLS FARGO BANK, NATIONAL ASSOCIATION]',\n",
    " 'DRIGGS BRANCH [WELLS FARGO BANK, NATIONAL ASSOCIATION]',\n",
    " 'PINEDALE BRANCH [WELLS FARGO BANK, NATIONAL ASSOCIATION]',\n",
    " 'SHERIDAN MAIN BRANCH [WELLS FARGO BANK, NATIONAL ASSOCIATION]',\n",
    " 'WELLS FARGO BANK SAN FRANCISCO OFFICE [WELLS FARGO BANK, NATIONAL ASSOCIATION]',\n",
    " 'DENVER MAIN BRANCH [WELLS FARGO BANK, NATIONAL ASSOCIATION]',\n",
    " '5TH & JEFFERSON BRANCH [WELLS FARGO BANK, NATIONAL ASSOCIATION]',\n",
    " 'WELLS FARGO FINANCIAL BANK BRANCH [WELLS FARGO BANK, NATIONAL ASSOCIATION]',\n",
    " 'CANON MAIN BRANCH [WELLS FARGO BANK, NATIONAL ASSOCIATION]',\n",
    " 'NORTHERN LIGHTS & C STREET BRANCH [WELLS FARGO BANK, NATIONAL ASSOCIATION]',\n",
    " 'MESA MALL BRANCH [WELLS FARGO BANK, NATIONAL ASSOCIATION]',\n",
    " 'ANAHEIM BRANCH #3 [WELLS FARGO BANK, NATIONAL ASSOCIATION]',\n",
    " 'VENTURA OFFICE [WELLS FARGO BANK, NATIONAL ASSOCIATION]',\n",
    " 'GLENDALE BRAND OFFICE [WELLS FARGO BANK, NATIONAL ASSOCIATION]',\n",
    " 'PHOENIX MAIN BRANCH [WELLS FARGO BANK, NATIONAL ASSOCIATION]',\n",
    " 'SANTA MARIA BRANCH [WELLS FARGO BANK, NATIONAL ASSOCIATION]',\n",
    " 'TOWER BRANCH [WELLS FARGO BANK, NATIONAL ASSOCIATION]',\n",
    " 'GATEWAY BRANCH [WELLS FARGO BANK, NATIONAL ASSOCIATION]',\n",
    " 'DIXIE FARM ROAD STORE BRANCH [WELLS FARGO BANK, NATIONAL ASSOCIATION]',\n",
    " 'VAN WERT BRANCH [FLAGSTAR BANK, NATIONAL ASSOCIATION]',\n",
    " 'NAPA DOWNTOWN BRANCH [WELLS FARGO BANK, NATIONAL ASSOCIATION]',\n",
    " 'TENTH & SHIPLEY BRANCH [WELLS FARGO BANK, NATIONAL ASSOCIATION]',\n",
    " 'CASPER DOWNTOWN BRANCH [WELLS FARGO BANK, NATIONAL ASSOCIATION]',\n",
    " 'JACKSON TOWN SQUARE BRANCH [WELLS FARGO BANK, NATIONAL ASSOCIATION]',\n",
    " 'OMAHA MAIN BRANCH [WELLS FARGO BANK, NATIONAL ASSOCIATION]',\n",
    " 'FELICITA VILLAGE BRANCH [WELLS FARGO BANK, NATIONAL ASSOCIATION]',\n",
    " 'SANTA CRUZ BRANCH [WELLS FARGO BANK, NATIONAL ASSOCIATION]',\n",
    " 'CENTRAL & WASHINGTON BRANCH [WELLS FARGO BANK, NATIONAL ASSOCIATION]',\n",
    " 'LAS VEGAS TOWER BRANCH [WELLS FARGO BANK, NATIONAL ASSOCIATION]',\n",
    " 'WELLS FARGO CENTER SKYWAY BRANCH [WELLS FARGO BANK, NATIONAL ASSOCIATION]',\n",
    " 'HARBOR BOULEVARD BRANCH [WELLS FARGO BANK, NATIONAL ASSOCIATION]',\n",
    " 'MARQUETTE DOWNTOWN BRANCH [FLAGSTAR BANK, NATIONAL ASSOCIATION]',\n",
    " 'CODY MAIN BRANCH [WELLS FARGO BANK, NATIONAL ASSOCIATION]',\n",
    " 'BILLINGS DOWNTOWN BRANCH [WELLS FARGO BANK, NATIONAL ASSOCIATION]',\n",
    " 'ROGERS SOUTH BRANCH [WELLS FARGO BANK, NATIONAL ASSOCIATION]',\n",
    " 'ORANGE PLAZA BRANCH [WELLS FARGO BANK, NATIONAL ASSOCIATION]',\n",
    " 'SANTA FE MAIN BRANCH [WELLS FARGO BANK, NATIONAL ASSOCIATION]',\n",
    " 'BUENA PARK BRANCH [WELLS FARGO BANK, NATIONAL ASSOCIATION]',\n",
    " 'SAN FRANCISCO MAIN OFFICE [WELLS FARGO BANK, NATIONAL ASSOCIATION]',\n",
    " 'INDIANA CENTER BRANCH [FLAGSTAR BANK, NATIONAL ASSOCIATION]',\n",
    " 'DOWNTOWN AUBURN BRANCH [WELLS FARGO BANK, NATIONAL ASSOCIATION]',\n",
    " 'HOLTVILLE BRANCH [WELLS FARGO BANK, NATIONAL ASSOCIATION]',\n",
    " 'MARKET FINANCIAL BRANCH [WELLS FARGO BANK, NATIONAL ASSOCIATION]',\n",
    " 'MARYSVILLE BRANCH [WELLS FARGO BANK, NATIONAL ASSOCIATION]',\n",
    " 'AZUSA BRANCH [WELLS FARGO BANK, NATIONAL ASSOCIATION]',\n",
    " 'RICHMOND ROAD BRANCH [WELLS FARGO BANK, NATIONAL ASSOCIATION]',\n",
    " 'JACKSON BRANCH [WELLS FARGO BANK, NATIONAL ASSOCIATION]',\n",
    " 'SAN FRANCISCO MAIN BRANCH [WELLS FARGO BANK, NATIONAL ASSOCIATION]',\n",
    " 'COLORADO-ORANGE GROVE BLVD BRANCH [WELLS FARGO BANK, NATIONAL ASSOCIATION]',\n",
    " 'MILWAUKEE MAIN BRANCH [WELLS FARGO BANK, NATIONAL ASSOCIATION]',\n",
    " 'NORTH LAS VEGAS BRANCH [WELLS FARGO BANK, NATIONAL ASSOCIATION]',\n",
    " 'THOUSAND OAKS BRANCH [WELLS FARGO BANK, NATIONAL ASSOCIATION]',\n",
    " 'LOMAS BRANCH [WELLS FARGO BANK, NATIONAL ASSOCIATION]',\n",
    " 'PUEBLO MESSENGER SERVICE BRANCH [WELLS FARGO BANK, NATIONAL ASSOCIATION]',\n",
    " 'SAN LUIS OBISPO BRANCH [WELLS FARGO BANK, NATIONAL ASSOCIATION]',\n",
    " 'GALESBURG BRANCH [WELLS FARGO BANK, NATIONAL ASSOCIATION]',\n",
    " 'PARADISE OFFICE [WELLS FARGO BANK, NATIONAL ASSOCIATION]']\n"
   ]
  },
  {
   "cell_type": "markdown",
   "metadata": {},
   "source": [
    "### 2d) Citibank dataframe development <a id=\"7\"></a>\n"
   ]
  },
  {
   "cell_type": "code",
   "execution_count": 61,
   "metadata": {},
   "outputs": [
    {
     "name": "stderr",
     "output_type": "stream",
     "text": [
      "C:\\Users\\16193\\AppData\\Local\\Temp\\ipykernel_3080\\1108738750.py:5: SettingWithCopyWarning:\n",
      "\n",
      "\n",
      "A value is trying to be set on a copy of a slice from a DataFrame.\n",
      "Try using .loc[row_indexer,col_indexer] = value instead\n",
      "\n",
      "See the caveats in the documentation: https://pandas.pydata.org/pandas-docs/stable/user_guide/indexing.html#returning-a-view-versus-a-copy\n",
      "\n"
     ]
    },
    {
     "data": {
      "text/html": [
       "<div>\n",
       "<style scoped>\n",
       "    .dataframe tbody tr th:only-of-type {\n",
       "        vertical-align: middle;\n",
       "    }\n",
       "\n",
       "    .dataframe tbody tr th {\n",
       "        vertical-align: top;\n",
       "    }\n",
       "\n",
       "    .dataframe thead th {\n",
       "        text-align: right;\n",
       "    }\n",
       "</style>\n",
       "<table border=\"1\" class=\"dataframe\">\n",
       "  <thead>\n",
       "    <tr style=\"text-align: right;\">\n",
       "      <th></th>\n",
       "      <th>Column1</th>\n",
       "      <th>ID_RSSD_PREDECESSOR</th>\n",
       "      <th>ID_RSSD_SUCCESSOR</th>\n",
       "      <th>D_DT_TRANS</th>\n",
       "      <th>Transformation Code</th>\n",
       "      <th>Accounting Method</th>\n",
       "      <th>DT_TRANS</th>\n",
       "      <th>Year</th>\n",
       "      <th>Predecessor_Name</th>\n",
       "      <th>Successor_Name</th>\n",
       "    </tr>\n",
       "  </thead>\n",
       "  <tbody>\n",
       "    <tr>\n",
       "      <th>762</th>\n",
       "      <td>762</td>\n",
       "      <td>3382547</td>\n",
       "      <td>476810</td>\n",
       "      <td>2022-07-01</td>\n",
       "      <td>Charter Discontinued</td>\n",
       "      <td>Merger</td>\n",
       "      <td>20220701</td>\n",
       "      <td>2022</td>\n",
       "      <td>DEPARTMENT STORES NATIONAL BANK               ...</td>\n",
       "      <td>Citibank</td>\n",
       "    </tr>\n",
       "    <tr>\n",
       "      <th>9226</th>\n",
       "      <td>9226</td>\n",
       "      <td>3158498</td>\n",
       "      <td>476810</td>\n",
       "      <td>2012-06-19</td>\n",
       "      <td>Charter Discontinued</td>\n",
       "      <td>Merger</td>\n",
       "      <td>20120619</td>\n",
       "      <td>2012</td>\n",
       "      <td>CAL FED HOLDINGS, INC.                        ...</td>\n",
       "      <td>Citibank</td>\n",
       "    </tr>\n",
       "    <tr>\n",
       "      <th>9563</th>\n",
       "      <td>9563</td>\n",
       "      <td>374112</td>\n",
       "      <td>476810</td>\n",
       "      <td>2012-01-01</td>\n",
       "      <td>Charter Discontinued</td>\n",
       "      <td>Merger</td>\n",
       "      <td>20120101</td>\n",
       "      <td>2012</td>\n",
       "      <td>CITICORP TRUST BANK, FSB                      ...</td>\n",
       "      <td>Citibank</td>\n",
       "    </tr>\n",
       "    <tr>\n",
       "      <th>10382</th>\n",
       "      <td>10382</td>\n",
       "      <td>486752</td>\n",
       "      <td>476810</td>\n",
       "      <td>2011-07-01</td>\n",
       "      <td>Charter Discontinued</td>\n",
       "      <td>Merger</td>\n",
       "      <td>20110701</td>\n",
       "      <td>2011</td>\n",
       "      <td>CITIBANK (SOUTH DAKOTA), NATIONAL ASSOCIATION ...</td>\n",
       "      <td>Citibank</td>\n",
       "    </tr>\n",
       "    <tr>\n",
       "      <th>14892</th>\n",
       "      <td>14892</td>\n",
       "      <td>545538</td>\n",
       "      <td>476810</td>\n",
       "      <td>2007-01-01</td>\n",
       "      <td>Charter Discontinued</td>\n",
       "      <td>Merger</td>\n",
       "      <td>20070101</td>\n",
       "      <td>2007</td>\n",
       "      <td>CITIBANK INTERNATIONAL                        ...</td>\n",
       "      <td>Citibank</td>\n",
       "    </tr>\n",
       "  </tbody>\n",
       "</table>\n",
       "</div>"
      ],
      "text/plain": [
       "       Column1  ID_RSSD_PREDECESSOR  ID_RSSD_SUCCESSOR D_DT_TRANS  \\\n",
       "762        762              3382547             476810 2022-07-01   \n",
       "9226      9226              3158498             476810 2012-06-19   \n",
       "9563      9563               374112             476810 2012-01-01   \n",
       "10382    10382               486752             476810 2011-07-01   \n",
       "14892    14892               545538             476810 2007-01-01   \n",
       "\n",
       "        Transformation Code Accounting Method  DT_TRANS  Year  \\\n",
       "762    Charter Discontinued            Merger  20220701  2022   \n",
       "9226   Charter Discontinued            Merger  20120619  2012   \n",
       "9563   Charter Discontinued            Merger  20120101  2012   \n",
       "10382  Charter Discontinued            Merger  20110701  2011   \n",
       "14892  Charter Discontinued            Merger  20070101  2007   \n",
       "\n",
       "                                        Predecessor_Name Successor_Name  \n",
       "762    DEPARTMENT STORES NATIONAL BANK               ...       Citibank  \n",
       "9226   CAL FED HOLDINGS, INC.                        ...       Citibank  \n",
       "9563   CITICORP TRUST BANK, FSB                      ...       Citibank  \n",
       "10382  CITIBANK (SOUTH DAKOTA), NATIONAL ASSOCIATION ...       Citibank  \n",
       "14892  CITIBANK INTERNATIONAL                        ...       Citibank  "
      ]
     },
     "execution_count": 61,
     "metadata": {},
     "output_type": "execute_result"
    }
   ],
   "source": [
    "#Filter the 'transformation_df' dataframe based on the ID_RSSD of Citibank\n",
    "trans_cb_df=trans_df[trans_df['ID_RSSD_SUCCESSOR']==476810]\n",
    "\n",
    "#Rename the successor to 'Citibank'\n",
    "trans_cb_df['Successor_Name']='Citibank'\n",
    "\n",
    "#Display the dataframe for the Citibank\n",
    "trans_cb_df.head()"
   ]
  },
  {
   "cell_type": "code",
   "execution_count": 62,
   "metadata": {},
   "outputs": [],
   "source": [
    "#Now let's download the 'trans_cb_df' as an excel file for revision\n",
    "path_to_tables = r\"file\\path\\transformations.xlsx\"\n",
    "trans_cb_df.to_excel(path_to_tables + '\\\\trans_cb_df.xlsx', index=False)\n"
   ]
  },
  {
   "cell_type": "markdown",
   "metadata": {},
   "source": [
    "Create a list of all the legal names of all the branches that were consolidated under Bank of America. "
   ]
  },
  {
   "cell_type": "code",
   "execution_count": 41,
   "metadata": {},
   "outputs": [
    {
     "data": {
      "text/html": [
       "<div>\n",
       "<style scoped>\n",
       "    .dataframe tbody tr th:only-of-type {\n",
       "        vertical-align: middle;\n",
       "    }\n",
       "\n",
       "    .dataframe tbody tr th {\n",
       "        vertical-align: top;\n",
       "    }\n",
       "\n",
       "    .dataframe thead th {\n",
       "        text-align: right;\n",
       "    }\n",
       "</style>\n",
       "<table border=\"1\" class=\"dataframe\">\n",
       "  <thead>\n",
       "    <tr style=\"text-align: right;\">\n",
       "      <th></th>\n",
       "      <th>ID_RSSD_PREDECESSOR</th>\n",
       "      <th>ID_RSSD_SUCCESSOR</th>\n",
       "      <th>D_DT_TRANS</th>\n",
       "      <th>Transformation Code</th>\n",
       "      <th>Accounting Method</th>\n",
       "      <th>DT_TRANS</th>\n",
       "      <th>Year</th>\n",
       "      <th>Predecessor_Name</th>\n",
       "      <th>Predecessor_Name_Branch</th>\n",
       "      <th>Successor_Name</th>\n",
       "    </tr>\n",
       "  </thead>\n",
       "  <tbody>\n",
       "    <tr>\n",
       "      <th>0</th>\n",
       "      <td>3382547</td>\n",
       "      <td>476810</td>\n",
       "      <td>2022-07-01</td>\n",
       "      <td>Charter Discontinued</td>\n",
       "      <td>Merger</td>\n",
       "      <td>20220701</td>\n",
       "      <td>2022</td>\n",
       "      <td>DEPARTMENT STORES NATIONAL BANK               ...</td>\n",
       "      <td>DEPARTMENT STORES NATIONAL BANK               ...</td>\n",
       "      <td>CITIBANK, N.A.                                ...</td>\n",
       "    </tr>\n",
       "    <tr>\n",
       "      <th>1</th>\n",
       "      <td>3158498</td>\n",
       "      <td>476810</td>\n",
       "      <td>2012-06-19</td>\n",
       "      <td>Charter Discontinued</td>\n",
       "      <td>Merger</td>\n",
       "      <td>20120619</td>\n",
       "      <td>2012</td>\n",
       "      <td>CAL FED HOLDINGS, INC.                        ...</td>\n",
       "      <td>CAL FED HOLDINGS, INC.                        ...</td>\n",
       "      <td>CITIBANK, N.A.                                ...</td>\n",
       "    </tr>\n",
       "    <tr>\n",
       "      <th>2</th>\n",
       "      <td>374112</td>\n",
       "      <td>476810</td>\n",
       "      <td>2012-01-01</td>\n",
       "      <td>Charter Discontinued</td>\n",
       "      <td>Merger</td>\n",
       "      <td>20120101</td>\n",
       "      <td>2012</td>\n",
       "      <td>CITICORP TRUST BANK, FSB                      ...</td>\n",
       "      <td>CITICORP TRUST BANK, FSB                      ...</td>\n",
       "      <td>CITIBANK, N.A.                                ...</td>\n",
       "    </tr>\n",
       "    <tr>\n",
       "      <th>3</th>\n",
       "      <td>486752</td>\n",
       "      <td>476810</td>\n",
       "      <td>2011-07-01</td>\n",
       "      <td>Charter Discontinued</td>\n",
       "      <td>Merger</td>\n",
       "      <td>20110701</td>\n",
       "      <td>2011</td>\n",
       "      <td>CITIBANK (SOUTH DAKOTA), NATIONAL ASSOCIATION ...</td>\n",
       "      <td>CITIBANK (SOUTH DAKOTA), NATIONAL ASSOCIATION ...</td>\n",
       "      <td>CITIBANK, N.A.                                ...</td>\n",
       "    </tr>\n",
       "    <tr>\n",
       "      <th>4</th>\n",
       "      <td>545538</td>\n",
       "      <td>476810</td>\n",
       "      <td>2007-01-01</td>\n",
       "      <td>Charter Discontinued</td>\n",
       "      <td>Merger</td>\n",
       "      <td>20070101</td>\n",
       "      <td>2007</td>\n",
       "      <td>CITIBANK INTERNATIONAL                        ...</td>\n",
       "      <td>CITIBANK INTERNATIONAL                        ...</td>\n",
       "      <td>CITIBANK, N.A.                                ...</td>\n",
       "    </tr>\n",
       "  </tbody>\n",
       "</table>\n",
       "</div>"
      ],
      "text/plain": [
       "   ID_RSSD_PREDECESSOR  ID_RSSD_SUCCESSOR D_DT_TRANS   Transformation Code  \\\n",
       "0              3382547             476810 2022-07-01  Charter Discontinued   \n",
       "1              3158498             476810 2012-06-19  Charter Discontinued   \n",
       "2               374112             476810 2012-01-01  Charter Discontinued   \n",
       "3               486752             476810 2011-07-01  Charter Discontinued   \n",
       "4               545538             476810 2007-01-01  Charter Discontinued   \n",
       "\n",
       "  Accounting Method  DT_TRANS  Year  \\\n",
       "0            Merger  20220701  2022   \n",
       "1            Merger  20120619  2012   \n",
       "2            Merger  20120101  2012   \n",
       "3            Merger  20110701  2011   \n",
       "4            Merger  20070101  2007   \n",
       "\n",
       "                                    Predecessor_Name  \\\n",
       "0  DEPARTMENT STORES NATIONAL BANK               ...   \n",
       "1  CAL FED HOLDINGS, INC.                        ...   \n",
       "2  CITICORP TRUST BANK, FSB                      ...   \n",
       "3  CITIBANK (SOUTH DAKOTA), NATIONAL ASSOCIATION ...   \n",
       "4  CITIBANK INTERNATIONAL                        ...   \n",
       "\n",
       "                             Predecessor_Name_Branch  \\\n",
       "0  DEPARTMENT STORES NATIONAL BANK               ...   \n",
       "1  CAL FED HOLDINGS, INC.                        ...   \n",
       "2  CITICORP TRUST BANK, FSB                      ...   \n",
       "3  CITIBANK (SOUTH DAKOTA), NATIONAL ASSOCIATION ...   \n",
       "4  CITIBANK INTERNATIONAL                        ...   \n",
       "\n",
       "                                      Successor_Name  \n",
       "0  CITIBANK, N.A.                                ...  \n",
       "1  CITIBANK, N.A.                                ...  \n",
       "2  CITIBANK, N.A.                                ...  \n",
       "3  CITIBANK, N.A.                                ...  \n",
       "4  CITIBANK, N.A.                                ...  "
      ]
     },
     "execution_count": 41,
     "metadata": {},
     "output_type": "execute_result"
    }
   ],
   "source": [
    "#Upload the dataframe for Chase that juxtaposes the column of predecessors  that has the branch legal names and the column that does not\n",
    "path_to_branch_tables=r\"file\\path\\transformations.xlsx\"\n",
    "cb_branch_df=pd.read_excel(path_to_branch_tables + '\\\\cb_branch_con.xlsx')\n",
    "cb_branch_df.head()"
   ]
  },
  {
   "cell_type": "code",
   "execution_count": 42,
   "metadata": {},
   "outputs": [
    {
     "data": {
      "text/plain": [
       "['RESTON BRANCH [CITIBANK, N.A.]',\n",
       " 'PORT RICHMOND BR [CITIBANK, N.A.]',\n",
       " 'NEW CASTLE BRANCH [CITIBANK, N.A.]',\n",
       " 'LA MAIN BRANCH [CITIBANK, N.A.]',\n",
       " 'CENTRAL VALLEY BRANCH [HUDSON UNITED BANK]',\n",
       " '120 BROADWAY BRANCH [CITIBANK, N.A.]',\n",
       " 'LINCOLN PARK BRANCH [CITIBANK, N.A.]',\n",
       " '99 GARNSEY BRANCH [CITIBANK, N.A.]',\n",
       " 'BAY SHORE BRANCH [CITIBANK, N.A.]',\n",
       " 'SAN FRANCISCO BRANCH [CITIBANK, N.A.]']"
      ]
     },
     "execution_count": 42,
     "metadata": {},
     "output_type": "execute_result"
    }
   ],
   "source": [
    "#Create a list of the missing points\n",
    "cb_missing_points=list(set(cb_branch_df['Predecessor_Name_Branch'])-set(cb_branch_df['Predecessor_Name']))\n",
    "cb_missing_points"
   ]
  },
  {
   "cell_type": "code",
   "execution_count": null,
   "metadata": {},
   "outputs": [],
   "source": [
    "# Define the list of branch consolidation entities for the switch filter\n",
    "\n",
    "chase_branch_list=[\n",
    "    'RESTON BRANCH [CITIBANK, N.A.]',\n",
    " 'PORT RICHMOND BR [CITIBANK, N.A.]',\n",
    " 'NEW CASTLE BRANCH [CITIBANK, N.A.]',\n",
    " 'LA MAIN BRANCH [CITIBANK, N.A.]',\n",
    " 'CENTRAL VALLEY BRANCH [HUDSON UNITED BANK]',\n",
    " '120 BROADWAY BRANCH [CITIBANK, N.A.]',\n",
    " 'LINCOLN PARK BRANCH [CITIBANK, N.A.]',\n",
    " '99 GARNSEY BRANCH [CITIBANK, N.A.]',\n",
    " 'BAY SHORE BRANCH [CITIBANK, N.A.]',\n",
    " 'SAN FRANCISCO BRANCH [CITIBANK, N.A.]']\n"
   ]
  },
  {
   "cell_type": "markdown",
   "metadata": {},
   "source": [
    "## 3) M&A Network Plot Development <a id=\"8\"></a>\n",
    "\n",
    "Our nework plot displays all the history of mergers, acquisitions and branch/subisiriary consolidations for each of the Big Four Banks starting in the 1960's until the lastest available data"
   ]
  },
  {
   "cell_type": "markdown",
   "metadata": {},
   "source": [
    "### 3a) Network plot for Chase <a id=\"9\"></a>"
   ]
  },
  {
   "cell_type": "code",
   "execution_count": 64,
   "metadata": {},
   "outputs": [
    {
     "data": {
      "application/vnd.plotly.v1+json": {
       "config": {
        "plotlyServerURL": "https://plotly.com"
       },
       "data": [
        {
         "hoverinfo": "none",
         "line": {
          "color": "#888",
          "width": 0.5
         },
         "mode": "lines",
         "type": "scatter",
         "x": [
          2023,
          2024,
          null,
          2021,
          2024,
          null,
          2019,
          2024,
          null,
          2019,
          2024,
          null,
          2019,
          2024,
          null,
          2019,
          2024,
          null,
          2015,
          2024,
          null,
          2011,
          2024,
          null,
          2011,
          2024,
          null,
          2011,
          2024,
          null,
          2011,
          2024,
          null,
          2011,
          2024,
          null,
          2011,
          2024,
          null,
          2010,
          2024,
          null,
          2009,
          2024,
          null,
          2009,
          2024,
          null,
          2008,
          2024,
          null,
          2008,
          2024,
          null,
          2008,
          2024,
          null,
          2007,
          2024,
          null,
          2006,
          2024,
          null,
          2006,
          2024,
          null,
          2005,
          2024,
          null,
          2004,
          2024,
          null,
          2004,
          2024,
          null,
          2001,
          2024,
          null,
          2001,
          2024,
          null,
          2001,
          2024,
          null,
          2000,
          2024,
          null,
          1999,
          2024,
          null,
          1998,
          2024,
          null,
          1996,
          2024,
          null,
          1996,
          2024,
          null,
          1993,
          2024,
          null,
          1992,
          2024,
          null,
          1992,
          2024,
          null,
          1992,
          2024,
          null,
          1991,
          2024,
          null,
          1991,
          2024,
          null,
          1978,
          2024,
          null,
          1978,
          2024,
          null,
          1978,
          2024,
          null,
          1978,
          2024,
          null,
          1978,
          2024,
          null,
          1977,
          2024,
          null,
          1975,
          2024,
          null,
          1975,
          2024,
          null,
          1964,
          2024,
          null,
          1964,
          2024,
          null,
          1963,
          2024,
          null
         ],
         "y": [
          0,
          25,
          null,
          1,
          25,
          null,
          2,
          25,
          null,
          3,
          25,
          null,
          4,
          25,
          null,
          5,
          25,
          null,
          6,
          25,
          null,
          7,
          25,
          null,
          8,
          25,
          null,
          9,
          25,
          null,
          10,
          25,
          null,
          11,
          25,
          null,
          12,
          25,
          null,
          13,
          25,
          null,
          14,
          25,
          null,
          15,
          25,
          null,
          16,
          25,
          null,
          17,
          25,
          null,
          18,
          25,
          null,
          19,
          25,
          null,
          20,
          25,
          null,
          21,
          25,
          null,
          22,
          25,
          null,
          23,
          25,
          null,
          24,
          25,
          null,
          25,
          25,
          null,
          26,
          25,
          null,
          27,
          25,
          null,
          28,
          25,
          null,
          29,
          25,
          null,
          30,
          25,
          null,
          31,
          25,
          null,
          32,
          25,
          null,
          33,
          25,
          null,
          34,
          25,
          null,
          35,
          25,
          null,
          36,
          25,
          null,
          37,
          25,
          null,
          38,
          25,
          null,
          39,
          25,
          null,
          40,
          25,
          null,
          41,
          25,
          null,
          42,
          25,
          null,
          43,
          25,
          null,
          44,
          25,
          null,
          45,
          25,
          null,
          46,
          25,
          null,
          47,
          25,
          null,
          48,
          25,
          null,
          49,
          25,
          null
         ]
        },
        {
         "hoverinfo": "text",
         "marker": {
          "color": "#0D5EAF",
          "line": {
           "width": 2
          },
          "size": 10
         },
         "mode": "markers",
         "text": [
          "FIRST REPUBLIC BANK                                                                                                     <br>Year: 2023<br>Transformation Code: Failure<br>Accounting Method: Not Applicable",
          "ONE MORTGAGE PARTNERS CORP.                                                                                             <br>Year: 2021<br>Transformation Code: Charter Discontinued<br>Accounting Method: Merger",
          "J.P. MORGAN TREASURY TECHNOLOGIES CORPORATION                                                                           <br>Year: 2019<br>Transformation Code: Charter Discontinued<br>Accounting Method: Merger",
          "CHASE BANK USA, NATIONAL ASSOCIATION                                                                                    <br>Year: 2019<br>Transformation Code: Charter Discontinued<br>Accounting Method: Merger",
          "CHASE BANKCARD SERVICES, INC.                                                                                           <br>Year: 2019<br>Transformation Code: Charter Discontinued<br>Accounting Method: Merger",
          "BLOOMSPOT, INC.                                                                                                         <br>Year: 2019<br>Transformation Code: Charter Discontinued<br>Accounting Method: Merger",
          "JPMORGAN BANK AND TRUST COMPANY, NATIONAL ASSOCIATION                                                                   <br>Year: 2015<br>Transformation Code: Charter Discontinued<br>Accounting Method: Merger",
          "CUSTODIAL TRUST COMPANY                                                                                                 <br>Year: 2011<br>Transformation Code: Charter Discontinued<br>Accounting Method: Merger",
          "CHASE AUTO FINANCE CORP.                                                                                                <br>Year: 2011<br>Transformation Code: Charter Discontinued<br>Accounting Method: Merger",
          "J.P. MORGAN INVESTOR SERVICES CO.                                                                                       <br>Year: 2011<br>Transformation Code: Charter Discontinued<br>Accounting Method: Merger",
          "CHASE EQUIPMENT FINANCE, INC.                                                                                           <br>Year: 2011<br>Transformation Code: Charter Discontinued<br>Accounting Method: Merger",
          "CHASE HOME FINANCE INC.                                                                                                 <br>Year: 2011<br>Transformation Code: Charter Discontinued<br>Accounting Method: Merger",
          "CHASE HOME FINANCE LLC                                                                                                  <br>Year: 2011<br>Transformation Code: Charter Discontinued<br>Accounting Method: Merger",
          "BANC ONE NATIONAL PROCESSING CORPORATION                                                                                <br>Year: 2010<br>Transformation Code: Charter Discontinued<br>Accounting Method: Merger",
          "BEAR STEARNS FOREX INC.                                                                                                 <br>Year: 2009<br>Transformation Code: Charter Discontinued<br>Accounting Method: Merger",
          "BEAR STEARNS FINANCIAL PRODUCTS INC.                                                                                    <br>Year: 2009<br>Transformation Code: Charter Discontinued<br>Accounting Method: Merger",
          "WASHINGTON MUTUAL BANK                                                                                                  <br>Year: 2008<br>Transformation Code: Failure<br>Accounting Method: Not Applicable",
          "KIMBALL JUNCTION BRANCH [JPMORGAN CHASE BANK, NATIONAL ASSOCIATION]<br>Year: 2008<br>Transformation Code: Charter Discontinued<br>Accounting Method: Purchase/Acquisition",
          "J.P. MORGAN TRUST COMPANY, NATIONAL ASSOCIATION                                                                         <br>Year: 2008<br>Transformation Code: Charter Discontinued<br>Accounting Method: Merger",
          "LIBERTY PAYMENT SERVICES, INC.                                                                                          <br>Year: 2007<br>Transformation Code: Charter Discontinued<br>Accounting Method: Merger",
          "BANK ONE TRUST COMPANY, NATIONAL ASSOCIATION                                                                            <br>Year: 2006<br>Transformation Code: Charter Discontinued<br>Accounting Method: Merger",
          "BANC ONE FINANCIAL SERVICES, INC.                                                                                       <br>Year: 2006<br>Transformation Code: Charter Discontinued<br>Accounting Method: Merger",
          "BANC ONE MANAGEMENT CORPORATION                                                                                         <br>Year: 2005<br>Transformation Code: Charter Discontinued<br>Accounting Method: Merger",
          "CHICAGO MAIN [JPMORGAN CHASE BANK, NATIONAL ASSOCIATION]<br>Year: 2004<br>Transformation Code: Charter Discontinued<br>Accounting Method: Merger",
          "BROAD STREET DOWNTOWN [JPMORGAN CHASE BANK, NATIONAL ASSOCIATION]<br>Year: 2004<br>Transformation Code: Charter Discontinued<br>Accounting Method: Merger",
          "WHITKATH INC.                                                                                                           <br>Year: 2001<br>Transformation Code: Charter Discontinued<br>Accounting Method: Merger",
          "60 WALL STREET BRANCH [JPMORGAN CHASE BANK, NATIONAL ASSOCIATION]<br>Year: 2001<br>Transformation Code: Charter Discontinued<br>Accounting Method: Merger",
          "CHASE BANK OF TEXAS-SAN ANGELO, NATIONAL ASSOCIATION                                                                    <br>Year: 2001<br>Transformation Code: Charter Discontinued<br>Accounting Method: Merger",
          "HOUSTON MAIN BRANCH [JPMORGAN CHASE BANK, NATIONAL ASSOCIATION]<br>Year: 2000<br>Transformation Code: Charter Discontinued<br>Accounting Method: Merger",
          "TEXAS COMMERCE TRUST COMPANY OF NEW YORK                                                                                <br>Year: 1999<br>Transformation Code: Charter Discontinued<br>Accounting Method: Merger",
          "MORGAN STANLEY TRUST COMPANY                                                                                            <br>Year: 1998<br>Transformation Code: Charter Discontinued<br>Accounting Method: Purchase/Acquisition",
          "225 SOUTH STREET BRANCH [JPMORGAN CHASE BANK, NATIONAL ASSOCIATION]<br>Year: 1996<br>Transformation Code: Charter Discontinued<br>Accounting Method: Merger",
          "CHASE PLAZA [JPMORGAN CHASE BANK, NATIONAL ASSOCIATION]<br>Year: 1996<br>Transformation Code: Charter Discontinued<br>Accounting Method: Merger",
          "TEXAS COMMERCE BANKS                                                                                                    <br>Year: 1993<br>Transformation Code: Charter Discontinued<br>Accounting Method: Not Applicable",
          "277 PARK AVENUE BRANCH [CHEMICAL BANK]<br>Year: 1992<br>Transformation Code: Charter Discontinued<br>Accounting Method: Not Applicable",
          "CENTRAL FEDERAL SAVINGS BANK                                                                                            <br>Year: 1992<br>Transformation Code: Failure<br>Accounting Method: Not Applicable",
          "CHEMICAL BANK DELAWARE                                                                                                  <br>Year: 1992<br>Transformation Code: Charter Discontinued<br>Accounting Method: Not Applicable",
          "COMMUNITY NATIONAL BANK AND TRUST COMPANY OF NEW YORK                                                                   <br>Year: 1991<br>Transformation Code: Failure<br>Accounting Method: Not Applicable",
          "ENSIGN FEDERAL SAVINGS BANK                                                                                             <br>Year: 1991<br>Transformation Code: Failure<br>Accounting Method: Not Applicable",
          "BINGHAMTON BRANCH [CHASE MANHATTAN BANK, THE]<br>Year: 1978<br>Transformation Code: Charter Discontinued<br>Accounting Method: Not Applicable",
          "BUFFALO BRANCH [MANUFACTURERS AND TRADERS TRUST COMPANY]<br>Year: 1978<br>Transformation Code: Charter Discontinued<br>Accounting Method: Not Applicable",
          "HILTON BRANCH [MANUFACTURERS AND TRADERS TRUST COMPANY]<br>Year: 1978<br>Transformation Code: Charter Discontinued<br>Accounting Method: Not Applicable",
          "PLUM STREET BRANCH [CHASE MANHATTAN BANK, THE]<br>Year: 1978<br>Transformation Code: Charter Discontinued<br>Accounting Method: Not Applicable",
          "GREENWICH OFFICE [GLENS FALLS NATIONAL BANK AND TRUST COMPANY]<br>Year: 1978<br>Transformation Code: Charter Discontinued<br>Accounting Method: Not Applicable",
          "NYACK BRANCH [MANUFACTURERS AND TRADERS TRUST COMPANY]<br>Year: 1977<br>Transformation Code: Charter Discontinued<br>Accounting Method: Not Applicable",
          "SMITHTOWN BRANCH [JPMORGAN CHASE BANK, NATIONAL ASSOCIATION]<br>Year: 1975<br>Transformation Code: Charter Discontinued<br>Accounting Method: Not Applicable",
          "HEMPSTEAD BRANCH [JPMORGAN CHASE BANK]<br>Year: 1975<br>Transformation Code: Charter Discontinued<br>Accounting Method: Not Applicable",
          "FIRST NATIONAL BANK OF VERNON                                                                                           <br>Year: 1964<br>Transformation Code: Charter Discontinued<br>Accounting Method: Not Applicable",
          "BENSONHURST NB OF BROOKLYN                                                                                              <br>Year: 1964<br>Transformation Code: Charter Discontinued<br>Accounting Method: Not Applicable",
          "BANK OF ROCKVILLE CENTRE TRUST                                                                                          <br>Year: 1963<br>Transformation Code: Charter Discontinued<br>Accounting Method: Not Applicable",
          "Chase<br>Year: N/A<br>Transformation Code: N/A<br>Accounting Method: N/A"
         ],
         "type": "scatter",
         "x": [
          2023,
          2021,
          2019,
          2019,
          2019,
          2019,
          2015,
          2011,
          2011,
          2011,
          2011,
          2011,
          2011,
          2010,
          2009,
          2009,
          2008,
          2008,
          2008,
          2007,
          2006,
          2006,
          2005,
          2004,
          2004,
          2001,
          2001,
          2001,
          2000,
          1999,
          1998,
          1996,
          1996,
          1993,
          1992,
          1992,
          1992,
          1991,
          1991,
          1978,
          1978,
          1978,
          1978,
          1978,
          1977,
          1975,
          1975,
          1964,
          1964,
          1963,
          2024
         ],
         "y": [
          0,
          1,
          2,
          3,
          4,
          5,
          6,
          7,
          8,
          9,
          10,
          11,
          12,
          13,
          14,
          15,
          16,
          17,
          18,
          19,
          20,
          21,
          22,
          23,
          24,
          25,
          26,
          27,
          28,
          29,
          30,
          31,
          32,
          33,
          34,
          35,
          36,
          37,
          38,
          39,
          40,
          41,
          42,
          43,
          44,
          45,
          46,
          47,
          48,
          49,
          25
         ]
        }
       ],
       "layout": {
        "hovermode": "y unified",
        "margin": {
         "b": 20,
         "l": 5,
         "r": 5,
         "t": 40
        },
        "showlegend": false,
        "template": {
         "data": {
          "bar": [
           {
            "error_x": {
             "color": "#f2f5fa"
            },
            "error_y": {
             "color": "#f2f5fa"
            },
            "marker": {
             "line": {
              "color": "rgb(17,17,17)",
              "width": 0.5
             },
             "pattern": {
              "fillmode": "overlay",
              "size": 10,
              "solidity": 0.2
             }
            },
            "type": "bar"
           }
          ],
          "barpolar": [
           {
            "marker": {
             "line": {
              "color": "rgb(17,17,17)",
              "width": 0.5
             },
             "pattern": {
              "fillmode": "overlay",
              "size": 10,
              "solidity": 0.2
             }
            },
            "type": "barpolar"
           }
          ],
          "carpet": [
           {
            "aaxis": {
             "endlinecolor": "#A2B1C6",
             "gridcolor": "#506784",
             "linecolor": "#506784",
             "minorgridcolor": "#506784",
             "startlinecolor": "#A2B1C6"
            },
            "baxis": {
             "endlinecolor": "#A2B1C6",
             "gridcolor": "#506784",
             "linecolor": "#506784",
             "minorgridcolor": "#506784",
             "startlinecolor": "#A2B1C6"
            },
            "type": "carpet"
           }
          ],
          "choropleth": [
           {
            "colorbar": {
             "outlinewidth": 0,
             "ticks": ""
            },
            "type": "choropleth"
           }
          ],
          "contour": [
           {
            "colorbar": {
             "outlinewidth": 0,
             "ticks": ""
            },
            "colorscale": [
             [
              0,
              "#0d0887"
             ],
             [
              0.1111111111111111,
              "#46039f"
             ],
             [
              0.2222222222222222,
              "#7201a8"
             ],
             [
              0.3333333333333333,
              "#9c179e"
             ],
             [
              0.4444444444444444,
              "#bd3786"
             ],
             [
              0.5555555555555556,
              "#d8576b"
             ],
             [
              0.6666666666666666,
              "#ed7953"
             ],
             [
              0.7777777777777778,
              "#fb9f3a"
             ],
             [
              0.8888888888888888,
              "#fdca26"
             ],
             [
              1,
              "#f0f921"
             ]
            ],
            "type": "contour"
           }
          ],
          "contourcarpet": [
           {
            "colorbar": {
             "outlinewidth": 0,
             "ticks": ""
            },
            "type": "contourcarpet"
           }
          ],
          "heatmap": [
           {
            "colorbar": {
             "outlinewidth": 0,
             "ticks": ""
            },
            "colorscale": [
             [
              0,
              "#0d0887"
             ],
             [
              0.1111111111111111,
              "#46039f"
             ],
             [
              0.2222222222222222,
              "#7201a8"
             ],
             [
              0.3333333333333333,
              "#9c179e"
             ],
             [
              0.4444444444444444,
              "#bd3786"
             ],
             [
              0.5555555555555556,
              "#d8576b"
             ],
             [
              0.6666666666666666,
              "#ed7953"
             ],
             [
              0.7777777777777778,
              "#fb9f3a"
             ],
             [
              0.8888888888888888,
              "#fdca26"
             ],
             [
              1,
              "#f0f921"
             ]
            ],
            "type": "heatmap"
           }
          ],
          "heatmapgl": [
           {
            "colorbar": {
             "outlinewidth": 0,
             "ticks": ""
            },
            "colorscale": [
             [
              0,
              "#0d0887"
             ],
             [
              0.1111111111111111,
              "#46039f"
             ],
             [
              0.2222222222222222,
              "#7201a8"
             ],
             [
              0.3333333333333333,
              "#9c179e"
             ],
             [
              0.4444444444444444,
              "#bd3786"
             ],
             [
              0.5555555555555556,
              "#d8576b"
             ],
             [
              0.6666666666666666,
              "#ed7953"
             ],
             [
              0.7777777777777778,
              "#fb9f3a"
             ],
             [
              0.8888888888888888,
              "#fdca26"
             ],
             [
              1,
              "#f0f921"
             ]
            ],
            "type": "heatmapgl"
           }
          ],
          "histogram": [
           {
            "marker": {
             "pattern": {
              "fillmode": "overlay",
              "size": 10,
              "solidity": 0.2
             }
            },
            "type": "histogram"
           }
          ],
          "histogram2d": [
           {
            "colorbar": {
             "outlinewidth": 0,
             "ticks": ""
            },
            "colorscale": [
             [
              0,
              "#0d0887"
             ],
             [
              0.1111111111111111,
              "#46039f"
             ],
             [
              0.2222222222222222,
              "#7201a8"
             ],
             [
              0.3333333333333333,
              "#9c179e"
             ],
             [
              0.4444444444444444,
              "#bd3786"
             ],
             [
              0.5555555555555556,
              "#d8576b"
             ],
             [
              0.6666666666666666,
              "#ed7953"
             ],
             [
              0.7777777777777778,
              "#fb9f3a"
             ],
             [
              0.8888888888888888,
              "#fdca26"
             ],
             [
              1,
              "#f0f921"
             ]
            ],
            "type": "histogram2d"
           }
          ],
          "histogram2dcontour": [
           {
            "colorbar": {
             "outlinewidth": 0,
             "ticks": ""
            },
            "colorscale": [
             [
              0,
              "#0d0887"
             ],
             [
              0.1111111111111111,
              "#46039f"
             ],
             [
              0.2222222222222222,
              "#7201a8"
             ],
             [
              0.3333333333333333,
              "#9c179e"
             ],
             [
              0.4444444444444444,
              "#bd3786"
             ],
             [
              0.5555555555555556,
              "#d8576b"
             ],
             [
              0.6666666666666666,
              "#ed7953"
             ],
             [
              0.7777777777777778,
              "#fb9f3a"
             ],
             [
              0.8888888888888888,
              "#fdca26"
             ],
             [
              1,
              "#f0f921"
             ]
            ],
            "type": "histogram2dcontour"
           }
          ],
          "mesh3d": [
           {
            "colorbar": {
             "outlinewidth": 0,
             "ticks": ""
            },
            "type": "mesh3d"
           }
          ],
          "parcoords": [
           {
            "line": {
             "colorbar": {
              "outlinewidth": 0,
              "ticks": ""
             }
            },
            "type": "parcoords"
           }
          ],
          "pie": [
           {
            "automargin": true,
            "type": "pie"
           }
          ],
          "scatter": [
           {
            "marker": {
             "line": {
              "color": "#283442"
             }
            },
            "type": "scatter"
           }
          ],
          "scatter3d": [
           {
            "line": {
             "colorbar": {
              "outlinewidth": 0,
              "ticks": ""
             }
            },
            "marker": {
             "colorbar": {
              "outlinewidth": 0,
              "ticks": ""
             }
            },
            "type": "scatter3d"
           }
          ],
          "scattercarpet": [
           {
            "marker": {
             "colorbar": {
              "outlinewidth": 0,
              "ticks": ""
             }
            },
            "type": "scattercarpet"
           }
          ],
          "scattergeo": [
           {
            "marker": {
             "colorbar": {
              "outlinewidth": 0,
              "ticks": ""
             }
            },
            "type": "scattergeo"
           }
          ],
          "scattergl": [
           {
            "marker": {
             "line": {
              "color": "#283442"
             }
            },
            "type": "scattergl"
           }
          ],
          "scattermapbox": [
           {
            "marker": {
             "colorbar": {
              "outlinewidth": 0,
              "ticks": ""
             }
            },
            "type": "scattermapbox"
           }
          ],
          "scatterpolar": [
           {
            "marker": {
             "colorbar": {
              "outlinewidth": 0,
              "ticks": ""
             }
            },
            "type": "scatterpolar"
           }
          ],
          "scatterpolargl": [
           {
            "marker": {
             "colorbar": {
              "outlinewidth": 0,
              "ticks": ""
             }
            },
            "type": "scatterpolargl"
           }
          ],
          "scatterternary": [
           {
            "marker": {
             "colorbar": {
              "outlinewidth": 0,
              "ticks": ""
             }
            },
            "type": "scatterternary"
           }
          ],
          "surface": [
           {
            "colorbar": {
             "outlinewidth": 0,
             "ticks": ""
            },
            "colorscale": [
             [
              0,
              "#0d0887"
             ],
             [
              0.1111111111111111,
              "#46039f"
             ],
             [
              0.2222222222222222,
              "#7201a8"
             ],
             [
              0.3333333333333333,
              "#9c179e"
             ],
             [
              0.4444444444444444,
              "#bd3786"
             ],
             [
              0.5555555555555556,
              "#d8576b"
             ],
             [
              0.6666666666666666,
              "#ed7953"
             ],
             [
              0.7777777777777778,
              "#fb9f3a"
             ],
             [
              0.8888888888888888,
              "#fdca26"
             ],
             [
              1,
              "#f0f921"
             ]
            ],
            "type": "surface"
           }
          ],
          "table": [
           {
            "cells": {
             "fill": {
              "color": "#506784"
             },
             "line": {
              "color": "rgb(17,17,17)"
             }
            },
            "header": {
             "fill": {
              "color": "#2a3f5f"
             },
             "line": {
              "color": "rgb(17,17,17)"
             }
            },
            "type": "table"
           }
          ]
         },
         "layout": {
          "annotationdefaults": {
           "arrowcolor": "#f2f5fa",
           "arrowhead": 0,
           "arrowwidth": 1
          },
          "autotypenumbers": "strict",
          "coloraxis": {
           "colorbar": {
            "outlinewidth": 0,
            "ticks": ""
           }
          },
          "colorscale": {
           "diverging": [
            [
             0,
             "#8e0152"
            ],
            [
             0.1,
             "#c51b7d"
            ],
            [
             0.2,
             "#de77ae"
            ],
            [
             0.3,
             "#f1b6da"
            ],
            [
             0.4,
             "#fde0ef"
            ],
            [
             0.5,
             "#f7f7f7"
            ],
            [
             0.6,
             "#e6f5d0"
            ],
            [
             0.7,
             "#b8e186"
            ],
            [
             0.8,
             "#7fbc41"
            ],
            [
             0.9,
             "#4d9221"
            ],
            [
             1,
             "#276419"
            ]
           ],
           "sequential": [
            [
             0,
             "#0d0887"
            ],
            [
             0.1111111111111111,
             "#46039f"
            ],
            [
             0.2222222222222222,
             "#7201a8"
            ],
            [
             0.3333333333333333,
             "#9c179e"
            ],
            [
             0.4444444444444444,
             "#bd3786"
            ],
            [
             0.5555555555555556,
             "#d8576b"
            ],
            [
             0.6666666666666666,
             "#ed7953"
            ],
            [
             0.7777777777777778,
             "#fb9f3a"
            ],
            [
             0.8888888888888888,
             "#fdca26"
            ],
            [
             1,
             "#f0f921"
            ]
           ],
           "sequentialminus": [
            [
             0,
             "#0d0887"
            ],
            [
             0.1111111111111111,
             "#46039f"
            ],
            [
             0.2222222222222222,
             "#7201a8"
            ],
            [
             0.3333333333333333,
             "#9c179e"
            ],
            [
             0.4444444444444444,
             "#bd3786"
            ],
            [
             0.5555555555555556,
             "#d8576b"
            ],
            [
             0.6666666666666666,
             "#ed7953"
            ],
            [
             0.7777777777777778,
             "#fb9f3a"
            ],
            [
             0.8888888888888888,
             "#fdca26"
            ],
            [
             1,
             "#f0f921"
            ]
           ]
          },
          "colorway": [
           "#636efa",
           "#EF553B",
           "#00cc96",
           "#ab63fa",
           "#FFA15A",
           "#19d3f3",
           "#FF6692",
           "#B6E880",
           "#FF97FF",
           "#FECB52"
          ],
          "font": {
           "color": "#f2f5fa"
          },
          "geo": {
           "bgcolor": "rgb(17,17,17)",
           "lakecolor": "rgb(17,17,17)",
           "landcolor": "rgb(17,17,17)",
           "showlakes": true,
           "showland": true,
           "subunitcolor": "#506784"
          },
          "hoverlabel": {
           "align": "left"
          },
          "hovermode": "closest",
          "mapbox": {
           "style": "dark"
          },
          "paper_bgcolor": "rgb(17,17,17)",
          "plot_bgcolor": "rgb(17,17,17)",
          "polar": {
           "angularaxis": {
            "gridcolor": "#506784",
            "linecolor": "#506784",
            "ticks": ""
           },
           "bgcolor": "rgb(17,17,17)",
           "radialaxis": {
            "gridcolor": "#506784",
            "linecolor": "#506784",
            "ticks": ""
           }
          },
          "scene": {
           "xaxis": {
            "backgroundcolor": "rgb(17,17,17)",
            "gridcolor": "#506784",
            "gridwidth": 2,
            "linecolor": "#506784",
            "showbackground": true,
            "ticks": "",
            "zerolinecolor": "#C8D4E3"
           },
           "yaxis": {
            "backgroundcolor": "rgb(17,17,17)",
            "gridcolor": "#506784",
            "gridwidth": 2,
            "linecolor": "#506784",
            "showbackground": true,
            "ticks": "",
            "zerolinecolor": "#C8D4E3"
           },
           "zaxis": {
            "backgroundcolor": "rgb(17,17,17)",
            "gridcolor": "#506784",
            "gridwidth": 2,
            "linecolor": "#506784",
            "showbackground": true,
            "ticks": "",
            "zerolinecolor": "#C8D4E3"
           }
          },
          "shapedefaults": {
           "line": {
            "color": "#f2f5fa"
           }
          },
          "sliderdefaults": {
           "bgcolor": "#C8D4E3",
           "bordercolor": "rgb(17,17,17)",
           "borderwidth": 1,
           "tickwidth": 0
          },
          "ternary": {
           "aaxis": {
            "gridcolor": "#506784",
            "linecolor": "#506784",
            "ticks": ""
           },
           "baxis": {
            "gridcolor": "#506784",
            "linecolor": "#506784",
            "ticks": ""
           },
           "bgcolor": "rgb(17,17,17)",
           "caxis": {
            "gridcolor": "#506784",
            "linecolor": "#506784",
            "ticks": ""
           }
          },
          "title": {
           "x": 0.05
          },
          "updatemenudefaults": {
           "bgcolor": "#506784",
           "borderwidth": 0
          },
          "xaxis": {
           "automargin": true,
           "gridcolor": "#283442",
           "linecolor": "#506784",
           "ticks": "",
           "title": {
            "standoff": 15
           },
           "zerolinecolor": "#283442",
           "zerolinewidth": 2
          },
          "yaxis": {
           "automargin": true,
           "gridcolor": "#283442",
           "linecolor": "#506784",
           "ticks": "",
           "title": {
            "standoff": 15
           },
           "zerolinecolor": "#283442",
           "zerolinewidth": 2
          }
         }
        },
        "title": {
         "font": {
          "size": 16
         },
         "text": "Network of Chase Acquisitions and Mergers"
        },
        "xaxis": {
         "title": {
          "text": "Year of Transformation"
         }
        },
        "yaxis": {
         "showgrid": false,
         "showticklabels": false,
         "zeroline": false
        }
       }
      }
     },
     "metadata": {},
     "output_type": "display_data"
    }
   ],
   "source": [
    "# Create a directed graph\n",
    "G = nx.DiGraph()\n",
    "\n",
    "# Define node positions based on the 'Year'\n",
    "pos = {}\n",
    "year_min = trans_chase_df['Year'].min()\n",
    "year_max = trans_chase_df['Year'].max()\n",
    "y_pos = 0\n",
    "\n",
    "for _, row in trans_chase_df.iterrows():\n",
    "    G.add_node(row['Predecessor_Name'], \n",
    "               year=row['Year'], \n",
    "               trsfm_cd=row['Transformation Code'], \n",
    "               acct_method=row['Accounting Method'])\n",
    "    pos[row['Predecessor_Name']] = (row['Year'], y_pos)\n",
    "    y_pos += 1\n",
    "\n",
    "G.add_node('Chase')\n",
    "pos['Chase'] = (year_max + 1, y_pos / 2)  # Position Chase at the end\n",
    "\n",
    "# Add edges from predecessors to 'Chase'\n",
    "for _, row in trans_chase_df.iterrows():\n",
    "    G.add_edge(row['Predecessor_Name'], row['Successor_Name'])\n",
    "\n",
    "# Create edge trace for plotly\n",
    "edge_x = []\n",
    "edge_y = []\n",
    "for edge in G.edges():\n",
    "    x0, y0 = pos[edge[0]]\n",
    "    x1, y1 = pos[edge[1]]\n",
    "    edge_x.extend([x0, x1, None])\n",
    "    edge_y.extend([y0, y1, None])\n",
    "\n",
    "edge_trace = go.Scatter(\n",
    "    x=edge_x, y=edge_y,\n",
    "    line=dict(width=0.5, color='#888'),\n",
    "    hoverinfo='none',\n",
    "    mode='lines')\n",
    "\n",
    "# Create node trace\n",
    "node_x = [pos[node][0] for node in G.nodes()]\n",
    "node_y = [pos[node][1] for node in G.nodes()]\n",
    "node_text = []\n",
    "for node in G.nodes():\n",
    "    year = G.nodes[node].get('year', 'N/A')\n",
    "    trsfm_cd = G.nodes[node].get('trsfm_cd', 'N/A')\n",
    "    acct_method = G.nodes[node].get('acct_method', 'N/A')\n",
    "    node_info = f'{node}<br>Year: {year}<br>Transformation Code: {trsfm_cd}<br>Accounting Method: {acct_method}'\n",
    "    node_text.append(node_info)\n",
    "\n",
    "node_trace = go.Scatter(\n",
    "    x=node_x, y=node_y,\n",
    "    mode='markers',\n",
    "    hoverinfo='text',\n",
    "    text=node_text,\n",
    "    marker=dict(\n",
    "        size=10,\n",
    "        line_width=2,color='#0D5EAF'))\n",
    "\n",
    "# Create the figure for plotting\n",
    "fig_chase = go.Figure(data=[edge_trace, node_trace],\n",
    "             layout=go.Layout(\n",
    "                title='Network of Chase Acquisitions and Mergers',\n",
    "                titlefont_size=16,\n",
    "                showlegend=False,\n",
    "                hovermode='y unified',\n",
    "                xaxis=dict(title='Year of Transformation'),\n",
    "                yaxis=dict(showgrid=False, zeroline=False, showticklabels=False),\n",
    "                margin=dict(b=20,l=5,r=5,t=40)) # Set margins to add a title and adjust the plot size. 'b' is the bottom margin, 'l' is the left margin, 'r' is the right margin, and 't' is the top margin.\n",
    "                )\n",
    "\n",
    "#Add dark theme\n",
    "fig_chase.update_layout(template='plotly_dark')\n",
    "\n",
    "fig_chase.show()"
   ]
  },
  {
   "cell_type": "markdown",
   "metadata": {},
   "source": [
    "### 3b) Network plot for Bank of America <a id=\"10\"></a>"
   ]
  },
  {
   "cell_type": "code",
   "execution_count": 66,
   "metadata": {},
   "outputs": [
    {
     "data": {
      "application/vnd.plotly.v1+json": {
       "config": {
        "plotlyServerURL": "https://plotly.com"
       },
       "data": [
        {
         "hoverinfo": "none",
         "line": {
          "color": "#888",
          "width": 0.5
         },
         "mode": "lines",
         "type": "scatter",
         "x": [
          2020,
          2021,
          null,
          2014,
          2021,
          null,
          2013,
          2021,
          null,
          2013,
          2021,
          null,
          2011,
          2021,
          null,
          2011,
          2021,
          null,
          2010,
          2021,
          null,
          2009,
          2021,
          null,
          2009,
          2021,
          null,
          2009,
          2021,
          null,
          2008,
          2021,
          null,
          2008,
          2021,
          null,
          2008,
          2021,
          null,
          2008,
          2021,
          null,
          2008,
          2021,
          null,
          2006,
          2021,
          null,
          2005,
          2021,
          null,
          2004,
          2021,
          null,
          2003,
          2021,
          null,
          2003,
          2021,
          null,
          2003,
          2021,
          null,
          2003,
          2021,
          null,
          2003,
          2021,
          null,
          2001,
          2021,
          null,
          1999,
          2021,
          null,
          1999,
          2021,
          null,
          1999,
          2021,
          null,
          1998,
          2021,
          null,
          1998,
          2021,
          null,
          1998,
          2021,
          null,
          1998,
          2021,
          null,
          1998,
          2021,
          null,
          1998,
          2021,
          null,
          1998,
          2021,
          null,
          1998,
          2021,
          null,
          1998,
          2021,
          null,
          1998,
          2021,
          null,
          1998,
          2021,
          null,
          1998,
          2021,
          null,
          1997,
          2021,
          null,
          1997,
          2021,
          null,
          1997,
          2021,
          null,
          1997,
          2021,
          null,
          1997,
          2021,
          null,
          1997,
          2021,
          null,
          1997,
          2021,
          null,
          1997,
          2021,
          null,
          1997,
          2021,
          null,
          1997,
          2021,
          null,
          1997,
          2021,
          null,
          1997,
          2021,
          null,
          1997,
          2021,
          null,
          1997,
          2021,
          null,
          1997,
          2021,
          null,
          1997,
          2021,
          null,
          1997,
          2021,
          null,
          1997,
          2021,
          null,
          1997,
          2021,
          null,
          1997,
          2021,
          null,
          1997,
          2021,
          null,
          1997,
          2021,
          null,
          1997,
          2021,
          null,
          1997,
          2021,
          null,
          1997,
          2021,
          null,
          1997,
          2021,
          null,
          1997,
          2021,
          null,
          1997,
          2021,
          null,
          1997,
          2021,
          null,
          1997,
          2021,
          null,
          1997,
          2021,
          null,
          1997,
          2021,
          null,
          1997,
          2021,
          null,
          1997,
          2021,
          null,
          1997,
          2021,
          null,
          1997,
          2021,
          null,
          1997,
          2021,
          null,
          1997,
          2021,
          null,
          1997,
          2021,
          null,
          1997,
          2021,
          null,
          1997,
          2021,
          null,
          1997,
          2021,
          null,
          1997,
          2021,
          null,
          1997,
          2021,
          null,
          1997,
          2021,
          null,
          1997,
          2021,
          null,
          1997,
          2021,
          null,
          1997,
          2021,
          null,
          1997,
          2021,
          null,
          1997,
          2021,
          null,
          1997,
          2021,
          null,
          1996,
          2021,
          null,
          1995,
          2021,
          null,
          1995,
          2021,
          null,
          1993,
          2021,
          null,
          1990,
          2021,
          null,
          1989,
          2021,
          null,
          1982,
          2021,
          null,
          1981,
          2021,
          null,
          1979,
          2021,
          null,
          1974,
          2021,
          null,
          1973,
          2021,
          null,
          1972,
          2021,
          null,
          1972,
          2021,
          null,
          1972,
          2021,
          null,
          1972,
          2021,
          null,
          1971,
          2021,
          null,
          1970,
          2021,
          null,
          1970,
          2021,
          null,
          1969,
          2021,
          null,
          1967,
          2021,
          null,
          1965,
          2021,
          null,
          1963,
          2021,
          null,
          1962,
          2021,
          null,
          1962,
          2021,
          null,
          1961,
          2021,
          null,
          1960,
          2021,
          null,
          1960,
          2021,
          null
         ],
         "y": [
          0,
          58.5,
          null,
          1,
          58.5,
          null,
          2,
          58.5,
          null,
          3,
          58.5,
          null,
          4,
          58.5,
          null,
          5,
          58.5,
          null,
          6,
          58.5,
          null,
          7,
          58.5,
          null,
          8,
          58.5,
          null,
          9,
          58.5,
          null,
          10,
          58.5,
          null,
          11,
          58.5,
          null,
          12,
          58.5,
          null,
          13,
          58.5,
          null,
          14,
          58.5,
          null,
          15,
          58.5,
          null,
          16,
          58.5,
          null,
          17,
          58.5,
          null,
          18,
          58.5,
          null,
          19,
          58.5,
          null,
          20,
          58.5,
          null,
          21,
          58.5,
          null,
          22,
          58.5,
          null,
          23,
          58.5,
          null,
          24,
          58.5,
          null,
          25,
          58.5,
          null,
          26,
          58.5,
          null,
          27,
          58.5,
          null,
          28,
          58.5,
          null,
          29,
          58.5,
          null,
          30,
          58.5,
          null,
          31,
          58.5,
          null,
          32,
          58.5,
          null,
          33,
          58.5,
          null,
          34,
          58.5,
          null,
          35,
          58.5,
          null,
          36,
          58.5,
          null,
          37,
          58.5,
          null,
          38,
          58.5,
          null,
          39,
          58.5,
          null,
          40,
          58.5,
          null,
          41,
          58.5,
          null,
          42,
          58.5,
          null,
          43,
          58.5,
          null,
          44,
          58.5,
          null,
          45,
          58.5,
          null,
          46,
          58.5,
          null,
          47,
          58.5,
          null,
          48,
          58.5,
          null,
          49,
          58.5,
          null,
          50,
          58.5,
          null,
          51,
          58.5,
          null,
          52,
          58.5,
          null,
          53,
          58.5,
          null,
          54,
          58.5,
          null,
          55,
          58.5,
          null,
          56,
          58.5,
          null,
          57,
          58.5,
          null,
          58,
          58.5,
          null,
          59,
          58.5,
          null,
          60,
          58.5,
          null,
          61,
          58.5,
          null,
          62,
          58.5,
          null,
          63,
          58.5,
          null,
          64,
          58.5,
          null,
          65,
          58.5,
          null,
          66,
          58.5,
          null,
          67,
          58.5,
          null,
          68,
          58.5,
          null,
          69,
          58.5,
          null,
          70,
          58.5,
          null,
          71,
          58.5,
          null,
          72,
          58.5,
          null,
          73,
          58.5,
          null,
          74,
          58.5,
          null,
          75,
          58.5,
          null,
          76,
          58.5,
          null,
          77,
          58.5,
          null,
          78,
          58.5,
          null,
          79,
          58.5,
          null,
          80,
          58.5,
          null,
          81,
          58.5,
          null,
          82,
          58.5,
          null,
          83,
          58.5,
          null,
          84,
          58.5,
          null,
          85,
          58.5,
          null,
          86,
          58.5,
          null,
          87,
          58.5,
          null,
          88,
          58.5,
          null,
          89,
          58.5,
          null,
          90,
          58.5,
          null,
          91,
          58.5,
          null,
          92,
          58.5,
          null,
          93,
          58.5,
          null,
          94,
          58.5,
          null,
          95,
          58.5,
          null,
          96,
          58.5,
          null,
          97,
          58.5,
          null,
          98,
          58.5,
          null,
          99,
          58.5,
          null,
          100,
          58.5,
          null,
          101,
          58.5,
          null,
          102,
          58.5,
          null,
          103,
          58.5,
          null,
          104,
          58.5,
          null,
          105,
          58.5,
          null,
          106,
          58.5,
          null,
          107,
          58.5,
          null,
          108,
          58.5,
          null,
          109,
          58.5,
          null,
          110,
          58.5,
          null,
          111,
          58.5,
          null,
          112,
          58.5,
          null,
          113,
          58.5,
          null,
          114,
          58.5,
          null,
          115,
          58.5,
          null,
          116,
          58.5,
          null
         ]
        },
        {
         "hoverinfo": "text",
         "marker": {
          "color": "#CB0D1F",
          "line": {
           "width": 2
          },
          "size": 10
         },
         "mode": "markers",
         "text": [
          "TAPO CANYON BRANCH [BANK OF AMERICA, NATIONAL ASSOCIATION]<br>Year: 2020<br>Transformation Code: Charter Discontinued<br>Accounting Method: Merger",
          "FIA CARD SERVICES, NATIONAL ASSOCIATION                                                                                 <br>Year: 2014<br>Transformation Code: Charter Discontinued<br>Accounting Method: Merger",
          "BANK OF AMERICA OREGON, NATIONAL ASSOCIATION                                                                            <br>Year: 2013<br>Transformation Code: Charter Discontinued<br>Accounting Method: Merger",
          "BANK OF AMERICA RHODE ISLAND, NATIONAL ASSOCIATION                                                                      <br>Year: 2013<br>Transformation Code: Charter Discontinued<br>Accounting Method: Merger",
          "MERRILL LYNCH CREDIT CORPORATION                                                                                        <br>Year: 2011<br>Transformation Code: Charter Discontinued<br>Accounting Method: Merger",
          "BAC HOME LOANS SERVICING, LP                                                                                            <br>Year: 2011<br>Transformation Code: Charter Discontinued<br>Accounting Method: Merger",
          "MERRILL LYNCH COMMERCIAL FINANCE CORP.                                                                                  <br>Year: 2010<br>Transformation Code: Charter Discontinued<br>Accounting Method: Merger",
          "NEW YORK BRANCH [BANK OF AMERICA, NATIONAL ASSOCIATION]<br>Year: 2009<br>Transformation Code: Charter Discontinued<br>Accounting Method: Merger",
          "MERRILL LYNCH BANK USA                                                                                                  <br>Year: 2009<br>Transformation Code: Charter Discontinued<br>Accounting Method: Merger",
          "CHERRY CREEK BRANCH [BANK OF AMERICA, NATIONAL ASSOCIATION]<br>Year: 2009<br>Transformation Code: Charter Discontinued<br>Accounting Method: Merger",
          "PWM LASALLE MIDWEST BRANCH [BANK OF AMERICA, NATIONAL ASSOCIATION]<br>Year: 2008<br>Transformation Code: Charter Discontinued<br>Accounting Method: Merger",
          "FIELD BUILDING BRANCH, THE [BANK OF AMERICA, NATIONAL ASSOCIATION]<br>Year: 2008<br>Transformation Code: Charter Discontinued<br>Accounting Method: Merger",
          "BANK OF AMERICA GEORGIA, NATIONAL ASSOCIATION                                                                           <br>Year: 2008<br>Transformation Code: Charter Discontinued<br>Accounting Method: Merger",
          "USTRUST TECHNOLOGY AND SUPPORT SERVICES, INC.                                                                           <br>Year: 2008<br>Transformation Code: Charter Discontinued<br>Accounting Method: Merger",
          "114 WEST 47TH STREET BRANCH [BANK OF AMERICA, NATIONAL ASSOCIATION]<br>Year: 2008<br>Transformation Code: Charter Discontinued<br>Accounting Method: Merger",
          "DELAWARE AVENUE BRANCH [BANK OF AMERICA, NATIONAL ASSOCIATION]<br>Year: 2006<br>Transformation Code: Charter Discontinued<br>Accounting Method: Merger",
          "KENNEDY PLAZA [BANK OF AMERICA, NATIONAL ASSOCIATION]<br>Year: 2005<br>Transformation Code: Charter Discontinued<br>Accounting Method: Merger",
          "BANK OF AMERICA TECHNOLOGY AND OPERATIONS, INC.                                                                         <br>Year: 2004<br>Transformation Code: Charter Discontinued<br>Accounting Method: Merger",
          "FLEETWOOD CREDIT CORP.                                                                                                  <br>Year: 2003<br>Transformation Code: Charter Discontinued<br>Accounting Method: Merger",
          "BANC OF AMERICA SPECIALITY FINANCE, INC.                                                                                <br>Year: 2003<br>Transformation Code: Charter Discontinued<br>Accounting Method: Merger",
          "SEA RAY CREDIT CORPORATION                                                                                              <br>Year: 2003<br>Transformation Code: Charter Discontinued<br>Accounting Method: Merger",
          "WINNEBAGO ACCEPTANCE CORPORATION                                                                                        <br>Year: 2003<br>Transformation Code: Charter Discontinued<br>Accounting Method: Merger",
          "BA MORTGAGE, LLC                                                                                                        <br>Year: 2003<br>Transformation Code: Charter Discontinued<br>Accounting Method: Merger",
          "NATIONSBANK TRUST COMPANY OF NEW YORK                                                                                   <br>Year: 2001<br>Transformation Code: Charter Discontinued<br>Accounting Method: Merger",
          "SALT LAKE CITY BRANCH [BANK OF AMERICA, NATIONAL ASSOCIATION]<br>Year: 1999<br>Transformation Code: Charter Discontinued<br>Accounting Method: Merger",
          "CALIFORNIA STREET BRANCH [BANK OF AMERICA, NATIONAL ASSOCIATION]<br>Year: 1999<br>Transformation Code: Charter Discontinued<br>Accounting Method: Merger",
          "NORTH AKARD STREET BRANCH [BANK OF AMERICA, NATIONAL ASSOCIATION]<br>Year: 1999<br>Transformation Code: Charter Discontinued<br>Accounting Method: Merger",
          "NASHVILLE MAIN BRANCH [BANK OF AMERICA, NATIONAL ASSOCIATION]<br>Year: 1998<br>Transformation Code: Charter Discontinued<br>Accounting Method: Merger",
          "DOWNTOWN JACKSONVILLE BRANCH [BANK OF AMERICA, NATIONAL ASSOCIATION]<br>Year: 1998<br>Transformation Code: Charter Discontinued<br>Accounting Method: Merger",
          "SANIBEL BRANCH [BANK OF AMERICA, NATIONAL ASSOCIATION]<br>Year: 1998<br>Transformation Code: Charter Discontinued<br>Accounting Method: Merger",
          "GLOUCESTER STREET BRANCH [BANK OF AMERICA, NATIONAL ASSOCIATION]<br>Year: 1998<br>Transformation Code: Charter Discontinued<br>Accounting Method: Merger",
          "PLAZA SAN JACINTO BRANCH [BANK OF AMERICA, NATIONAL ASSOCIATION]<br>Year: 1998<br>Transformation Code: Charter Discontinued<br>Accounting Method: Merger",
          "MIDTOWN BRANCH [BANK OF AMERICA, NATIONAL ASSOCIATION]<br>Year: 1998<br>Transformation Code: Charter Discontinued<br>Accounting Method: Merger",
          "BANK OF AMERICA PLAZA BRANCH [BANK OF AMERICA, NATIONAL ASSOCIATION]<br>Year: 1998<br>Transformation Code: Charter Discontinued<br>Accounting Method: Merger",
          "BOATMEN'S TRUST COMPANY OF ARKANSAS                                                                                     <br>Year: 1998<br>Transformation Code: Charter Discontinued<br>Accounting Method: Merger",
          "BOATMENS TRUST COMPANY                                                                                                  <br>Year: 1998<br>Transformation Code: Charter Discontinued<br>Accounting Method: Merger",
          "BOATMEN'S TRUST COMPANY, AN OKLAHOMA TRUST COMPANY                                                                      <br>Year: 1998<br>Transformation Code: Charter Discontinued<br>Accounting Method: Merger",
          "BOATMEN'S TRUST COMPANY OF ILLINOIS                                                                                     <br>Year: 1998<br>Transformation Code: Charter Discontinued<br>Accounting Method: Merger",
          "SANTA TERESA NM BRANCH [BANK OF AMERICA, NATIONAL ASSOCIATION]<br>Year: 1998<br>Transformation Code: Charter Discontinued<br>Accounting Method: Merger",
          "BOATMEN'S TRUST COMPANY OF KANSAS                                                                                       <br>Year: 1997<br>Transformation Code: Charter Discontinued<br>Accounting Method: Merger",
          "PINE BLUFF MAIN BRANCH [BANK OF AMERICA, NATIONAL ASSOCIATION]<br>Year: 1997<br>Transformation Code: Charter Discontinued<br>Accounting Method: Merger",
          "RATON BRANCH [BANK OF AMERICA, NATIONAL ASSOCIATION]<br>Year: 1997<br>Transformation Code: Charter Discontinued<br>Accounting Method: Merger",
          "SANTA FE BRANCH [BANK OF AMERICA, NATIONAL ASSOCIATION]<br>Year: 1997<br>Transformation Code: Charter Discontinued<br>Accounting Method: Merger",
          "LAS CRUCES BRANCH [BANK OF AMERICA, NATIONAL ASSOCIATION]<br>Year: 1997<br>Transformation Code: Charter Discontinued<br>Accounting Method: Merger",
          "JONESBORO MAIN BRANCH [BANK OF AMERICA, NATIONAL ASSOCIATION]<br>Year: 1997<br>Transformation Code: Charter Discontinued<br>Accounting Method: Merger",
          "ALBUQUERQUE BRANCH [BANK OF AMERICA, NATIONAL ASSOCIATION]<br>Year: 1997<br>Transformation Code: Charter Discontinued<br>Accounting Method: Merger",
          "BULL SHOALS MAIN BRANCH [FIRST SECURITY BANK]<br>Year: 1997<br>Transformation Code: Charter Discontinued<br>Accounting Method: Merger",
          "HARKRIDER NORTH BRANCH [BANK OF AMERICA, NATIONAL ASSOCIATION]<br>Year: 1997<br>Transformation Code: Charter Discontinued<br>Accounting Method: Merger",
          "HOT SPRINGS MAIN BRANCH [BANK OF AMERICA, NATIONAL ASSOCIATION]<br>Year: 1997<br>Transformation Code: Charter Discontinued<br>Accounting Method: Merger",
          "ROSWELL MAIN [WASHINGTON FEDERAL, NATIONAL ASSOCIATION]<br>Year: 1997<br>Transformation Code: Charter Discontinued<br>Accounting Method: Merger",
          "CAMDEN BRANCH [FARMERS BANK & TRUST COMPANY]<br>Year: 1997<br>Transformation Code: Charter Discontinued<br>Accounting Method: Merger",
          "NEWARK FRONT STREET BRANCH [BANK OF AMERICA, NATIONAL ASSOCIATION]<br>Year: 1997<br>Transformation Code: Charter Discontinued<br>Accounting Method: Merger",
          "RIO ARRIBA MAIN BRANCH [WASHINGTON FEDERAL BANK]<br>Year: 1997<br>Transformation Code: Charter Discontinued<br>Accounting Method: Merger",
          "SPENCER BRANCH [NORTHWEST BANK]<br>Year: 1997<br>Transformation Code: Charter Discontinued<br>Accounting Method: Merger",
          "CLOVIS BRANCH [BANK OF AMERICA, NATIONAL ASSOCIATION]<br>Year: 1997<br>Transformation Code: Charter Discontinued<br>Accounting Method: Merger",
          "FORT DODGE BRANCH [NORTHWEST BANK]<br>Year: 1997<br>Transformation Code: Charter Discontinued<br>Accounting Method: Merger",
          "MASON CITY BRANCH [BANK OF AMERICA, NATIONAL ASSOCIATION]<br>Year: 1997<br>Transformation Code: Charter Discontinued<br>Accounting Method: Merger",
          "GALLUP BRANCH [BANK OF AMERICA, NATIONAL ASSOCIATION]<br>Year: 1997<br>Transformation Code: Charter Discontinued<br>Accounting Method: Merger",
          "HOBBS MAIN BRANCH [WASHINGTON FEDERAL BANK]<br>Year: 1997<br>Transformation Code: Charter Discontinued<br>Accounting Method: Merger",
          "SKYWALK BRANCH [BANK OF AMERICA, NATIONAL ASSOCIATION]<br>Year: 1997<br>Transformation Code: Charter Discontinued<br>Accounting Method: Merger",
          "PWM LITTLE ROCK BRANCH [BANK OF AMERICA, NATIONAL ASSOCIATION]<br>Year: 1997<br>Transformation Code: Charter Discontinued<br>Accounting Method: Merger",
          "BATESVILLE MAIN BRANCH [BANK OF AMERICA, NATIONAL ASSOCIATION]<br>Year: 1997<br>Transformation Code: Charter Discontinued<br>Accounting Method: Merger",
          "RUSSELLVILLE MAIN BRANCH [ARVEST BANK]<br>Year: 1997<br>Transformation Code: Charter Discontinued<br>Accounting Method: Merger",
          "FAYETTEVILLE EAST CENTER BRANCH [BANK OF AMERICA, NATIONAL ASSOCIATION]<br>Year: 1997<br>Transformation Code: Charter Discontinued<br>Accounting Method: Merger",
          "FARMINGTON BRANCH [BANK OF AMERICA, NATIONAL ASSOCIATION]<br>Year: 1997<br>Transformation Code: Charter Discontinued<br>Accounting Method: Merger",
          "SILVER CITY MAIN BRANCH [WASHINGTON FEDERAL BANK]<br>Year: 1997<br>Transformation Code: Charter Discontinued<br>Accounting Method: Merger",
          "BANK OF AMERICA CENTER TULSA BRANCH [BANK OF AMERICA, NATIONAL ASSOCIATION]<br>Year: 1997<br>Transformation Code: Charter Discontinued<br>Accounting Method: Merger",
          "SOUTHERN MISSOURI BR [BANK OF AMERICA, NATIONAL ASSOCIATION]<br>Year: 1997<br>Transformation Code: Charter Discontinued<br>Accounting Method: Merger",
          "OSAGE BRANCH [BANK OF AMERICA, NATIONAL ASSOCIATION]<br>Year: 1997<br>Transformation Code: Charter Discontinued<br>Accounting Method: Merger",
          "TROY BRANCH [BANK OF AMERICA, NATIONAL ASSOCIATION]<br>Year: 1997<br>Transformation Code: Charter Discontinued<br>Accounting Method: Merger",
          "RICHLAND BRANCH [BANK OF AMERICA, NATIONAL ASSOCIATION]<br>Year: 1997<br>Transformation Code: Charter Discontinued<br>Accounting Method: Merger",
          "QUINCY BRANCH [BANK OF AMERICA, NATIONAL ASSOCIATION]<br>Year: 1997<br>Transformation Code: Charter Discontinued<br>Accounting Method: Merger",
          "SAINT LOUIS MAIN BRANCH [BANK OF AMERICA, NATIONAL ASSOCIATION]<br>Year: 1997<br>Transformation Code: Charter Discontinued<br>Accounting Method: Merger",
          "WILLIAM STREET BRANCH [FIRST STATE COMMUNITY BANK]<br>Year: 1997<br>Transformation Code: Charter Discontinued<br>Accounting Method: Merger",
          "WEST PLAINS MAIN BRANCH [BANK OF AMERICA, NATIONAL ASSOCIATION]<br>Year: 1997<br>Transformation Code: Charter Discontinued<br>Accounting Method: Merger",
          "MOUNT VERNON MAIN BRANCH [FIRST FINANCIAL BANK, NATIONAL ASSOCIATION]<br>Year: 1997<br>Transformation Code: Charter Discontinued<br>Accounting Method: Merger",
          "COLUMBIA DOWNTOWN BRANCH [BANK OF AMERICA, NATIONAL ASSOCIATION]<br>Year: 1997<br>Transformation Code: Charter Discontinued<br>Accounting Method: Merger",
          "COLES COUNTY BRANCH [BANK OF AMERICA, NATIONAL ASSOCIATION]<br>Year: 1997<br>Transformation Code: Charter Discontinued<br>Accounting Method: Merger",
          "ROLLA MAIN BRANCH [FIRST STATE COMMUNITY BANK]<br>Year: 1997<br>Transformation Code: Charter Discontinued<br>Accounting Method: Merger",
          "LEBANON BRANCH [ARVEST BANK]<br>Year: 1997<br>Transformation Code: Charter Discontinued<br>Accounting Method: Merger",
          "HILLSBORO MAIN BRANCH [FIRST COMMUNITY BANK OF HILLSBORO]<br>Year: 1997<br>Transformation Code: Charter Discontinued<br>Accounting Method: Merger",
          "MARSHALL MAIN BRANCH [BANK OF AMERICA, NATIONAL ASSOCIATION]<br>Year: 1997<br>Transformation Code: Charter Discontinued<br>Accounting Method: Merger",
          "RIVER VALLEY BRANCH [BANK OF AMERICA, NATIONAL ASSOCIATION]<br>Year: 1997<br>Transformation Code: Charter Discontinued<br>Accounting Method: Merger",
          "BENTON BRANCH PUBLIC SQUARE [FIRST FINANCIAL BANK, NATIONAL ASSOCIATION]<br>Year: 1997<br>Transformation Code: Charter Discontinued<br>Accounting Method: Merger",
          "ONE KANSAS CITY PLACE BRANCH [BANK OF AMERICA, NATIONAL ASSOCIATION]<br>Year: 1997<br>Transformation Code: Charter Discontinued<br>Accounting Method: Merger",
          "BOONVILLE BRANCH [FIRST STATE COMMUNITY BANK]<br>Year: 1997<br>Transformation Code: Charter Discontinued<br>Accounting Method: Merger",
          "KENNETT BRANCH [FIRST STATE COMMUNITY BANK]<br>Year: 1997<br>Transformation Code: Charter Discontinued<br>Accounting Method: Merger",
          "SOUTHWEST MISSOURI BRANCH [BANK OF AMERICA, NATIONAL ASSOCIATION]<br>Year: 1997<br>Transformation Code: Charter Discontinued<br>Accounting Method: Merger",
          "BOATMENS VANDALIA BRANCH [BANK OF AMERICA, NATIONAL ASSOCIATION]<br>Year: 1997<br>Transformation Code: Charter Discontinued<br>Accounting Method: Merger",
          "ATLANTA BANK OF AMERICA PLAZA BRANCH [BANK OF AMERICA, NATIONAL ASSOCIATION]<br>Year: 1997<br>Transformation Code: Charter Discontinued<br>Accounting Method: Merger",
          "NATIONSBANK TRUST COMPANY, N.A.                                                                                         <br>Year: 1996<br>Transformation Code: Charter Discontinued<br>Accounting Method: Merger",
          "RICHMOND CENTER BRANCH [BANK OF AMERICA, NATIONAL ASSOCIATION]<br>Year: 1995<br>Transformation Code: Charter Discontinued<br>Accounting Method: Merger",
          "ROCK HILL BRANCH [BANK OF AMERICA, NATIONAL ASSOCIATION]<br>Year: 1995<br>Transformation Code: Charter Discontinued<br>Accounting Method: Not Applicable",
          "FIRST AMERICAN FEDERAL SAVINGS BANK                                                                                     <br>Year: 1993<br>Transformation Code: Failure<br>Accounting Method: Not Applicable",
          "HIGHLANDS BRANCH [BANK OF AMERICA, NATIONAL ASSOCIATION]<br>Year: 1990<br>Transformation Code: Charter Discontinued<br>Accounting Method: Not Applicable",
          "GREAT ATLANTIC SAVINGS BANK, FEDERAL SAVINGS BANK                                                                       <br>Year: 1989<br>Transformation Code: Failure<br>Accounting Method: Not Applicable",
          "JACKSONVILLE BRANCH [BANK OF AMERICA, NATIONAL ASSOCIATION]<br>Year: 1982<br>Transformation Code: Charter Discontinued<br>Accounting Method: Not Applicable",
          "LINCOLNTON BRANCH [BANK OF AMERICA, NATIONAL ASSOCIATION]<br>Year: 1981<br>Transformation Code: Charter Discontinued<br>Accounting Method: Not Applicable",
          "ASHEVILLE BRANCH [BANK OF AMERICA, NATIONAL ASSOCIATION]<br>Year: 1979<br>Transformation Code: Charter Discontinued<br>Accounting Method: Not Applicable",
          "MOUNT AIRY OFFICE [FIRST COMMUNITY BANK]<br>Year: 1974<br>Transformation Code: Charter Discontinued<br>Accounting Method: Not Applicable",
          "HENDERSON OFFICE [NATIONSBANK OF NORTH CAROLINA, NATIONAL ASSOCIATION]<br>Year: 1973<br>Transformation Code: Charter Discontinued<br>Accounting Method: Not Applicable",
          "NEW BERN OFFICE [BANK OF AMERICA, NATIONAL ASSOCIATION]<br>Year: 1972<br>Transformation Code: Charter Discontinued<br>Accounting Method: Not Applicable",
          "HOME OFFICE [RBC CENTURA BANK]<br>Year: 1972<br>Transformation Code: Charter Discontinued<br>Accounting Method: Not Applicable",
          "CAROLINA BANK OF COMMERCE                                                                                               <br>Year: 1972<br>Transformation Code: Charter Discontinued<br>Accounting Method: Not Applicable",
          "BANNER ELK BANK, THE                                                                                                    <br>Year: 1972<br>Transformation Code: Charter Discontinued<br>Accounting Method: Not Applicable",
          "BANK OF WASHINGTON                                                                                                      <br>Year: 1971<br>Transformation Code: Charter Discontinued<br>Accounting Method: Not Applicable",
          "STATE COMMERCIAL BANK, THE                                                                                              <br>Year: 1970<br>Transformation Code: Charter Discontinued<br>Accounting Method: Not Applicable",
          "MARION BANK AND TRUST COMPANY                                                                                           <br>Year: 1970<br>Transformation Code: Charter Discontinued<br>Accounting Method: Not Applicable",
          "STATE BANK & TRUST COMPANY                                                                                              <br>Year: 1969<br>Transformation Code: Charter Discontinued<br>Accounting Method: Not Applicable",
          "COMMERCIAL AND INDUSTRIAL BANK                                                                                          <br>Year: 1967<br>Transformation Code: Charter Discontinued<br>Accounting Method: Not Applicable",
          "TRYON BANK AND TRUST COMPANY                                                                                            <br>Year: 1965<br>Transformation Code: Charter Discontinued<br>Accounting Method: Not Applicable",
          "BANK OF CHAPEL HILL, THE                                                                                                <br>Year: 1963<br>Transformation Code: Charter Discontinued<br>Accounting Method: Not Applicable",
          "BANK OF WILMINGTON                                                                                                      <br>Year: 1962<br>Transformation Code: Charter Discontinued<br>Accounting Method: Not Applicable",
          "BANK OF NORTH WILKESBORO                                                                                                <br>Year: 1962<br>Transformation Code: Charter Discontinued<br>Accounting Method: Not Applicable",
          "FIRST NATIONAL BANK                                                                                                     <br>Year: 1961<br>Transformation Code: Charter Discontinued<br>Accounting Method: Not Applicable",
          "MERCHANTS AND FARMERS BANKOF STATESVILLE, INCORPORATED                                                                  <br>Year: 1960<br>Transformation Code: Charter Discontinued<br>Accounting Method: Not Applicable",
          "SECURITY NATIONAL BANK OF GREENSBORO                                                                                    <br>Year: 1960<br>Transformation Code: Charter Discontinued<br>Accounting Method: Not Applicable",
          "Bank of America<br>Year: N/A<br>Transformation Code: N/A<br>Accounting Method: N/A"
         ],
         "type": "scatter",
         "x": [
          2020,
          2014,
          2013,
          2013,
          2011,
          2011,
          2010,
          2009,
          2009,
          2009,
          2008,
          2008,
          2008,
          2008,
          2008,
          2006,
          2005,
          2004,
          2003,
          2003,
          2003,
          2003,
          2003,
          2001,
          1999,
          1999,
          1999,
          1998,
          1998,
          1998,
          1998,
          1998,
          1998,
          1998,
          1998,
          1998,
          1998,
          1998,
          1998,
          1997,
          1997,
          1997,
          1997,
          1997,
          1997,
          1997,
          1997,
          1997,
          1997,
          1997,
          1997,
          1997,
          1997,
          1997,
          1997,
          1997,
          1997,
          1997,
          1997,
          1997,
          1997,
          1997,
          1997,
          1997,
          1997,
          1997,
          1997,
          1997,
          1997,
          1997,
          1997,
          1997,
          1997,
          1997,
          1997,
          1997,
          1997,
          1997,
          1997,
          1997,
          1997,
          1997,
          1997,
          1997,
          1997,
          1997,
          1997,
          1997,
          1997,
          1997,
          1996,
          1995,
          1995,
          1993,
          1990,
          1989,
          1982,
          1981,
          1979,
          1974,
          1973,
          1972,
          1972,
          1972,
          1972,
          1971,
          1970,
          1970,
          1969,
          1967,
          1965,
          1963,
          1962,
          1962,
          1961,
          1960,
          1960,
          2021
         ],
         "y": [
          0,
          1,
          2,
          3,
          4,
          5,
          6,
          7,
          8,
          9,
          10,
          11,
          12,
          13,
          14,
          15,
          16,
          17,
          18,
          19,
          20,
          21,
          22,
          23,
          24,
          25,
          26,
          27,
          28,
          29,
          30,
          31,
          32,
          33,
          34,
          35,
          36,
          37,
          38,
          39,
          40,
          41,
          42,
          43,
          44,
          45,
          46,
          47,
          48,
          49,
          50,
          51,
          52,
          53,
          54,
          55,
          56,
          57,
          58,
          59,
          60,
          61,
          62,
          63,
          64,
          65,
          66,
          67,
          68,
          69,
          70,
          71,
          72,
          73,
          74,
          75,
          76,
          77,
          78,
          79,
          80,
          81,
          82,
          83,
          84,
          85,
          86,
          87,
          88,
          89,
          90,
          91,
          92,
          93,
          94,
          95,
          96,
          97,
          98,
          99,
          100,
          101,
          102,
          103,
          104,
          105,
          106,
          107,
          108,
          109,
          110,
          111,
          112,
          113,
          114,
          115,
          116,
          58.5
         ]
        }
       ],
       "layout": {
        "hovermode": "y unified",
        "margin": {
         "b": 20,
         "l": 5,
         "r": 5,
         "t": 40
        },
        "showlegend": false,
        "template": {
         "data": {
          "bar": [
           {
            "error_x": {
             "color": "#f2f5fa"
            },
            "error_y": {
             "color": "#f2f5fa"
            },
            "marker": {
             "line": {
              "color": "rgb(17,17,17)",
              "width": 0.5
             },
             "pattern": {
              "fillmode": "overlay",
              "size": 10,
              "solidity": 0.2
             }
            },
            "type": "bar"
           }
          ],
          "barpolar": [
           {
            "marker": {
             "line": {
              "color": "rgb(17,17,17)",
              "width": 0.5
             },
             "pattern": {
              "fillmode": "overlay",
              "size": 10,
              "solidity": 0.2
             }
            },
            "type": "barpolar"
           }
          ],
          "carpet": [
           {
            "aaxis": {
             "endlinecolor": "#A2B1C6",
             "gridcolor": "#506784",
             "linecolor": "#506784",
             "minorgridcolor": "#506784",
             "startlinecolor": "#A2B1C6"
            },
            "baxis": {
             "endlinecolor": "#A2B1C6",
             "gridcolor": "#506784",
             "linecolor": "#506784",
             "minorgridcolor": "#506784",
             "startlinecolor": "#A2B1C6"
            },
            "type": "carpet"
           }
          ],
          "choropleth": [
           {
            "colorbar": {
             "outlinewidth": 0,
             "ticks": ""
            },
            "type": "choropleth"
           }
          ],
          "contour": [
           {
            "colorbar": {
             "outlinewidth": 0,
             "ticks": ""
            },
            "colorscale": [
             [
              0,
              "#0d0887"
             ],
             [
              0.1111111111111111,
              "#46039f"
             ],
             [
              0.2222222222222222,
              "#7201a8"
             ],
             [
              0.3333333333333333,
              "#9c179e"
             ],
             [
              0.4444444444444444,
              "#bd3786"
             ],
             [
              0.5555555555555556,
              "#d8576b"
             ],
             [
              0.6666666666666666,
              "#ed7953"
             ],
             [
              0.7777777777777778,
              "#fb9f3a"
             ],
             [
              0.8888888888888888,
              "#fdca26"
             ],
             [
              1,
              "#f0f921"
             ]
            ],
            "type": "contour"
           }
          ],
          "contourcarpet": [
           {
            "colorbar": {
             "outlinewidth": 0,
             "ticks": ""
            },
            "type": "contourcarpet"
           }
          ],
          "heatmap": [
           {
            "colorbar": {
             "outlinewidth": 0,
             "ticks": ""
            },
            "colorscale": [
             [
              0,
              "#0d0887"
             ],
             [
              0.1111111111111111,
              "#46039f"
             ],
             [
              0.2222222222222222,
              "#7201a8"
             ],
             [
              0.3333333333333333,
              "#9c179e"
             ],
             [
              0.4444444444444444,
              "#bd3786"
             ],
             [
              0.5555555555555556,
              "#d8576b"
             ],
             [
              0.6666666666666666,
              "#ed7953"
             ],
             [
              0.7777777777777778,
              "#fb9f3a"
             ],
             [
              0.8888888888888888,
              "#fdca26"
             ],
             [
              1,
              "#f0f921"
             ]
            ],
            "type": "heatmap"
           }
          ],
          "heatmapgl": [
           {
            "colorbar": {
             "outlinewidth": 0,
             "ticks": ""
            },
            "colorscale": [
             [
              0,
              "#0d0887"
             ],
             [
              0.1111111111111111,
              "#46039f"
             ],
             [
              0.2222222222222222,
              "#7201a8"
             ],
             [
              0.3333333333333333,
              "#9c179e"
             ],
             [
              0.4444444444444444,
              "#bd3786"
             ],
             [
              0.5555555555555556,
              "#d8576b"
             ],
             [
              0.6666666666666666,
              "#ed7953"
             ],
             [
              0.7777777777777778,
              "#fb9f3a"
             ],
             [
              0.8888888888888888,
              "#fdca26"
             ],
             [
              1,
              "#f0f921"
             ]
            ],
            "type": "heatmapgl"
           }
          ],
          "histogram": [
           {
            "marker": {
             "pattern": {
              "fillmode": "overlay",
              "size": 10,
              "solidity": 0.2
             }
            },
            "type": "histogram"
           }
          ],
          "histogram2d": [
           {
            "colorbar": {
             "outlinewidth": 0,
             "ticks": ""
            },
            "colorscale": [
             [
              0,
              "#0d0887"
             ],
             [
              0.1111111111111111,
              "#46039f"
             ],
             [
              0.2222222222222222,
              "#7201a8"
             ],
             [
              0.3333333333333333,
              "#9c179e"
             ],
             [
              0.4444444444444444,
              "#bd3786"
             ],
             [
              0.5555555555555556,
              "#d8576b"
             ],
             [
              0.6666666666666666,
              "#ed7953"
             ],
             [
              0.7777777777777778,
              "#fb9f3a"
             ],
             [
              0.8888888888888888,
              "#fdca26"
             ],
             [
              1,
              "#f0f921"
             ]
            ],
            "type": "histogram2d"
           }
          ],
          "histogram2dcontour": [
           {
            "colorbar": {
             "outlinewidth": 0,
             "ticks": ""
            },
            "colorscale": [
             [
              0,
              "#0d0887"
             ],
             [
              0.1111111111111111,
              "#46039f"
             ],
             [
              0.2222222222222222,
              "#7201a8"
             ],
             [
              0.3333333333333333,
              "#9c179e"
             ],
             [
              0.4444444444444444,
              "#bd3786"
             ],
             [
              0.5555555555555556,
              "#d8576b"
             ],
             [
              0.6666666666666666,
              "#ed7953"
             ],
             [
              0.7777777777777778,
              "#fb9f3a"
             ],
             [
              0.8888888888888888,
              "#fdca26"
             ],
             [
              1,
              "#f0f921"
             ]
            ],
            "type": "histogram2dcontour"
           }
          ],
          "mesh3d": [
           {
            "colorbar": {
             "outlinewidth": 0,
             "ticks": ""
            },
            "type": "mesh3d"
           }
          ],
          "parcoords": [
           {
            "line": {
             "colorbar": {
              "outlinewidth": 0,
              "ticks": ""
             }
            },
            "type": "parcoords"
           }
          ],
          "pie": [
           {
            "automargin": true,
            "type": "pie"
           }
          ],
          "scatter": [
           {
            "marker": {
             "line": {
              "color": "#283442"
             }
            },
            "type": "scatter"
           }
          ],
          "scatter3d": [
           {
            "line": {
             "colorbar": {
              "outlinewidth": 0,
              "ticks": ""
             }
            },
            "marker": {
             "colorbar": {
              "outlinewidth": 0,
              "ticks": ""
             }
            },
            "type": "scatter3d"
           }
          ],
          "scattercarpet": [
           {
            "marker": {
             "colorbar": {
              "outlinewidth": 0,
              "ticks": ""
             }
            },
            "type": "scattercarpet"
           }
          ],
          "scattergeo": [
           {
            "marker": {
             "colorbar": {
              "outlinewidth": 0,
              "ticks": ""
             }
            },
            "type": "scattergeo"
           }
          ],
          "scattergl": [
           {
            "marker": {
             "line": {
              "color": "#283442"
             }
            },
            "type": "scattergl"
           }
          ],
          "scattermapbox": [
           {
            "marker": {
             "colorbar": {
              "outlinewidth": 0,
              "ticks": ""
             }
            },
            "type": "scattermapbox"
           }
          ],
          "scatterpolar": [
           {
            "marker": {
             "colorbar": {
              "outlinewidth": 0,
              "ticks": ""
             }
            },
            "type": "scatterpolar"
           }
          ],
          "scatterpolargl": [
           {
            "marker": {
             "colorbar": {
              "outlinewidth": 0,
              "ticks": ""
             }
            },
            "type": "scatterpolargl"
           }
          ],
          "scatterternary": [
           {
            "marker": {
             "colorbar": {
              "outlinewidth": 0,
              "ticks": ""
             }
            },
            "type": "scatterternary"
           }
          ],
          "surface": [
           {
            "colorbar": {
             "outlinewidth": 0,
             "ticks": ""
            },
            "colorscale": [
             [
              0,
              "#0d0887"
             ],
             [
              0.1111111111111111,
              "#46039f"
             ],
             [
              0.2222222222222222,
              "#7201a8"
             ],
             [
              0.3333333333333333,
              "#9c179e"
             ],
             [
              0.4444444444444444,
              "#bd3786"
             ],
             [
              0.5555555555555556,
              "#d8576b"
             ],
             [
              0.6666666666666666,
              "#ed7953"
             ],
             [
              0.7777777777777778,
              "#fb9f3a"
             ],
             [
              0.8888888888888888,
              "#fdca26"
             ],
             [
              1,
              "#f0f921"
             ]
            ],
            "type": "surface"
           }
          ],
          "table": [
           {
            "cells": {
             "fill": {
              "color": "#506784"
             },
             "line": {
              "color": "rgb(17,17,17)"
             }
            },
            "header": {
             "fill": {
              "color": "#2a3f5f"
             },
             "line": {
              "color": "rgb(17,17,17)"
             }
            },
            "type": "table"
           }
          ]
         },
         "layout": {
          "annotationdefaults": {
           "arrowcolor": "#f2f5fa",
           "arrowhead": 0,
           "arrowwidth": 1
          },
          "autotypenumbers": "strict",
          "coloraxis": {
           "colorbar": {
            "outlinewidth": 0,
            "ticks": ""
           }
          },
          "colorscale": {
           "diverging": [
            [
             0,
             "#8e0152"
            ],
            [
             0.1,
             "#c51b7d"
            ],
            [
             0.2,
             "#de77ae"
            ],
            [
             0.3,
             "#f1b6da"
            ],
            [
             0.4,
             "#fde0ef"
            ],
            [
             0.5,
             "#f7f7f7"
            ],
            [
             0.6,
             "#e6f5d0"
            ],
            [
             0.7,
             "#b8e186"
            ],
            [
             0.8,
             "#7fbc41"
            ],
            [
             0.9,
             "#4d9221"
            ],
            [
             1,
             "#276419"
            ]
           ],
           "sequential": [
            [
             0,
             "#0d0887"
            ],
            [
             0.1111111111111111,
             "#46039f"
            ],
            [
             0.2222222222222222,
             "#7201a8"
            ],
            [
             0.3333333333333333,
             "#9c179e"
            ],
            [
             0.4444444444444444,
             "#bd3786"
            ],
            [
             0.5555555555555556,
             "#d8576b"
            ],
            [
             0.6666666666666666,
             "#ed7953"
            ],
            [
             0.7777777777777778,
             "#fb9f3a"
            ],
            [
             0.8888888888888888,
             "#fdca26"
            ],
            [
             1,
             "#f0f921"
            ]
           ],
           "sequentialminus": [
            [
             0,
             "#0d0887"
            ],
            [
             0.1111111111111111,
             "#46039f"
            ],
            [
             0.2222222222222222,
             "#7201a8"
            ],
            [
             0.3333333333333333,
             "#9c179e"
            ],
            [
             0.4444444444444444,
             "#bd3786"
            ],
            [
             0.5555555555555556,
             "#d8576b"
            ],
            [
             0.6666666666666666,
             "#ed7953"
            ],
            [
             0.7777777777777778,
             "#fb9f3a"
            ],
            [
             0.8888888888888888,
             "#fdca26"
            ],
            [
             1,
             "#f0f921"
            ]
           ]
          },
          "colorway": [
           "#636efa",
           "#EF553B",
           "#00cc96",
           "#ab63fa",
           "#FFA15A",
           "#19d3f3",
           "#FF6692",
           "#B6E880",
           "#FF97FF",
           "#FECB52"
          ],
          "font": {
           "color": "#f2f5fa"
          },
          "geo": {
           "bgcolor": "rgb(17,17,17)",
           "lakecolor": "rgb(17,17,17)",
           "landcolor": "rgb(17,17,17)",
           "showlakes": true,
           "showland": true,
           "subunitcolor": "#506784"
          },
          "hoverlabel": {
           "align": "left"
          },
          "hovermode": "closest",
          "mapbox": {
           "style": "dark"
          },
          "paper_bgcolor": "rgb(17,17,17)",
          "plot_bgcolor": "rgb(17,17,17)",
          "polar": {
           "angularaxis": {
            "gridcolor": "#506784",
            "linecolor": "#506784",
            "ticks": ""
           },
           "bgcolor": "rgb(17,17,17)",
           "radialaxis": {
            "gridcolor": "#506784",
            "linecolor": "#506784",
            "ticks": ""
           }
          },
          "scene": {
           "xaxis": {
            "backgroundcolor": "rgb(17,17,17)",
            "gridcolor": "#506784",
            "gridwidth": 2,
            "linecolor": "#506784",
            "showbackground": true,
            "ticks": "",
            "zerolinecolor": "#C8D4E3"
           },
           "yaxis": {
            "backgroundcolor": "rgb(17,17,17)",
            "gridcolor": "#506784",
            "gridwidth": 2,
            "linecolor": "#506784",
            "showbackground": true,
            "ticks": "",
            "zerolinecolor": "#C8D4E3"
           },
           "zaxis": {
            "backgroundcolor": "rgb(17,17,17)",
            "gridcolor": "#506784",
            "gridwidth": 2,
            "linecolor": "#506784",
            "showbackground": true,
            "ticks": "",
            "zerolinecolor": "#C8D4E3"
           }
          },
          "shapedefaults": {
           "line": {
            "color": "#f2f5fa"
           }
          },
          "sliderdefaults": {
           "bgcolor": "#C8D4E3",
           "bordercolor": "rgb(17,17,17)",
           "borderwidth": 1,
           "tickwidth": 0
          },
          "ternary": {
           "aaxis": {
            "gridcolor": "#506784",
            "linecolor": "#506784",
            "ticks": ""
           },
           "baxis": {
            "gridcolor": "#506784",
            "linecolor": "#506784",
            "ticks": ""
           },
           "bgcolor": "rgb(17,17,17)",
           "caxis": {
            "gridcolor": "#506784",
            "linecolor": "#506784",
            "ticks": ""
           }
          },
          "title": {
           "x": 0.05
          },
          "updatemenudefaults": {
           "bgcolor": "#506784",
           "borderwidth": 0
          },
          "xaxis": {
           "automargin": true,
           "gridcolor": "#283442",
           "linecolor": "#506784",
           "ticks": "",
           "title": {
            "standoff": 15
           },
           "zerolinecolor": "#283442",
           "zerolinewidth": 2
          },
          "yaxis": {
           "automargin": true,
           "gridcolor": "#283442",
           "linecolor": "#506784",
           "ticks": "",
           "title": {
            "standoff": 15
           },
           "zerolinecolor": "#283442",
           "zerolinewidth": 2
          }
         }
        },
        "title": {
         "font": {
          "size": 16
         },
         "text": "Network of Bank of America Acquisitions and Mergers"
        },
        "xaxis": {
         "title": {
          "text": "Year of Transformation"
         }
        },
        "yaxis": {
         "showgrid": false,
         "showticklabels": false,
         "zeroline": false
        }
       }
      }
     },
     "metadata": {},
     "output_type": "display_data"
    }
   ],
   "source": [
    "# Create a directed graph\n",
    "G = nx.DiGraph()\n",
    "\n",
    "# Define node positions based on the 'Year'\n",
    "pos = {}\n",
    "year_min = trans_boa_df['Year'].min()\n",
    "year_max = trans_boa_df['Year'].max()\n",
    "y_pos = 0\n",
    "\n",
    "for _, row in trans_boa_df.iterrows():\n",
    "    G.add_node(row['Predecessor_Name'], \n",
    "               year=row['Year'], \n",
    "               trsfm_cd=row['Transformation Code'], \n",
    "               acct_method=row['Accounting Method'])\n",
    "    pos[row['Predecessor_Name']] = (row['Year'], y_pos)\n",
    "    y_pos += 1\n",
    "\n",
    "G.add_node('Bank of America')\n",
    "pos['Bank of America'] = (year_max + 1, y_pos / 2)  # Position BoA at the end\n",
    "\n",
    "# Add edges from predecessors to 'Chase'\n",
    "for _, row in trans_boa_df.iterrows():\n",
    "    G.add_edge(row['Predecessor_Name'], row['Successor_Name'])\n",
    "\n",
    "# Create edge trace for plotly\n",
    "edge_x = []\n",
    "edge_y = []\n",
    "for edge in G.edges():\n",
    "    x0, y0 = pos[edge[0]]\n",
    "    x1, y1 = pos[edge[1]]\n",
    "    edge_x.extend([x0, x1, None])\n",
    "    edge_y.extend([y0, y1, None])\n",
    "\n",
    "edge_trace = go.Scatter(\n",
    "    x=edge_x, y=edge_y,\n",
    "    line=dict(width=0.5, color='#888'),\n",
    "    hoverinfo='none',\n",
    "    mode='lines')\n",
    "\n",
    "# Create node trace\n",
    "node_x = [pos[node][0] for node in G.nodes()]\n",
    "node_y = [pos[node][1] for node in G.nodes()]\n",
    "node_text = []\n",
    "for node in G.nodes():\n",
    "    year = G.nodes[node].get('year', 'N/A')\n",
    "    trsfm_cd = G.nodes[node].get('trsfm_cd', 'N/A')\n",
    "    acct_method = G.nodes[node].get('acct_method', 'N/A')\n",
    "    node_info = f'{node}<br>Year: {year}<br>Transformation Code: {trsfm_cd}<br>Accounting Method: {acct_method}'\n",
    "    node_text.append(node_info)\n",
    "\n",
    "node_trace = go.Scatter(\n",
    "    x=node_x, y=node_y,\n",
    "    mode='markers',\n",
    "    hoverinfo='text',\n",
    "    text=node_text,\n",
    "    marker=dict(\n",
    "        size=10,\n",
    "        line_width=2,color='#CB0D1F'))\n",
    "\n",
    "# Create the figure for plotting\n",
    "fig_boa = go.Figure(data=[edge_trace, node_trace],\n",
    "             layout=go.Layout(\n",
    "                title='Network of Bank of America Acquisitions and Mergers',\n",
    "                titlefont_size=16,\n",
    "                showlegend=False,\n",
    "                hovermode='y unified',\n",
    "                xaxis=dict(title='Year of Transformation'),\n",
    "                yaxis=dict(showgrid=False, zeroline=False, showticklabels=False),\n",
    "                margin=dict(b=20,l=5,r=5,t=40)) # Set margins to add a title and adjust the plot size. 'b' is the bottom margin, 'l' is the left margin, 'r' is the right margin, and 't' is the top margin.\n",
    "                )\n",
    "\n",
    "#Add dark theme\n",
    "fig_boa.update_layout(template='plotly_dark')\n",
    "\n",
    "fig_boa.show()"
   ]
  },
  {
   "cell_type": "markdown",
   "metadata": {},
   "source": [
    "### 3c) Network plot for Wells Fargo<a id=\"11\"></a>"
   ]
  },
  {
   "cell_type": "code",
   "execution_count": 71,
   "metadata": {},
   "outputs": [
    {
     "data": {
      "application/vnd.plotly.v1+json": {
       "config": {
        "plotlyServerURL": "https://plotly.com"
       },
       "data": [
        {
         "hoverinfo": "none",
         "line": {
          "color": "#888",
          "width": 0.5
         },
         "mode": "lines",
         "type": "scatter",
         "x": [
          2012,
          2013,
          null,
          2011,
          2013,
          null,
          2011,
          2013,
          null,
          2011,
          2013,
          null,
          2011,
          2013,
          null,
          2011,
          2013,
          null,
          2011,
          2013,
          null,
          2011,
          2013,
          null,
          2011,
          2013,
          null,
          2011,
          2013,
          null,
          2011,
          2013,
          null,
          2011,
          2013,
          null,
          2011,
          2013,
          null,
          2010,
          2013,
          null,
          2010,
          2013,
          null,
          2010,
          2013,
          null,
          2010,
          2013,
          null,
          2010,
          2013,
          null,
          2010,
          2013,
          null,
          2010,
          2013,
          null,
          2010,
          2013,
          null,
          2010,
          2013,
          null,
          1960,
          2013,
          null,
          2009,
          2013,
          null,
          2009,
          2013,
          null,
          2008,
          2013,
          null,
          2007,
          2013,
          null,
          2005,
          2013,
          null,
          2004,
          2013,
          null,
          2004,
          2013,
          null,
          2004,
          2013,
          null,
          2004,
          2013,
          null,
          2000,
          2013,
          null,
          1996,
          2013,
          null,
          1990,
          2013,
          null,
          1968,
          2013,
          null,
          1963,
          2013,
          null
         ],
         "y": [
          0,
          51,
          null,
          1,
          51,
          null,
          2,
          51,
          null,
          3,
          51,
          null,
          4,
          51,
          null,
          5,
          51,
          null,
          6,
          51,
          null,
          7,
          51,
          null,
          8,
          51,
          null,
          9,
          51,
          null,
          10,
          51,
          null,
          11,
          51,
          null,
          12,
          51,
          null,
          13,
          51,
          null,
          14,
          51,
          null,
          15,
          51,
          null,
          16,
          51,
          null,
          17,
          51,
          null,
          18,
          51,
          null,
          19,
          51,
          null,
          20,
          51,
          null,
          21,
          51,
          null,
          101,
          51,
          null,
          26,
          51,
          null,
          27,
          51,
          null,
          28,
          51,
          null,
          36,
          51,
          null,
          41,
          51,
          null,
          42,
          51,
          null,
          43,
          51,
          null,
          44,
          51,
          null,
          49,
          51,
          null,
          68,
          51,
          null,
          77,
          51,
          null,
          81,
          51,
          null,
          93,
          51,
          null,
          97,
          51,
          null
         ]
        },
        {
         "hoverinfo": "text",
         "marker": {
          "color": "#FFD408",
          "line": {
           "width": 2
          },
          "size": 10
         },
         "mode": "markers",
         "text": [
          "WELLS FARGO AUTO FINANCE, LLC                                                                                           <br>Year: 2012<br>Transformation Code: Charter Discontinued<br>Accounting Method: Merger",
          "FIRST UNION FINANCIAL INVESTMENTS, LLC                                                                                  <br>Year: 2011<br>Transformation Code: Charter Discontinued<br>Accounting Method: Merger",
          "WES HOLDING CORPORATION                                                                                                 <br>Year: 2011<br>Transformation Code: Charter Discontinued<br>Accounting Method: Merger",
          "SOUTHTRUST MORTGAGE CORPORATION                                                                                         <br>Year: 2011<br>Transformation Code: Charter Discontinued<br>Accounting Method: Merger",
          "MERIDIAN MORTGAGE CORPORATION                                                                                           <br>Year: 2011<br>Transformation Code: Charter Discontinued<br>Accounting Method: Merger",
          "WELLS FARGO FINANCIAL MISSISSIPPI 2, INC.                                                                               <br>Year: 2011<br>Transformation Code: Charter Discontinued<br>Accounting Method: Merger",
          "WELLS FARGO FINANCIAL MISSISSIPPI, INC.                                                                                 <br>Year: 2011<br>Transformation Code: Charter Discontinued<br>Accounting Method: Merger",
          "WELLS FARGO DEALER SERVICES, INC.                                                                                       <br>Year: 2011<br>Transformation Code: Charter Discontinued<br>Accounting Method: Merger",
          "WELLS FARGO TRADE CAPITAL, LLC                                                                                          <br>Year: 2011<br>Transformation Code: Charter Discontinued<br>Accounting Method: Merger",
          "WACHOVIA MORTGAGE CORPORATION                                                                                           <br>Year: 2011<br>Transformation Code: Charter Discontinued<br>Accounting Method: Merger",
          "WELLS FARGO CENTRAL BANK                                                                                                <br>Year: 2011<br>Transformation Code: Charter Discontinued<br>Accounting Method: Merger",
          "WACHOVIA HOLDINGS, INC.                                                                                                 <br>Year: 2011<br>Transformation Code: Charter Discontinued<br>Accounting Method: Merger",
          "WACHOVIA SHARED RESOURCES, LLC                                                                                          <br>Year: 2011<br>Transformation Code: Charter Discontinued<br>Accounting Method: Merger",
          "WACHOVIA FINANCIAL SERVICES, INC.                                                                                       <br>Year: 2010<br>Transformation Code: Charter Discontinued<br>Accounting Method: Purchase/Acquisition",
          "WELLS FARGO RETAIL FINANCE, LLC                                                                                         <br>Year: 2010<br>Transformation Code: Charter Discontinued<br>Accounting Method: Merger",
          "WELLS FARGO ALASKA TRUST COMPANY, NATIONAL ASSOCIATION                                                                  <br>Year: 2010<br>Transformation Code: Charter Discontinued<br>Accounting Method: Merger",
          "METROPOLITAN WEST SECURITIES, LLC                                                                                       <br>Year: 2010<br>Transformation Code: Charter Discontinued<br>Accounting Method: Merger",
          "WELLS FARGO EDUCATION FINANCE INC.                                                                                      <br>Year: 2010<br>Transformation Code: Charter Discontinued<br>Accounting Method: Merger",
          "CALIBRE ADVISORY SERVICES, INC.                                                                                         <br>Year: 2010<br>Transformation Code: Charter Discontinued<br>Accounting Method: Merger",
          "WELLS FARGO HSBC TRADE BANK, NATIONAL ASSOCIATION                                                                       <br>Year: 2010<br>Transformation Code: Charter Discontinued<br>Accounting Method: Merger",
          "WACHOVIA CARD SERVICES, NATIONAL ASSOCIATION                                                                            <br>Year: 2010<br>Transformation Code: Charter Discontinued<br>Accounting Method: Merger",
          "WACHOVIA BANK, NATIONAL ASSOCIATION                                                                                     <br>Year: 2010<br>Transformation Code: Charter Discontinued<br>Accounting Method: Merger",
          "nan<br>Year: 1960<br>Transformation Code: Charter Discontinued<br>Accounting Method: Not Applicable",
          "WELLS FARGO BANK GRAND JUNCTION-DOWNTOWN, NATIONAL ASSOCIATION                                                          <br>Year: 2009<br>Transformation Code: Charter Discontinued<br>Accounting Method: Merger",
          "WELLS FARGO BANK GRAND JUNCTION, NATIONAL ASSOCIATION                                                                   <br>Year: 2009<br>Transformation Code: Charter Discontinued<br>Accounting Method: Merger",
          "FARMERS STATE BANK OF FORT MORGAN                                                                                       <br>Year: 2008<br>Transformation Code: Charter Discontinued<br>Accounting Method: Purchase/Acquisition",
          "COMMERCE FUNDING CORPORATION                                                                                            <br>Year: 2007<br>Transformation Code: Charter Discontinued<br>Accounting Method: Merger",
          "WELLS FARGO BUSINESS CREDIT, INC.                                                                                       <br>Year: 2005<br>Transformation Code: Charter Discontinued<br>Accounting Method: Merger",
          "WELLS FARGO HOME MORTGAGE, INC.                                                                                         <br>Year: 2004<br>Transformation Code: Charter Discontinued<br>Accounting Method: Merger",
          "PACIFIC NORTHWEST BANK                                                                                                  <br>Year: 2004<br>Transformation Code: Charter Discontinued<br>Accounting Method: Merger",
          "WELLS FARGO SERVICES COMPANY                                                                                            <br>Year: 2004<br>Transformation Code: Charter Discontinued<br>Accounting Method: Merger",
          "WELLS FARGO BANK SOUTH DAKOTA, NATIONAL ASSOCIATION                                                                     <br>Year: 2004<br>Transformation Code: Charter Discontinued<br>Accounting Method: Merger",
          "WELLS FARGO BANK (ARIZONA), NATIONAL ASSOCIATION                                                                        <br>Year: 2000<br>Transformation Code: Charter Discontinued<br>Accounting Method: Merger",
          "FIRST INTERSTATE BANK OF CALIFORNIA                                                                                     <br>Year: 1996<br>Transformation Code: Charter Discontinued<br>Accounting Method: Purchase/Acquisition",
          "AMERICAN NATIONAL BANK                                                                                                  <br>Year: 1990<br>Transformation Code: Charter Discontinued<br>Accounting Method: Not Applicable",
          "AZUSA VALLEY SAVINGS BANK                                                                                               <br>Year: 1968<br>Transformation Code: Charter Discontinued<br>Accounting Method: Not Applicable",
          "STATE CENTER BANK                                                                                                       <br>Year: 1963<br>Transformation Code: Charter Discontinued<br>Accounting Method: Not Applicable",
          "Wells Fargo<br>Year: N/A<br>Transformation Code: N/A<br>Accounting Method: N/A"
         ],
         "type": "scatter",
         "x": [
          2012,
          2011,
          2011,
          2011,
          2011,
          2011,
          2011,
          2011,
          2011,
          2011,
          2011,
          2011,
          2011,
          2010,
          2010,
          2010,
          2010,
          2010,
          2010,
          2010,
          2010,
          2010,
          1960,
          2009,
          2009,
          2008,
          2007,
          2005,
          2004,
          2004,
          2004,
          2004,
          2000,
          1996,
          1990,
          1968,
          1963,
          2013
         ],
         "y": [
          0,
          1,
          2,
          3,
          4,
          5,
          6,
          7,
          8,
          9,
          10,
          11,
          12,
          13,
          14,
          15,
          16,
          17,
          18,
          19,
          20,
          21,
          101,
          26,
          27,
          28,
          36,
          41,
          42,
          43,
          44,
          49,
          68,
          77,
          81,
          93,
          97,
          51
         ]
        }
       ],
       "layout": {
        "hovermode": "y unified",
        "margin": {
         "b": 20,
         "l": 5,
         "r": 5,
         "t": 40
        },
        "showlegend": false,
        "template": {
         "data": {
          "bar": [
           {
            "error_x": {
             "color": "#f2f5fa"
            },
            "error_y": {
             "color": "#f2f5fa"
            },
            "marker": {
             "line": {
              "color": "rgb(17,17,17)",
              "width": 0.5
             },
             "pattern": {
              "fillmode": "overlay",
              "size": 10,
              "solidity": 0.2
             }
            },
            "type": "bar"
           }
          ],
          "barpolar": [
           {
            "marker": {
             "line": {
              "color": "rgb(17,17,17)",
              "width": 0.5
             },
             "pattern": {
              "fillmode": "overlay",
              "size": 10,
              "solidity": 0.2
             }
            },
            "type": "barpolar"
           }
          ],
          "carpet": [
           {
            "aaxis": {
             "endlinecolor": "#A2B1C6",
             "gridcolor": "#506784",
             "linecolor": "#506784",
             "minorgridcolor": "#506784",
             "startlinecolor": "#A2B1C6"
            },
            "baxis": {
             "endlinecolor": "#A2B1C6",
             "gridcolor": "#506784",
             "linecolor": "#506784",
             "minorgridcolor": "#506784",
             "startlinecolor": "#A2B1C6"
            },
            "type": "carpet"
           }
          ],
          "choropleth": [
           {
            "colorbar": {
             "outlinewidth": 0,
             "ticks": ""
            },
            "type": "choropleth"
           }
          ],
          "contour": [
           {
            "colorbar": {
             "outlinewidth": 0,
             "ticks": ""
            },
            "colorscale": [
             [
              0,
              "#0d0887"
             ],
             [
              0.1111111111111111,
              "#46039f"
             ],
             [
              0.2222222222222222,
              "#7201a8"
             ],
             [
              0.3333333333333333,
              "#9c179e"
             ],
             [
              0.4444444444444444,
              "#bd3786"
             ],
             [
              0.5555555555555556,
              "#d8576b"
             ],
             [
              0.6666666666666666,
              "#ed7953"
             ],
             [
              0.7777777777777778,
              "#fb9f3a"
             ],
             [
              0.8888888888888888,
              "#fdca26"
             ],
             [
              1,
              "#f0f921"
             ]
            ],
            "type": "contour"
           }
          ],
          "contourcarpet": [
           {
            "colorbar": {
             "outlinewidth": 0,
             "ticks": ""
            },
            "type": "contourcarpet"
           }
          ],
          "heatmap": [
           {
            "colorbar": {
             "outlinewidth": 0,
             "ticks": ""
            },
            "colorscale": [
             [
              0,
              "#0d0887"
             ],
             [
              0.1111111111111111,
              "#46039f"
             ],
             [
              0.2222222222222222,
              "#7201a8"
             ],
             [
              0.3333333333333333,
              "#9c179e"
             ],
             [
              0.4444444444444444,
              "#bd3786"
             ],
             [
              0.5555555555555556,
              "#d8576b"
             ],
             [
              0.6666666666666666,
              "#ed7953"
             ],
             [
              0.7777777777777778,
              "#fb9f3a"
             ],
             [
              0.8888888888888888,
              "#fdca26"
             ],
             [
              1,
              "#f0f921"
             ]
            ],
            "type": "heatmap"
           }
          ],
          "heatmapgl": [
           {
            "colorbar": {
             "outlinewidth": 0,
             "ticks": ""
            },
            "colorscale": [
             [
              0,
              "#0d0887"
             ],
             [
              0.1111111111111111,
              "#46039f"
             ],
             [
              0.2222222222222222,
              "#7201a8"
             ],
             [
              0.3333333333333333,
              "#9c179e"
             ],
             [
              0.4444444444444444,
              "#bd3786"
             ],
             [
              0.5555555555555556,
              "#d8576b"
             ],
             [
              0.6666666666666666,
              "#ed7953"
             ],
             [
              0.7777777777777778,
              "#fb9f3a"
             ],
             [
              0.8888888888888888,
              "#fdca26"
             ],
             [
              1,
              "#f0f921"
             ]
            ],
            "type": "heatmapgl"
           }
          ],
          "histogram": [
           {
            "marker": {
             "pattern": {
              "fillmode": "overlay",
              "size": 10,
              "solidity": 0.2
             }
            },
            "type": "histogram"
           }
          ],
          "histogram2d": [
           {
            "colorbar": {
             "outlinewidth": 0,
             "ticks": ""
            },
            "colorscale": [
             [
              0,
              "#0d0887"
             ],
             [
              0.1111111111111111,
              "#46039f"
             ],
             [
              0.2222222222222222,
              "#7201a8"
             ],
             [
              0.3333333333333333,
              "#9c179e"
             ],
             [
              0.4444444444444444,
              "#bd3786"
             ],
             [
              0.5555555555555556,
              "#d8576b"
             ],
             [
              0.6666666666666666,
              "#ed7953"
             ],
             [
              0.7777777777777778,
              "#fb9f3a"
             ],
             [
              0.8888888888888888,
              "#fdca26"
             ],
             [
              1,
              "#f0f921"
             ]
            ],
            "type": "histogram2d"
           }
          ],
          "histogram2dcontour": [
           {
            "colorbar": {
             "outlinewidth": 0,
             "ticks": ""
            },
            "colorscale": [
             [
              0,
              "#0d0887"
             ],
             [
              0.1111111111111111,
              "#46039f"
             ],
             [
              0.2222222222222222,
              "#7201a8"
             ],
             [
              0.3333333333333333,
              "#9c179e"
             ],
             [
              0.4444444444444444,
              "#bd3786"
             ],
             [
              0.5555555555555556,
              "#d8576b"
             ],
             [
              0.6666666666666666,
              "#ed7953"
             ],
             [
              0.7777777777777778,
              "#fb9f3a"
             ],
             [
              0.8888888888888888,
              "#fdca26"
             ],
             [
              1,
              "#f0f921"
             ]
            ],
            "type": "histogram2dcontour"
           }
          ],
          "mesh3d": [
           {
            "colorbar": {
             "outlinewidth": 0,
             "ticks": ""
            },
            "type": "mesh3d"
           }
          ],
          "parcoords": [
           {
            "line": {
             "colorbar": {
              "outlinewidth": 0,
              "ticks": ""
             }
            },
            "type": "parcoords"
           }
          ],
          "pie": [
           {
            "automargin": true,
            "type": "pie"
           }
          ],
          "scatter": [
           {
            "marker": {
             "line": {
              "color": "#283442"
             }
            },
            "type": "scatter"
           }
          ],
          "scatter3d": [
           {
            "line": {
             "colorbar": {
              "outlinewidth": 0,
              "ticks": ""
             }
            },
            "marker": {
             "colorbar": {
              "outlinewidth": 0,
              "ticks": ""
             }
            },
            "type": "scatter3d"
           }
          ],
          "scattercarpet": [
           {
            "marker": {
             "colorbar": {
              "outlinewidth": 0,
              "ticks": ""
             }
            },
            "type": "scattercarpet"
           }
          ],
          "scattergeo": [
           {
            "marker": {
             "colorbar": {
              "outlinewidth": 0,
              "ticks": ""
             }
            },
            "type": "scattergeo"
           }
          ],
          "scattergl": [
           {
            "marker": {
             "line": {
              "color": "#283442"
             }
            },
            "type": "scattergl"
           }
          ],
          "scattermapbox": [
           {
            "marker": {
             "colorbar": {
              "outlinewidth": 0,
              "ticks": ""
             }
            },
            "type": "scattermapbox"
           }
          ],
          "scatterpolar": [
           {
            "marker": {
             "colorbar": {
              "outlinewidth": 0,
              "ticks": ""
             }
            },
            "type": "scatterpolar"
           }
          ],
          "scatterpolargl": [
           {
            "marker": {
             "colorbar": {
              "outlinewidth": 0,
              "ticks": ""
             }
            },
            "type": "scatterpolargl"
           }
          ],
          "scatterternary": [
           {
            "marker": {
             "colorbar": {
              "outlinewidth": 0,
              "ticks": ""
             }
            },
            "type": "scatterternary"
           }
          ],
          "surface": [
           {
            "colorbar": {
             "outlinewidth": 0,
             "ticks": ""
            },
            "colorscale": [
             [
              0,
              "#0d0887"
             ],
             [
              0.1111111111111111,
              "#46039f"
             ],
             [
              0.2222222222222222,
              "#7201a8"
             ],
             [
              0.3333333333333333,
              "#9c179e"
             ],
             [
              0.4444444444444444,
              "#bd3786"
             ],
             [
              0.5555555555555556,
              "#d8576b"
             ],
             [
              0.6666666666666666,
              "#ed7953"
             ],
             [
              0.7777777777777778,
              "#fb9f3a"
             ],
             [
              0.8888888888888888,
              "#fdca26"
             ],
             [
              1,
              "#f0f921"
             ]
            ],
            "type": "surface"
           }
          ],
          "table": [
           {
            "cells": {
             "fill": {
              "color": "#506784"
             },
             "line": {
              "color": "rgb(17,17,17)"
             }
            },
            "header": {
             "fill": {
              "color": "#2a3f5f"
             },
             "line": {
              "color": "rgb(17,17,17)"
             }
            },
            "type": "table"
           }
          ]
         },
         "layout": {
          "annotationdefaults": {
           "arrowcolor": "#f2f5fa",
           "arrowhead": 0,
           "arrowwidth": 1
          },
          "autotypenumbers": "strict",
          "coloraxis": {
           "colorbar": {
            "outlinewidth": 0,
            "ticks": ""
           }
          },
          "colorscale": {
           "diverging": [
            [
             0,
             "#8e0152"
            ],
            [
             0.1,
             "#c51b7d"
            ],
            [
             0.2,
             "#de77ae"
            ],
            [
             0.3,
             "#f1b6da"
            ],
            [
             0.4,
             "#fde0ef"
            ],
            [
             0.5,
             "#f7f7f7"
            ],
            [
             0.6,
             "#e6f5d0"
            ],
            [
             0.7,
             "#b8e186"
            ],
            [
             0.8,
             "#7fbc41"
            ],
            [
             0.9,
             "#4d9221"
            ],
            [
             1,
             "#276419"
            ]
           ],
           "sequential": [
            [
             0,
             "#0d0887"
            ],
            [
             0.1111111111111111,
             "#46039f"
            ],
            [
             0.2222222222222222,
             "#7201a8"
            ],
            [
             0.3333333333333333,
             "#9c179e"
            ],
            [
             0.4444444444444444,
             "#bd3786"
            ],
            [
             0.5555555555555556,
             "#d8576b"
            ],
            [
             0.6666666666666666,
             "#ed7953"
            ],
            [
             0.7777777777777778,
             "#fb9f3a"
            ],
            [
             0.8888888888888888,
             "#fdca26"
            ],
            [
             1,
             "#f0f921"
            ]
           ],
           "sequentialminus": [
            [
             0,
             "#0d0887"
            ],
            [
             0.1111111111111111,
             "#46039f"
            ],
            [
             0.2222222222222222,
             "#7201a8"
            ],
            [
             0.3333333333333333,
             "#9c179e"
            ],
            [
             0.4444444444444444,
             "#bd3786"
            ],
            [
             0.5555555555555556,
             "#d8576b"
            ],
            [
             0.6666666666666666,
             "#ed7953"
            ],
            [
             0.7777777777777778,
             "#fb9f3a"
            ],
            [
             0.8888888888888888,
             "#fdca26"
            ],
            [
             1,
             "#f0f921"
            ]
           ]
          },
          "colorway": [
           "#636efa",
           "#EF553B",
           "#00cc96",
           "#ab63fa",
           "#FFA15A",
           "#19d3f3",
           "#FF6692",
           "#B6E880",
           "#FF97FF",
           "#FECB52"
          ],
          "font": {
           "color": "#f2f5fa"
          },
          "geo": {
           "bgcolor": "rgb(17,17,17)",
           "lakecolor": "rgb(17,17,17)",
           "landcolor": "rgb(17,17,17)",
           "showlakes": true,
           "showland": true,
           "subunitcolor": "#506784"
          },
          "hoverlabel": {
           "align": "left"
          },
          "hovermode": "closest",
          "mapbox": {
           "style": "dark"
          },
          "paper_bgcolor": "rgb(17,17,17)",
          "plot_bgcolor": "rgb(17,17,17)",
          "polar": {
           "angularaxis": {
            "gridcolor": "#506784",
            "linecolor": "#506784",
            "ticks": ""
           },
           "bgcolor": "rgb(17,17,17)",
           "radialaxis": {
            "gridcolor": "#506784",
            "linecolor": "#506784",
            "ticks": ""
           }
          },
          "scene": {
           "xaxis": {
            "backgroundcolor": "rgb(17,17,17)",
            "gridcolor": "#506784",
            "gridwidth": 2,
            "linecolor": "#506784",
            "showbackground": true,
            "ticks": "",
            "zerolinecolor": "#C8D4E3"
           },
           "yaxis": {
            "backgroundcolor": "rgb(17,17,17)",
            "gridcolor": "#506784",
            "gridwidth": 2,
            "linecolor": "#506784",
            "showbackground": true,
            "ticks": "",
            "zerolinecolor": "#C8D4E3"
           },
           "zaxis": {
            "backgroundcolor": "rgb(17,17,17)",
            "gridcolor": "#506784",
            "gridwidth": 2,
            "linecolor": "#506784",
            "showbackground": true,
            "ticks": "",
            "zerolinecolor": "#C8D4E3"
           }
          },
          "shapedefaults": {
           "line": {
            "color": "#f2f5fa"
           }
          },
          "sliderdefaults": {
           "bgcolor": "#C8D4E3",
           "bordercolor": "rgb(17,17,17)",
           "borderwidth": 1,
           "tickwidth": 0
          },
          "ternary": {
           "aaxis": {
            "gridcolor": "#506784",
            "linecolor": "#506784",
            "ticks": ""
           },
           "baxis": {
            "gridcolor": "#506784",
            "linecolor": "#506784",
            "ticks": ""
           },
           "bgcolor": "rgb(17,17,17)",
           "caxis": {
            "gridcolor": "#506784",
            "linecolor": "#506784",
            "ticks": ""
           }
          },
          "title": {
           "x": 0.05
          },
          "updatemenudefaults": {
           "bgcolor": "#506784",
           "borderwidth": 0
          },
          "xaxis": {
           "automargin": true,
           "gridcolor": "#283442",
           "linecolor": "#506784",
           "ticks": "",
           "title": {
            "standoff": 15
           },
           "zerolinecolor": "#283442",
           "zerolinewidth": 2
          },
          "yaxis": {
           "automargin": true,
           "gridcolor": "#283442",
           "linecolor": "#506784",
           "ticks": "",
           "title": {
            "standoff": 15
           },
           "zerolinecolor": "#283442",
           "zerolinewidth": 2
          }
         }
        },
        "title": {
         "font": {
          "size": 16
         },
         "text": "Network of Wells Fargo Acquisitions and Mergers"
        },
        "xaxis": {
         "title": {
          "text": "Year of Transformation"
         }
        },
        "yaxis": {
         "showgrid": false,
         "showticklabels": false,
         "zeroline": false
        }
       }
      }
     },
     "metadata": {},
     "output_type": "display_data"
    }
   ],
   "source": [
    "# Create a directed graph\n",
    "G = nx.DiGraph()\n",
    "\n",
    "# Define node positions based on the 'Year'\n",
    "pos = {}\n",
    "year_min = trans_wf_df['Year'].min()\n",
    "year_max = trans_wf_df['Year'].max()\n",
    "y_pos = 0\n",
    "\n",
    "for _, row in trans_wf_df.iterrows():\n",
    "    G.add_node(row['Predecessor_Name'], \n",
    "               year=row['Year'], \n",
    "               trsfm_cd=row['Transformation Code'], \n",
    "               acct_method=row['Accounting Method'])\n",
    "    pos[row['Predecessor_Name']] = (row['Year'], y_pos)\n",
    "    y_pos += 1\n",
    "\n",
    "G.add_node('Wells Fargo')\n",
    "pos['Wells Fargo'] = (year_max + 1, y_pos / 2)  # Position BoA at the end\n",
    "\n",
    "# Add edges from predecessors to 'Chase'\n",
    "for _, row in trans_wf_df.iterrows():\n",
    "    G.add_edge(row['Predecessor_Name'], row['Successor_Name'])\n",
    "\n",
    "# Create edge trace for plotly\n",
    "edge_x = []\n",
    "edge_y = []\n",
    "for edge in G.edges():\n",
    "    x0, y0 = pos[edge[0]]\n",
    "    x1, y1 = pos[edge[1]]\n",
    "    edge_x.extend([x0, x1, None])\n",
    "    edge_y.extend([y0, y1, None])\n",
    "\n",
    "edge_trace = go.Scatter(\n",
    "    x=edge_x, y=edge_y,\n",
    "    line=dict(width=0.5, color='#888'),\n",
    "    hoverinfo='none',\n",
    "    mode='lines')\n",
    "\n",
    "# Create node trace\n",
    "node_x = [pos[node][0] for node in G.nodes()]\n",
    "node_y = [pos[node][1] for node in G.nodes()]\n",
    "node_text = []\n",
    "for node in G.nodes():\n",
    "    year = G.nodes[node].get('year', 'N/A')\n",
    "    trsfm_cd = G.nodes[node].get('trsfm_cd', 'N/A')\n",
    "    acct_method = G.nodes[node].get('acct_method', 'N/A')\n",
    "    node_info = f'{node}<br>Year: {year}<br>Transformation Code: {trsfm_cd}<br>Accounting Method: {acct_method}'\n",
    "    node_text.append(node_info)\n",
    "\n",
    "node_trace = go.Scatter(\n",
    "    x=node_x, y=node_y,\n",
    "    mode='markers',\n",
    "    hoverinfo='text',\n",
    "    text=node_text,\n",
    "    marker=dict(\n",
    "        size=10,\n",
    "        line_width=2,color='#FFD408'))\n",
    "\n",
    "# Create the figure for plotting\n",
    "fig_wf = go.Figure(data=[edge_trace, node_trace],\n",
    "             layout=go.Layout(\n",
    "                title='Network of Wells Fargo Acquisitions and Mergers',\n",
    "                titlefont_size=16,\n",
    "                showlegend=False,\n",
    "                hovermode='y unified',\n",
    "                xaxis=dict(title='Year of Transformation'),\n",
    "                yaxis=dict(showgrid=False, zeroline=False, showticklabels=False),\n",
    "                margin=dict(b=20,l=5,r=5,t=40)) # Set margins to add a title and adjust the plot size. 'b' is the bottom margin, 'l' is the left margin, 'r' is the right margin, and 't' is the top margin.\n",
    "                )\n",
    "\n",
    "#Add dark theme\n",
    "fig_wf.update_layout(template='plotly_dark')\n",
    "\n",
    "fig_wf.show()"
   ]
  },
  {
   "cell_type": "markdown",
   "metadata": {},
   "source": [
    "### 3d) Network plot for Citibank <a id=\"12\"></a>"
   ]
  },
  {
   "cell_type": "code",
   "execution_count": 72,
   "metadata": {},
   "outputs": [
    {
     "data": {
      "application/vnd.plotly.v1+json": {
       "config": {
        "plotlyServerURL": "https://plotly.com"
       },
       "data": [
        {
         "hoverinfo": "none",
         "line": {
          "color": "#888",
          "width": 0.5
         },
         "mode": "lines",
         "type": "scatter",
         "x": [
          2022,
          2023,
          null,
          2012,
          2023,
          null,
          2012,
          2023,
          null,
          2011,
          2023,
          null,
          2007,
          2023,
          null,
          1962,
          2023,
          null,
          2002,
          2023,
          null,
          1998,
          2023,
          null,
          1984,
          2023,
          null,
          1982,
          2023,
          null,
          1963,
          2023,
          null
         ],
         "y": [
          0,
          10,
          null,
          1,
          10,
          null,
          2,
          10,
          null,
          3,
          10,
          null,
          4,
          10,
          null,
          19,
          10,
          null,
          11,
          10,
          null,
          13,
          10,
          null,
          14,
          10,
          null,
          15,
          10,
          null,
          18,
          10,
          null
         ]
        },
        {
         "hoverinfo": "text",
         "marker": {
          "color": "#1598C3",
          "line": {
           "width": 2
          },
          "size": 10
         },
         "mode": "markers",
         "text": [
          "DEPARTMENT STORES NATIONAL BANK                                                                                         <br>Year: 2022<br>Transformation Code: Charter Discontinued<br>Accounting Method: Merger",
          "CAL FED HOLDINGS, INC.                                                                                                  <br>Year: 2012<br>Transformation Code: Charter Discontinued<br>Accounting Method: Merger",
          "CITICORP TRUST BANK, FSB                                                                                                <br>Year: 2012<br>Transformation Code: Charter Discontinued<br>Accounting Method: Merger",
          "CITIBANK (SOUTH DAKOTA), NATIONAL ASSOCIATION                                                                           <br>Year: 2011<br>Transformation Code: Charter Discontinued<br>Accounting Method: Merger",
          "CITIBANK INTERNATIONAL                                                                                                  <br>Year: 2007<br>Transformation Code: Charter Discontinued<br>Accounting Method: Merger",
          "nan<br>Year: 1962<br>Transformation Code: Charter Discontinued<br>Accounting Method: Not Applicable",
          "UNIVERSAL CARD SERVICES CORP.                                                                                           <br>Year: 2002<br>Transformation Code: Charter Discontinued<br>Accounting Method: Merger",
          "BHN MULTIBANCO, S.A.                                                                                                    <br>Year: 1998<br>Transformation Code: Charter Discontinued<br>Accounting Method: Purchase/Acquisition",
          "GIROD TRUST COMPANY                                                                                                     <br>Year: 1984<br>Transformation Code: Failure<br>Accounting Method: Not Applicable",
          "BANCO REGIONAL DE AHORRO DE BAYAMON                                                                                     <br>Year: 1982<br>Transformation Code: Failure<br>Accounting Method: Not Applicable",
          "FIRST NATIONAL CITY TRUST COMPANY                                                                                       <br>Year: 1963<br>Transformation Code: Charter Discontinued<br>Accounting Method: Not Applicable",
          "Citibank<br>Year: N/A<br>Transformation Code: N/A<br>Accounting Method: N/A"
         ],
         "type": "scatter",
         "x": [
          2022,
          2012,
          2012,
          2011,
          2007,
          1962,
          2002,
          1998,
          1984,
          1982,
          1963,
          2023
         ],
         "y": [
          0,
          1,
          2,
          3,
          4,
          19,
          11,
          13,
          14,
          15,
          18,
          10
         ]
        }
       ],
       "layout": {
        "hovermode": "y unified",
        "margin": {
         "b": 20,
         "l": 5,
         "r": 5,
         "t": 40
        },
        "showlegend": false,
        "template": {
         "data": {
          "bar": [
           {
            "error_x": {
             "color": "#f2f5fa"
            },
            "error_y": {
             "color": "#f2f5fa"
            },
            "marker": {
             "line": {
              "color": "rgb(17,17,17)",
              "width": 0.5
             },
             "pattern": {
              "fillmode": "overlay",
              "size": 10,
              "solidity": 0.2
             }
            },
            "type": "bar"
           }
          ],
          "barpolar": [
           {
            "marker": {
             "line": {
              "color": "rgb(17,17,17)",
              "width": 0.5
             },
             "pattern": {
              "fillmode": "overlay",
              "size": 10,
              "solidity": 0.2
             }
            },
            "type": "barpolar"
           }
          ],
          "carpet": [
           {
            "aaxis": {
             "endlinecolor": "#A2B1C6",
             "gridcolor": "#506784",
             "linecolor": "#506784",
             "minorgridcolor": "#506784",
             "startlinecolor": "#A2B1C6"
            },
            "baxis": {
             "endlinecolor": "#A2B1C6",
             "gridcolor": "#506784",
             "linecolor": "#506784",
             "minorgridcolor": "#506784",
             "startlinecolor": "#A2B1C6"
            },
            "type": "carpet"
           }
          ],
          "choropleth": [
           {
            "colorbar": {
             "outlinewidth": 0,
             "ticks": ""
            },
            "type": "choropleth"
           }
          ],
          "contour": [
           {
            "colorbar": {
             "outlinewidth": 0,
             "ticks": ""
            },
            "colorscale": [
             [
              0,
              "#0d0887"
             ],
             [
              0.1111111111111111,
              "#46039f"
             ],
             [
              0.2222222222222222,
              "#7201a8"
             ],
             [
              0.3333333333333333,
              "#9c179e"
             ],
             [
              0.4444444444444444,
              "#bd3786"
             ],
             [
              0.5555555555555556,
              "#d8576b"
             ],
             [
              0.6666666666666666,
              "#ed7953"
             ],
             [
              0.7777777777777778,
              "#fb9f3a"
             ],
             [
              0.8888888888888888,
              "#fdca26"
             ],
             [
              1,
              "#f0f921"
             ]
            ],
            "type": "contour"
           }
          ],
          "contourcarpet": [
           {
            "colorbar": {
             "outlinewidth": 0,
             "ticks": ""
            },
            "type": "contourcarpet"
           }
          ],
          "heatmap": [
           {
            "colorbar": {
             "outlinewidth": 0,
             "ticks": ""
            },
            "colorscale": [
             [
              0,
              "#0d0887"
             ],
             [
              0.1111111111111111,
              "#46039f"
             ],
             [
              0.2222222222222222,
              "#7201a8"
             ],
             [
              0.3333333333333333,
              "#9c179e"
             ],
             [
              0.4444444444444444,
              "#bd3786"
             ],
             [
              0.5555555555555556,
              "#d8576b"
             ],
             [
              0.6666666666666666,
              "#ed7953"
             ],
             [
              0.7777777777777778,
              "#fb9f3a"
             ],
             [
              0.8888888888888888,
              "#fdca26"
             ],
             [
              1,
              "#f0f921"
             ]
            ],
            "type": "heatmap"
           }
          ],
          "heatmapgl": [
           {
            "colorbar": {
             "outlinewidth": 0,
             "ticks": ""
            },
            "colorscale": [
             [
              0,
              "#0d0887"
             ],
             [
              0.1111111111111111,
              "#46039f"
             ],
             [
              0.2222222222222222,
              "#7201a8"
             ],
             [
              0.3333333333333333,
              "#9c179e"
             ],
             [
              0.4444444444444444,
              "#bd3786"
             ],
             [
              0.5555555555555556,
              "#d8576b"
             ],
             [
              0.6666666666666666,
              "#ed7953"
             ],
             [
              0.7777777777777778,
              "#fb9f3a"
             ],
             [
              0.8888888888888888,
              "#fdca26"
             ],
             [
              1,
              "#f0f921"
             ]
            ],
            "type": "heatmapgl"
           }
          ],
          "histogram": [
           {
            "marker": {
             "pattern": {
              "fillmode": "overlay",
              "size": 10,
              "solidity": 0.2
             }
            },
            "type": "histogram"
           }
          ],
          "histogram2d": [
           {
            "colorbar": {
             "outlinewidth": 0,
             "ticks": ""
            },
            "colorscale": [
             [
              0,
              "#0d0887"
             ],
             [
              0.1111111111111111,
              "#46039f"
             ],
             [
              0.2222222222222222,
              "#7201a8"
             ],
             [
              0.3333333333333333,
              "#9c179e"
             ],
             [
              0.4444444444444444,
              "#bd3786"
             ],
             [
              0.5555555555555556,
              "#d8576b"
             ],
             [
              0.6666666666666666,
              "#ed7953"
             ],
             [
              0.7777777777777778,
              "#fb9f3a"
             ],
             [
              0.8888888888888888,
              "#fdca26"
             ],
             [
              1,
              "#f0f921"
             ]
            ],
            "type": "histogram2d"
           }
          ],
          "histogram2dcontour": [
           {
            "colorbar": {
             "outlinewidth": 0,
             "ticks": ""
            },
            "colorscale": [
             [
              0,
              "#0d0887"
             ],
             [
              0.1111111111111111,
              "#46039f"
             ],
             [
              0.2222222222222222,
              "#7201a8"
             ],
             [
              0.3333333333333333,
              "#9c179e"
             ],
             [
              0.4444444444444444,
              "#bd3786"
             ],
             [
              0.5555555555555556,
              "#d8576b"
             ],
             [
              0.6666666666666666,
              "#ed7953"
             ],
             [
              0.7777777777777778,
              "#fb9f3a"
             ],
             [
              0.8888888888888888,
              "#fdca26"
             ],
             [
              1,
              "#f0f921"
             ]
            ],
            "type": "histogram2dcontour"
           }
          ],
          "mesh3d": [
           {
            "colorbar": {
             "outlinewidth": 0,
             "ticks": ""
            },
            "type": "mesh3d"
           }
          ],
          "parcoords": [
           {
            "line": {
             "colorbar": {
              "outlinewidth": 0,
              "ticks": ""
             }
            },
            "type": "parcoords"
           }
          ],
          "pie": [
           {
            "automargin": true,
            "type": "pie"
           }
          ],
          "scatter": [
           {
            "marker": {
             "line": {
              "color": "#283442"
             }
            },
            "type": "scatter"
           }
          ],
          "scatter3d": [
           {
            "line": {
             "colorbar": {
              "outlinewidth": 0,
              "ticks": ""
             }
            },
            "marker": {
             "colorbar": {
              "outlinewidth": 0,
              "ticks": ""
             }
            },
            "type": "scatter3d"
           }
          ],
          "scattercarpet": [
           {
            "marker": {
             "colorbar": {
              "outlinewidth": 0,
              "ticks": ""
             }
            },
            "type": "scattercarpet"
           }
          ],
          "scattergeo": [
           {
            "marker": {
             "colorbar": {
              "outlinewidth": 0,
              "ticks": ""
             }
            },
            "type": "scattergeo"
           }
          ],
          "scattergl": [
           {
            "marker": {
             "line": {
              "color": "#283442"
             }
            },
            "type": "scattergl"
           }
          ],
          "scattermapbox": [
           {
            "marker": {
             "colorbar": {
              "outlinewidth": 0,
              "ticks": ""
             }
            },
            "type": "scattermapbox"
           }
          ],
          "scatterpolar": [
           {
            "marker": {
             "colorbar": {
              "outlinewidth": 0,
              "ticks": ""
             }
            },
            "type": "scatterpolar"
           }
          ],
          "scatterpolargl": [
           {
            "marker": {
             "colorbar": {
              "outlinewidth": 0,
              "ticks": ""
             }
            },
            "type": "scatterpolargl"
           }
          ],
          "scatterternary": [
           {
            "marker": {
             "colorbar": {
              "outlinewidth": 0,
              "ticks": ""
             }
            },
            "type": "scatterternary"
           }
          ],
          "surface": [
           {
            "colorbar": {
             "outlinewidth": 0,
             "ticks": ""
            },
            "colorscale": [
             [
              0,
              "#0d0887"
             ],
             [
              0.1111111111111111,
              "#46039f"
             ],
             [
              0.2222222222222222,
              "#7201a8"
             ],
             [
              0.3333333333333333,
              "#9c179e"
             ],
             [
              0.4444444444444444,
              "#bd3786"
             ],
             [
              0.5555555555555556,
              "#d8576b"
             ],
             [
              0.6666666666666666,
              "#ed7953"
             ],
             [
              0.7777777777777778,
              "#fb9f3a"
             ],
             [
              0.8888888888888888,
              "#fdca26"
             ],
             [
              1,
              "#f0f921"
             ]
            ],
            "type": "surface"
           }
          ],
          "table": [
           {
            "cells": {
             "fill": {
              "color": "#506784"
             },
             "line": {
              "color": "rgb(17,17,17)"
             }
            },
            "header": {
             "fill": {
              "color": "#2a3f5f"
             },
             "line": {
              "color": "rgb(17,17,17)"
             }
            },
            "type": "table"
           }
          ]
         },
         "layout": {
          "annotationdefaults": {
           "arrowcolor": "#f2f5fa",
           "arrowhead": 0,
           "arrowwidth": 1
          },
          "autotypenumbers": "strict",
          "coloraxis": {
           "colorbar": {
            "outlinewidth": 0,
            "ticks": ""
           }
          },
          "colorscale": {
           "diverging": [
            [
             0,
             "#8e0152"
            ],
            [
             0.1,
             "#c51b7d"
            ],
            [
             0.2,
             "#de77ae"
            ],
            [
             0.3,
             "#f1b6da"
            ],
            [
             0.4,
             "#fde0ef"
            ],
            [
             0.5,
             "#f7f7f7"
            ],
            [
             0.6,
             "#e6f5d0"
            ],
            [
             0.7,
             "#b8e186"
            ],
            [
             0.8,
             "#7fbc41"
            ],
            [
             0.9,
             "#4d9221"
            ],
            [
             1,
             "#276419"
            ]
           ],
           "sequential": [
            [
             0,
             "#0d0887"
            ],
            [
             0.1111111111111111,
             "#46039f"
            ],
            [
             0.2222222222222222,
             "#7201a8"
            ],
            [
             0.3333333333333333,
             "#9c179e"
            ],
            [
             0.4444444444444444,
             "#bd3786"
            ],
            [
             0.5555555555555556,
             "#d8576b"
            ],
            [
             0.6666666666666666,
             "#ed7953"
            ],
            [
             0.7777777777777778,
             "#fb9f3a"
            ],
            [
             0.8888888888888888,
             "#fdca26"
            ],
            [
             1,
             "#f0f921"
            ]
           ],
           "sequentialminus": [
            [
             0,
             "#0d0887"
            ],
            [
             0.1111111111111111,
             "#46039f"
            ],
            [
             0.2222222222222222,
             "#7201a8"
            ],
            [
             0.3333333333333333,
             "#9c179e"
            ],
            [
             0.4444444444444444,
             "#bd3786"
            ],
            [
             0.5555555555555556,
             "#d8576b"
            ],
            [
             0.6666666666666666,
             "#ed7953"
            ],
            [
             0.7777777777777778,
             "#fb9f3a"
            ],
            [
             0.8888888888888888,
             "#fdca26"
            ],
            [
             1,
             "#f0f921"
            ]
           ]
          },
          "colorway": [
           "#636efa",
           "#EF553B",
           "#00cc96",
           "#ab63fa",
           "#FFA15A",
           "#19d3f3",
           "#FF6692",
           "#B6E880",
           "#FF97FF",
           "#FECB52"
          ],
          "font": {
           "color": "#f2f5fa"
          },
          "geo": {
           "bgcolor": "rgb(17,17,17)",
           "lakecolor": "rgb(17,17,17)",
           "landcolor": "rgb(17,17,17)",
           "showlakes": true,
           "showland": true,
           "subunitcolor": "#506784"
          },
          "hoverlabel": {
           "align": "left"
          },
          "hovermode": "closest",
          "mapbox": {
           "style": "dark"
          },
          "paper_bgcolor": "rgb(17,17,17)",
          "plot_bgcolor": "rgb(17,17,17)",
          "polar": {
           "angularaxis": {
            "gridcolor": "#506784",
            "linecolor": "#506784",
            "ticks": ""
           },
           "bgcolor": "rgb(17,17,17)",
           "radialaxis": {
            "gridcolor": "#506784",
            "linecolor": "#506784",
            "ticks": ""
           }
          },
          "scene": {
           "xaxis": {
            "backgroundcolor": "rgb(17,17,17)",
            "gridcolor": "#506784",
            "gridwidth": 2,
            "linecolor": "#506784",
            "showbackground": true,
            "ticks": "",
            "zerolinecolor": "#C8D4E3"
           },
           "yaxis": {
            "backgroundcolor": "rgb(17,17,17)",
            "gridcolor": "#506784",
            "gridwidth": 2,
            "linecolor": "#506784",
            "showbackground": true,
            "ticks": "",
            "zerolinecolor": "#C8D4E3"
           },
           "zaxis": {
            "backgroundcolor": "rgb(17,17,17)",
            "gridcolor": "#506784",
            "gridwidth": 2,
            "linecolor": "#506784",
            "showbackground": true,
            "ticks": "",
            "zerolinecolor": "#C8D4E3"
           }
          },
          "shapedefaults": {
           "line": {
            "color": "#f2f5fa"
           }
          },
          "sliderdefaults": {
           "bgcolor": "#C8D4E3",
           "bordercolor": "rgb(17,17,17)",
           "borderwidth": 1,
           "tickwidth": 0
          },
          "ternary": {
           "aaxis": {
            "gridcolor": "#506784",
            "linecolor": "#506784",
            "ticks": ""
           },
           "baxis": {
            "gridcolor": "#506784",
            "linecolor": "#506784",
            "ticks": ""
           },
           "bgcolor": "rgb(17,17,17)",
           "caxis": {
            "gridcolor": "#506784",
            "linecolor": "#506784",
            "ticks": ""
           }
          },
          "title": {
           "x": 0.05
          },
          "updatemenudefaults": {
           "bgcolor": "#506784",
           "borderwidth": 0
          },
          "xaxis": {
           "automargin": true,
           "gridcolor": "#283442",
           "linecolor": "#506784",
           "ticks": "",
           "title": {
            "standoff": 15
           },
           "zerolinecolor": "#283442",
           "zerolinewidth": 2
          },
          "yaxis": {
           "automargin": true,
           "gridcolor": "#283442",
           "linecolor": "#506784",
           "ticks": "",
           "title": {
            "standoff": 15
           },
           "zerolinecolor": "#283442",
           "zerolinewidth": 2
          }
         }
        },
        "title": {
         "font": {
          "size": 16
         },
         "text": "Network of Citigroup Acquisitions and Mergers"
        },
        "xaxis": {
         "title": {
          "text": "Year of Transformation"
         }
        },
        "yaxis": {
         "showgrid": false,
         "showticklabels": false,
         "zeroline": false
        }
       }
      }
     },
     "metadata": {},
     "output_type": "display_data"
    }
   ],
   "source": [
    "# Create a directed graph\n",
    "G = nx.DiGraph()\n",
    "\n",
    "# Define node positions based on the 'Year'\n",
    "pos = {}\n",
    "year_min = trans_cb_df['Year'].min()\n",
    "year_max = trans_cb_df['Year'].max()\n",
    "y_pos = 0\n",
    "\n",
    "for _, row in trans_cb_df.iterrows():\n",
    "    G.add_node(row['Predecessor_Name'], \n",
    "               year=row['Year'], \n",
    "               trsfm_cd=row['Transformation Code'], \n",
    "               acct_method=row['Accounting Method'])\n",
    "    pos[row['Predecessor_Name']] = (row['Year'], y_pos)\n",
    "    y_pos += 1\n",
    "\n",
    "G.add_node('Citibank')\n",
    "pos['Citibank'] = (year_max + 1, y_pos / 2)  # Position BoA at the end\n",
    "\n",
    "# Add edges from predecessors to 'Chase'\n",
    "for _, row in trans_cb_df.iterrows():\n",
    "    G.add_edge(row['Predecessor_Name'], row['Successor_Name'])\n",
    "\n",
    "# Create edge trace for plotly\n",
    "edge_x = []\n",
    "edge_y = []\n",
    "for edge in G.edges():\n",
    "    x0, y0 = pos[edge[0]]\n",
    "    x1, y1 = pos[edge[1]]\n",
    "    edge_x.extend([x0, x1, None])\n",
    "    edge_y.extend([y0, y1, None])\n",
    "\n",
    "edge_trace = go.Scatter(\n",
    "    x=edge_x, y=edge_y,\n",
    "    line=dict(width=0.5, color='#888'),\n",
    "    hoverinfo='none',\n",
    "    mode='lines')\n",
    "\n",
    "# Create node trace\n",
    "node_x = [pos[node][0] for node in G.nodes()]\n",
    "node_y = [pos[node][1] for node in G.nodes()]\n",
    "node_text = []\n",
    "for node in G.nodes():\n",
    "    year = G.nodes[node].get('year', 'N/A')\n",
    "    trsfm_cd = G.nodes[node].get('trsfm_cd', 'N/A')\n",
    "    acct_method = G.nodes[node].get('acct_method', 'N/A')\n",
    "    node_info = f'{node}<br>Year: {year}<br>Transformation Code: {trsfm_cd}<br>Accounting Method: {acct_method}'\n",
    "    node_text.append(node_info)\n",
    "\n",
    "node_trace = go.Scatter(\n",
    "    x=node_x, y=node_y,\n",
    "    mode='markers',\n",
    "    hoverinfo='text',\n",
    "    text=node_text,\n",
    "    marker=dict(\n",
    "        size=10,\n",
    "        line_width=2,color='#1598C3'))\n",
    "\n",
    "# Create the figure for plotting\n",
    "fig_cb = go.Figure(data=[edge_trace, node_trace],\n",
    "             layout=go.Layout(\n",
    "                title='Network of Citigroup Acquisitions and Mergers',\n",
    "                titlefont_size=16,\n",
    "                showlegend=False,\n",
    "                hovermode='y unified',\n",
    "                xaxis=dict(title='Year of Transformation'),\n",
    "                yaxis=dict(showgrid=False, zeroline=False, showticklabels=False),\n",
    "                margin=dict(b=20,l=5,r=5,t=40)) # Set margins to add a title and adjust the plot size. 'b' is the bottom margin, 'l' is the left margin, 'r' is the right margin, and 't' is the top margin.\n",
    "                )\n",
    "\n",
    "#Add dark theme\n",
    "fig_cb.update_layout(template='plotly_dark')\n",
    "\n",
    "fig_cb.show()"
   ]
  }
 ],
 "metadata": {
  "kernelspec": {
   "display_name": "base",
   "language": "python",
   "name": "python3"
  },
  "language_info": {
   "codemirror_mode": {
    "name": "ipython",
    "version": 3
   },
   "file_extension": ".py",
   "mimetype": "text/x-python",
   "name": "python",
   "nbconvert_exporter": "python",
   "pygments_lexer": "ipython3",
   "version": "3.10.13"
  }
 },
 "nbformat": 4,
 "nbformat_minor": 2
}
