{
 "cells": [
  {
   "cell_type": "markdown",
   "metadata": {},
   "source": [
    "# Concentration of Banking as a Property of Monopoly Capitalism Pt. 2"
   ]
  },
  {
   "cell_type": "markdown",
   "metadata": {},
   "source": [
    "![](IMG_6919.JPG)"
   ]
  },
  {
   "cell_type": "code",
   "execution_count": 29,
   "metadata": {},
   "outputs": [],
   "source": [
    "import pandas as pd\n",
    "import plotly.express as px\n",
    "from chart_studio import tools #For uploading plots to Plotly Chart Studio\n",
    "import chart_studio.plotly as py\n"
   ]
  },
  {
   "cell_type": "code",
   "execution_count": 31,
   "metadata": {},
   "outputs": [
    {
     "data": {
      "text/html": [
       "<div>\n",
       "<style scoped>\n",
       "    .dataframe tbody tr th:only-of-type {\n",
       "        vertical-align: middle;\n",
       "    }\n",
       "\n",
       "    .dataframe tbody tr th {\n",
       "        vertical-align: top;\n",
       "    }\n",
       "\n",
       "    .dataframe thead th {\n",
       "        text-align: right;\n",
       "    }\n",
       "</style>\n",
       "<table border=\"1\" class=\"dataframe\">\n",
       "  <thead>\n",
       "    <tr style=\"text-align: right;\">\n",
       "      <th></th>\n",
       "      <th>Date</th>\n",
       "      <th>Chase</th>\n",
       "      <th>Bank of America</th>\n",
       "      <th>Citibank</th>\n",
       "      <th>Wells Fargo</th>\n",
       "      <th>US Bank</th>\n",
       "      <th>Truist Bank</th>\n",
       "      <th>PNC</th>\n",
       "      <th>Quarter</th>\n",
       "      <th>Share of Consolidated Assets</th>\n",
       "      <th>Total Assets</th>\n",
       "      <th>Big 7 Assets</th>\n",
       "    </tr>\n",
       "  </thead>\n",
       "  <tbody>\n",
       "    <tr>\n",
       "      <th>0</th>\n",
       "      <td>9/30/2003</td>\n",
       "      <td>6.380000e+11</td>\n",
       "      <td>6.250000e+11</td>\n",
       "      <td>5.550000e+11</td>\n",
       "      <td>2.240000e+11</td>\n",
       "      <td>1.860000e+11</td>\n",
       "      <td>6.415700e+10</td>\n",
       "      <td>6.516700e+10</td>\n",
       "      <td>q3-2003</td>\n",
       "      <td>35.373826</td>\n",
       "      <td>6.660000e+12</td>\n",
       "      <td>2.360000e+12</td>\n",
       "    </tr>\n",
       "    <tr>\n",
       "      <th>1</th>\n",
       "      <td>12/31/2003</td>\n",
       "      <td>6.290000e+11</td>\n",
       "      <td>6.180000e+11</td>\n",
       "      <td>5.820000e+11</td>\n",
       "      <td>2.500000e+11</td>\n",
       "      <td>1.890000e+11</td>\n",
       "      <td>6.758400e+10</td>\n",
       "      <td>6.203700e+10</td>\n",
       "      <td>q4-2003</td>\n",
       "      <td>35.400424</td>\n",
       "      <td>6.770000e+12</td>\n",
       "      <td>2.400000e+12</td>\n",
       "    </tr>\n",
       "    <tr>\n",
       "      <th>2</th>\n",
       "      <td>3/31/2004</td>\n",
       "      <td>6.490000e+11</td>\n",
       "      <td>6.910000e+11</td>\n",
       "      <td>6.060000e+11</td>\n",
       "      <td>3.480000e+11</td>\n",
       "      <td>1.920000e+11</td>\n",
       "      <td>7.084000e+10</td>\n",
       "      <td>6.782200e+10</td>\n",
       "      <td>q1-2004</td>\n",
       "      <td>37.571255</td>\n",
       "      <td>6.980000e+12</td>\n",
       "      <td>2.620000e+12</td>\n",
       "    </tr>\n",
       "    <tr>\n",
       "      <th>3</th>\n",
       "      <td>6/30/2004</td>\n",
       "      <td>6.550000e+11</td>\n",
       "      <td>7.070000e+11</td>\n",
       "      <td>6.480000e+11</td>\n",
       "      <td>3.650000e+11</td>\n",
       "      <td>1.900000e+11</td>\n",
       "      <td>7.489000e+10</td>\n",
       "      <td>6.752700e+10</td>\n",
       "      <td>q2-2004</td>\n",
       "      <td>37.473724</td>\n",
       "      <td>7.220000e+12</td>\n",
       "      <td>2.710000e+12</td>\n",
       "    </tr>\n",
       "    <tr>\n",
       "      <th>4</th>\n",
       "      <td>9/30/2004</td>\n",
       "      <td>6.620000e+11</td>\n",
       "      <td>7.410000e+11</td>\n",
       "      <td>6.510000e+11</td>\n",
       "      <td>3.630000e+11</td>\n",
       "      <td>1.920000e+11</td>\n",
       "      <td>7.370000e+10</td>\n",
       "      <td>7.175300e+10</td>\n",
       "      <td>q3-2004</td>\n",
       "      <td>37.167262</td>\n",
       "      <td>7.410000e+12</td>\n",
       "      <td>2.750000e+12</td>\n",
       "    </tr>\n",
       "  </tbody>\n",
       "</table>\n",
       "</div>"
      ],
      "text/plain": [
       "         Date         Chase  Bank of America      Citibank   Wells Fargo  \\\n",
       "0   9/30/2003  6.380000e+11     6.250000e+11  5.550000e+11  2.240000e+11   \n",
       "1  12/31/2003  6.290000e+11     6.180000e+11  5.820000e+11  2.500000e+11   \n",
       "2   3/31/2004  6.490000e+11     6.910000e+11  6.060000e+11  3.480000e+11   \n",
       "3   6/30/2004  6.550000e+11     7.070000e+11  6.480000e+11  3.650000e+11   \n",
       "4   9/30/2004  6.620000e+11     7.410000e+11  6.510000e+11  3.630000e+11   \n",
       "\n",
       "        US Bank   Truist Bank           PNC  Quarter  \\\n",
       "0  1.860000e+11  6.415700e+10  6.516700e+10  q3-2003   \n",
       "1  1.890000e+11  6.758400e+10  6.203700e+10  q4-2003   \n",
       "2  1.920000e+11  7.084000e+10  6.782200e+10  q1-2004   \n",
       "3  1.900000e+11  7.489000e+10  6.752700e+10  q2-2004   \n",
       "4  1.920000e+11  7.370000e+10  7.175300e+10  q3-2004   \n",
       "\n",
       "   Share of Consolidated Assets  Total Assets  Big 7 Assets  \n",
       "0                     35.373826  6.660000e+12  2.360000e+12  \n",
       "1                     35.400424  6.770000e+12  2.400000e+12  \n",
       "2                     37.571255  6.980000e+12  2.620000e+12  \n",
       "3                     37.473724  7.220000e+12  2.710000e+12  \n",
       "4                     37.167262  7.410000e+12  2.750000e+12  "
      ]
     },
     "execution_count": 31,
     "metadata": {},
     "output_type": "execute_result"
    }
   ],
   "source": [
    "#Upload 'pivot_df_big_seven_banks_Updated_9-7-2023.csv' file and read it into a dataframe\n",
    "\n",
    "pivot_df_date=pd.read_csv('pivot_df_big_seven_banks_Updated_9-7-2023.csv')\n",
    "\n",
    "#Display the dataframe\n",
    "pivot_df_date.head()"
   ]
  },
  {
   "cell_type": "code",
   "execution_count": 32,
   "metadata": {},
   "outputs": [
    {
     "data": {
      "application/vnd.plotly.v1+json": {
       "config": {
        "plotlyServerURL": "https://plotly.com"
       },
       "data": [
        {
         "hoverinfo": "x+y+name",
         "hovertemplate": "<b>%{x}</b><br>Assets (Trillions): %{y:.3s}<extra></extra>",
         "legendgroup": "Total Assets",
         "line": {
          "color": "#0D5EAF",
          "dash": "solid"
         },
         "marker": {
          "symbol": "circle"
         },
         "mode": "lines",
         "name": "Total Assets",
         "orientation": "v",
         "showlegend": true,
         "type": "scatter",
         "x": [
          "q3-2003",
          "q4-2003",
          "q1-2004",
          "q2-2004",
          "q3-2004",
          "q4-2004",
          "q1-2005",
          "q2-2005",
          "q3-2005",
          "q4-2005",
          "q1-2006",
          "q2-2006",
          "q3-2006",
          "q4-2006",
          "q1-2007",
          "q2-2007",
          "q3-2007",
          "q4-2007",
          "q1-2008",
          "q2-2008",
          "q3-2008",
          "q4-2008",
          "q1-2009",
          "q2-2009",
          "q3-2009",
          "q4-2009",
          "q1-2010",
          "q2-2010",
          "q3-2010",
          "q4-2010",
          "q1-2011",
          "q2-2011",
          "q3-2011",
          "q4-2011",
          "q1-2012",
          "q2-2012",
          "q3-2012",
          "q4-2012",
          "q1-2013",
          "q2-2013",
          "q3-2013",
          "q4-2013",
          "q1-2014",
          "q2-2014",
          "q3-2014",
          "q4-2014",
          "q1-2015",
          "q2-2015",
          "q3-2015",
          "q4-2015",
          "q1-2016",
          "q2-2016",
          "q3-2016",
          "q4-2016",
          "q1-2017",
          "q2-2017",
          "q3-2017",
          "q4-2017",
          "q1-2018",
          "q2-2018",
          "q3-2018",
          "q4-2018",
          "q1-2019",
          "q2-2019",
          "q3-2019",
          "q4-2019",
          "q1-2020",
          "q2-2020",
          "q3-2020",
          "q4-2020",
          "q1-2021",
          "q2-2021",
          "q3-2021",
          "q4-2021",
          "q1-2022",
          "q2-2022",
          "q3-2022",
          "q4-2022",
          "q1-2023"
         ],
         "xaxis": "x",
         "y": [
          6660000000000,
          6770000000000,
          6980000000000,
          7220000000000,
          7410000000000,
          7560000000000,
          7740000000000,
          7880000000000,
          8050000000000,
          8180000000000,
          8470000000000,
          8740000000000,
          8880000000000,
          9180000000000,
          9220000000000,
          9500000000000,
          9850000000000,
          10200000000000,
          10500000000000,
          10500000000000,
          11100000000000,
          11400000000000,
          11100000000000,
          11000000000000,
          11100000000000,
          11000000000000,
          11300000000000,
          11200000000000,
          11300000000000,
          11300000000000,
          11400000000000,
          11600000000000,
          11800000000000,
          11900000000000,
          12000000000000,
          12100000000000,
          12300000000000,
          12600000000000,
          12600000000000,
          12600000000000,
          12800000000000,
          12900000000000,
          13100000000000,
          13400000000000,
          13600000000000,
          13800000000000,
          14000000000000,
          14000000000000,
          14100000000000,
          14200000000000,
          14500000000000,
          14800000000000,
          15000000000000,
          15000000000000,
          15200000000000,
          15300000000000,
          15400000000000,
          15600000000000,
          15700000000000,
          15800000000000,
          15900000000000,
          16100000000000,
          16300000000000,
          16500000000000,
          16700000000000,
          16900000000000,
          18400000000000,
          19300000000000,
          19300000000000,
          19900000000000,
          20500000000000,
          20800000000000,
          21200000000000,
          21600000000000,
          21900000000000,
          21700000000000,
          21600000000000,
          21700000000000,
          21800000000000
         ],
         "yaxis": "y"
        },
        {
         "hoverinfo": "x+y+name",
         "hovertemplate": "<b>%{x}</b><br>Assets (Trillions): %{y:.3s}<extra></extra>",
         "legendgroup": "Big 7 Assets",
         "line": {
          "color": "#CB0D1F",
          "dash": "solid"
         },
         "marker": {
          "symbol": "circle"
         },
         "mode": "lines",
         "name": "Big 7 Assets",
         "orientation": "v",
         "showlegend": true,
         "type": "scatter",
         "x": [
          "q3-2003",
          "q4-2003",
          "q1-2004",
          "q2-2004",
          "q3-2004",
          "q4-2004",
          "q1-2005",
          "q2-2005",
          "q3-2005",
          "q4-2005",
          "q1-2006",
          "q2-2006",
          "q3-2006",
          "q4-2006",
          "q1-2007",
          "q2-2007",
          "q3-2007",
          "q4-2007",
          "q1-2008",
          "q2-2008",
          "q3-2008",
          "q4-2008",
          "q1-2009",
          "q2-2009",
          "q3-2009",
          "q4-2009",
          "q1-2010",
          "q2-2010",
          "q3-2010",
          "q4-2010",
          "q1-2011",
          "q2-2011",
          "q3-2011",
          "q4-2011",
          "q1-2012",
          "q2-2012",
          "q3-2012",
          "q4-2012",
          "q1-2013",
          "q2-2013",
          "q3-2013",
          "q4-2013",
          "q1-2014",
          "q2-2014",
          "q3-2014",
          "q4-2014",
          "q1-2015",
          "q2-2015",
          "q3-2015",
          "q4-2015",
          "q1-2016",
          "q2-2016",
          "q3-2016",
          "q4-2016",
          "q1-2017",
          "q2-2017",
          "q3-2017",
          "q4-2017",
          "q1-2018",
          "q2-2018",
          "q3-2018",
          "q4-2018",
          "q1-2019",
          "q2-2019",
          "q3-2019",
          "q4-2019",
          "q1-2020",
          "q2-2020",
          "q3-2020",
          "q4-2020",
          "q1-2021",
          "q2-2021",
          "q3-2021",
          "q4-2021",
          "q1-2022",
          "q2-2022",
          "q3-2022",
          "q4-2022",
          "q1-2023"
         ],
         "xaxis": "x",
         "y": [
          2360000000000,
          2400000000000,
          2620000000000,
          2710000000000,
          2750000000000,
          3140000000000,
          3220000000000,
          3450000000000,
          3520000000000,
          3580000000000,
          3740000000000,
          3880000000000,
          3970000000000,
          4220000000000,
          4330000000000,
          4500000000000,
          4680000000000,
          4840000000000,
          5040000000000,
          4940000000000,
          5360000000000,
          5530000000000,
          5360000000000,
          5360000000000,
          5430000000000,
          5560000000000,
          6100000000000,
          6000000000000,
          6100000000000,
          6080000000000,
          6140000000000,
          6280000000000,
          6480000000000,
          6480000000000,
          6570000000000,
          6590000000000,
          6690000000000,
          6770000000000,
          6800000000000,
          6800000000000,
          6930000000000,
          6950000000000,
          7040000000000,
          7150000000000,
          7290000000000,
          7460000000000,
          7530000000000,
          7410000000000,
          7450000000000,
          7440000000000,
          7660000000000,
          7770000000000,
          7900000000000,
          7850000000000,
          7980000000000,
          8020000000000,
          8050000000000,
          8070000000000,
          8120000000000,
          8040000000000,
          8110000000000,
          8150000000000,
          8230000000000,
          8400000000000,
          8460000000000,
          8700000000000,
          9580000000000,
          9900000000000,
          9900000000000,
          10200000000000,
          10500000000000,
          10500000000000,
          10700000000000,
          10900000000000,
          11100000000000,
          10900000000000,
          10800000000000,
          10800000000000,
          10900000000000
         ],
         "yaxis": "y"
        }
       ],
       "layout": {
        "legend": {
         "title": {
          "text": "Bank groups"
         },
         "tracegroupgap": 0
        },
        "template": {
         "data": {
          "bar": [
           {
            "error_x": {
             "color": "#f2f5fa"
            },
            "error_y": {
             "color": "#f2f5fa"
            },
            "marker": {
             "line": {
              "color": "rgb(17,17,17)",
              "width": 0.5
             },
             "pattern": {
              "fillmode": "overlay",
              "size": 10,
              "solidity": 0.2
             }
            },
            "type": "bar"
           }
          ],
          "barpolar": [
           {
            "marker": {
             "line": {
              "color": "rgb(17,17,17)",
              "width": 0.5
             },
             "pattern": {
              "fillmode": "overlay",
              "size": 10,
              "solidity": 0.2
             }
            },
            "type": "barpolar"
           }
          ],
          "carpet": [
           {
            "aaxis": {
             "endlinecolor": "#A2B1C6",
             "gridcolor": "#506784",
             "linecolor": "#506784",
             "minorgridcolor": "#506784",
             "startlinecolor": "#A2B1C6"
            },
            "baxis": {
             "endlinecolor": "#A2B1C6",
             "gridcolor": "#506784",
             "linecolor": "#506784",
             "minorgridcolor": "#506784",
             "startlinecolor": "#A2B1C6"
            },
            "type": "carpet"
           }
          ],
          "choropleth": [
           {
            "colorbar": {
             "outlinewidth": 0,
             "ticks": ""
            },
            "type": "choropleth"
           }
          ],
          "contour": [
           {
            "colorbar": {
             "outlinewidth": 0,
             "ticks": ""
            },
            "colorscale": [
             [
              0,
              "#0d0887"
             ],
             [
              0.1111111111111111,
              "#46039f"
             ],
             [
              0.2222222222222222,
              "#7201a8"
             ],
             [
              0.3333333333333333,
              "#9c179e"
             ],
             [
              0.4444444444444444,
              "#bd3786"
             ],
             [
              0.5555555555555556,
              "#d8576b"
             ],
             [
              0.6666666666666666,
              "#ed7953"
             ],
             [
              0.7777777777777778,
              "#fb9f3a"
             ],
             [
              0.8888888888888888,
              "#fdca26"
             ],
             [
              1,
              "#f0f921"
             ]
            ],
            "type": "contour"
           }
          ],
          "contourcarpet": [
           {
            "colorbar": {
             "outlinewidth": 0,
             "ticks": ""
            },
            "type": "contourcarpet"
           }
          ],
          "heatmap": [
           {
            "colorbar": {
             "outlinewidth": 0,
             "ticks": ""
            },
            "colorscale": [
             [
              0,
              "#0d0887"
             ],
             [
              0.1111111111111111,
              "#46039f"
             ],
             [
              0.2222222222222222,
              "#7201a8"
             ],
             [
              0.3333333333333333,
              "#9c179e"
             ],
             [
              0.4444444444444444,
              "#bd3786"
             ],
             [
              0.5555555555555556,
              "#d8576b"
             ],
             [
              0.6666666666666666,
              "#ed7953"
             ],
             [
              0.7777777777777778,
              "#fb9f3a"
             ],
             [
              0.8888888888888888,
              "#fdca26"
             ],
             [
              1,
              "#f0f921"
             ]
            ],
            "type": "heatmap"
           }
          ],
          "heatmapgl": [
           {
            "colorbar": {
             "outlinewidth": 0,
             "ticks": ""
            },
            "colorscale": [
             [
              0,
              "#0d0887"
             ],
             [
              0.1111111111111111,
              "#46039f"
             ],
             [
              0.2222222222222222,
              "#7201a8"
             ],
             [
              0.3333333333333333,
              "#9c179e"
             ],
             [
              0.4444444444444444,
              "#bd3786"
             ],
             [
              0.5555555555555556,
              "#d8576b"
             ],
             [
              0.6666666666666666,
              "#ed7953"
             ],
             [
              0.7777777777777778,
              "#fb9f3a"
             ],
             [
              0.8888888888888888,
              "#fdca26"
             ],
             [
              1,
              "#f0f921"
             ]
            ],
            "type": "heatmapgl"
           }
          ],
          "histogram": [
           {
            "marker": {
             "pattern": {
              "fillmode": "overlay",
              "size": 10,
              "solidity": 0.2
             }
            },
            "type": "histogram"
           }
          ],
          "histogram2d": [
           {
            "colorbar": {
             "outlinewidth": 0,
             "ticks": ""
            },
            "colorscale": [
             [
              0,
              "#0d0887"
             ],
             [
              0.1111111111111111,
              "#46039f"
             ],
             [
              0.2222222222222222,
              "#7201a8"
             ],
             [
              0.3333333333333333,
              "#9c179e"
             ],
             [
              0.4444444444444444,
              "#bd3786"
             ],
             [
              0.5555555555555556,
              "#d8576b"
             ],
             [
              0.6666666666666666,
              "#ed7953"
             ],
             [
              0.7777777777777778,
              "#fb9f3a"
             ],
             [
              0.8888888888888888,
              "#fdca26"
             ],
             [
              1,
              "#f0f921"
             ]
            ],
            "type": "histogram2d"
           }
          ],
          "histogram2dcontour": [
           {
            "colorbar": {
             "outlinewidth": 0,
             "ticks": ""
            },
            "colorscale": [
             [
              0,
              "#0d0887"
             ],
             [
              0.1111111111111111,
              "#46039f"
             ],
             [
              0.2222222222222222,
              "#7201a8"
             ],
             [
              0.3333333333333333,
              "#9c179e"
             ],
             [
              0.4444444444444444,
              "#bd3786"
             ],
             [
              0.5555555555555556,
              "#d8576b"
             ],
             [
              0.6666666666666666,
              "#ed7953"
             ],
             [
              0.7777777777777778,
              "#fb9f3a"
             ],
             [
              0.8888888888888888,
              "#fdca26"
             ],
             [
              1,
              "#f0f921"
             ]
            ],
            "type": "histogram2dcontour"
           }
          ],
          "mesh3d": [
           {
            "colorbar": {
             "outlinewidth": 0,
             "ticks": ""
            },
            "type": "mesh3d"
           }
          ],
          "parcoords": [
           {
            "line": {
             "colorbar": {
              "outlinewidth": 0,
              "ticks": ""
             }
            },
            "type": "parcoords"
           }
          ],
          "pie": [
           {
            "automargin": true,
            "type": "pie"
           }
          ],
          "scatter": [
           {
            "marker": {
             "line": {
              "color": "#283442"
             }
            },
            "type": "scatter"
           }
          ],
          "scatter3d": [
           {
            "line": {
             "colorbar": {
              "outlinewidth": 0,
              "ticks": ""
             }
            },
            "marker": {
             "colorbar": {
              "outlinewidth": 0,
              "ticks": ""
             }
            },
            "type": "scatter3d"
           }
          ],
          "scattercarpet": [
           {
            "marker": {
             "colorbar": {
              "outlinewidth": 0,
              "ticks": ""
             }
            },
            "type": "scattercarpet"
           }
          ],
          "scattergeo": [
           {
            "marker": {
             "colorbar": {
              "outlinewidth": 0,
              "ticks": ""
             }
            },
            "type": "scattergeo"
           }
          ],
          "scattergl": [
           {
            "marker": {
             "line": {
              "color": "#283442"
             }
            },
            "type": "scattergl"
           }
          ],
          "scattermapbox": [
           {
            "marker": {
             "colorbar": {
              "outlinewidth": 0,
              "ticks": ""
             }
            },
            "type": "scattermapbox"
           }
          ],
          "scatterpolar": [
           {
            "marker": {
             "colorbar": {
              "outlinewidth": 0,
              "ticks": ""
             }
            },
            "type": "scatterpolar"
           }
          ],
          "scatterpolargl": [
           {
            "marker": {
             "colorbar": {
              "outlinewidth": 0,
              "ticks": ""
             }
            },
            "type": "scatterpolargl"
           }
          ],
          "scatterternary": [
           {
            "marker": {
             "colorbar": {
              "outlinewidth": 0,
              "ticks": ""
             }
            },
            "type": "scatterternary"
           }
          ],
          "surface": [
           {
            "colorbar": {
             "outlinewidth": 0,
             "ticks": ""
            },
            "colorscale": [
             [
              0,
              "#0d0887"
             ],
             [
              0.1111111111111111,
              "#46039f"
             ],
             [
              0.2222222222222222,
              "#7201a8"
             ],
             [
              0.3333333333333333,
              "#9c179e"
             ],
             [
              0.4444444444444444,
              "#bd3786"
             ],
             [
              0.5555555555555556,
              "#d8576b"
             ],
             [
              0.6666666666666666,
              "#ed7953"
             ],
             [
              0.7777777777777778,
              "#fb9f3a"
             ],
             [
              0.8888888888888888,
              "#fdca26"
             ],
             [
              1,
              "#f0f921"
             ]
            ],
            "type": "surface"
           }
          ],
          "table": [
           {
            "cells": {
             "fill": {
              "color": "#506784"
             },
             "line": {
              "color": "rgb(17,17,17)"
             }
            },
            "header": {
             "fill": {
              "color": "#2a3f5f"
             },
             "line": {
              "color": "rgb(17,17,17)"
             }
            },
            "type": "table"
           }
          ]
         },
         "layout": {
          "annotationdefaults": {
           "arrowcolor": "#f2f5fa",
           "arrowhead": 0,
           "arrowwidth": 1
          },
          "autotypenumbers": "strict",
          "coloraxis": {
           "colorbar": {
            "outlinewidth": 0,
            "ticks": ""
           }
          },
          "colorscale": {
           "diverging": [
            [
             0,
             "#8e0152"
            ],
            [
             0.1,
             "#c51b7d"
            ],
            [
             0.2,
             "#de77ae"
            ],
            [
             0.3,
             "#f1b6da"
            ],
            [
             0.4,
             "#fde0ef"
            ],
            [
             0.5,
             "#f7f7f7"
            ],
            [
             0.6,
             "#e6f5d0"
            ],
            [
             0.7,
             "#b8e186"
            ],
            [
             0.8,
             "#7fbc41"
            ],
            [
             0.9,
             "#4d9221"
            ],
            [
             1,
             "#276419"
            ]
           ],
           "sequential": [
            [
             0,
             "#0d0887"
            ],
            [
             0.1111111111111111,
             "#46039f"
            ],
            [
             0.2222222222222222,
             "#7201a8"
            ],
            [
             0.3333333333333333,
             "#9c179e"
            ],
            [
             0.4444444444444444,
             "#bd3786"
            ],
            [
             0.5555555555555556,
             "#d8576b"
            ],
            [
             0.6666666666666666,
             "#ed7953"
            ],
            [
             0.7777777777777778,
             "#fb9f3a"
            ],
            [
             0.8888888888888888,
             "#fdca26"
            ],
            [
             1,
             "#f0f921"
            ]
           ],
           "sequentialminus": [
            [
             0,
             "#0d0887"
            ],
            [
             0.1111111111111111,
             "#46039f"
            ],
            [
             0.2222222222222222,
             "#7201a8"
            ],
            [
             0.3333333333333333,
             "#9c179e"
            ],
            [
             0.4444444444444444,
             "#bd3786"
            ],
            [
             0.5555555555555556,
             "#d8576b"
            ],
            [
             0.6666666666666666,
             "#ed7953"
            ],
            [
             0.7777777777777778,
             "#fb9f3a"
            ],
            [
             0.8888888888888888,
             "#fdca26"
            ],
            [
             1,
             "#f0f921"
            ]
           ]
          },
          "colorway": [
           "#636efa",
           "#EF553B",
           "#00cc96",
           "#ab63fa",
           "#FFA15A",
           "#19d3f3",
           "#FF6692",
           "#B6E880",
           "#FF97FF",
           "#FECB52"
          ],
          "font": {
           "color": "#f2f5fa"
          },
          "geo": {
           "bgcolor": "rgb(17,17,17)",
           "lakecolor": "rgb(17,17,17)",
           "landcolor": "rgb(17,17,17)",
           "showlakes": true,
           "showland": true,
           "subunitcolor": "#506784"
          },
          "hoverlabel": {
           "align": "left"
          },
          "hovermode": "closest",
          "mapbox": {
           "style": "dark"
          },
          "paper_bgcolor": "rgb(17,17,17)",
          "plot_bgcolor": "rgb(17,17,17)",
          "polar": {
           "angularaxis": {
            "gridcolor": "#506784",
            "linecolor": "#506784",
            "ticks": ""
           },
           "bgcolor": "rgb(17,17,17)",
           "radialaxis": {
            "gridcolor": "#506784",
            "linecolor": "#506784",
            "ticks": ""
           }
          },
          "scene": {
           "xaxis": {
            "backgroundcolor": "rgb(17,17,17)",
            "gridcolor": "#506784",
            "gridwidth": 2,
            "linecolor": "#506784",
            "showbackground": true,
            "ticks": "",
            "zerolinecolor": "#C8D4E3"
           },
           "yaxis": {
            "backgroundcolor": "rgb(17,17,17)",
            "gridcolor": "#506784",
            "gridwidth": 2,
            "linecolor": "#506784",
            "showbackground": true,
            "ticks": "",
            "zerolinecolor": "#C8D4E3"
           },
           "zaxis": {
            "backgroundcolor": "rgb(17,17,17)",
            "gridcolor": "#506784",
            "gridwidth": 2,
            "linecolor": "#506784",
            "showbackground": true,
            "ticks": "",
            "zerolinecolor": "#C8D4E3"
           }
          },
          "shapedefaults": {
           "line": {
            "color": "#f2f5fa"
           }
          },
          "sliderdefaults": {
           "bgcolor": "#C8D4E3",
           "bordercolor": "rgb(17,17,17)",
           "borderwidth": 1,
           "tickwidth": 0
          },
          "ternary": {
           "aaxis": {
            "gridcolor": "#506784",
            "linecolor": "#506784",
            "ticks": ""
           },
           "baxis": {
            "gridcolor": "#506784",
            "linecolor": "#506784",
            "ticks": ""
           },
           "bgcolor": "rgb(17,17,17)",
           "caxis": {
            "gridcolor": "#506784",
            "linecolor": "#506784",
            "ticks": ""
           }
          },
          "title": {
           "x": 0.05
          },
          "updatemenudefaults": {
           "bgcolor": "#506784",
           "borderwidth": 0
          },
          "xaxis": {
           "automargin": true,
           "gridcolor": "#283442",
           "linecolor": "#506784",
           "ticks": "",
           "title": {
            "standoff": 15
           },
           "zerolinecolor": "#283442",
           "zerolinewidth": 2
          },
          "yaxis": {
           "automargin": true,
           "gridcolor": "#283442",
           "linecolor": "#506784",
           "ticks": "",
           "title": {
            "standoff": 15
           },
           "zerolinecolor": "#283442",
           "zerolinewidth": 2
          }
         }
        },
        "title": {
         "text": "Total Consolidated Assets vs. Big 7 Consolidated Assets"
        },
        "xaxis": {
         "anchor": "y",
         "domain": [
          0,
          1
         ],
         "title": {
          "text": "Quarter"
         }
        },
        "yaxis": {
         "anchor": "x",
         "domain": [
          0,
          1
         ],
         "title": {
          "text": "Consolidated Assets($)"
         }
        }
       }
      }
     },
     "metadata": {},
     "output_type": "display_data"
    }
   ],
   "source": [
    "#Linear plotting of \"Total Consolidated Assets\" and \"Big 7 Consolidated Assets\" per quarter\n",
    "fig_linear_total=px.line(pivot_df_date,\n",
    "                         x='Quarter',\n",
    "                         y=['Total Assets','Big 7 Assets'],\n",
    "                         title='Total Consolidated Assets vs. Big 7 Consolidated Assets',\n",
    "                         labels={'value':'Consolidated Assets($)','variable':'Bank groups'},\n",
    "                         template='plotly_dark',\n",
    "                         color_discrete_map={'Big 7 Assets': '#CB0D1F', 'Total Assets': '#0D5EAF'})\n",
    "\n",
    "\n",
    "#Update hover labels by using the hovertemplate attribute:\n",
    "\n",
    "for trace in fig_linear_total.data:\n",
    "    trace.hovertemplate = '<b>%{x}</b><br>Assets (Trillions): %{y:.3s}<extra></extra>'\n",
    "    trace.hoverinfo = \"x+y+name\"\n",
    "\n",
    "fig_linear_total.show()"
   ]
  },
  {
   "cell_type": "code",
   "execution_count": 30,
   "metadata": {},
   "outputs": [
    {
     "data": {
      "text/plain": [
       "'https://plotly.com/~juanchojuaninski/44/'"
      ]
     },
     "execution_count": 30,
     "metadata": {},
     "output_type": "execute_result"
    }
   ],
   "source": [
    "#Export line plot to plotly chart studio\n",
    "\n",
    "py.plot(fig_linear_total, filename= 'line_fig_big7_vs_all', auto_open=True)"
   ]
  }
 ],
 "metadata": {
  "kernelspec": {
   "display_name": "base",
   "language": "python",
   "name": "python3"
  },
  "language_info": {
   "codemirror_mode": {
    "name": "ipython",
    "version": 3
   },
   "file_extension": ".py",
   "mimetype": "text/x-python",
   "name": "python",
   "nbconvert_exporter": "python",
   "pygments_lexer": "ipython3",
   "version": "3.10.9"
  },
  "orig_nbformat": 4
 },
 "nbformat": 4,
 "nbformat_minor": 2
}
