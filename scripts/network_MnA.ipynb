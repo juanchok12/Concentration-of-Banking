{
 "cells": [
  {
   "cell_type": "markdown",
   "metadata": {},
   "source": [
    "# Concentration of banking through acquistions & mergers: network analysis\n",
    "\n"
   ]
  },
  {
   "cell_type": "markdown",
   "metadata": {},
   "source": [
    "\n",
    "<u>Concentration of banking</u> is the tendency of capital centralizing more and more around a few financial institutions, creating a financial network where a small number of banks and industrial monopolies wield anormous power over production (or under-production), investment (or lack of it), and commerce (or its stultification). It subordinates the separated regional economies of a society into a singularity.\n",
    "\n",
    "In this Notebook, we look at this economic property by the trends in acquisitions and mergers by the biggest four commercial banks in the U.S. (here referred to as the Big Four) from the 1960's up until today. The The data also includes branch and subsidiary consolidation throughout time. \n",
    "\n",
    "\n",
    "<u>Data source:</u> \n",
    " * \"Relationships.csv\"; \"Attributes-Active\"; \"Attributes-Closed\". National Information Center. Federal Financial Instututions Examination Council. Feb. 5, 2024. [Link](https://www.ffiec.gov/npw/FinancialReport/DataDownload).\n",
    " * \"history.csv\". Each one of the Big Four banks has a history csv file that can be found by entering the RSSD number in the National Information Center search engine. [Link](https://www.ffiec.gov/NPW)\n",
    "\n",
    "<u>Data dictionary:</u> \"Bulk Data Download Data Dictionary and References Guide.\" Version 2.0. National Information Center. Federal Financial Instututions Examination Council. Sept., 2023. [Link](https://www.ffiec.gov/npw/StaticData/DataDownload/NPW%20Data%20Dictionary.pdf).\n",
    "\n",
    "\n",
    "\n",
    "\n",
    "\n",
    "\n"
   ]
  },
  {
   "cell_type": "markdown",
   "metadata": {},
   "source": [
    "## Table of Contents\n",
    "1. [Data Cleaning](#0)<br>\n",
    "    a. [Adding missing legal names](#1)<br>\n",
    "    b. [Changing the accouting method and transformations codes](#2)<br>\n",
    "2. [Data Wrangling](#3)<br>\n",
    "    a. [Chase dataframe development](#4)<br>\n",
    "    b. [Bank of America dataframe development](#5)<br>\n",
    "    c. [Wells Fargo dataframe development](#6)<br>\n",
    "    d. [Citibank dataframe development](#7)<br>\n",
    "3. [M&A Network Plot Development](#8) <br>\n",
    "    a. [Network plot for Chase](#9)<br>\n",
    "    b. [Network plot for Bank of America](#10)<br>\n",
    "    c. [Network plot for Wells Fargo](#11)<br>\n",
    "    d. [Network plot for Citibank](#12)<br>\n",
    "\n"
   ]
  },
  {
   "cell_type": "code",
   "execution_count": 2,
   "metadata": {},
   "outputs": [],
   "source": [
    "import pandas as pd\n",
    "import numpy\n",
    "import plotly.graph_objs as go\n",
    "import plotly\n",
    "import networkx as nx"
   ]
  },
  {
   "cell_type": "markdown",
   "metadata": {},
   "source": [
    "<a id='Data-Cleaning'></a>\n",
    "## 1. Data Cleaning <a id=\"0\"></a>\n",
    "\n",
    "Let's upload the raw data from the National Information Center and convert and denomarlize data so as to have one database from which we can engage in our exploratory data analysis.\n",
    "\n",
    "The data that contains the information on the mergers and acquisitions of banks is the 'transformations' file. It can be found in the webpage of the Federal Financial Institutions Examination Council: https://www.ffiec.gov/npw/FinancialReport/DataDownload\n",
    "\n"
   ]
  },
  {
   "cell_type": "code",
   "execution_count": 3,
   "metadata": {},
   "outputs": [],
   "source": [
    "#Define the directory where raw data and process data will be stored\n",
    "tables_dir=r\"Your\\Directory\\Here\\Dataframe\"\n",
    "\n",
    "#Define the directory for plot ready dataframes\n",
    "dataframes_df=r\"Your\\Directory\\Here\\Dataframe\""
   ]
  },
  {
   "cell_type": "code",
   "execution_count": 4,
   "metadata": {},
   "outputs": [
    {
     "data": {
      "text/html": [
       "<div>\n",
       "<style scoped>\n",
       "    .dataframe tbody tr th:only-of-type {\n",
       "        vertical-align: middle;\n",
       "    }\n",
       "\n",
       "    .dataframe tbody tr th {\n",
       "        vertical-align: top;\n",
       "    }\n",
       "\n",
       "    .dataframe thead th {\n",
       "        text-align: right;\n",
       "    }\n",
       "</style>\n",
       "<table border=\"1\" class=\"dataframe\">\n",
       "  <thead>\n",
       "    <tr style=\"text-align: right;\">\n",
       "      <th></th>\n",
       "      <th>ID_RSSD_PREDECESSOR</th>\n",
       "      <th>ID_RSSD_SUCCESSOR</th>\n",
       "      <th>D_DT_TRANS</th>\n",
       "      <th>TRNSFM_CD</th>\n",
       "      <th>ACCT_METHOD</th>\n",
       "      <th>DT_TRANS</th>\n",
       "      <th>Year</th>\n",
       "    </tr>\n",
       "  </thead>\n",
       "  <tbody>\n",
       "    <tr>\n",
       "      <th>0</th>\n",
       "      <td>477639</td>\n",
       "      <td>35785</td>\n",
       "      <td>2024-01-17</td>\n",
       "      <td>1</td>\n",
       "      <td>0</td>\n",
       "      <td>20240117</td>\n",
       "      <td>2024</td>\n",
       "    </tr>\n",
       "    <tr>\n",
       "      <th>1</th>\n",
       "      <td>900379</td>\n",
       "      <td>864471</td>\n",
       "      <td>2024-01-03</td>\n",
       "      <td>1</td>\n",
       "      <td>2</td>\n",
       "      <td>20240103</td>\n",
       "      <td>2024</td>\n",
       "    </tr>\n",
       "    <tr>\n",
       "      <th>2</th>\n",
       "      <td>3837430</td>\n",
       "      <td>5726556</td>\n",
       "      <td>2024-01-03</td>\n",
       "      <td>1</td>\n",
       "      <td>0</td>\n",
       "      <td>20240103</td>\n",
       "      <td>2024</td>\n",
       "    </tr>\n",
       "    <tr>\n",
       "      <th>3</th>\n",
       "      <td>3837467</td>\n",
       "      <td>5726556</td>\n",
       "      <td>2024-01-03</td>\n",
       "      <td>1</td>\n",
       "      <td>0</td>\n",
       "      <td>20240103</td>\n",
       "      <td>2024</td>\n",
       "    </tr>\n",
       "    <tr>\n",
       "      <th>4</th>\n",
       "      <td>30650</td>\n",
       "      <td>3971</td>\n",
       "      <td>2024-01-01</td>\n",
       "      <td>1</td>\n",
       "      <td>1</td>\n",
       "      <td>20240101</td>\n",
       "      <td>2024</td>\n",
       "    </tr>\n",
       "  </tbody>\n",
       "</table>\n",
       "</div>"
      ],
      "text/plain": [
       "   ID_RSSD_PREDECESSOR  ID_RSSD_SUCCESSOR D_DT_TRANS  TRNSFM_CD  ACCT_METHOD  \\\n",
       "0               477639              35785 2024-01-17          1            0   \n",
       "1               900379             864471 2024-01-03          1            2   \n",
       "2              3837430            5726556 2024-01-03          1            0   \n",
       "3              3837467            5726556 2024-01-03          1            0   \n",
       "4                30650               3971 2024-01-01          1            1   \n",
       "\n",
       "   DT_TRANS  Year  \n",
       "0  20240117  2024  \n",
       "1  20240103  2024  \n",
       "2  20240103  2024  \n",
       "3  20240103  2024  \n",
       "4  20240101  2024  "
      ]
     },
     "execution_count": 4,
     "metadata": {},
     "output_type": "execute_result"
    }
   ],
   "source": [
    "\n",
    "#Defining the directory path towards the excel file containing the data\n",
    "excel_dir_trans=r\"Your\\Directory\\Here\\Dataframe\\transformations.xlsx\"\n",
    "\n",
    "#Load excel file into dataframe\n",
    "transformations_df=pd.read_excel(excel_dir_trans, sheet_name=\"transformations_big_7\")\n",
    "transformations_df.head()"
   ]
  },
  {
   "cell_type": "code",
   "execution_count": 5,
   "metadata": {},
   "outputs": [],
   "source": [
    "# Define the RSSD IDs of the Big Seven banks\n",
    "big_seven_rssd = {\n",
    "    'JPMORGAN CHASE BK NA/JPMORGAN CHASE & CO': 852218,\n",
    "    'BANK OF AMER NA/BANK OF AMER CORP': 480228,\n",
    "    'CITIBANK NA/CITIGROUP': 476810,\n",
    "    'WELLS FARGO BK NA/WELLS FARGO & CO': 451965,\n",
    "    'U S BK NA/U S BC': 504713,\n",
    "    'TRUIST BK/TRUIST FC': 852320,\n",
    "    'PNC BK NA/PNC FNCL SVC GROUP': 817824\n",
    "}"
   ]
  },
  {
   "cell_type": "markdown",
   "metadata": {},
   "source": [
    "### 1a) Adding missing legal names <a id=\"1\"></a>\n",
    "The first problem that we encounter with the raw data is that we don't have the legal names of the banks. For this reason, we have to relly on the the 'attributes' dataset of active and closed institutions in the same webpage. This datasets have the RSSD and the legal name through which we can correlate the RSSD of our 'transformations' datataset. "
   ]
  },
  {
   "cell_type": "code",
   "execution_count": 6,
   "metadata": {},
   "outputs": [
    {
     "data": {
      "text/html": [
       "<div>\n",
       "<style scoped>\n",
       "    .dataframe tbody tr th:only-of-type {\n",
       "        vertical-align: middle;\n",
       "    }\n",
       "\n",
       "    .dataframe tbody tr th {\n",
       "        vertical-align: top;\n",
       "    }\n",
       "\n",
       "    .dataframe thead th {\n",
       "        text-align: right;\n",
       "    }\n",
       "</style>\n",
       "<table border=\"1\" class=\"dataframe\">\n",
       "  <thead>\n",
       "    <tr style=\"text-align: right;\">\n",
       "      <th></th>\n",
       "      <th>ID_RSSD</th>\n",
       "      <th>D_DT_START</th>\n",
       "      <th>D_DT_END</th>\n",
       "      <th>BHC_IND</th>\n",
       "      <th>BROAD_REG_CD</th>\n",
       "      <th>CHTR_AUTH_CD</th>\n",
       "      <th>CHTR_TYPE_CD</th>\n",
       "      <th>FBO_4C9_IND</th>\n",
       "      <th>FHC_IND</th>\n",
       "      <th>FUNC_REG</th>\n",
       "      <th>...</th>\n",
       "      <th>URL</th>\n",
       "      <th>SLHC_IND</th>\n",
       "      <th>SLHC_TYPE_IND</th>\n",
       "      <th>PRIM_FED_REG</th>\n",
       "      <th>STATE_INC_CD</th>\n",
       "      <th>CNTRY_INC_CD</th>\n",
       "      <th>STATE_INC_ABBR_NM</th>\n",
       "      <th>CNTRY_INC_NM</th>\n",
       "      <th>ID_LEI</th>\n",
       "      <th>IHC_IND</th>\n",
       "    </tr>\n",
       "  </thead>\n",
       "  <tbody>\n",
       "    <tr>\n",
       "      <th>0</th>\n",
       "      <td>56294</td>\n",
       "      <td>2008-12-31</td>\n",
       "      <td>9999-12-31 00:00:00</td>\n",
       "      <td>0</td>\n",
       "      <td>2</td>\n",
       "      <td>2</td>\n",
       "      <td>330</td>\n",
       "      <td>0</td>\n",
       "      <td>0</td>\n",
       "      <td>0</td>\n",
       "      <td>...</td>\n",
       "      <td>0</td>\n",
       "      <td>0</td>\n",
       "      <td>0</td>\n",
       "      <td>NCUA</td>\n",
       "      <td>0</td>\n",
       "      <td>0</td>\n",
       "      <td>0</td>\n",
       "      <td>NaN</td>\n",
       "      <td>0</td>\n",
       "      <td>0</td>\n",
       "    </tr>\n",
       "    <tr>\n",
       "      <th>1</th>\n",
       "      <td>56351</td>\n",
       "      <td>2019-01-22</td>\n",
       "      <td>9999-12-31 00:00:00</td>\n",
       "      <td>0</td>\n",
       "      <td>1</td>\n",
       "      <td>1</td>\n",
       "      <td>200</td>\n",
       "      <td>0</td>\n",
       "      <td>0</td>\n",
       "      <td>0</td>\n",
       "      <td>...</td>\n",
       "      <td>WWW.CNBTEXAS.COM</td>\n",
       "      <td>0</td>\n",
       "      <td>0</td>\n",
       "      <td>OCC</td>\n",
       "      <td>0</td>\n",
       "      <td>0</td>\n",
       "      <td>0</td>\n",
       "      <td>NaN</td>\n",
       "      <td>0</td>\n",
       "      <td>0</td>\n",
       "    </tr>\n",
       "    <tr>\n",
       "      <th>2</th>\n",
       "      <td>56548</td>\n",
       "      <td>2023-04-03</td>\n",
       "      <td>9999-12-31 00:00:00</td>\n",
       "      <td>0</td>\n",
       "      <td>1</td>\n",
       "      <td>2</td>\n",
       "      <td>200</td>\n",
       "      <td>0</td>\n",
       "      <td>0</td>\n",
       "      <td>0</td>\n",
       "      <td>...</td>\n",
       "      <td>0</td>\n",
       "      <td>0</td>\n",
       "      <td>0</td>\n",
       "      <td>FDIC</td>\n",
       "      <td>55</td>\n",
       "      <td>0</td>\n",
       "      <td>WI</td>\n",
       "      <td>NaN</td>\n",
       "      <td>549300LC0BP2X1F6BE13</td>\n",
       "      <td>0</td>\n",
       "    </tr>\n",
       "    <tr>\n",
       "      <th>3</th>\n",
       "      <td>56678</td>\n",
       "      <td>2012-05-17</td>\n",
       "      <td>9999-12-31 00:00:00</td>\n",
       "      <td>0</td>\n",
       "      <td>2</td>\n",
       "      <td>1</td>\n",
       "      <td>330</td>\n",
       "      <td>0</td>\n",
       "      <td>0</td>\n",
       "      <td>0</td>\n",
       "      <td>...</td>\n",
       "      <td>0</td>\n",
       "      <td>0</td>\n",
       "      <td>0</td>\n",
       "      <td>NCUA</td>\n",
       "      <td>0</td>\n",
       "      <td>0</td>\n",
       "      <td>0</td>\n",
       "      <td>NaN</td>\n",
       "      <td>0</td>\n",
       "      <td>0</td>\n",
       "    </tr>\n",
       "    <tr>\n",
       "      <th>4</th>\n",
       "      <td>56717</td>\n",
       "      <td>2017-10-26</td>\n",
       "      <td>9999-12-31 00:00:00</td>\n",
       "      <td>0</td>\n",
       "      <td>1</td>\n",
       "      <td>2</td>\n",
       "      <td>200</td>\n",
       "      <td>0</td>\n",
       "      <td>0</td>\n",
       "      <td>0</td>\n",
       "      <td>...</td>\n",
       "      <td>0</td>\n",
       "      <td>0</td>\n",
       "      <td>0</td>\n",
       "      <td>FDIC</td>\n",
       "      <td>42</td>\n",
       "      <td>0</td>\n",
       "      <td>PA</td>\n",
       "      <td>NaN</td>\n",
       "      <td>549300JSQZG5CD2LWR30</td>\n",
       "      <td>0</td>\n",
       "    </tr>\n",
       "  </tbody>\n",
       "</table>\n",
       "<p>5 rows × 74 columns</p>\n",
       "</div>"
      ],
      "text/plain": [
       "   ID_RSSD D_DT_START             D_DT_END  BHC_IND  BROAD_REG_CD  \\\n",
       "0    56294 2008-12-31  9999-12-31 00:00:00        0             2   \n",
       "1    56351 2019-01-22  9999-12-31 00:00:00        0             1   \n",
       "2    56548 2023-04-03  9999-12-31 00:00:00        0             1   \n",
       "3    56678 2012-05-17  9999-12-31 00:00:00        0             2   \n",
       "4    56717 2017-10-26  9999-12-31 00:00:00        0             1   \n",
       "\n",
       "   CHTR_AUTH_CD  CHTR_TYPE_CD  FBO_4C9_IND  FHC_IND  FUNC_REG  ...  \\\n",
       "0             2           330            0        0         0  ...   \n",
       "1             1           200            0        0         0  ...   \n",
       "2             2           200            0        0         0  ...   \n",
       "3             1           330            0        0         0  ...   \n",
       "4             2           200            0        0         0  ...   \n",
       "\n",
       "                URL  SLHC_IND  SLHC_TYPE_IND  PRIM_FED_REG  STATE_INC_CD  \\\n",
       "0                 0         0              0          NCUA             0   \n",
       "1  WWW.CNBTEXAS.COM         0              0           OCC             0   \n",
       "2                 0         0              0          FDIC            55   \n",
       "3                 0         0              0          NCUA             0   \n",
       "4                 0         0              0          FDIC            42   \n",
       "\n",
       "   CNTRY_INC_CD  STATE_INC_ABBR_NM CNTRY_INC_NM                ID_LEI  IHC_IND  \n",
       "0             0                  0          NaN                     0        0  \n",
       "1             0                  0          NaN                     0        0  \n",
       "2             0                 WI          NaN  549300LC0BP2X1F6BE13        0  \n",
       "3             0                  0          NaN                     0        0  \n",
       "4             0                 PA          NaN  549300JSQZG5CD2LWR30        0  \n",
       "\n",
       "[5 rows x 74 columns]"
      ]
     },
     "execution_count": 6,
     "metadata": {},
     "output_type": "execute_result"
    }
   ],
   "source": [
    "#Defining the attributes_active dataframe\n",
    "\n",
    "#Defining the directory path towards the excel file containing the data\n",
    "excel_dir_attr_act=r\"Your\\Directory\\Here\\Dataframe\\attributes_active.xlsx\"\n",
    "\n",
    "#Load excel file into dataframe\n",
    "attr_act_df=pd.read_excel(excel_dir_attr_act, sheet_name=\"attributes_active\")\n",
    "\n",
    "attr_act_df.head()\n"
   ]
  },
  {
   "cell_type": "code",
   "execution_count": 7,
   "metadata": {},
   "outputs": [
    {
     "data": {
      "text/html": [
       "<div>\n",
       "<style scoped>\n",
       "    .dataframe tbody tr th:only-of-type {\n",
       "        vertical-align: middle;\n",
       "    }\n",
       "\n",
       "    .dataframe tbody tr th {\n",
       "        vertical-align: top;\n",
       "    }\n",
       "\n",
       "    .dataframe thead th {\n",
       "        text-align: right;\n",
       "    }\n",
       "</style>\n",
       "<table border=\"1\" class=\"dataframe\">\n",
       "  <thead>\n",
       "    <tr style=\"text-align: right;\">\n",
       "      <th></th>\n",
       "      <th>ID_RSSD</th>\n",
       "      <th>D_DT_START</th>\n",
       "      <th>D_DT_END</th>\n",
       "      <th>BHC_IND</th>\n",
       "      <th>BROAD_REG_CD</th>\n",
       "      <th>CHTR_AUTH_CD</th>\n",
       "      <th>CHTR_TYPE_CD</th>\n",
       "      <th>FBO_4C9_IND</th>\n",
       "      <th>FHC_IND</th>\n",
       "      <th>FUNC_REG</th>\n",
       "      <th>...</th>\n",
       "      <th>URL</th>\n",
       "      <th>SLHC_IND</th>\n",
       "      <th>SLHC_TYPE_IND</th>\n",
       "      <th>PRIM_FED_REG</th>\n",
       "      <th>STATE_INC_CD</th>\n",
       "      <th>CNTRY_INC_CD</th>\n",
       "      <th>STATE_INC_ABBR_NM</th>\n",
       "      <th>CNTRY_INC_NM</th>\n",
       "      <th>ID_LEI</th>\n",
       "      <th>IHC_IND</th>\n",
       "    </tr>\n",
       "  </thead>\n",
       "  <tbody>\n",
       "    <tr>\n",
       "      <th>0</th>\n",
       "      <td>56285</td>\n",
       "      <td>1979-12-31 00:00:00</td>\n",
       "      <td>1982-11-16</td>\n",
       "      <td>0</td>\n",
       "      <td>2</td>\n",
       "      <td>1</td>\n",
       "      <td>330</td>\n",
       "      <td>0</td>\n",
       "      <td>0</td>\n",
       "      <td>0</td>\n",
       "      <td>...</td>\n",
       "      <td>0</td>\n",
       "      <td>0</td>\n",
       "      <td>0</td>\n",
       "      <td>NCUA</td>\n",
       "      <td>0</td>\n",
       "      <td>0</td>\n",
       "      <td>0</td>\n",
       "      <td>NaN</td>\n",
       "      <td>0</td>\n",
       "      <td>0</td>\n",
       "    </tr>\n",
       "    <tr>\n",
       "      <th>1</th>\n",
       "      <td>56379</td>\n",
       "      <td>1989-08-09 00:00:00</td>\n",
       "      <td>1993-05-28</td>\n",
       "      <td>0</td>\n",
       "      <td>2</td>\n",
       "      <td>1</td>\n",
       "      <td>300</td>\n",
       "      <td>0</td>\n",
       "      <td>0</td>\n",
       "      <td>0</td>\n",
       "      <td>...</td>\n",
       "      <td>0</td>\n",
       "      <td>0</td>\n",
       "      <td>0</td>\n",
       "      <td>OTS</td>\n",
       "      <td>0</td>\n",
       "      <td>0</td>\n",
       "      <td>0</td>\n",
       "      <td>NaN</td>\n",
       "      <td>0</td>\n",
       "      <td>0</td>\n",
       "    </tr>\n",
       "    <tr>\n",
       "      <th>2</th>\n",
       "      <td>56388</td>\n",
       "      <td>1979-12-31 00:00:00</td>\n",
       "      <td>1980-03-21</td>\n",
       "      <td>0</td>\n",
       "      <td>2</td>\n",
       "      <td>1</td>\n",
       "      <td>330</td>\n",
       "      <td>0</td>\n",
       "      <td>0</td>\n",
       "      <td>0</td>\n",
       "      <td>...</td>\n",
       "      <td>0</td>\n",
       "      <td>0</td>\n",
       "      <td>0</td>\n",
       "      <td>NCUA</td>\n",
       "      <td>0</td>\n",
       "      <td>0</td>\n",
       "      <td>0</td>\n",
       "      <td>NaN</td>\n",
       "      <td>0</td>\n",
       "      <td>0</td>\n",
       "    </tr>\n",
       "    <tr>\n",
       "      <th>3</th>\n",
       "      <td>56397</td>\n",
       "      <td>1980-12-31 00:00:00</td>\n",
       "      <td>1984-10-03</td>\n",
       "      <td>0</td>\n",
       "      <td>2</td>\n",
       "      <td>2</td>\n",
       "      <td>330</td>\n",
       "      <td>0</td>\n",
       "      <td>0</td>\n",
       "      <td>0</td>\n",
       "      <td>...</td>\n",
       "      <td>0</td>\n",
       "      <td>0</td>\n",
       "      <td>0</td>\n",
       "      <td>NCUA</td>\n",
       "      <td>0</td>\n",
       "      <td>0</td>\n",
       "      <td>0</td>\n",
       "      <td>NaN</td>\n",
       "      <td>0</td>\n",
       "      <td>0</td>\n",
       "    </tr>\n",
       "    <tr>\n",
       "      <th>4</th>\n",
       "      <td>56472</td>\n",
       "      <td>1986-01-01 00:00:00</td>\n",
       "      <td>1986-05-04</td>\n",
       "      <td>0</td>\n",
       "      <td>2</td>\n",
       "      <td>1</td>\n",
       "      <td>300</td>\n",
       "      <td>0</td>\n",
       "      <td>0</td>\n",
       "      <td>0</td>\n",
       "      <td>...</td>\n",
       "      <td>0</td>\n",
       "      <td>0</td>\n",
       "      <td>0</td>\n",
       "      <td>NaN</td>\n",
       "      <td>0</td>\n",
       "      <td>0</td>\n",
       "      <td>0</td>\n",
       "      <td>NaN</td>\n",
       "      <td>0</td>\n",
       "      <td>0</td>\n",
       "    </tr>\n",
       "  </tbody>\n",
       "</table>\n",
       "<p>5 rows × 74 columns</p>\n",
       "</div>"
      ],
      "text/plain": [
       "   ID_RSSD           D_DT_START   D_DT_END  BHC_IND  BROAD_REG_CD  \\\n",
       "0    56285  1979-12-31 00:00:00 1982-11-16        0             2   \n",
       "1    56379  1989-08-09 00:00:00 1993-05-28        0             2   \n",
       "2    56388  1979-12-31 00:00:00 1980-03-21        0             2   \n",
       "3    56397  1980-12-31 00:00:00 1984-10-03        0             2   \n",
       "4    56472  1986-01-01 00:00:00 1986-05-04        0             2   \n",
       "\n",
       "   CHTR_AUTH_CD  CHTR_TYPE_CD  FBO_4C9_IND  FHC_IND  FUNC_REG  ...  URL  \\\n",
       "0             1           330            0        0         0  ...    0   \n",
       "1             1           300            0        0         0  ...    0   \n",
       "2             1           330            0        0         0  ...    0   \n",
       "3             2           330            0        0         0  ...    0   \n",
       "4             1           300            0        0         0  ...    0   \n",
       "\n",
       "   SLHC_IND  SLHC_TYPE_IND  PRIM_FED_REG  STATE_INC_CD  CNTRY_INC_CD  \\\n",
       "0         0              0          NCUA             0             0   \n",
       "1         0              0           OTS             0             0   \n",
       "2         0              0          NCUA             0             0   \n",
       "3         0              0          NCUA             0             0   \n",
       "4         0              0           NaN             0             0   \n",
       "\n",
       "   STATE_INC_ABBR_NM CNTRY_INC_NM ID_LEI  IHC_IND  \n",
       "0                  0          NaN      0        0  \n",
       "1                  0          NaN      0        0  \n",
       "2                  0          NaN      0        0  \n",
       "3                  0          NaN      0        0  \n",
       "4                  0          NaN      0        0  \n",
       "\n",
       "[5 rows x 74 columns]"
      ]
     },
     "execution_count": 7,
     "metadata": {},
     "output_type": "execute_result"
    }
   ],
   "source": [
    "#Defining the attributes_closed dataframe\n",
    "\n",
    "#Defining the directory path towards the excel file containing the data\n",
    "excel_dir_attr_cls=r\"Your\\Directory\\Here\\Dataframe\\attributes_closed.xlsx\"\n",
    "\n",
    "#Load excel file into dataframe\n",
    "attr_cls_df=pd.read_excel(excel_dir_attr_cls, sheet_name=\"attributes_closed\")\n",
    "\n",
    "#Display the dataframe\n",
    "attr_cls_df.head()"
   ]
  },
  {
   "cell_type": "markdown",
   "metadata": {},
   "source": [
    "Now, let's combine the active and closed 'attributes' datasets to create a list of RSSD's and their respective names. After this, we will map the legal names to the RSSD of the 'transformations' dataset into the 'trasformations_df'."
   ]
  },
  {
   "cell_type": "code",
   "execution_count": 8,
   "metadata": {},
   "outputs": [],
   "source": [
    "#Combine the active and closed attributes dataframes\n",
    "attr_df=pd.concat([attr_act_df, attr_cls_df], axis=0)\n",
    "\n",
    "#Download the dataframe as a excel file\n",
    "attr_df.to_excel(r\"Your\\Directory\\Here\\Dataframe\\attributes_combined_update.xlsx\")"
   ]
  },
  {
   "cell_type": "code",
   "execution_count": 9,
   "metadata": {},
   "outputs": [
    {
     "data": {
      "text/plain": [
       "ID_RSSD\n",
       "56294    SPRINGFIELD FIREFIGHTERS CREDIT UNION         ...\n",
       "56351    VERABANK, NATIONAL ASSOCIATION                ...\n",
       "56548    DMB COMMUNITY BANK                            ...\n",
       "56678    FRANKLIN TRUST FEDERAL CREDIT UNION           ...\n",
       "56717    DIME BANK, THE                                ...\n",
       "dtype: object"
      ]
     },
     "execution_count": 9,
     "metadata": {},
     "output_type": "execute_result"
    }
   ],
   "source": [
    "#Create a dictionary to map ID_RSSD to NM_LGL\n",
    "rssd_nm_dict=pd.Series(attr_df.NM_LGL.values,\n",
    "                       index=attr_df.ID_RSSD)\n",
    "rssd_nm_dict.head()\n"
   ]
  },
  {
   "cell_type": "code",
   "execution_count": 10,
   "metadata": {},
   "outputs": [
    {
     "data": {
      "text/html": [
       "<div>\n",
       "<style scoped>\n",
       "    .dataframe tbody tr th:only-of-type {\n",
       "        vertical-align: middle;\n",
       "    }\n",
       "\n",
       "    .dataframe tbody tr th {\n",
       "        vertical-align: top;\n",
       "    }\n",
       "\n",
       "    .dataframe thead th {\n",
       "        text-align: right;\n",
       "    }\n",
       "</style>\n",
       "<table border=\"1\" class=\"dataframe\">\n",
       "  <thead>\n",
       "    <tr style=\"text-align: right;\">\n",
       "      <th></th>\n",
       "      <th>ID_RSSD_PREDECESSOR</th>\n",
       "      <th>ID_RSSD_SUCCESSOR</th>\n",
       "      <th>D_DT_TRANS</th>\n",
       "      <th>TRNSFM_CD</th>\n",
       "      <th>ACCT_METHOD</th>\n",
       "      <th>DT_TRANS</th>\n",
       "      <th>Year</th>\n",
       "      <th>Predecessor_Name</th>\n",
       "      <th>Successor_Name</th>\n",
       "    </tr>\n",
       "  </thead>\n",
       "  <tbody>\n",
       "    <tr>\n",
       "      <th>0</th>\n",
       "      <td>477639</td>\n",
       "      <td>35785</td>\n",
       "      <td>2024-01-17</td>\n",
       "      <td>1</td>\n",
       "      <td>0</td>\n",
       "      <td>20240117</td>\n",
       "      <td>2024</td>\n",
       "      <td>SUNSOUTH BANK                                 ...</td>\n",
       "      <td>ALL IN FEDERAL CREDIT UNION                   ...</td>\n",
       "    </tr>\n",
       "    <tr>\n",
       "      <th>1</th>\n",
       "      <td>900379</td>\n",
       "      <td>864471</td>\n",
       "      <td>2024-01-03</td>\n",
       "      <td>1</td>\n",
       "      <td>2</td>\n",
       "      <td>20240103</td>\n",
       "      <td>2024</td>\n",
       "      <td>NaN</td>\n",
       "      <td>PIEDMONT FEDERAL SAVINGS BANK                 ...</td>\n",
       "    </tr>\n",
       "    <tr>\n",
       "      <th>2</th>\n",
       "      <td>3837430</td>\n",
       "      <td>5726556</td>\n",
       "      <td>2024-01-03</td>\n",
       "      <td>1</td>\n",
       "      <td>0</td>\n",
       "      <td>20240103</td>\n",
       "      <td>2024</td>\n",
       "      <td>WAKE FOREST BANCSHARES, INC.                  ...</td>\n",
       "      <td>PIEDMONT FINANCIAL HOLDING COMPANY            ...</td>\n",
       "    </tr>\n",
       "    <tr>\n",
       "      <th>3</th>\n",
       "      <td>3837467</td>\n",
       "      <td>5726556</td>\n",
       "      <td>2024-01-03</td>\n",
       "      <td>1</td>\n",
       "      <td>0</td>\n",
       "      <td>20240103</td>\n",
       "      <td>2024</td>\n",
       "      <td>WAKE FOREST BANCORP, M.H.C.                   ...</td>\n",
       "      <td>PIEDMONT FINANCIAL HOLDING COMPANY            ...</td>\n",
       "    </tr>\n",
       "    <tr>\n",
       "      <th>4</th>\n",
       "      <td>30650</td>\n",
       "      <td>3971</td>\n",
       "      <td>2024-01-01</td>\n",
       "      <td>1</td>\n",
       "      <td>1</td>\n",
       "      <td>20240101</td>\n",
       "      <td>2024</td>\n",
       "      <td>NaN</td>\n",
       "      <td>MIDCOUNTRY BANK                               ...</td>\n",
       "    </tr>\n",
       "  </tbody>\n",
       "</table>\n",
       "</div>"
      ],
      "text/plain": [
       "   ID_RSSD_PREDECESSOR  ID_RSSD_SUCCESSOR D_DT_TRANS  TRNSFM_CD  ACCT_METHOD  \\\n",
       "0               477639              35785 2024-01-17          1            0   \n",
       "1               900379             864471 2024-01-03          1            2   \n",
       "2              3837430            5726556 2024-01-03          1            0   \n",
       "3              3837467            5726556 2024-01-03          1            0   \n",
       "4                30650               3971 2024-01-01          1            1   \n",
       "\n",
       "   DT_TRANS  Year                                   Predecessor_Name  \\\n",
       "0  20240117  2024  SUNSOUTH BANK                                 ...   \n",
       "1  20240103  2024                                                NaN   \n",
       "2  20240103  2024  WAKE FOREST BANCSHARES, INC.                  ...   \n",
       "3  20240103  2024  WAKE FOREST BANCORP, M.H.C.                   ...   \n",
       "4  20240101  2024                                                NaN   \n",
       "\n",
       "                                      Successor_Name  \n",
       "0  ALL IN FEDERAL CREDIT UNION                   ...  \n",
       "1  PIEDMONT FEDERAL SAVINGS BANK                 ...  \n",
       "2  PIEDMONT FINANCIAL HOLDING COMPANY            ...  \n",
       "3  PIEDMONT FINANCIAL HOLDING COMPANY            ...  \n",
       "4  MIDCOUNTRY BANK                               ...  "
      ]
     },
     "execution_count": 10,
     "metadata": {},
     "output_type": "execute_result"
    }
   ],
   "source": [
    "#Map the legal names to the transformations dataframe\n",
    "transformations_df['Predecessor_Name']=transformations_df['ID_RSSD_PREDECESSOR'].map(rssd_nm_dict)\n",
    "transformations_df['Successor_Name']=transformations_df['ID_RSSD_SUCCESSOR'].map(rssd_nm_dict)\n",
    "transformations_df.head()"
   ]
  },
  {
   "cell_type": "markdown",
   "metadata": {},
   "source": [
    "### 1b) Changing the accouting method and transformation codes <a id=\"2\"></a>"
   ]
  },
  {
   "cell_type": "code",
   "execution_count": 11,
   "metadata": {},
   "outputs": [],
   "source": [
    "# Change the header of 'TRNSFM_CD' to 'Transformation Code'\n",
    "transformations_df = transformations_df.rename(columns={'TRNSFM_CD': 'Transformation Code'})\n",
    "\n",
    "# Change the codes in the 'Transformation Code' column\n",
    "transformations_df['Transformation Code'] = transformations_df['Transformation Code'].replace({\n",
    "    1: 'Charter Discontinued',\n",
    "    5: 'Split',\n",
    "    7: 'Sale of Assets',\n",
    "    9: 'Charter Retained',\n",
    "    50: 'Failure'\n",
    "})\n"
   ]
  },
  {
   "cell_type": "code",
   "execution_count": 12,
   "metadata": {},
   "outputs": [],
   "source": [
    "# Change the header of 'ACCT_METHOD' to 'Accounting Method'\n",
    "transformations_df = transformations_df.rename(columns={'ACCT_METHOD': 'Accounting Method'})\n",
    "\n",
    "# Change the codes in the 'Accounting Method' column\n",
    "transformations_df['Accounting Method'] = transformations_df['Accounting Method'].replace({\n",
    "    0: 'Not Applicable',\n",
    "    1: 'Merger',\n",
    "    2: 'Purchase/Acquisition'\n",
    "})"
   ]
  },
  {
   "cell_type": "code",
   "execution_count": 13,
   "metadata": {},
   "outputs": [
    {
     "data": {
      "text/html": [
       "<div>\n",
       "<style scoped>\n",
       "    .dataframe tbody tr th:only-of-type {\n",
       "        vertical-align: middle;\n",
       "    }\n",
       "\n",
       "    .dataframe tbody tr th {\n",
       "        vertical-align: top;\n",
       "    }\n",
       "\n",
       "    .dataframe thead th {\n",
       "        text-align: right;\n",
       "    }\n",
       "</style>\n",
       "<table border=\"1\" class=\"dataframe\">\n",
       "  <thead>\n",
       "    <tr style=\"text-align: right;\">\n",
       "      <th></th>\n",
       "      <th>ID_RSSD_PREDECESSOR</th>\n",
       "      <th>ID_RSSD_SUCCESSOR</th>\n",
       "      <th>D_DT_TRANS</th>\n",
       "      <th>Transformation Code</th>\n",
       "      <th>Accounting Method</th>\n",
       "      <th>DT_TRANS</th>\n",
       "      <th>Year</th>\n",
       "      <th>Predecessor_Name</th>\n",
       "      <th>Successor_Name</th>\n",
       "    </tr>\n",
       "  </thead>\n",
       "  <tbody>\n",
       "    <tr>\n",
       "      <th>0</th>\n",
       "      <td>477639</td>\n",
       "      <td>35785</td>\n",
       "      <td>2024-01-17</td>\n",
       "      <td>Charter Discontinued</td>\n",
       "      <td>Not Applicable</td>\n",
       "      <td>20240117</td>\n",
       "      <td>2024</td>\n",
       "      <td>SUNSOUTH BANK                                 ...</td>\n",
       "      <td>ALL IN FEDERAL CREDIT UNION                   ...</td>\n",
       "    </tr>\n",
       "    <tr>\n",
       "      <th>1</th>\n",
       "      <td>900379</td>\n",
       "      <td>864471</td>\n",
       "      <td>2024-01-03</td>\n",
       "      <td>Charter Discontinued</td>\n",
       "      <td>Purchase/Acquisition</td>\n",
       "      <td>20240103</td>\n",
       "      <td>2024</td>\n",
       "      <td>NaN</td>\n",
       "      <td>PIEDMONT FEDERAL SAVINGS BANK                 ...</td>\n",
       "    </tr>\n",
       "    <tr>\n",
       "      <th>2</th>\n",
       "      <td>3837430</td>\n",
       "      <td>5726556</td>\n",
       "      <td>2024-01-03</td>\n",
       "      <td>Charter Discontinued</td>\n",
       "      <td>Not Applicable</td>\n",
       "      <td>20240103</td>\n",
       "      <td>2024</td>\n",
       "      <td>WAKE FOREST BANCSHARES, INC.                  ...</td>\n",
       "      <td>PIEDMONT FINANCIAL HOLDING COMPANY            ...</td>\n",
       "    </tr>\n",
       "    <tr>\n",
       "      <th>3</th>\n",
       "      <td>3837467</td>\n",
       "      <td>5726556</td>\n",
       "      <td>2024-01-03</td>\n",
       "      <td>Charter Discontinued</td>\n",
       "      <td>Not Applicable</td>\n",
       "      <td>20240103</td>\n",
       "      <td>2024</td>\n",
       "      <td>WAKE FOREST BANCORP, M.H.C.                   ...</td>\n",
       "      <td>PIEDMONT FINANCIAL HOLDING COMPANY            ...</td>\n",
       "    </tr>\n",
       "    <tr>\n",
       "      <th>4</th>\n",
       "      <td>30650</td>\n",
       "      <td>3971</td>\n",
       "      <td>2024-01-01</td>\n",
       "      <td>Charter Discontinued</td>\n",
       "      <td>Merger</td>\n",
       "      <td>20240101</td>\n",
       "      <td>2024</td>\n",
       "      <td>NaN</td>\n",
       "      <td>MIDCOUNTRY BANK                               ...</td>\n",
       "    </tr>\n",
       "  </tbody>\n",
       "</table>\n",
       "</div>"
      ],
      "text/plain": [
       "   ID_RSSD_PREDECESSOR  ID_RSSD_SUCCESSOR D_DT_TRANS   Transformation Code  \\\n",
       "0               477639              35785 2024-01-17  Charter Discontinued   \n",
       "1               900379             864471 2024-01-03  Charter Discontinued   \n",
       "2              3837430            5726556 2024-01-03  Charter Discontinued   \n",
       "3              3837467            5726556 2024-01-03  Charter Discontinued   \n",
       "4                30650               3971 2024-01-01  Charter Discontinued   \n",
       "\n",
       "      Accounting Method  DT_TRANS  Year  \\\n",
       "0        Not Applicable  20240117  2024   \n",
       "1  Purchase/Acquisition  20240103  2024   \n",
       "2        Not Applicable  20240103  2024   \n",
       "3        Not Applicable  20240103  2024   \n",
       "4                Merger  20240101  2024   \n",
       "\n",
       "                                    Predecessor_Name  \\\n",
       "0  SUNSOUTH BANK                                 ...   \n",
       "1                                                NaN   \n",
       "2  WAKE FOREST BANCSHARES, INC.                  ...   \n",
       "3  WAKE FOREST BANCORP, M.H.C.                   ...   \n",
       "4                                                NaN   \n",
       "\n",
       "                                      Successor_Name  \n",
       "0  ALL IN FEDERAL CREDIT UNION                   ...  \n",
       "1  PIEDMONT FEDERAL SAVINGS BANK                 ...  \n",
       "2  PIEDMONT FINANCIAL HOLDING COMPANY            ...  \n",
       "3  PIEDMONT FINANCIAL HOLDING COMPANY            ...  \n",
       "4  MIDCOUNTRY BANK                               ...  "
      ]
     },
     "execution_count": 13,
     "metadata": {},
     "output_type": "execute_result"
    }
   ],
   "source": [
    "#Displayed changed transformations_df dataframe with the new headers and codes\n",
    "transformations_df.head()"
   ]
  },
  {
   "cell_type": "code",
   "execution_count": 14,
   "metadata": {},
   "outputs": [],
   "source": [
    "#Download the transformations_df as a excel file\n",
    "transformations_df.to_excel(r\"Your\\Directory\\Here\\Dataframe\\transformations_df_update.xlsx\")"
   ]
  },
  {
   "cell_type": "markdown",
   "metadata": {},
   "source": [
    "Although we a feasible dataframe in 'transformation_df', we don't have a complete list of the legal names of the predecessor entities. This is mainly because the 'attributes' datasets do not register branch divisions as seperate entities from the national association bank. Therefore, we will need to download the 'transformations_df' dataframe into an excel file 'trans_df' and fill the missing data entries manually for the banks of interest. "
   ]
  },
  {
   "cell_type": "code",
   "execution_count": 15,
   "metadata": {},
   "outputs": [],
   "source": [
    "#Create a data from from the 'trans_df' excel file\n",
    "file_path=r\"Your\\Directory\\Here\\Dataframe\\Tables\\trans_df.xlsx\""
   ]
  },
  {
   "cell_type": "code",
   "execution_count": 16,
   "metadata": {},
   "outputs": [
    {
     "data": {
      "text/html": [
       "<div>\n",
       "<style scoped>\n",
       "    .dataframe tbody tr th:only-of-type {\n",
       "        vertical-align: middle;\n",
       "    }\n",
       "\n",
       "    .dataframe tbody tr th {\n",
       "        vertical-align: top;\n",
       "    }\n",
       "\n",
       "    .dataframe thead th {\n",
       "        text-align: right;\n",
       "    }\n",
       "</style>\n",
       "<table border=\"1\" class=\"dataframe\">\n",
       "  <thead>\n",
       "    <tr style=\"text-align: right;\">\n",
       "      <th></th>\n",
       "      <th>Column1</th>\n",
       "      <th>ID_RSSD_PREDECESSOR</th>\n",
       "      <th>ID_RSSD_SUCCESSOR</th>\n",
       "      <th>D_DT_TRANS</th>\n",
       "      <th>Transformation Code</th>\n",
       "      <th>Accounting Method</th>\n",
       "      <th>DT_TRANS</th>\n",
       "      <th>Year</th>\n",
       "      <th>Predecessor_Name</th>\n",
       "      <th>Successor_Name</th>\n",
       "    </tr>\n",
       "  </thead>\n",
       "  <tbody>\n",
       "    <tr>\n",
       "      <th>0</th>\n",
       "      <td>0</td>\n",
       "      <td>477639</td>\n",
       "      <td>35785</td>\n",
       "      <td>2024-01-17</td>\n",
       "      <td>Charter Discontinued</td>\n",
       "      <td>Not Applicable</td>\n",
       "      <td>20240117</td>\n",
       "      <td>2024</td>\n",
       "      <td>SUNSOUTH BANK                                 ...</td>\n",
       "      <td>ALL IN FEDERAL CREDIT UNION                   ...</td>\n",
       "    </tr>\n",
       "    <tr>\n",
       "      <th>1</th>\n",
       "      <td>1</td>\n",
       "      <td>900379</td>\n",
       "      <td>864471</td>\n",
       "      <td>2024-01-03</td>\n",
       "      <td>Charter Discontinued</td>\n",
       "      <td>Purchase/Acquisition</td>\n",
       "      <td>20240103</td>\n",
       "      <td>2024</td>\n",
       "      <td>NaN</td>\n",
       "      <td>PIEDMONT FEDERAL SAVINGS BANK                 ...</td>\n",
       "    </tr>\n",
       "    <tr>\n",
       "      <th>2</th>\n",
       "      <td>2</td>\n",
       "      <td>3837430</td>\n",
       "      <td>5726556</td>\n",
       "      <td>2024-01-03</td>\n",
       "      <td>Charter Discontinued</td>\n",
       "      <td>Not Applicable</td>\n",
       "      <td>20240103</td>\n",
       "      <td>2024</td>\n",
       "      <td>WAKE FOREST BANCSHARES, INC.                  ...</td>\n",
       "      <td>PIEDMONT FINANCIAL HOLDING COMPANY            ...</td>\n",
       "    </tr>\n",
       "    <tr>\n",
       "      <th>3</th>\n",
       "      <td>3</td>\n",
       "      <td>3837467</td>\n",
       "      <td>5726556</td>\n",
       "      <td>2024-01-03</td>\n",
       "      <td>Charter Discontinued</td>\n",
       "      <td>Not Applicable</td>\n",
       "      <td>20240103</td>\n",
       "      <td>2024</td>\n",
       "      <td>WAKE FOREST BANCORP, M.H.C.                   ...</td>\n",
       "      <td>PIEDMONT FINANCIAL HOLDING COMPANY            ...</td>\n",
       "    </tr>\n",
       "    <tr>\n",
       "      <th>4</th>\n",
       "      <td>4</td>\n",
       "      <td>30650</td>\n",
       "      <td>3971</td>\n",
       "      <td>2024-01-01</td>\n",
       "      <td>Charter Discontinued</td>\n",
       "      <td>Merger</td>\n",
       "      <td>20240101</td>\n",
       "      <td>2024</td>\n",
       "      <td>NaN</td>\n",
       "      <td>MIDCOUNTRY BANK                               ...</td>\n",
       "    </tr>\n",
       "  </tbody>\n",
       "</table>\n",
       "</div>"
      ],
      "text/plain": [
       "   Column1  ID_RSSD_PREDECESSOR  ID_RSSD_SUCCESSOR D_DT_TRANS  \\\n",
       "0        0               477639              35785 2024-01-17   \n",
       "1        1               900379             864471 2024-01-03   \n",
       "2        2              3837430            5726556 2024-01-03   \n",
       "3        3              3837467            5726556 2024-01-03   \n",
       "4        4                30650               3971 2024-01-01   \n",
       "\n",
       "    Transformation Code     Accounting Method  DT_TRANS  Year  \\\n",
       "0  Charter Discontinued        Not Applicable  20240117  2024   \n",
       "1  Charter Discontinued  Purchase/Acquisition  20240103  2024   \n",
       "2  Charter Discontinued        Not Applicable  20240103  2024   \n",
       "3  Charter Discontinued        Not Applicable  20240103  2024   \n",
       "4  Charter Discontinued                Merger  20240101  2024   \n",
       "\n",
       "                                    Predecessor_Name  \\\n",
       "0  SUNSOUTH BANK                                 ...   \n",
       "1                                                NaN   \n",
       "2  WAKE FOREST BANCSHARES, INC.                  ...   \n",
       "3  WAKE FOREST BANCORP, M.H.C.                   ...   \n",
       "4                                                NaN   \n",
       "\n",
       "                                      Successor_Name  \n",
       "0  ALL IN FEDERAL CREDIT UNION                   ...  \n",
       "1  PIEDMONT FEDERAL SAVINGS BANK                 ...  \n",
       "2  PIEDMONT FINANCIAL HOLDING COMPANY            ...  \n",
       "3  PIEDMONT FINANCIAL HOLDING COMPANY            ...  \n",
       "4  MIDCOUNTRY BANK                               ...  "
      ]
     },
     "execution_count": 16,
     "metadata": {},
     "output_type": "execute_result"
    }
   ],
   "source": [
    "#Load excel file 'trans_df.xlsx'into dataframe\n",
    "trans_df=pd.read_excel(file_path, sheet_name=\"Sheet1\")\n",
    "trans_df.head()"
   ]
  },
  {
   "cell_type": "markdown",
   "metadata": {},
   "source": [
    "## 2) Data Wrangling <a id=\"3\"></a>\n",
    "Now that we have standardized our data, we need to create seperate dataframes for each of the Big Four banks to add flexibility to our network mapping. This is because, despite combining our dataframes of the 'properties' and 'transformations' datasets allowed us to find names of most of the transformation instances, branch consolidated transformations were not named with the legal name. This is perhaps because the 'properties' dataset does not recognize branch entities as seperate entities from national association. \n",
    "\n",
    "\n",
    "As a result of this, we will be adding this names manually by searching for the RSSD of the predecessor entity in the [National Information Center RSSD search engine](https://www.ffiec.gov/npw). \n",
    "\n",
    "Additionally, we are going to create a list of all the branch entities of the national association so we can latter use this dataframe to add a switch bottom on our Dash app to allow the user to filter out all those data points related to brach consolidation."
   ]
  },
  {
   "cell_type": "markdown",
   "metadata": {},
   "source": [
    "### 2a) Chase dataframe development <a id=\"4\"></a>"
   ]
  },
  {
   "cell_type": "code",
   "execution_count": 17,
   "metadata": {},
   "outputs": [],
   "source": [
    "# Filter the 'transformations_df' dataframe based on the ID_RSSD_SUCCESSOR\n",
    "trans_chase_df = trans_df[trans_df['ID_RSSD_SUCCESSOR'] == 852218]\n"
   ]
  },
  {
   "cell_type": "code",
   "execution_count": 18,
   "metadata": {},
   "outputs": [
    {
     "name": "stderr",
     "output_type": "stream",
     "text": [
      "C:\\Users\\16193\\AppData\\Local\\Temp\\ipykernel_12180\\3583578456.py:2: SettingWithCopyWarning: \n",
      "A value is trying to be set on a copy of a slice from a DataFrame.\n",
      "Try using .loc[row_indexer,col_indexer] = value instead\n",
      "\n",
      "See the caveats in the documentation: https://pandas.pydata.org/pandas-docs/stable/user_guide/indexing.html#returning-a-view-versus-a-copy\n",
      "  trans_chase_df ['Successor_Name']='Chase'\n"
     ]
    }
   ],
   "source": [
    "#Rename the successor to 'Chase'\n",
    "trans_chase_df ['Successor_Name']='Chase'"
   ]
  },
  {
   "cell_type": "code",
   "execution_count": 19,
   "metadata": {},
   "outputs": [
    {
     "data": {
      "text/html": [
       "<div>\n",
       "<style scoped>\n",
       "    .dataframe tbody tr th:only-of-type {\n",
       "        vertical-align: middle;\n",
       "    }\n",
       "\n",
       "    .dataframe tbody tr th {\n",
       "        vertical-align: top;\n",
       "    }\n",
       "\n",
       "    .dataframe thead th {\n",
       "        text-align: right;\n",
       "    }\n",
       "</style>\n",
       "<table border=\"1\" class=\"dataframe\">\n",
       "  <thead>\n",
       "    <tr style=\"text-align: right;\">\n",
       "      <th></th>\n",
       "      <th>Column1</th>\n",
       "      <th>ID_RSSD_PREDECESSOR</th>\n",
       "      <th>ID_RSSD_SUCCESSOR</th>\n",
       "      <th>D_DT_TRANS</th>\n",
       "      <th>Transformation Code</th>\n",
       "      <th>Accounting Method</th>\n",
       "      <th>DT_TRANS</th>\n",
       "      <th>Year</th>\n",
       "      <th>Predecessor_Name</th>\n",
       "      <th>Successor_Name</th>\n",
       "    </tr>\n",
       "  </thead>\n",
       "  <tbody>\n",
       "    <tr>\n",
       "      <th>318</th>\n",
       "      <td>318</td>\n",
       "      <td>4114567</td>\n",
       "      <td>852218</td>\n",
       "      <td>2023-05-01</td>\n",
       "      <td>Failure</td>\n",
       "      <td>Not Applicable</td>\n",
       "      <td>20230501</td>\n",
       "      <td>2023</td>\n",
       "      <td>FIRST REPUBLIC BANK                           ...</td>\n",
       "      <td>Chase</td>\n",
       "    </tr>\n",
       "    <tr>\n",
       "      <th>1108</th>\n",
       "      <td>1108</td>\n",
       "      <td>3179318</td>\n",
       "      <td>852218</td>\n",
       "      <td>2021-12-31</td>\n",
       "      <td>Charter Discontinued</td>\n",
       "      <td>Merger</td>\n",
       "      <td>20211231</td>\n",
       "      <td>2021</td>\n",
       "      <td>ONE MORTGAGE PARTNERS CORP.                   ...</td>\n",
       "      <td>Chase</td>\n",
       "    </tr>\n",
       "    <tr>\n",
       "      <th>2372</th>\n",
       "      <td>2372</td>\n",
       "      <td>3118474</td>\n",
       "      <td>852218</td>\n",
       "      <td>2019-10-20</td>\n",
       "      <td>Charter Discontinued</td>\n",
       "      <td>Merger</td>\n",
       "      <td>20191020</td>\n",
       "      <td>2019</td>\n",
       "      <td>J.P. MORGAN TREASURY TECHNOLOGIES CORPORATION ...</td>\n",
       "      <td>Chase</td>\n",
       "    </tr>\n",
       "    <tr>\n",
       "      <th>2620</th>\n",
       "      <td>2620</td>\n",
       "      <td>489913</td>\n",
       "      <td>852218</td>\n",
       "      <td>2019-05-19</td>\n",
       "      <td>Charter Discontinued</td>\n",
       "      <td>Merger</td>\n",
       "      <td>20190519</td>\n",
       "      <td>2019</td>\n",
       "      <td>CHASE BANK USA, NATIONAL ASSOCIATION          ...</td>\n",
       "      <td>Chase</td>\n",
       "    </tr>\n",
       "    <tr>\n",
       "      <th>2621</th>\n",
       "      <td>2621</td>\n",
       "      <td>1451364</td>\n",
       "      <td>852218</td>\n",
       "      <td>2019-05-19</td>\n",
       "      <td>Charter Discontinued</td>\n",
       "      <td>Merger</td>\n",
       "      <td>20190519</td>\n",
       "      <td>2019</td>\n",
       "      <td>CHASE BANKCARD SERVICES, INC.                 ...</td>\n",
       "      <td>Chase</td>\n",
       "    </tr>\n",
       "  </tbody>\n",
       "</table>\n",
       "</div>"
      ],
      "text/plain": [
       "      Column1  ID_RSSD_PREDECESSOR  ID_RSSD_SUCCESSOR D_DT_TRANS  \\\n",
       "318       318              4114567             852218 2023-05-01   \n",
       "1108     1108              3179318             852218 2021-12-31   \n",
       "2372     2372              3118474             852218 2019-10-20   \n",
       "2620     2620               489913             852218 2019-05-19   \n",
       "2621     2621              1451364             852218 2019-05-19   \n",
       "\n",
       "       Transformation Code Accounting Method  DT_TRANS  Year  \\\n",
       "318                Failure    Not Applicable  20230501  2023   \n",
       "1108  Charter Discontinued            Merger  20211231  2021   \n",
       "2372  Charter Discontinued            Merger  20191020  2019   \n",
       "2620  Charter Discontinued            Merger  20190519  2019   \n",
       "2621  Charter Discontinued            Merger  20190519  2019   \n",
       "\n",
       "                                       Predecessor_Name Successor_Name  \n",
       "318   FIRST REPUBLIC BANK                           ...          Chase  \n",
       "1108  ONE MORTGAGE PARTNERS CORP.                   ...          Chase  \n",
       "2372  J.P. MORGAN TREASURY TECHNOLOGIES CORPORATION ...          Chase  \n",
       "2620  CHASE BANK USA, NATIONAL ASSOCIATION          ...          Chase  \n",
       "2621  CHASE BANKCARD SERVICES, INC.                 ...          Chase  "
      ]
     },
     "execution_count": 19,
     "metadata": {},
     "output_type": "execute_result"
    }
   ],
   "source": [
    "#Display the dataframe for the Chase bank\n",
    "trans_chase_df.head()"
   ]
  },
  {
   "cell_type": "code",
   "execution_count": 20,
   "metadata": {},
   "outputs": [],
   "source": [
    "#Now let's download the 'trans_chase_df' as an excel file for revision\n",
    "path_to_tables = r\"Your\\Directory\\Here\\Dataframe\\Tables\"\n",
    "trans_chase_df.to_excel(path_to_tables + '\\\\trans_chase_df_update.xlsx', index=False)\n"
   ]
  },
  {
   "cell_type": "markdown",
   "metadata": {},
   "source": [
    "Create a list of all the legal names of all the branches that were consolidated under Chase. "
   ]
  },
  {
   "cell_type": "code",
   "execution_count": 21,
   "metadata": {},
   "outputs": [
    {
     "data": {
      "text/html": [
       "<div>\n",
       "<style scoped>\n",
       "    .dataframe tbody tr th:only-of-type {\n",
       "        vertical-align: middle;\n",
       "    }\n",
       "\n",
       "    .dataframe tbody tr th {\n",
       "        vertical-align: top;\n",
       "    }\n",
       "\n",
       "    .dataframe thead th {\n",
       "        text-align: right;\n",
       "    }\n",
       "</style>\n",
       "<table border=\"1\" class=\"dataframe\">\n",
       "  <thead>\n",
       "    <tr style=\"text-align: right;\">\n",
       "      <th></th>\n",
       "      <th>ID_RSSD_PREDECESSOR</th>\n",
       "      <th>ID_RSSD_SUCCESSOR</th>\n",
       "      <th>D_DT_TRANS</th>\n",
       "      <th>Transformation Code</th>\n",
       "      <th>Accounting Method</th>\n",
       "      <th>DT_TRANS</th>\n",
       "      <th>Year</th>\n",
       "      <th>Predecessor_Name</th>\n",
       "      <th>Predecessor_Name_Branch</th>\n",
       "      <th>Successor_Name</th>\n",
       "    </tr>\n",
       "  </thead>\n",
       "  <tbody>\n",
       "    <tr>\n",
       "      <th>0</th>\n",
       "      <td>4114567</td>\n",
       "      <td>852218</td>\n",
       "      <td>2023-05-01</td>\n",
       "      <td>Failure</td>\n",
       "      <td>Not Applicable</td>\n",
       "      <td>20230501</td>\n",
       "      <td>2023</td>\n",
       "      <td>FIRST REPUBLIC BANK                           ...</td>\n",
       "      <td>FIRST REPUBLIC BANK                           ...</td>\n",
       "      <td>JPMORGAN CHASE BANK, NATIONAL ASSOCIATION     ...</td>\n",
       "    </tr>\n",
       "    <tr>\n",
       "      <th>1</th>\n",
       "      <td>3179318</td>\n",
       "      <td>852218</td>\n",
       "      <td>2021-12-31</td>\n",
       "      <td>Charter Discontinued</td>\n",
       "      <td>Merger</td>\n",
       "      <td>20211231</td>\n",
       "      <td>2021</td>\n",
       "      <td>ONE MORTGAGE PARTNERS CORP.                   ...</td>\n",
       "      <td>ONE MORTGAGE PARTNERS CORP.                   ...</td>\n",
       "      <td>JPMORGAN CHASE BANK, NATIONAL ASSOCIATION     ...</td>\n",
       "    </tr>\n",
       "    <tr>\n",
       "      <th>2</th>\n",
       "      <td>3118474</td>\n",
       "      <td>852218</td>\n",
       "      <td>2019-10-20</td>\n",
       "      <td>Charter Discontinued</td>\n",
       "      <td>Merger</td>\n",
       "      <td>20191020</td>\n",
       "      <td>2019</td>\n",
       "      <td>J.P. MORGAN TREASURY TECHNOLOGIES CORPORATION ...</td>\n",
       "      <td>J.P. MORGAN TREASURY TECHNOLOGIES CORPORATION ...</td>\n",
       "      <td>JPMORGAN CHASE BANK, NATIONAL ASSOCIATION     ...</td>\n",
       "    </tr>\n",
       "    <tr>\n",
       "      <th>3</th>\n",
       "      <td>489913</td>\n",
       "      <td>852218</td>\n",
       "      <td>2019-05-19</td>\n",
       "      <td>Charter Discontinued</td>\n",
       "      <td>Merger</td>\n",
       "      <td>20190519</td>\n",
       "      <td>2019</td>\n",
       "      <td>CHASE BANK USA, NATIONAL ASSOCIATION          ...</td>\n",
       "      <td>CHASE BANK USA, NATIONAL ASSOCIATION          ...</td>\n",
       "      <td>JPMORGAN CHASE BANK, NATIONAL ASSOCIATION     ...</td>\n",
       "    </tr>\n",
       "    <tr>\n",
       "      <th>4</th>\n",
       "      <td>1451364</td>\n",
       "      <td>852218</td>\n",
       "      <td>2019-05-19</td>\n",
       "      <td>Charter Discontinued</td>\n",
       "      <td>Merger</td>\n",
       "      <td>20190519</td>\n",
       "      <td>2019</td>\n",
       "      <td>CHASE BANKCARD SERVICES, INC.                 ...</td>\n",
       "      <td>CHASE BANKCARD SERVICES, INC.                 ...</td>\n",
       "      <td>JPMORGAN CHASE BANK, NATIONAL ASSOCIATION     ...</td>\n",
       "    </tr>\n",
       "  </tbody>\n",
       "</table>\n",
       "</div>"
      ],
      "text/plain": [
       "   ID_RSSD_PREDECESSOR  ID_RSSD_SUCCESSOR D_DT_TRANS   Transformation Code  \\\n",
       "0              4114567             852218 2023-05-01               Failure   \n",
       "1              3179318             852218 2021-12-31  Charter Discontinued   \n",
       "2              3118474             852218 2019-10-20  Charter Discontinued   \n",
       "3               489913             852218 2019-05-19  Charter Discontinued   \n",
       "4              1451364             852218 2019-05-19  Charter Discontinued   \n",
       "\n",
       "  Accounting Method  DT_TRANS  Year  \\\n",
       "0    Not Applicable  20230501  2023   \n",
       "1            Merger  20211231  2021   \n",
       "2            Merger  20191020  2019   \n",
       "3            Merger  20190519  2019   \n",
       "4            Merger  20190519  2019   \n",
       "\n",
       "                                    Predecessor_Name  \\\n",
       "0  FIRST REPUBLIC BANK                           ...   \n",
       "1  ONE MORTGAGE PARTNERS CORP.                   ...   \n",
       "2  J.P. MORGAN TREASURY TECHNOLOGIES CORPORATION ...   \n",
       "3  CHASE BANK USA, NATIONAL ASSOCIATION          ...   \n",
       "4  CHASE BANKCARD SERVICES, INC.                 ...   \n",
       "\n",
       "                             Predecessor_Name_Branch  \\\n",
       "0  FIRST REPUBLIC BANK                           ...   \n",
       "1  ONE MORTGAGE PARTNERS CORP.                   ...   \n",
       "2  J.P. MORGAN TREASURY TECHNOLOGIES CORPORATION ...   \n",
       "3  CHASE BANK USA, NATIONAL ASSOCIATION          ...   \n",
       "4  CHASE BANKCARD SERVICES, INC.                 ...   \n",
       "\n",
       "                                      Successor_Name  \n",
       "0  JPMORGAN CHASE BANK, NATIONAL ASSOCIATION     ...  \n",
       "1  JPMORGAN CHASE BANK, NATIONAL ASSOCIATION     ...  \n",
       "2  JPMORGAN CHASE BANK, NATIONAL ASSOCIATION     ...  \n",
       "3  JPMORGAN CHASE BANK, NATIONAL ASSOCIATION     ...  \n",
       "4  JPMORGAN CHASE BANK, NATIONAL ASSOCIATION     ...  "
      ]
     },
     "execution_count": 21,
     "metadata": {},
     "output_type": "execute_result"
    }
   ],
   "source": [
    "#Upload the dataframe for Chase that juxtaposes the column of predecessors  that has the branch legal names and the column that does not\n",
    "path_to_branch_tables=r\"Your\\Directory\\Here\\Dataframe\"\n",
    "chase_branch_df=pd.read_excel(path_to_branch_tables + '\\\\chase_branch_con.xlsx')\n",
    "chase_branch_df.head()"
   ]
  },
  {
   "cell_type": "code",
   "execution_count": 22,
   "metadata": {},
   "outputs": [
    {
     "data": {
      "text/plain": [
       "['SMITHTOWN BRANCH [JPMORGAN CHASE BANK, NATIONAL ASSOCIATION]',\n",
       " 'BUFFALO BRANCH [MANUFACTURERS AND TRADERS TRUST COMPANY]',\n",
       " 'KIMBALL JUNCTION BRANCH [JPMORGAN CHASE BANK, NATIONAL ASSOCIATION]',\n",
       " '225 SOUTH STREET BRANCH [JPMORGAN CHASE BANK, NATIONAL ASSOCIATION]',\n",
       " 'HOUSTON MAIN BRANCH [JPMORGAN CHASE BANK, NATIONAL ASSOCIATION]',\n",
       " 'HILTON BRANCH [MANUFACTURERS AND TRADERS TRUST COMPANY]',\n",
       " '60 WALL STREET BRANCH [JPMORGAN CHASE BANK, NATIONAL ASSOCIATION]',\n",
       " 'GREENWICH OFFICE [GLENS FALLS NATIONAL BANK AND TRUST COMPANY]',\n",
       " 'CHICAGO MAIN [JPMORGAN CHASE BANK, NATIONAL ASSOCIATION]',\n",
       " '277 PARK AVENUE BRANCH [CHEMICAL BANK]',\n",
       " 'BINGHAMTON BRANCH [CHASE MANHATTAN BANK, THE]',\n",
       " 'BROAD STREET DOWNTOWN [JPMORGAN CHASE BANK, NATIONAL ASSOCIATION]',\n",
       " 'CHASE PLAZA [JPMORGAN CHASE BANK, NATIONAL ASSOCIATION]',\n",
       " 'HEMPSTEAD BRANCH [JPMORGAN CHASE BANK]',\n",
       " 'NYACK BRANCH [MANUFACTURERS AND TRADERS TRUST COMPANY]',\n",
       " 'PLUM STREET BRANCH [CHASE MANHATTAN BANK, THE]']"
      ]
     },
     "execution_count": 22,
     "metadata": {},
     "output_type": "execute_result"
    }
   ],
   "source": [
    "#Create a list of the missing points\n",
    "chase_missing_points=list(set(chase_branch_df['Predecessor_Name_Branch'])-set(chase_branch_df['Predecessor_Name']))\n",
    "chase_missing_points"
   ]
  },
  {
   "cell_type": "code",
   "execution_count": 23,
   "metadata": {},
   "outputs": [],
   "source": [
    "# Define the list of branch consolidation entities for the switch filter\n",
    "\n",
    "chase_branch_list=[\n",
    " 'BINGHAMTON BRANCH [CHASE MANHATTAN BANK, THE]',\n",
    " 'GREENWICH OFFICE [GLENS FALLS NATIONAL BANK AND TRUST COMPANY]',\n",
    " 'HILTON BRANCH [MANUFACTURERS AND TRADERS TRUST COMPANY]',\n",
    " '225 SOUTH STREET BRANCH [JPMORGAN CHASE BANK, NATIONAL ASSOCIATION]',\n",
    " 'HEMPSTEAD BRANCH [JPMORGAN CHASE BANK]',\n",
    " 'BROAD STREET DOWNTOWN [JPMORGAN CHASE BANK, NATIONAL ASSOCIATION]',\n",
    " 'NYACK BRANCH [MANUFACTURERS AND TRADERS TRUST COMPANY]',\n",
    " 'CHICAGO MAIN [JPMORGAN CHASE BANK, NATIONAL ASSOCIATION]',\n",
    " '60 WALL STREET BRANCH [JPMORGAN CHASE BANK, NATIONAL ASSOCIATION]',\n",
    " 'PLUM STREET BRANCH [CHASE MANHATTAN BANK, THE]',\n",
    " 'SMITHTOWN BRANCH [JPMORGAN CHASE BANK, NATIONAL ASSOCIATION]',\n",
    " 'KIMBALL JUNCTION BRANCH [JPMORGAN CHASE BANK, NATIONAL ASSOCIATION]',\n",
    " 'CHASE PLAZA [JPMORGAN CHASE BANK, NATIONAL ASSOCIATION]',\n",
    " 'HOUSTON MAIN BRANCH [JPMORGAN CHASE BANK, NATIONAL ASSOCIATION]',\n",
    " '277 PARK AVENUE BRANCH [CHEMICAL BANK]',\n",
    " 'BUFFALO BRANCH [MANUFACTURERS AND TRADERS TRUST COMPANY]'\n",
    "]"
   ]
  },
  {
   "cell_type": "markdown",
   "metadata": {},
   "source": [
    "Now, we will add the \"Notes\" column from the \"history.csv\" file for Chase so that we can contextualize the nature of the transformation.\n",
    "\n",
    "Source: https://www.ffiec.gov/npw/Institution/Profile/852218?dt=20190126\n",
    "\n",
    "Also, by this time we have transformed the original dataframes to add missing transformations and correcting categorizations from corporate research.\n"
   ]
  },
  {
   "cell_type": "code",
   "execution_count": 24,
   "metadata": {},
   "outputs": [
    {
     "data": {
      "text/html": [
       "<div>\n",
       "<style scoped>\n",
       "    .dataframe tbody tr th:only-of-type {\n",
       "        vertical-align: middle;\n",
       "    }\n",
       "\n",
       "    .dataframe tbody tr th {\n",
       "        vertical-align: top;\n",
       "    }\n",
       "\n",
       "    .dataframe thead th {\n",
       "        text-align: right;\n",
       "    }\n",
       "</style>\n",
       "<table border=\"1\" class=\"dataframe\">\n",
       "  <thead>\n",
       "    <tr style=\"text-align: right;\">\n",
       "      <th></th>\n",
       "      <th>Event</th>\n",
       "      <th>EventDate</th>\n",
       "      <th>OtherInstitutionName</th>\n",
       "      <th>OtherInstitutionID</th>\n",
       "      <th>Notes</th>\n",
       "    </tr>\n",
       "  </thead>\n",
       "  <tbody>\n",
       "    <tr>\n",
       "      <th>0</th>\n",
       "      <td>Acquisition</td>\n",
       "      <td>5/1/2023</td>\n",
       "      <td>FIRST REPUBLIC BANK</td>\n",
       "      <td>4114567.0</td>\n",
       "      <td>FIRST REPUBLIC BANK failed and ceased to exist...</td>\n",
       "    </tr>\n",
       "    <tr>\n",
       "      <th>1</th>\n",
       "      <td>Acquisition</td>\n",
       "      <td>12/31/2021</td>\n",
       "      <td>ONE MORTGAGE PARTNERS CORP.</td>\n",
       "      <td>3179318.0</td>\n",
       "      <td>ONE MORTGAGE PARTNERS CORP. transferred its as...</td>\n",
       "    </tr>\n",
       "    <tr>\n",
       "      <th>2</th>\n",
       "      <td>Acquisition</td>\n",
       "      <td>10/20/2019</td>\n",
       "      <td>J.P. MORGAN TREASURY TECHNOLOGIES CORPORATION</td>\n",
       "      <td>3118474.0</td>\n",
       "      <td>J.P. MORGAN TREASURY TECHNOLOGIES CORPORATION ...</td>\n",
       "    </tr>\n",
       "    <tr>\n",
       "      <th>3</th>\n",
       "      <td>Acquisition</td>\n",
       "      <td>5/19/2019</td>\n",
       "      <td>CHASE BANK USA, NATIONAL ASSOCIATION</td>\n",
       "      <td>489913.0</td>\n",
       "      <td>CHASE BANK USA, NATIONAL ASSOCIATION transferr...</td>\n",
       "    </tr>\n",
       "    <tr>\n",
       "      <th>4</th>\n",
       "      <td>Acquisition</td>\n",
       "      <td>5/19/2019</td>\n",
       "      <td>CHASE BANKCARD SERVICES, INC.</td>\n",
       "      <td>1451364.0</td>\n",
       "      <td>CHASE BANKCARD SERVICES, INC. transferred its ...</td>\n",
       "    </tr>\n",
       "  </tbody>\n",
       "</table>\n",
       "</div>"
      ],
      "text/plain": [
       "         Event   EventDate                           OtherInstitutionName  \\\n",
       "0  Acquisition    5/1/2023                            FIRST REPUBLIC BANK   \n",
       "1  Acquisition  12/31/2021                    ONE MORTGAGE PARTNERS CORP.   \n",
       "2  Acquisition  10/20/2019  J.P. MORGAN TREASURY TECHNOLOGIES CORPORATION   \n",
       "3  Acquisition   5/19/2019           CHASE BANK USA, NATIONAL ASSOCIATION   \n",
       "4  Acquisition   5/19/2019                  CHASE BANKCARD SERVICES, INC.   \n",
       "\n",
       "   OtherInstitutionID                                              Notes  \n",
       "0           4114567.0  FIRST REPUBLIC BANK failed and ceased to exist...  \n",
       "1           3179318.0  ONE MORTGAGE PARTNERS CORP. transferred its as...  \n",
       "2           3118474.0  J.P. MORGAN TREASURY TECHNOLOGIES CORPORATION ...  \n",
       "3            489913.0  CHASE BANK USA, NATIONAL ASSOCIATION transferr...  \n",
       "4           1451364.0  CHASE BANKCARD SERVICES, INC. transferred its ...  "
      ]
     },
     "execution_count": 24,
     "metadata": {},
     "output_type": "execute_result"
    }
   ],
   "source": [
    "#From the 'tables_dir' directory, load the 'history_chase.csv' csv file into a dataframe\n",
    "history_chase_df=pd.read_csv(tables_dir + '\\\\other_tables\\\\history_chase.csv')\n",
    "history_chase_df.head()"
   ]
  },
  {
   "cell_type": "code",
   "execution_count": 25,
   "metadata": {},
   "outputs": [],
   "source": [
    "#For the 'history_chase_df' dataframe, turn the 'OtherInstitutionID' column into an int64 type instead of a float\n",
    "history_chase_df['OtherInstitutionID'] = history_chase_df['OtherInstitutionID'].astype('Int64')\n",
    "\n",
    "#Filter the 'Event' column to only have 'Acqusitions' \n",
    "history_chase_df=history_chase_df[history_chase_df['Event']=='Acquisition']"
   ]
  },
  {
   "cell_type": "code",
   "execution_count": 26,
   "metadata": {},
   "outputs": [
    {
     "data": {
      "text/html": [
       "<div>\n",
       "<style scoped>\n",
       "    .dataframe tbody tr th:only-of-type {\n",
       "        vertical-align: middle;\n",
       "    }\n",
       "\n",
       "    .dataframe tbody tr th {\n",
       "        vertical-align: top;\n",
       "    }\n",
       "\n",
       "    .dataframe thead th {\n",
       "        text-align: right;\n",
       "    }\n",
       "</style>\n",
       "<table border=\"1\" class=\"dataframe\">\n",
       "  <thead>\n",
       "    <tr style=\"text-align: right;\">\n",
       "      <th></th>\n",
       "      <th>Column1</th>\n",
       "      <th>ID_RSSD_PREDECESSOR</th>\n",
       "      <th>ID_RSSD_SUCCESSOR</th>\n",
       "      <th>D_DT_TRANS</th>\n",
       "      <th>Transformation Code</th>\n",
       "      <th>Accounting Method</th>\n",
       "      <th>DT_TRANS</th>\n",
       "      <th>Year</th>\n",
       "      <th>Predecessor_Name</th>\n",
       "      <th>Successor_Name</th>\n",
       "    </tr>\n",
       "  </thead>\n",
       "  <tbody>\n",
       "    <tr>\n",
       "      <th>0</th>\n",
       "      <td>318</td>\n",
       "      <td>4114567</td>\n",
       "      <td>852218</td>\n",
       "      <td>5/1/2023 0:00</td>\n",
       "      <td>Failure</td>\n",
       "      <td>Not Applicable</td>\n",
       "      <td>20230501</td>\n",
       "      <td>2023</td>\n",
       "      <td>FIRST REPUBLIC BANK                           ...</td>\n",
       "      <td>Chase</td>\n",
       "    </tr>\n",
       "    <tr>\n",
       "      <th>1</th>\n",
       "      <td>1108</td>\n",
       "      <td>3179318</td>\n",
       "      <td>852218</td>\n",
       "      <td>12/31/2021 0:00</td>\n",
       "      <td>Charter Discontinued</td>\n",
       "      <td>Merger</td>\n",
       "      <td>20211231</td>\n",
       "      <td>2021</td>\n",
       "      <td>ONE MORTGAGE PARTNERS CORP.                   ...</td>\n",
       "      <td>Chase</td>\n",
       "    </tr>\n",
       "    <tr>\n",
       "      <th>2</th>\n",
       "      <td>2372</td>\n",
       "      <td>3118474</td>\n",
       "      <td>852218</td>\n",
       "      <td>10/20/2019 0:00</td>\n",
       "      <td>Charter Discontinued</td>\n",
       "      <td>Merger</td>\n",
       "      <td>20191020</td>\n",
       "      <td>2019</td>\n",
       "      <td>J.P. MORGAN TREASURY TECHNOLOGIES CORPORATION ...</td>\n",
       "      <td>Chase</td>\n",
       "    </tr>\n",
       "    <tr>\n",
       "      <th>3</th>\n",
       "      <td>2620</td>\n",
       "      <td>489913</td>\n",
       "      <td>852218</td>\n",
       "      <td>5/19/2019 0:00</td>\n",
       "      <td>Charter Discontinued</td>\n",
       "      <td>Merger</td>\n",
       "      <td>20190519</td>\n",
       "      <td>2019</td>\n",
       "      <td>CHASE BANK USA, NATIONAL ASSOCIATION          ...</td>\n",
       "      <td>Chase</td>\n",
       "    </tr>\n",
       "    <tr>\n",
       "      <th>4</th>\n",
       "      <td>2621</td>\n",
       "      <td>1451364</td>\n",
       "      <td>852218</td>\n",
       "      <td>5/19/2019 0:00</td>\n",
       "      <td>Charter Discontinued</td>\n",
       "      <td>Merger</td>\n",
       "      <td>20190519</td>\n",
       "      <td>2019</td>\n",
       "      <td>CHASE BANKCARD SERVICES, INC.                 ...</td>\n",
       "      <td>Chase</td>\n",
       "    </tr>\n",
       "  </tbody>\n",
       "</table>\n",
       "</div>"
      ],
      "text/plain": [
       "   Column1  ID_RSSD_PREDECESSOR  ID_RSSD_SUCCESSOR       D_DT_TRANS  \\\n",
       "0      318              4114567             852218    5/1/2023 0:00   \n",
       "1     1108              3179318             852218  12/31/2021 0:00   \n",
       "2     2372              3118474             852218  10/20/2019 0:00   \n",
       "3     2620               489913             852218   5/19/2019 0:00   \n",
       "4     2621              1451364             852218   5/19/2019 0:00   \n",
       "\n",
       "    Transformation Code Accounting Method  DT_TRANS  Year  \\\n",
       "0               Failure    Not Applicable  20230501  2023   \n",
       "1  Charter Discontinued            Merger  20211231  2021   \n",
       "2  Charter Discontinued            Merger  20191020  2019   \n",
       "3  Charter Discontinued            Merger  20190519  2019   \n",
       "4  Charter Discontinued            Merger  20190519  2019   \n",
       "\n",
       "                                    Predecessor_Name Successor_Name  \n",
       "0  FIRST REPUBLIC BANK                           ...          Chase  \n",
       "1  ONE MORTGAGE PARTNERS CORP.                   ...          Chase  \n",
       "2  J.P. MORGAN TREASURY TECHNOLOGIES CORPORATION ...          Chase  \n",
       "3  CHASE BANK USA, NATIONAL ASSOCIATION          ...          Chase  \n",
       "4  CHASE BANKCARD SERVICES, INC.                 ...          Chase  "
      ]
     },
     "execution_count": 26,
     "metadata": {},
     "output_type": "execute_result"
    }
   ],
   "source": [
    "#Create a directory towards the 'chase_branch_con.csv' file and load it into a dataframe.\n",
    "#Recall that this is corporate research modified dataframe, so it will not match exactly with the dataframe that we originally produced through this code. \n",
    "#This corporate research modification applies to all the dataframes.\n",
    "chase_df=pd.read_csv(dataframes_df + '\\\\trans_chase_df.csv')\n",
    "chase_df.head()"
   ]
  },
  {
   "cell_type": "code",
   "execution_count": 27,
   "metadata": {},
   "outputs": [
    {
     "data": {
      "text/html": [
       "<div>\n",
       "<style scoped>\n",
       "    .dataframe tbody tr th:only-of-type {\n",
       "        vertical-align: middle;\n",
       "    }\n",
       "\n",
       "    .dataframe tbody tr th {\n",
       "        vertical-align: top;\n",
       "    }\n",
       "\n",
       "    .dataframe thead th {\n",
       "        text-align: right;\n",
       "    }\n",
       "</style>\n",
       "<table border=\"1\" class=\"dataframe\">\n",
       "  <thead>\n",
       "    <tr style=\"text-align: right;\">\n",
       "      <th></th>\n",
       "      <th>Column1</th>\n",
       "      <th>ID_RSSD_PREDECESSOR</th>\n",
       "      <th>ID_RSSD_SUCCESSOR</th>\n",
       "      <th>D_DT_TRANS</th>\n",
       "      <th>Transformation Code</th>\n",
       "      <th>Accounting Method</th>\n",
       "      <th>DT_TRANS</th>\n",
       "      <th>Year</th>\n",
       "      <th>Predecessor_Name</th>\n",
       "      <th>Successor_Name</th>\n",
       "      <th>Notes</th>\n",
       "    </tr>\n",
       "  </thead>\n",
       "  <tbody>\n",
       "    <tr>\n",
       "      <th>0</th>\n",
       "      <td>318</td>\n",
       "      <td>4114567</td>\n",
       "      <td>852218</td>\n",
       "      <td>5/1/2023 0:00</td>\n",
       "      <td>Failure</td>\n",
       "      <td>Not Applicable</td>\n",
       "      <td>20230501</td>\n",
       "      <td>2023</td>\n",
       "      <td>FIRST REPUBLIC BANK                           ...</td>\n",
       "      <td>Chase</td>\n",
       "      <td>FIRST REPUBLIC BANK failed and ceased to exist...</td>\n",
       "    </tr>\n",
       "    <tr>\n",
       "      <th>1</th>\n",
       "      <td>1108</td>\n",
       "      <td>3179318</td>\n",
       "      <td>852218</td>\n",
       "      <td>12/31/2021 0:00</td>\n",
       "      <td>Charter Discontinued</td>\n",
       "      <td>Merger</td>\n",
       "      <td>20211231</td>\n",
       "      <td>2021</td>\n",
       "      <td>ONE MORTGAGE PARTNERS CORP.                   ...</td>\n",
       "      <td>Chase</td>\n",
       "      <td>ONE MORTGAGE PARTNERS CORP. transferred its as...</td>\n",
       "    </tr>\n",
       "    <tr>\n",
       "      <th>2</th>\n",
       "      <td>2372</td>\n",
       "      <td>3118474</td>\n",
       "      <td>852218</td>\n",
       "      <td>10/20/2019 0:00</td>\n",
       "      <td>Charter Discontinued</td>\n",
       "      <td>Merger</td>\n",
       "      <td>20191020</td>\n",
       "      <td>2019</td>\n",
       "      <td>J.P. MORGAN TREASURY TECHNOLOGIES CORPORATION ...</td>\n",
       "      <td>Chase</td>\n",
       "      <td>J.P. MORGAN TREASURY TECHNOLOGIES CORPORATION ...</td>\n",
       "    </tr>\n",
       "    <tr>\n",
       "      <th>3</th>\n",
       "      <td>2620</td>\n",
       "      <td>489913</td>\n",
       "      <td>852218</td>\n",
       "      <td>5/19/2019 0:00</td>\n",
       "      <td>Charter Discontinued</td>\n",
       "      <td>Merger</td>\n",
       "      <td>20190519</td>\n",
       "      <td>2019</td>\n",
       "      <td>CHASE BANK USA, NATIONAL ASSOCIATION          ...</td>\n",
       "      <td>Chase</td>\n",
       "      <td>CHASE BANK USA, NATIONAL ASSOCIATION transferr...</td>\n",
       "    </tr>\n",
       "    <tr>\n",
       "      <th>4</th>\n",
       "      <td>2621</td>\n",
       "      <td>1451364</td>\n",
       "      <td>852218</td>\n",
       "      <td>5/19/2019 0:00</td>\n",
       "      <td>Charter Discontinued</td>\n",
       "      <td>Merger</td>\n",
       "      <td>20190519</td>\n",
       "      <td>2019</td>\n",
       "      <td>CHASE BANKCARD SERVICES, INC.                 ...</td>\n",
       "      <td>Chase</td>\n",
       "      <td>CHASE BANKCARD SERVICES, INC. transferred its ...</td>\n",
       "    </tr>\n",
       "  </tbody>\n",
       "</table>\n",
       "</div>"
      ],
      "text/plain": [
       "   Column1  ID_RSSD_PREDECESSOR  ID_RSSD_SUCCESSOR       D_DT_TRANS  \\\n",
       "0      318              4114567             852218    5/1/2023 0:00   \n",
       "1     1108              3179318             852218  12/31/2021 0:00   \n",
       "2     2372              3118474             852218  10/20/2019 0:00   \n",
       "3     2620               489913             852218   5/19/2019 0:00   \n",
       "4     2621              1451364             852218   5/19/2019 0:00   \n",
       "\n",
       "    Transformation Code Accounting Method  DT_TRANS  Year  \\\n",
       "0               Failure    Not Applicable  20230501  2023   \n",
       "1  Charter Discontinued            Merger  20211231  2021   \n",
       "2  Charter Discontinued            Merger  20191020  2019   \n",
       "3  Charter Discontinued            Merger  20190519  2019   \n",
       "4  Charter Discontinued            Merger  20190519  2019   \n",
       "\n",
       "                                    Predecessor_Name Successor_Name  \\\n",
       "0  FIRST REPUBLIC BANK                           ...          Chase   \n",
       "1  ONE MORTGAGE PARTNERS CORP.                   ...          Chase   \n",
       "2  J.P. MORGAN TREASURY TECHNOLOGIES CORPORATION ...          Chase   \n",
       "3  CHASE BANK USA, NATIONAL ASSOCIATION          ...          Chase   \n",
       "4  CHASE BANKCARD SERVICES, INC.                 ...          Chase   \n",
       "\n",
       "                                               Notes  \n",
       "0  FIRST REPUBLIC BANK failed and ceased to exist...  \n",
       "1  ONE MORTGAGE PARTNERS CORP. transferred its as...  \n",
       "2  J.P. MORGAN TREASURY TECHNOLOGIES CORPORATION ...  \n",
       "3  CHASE BANK USA, NATIONAL ASSOCIATION transferr...  \n",
       "4  CHASE BANKCARD SERVICES, INC. transferred its ...  "
      ]
     },
     "execution_count": 27,
     "metadata": {},
     "output_type": "execute_result"
    }
   ],
   "source": [
    "#Map the 'OtherInstitutionID' column to the 'ID_RSSD_PREDECESSOR' column\n",
    "def map_chase_id(history_chase_df, chase_df): \n",
    "    #Create a dictionary to map the 'OtherInstitionID' to the 'Notes' column\n",
    "    other_inst_id_dict=pd.Series(history_chase_df.Notes.values, index=history_chase_df.OtherInstitutionID)\n",
    "\n",
    "    #Map the Notes to the chase_df dataframe using the ID_RSSD_PREDECESSOR column\n",
    "    chase_df['Notes']=chase_df['ID_RSSD_PREDECESSOR'].map(other_inst_id_dict)\n",
    "\n",
    "    return chase_df\n",
    "\n",
    "trans_chase_df=map_chase_id(history_chase_df, chase_df)\n",
    "\n",
    "trans_chase_df.head()"
   ]
  },
  {
   "cell_type": "code",
   "execution_count": 61,
   "metadata": {},
   "outputs": [],
   "source": [
    "#Download the 'chase_df' as a csv file\n",
    "chase_df.to_csv(dataframes_df + '\\\\chase_df_w_notes.csv', index=False)"
   ]
  },
  {
   "cell_type": "markdown",
   "metadata": {},
   "source": [
    "In this phase, we will manually edit the 'chase_df_w_notes.csv' using Excel to change all the predecessor name according to the 'Notes' section, which has a more accurate historical data on the entities acquired and merged."
   ]
  },
  {
   "cell_type": "code",
   "execution_count": 62,
   "metadata": {},
   "outputs": [
    {
     "data": {
      "text/html": [
       "<div>\n",
       "<style scoped>\n",
       "    .dataframe tbody tr th:only-of-type {\n",
       "        vertical-align: middle;\n",
       "    }\n",
       "\n",
       "    .dataframe tbody tr th {\n",
       "        vertical-align: top;\n",
       "    }\n",
       "\n",
       "    .dataframe thead th {\n",
       "        text-align: right;\n",
       "    }\n",
       "</style>\n",
       "<table border=\"1\" class=\"dataframe\">\n",
       "  <thead>\n",
       "    <tr style=\"text-align: right;\">\n",
       "      <th></th>\n",
       "      <th>Column1</th>\n",
       "      <th>ID_RSSD_PREDECESSOR</th>\n",
       "      <th>ID_RSSD_SUCCESSOR</th>\n",
       "      <th>D_DT_TRANS</th>\n",
       "      <th>Transformation Code</th>\n",
       "      <th>Accounting Method</th>\n",
       "      <th>DT_TRANS</th>\n",
       "      <th>Year</th>\n",
       "      <th>Predecessor_Name</th>\n",
       "      <th>Successor_Name</th>\n",
       "      <th>Notes</th>\n",
       "      <th>Link</th>\n",
       "      <th>Value</th>\n",
       "    </tr>\n",
       "  </thead>\n",
       "  <tbody>\n",
       "    <tr>\n",
       "      <th>0</th>\n",
       "      <td>318.0</td>\n",
       "      <td>4114567.0</td>\n",
       "      <td>852218.0</td>\n",
       "      <td>5/1/2023 0:00</td>\n",
       "      <td>Failure</td>\n",
       "      <td>Not Applicable</td>\n",
       "      <td>20230501.0</td>\n",
       "      <td>2023</td>\n",
       "      <td>FIRST REPUBLIC BANK                           ...</td>\n",
       "      <td>Chase</td>\n",
       "      <td>FIRST REPUBLIC BANK failed and ceased to exist...</td>\n",
       "      <td>NaN</td>\n",
       "      <td>NaN</td>\n",
       "    </tr>\n",
       "    <tr>\n",
       "      <th>1</th>\n",
       "      <td>1108.0</td>\n",
       "      <td>3179318.0</td>\n",
       "      <td>852218.0</td>\n",
       "      <td>12/31/2021 0:00</td>\n",
       "      <td>Charter Discontinued</td>\n",
       "      <td>Merger</td>\n",
       "      <td>20211231.0</td>\n",
       "      <td>2021</td>\n",
       "      <td>ONE MORTGAGE PARTNERS CORP.                   ...</td>\n",
       "      <td>Chase</td>\n",
       "      <td>ONE MORTGAGE PARTNERS CORP. transferred its as...</td>\n",
       "      <td>NaN</td>\n",
       "      <td>NaN</td>\n",
       "    </tr>\n",
       "    <tr>\n",
       "      <th>2</th>\n",
       "      <td>2372.0</td>\n",
       "      <td>3118474.0</td>\n",
       "      <td>852218.0</td>\n",
       "      <td>10/20/2019 0:00</td>\n",
       "      <td>Charter Discontinued</td>\n",
       "      <td>Merger</td>\n",
       "      <td>20191020.0</td>\n",
       "      <td>2019</td>\n",
       "      <td>J.P. MORGAN TREASURY TECHNOLOGIES CORPORATION ...</td>\n",
       "      <td>Chase</td>\n",
       "      <td>J.P. MORGAN TREASURY TECHNOLOGIES CORPORATION ...</td>\n",
       "      <td>NaN</td>\n",
       "      <td>NaN</td>\n",
       "    </tr>\n",
       "    <tr>\n",
       "      <th>3</th>\n",
       "      <td>2620.0</td>\n",
       "      <td>489913.0</td>\n",
       "      <td>852218.0</td>\n",
       "      <td>5/19/2019 0:00</td>\n",
       "      <td>Charter Discontinued</td>\n",
       "      <td>Merger</td>\n",
       "      <td>20190519.0</td>\n",
       "      <td>2019</td>\n",
       "      <td>CHASE BANK USA, NATIONAL ASSOCIATION          ...</td>\n",
       "      <td>Chase</td>\n",
       "      <td>CHASE BANK USA, NATIONAL ASSOCIATION transferr...</td>\n",
       "      <td>NaN</td>\n",
       "      <td>NaN</td>\n",
       "    </tr>\n",
       "    <tr>\n",
       "      <th>4</th>\n",
       "      <td>2621.0</td>\n",
       "      <td>1451364.0</td>\n",
       "      <td>852218.0</td>\n",
       "      <td>5/19/2019 0:00</td>\n",
       "      <td>Charter Discontinued</td>\n",
       "      <td>Merger</td>\n",
       "      <td>20190519.0</td>\n",
       "      <td>2019</td>\n",
       "      <td>CHASE BANKCARD SERVICES, INC.                 ...</td>\n",
       "      <td>Chase</td>\n",
       "      <td>CHASE BANKCARD SERVICES, INC. transferred its ...</td>\n",
       "      <td>NaN</td>\n",
       "      <td>NaN</td>\n",
       "    </tr>\n",
       "  </tbody>\n",
       "</table>\n",
       "</div>"
      ],
      "text/plain": [
       "   Column1  ID_RSSD_PREDECESSOR  ID_RSSD_SUCCESSOR       D_DT_TRANS  \\\n",
       "0    318.0            4114567.0           852218.0    5/1/2023 0:00   \n",
       "1   1108.0            3179318.0           852218.0  12/31/2021 0:00   \n",
       "2   2372.0            3118474.0           852218.0  10/20/2019 0:00   \n",
       "3   2620.0             489913.0           852218.0   5/19/2019 0:00   \n",
       "4   2621.0            1451364.0           852218.0   5/19/2019 0:00   \n",
       "\n",
       "    Transformation Code Accounting Method    DT_TRANS  Year  \\\n",
       "0               Failure    Not Applicable  20230501.0  2023   \n",
       "1  Charter Discontinued            Merger  20211231.0  2021   \n",
       "2  Charter Discontinued            Merger  20191020.0  2019   \n",
       "3  Charter Discontinued            Merger  20190519.0  2019   \n",
       "4  Charter Discontinued            Merger  20190519.0  2019   \n",
       "\n",
       "                                    Predecessor_Name Successor_Name  \\\n",
       "0  FIRST REPUBLIC BANK                           ...          Chase   \n",
       "1  ONE MORTGAGE PARTNERS CORP.                   ...          Chase   \n",
       "2  J.P. MORGAN TREASURY TECHNOLOGIES CORPORATION ...          Chase   \n",
       "3  CHASE BANK USA, NATIONAL ASSOCIATION          ...          Chase   \n",
       "4  CHASE BANKCARD SERVICES, INC.                 ...          Chase   \n",
       "\n",
       "                                               Notes Link  Value  \n",
       "0  FIRST REPUBLIC BANK failed and ceased to exist...  NaN    NaN  \n",
       "1  ONE MORTGAGE PARTNERS CORP. transferred its as...  NaN    NaN  \n",
       "2  J.P. MORGAN TREASURY TECHNOLOGIES CORPORATION ...  NaN    NaN  \n",
       "3  CHASE BANK USA, NATIONAL ASSOCIATION transferr...  NaN    NaN  \n",
       "4  CHASE BANKCARD SERVICES, INC. transferred its ...  NaN    NaN  "
      ]
     },
     "execution_count": 62,
     "metadata": {},
     "output_type": "execute_result"
    }
   ],
   "source": [
    "#Upload the 'chase_df_w_notes_edit.csv' file into a dataframe for plotting purposes\n",
    "trans_chase_df=pd.read_csv(dataframes_df + '\\\\chase_df_w_notes_edit.csv')\n",
    "trans_chase_df.head()"
   ]
  },
  {
   "cell_type": "markdown",
   "metadata": {},
   "source": [
    "### 2b) Bank of American dataframe development <a id=\"5\"></a>"
   ]
  },
  {
   "cell_type": "code",
   "execution_count": 30,
   "metadata": {},
   "outputs": [
    {
     "name": "stderr",
     "output_type": "stream",
     "text": [
      "C:\\Users\\16193\\AppData\\Local\\Temp\\ipykernel_12180\\3471678560.py:5: SettingWithCopyWarning: \n",
      "A value is trying to be set on a copy of a slice from a DataFrame.\n",
      "Try using .loc[row_indexer,col_indexer] = value instead\n",
      "\n",
      "See the caveats in the documentation: https://pandas.pydata.org/pandas-docs/stable/user_guide/indexing.html#returning-a-view-versus-a-copy\n",
      "  trans_boa_df['Successor_Name']='Bank of America'\n"
     ]
    },
    {
     "data": {
      "text/html": [
       "<div>\n",
       "<style scoped>\n",
       "    .dataframe tbody tr th:only-of-type {\n",
       "        vertical-align: middle;\n",
       "    }\n",
       "\n",
       "    .dataframe tbody tr th {\n",
       "        vertical-align: top;\n",
       "    }\n",
       "\n",
       "    .dataframe thead th {\n",
       "        text-align: right;\n",
       "    }\n",
       "</style>\n",
       "<table border=\"1\" class=\"dataframe\">\n",
       "  <thead>\n",
       "    <tr style=\"text-align: right;\">\n",
       "      <th></th>\n",
       "      <th>Column1</th>\n",
       "      <th>ID_RSSD_PREDECESSOR</th>\n",
       "      <th>ID_RSSD_SUCCESSOR</th>\n",
       "      <th>D_DT_TRANS</th>\n",
       "      <th>Transformation Code</th>\n",
       "      <th>Accounting Method</th>\n",
       "      <th>DT_TRANS</th>\n",
       "      <th>Year</th>\n",
       "      <th>Predecessor_Name</th>\n",
       "      <th>Successor_Name</th>\n",
       "    </tr>\n",
       "  </thead>\n",
       "  <tbody>\n",
       "    <tr>\n",
       "      <th>2043</th>\n",
       "      <td>2043</td>\n",
       "      <td>3313943</td>\n",
       "      <td>480228</td>\n",
       "      <td>2020-03-31</td>\n",
       "      <td>Charter Discontinued</td>\n",
       "      <td>Merger</td>\n",
       "      <td>20200331</td>\n",
       "      <td>2020</td>\n",
       "      <td>TAPO CANYON BRANCH [BANK OF AMERICA, NATIONAL ...</td>\n",
       "      <td>Bank of America</td>\n",
       "    </tr>\n",
       "    <tr>\n",
       "      <th>6997</th>\n",
       "      <td>6997</td>\n",
       "      <td>1830035</td>\n",
       "      <td>480228</td>\n",
       "      <td>2014-10-01</td>\n",
       "      <td>Charter Discontinued</td>\n",
       "      <td>Merger</td>\n",
       "      <td>20141001</td>\n",
       "      <td>2014</td>\n",
       "      <td>FIA CARD SERVICES, NATIONAL ASSOCIATION       ...</td>\n",
       "      <td>Bank of America</td>\n",
       "    </tr>\n",
       "    <tr>\n",
       "      <th>8458</th>\n",
       "      <td>8458</td>\n",
       "      <td>2867056</td>\n",
       "      <td>480228</td>\n",
       "      <td>2013-04-01</td>\n",
       "      <td>Charter Discontinued</td>\n",
       "      <td>Merger</td>\n",
       "      <td>20130401</td>\n",
       "      <td>2013</td>\n",
       "      <td>BANK OF AMERICA OREGON, NATIONAL ASSOCIATION  ...</td>\n",
       "      <td>Bank of America</td>\n",
       "    </tr>\n",
       "    <tr>\n",
       "      <th>8462</th>\n",
       "      <td>8462</td>\n",
       "      <td>3344611</td>\n",
       "      <td>480228</td>\n",
       "      <td>2013-04-01</td>\n",
       "      <td>Charter Discontinued</td>\n",
       "      <td>Merger</td>\n",
       "      <td>20130401</td>\n",
       "      <td>2013</td>\n",
       "      <td>BANK OF AMERICA RHODE ISLAND, NATIONAL ASSOCIA...</td>\n",
       "      <td>Bank of America</td>\n",
       "    </tr>\n",
       "    <tr>\n",
       "      <th>10403</th>\n",
       "      <td>10403</td>\n",
       "      <td>2496120</td>\n",
       "      <td>480228</td>\n",
       "      <td>2011-07-01</td>\n",
       "      <td>Charter Discontinued</td>\n",
       "      <td>Merger</td>\n",
       "      <td>20110701</td>\n",
       "      <td>2011</td>\n",
       "      <td>MERRILL LYNCH CREDIT CORPORATION              ...</td>\n",
       "      <td>Bank of America</td>\n",
       "    </tr>\n",
       "  </tbody>\n",
       "</table>\n",
       "</div>"
      ],
      "text/plain": [
       "       Column1  ID_RSSD_PREDECESSOR  ID_RSSD_SUCCESSOR D_DT_TRANS  \\\n",
       "2043      2043              3313943             480228 2020-03-31   \n",
       "6997      6997              1830035             480228 2014-10-01   \n",
       "8458      8458              2867056             480228 2013-04-01   \n",
       "8462      8462              3344611             480228 2013-04-01   \n",
       "10403    10403              2496120             480228 2011-07-01   \n",
       "\n",
       "        Transformation Code Accounting Method  DT_TRANS  Year  \\\n",
       "2043   Charter Discontinued            Merger  20200331  2020   \n",
       "6997   Charter Discontinued            Merger  20141001  2014   \n",
       "8458   Charter Discontinued            Merger  20130401  2013   \n",
       "8462   Charter Discontinued            Merger  20130401  2013   \n",
       "10403  Charter Discontinued            Merger  20110701  2011   \n",
       "\n",
       "                                        Predecessor_Name   Successor_Name  \n",
       "2043   TAPO CANYON BRANCH [BANK OF AMERICA, NATIONAL ...  Bank of America  \n",
       "6997   FIA CARD SERVICES, NATIONAL ASSOCIATION       ...  Bank of America  \n",
       "8458   BANK OF AMERICA OREGON, NATIONAL ASSOCIATION  ...  Bank of America  \n",
       "8462   BANK OF AMERICA RHODE ISLAND, NATIONAL ASSOCIA...  Bank of America  \n",
       "10403  MERRILL LYNCH CREDIT CORPORATION              ...  Bank of America  "
      ]
     },
     "execution_count": 30,
     "metadata": {},
     "output_type": "execute_result"
    }
   ],
   "source": [
    "#Filter the 'transformation_df' dataframe based on the ID_RSSD of Bank of America\n",
    "trans_boa_df=trans_df[trans_df['ID_RSSD_SUCCESSOR']==480228]\n",
    "\n",
    "#Rename the successor to 'Bank of America'\n",
    "trans_boa_df['Successor_Name']='Bank of America'\n",
    "\n",
    "#Display the dataframe for the Bank of America\n",
    "trans_boa_df.head()"
   ]
  },
  {
   "cell_type": "code",
   "execution_count": 31,
   "metadata": {},
   "outputs": [],
   "source": [
    "#Download the 'trans_boa_df' as an excel file for revision\n",
    "path_to_tables = r\"Your\\Directory\\Here\\Dataframe\\Tables\"\n",
    "trans_boa_df.to_excel(path_to_tables + '\\\\trans_boa_df.xlsx', index=False)"
   ]
  },
  {
   "cell_type": "markdown",
   "metadata": {},
   "source": [
    "Create a list of all the legal names of all the branches that were consolidated under Bank of America. "
   ]
  },
  {
   "cell_type": "code",
   "execution_count": 32,
   "metadata": {},
   "outputs": [
    {
     "data": {
      "text/html": [
       "<div>\n",
       "<style scoped>\n",
       "    .dataframe tbody tr th:only-of-type {\n",
       "        vertical-align: middle;\n",
       "    }\n",
       "\n",
       "    .dataframe tbody tr th {\n",
       "        vertical-align: top;\n",
       "    }\n",
       "\n",
       "    .dataframe thead th {\n",
       "        text-align: right;\n",
       "    }\n",
       "</style>\n",
       "<table border=\"1\" class=\"dataframe\">\n",
       "  <thead>\n",
       "    <tr style=\"text-align: right;\">\n",
       "      <th></th>\n",
       "      <th>Column1</th>\n",
       "      <th>ID_RSSD_PREDECESSOR</th>\n",
       "      <th>ID_RSSD_SUCCESSOR</th>\n",
       "      <th>D_DT_TRANS</th>\n",
       "      <th>Transformation Code</th>\n",
       "      <th>Accounting Method</th>\n",
       "      <th>DT_TRANS</th>\n",
       "      <th>Year</th>\n",
       "      <th>Predecessor_Name</th>\n",
       "      <th>Predecessor_Name_Branch</th>\n",
       "      <th>Successor_Name</th>\n",
       "    </tr>\n",
       "  </thead>\n",
       "  <tbody>\n",
       "    <tr>\n",
       "      <th>0</th>\n",
       "      <td>2043</td>\n",
       "      <td>3313943</td>\n",
       "      <td>480228</td>\n",
       "      <td>2020-03-31</td>\n",
       "      <td>Charter Discontinued</td>\n",
       "      <td>Merger</td>\n",
       "      <td>20200331</td>\n",
       "      <td>2020</td>\n",
       "      <td>NaN</td>\n",
       "      <td>TAPO CANYON BRANCH [BANK OF AMERICA, NATIONAL ...</td>\n",
       "      <td>BANK OF AMERICA, NATIONAL ASSOCIATION         ...</td>\n",
       "    </tr>\n",
       "    <tr>\n",
       "      <th>1</th>\n",
       "      <td>6997</td>\n",
       "      <td>1830035</td>\n",
       "      <td>480228</td>\n",
       "      <td>2014-10-01</td>\n",
       "      <td>Charter Discontinued</td>\n",
       "      <td>Merger</td>\n",
       "      <td>20141001</td>\n",
       "      <td>2014</td>\n",
       "      <td>FIA CARD SERVICES, NATIONAL ASSOCIATION       ...</td>\n",
       "      <td>FIA CARD SERVICES, NATIONAL ASSOCIATION       ...</td>\n",
       "      <td>BANK OF AMERICA, NATIONAL ASSOCIATION         ...</td>\n",
       "    </tr>\n",
       "    <tr>\n",
       "      <th>2</th>\n",
       "      <td>8458</td>\n",
       "      <td>2867056</td>\n",
       "      <td>480228</td>\n",
       "      <td>2013-04-01</td>\n",
       "      <td>Charter Discontinued</td>\n",
       "      <td>Merger</td>\n",
       "      <td>20130401</td>\n",
       "      <td>2013</td>\n",
       "      <td>BANK OF AMERICA OREGON, NATIONAL ASSOCIATION  ...</td>\n",
       "      <td>BANK OF AMERICA OREGON, NATIONAL ASSOCIATION  ...</td>\n",
       "      <td>BANK OF AMERICA, NATIONAL ASSOCIATION         ...</td>\n",
       "    </tr>\n",
       "    <tr>\n",
       "      <th>3</th>\n",
       "      <td>8462</td>\n",
       "      <td>3344611</td>\n",
       "      <td>480228</td>\n",
       "      <td>2013-04-01</td>\n",
       "      <td>Charter Discontinued</td>\n",
       "      <td>Merger</td>\n",
       "      <td>20130401</td>\n",
       "      <td>2013</td>\n",
       "      <td>BANK OF AMERICA RHODE ISLAND, NATIONAL ASSOCIA...</td>\n",
       "      <td>BANK OF AMERICA RHODE ISLAND, NATIONAL ASSOCIA...</td>\n",
       "      <td>BANK OF AMERICA, NATIONAL ASSOCIATION         ...</td>\n",
       "    </tr>\n",
       "    <tr>\n",
       "      <th>4</th>\n",
       "      <td>10403</td>\n",
       "      <td>2496120</td>\n",
       "      <td>480228</td>\n",
       "      <td>2011-07-01</td>\n",
       "      <td>Charter Discontinued</td>\n",
       "      <td>Merger</td>\n",
       "      <td>20110701</td>\n",
       "      <td>2011</td>\n",
       "      <td>MERRILL LYNCH CREDIT CORPORATION              ...</td>\n",
       "      <td>MERRILL LYNCH CREDIT CORPORATION              ...</td>\n",
       "      <td>BANK OF AMERICA, NATIONAL ASSOCIATION         ...</td>\n",
       "    </tr>\n",
       "  </tbody>\n",
       "</table>\n",
       "</div>"
      ],
      "text/plain": [
       "   Column1  ID_RSSD_PREDECESSOR  ID_RSSD_SUCCESSOR D_DT_TRANS  \\\n",
       "0     2043              3313943             480228 2020-03-31   \n",
       "1     6997              1830035             480228 2014-10-01   \n",
       "2     8458              2867056             480228 2013-04-01   \n",
       "3     8462              3344611             480228 2013-04-01   \n",
       "4    10403              2496120             480228 2011-07-01   \n",
       "\n",
       "    Transformation Code Accounting Method  DT_TRANS  Year  \\\n",
       "0  Charter Discontinued            Merger  20200331  2020   \n",
       "1  Charter Discontinued            Merger  20141001  2014   \n",
       "2  Charter Discontinued            Merger  20130401  2013   \n",
       "3  Charter Discontinued            Merger  20130401  2013   \n",
       "4  Charter Discontinued            Merger  20110701  2011   \n",
       "\n",
       "                                    Predecessor_Name  \\\n",
       "0                                                NaN   \n",
       "1  FIA CARD SERVICES, NATIONAL ASSOCIATION       ...   \n",
       "2  BANK OF AMERICA OREGON, NATIONAL ASSOCIATION  ...   \n",
       "3  BANK OF AMERICA RHODE ISLAND, NATIONAL ASSOCIA...   \n",
       "4  MERRILL LYNCH CREDIT CORPORATION              ...   \n",
       "\n",
       "                             Predecessor_Name_Branch  \\\n",
       "0  TAPO CANYON BRANCH [BANK OF AMERICA, NATIONAL ...   \n",
       "1  FIA CARD SERVICES, NATIONAL ASSOCIATION       ...   \n",
       "2  BANK OF AMERICA OREGON, NATIONAL ASSOCIATION  ...   \n",
       "3  BANK OF AMERICA RHODE ISLAND, NATIONAL ASSOCIA...   \n",
       "4  MERRILL LYNCH CREDIT CORPORATION              ...   \n",
       "\n",
       "                                      Successor_Name  \n",
       "0  BANK OF AMERICA, NATIONAL ASSOCIATION         ...  \n",
       "1  BANK OF AMERICA, NATIONAL ASSOCIATION         ...  \n",
       "2  BANK OF AMERICA, NATIONAL ASSOCIATION         ...  \n",
       "3  BANK OF AMERICA, NATIONAL ASSOCIATION         ...  \n",
       "4  BANK OF AMERICA, NATIONAL ASSOCIATION         ...  "
      ]
     },
     "execution_count": 32,
     "metadata": {},
     "output_type": "execute_result"
    }
   ],
   "source": [
    "#Upload the dataframe for Bank of America that juxtaposes the column of predecessors  that has the branch legal names and the column that does not\n",
    "path_to_branch_tables=r\"Your\\Directory\\Here\\Dataframe\"\n",
    "boa_branch_df=pd.read_excel(path_to_branch_tables + '\\\\boa_branch_con.xlsx')\n",
    "boa_branch_df.head()"
   ]
  },
  {
   "cell_type": "code",
   "execution_count": 33,
   "metadata": {},
   "outputs": [
    {
     "data": {
      "text/plain": [
       "['KENNEDY PLAZA [BANK OF AMERICA, NATIONAL ASSOCIATION]',\n",
       " 'CHERRY CREEK BRANCH [BANK OF AMERICA, NATIONAL ASSOCIATION]',\n",
       " 'ROSWELL MAIN [WASHINGTON FEDERAL, NATIONAL ASSOCIATION]',\n",
       " 'ROCK HILL BRANCH [BANK OF AMERICA, NATIONAL ASSOCIATION]',\n",
       " 'GLOUCESTER STREET BRANCH [BANK OF AMERICA, NATIONAL ASSOCIATION]',\n",
       " 'SANTA TERESA NM BRANCH [BANK OF AMERICA, NATIONAL ASSOCIATION]',\n",
       " 'PINE BLUFF MAIN BRANCH [BANK OF AMERICA, NATIONAL ASSOCIATION]',\n",
       " 'QUINCY BRANCH [BANK OF AMERICA, NATIONAL ASSOCIATION]',\n",
       " 'WEST PLAINS MAIN BRANCH [BANK OF AMERICA, NATIONAL ASSOCIATION]',\n",
       " 'CALIFORNIA STREET BRANCH [BANK OF AMERICA, NATIONAL ASSOCIATION]',\n",
       " 'SOUTHWEST MISSOURI BRANCH [BANK OF AMERICA, NATIONAL ASSOCIATION]',\n",
       " 'RICHMOND CENTER BRANCH [BANK OF AMERICA, NATIONAL ASSOCIATION]',\n",
       " 'HOBBS MAIN BRANCH [WASHINGTON FEDERAL BANK]',\n",
       " '114 WEST 47TH STREET BRANCH [BANK OF AMERICA, NATIONAL ASSOCIATION]',\n",
       " 'TROY BRANCH [BANK OF AMERICA, NATIONAL ASSOCIATION]',\n",
       " 'ATLANTA BANK OF AMERICA PLAZA BRANCH [BANK OF AMERICA, NATIONAL ASSOCIATION]',\n",
       " 'DOWNTOWN JACKSONVILLE BRANCH [BANK OF AMERICA, NATIONAL ASSOCIATION]',\n",
       " 'RATON BRANCH [BANK OF AMERICA, NATIONAL ASSOCIATION]',\n",
       " 'JONESBORO MAIN BRANCH [BANK OF AMERICA, NATIONAL ASSOCIATION]',\n",
       " 'ALBUQUERQUE BRANCH [BANK OF AMERICA, NATIONAL ASSOCIATION]',\n",
       " 'BOONVILLE BRANCH [FIRST STATE COMMUNITY BANK]',\n",
       " 'MIDTOWN BRANCH [BANK OF AMERICA, NATIONAL ASSOCIATION]',\n",
       " 'SANTA FE BRANCH [BANK OF AMERICA, NATIONAL ASSOCIATION]',\n",
       " 'FARMINGTON BRANCH [BANK OF AMERICA, NATIONAL ASSOCIATION]',\n",
       " 'SILVER CITY MAIN BRANCH [WASHINGTON FEDERAL BANK]',\n",
       " 'WILLIAM STREET BRANCH [FIRST STATE COMMUNITY BANK]',\n",
       " 'KENNETT BRANCH [FIRST STATE COMMUNITY BANK]',\n",
       " 'CLOVIS BRANCH [BANK OF AMERICA, NATIONAL ASSOCIATION]',\n",
       " 'SALT LAKE CITY BRANCH [BANK OF AMERICA, NATIONAL ASSOCIATION]',\n",
       " 'NEW YORK BRANCH [BANK OF AMERICA, NATIONAL ASSOCIATION]',\n",
       " 'RIVER VALLEY BRANCH [BANK OF AMERICA, NATIONAL ASSOCIATION]',\n",
       " 'SPENCER BRANCH [NORTHWEST BANK]',\n",
       " 'ASHEVILLE BRANCH [BANK OF AMERICA, NATIONAL ASSOCIATION]',\n",
       " 'HOME OFFICE [RBC CENTURA BANK]',\n",
       " 'HOT SPRINGS MAIN BRANCH [BANK OF AMERICA, NATIONAL ASSOCIATION]',\n",
       " 'PWM LASALLE MIDWEST BRANCH [BANK OF AMERICA, NATIONAL ASSOCIATION]',\n",
       " 'BATESVILLE MAIN BRANCH [BANK OF AMERICA, NATIONAL ASSOCIATION]',\n",
       " 'BENTON BRANCH PUBLIC SQUARE [FIRST FINANCIAL BANK, NATIONAL ASSOCIATION]',\n",
       " 'DELAWARE AVENUE BRANCH [BANK OF AMERICA, NATIONAL ASSOCIATION]',\n",
       " 'SKYWALK BRANCH [BANK OF AMERICA, NATIONAL ASSOCIATION]',\n",
       " 'CAMDEN BRANCH [FARMERS BANK & TRUST COMPANY]',\n",
       " 'BOATMENS VANDALIA BRANCH [BANK OF AMERICA, NATIONAL ASSOCIATION]',\n",
       " 'RIO ARRIBA MAIN BRANCH [WASHINGTON FEDERAL BANK]',\n",
       " 'BANK OF AMERICA CENTER TULSA BRANCH [BANK OF AMERICA, NATIONAL ASSOCIATION]',\n",
       " 'HARKRIDER NORTH BRANCH [BANK OF AMERICA, NATIONAL ASSOCIATION]',\n",
       " 'FAYETTEVILLE EAST CENTER BRANCH [BANK OF AMERICA, NATIONAL ASSOCIATION]',\n",
       " 'MASON CITY BRANCH [BANK OF AMERICA, NATIONAL ASSOCIATION]',\n",
       " 'BANK OF AMERICA PLAZA BRANCH [BANK OF AMERICA, NATIONAL ASSOCIATION]',\n",
       " 'FORT DODGE BRANCH [NORTHWEST BANK]',\n",
       " 'HILLSBORO MAIN BRANCH [FIRST COMMUNITY BANK OF HILLSBORO]',\n",
       " 'RUSSELLVILLE MAIN BRANCH [ARVEST BANK]',\n",
       " 'BULL SHOALS MAIN BRANCH [FIRST SECURITY BANK]',\n",
       " 'OSAGE BRANCH [BANK OF AMERICA, NATIONAL ASSOCIATION]',\n",
       " 'PLAZA SAN JACINTO BRANCH [BANK OF AMERICA, NATIONAL ASSOCIATION]',\n",
       " 'NEW BERN OFFICE [BANK OF AMERICA, NATIONAL ASSOCIATION]',\n",
       " 'RICHLAND BRANCH [BANK OF AMERICA, NATIONAL ASSOCIATION]',\n",
       " 'NORTH AKARD STREET BRANCH [BANK OF AMERICA, NATIONAL ASSOCIATION]',\n",
       " 'SANIBEL BRANCH [BANK OF AMERICA, NATIONAL ASSOCIATION]',\n",
       " 'NEWARK FRONT STREET BRANCH [BANK OF AMERICA, NATIONAL ASSOCIATION]',\n",
       " 'GALLUP BRANCH [BANK OF AMERICA, NATIONAL ASSOCIATION]',\n",
       " 'LEBANON BRANCH [ARVEST BANK]',\n",
       " 'PWM LITTLE ROCK BRANCH [BANK OF AMERICA, NATIONAL ASSOCIATION]',\n",
       " 'COLUMBIA DOWNTOWN BRANCH [BANK OF AMERICA, NATIONAL ASSOCIATION]',\n",
       " 'ROLLA MAIN BRANCH [FIRST STATE COMMUNITY BANK]',\n",
       " 'HIGHLANDS BRANCH [BANK OF AMERICA, NATIONAL ASSOCIATION]',\n",
       " 'SAINT LOUIS MAIN BRANCH [BANK OF AMERICA, NATIONAL ASSOCIATION]',\n",
       " 'ONE KANSAS CITY PLACE BRANCH [BANK OF AMERICA, NATIONAL ASSOCIATION]',\n",
       " 'HENDERSON OFFICE [NATIONSBANK OF NORTH CAROLINA, NATIONAL ASSOCIATION]',\n",
       " 'FIELD BUILDING BRANCH, THE [BANK OF AMERICA, NATIONAL ASSOCIATION]',\n",
       " 'LINCOLNTON BRANCH [BANK OF AMERICA, NATIONAL ASSOCIATION]',\n",
       " 'LAS CRUCES BRANCH [BANK OF AMERICA, NATIONAL ASSOCIATION]',\n",
       " 'MARSHALL MAIN BRANCH [BANK OF AMERICA, NATIONAL ASSOCIATION]',\n",
       " 'MOUNT VERNON MAIN BRANCH [FIRST FINANCIAL BANK, NATIONAL ASSOCIATION]',\n",
       " 'JACKSONVILLE BRANCH [BANK OF AMERICA, NATIONAL ASSOCIATION]',\n",
       " 'COLES COUNTY BRANCH [BANK OF AMERICA, NATIONAL ASSOCIATION]',\n",
       " 'NASHVILLE MAIN BRANCH [BANK OF AMERICA, NATIONAL ASSOCIATION]',\n",
       " 'TAPO CANYON BRANCH [BANK OF AMERICA, NATIONAL ASSOCIATION]',\n",
       " 'SOUTHERN MISSOURI BR [BANK OF AMERICA, NATIONAL ASSOCIATION]',\n",
       " 'MOUNT AIRY OFFICE [FIRST COMMUNITY BANK]']"
      ]
     },
     "execution_count": 33,
     "metadata": {},
     "output_type": "execute_result"
    }
   ],
   "source": [
    "#Create a list of all the missing points in the dataframe\n",
    "boa_missing_points = list(set(boa_branch_df['Predecessor_Name_Branch']) - set(boa_branch_df['Predecessor_Name']))\n",
    "boa_missing_points"
   ]
  },
  {
   "cell_type": "code",
   "execution_count": 34,
   "metadata": {},
   "outputs": [],
   "source": [
    "# Define the list of branch consolidation entities for the switch filter\n",
    "boa_branch_list = [\n",
    " 'COLUMBIA DOWNTOWN BRANCH [BANK OF AMERICA, NATIONAL ASSOCIATION]',\n",
    " 'FORT DODGE BRANCH [NORTHWEST BANK]',\n",
    " 'DOWNTOWN JACKSONVILLE BRANCH [BANK OF AMERICA, NATIONAL ASSOCIATION]',\n",
    " 'ASHEVILLE BRANCH [BANK OF AMERICA, NATIONAL ASSOCIATION]',\n",
    " 'NEW YORK BRANCH [BANK OF AMERICA, NATIONAL ASSOCIATION]',\n",
    " 'QUINCY BRANCH [BANK OF AMERICA, NATIONAL ASSOCIATION]',\n",
    " 'PINE BLUFF MAIN BRANCH [BANK OF AMERICA, NATIONAL ASSOCIATION]',\n",
    " 'NORTH AKARD STREET BRANCH [BANK OF AMERICA, NATIONAL ASSOCIATION]',\n",
    " 'SANIBEL BRANCH [BANK OF AMERICA, NATIONAL ASSOCIATION]',\n",
    " 'CAMDEN BRANCH [FARMERS BANK & TRUST COMPANY]',\n",
    " 'HOME OFFICE [RBC CENTURA BANK]',\n",
    " 'BATESVILLE MAIN BRANCH [BANK OF AMERICA, NATIONAL ASSOCIATION]',\n",
    " 'HILLSBORO MAIN BRANCH [FIRST COMMUNITY BANK OF HILLSBORO]',\n",
    " 'FAYETTEVILLE EAST CENTER BRANCH [BANK OF AMERICA, NATIONAL ASSOCIATION]',\n",
    " 'JACKSONVILLE BRANCH [BANK OF AMERICA, NATIONAL ASSOCIATION]',\n",
    " 'MOUNT VERNON MAIN BRANCH [FIRST FINANCIAL BANK, NATIONAL ASSOCIATION]',\n",
    " 'BANK OF AMERICA CENTER TULSA BRANCH [BANK OF AMERICA, NATIONAL ASSOCIATION]',\n",
    " 'RICHMOND CENTER BRANCH [BANK OF AMERICA, NATIONAL ASSOCIATION]',\n",
    " 'LINCOLNTON BRANCH [BANK OF AMERICA, NATIONAL ASSOCIATION]',\n",
    " 'FIELD BUILDING BRANCH, THE [BANK OF AMERICA, NATIONAL ASSOCIATION]',\n",
    " 'MARSHALL MAIN BRANCH [BANK OF AMERICA, NATIONAL ASSOCIATION]',\n",
    " 'BENTON BRANCH PUBLIC SQUARE [FIRST FINANCIAL BANK, NATIONAL ASSOCIATION]',\n",
    " 'SOUTHWEST MISSOURI BRANCH [BANK OF AMERICA, NATIONAL ASSOCIATION]',\n",
    " '114 WEST 47TH STREET BRANCH [BANK OF AMERICA, NATIONAL ASSOCIATION]',\n",
    " 'SKYWALK BRANCH [BANK OF AMERICA, NATIONAL ASSOCIATION]',\n",
    " 'PWM LITTLE ROCK BRANCH [BANK OF AMERICA, NATIONAL ASSOCIATION]',\n",
    " 'ROCK HILL BRANCH [BANK OF AMERICA, NATIONAL ASSOCIATION]',\n",
    " 'ROSWELL MAIN [WASHINGTON FEDERAL, NATIONAL ASSOCIATION]',\n",
    " 'RICHLAND BRANCH [BANK OF AMERICA, NATIONAL ASSOCIATION]',\n",
    " 'HOT SPRINGS MAIN BRANCH [BANK OF AMERICA, NATIONAL ASSOCIATION]',\n",
    " 'WEST PLAINS MAIN BRANCH [BANK OF AMERICA, NATIONAL ASSOCIATION]',\n",
    " 'PWM LASALLE MIDWEST BRANCH [BANK OF AMERICA, NATIONAL ASSOCIATION]',\n",
    " 'DELAWARE AVENUE BRANCH [BANK OF AMERICA, NATIONAL ASSOCIATION]',\n",
    " 'RATON BRANCH [BANK OF AMERICA, NATIONAL ASSOCIATION]',\n",
    " 'TAPO CANYON BRANCH [BANK OF AMERICA, NATIONAL ASSOCIATION]',\n",
    " 'LAS CRUCES BRANCH [BANK OF AMERICA, NATIONAL ASSOCIATION]',\n",
    " 'FARMINGTON BRANCH [BANK OF AMERICA, NATIONAL ASSOCIATION]',\n",
    " 'GLOUCESTER STREET BRANCH [BANK OF AMERICA, NATIONAL ASSOCIATION]',\n",
    " 'RIO ARRIBA MAIN BRANCH [WASHINGTON FEDERAL BANK]',\n",
    " 'SILVER CITY MAIN BRANCH [WASHINGTON FEDERAL BANK]',\n",
    " 'ONE KANSAS CITY PLACE BRANCH [BANK OF AMERICA, NATIONAL ASSOCIATION]',\n",
    " 'SANTA TERESA NM BRANCH [BANK OF AMERICA, NATIONAL ASSOCIATION]',\n",
    " 'CALIFORNIA STREET BRANCH [BANK OF AMERICA, NATIONAL ASSOCIATION]',\n",
    " 'NEWARK FRONT STREET BRANCH [BANK OF AMERICA, NATIONAL ASSOCIATION]',\n",
    " 'ALBUQUERQUE BRANCH [BANK OF AMERICA, NATIONAL ASSOCIATION]',\n",
    " 'SPENCER BRANCH [NORTHWEST BANK]',\n",
    " 'BOATMENS VANDALIA BRANCH [BANK OF AMERICA, NATIONAL ASSOCIATION]',\n",
    " 'SOUTHERN MISSOURI BR [BANK OF AMERICA, NATIONAL ASSOCIATION]',\n",
    " 'CHERRY CREEK BRANCH [BANK OF AMERICA, NATIONAL ASSOCIATION]',\n",
    " 'LEBANON BRANCH [ARVEST BANK]',\n",
    " 'ATLANTA BANK OF AMERICA PLAZA BRANCH [BANK OF AMERICA, NATIONAL ASSOCIATION]',\n",
    " 'SANTA FE BRANCH [BANK OF AMERICA, NATIONAL ASSOCIATION]',\n",
    " 'BOONVILLE BRANCH [FIRST STATE COMMUNITY BANK]',\n",
    " 'RUSSELLVILLE MAIN BRANCH [ARVEST BANK]',\n",
    " 'JONESBORO MAIN BRANCH [BANK OF AMERICA, NATIONAL ASSOCIATION]',\n",
    " 'BULL SHOALS MAIN BRANCH [FIRST SECURITY BANK]',\n",
    " 'HARKRIDER NORTH BRANCH [BANK OF AMERICA, NATIONAL ASSOCIATION]',\n",
    " 'WILLIAM STREET BRANCH [FIRST STATE COMMUNITY BANK]',\n",
    " 'MASON CITY BRANCH [BANK OF AMERICA, NATIONAL ASSOCIATION]',\n",
    " 'MIDTOWN BRANCH [BANK OF AMERICA, NATIONAL ASSOCIATION]',\n",
    " 'RIVER VALLEY BRANCH [BANK OF AMERICA, NATIONAL ASSOCIATION]',\n",
    " 'SAINT LOUIS MAIN BRANCH [BANK OF AMERICA, NATIONAL ASSOCIATION]',\n",
    " 'GALLUP BRANCH [BANK OF AMERICA, NATIONAL ASSOCIATION]',\n",
    " 'KENNEDY PLAZA [BANK OF AMERICA, NATIONAL ASSOCIATION]',\n",
    " 'NEW BERN OFFICE [BANK OF AMERICA, NATIONAL ASSOCIATION]',\n",
    " 'HOBBS MAIN BRANCH [WASHINGTON FEDERAL BANK]',\n",
    " 'BANK OF AMERICA PLAZA BRANCH [BANK OF AMERICA, NATIONAL ASSOCIATION]',\n",
    " 'TROY BRANCH [BANK OF AMERICA, NATIONAL ASSOCIATION]',\n",
    " 'HIGHLANDS BRANCH [BANK OF AMERICA, NATIONAL ASSOCIATION]',\n",
    " 'PLAZA SAN JACINTO BRANCH [BANK OF AMERICA, NATIONAL ASSOCIATION]',\n",
    " 'COLES COUNTY BRANCH [BANK OF AMERICA, NATIONAL ASSOCIATION]',\n",
    " 'HENDERSON OFFICE [NATIONSBANK OF NORTH CAROLINA, NATIONAL ASSOCIATION]',\n",
    " 'CLOVIS BRANCH [BANK OF AMERICA, NATIONAL ASSOCIATION]',\n",
    " 'KENNETT BRANCH [FIRST STATE COMMUNITY BANK]',\n",
    " 'OSAGE BRANCH [BANK OF AMERICA, NATIONAL ASSOCIATION]',\n",
    " 'ROLLA MAIN BRANCH [FIRST STATE COMMUNITY BANK]',\n",
    " 'NASHVILLE MAIN BRANCH [BANK OF AMERICA, NATIONAL ASSOCIATION]',\n",
    " 'SALT LAKE CITY BRANCH [BANK OF AMERICA, NATIONAL ASSOCIATION]',\n",
    " 'MOUNT AIRY OFFICE [FIRST COMMUNITY BANK]']\n"
   ]
  },
  {
   "cell_type": "markdown",
   "metadata": {},
   "source": [
    "Now, we will add the \"Notes\" column from the \"history.csv\" file for Bank of America so that we can contextualize the nature of the transformation.\n",
    "\n",
    "Source: https://www.ffiec.gov/npw/Institution/Profile/480228?dt=20160418\n",
    "\n",
    "Also, by this time we have transformed the original dataframes to add missing transformations and correcting categorizations from corporate research."
   ]
  },
  {
   "cell_type": "code",
   "execution_count": 35,
   "metadata": {},
   "outputs": [
    {
     "data": {
      "text/html": [
       "<div>\n",
       "<style scoped>\n",
       "    .dataframe tbody tr th:only-of-type {\n",
       "        vertical-align: middle;\n",
       "    }\n",
       "\n",
       "    .dataframe tbody tr th {\n",
       "        vertical-align: top;\n",
       "    }\n",
       "\n",
       "    .dataframe thead th {\n",
       "        text-align: right;\n",
       "    }\n",
       "</style>\n",
       "<table border=\"1\" class=\"dataframe\">\n",
       "  <thead>\n",
       "    <tr style=\"text-align: right;\">\n",
       "      <th></th>\n",
       "      <th>Event</th>\n",
       "      <th>EventDate</th>\n",
       "      <th>OtherInstitutionName</th>\n",
       "      <th>OtherInstitutionID</th>\n",
       "      <th>Notes</th>\n",
       "    </tr>\n",
       "  </thead>\n",
       "  <tbody>\n",
       "    <tr>\n",
       "      <th>0</th>\n",
       "      <td>Acquisition</td>\n",
       "      <td>3/31/2020</td>\n",
       "      <td>RECONTRUST COMPANY, NATIONAL ASSOCIATION</td>\n",
       "      <td>3313943.0</td>\n",
       "      <td>RECONTRUST COMPANY, NATIONAL ASSOCIATION trans...</td>\n",
       "    </tr>\n",
       "    <tr>\n",
       "      <th>1</th>\n",
       "      <td>Acquisition</td>\n",
       "      <td>10/1/2014</td>\n",
       "      <td>FIA CARD SERVICES, NATIONAL ASSOCIATION</td>\n",
       "      <td>1830035.0</td>\n",
       "      <td>FIA CARD SERVICES, NATIONAL ASSOCIATION transf...</td>\n",
       "    </tr>\n",
       "    <tr>\n",
       "      <th>2</th>\n",
       "      <td>Acquisition</td>\n",
       "      <td>4/1/2013</td>\n",
       "      <td>BANK OF AMERICA OREGON, NATIONAL ASSOCIATION</td>\n",
       "      <td>2867056.0</td>\n",
       "      <td>BANK OF AMERICA OREGON, NATIONAL ASSOCIATION t...</td>\n",
       "    </tr>\n",
       "    <tr>\n",
       "      <th>3</th>\n",
       "      <td>Acquisition</td>\n",
       "      <td>4/1/2013</td>\n",
       "      <td>BANK OF AMERICA RHODE ISLAND, NATIONAL ASSOCIA...</td>\n",
       "      <td>3344611.0</td>\n",
       "      <td>BANK OF AMERICA RHODE ISLAND, NATIONAL ASSOCIA...</td>\n",
       "    </tr>\n",
       "    <tr>\n",
       "      <th>4</th>\n",
       "      <td>Address Changed</td>\n",
       "      <td>6/25/2012</td>\n",
       "      <td>NaN</td>\n",
       "      <td>NaN</td>\n",
       "      <td>The address of BANK OF AMERICA, NATIONAL ASSOC...</td>\n",
       "    </tr>\n",
       "  </tbody>\n",
       "</table>\n",
       "</div>"
      ],
      "text/plain": [
       "             Event  EventDate  \\\n",
       "0      Acquisition  3/31/2020   \n",
       "1      Acquisition  10/1/2014   \n",
       "2      Acquisition   4/1/2013   \n",
       "3      Acquisition   4/1/2013   \n",
       "4  Address Changed  6/25/2012   \n",
       "\n",
       "                                OtherInstitutionName  OtherInstitutionID  \\\n",
       "0           RECONTRUST COMPANY, NATIONAL ASSOCIATION           3313943.0   \n",
       "1            FIA CARD SERVICES, NATIONAL ASSOCIATION           1830035.0   \n",
       "2       BANK OF AMERICA OREGON, NATIONAL ASSOCIATION           2867056.0   \n",
       "3  BANK OF AMERICA RHODE ISLAND, NATIONAL ASSOCIA...           3344611.0   \n",
       "4                                                NaN                 NaN   \n",
       "\n",
       "                                               Notes  \n",
       "0  RECONTRUST COMPANY, NATIONAL ASSOCIATION trans...  \n",
       "1  FIA CARD SERVICES, NATIONAL ASSOCIATION transf...  \n",
       "2  BANK OF AMERICA OREGON, NATIONAL ASSOCIATION t...  \n",
       "3  BANK OF AMERICA RHODE ISLAND, NATIONAL ASSOCIA...  \n",
       "4  The address of BANK OF AMERICA, NATIONAL ASSOC...  "
      ]
     },
     "execution_count": 35,
     "metadata": {},
     "output_type": "execute_result"
    }
   ],
   "source": [
    "#From the 'tables_dir' directory, load the 'history_boa.csv' csv file into a dataframe\n",
    "history_boa_df=pd.read_csv(tables_dir + '\\\\other_tables\\\\history_boa.csv')\n",
    "history_boa_df.head()"
   ]
  },
  {
   "cell_type": "code",
   "execution_count": 36,
   "metadata": {},
   "outputs": [
    {
     "data": {
      "text/html": [
       "<div>\n",
       "<style scoped>\n",
       "    .dataframe tbody tr th:only-of-type {\n",
       "        vertical-align: middle;\n",
       "    }\n",
       "\n",
       "    .dataframe tbody tr th {\n",
       "        vertical-align: top;\n",
       "    }\n",
       "\n",
       "    .dataframe thead th {\n",
       "        text-align: right;\n",
       "    }\n",
       "</style>\n",
       "<table border=\"1\" class=\"dataframe\">\n",
       "  <thead>\n",
       "    <tr style=\"text-align: right;\">\n",
       "      <th></th>\n",
       "      <th>Event</th>\n",
       "      <th>EventDate</th>\n",
       "      <th>OtherInstitutionName</th>\n",
       "      <th>OtherInstitutionID</th>\n",
       "      <th>Notes</th>\n",
       "    </tr>\n",
       "  </thead>\n",
       "  <tbody>\n",
       "    <tr>\n",
       "      <th>0</th>\n",
       "      <td>Acquisition</td>\n",
       "      <td>3/31/2020</td>\n",
       "      <td>RECONTRUST COMPANY, NATIONAL ASSOCIATION</td>\n",
       "      <td>3313943</td>\n",
       "      <td>RECONTRUST COMPANY, NATIONAL ASSOCIATION trans...</td>\n",
       "    </tr>\n",
       "    <tr>\n",
       "      <th>1</th>\n",
       "      <td>Acquisition</td>\n",
       "      <td>10/1/2014</td>\n",
       "      <td>FIA CARD SERVICES, NATIONAL ASSOCIATION</td>\n",
       "      <td>1830035</td>\n",
       "      <td>FIA CARD SERVICES, NATIONAL ASSOCIATION transf...</td>\n",
       "    </tr>\n",
       "    <tr>\n",
       "      <th>2</th>\n",
       "      <td>Acquisition</td>\n",
       "      <td>4/1/2013</td>\n",
       "      <td>BANK OF AMERICA OREGON, NATIONAL ASSOCIATION</td>\n",
       "      <td>2867056</td>\n",
       "      <td>BANK OF AMERICA OREGON, NATIONAL ASSOCIATION t...</td>\n",
       "    </tr>\n",
       "    <tr>\n",
       "      <th>3</th>\n",
       "      <td>Acquisition</td>\n",
       "      <td>4/1/2013</td>\n",
       "      <td>BANK OF AMERICA RHODE ISLAND, NATIONAL ASSOCIA...</td>\n",
       "      <td>3344611</td>\n",
       "      <td>BANK OF AMERICA RHODE ISLAND, NATIONAL ASSOCIA...</td>\n",
       "    </tr>\n",
       "    <tr>\n",
       "      <th>5</th>\n",
       "      <td>Acquisition</td>\n",
       "      <td>7/1/2011</td>\n",
       "      <td>MERRILL LYNCH CREDIT CORPORATION</td>\n",
       "      <td>2496120</td>\n",
       "      <td>MERRILL LYNCH CREDIT CORPORATION transferred i...</td>\n",
       "    </tr>\n",
       "  </tbody>\n",
       "</table>\n",
       "</div>"
      ],
      "text/plain": [
       "         Event  EventDate                               OtherInstitutionName  \\\n",
       "0  Acquisition  3/31/2020           RECONTRUST COMPANY, NATIONAL ASSOCIATION   \n",
       "1  Acquisition  10/1/2014            FIA CARD SERVICES, NATIONAL ASSOCIATION   \n",
       "2  Acquisition   4/1/2013       BANK OF AMERICA OREGON, NATIONAL ASSOCIATION   \n",
       "3  Acquisition   4/1/2013  BANK OF AMERICA RHODE ISLAND, NATIONAL ASSOCIA...   \n",
       "5  Acquisition   7/1/2011                   MERRILL LYNCH CREDIT CORPORATION   \n",
       "\n",
       "   OtherInstitutionID                                              Notes  \n",
       "0             3313943  RECONTRUST COMPANY, NATIONAL ASSOCIATION trans...  \n",
       "1             1830035  FIA CARD SERVICES, NATIONAL ASSOCIATION transf...  \n",
       "2             2867056  BANK OF AMERICA OREGON, NATIONAL ASSOCIATION t...  \n",
       "3             3344611  BANK OF AMERICA RHODE ISLAND, NATIONAL ASSOCIA...  \n",
       "5             2496120  MERRILL LYNCH CREDIT CORPORATION transferred i...  "
      ]
     },
     "execution_count": 36,
     "metadata": {},
     "output_type": "execute_result"
    }
   ],
   "source": [
    "'''\n",
    "    For the 'history_boa_df' dataframe, turn the 'OtherInstitutionID' column\n",
    "    into an int64 type instead of a float. This is so that the datatypes between\n",
    "    the 'history_boa_df''s 'OtherInstitutionID' column and the 'boa_df''s \n",
    "    'ID_RSSD_PREDECESSOR' column match\n",
    "'''\n",
    "history_boa_df['OtherInstitutionID'] = history_boa_df['OtherInstitutionID'].astype('Int64')\n",
    "\n",
    "#Filter the 'Event' column to only have 'Acqusitions'\n",
    "history_boa_df=history_boa_df[history_boa_df['Event']=='Acquisition']\n",
    "\n",
    "history_boa_df.head()"
   ]
  },
  {
   "cell_type": "code",
   "execution_count": 37,
   "metadata": {},
   "outputs": [
    {
     "data": {
      "text/html": [
       "<div>\n",
       "<style scoped>\n",
       "    .dataframe tbody tr th:only-of-type {\n",
       "        vertical-align: middle;\n",
       "    }\n",
       "\n",
       "    .dataframe tbody tr th {\n",
       "        vertical-align: top;\n",
       "    }\n",
       "\n",
       "    .dataframe thead th {\n",
       "        text-align: right;\n",
       "    }\n",
       "</style>\n",
       "<table border=\"1\" class=\"dataframe\">\n",
       "  <thead>\n",
       "    <tr style=\"text-align: right;\">\n",
       "      <th></th>\n",
       "      <th>Column1</th>\n",
       "      <th>ID_RSSD_PREDECESSOR</th>\n",
       "      <th>ID_RSSD_SUCCESSOR</th>\n",
       "      <th>D_DT_TRANS</th>\n",
       "      <th>Transformation Code</th>\n",
       "      <th>Accounting Method</th>\n",
       "      <th>DT_TRANS</th>\n",
       "      <th>Year</th>\n",
       "      <th>Predecessor_Name</th>\n",
       "      <th>Successor_Name</th>\n",
       "    </tr>\n",
       "  </thead>\n",
       "  <tbody>\n",
       "    <tr>\n",
       "      <th>0</th>\n",
       "      <td>2043</td>\n",
       "      <td>3313943</td>\n",
       "      <td>480228</td>\n",
       "      <td>3/31/2020 0:00</td>\n",
       "      <td>Charter Discontinued</td>\n",
       "      <td>Merger</td>\n",
       "      <td>20200331</td>\n",
       "      <td>2020</td>\n",
       "      <td>TAPO CANYON BRANCH [BANK OF AMERICA, NATIONAL ...</td>\n",
       "      <td>Bank of America</td>\n",
       "    </tr>\n",
       "    <tr>\n",
       "      <th>1</th>\n",
       "      <td>6997</td>\n",
       "      <td>1830035</td>\n",
       "      <td>480228</td>\n",
       "      <td>10/1/2014 0:00</td>\n",
       "      <td>Charter Discontinued</td>\n",
       "      <td>Merger</td>\n",
       "      <td>20141001</td>\n",
       "      <td>2014</td>\n",
       "      <td>FIA CARD SERVICES, NATIONAL ASSOCIATION       ...</td>\n",
       "      <td>Bank of America</td>\n",
       "    </tr>\n",
       "    <tr>\n",
       "      <th>2</th>\n",
       "      <td>8458</td>\n",
       "      <td>2867056</td>\n",
       "      <td>480228</td>\n",
       "      <td>4/1/2013 0:00</td>\n",
       "      <td>Charter Discontinued</td>\n",
       "      <td>Merger</td>\n",
       "      <td>20130401</td>\n",
       "      <td>2013</td>\n",
       "      <td>BANK OF AMERICA OREGON, NATIONAL ASSOCIATION  ...</td>\n",
       "      <td>Bank of America</td>\n",
       "    </tr>\n",
       "    <tr>\n",
       "      <th>3</th>\n",
       "      <td>8462</td>\n",
       "      <td>3344611</td>\n",
       "      <td>480228</td>\n",
       "      <td>4/1/2013 0:00</td>\n",
       "      <td>Charter Discontinued</td>\n",
       "      <td>Merger</td>\n",
       "      <td>20130401</td>\n",
       "      <td>2013</td>\n",
       "      <td>BANK OF AMERICA RHODE ISLAND, NATIONAL ASSOCIA...</td>\n",
       "      <td>Bank of America</td>\n",
       "    </tr>\n",
       "    <tr>\n",
       "      <th>4</th>\n",
       "      <td>10403</td>\n",
       "      <td>2496120</td>\n",
       "      <td>480228</td>\n",
       "      <td>7/1/2011 0:00</td>\n",
       "      <td>Charter Discontinued</td>\n",
       "      <td>Merger</td>\n",
       "      <td>20110701</td>\n",
       "      <td>2011</td>\n",
       "      <td>MERRILL LYNCH CREDIT CORPORATION              ...</td>\n",
       "      <td>Bank of America</td>\n",
       "    </tr>\n",
       "    <tr>\n",
       "      <th>...</th>\n",
       "      <td>...</td>\n",
       "      <td>...</td>\n",
       "      <td>...</td>\n",
       "      <td>...</td>\n",
       "      <td>...</td>\n",
       "      <td>...</td>\n",
       "      <td>...</td>\n",
       "      <td>...</td>\n",
       "      <td>...</td>\n",
       "      <td>...</td>\n",
       "    </tr>\n",
       "    <tr>\n",
       "      <th>115</th>\n",
       "      <td>57386</td>\n",
       "      <td>730026</td>\n",
       "      <td>480228</td>\n",
       "      <td>6/11/1962 0:00</td>\n",
       "      <td>Charter Discontinued</td>\n",
       "      <td>Not Applicable</td>\n",
       "      <td>19620611</td>\n",
       "      <td>1962</td>\n",
       "      <td>BANK OF WILMINGTON                            ...</td>\n",
       "      <td>Bank of America</td>\n",
       "    </tr>\n",
       "    <tr>\n",
       "      <th>116</th>\n",
       "      <td>57423</td>\n",
       "      <td>872720</td>\n",
       "      <td>480228</td>\n",
       "      <td>4/2/1962 0:00</td>\n",
       "      <td>Charter Discontinued</td>\n",
       "      <td>Not Applicable</td>\n",
       "      <td>19620402</td>\n",
       "      <td>1962</td>\n",
       "      <td>BANK OF NORTH WILKESBORO                      ...</td>\n",
       "      <td>Bank of America</td>\n",
       "    </tr>\n",
       "    <tr>\n",
       "      <th>117</th>\n",
       "      <td>57596</td>\n",
       "      <td>536321</td>\n",
       "      <td>480228</td>\n",
       "      <td>1/3/1961 0:00</td>\n",
       "      <td>Charter Discontinued</td>\n",
       "      <td>Not Applicable</td>\n",
       "      <td>19610103</td>\n",
       "      <td>1961</td>\n",
       "      <td>FIRST NATIONAL BANK                           ...</td>\n",
       "      <td>Bank of America</td>\n",
       "    </tr>\n",
       "    <tr>\n",
       "      <th>118</th>\n",
       "      <td>57637</td>\n",
       "      <td>43128</td>\n",
       "      <td>480228</td>\n",
       "      <td>10/10/1960 0:00</td>\n",
       "      <td>Charter Discontinued</td>\n",
       "      <td>Not Applicable</td>\n",
       "      <td>19601010</td>\n",
       "      <td>1960</td>\n",
       "      <td>MERCHANTS AND FARMERS BANKOF STATESVILLE, INCO...</td>\n",
       "      <td>Bank of America</td>\n",
       "    </tr>\n",
       "    <tr>\n",
       "      <th>119</th>\n",
       "      <td>57672</td>\n",
       "      <td>595627</td>\n",
       "      <td>480228</td>\n",
       "      <td>7/1/1960 0:00</td>\n",
       "      <td>Charter Discontinued</td>\n",
       "      <td>Not Applicable</td>\n",
       "      <td>19600701</td>\n",
       "      <td>1960</td>\n",
       "      <td>SECURITY NATIONAL BANK OF GREENSBORO          ...</td>\n",
       "      <td>Bank of America</td>\n",
       "    </tr>\n",
       "  </tbody>\n",
       "</table>\n",
       "<p>120 rows × 10 columns</p>\n",
       "</div>"
      ],
      "text/plain": [
       "     Column1  ID_RSSD_PREDECESSOR  ID_RSSD_SUCCESSOR       D_DT_TRANS  \\\n",
       "0       2043              3313943             480228   3/31/2020 0:00   \n",
       "1       6997              1830035             480228   10/1/2014 0:00   \n",
       "2       8458              2867056             480228    4/1/2013 0:00   \n",
       "3       8462              3344611             480228    4/1/2013 0:00   \n",
       "4      10403              2496120             480228    7/1/2011 0:00   \n",
       "..       ...                  ...                ...              ...   \n",
       "115    57386               730026             480228   6/11/1962 0:00   \n",
       "116    57423               872720             480228    4/2/1962 0:00   \n",
       "117    57596               536321             480228    1/3/1961 0:00   \n",
       "118    57637                43128             480228  10/10/1960 0:00   \n",
       "119    57672               595627             480228    7/1/1960 0:00   \n",
       "\n",
       "      Transformation Code Accounting Method  DT_TRANS  Year  \\\n",
       "0    Charter Discontinued            Merger  20200331  2020   \n",
       "1    Charter Discontinued            Merger  20141001  2014   \n",
       "2    Charter Discontinued            Merger  20130401  2013   \n",
       "3    Charter Discontinued            Merger  20130401  2013   \n",
       "4    Charter Discontinued            Merger  20110701  2011   \n",
       "..                    ...               ...       ...   ...   \n",
       "115  Charter Discontinued    Not Applicable  19620611  1962   \n",
       "116  Charter Discontinued    Not Applicable  19620402  1962   \n",
       "117  Charter Discontinued    Not Applicable  19610103  1961   \n",
       "118  Charter Discontinued    Not Applicable  19601010  1960   \n",
       "119  Charter Discontinued    Not Applicable  19600701  1960   \n",
       "\n",
       "                                      Predecessor_Name   Successor_Name  \n",
       "0    TAPO CANYON BRANCH [BANK OF AMERICA, NATIONAL ...  Bank of America  \n",
       "1    FIA CARD SERVICES, NATIONAL ASSOCIATION       ...  Bank of America  \n",
       "2    BANK OF AMERICA OREGON, NATIONAL ASSOCIATION  ...  Bank of America  \n",
       "3    BANK OF AMERICA RHODE ISLAND, NATIONAL ASSOCIA...  Bank of America  \n",
       "4    MERRILL LYNCH CREDIT CORPORATION              ...  Bank of America  \n",
       "..                                                 ...              ...  \n",
       "115  BANK OF WILMINGTON                            ...  Bank of America  \n",
       "116  BANK OF NORTH WILKESBORO                      ...  Bank of America  \n",
       "117  FIRST NATIONAL BANK                           ...  Bank of America  \n",
       "118  MERCHANTS AND FARMERS BANKOF STATESVILLE, INCO...  Bank of America  \n",
       "119  SECURITY NATIONAL BANK OF GREENSBORO          ...  Bank of America  \n",
       "\n",
       "[120 rows x 10 columns]"
      ]
     },
     "execution_count": 37,
     "metadata": {},
     "output_type": "execute_result"
    }
   ],
   "source": [
    "#Create a directory towards the 'boa_branch_con.csv' file and load it into a dataframe.\n",
    "boa_df=pd.read_csv(dataframes_df + '\\\\trans_boa_df.csv')\n",
    "boa_df"
   ]
  },
  {
   "cell_type": "code",
   "execution_count": 38,
   "metadata": {},
   "outputs": [
    {
     "data": {
      "text/html": [
       "<div>\n",
       "<style scoped>\n",
       "    .dataframe tbody tr th:only-of-type {\n",
       "        vertical-align: middle;\n",
       "    }\n",
       "\n",
       "    .dataframe tbody tr th {\n",
       "        vertical-align: top;\n",
       "    }\n",
       "\n",
       "    .dataframe thead th {\n",
       "        text-align: right;\n",
       "    }\n",
       "</style>\n",
       "<table border=\"1\" class=\"dataframe\">\n",
       "  <thead>\n",
       "    <tr style=\"text-align: right;\">\n",
       "      <th></th>\n",
       "      <th>Column1</th>\n",
       "      <th>ID_RSSD_PREDECESSOR</th>\n",
       "      <th>ID_RSSD_SUCCESSOR</th>\n",
       "      <th>D_DT_TRANS</th>\n",
       "      <th>Transformation Code</th>\n",
       "      <th>Accounting Method</th>\n",
       "      <th>DT_TRANS</th>\n",
       "      <th>Year</th>\n",
       "      <th>Predecessor_Name</th>\n",
       "      <th>Successor_Name</th>\n",
       "      <th>Notes</th>\n",
       "    </tr>\n",
       "  </thead>\n",
       "  <tbody>\n",
       "    <tr>\n",
       "      <th>0</th>\n",
       "      <td>2043</td>\n",
       "      <td>3313943</td>\n",
       "      <td>480228</td>\n",
       "      <td>3/31/2020 0:00</td>\n",
       "      <td>Charter Discontinued</td>\n",
       "      <td>Merger</td>\n",
       "      <td>20200331</td>\n",
       "      <td>2020</td>\n",
       "      <td>TAPO CANYON BRANCH [BANK OF AMERICA, NATIONAL ...</td>\n",
       "      <td>Bank of America</td>\n",
       "      <td>RECONTRUST COMPANY, NATIONAL ASSOCIATION trans...</td>\n",
       "    </tr>\n",
       "    <tr>\n",
       "      <th>1</th>\n",
       "      <td>6997</td>\n",
       "      <td>1830035</td>\n",
       "      <td>480228</td>\n",
       "      <td>10/1/2014 0:00</td>\n",
       "      <td>Charter Discontinued</td>\n",
       "      <td>Merger</td>\n",
       "      <td>20141001</td>\n",
       "      <td>2014</td>\n",
       "      <td>FIA CARD SERVICES, NATIONAL ASSOCIATION       ...</td>\n",
       "      <td>Bank of America</td>\n",
       "      <td>FIA CARD SERVICES, NATIONAL ASSOCIATION transf...</td>\n",
       "    </tr>\n",
       "    <tr>\n",
       "      <th>2</th>\n",
       "      <td>8458</td>\n",
       "      <td>2867056</td>\n",
       "      <td>480228</td>\n",
       "      <td>4/1/2013 0:00</td>\n",
       "      <td>Charter Discontinued</td>\n",
       "      <td>Merger</td>\n",
       "      <td>20130401</td>\n",
       "      <td>2013</td>\n",
       "      <td>BANK OF AMERICA OREGON, NATIONAL ASSOCIATION  ...</td>\n",
       "      <td>Bank of America</td>\n",
       "      <td>BANK OF AMERICA OREGON, NATIONAL ASSOCIATION t...</td>\n",
       "    </tr>\n",
       "    <tr>\n",
       "      <th>3</th>\n",
       "      <td>8462</td>\n",
       "      <td>3344611</td>\n",
       "      <td>480228</td>\n",
       "      <td>4/1/2013 0:00</td>\n",
       "      <td>Charter Discontinued</td>\n",
       "      <td>Merger</td>\n",
       "      <td>20130401</td>\n",
       "      <td>2013</td>\n",
       "      <td>BANK OF AMERICA RHODE ISLAND, NATIONAL ASSOCIA...</td>\n",
       "      <td>Bank of America</td>\n",
       "      <td>BANK OF AMERICA RHODE ISLAND, NATIONAL ASSOCIA...</td>\n",
       "    </tr>\n",
       "    <tr>\n",
       "      <th>4</th>\n",
       "      <td>10403</td>\n",
       "      <td>2496120</td>\n",
       "      <td>480228</td>\n",
       "      <td>7/1/2011 0:00</td>\n",
       "      <td>Charter Discontinued</td>\n",
       "      <td>Merger</td>\n",
       "      <td>20110701</td>\n",
       "      <td>2011</td>\n",
       "      <td>MERRILL LYNCH CREDIT CORPORATION              ...</td>\n",
       "      <td>Bank of America</td>\n",
       "      <td>MERRILL LYNCH CREDIT CORPORATION transferred i...</td>\n",
       "    </tr>\n",
       "  </tbody>\n",
       "</table>\n",
       "</div>"
      ],
      "text/plain": [
       "   Column1  ID_RSSD_PREDECESSOR  ID_RSSD_SUCCESSOR      D_DT_TRANS  \\\n",
       "0     2043              3313943             480228  3/31/2020 0:00   \n",
       "1     6997              1830035             480228  10/1/2014 0:00   \n",
       "2     8458              2867056             480228   4/1/2013 0:00   \n",
       "3     8462              3344611             480228   4/1/2013 0:00   \n",
       "4    10403              2496120             480228   7/1/2011 0:00   \n",
       "\n",
       "    Transformation Code Accounting Method  DT_TRANS  Year  \\\n",
       "0  Charter Discontinued            Merger  20200331  2020   \n",
       "1  Charter Discontinued            Merger  20141001  2014   \n",
       "2  Charter Discontinued            Merger  20130401  2013   \n",
       "3  Charter Discontinued            Merger  20130401  2013   \n",
       "4  Charter Discontinued            Merger  20110701  2011   \n",
       "\n",
       "                                    Predecessor_Name   Successor_Name  \\\n",
       "0  TAPO CANYON BRANCH [BANK OF AMERICA, NATIONAL ...  Bank of America   \n",
       "1  FIA CARD SERVICES, NATIONAL ASSOCIATION       ...  Bank of America   \n",
       "2  BANK OF AMERICA OREGON, NATIONAL ASSOCIATION  ...  Bank of America   \n",
       "3  BANK OF AMERICA RHODE ISLAND, NATIONAL ASSOCIA...  Bank of America   \n",
       "4  MERRILL LYNCH CREDIT CORPORATION              ...  Bank of America   \n",
       "\n",
       "                                               Notes  \n",
       "0  RECONTRUST COMPANY, NATIONAL ASSOCIATION trans...  \n",
       "1  FIA CARD SERVICES, NATIONAL ASSOCIATION transf...  \n",
       "2  BANK OF AMERICA OREGON, NATIONAL ASSOCIATION t...  \n",
       "3  BANK OF AMERICA RHODE ISLAND, NATIONAL ASSOCIA...  \n",
       "4  MERRILL LYNCH CREDIT CORPORATION transferred i...  "
      ]
     },
     "execution_count": 38,
     "metadata": {},
     "output_type": "execute_result"
    }
   ],
   "source": [
    "#Map the 'OtherInstitutionID' column to the 'ID_RSSD_PREDECESSOR' column\n",
    "def map_boa_id(history_boa_df, boa_df): \n",
    "    #Create a dictionary to map the 'OtherInstitionID' to the 'Notes' column\n",
    "    other_inst_id_dict=pd.Series(history_boa_df.Notes.values, index=history_boa_df.OtherInstitutionID)\n",
    "\n",
    "    #Map the Notes to the boa_df dataframe using the ID_RSSD_PREDECESSOR column\n",
    "    boa_df['Notes']=boa_df['ID_RSSD_PREDECESSOR'].map(other_inst_id_dict)\n",
    "\n",
    "    return boa_df\n",
    "\n",
    "trans_boa_df=map_boa_id(history_boa_df,boa_df)\n",
    "\n",
    "trans_boa_df.head()\n"
   ]
  },
  {
   "cell_type": "code",
   "execution_count": 39,
   "metadata": {},
   "outputs": [],
   "source": [
    "#Download the 'trans_chase_df' as a csv file\n",
    "trans_boa_df.to_csv(dataframes_df + '\\\\boa_df_w_notes.csv', index=False)\n"
   ]
  },
  {
   "cell_type": "code",
   "execution_count": 40,
   "metadata": {},
   "outputs": [
    {
     "data": {
      "text/html": [
       "<div>\n",
       "<style scoped>\n",
       "    .dataframe tbody tr th:only-of-type {\n",
       "        vertical-align: middle;\n",
       "    }\n",
       "\n",
       "    .dataframe tbody tr th {\n",
       "        vertical-align: top;\n",
       "    }\n",
       "\n",
       "    .dataframe thead th {\n",
       "        text-align: right;\n",
       "    }\n",
       "</style>\n",
       "<table border=\"1\" class=\"dataframe\">\n",
       "  <thead>\n",
       "    <tr style=\"text-align: right;\">\n",
       "      <th></th>\n",
       "      <th>Column1</th>\n",
       "      <th>ID_RSSD_PREDECESSOR</th>\n",
       "      <th>ID_RSSD_SUCCESSOR</th>\n",
       "      <th>D_DT_TRANS</th>\n",
       "      <th>Transformation Code</th>\n",
       "      <th>Accounting Method</th>\n",
       "      <th>DT_TRANS</th>\n",
       "      <th>Year</th>\n",
       "      <th>Predecessor_Name</th>\n",
       "      <th>Successor_Name</th>\n",
       "      <th>Notes</th>\n",
       "    </tr>\n",
       "  </thead>\n",
       "  <tbody>\n",
       "    <tr>\n",
       "      <th>0</th>\n",
       "      <td>2043</td>\n",
       "      <td>3313943</td>\n",
       "      <td>480228</td>\n",
       "      <td>3/31/2020 0:00</td>\n",
       "      <td>Charter Discontinued</td>\n",
       "      <td>Merger</td>\n",
       "      <td>20200331</td>\n",
       "      <td>2020</td>\n",
       "      <td>RECONTRUST COMPANY, NATIONAL ASSOCIATION</td>\n",
       "      <td>Bank of America</td>\n",
       "      <td>RECONTRUST COMPANY, NATIONAL ASSOCIATION trans...</td>\n",
       "    </tr>\n",
       "    <tr>\n",
       "      <th>1</th>\n",
       "      <td>6997</td>\n",
       "      <td>1830035</td>\n",
       "      <td>480228</td>\n",
       "      <td>10/1/2014 0:00</td>\n",
       "      <td>Charter Discontinued</td>\n",
       "      <td>Merger</td>\n",
       "      <td>20141001</td>\n",
       "      <td>2014</td>\n",
       "      <td>FIA CARD SERVICES, NATIONAL ASSOCIATION       ...</td>\n",
       "      <td>Bank of America</td>\n",
       "      <td>FIA CARD SERVICES, NATIONAL ASSOCIATION transf...</td>\n",
       "    </tr>\n",
       "    <tr>\n",
       "      <th>2</th>\n",
       "      <td>8458</td>\n",
       "      <td>2867056</td>\n",
       "      <td>480228</td>\n",
       "      <td>4/1/2013 0:00</td>\n",
       "      <td>Charter Discontinued</td>\n",
       "      <td>Merger</td>\n",
       "      <td>20130401</td>\n",
       "      <td>2013</td>\n",
       "      <td>BANK OF AMERICA OREGON, NATIONAL ASSOCIATION  ...</td>\n",
       "      <td>Bank of America</td>\n",
       "      <td>BANK OF AMERICA OREGON, NATIONAL ASSOCIATION t...</td>\n",
       "    </tr>\n",
       "    <tr>\n",
       "      <th>3</th>\n",
       "      <td>8462</td>\n",
       "      <td>3344611</td>\n",
       "      <td>480228</td>\n",
       "      <td>4/1/2013 0:00</td>\n",
       "      <td>Charter Discontinued</td>\n",
       "      <td>Merger</td>\n",
       "      <td>20130401</td>\n",
       "      <td>2013</td>\n",
       "      <td>BANK OF AMERICA RHODE ISLAND, NATIONAL ASSOCIA...</td>\n",
       "      <td>Bank of America</td>\n",
       "      <td>BANK OF AMERICA RHODE ISLAND, NATIONAL ASSOCIA...</td>\n",
       "    </tr>\n",
       "    <tr>\n",
       "      <th>4</th>\n",
       "      <td>10403</td>\n",
       "      <td>2496120</td>\n",
       "      <td>480228</td>\n",
       "      <td>7/1/2011 0:00</td>\n",
       "      <td>Charter Discontinued</td>\n",
       "      <td>Merger</td>\n",
       "      <td>20110701</td>\n",
       "      <td>2011</td>\n",
       "      <td>MERRILL LYNCH CREDIT CORPORATION              ...</td>\n",
       "      <td>Bank of America</td>\n",
       "      <td>MERRILL LYNCH CREDIT CORPORATION transferred i...</td>\n",
       "    </tr>\n",
       "  </tbody>\n",
       "</table>\n",
       "</div>"
      ],
      "text/plain": [
       "   Column1  ID_RSSD_PREDECESSOR  ID_RSSD_SUCCESSOR      D_DT_TRANS  \\\n",
       "0     2043              3313943             480228  3/31/2020 0:00   \n",
       "1     6997              1830035             480228  10/1/2014 0:00   \n",
       "2     8458              2867056             480228   4/1/2013 0:00   \n",
       "3     8462              3344611             480228   4/1/2013 0:00   \n",
       "4    10403              2496120             480228   7/1/2011 0:00   \n",
       "\n",
       "    Transformation Code Accounting Method  DT_TRANS  Year  \\\n",
       "0  Charter Discontinued            Merger  20200331  2020   \n",
       "1  Charter Discontinued            Merger  20141001  2014   \n",
       "2  Charter Discontinued            Merger  20130401  2013   \n",
       "3  Charter Discontinued            Merger  20130401  2013   \n",
       "4  Charter Discontinued            Merger  20110701  2011   \n",
       "\n",
       "                                    Predecessor_Name   Successor_Name  \\\n",
       "0           RECONTRUST COMPANY, NATIONAL ASSOCIATION  Bank of America   \n",
       "1  FIA CARD SERVICES, NATIONAL ASSOCIATION       ...  Bank of America   \n",
       "2  BANK OF AMERICA OREGON, NATIONAL ASSOCIATION  ...  Bank of America   \n",
       "3  BANK OF AMERICA RHODE ISLAND, NATIONAL ASSOCIA...  Bank of America   \n",
       "4  MERRILL LYNCH CREDIT CORPORATION              ...  Bank of America   \n",
       "\n",
       "                                               Notes  \n",
       "0  RECONTRUST COMPANY, NATIONAL ASSOCIATION trans...  \n",
       "1  FIA CARD SERVICES, NATIONAL ASSOCIATION transf...  \n",
       "2  BANK OF AMERICA OREGON, NATIONAL ASSOCIATION t...  \n",
       "3  BANK OF AMERICA RHODE ISLAND, NATIONAL ASSOCIA...  \n",
       "4  MERRILL LYNCH CREDIT CORPORATION transferred i...  "
      ]
     },
     "execution_count": 40,
     "metadata": {},
     "output_type": "execute_result"
    }
   ],
   "source": [
    "#Upload the 'chase_df_w_notes_edit.csv' file into a dataframe\n",
    "\n",
    "trans_boa_df=pd.read_csv(dataframes_df + '\\\\boa_df_w_notes_edit.csv')\n",
    "trans_boa_df.head()"
   ]
  },
  {
   "cell_type": "markdown",
   "metadata": {},
   "source": [
    "### 2c) Wells Fargo dataframe development <a id=\"6\"></a>"
   ]
  },
  {
   "cell_type": "code",
   "execution_count": 41,
   "metadata": {},
   "outputs": [
    {
     "name": "stderr",
     "output_type": "stream",
     "text": [
      "C:\\Users\\16193\\AppData\\Local\\Temp\\ipykernel_12180\\4207827759.py:5: SettingWithCopyWarning: \n",
      "A value is trying to be set on a copy of a slice from a DataFrame.\n",
      "Try using .loc[row_indexer,col_indexer] = value instead\n",
      "\n",
      "See the caveats in the documentation: https://pandas.pydata.org/pandas-docs/stable/user_guide/indexing.html#returning-a-view-versus-a-copy\n",
      "  trans_wf_df['Successor_Name']='Wells Fargo'\n"
     ]
    },
    {
     "data": {
      "text/html": [
       "<div>\n",
       "<style scoped>\n",
       "    .dataframe tbody tr th:only-of-type {\n",
       "        vertical-align: middle;\n",
       "    }\n",
       "\n",
       "    .dataframe tbody tr th {\n",
       "        vertical-align: top;\n",
       "    }\n",
       "\n",
       "    .dataframe thead th {\n",
       "        text-align: right;\n",
       "    }\n",
       "</style>\n",
       "<table border=\"1\" class=\"dataframe\">\n",
       "  <thead>\n",
       "    <tr style=\"text-align: right;\">\n",
       "      <th></th>\n",
       "      <th>Column1</th>\n",
       "      <th>ID_RSSD_PREDECESSOR</th>\n",
       "      <th>ID_RSSD_SUCCESSOR</th>\n",
       "      <th>D_DT_TRANS</th>\n",
       "      <th>Transformation Code</th>\n",
       "      <th>Accounting Method</th>\n",
       "      <th>DT_TRANS</th>\n",
       "      <th>Year</th>\n",
       "      <th>Predecessor_Name</th>\n",
       "      <th>Successor_Name</th>\n",
       "    </tr>\n",
       "  </thead>\n",
       "  <tbody>\n",
       "    <tr>\n",
       "      <th>9503</th>\n",
       "      <td>9503</td>\n",
       "      <td>1027143</td>\n",
       "      <td>451965</td>\n",
       "      <td>2012-02-01</td>\n",
       "      <td>Charter Discontinued</td>\n",
       "      <td>Merger</td>\n",
       "      <td>20120201</td>\n",
       "      <td>2012</td>\n",
       "      <td>WELLS FARGO AUTO FINANCE, LLC                 ...</td>\n",
       "      <td>Wells Fargo</td>\n",
       "    </tr>\n",
       "    <tr>\n",
       "      <th>10341</th>\n",
       "      <td>10341</td>\n",
       "      <td>2575052</td>\n",
       "      <td>451965</td>\n",
       "      <td>2011-07-15</td>\n",
       "      <td>Charter Discontinued</td>\n",
       "      <td>Merger</td>\n",
       "      <td>20110715</td>\n",
       "      <td>2011</td>\n",
       "      <td>FIRST UNION FINANCIAL INVESTMENTS, LLC        ...</td>\n",
       "      <td>Wells Fargo</td>\n",
       "    </tr>\n",
       "    <tr>\n",
       "      <th>10344</th>\n",
       "      <td>10344</td>\n",
       "      <td>3536537</td>\n",
       "      <td>451965</td>\n",
       "      <td>2011-07-15</td>\n",
       "      <td>Charter Discontinued</td>\n",
       "      <td>Merger</td>\n",
       "      <td>20110715</td>\n",
       "      <td>2011</td>\n",
       "      <td>WES HOLDING CORPORATION                       ...</td>\n",
       "      <td>Wells Fargo</td>\n",
       "    </tr>\n",
       "    <tr>\n",
       "      <th>10398</th>\n",
       "      <td>10398</td>\n",
       "      <td>1079544</td>\n",
       "      <td>451965</td>\n",
       "      <td>2011-07-01</td>\n",
       "      <td>Charter Discontinued</td>\n",
       "      <td>Merger</td>\n",
       "      <td>20110701</td>\n",
       "      <td>2011</td>\n",
       "      <td>SOUTHTRUST MORTGAGE CORPORATION               ...</td>\n",
       "      <td>Wells Fargo</td>\n",
       "    </tr>\n",
       "    <tr>\n",
       "      <th>10399</th>\n",
       "      <td>10399</td>\n",
       "      <td>1117660</td>\n",
       "      <td>451965</td>\n",
       "      <td>2011-07-01</td>\n",
       "      <td>Charter Discontinued</td>\n",
       "      <td>Merger</td>\n",
       "      <td>20110701</td>\n",
       "      <td>2011</td>\n",
       "      <td>MERIDIAN MORTGAGE CORPORATION                 ...</td>\n",
       "      <td>Wells Fargo</td>\n",
       "    </tr>\n",
       "  </tbody>\n",
       "</table>\n",
       "</div>"
      ],
      "text/plain": [
       "       Column1  ID_RSSD_PREDECESSOR  ID_RSSD_SUCCESSOR D_DT_TRANS  \\\n",
       "9503      9503              1027143             451965 2012-02-01   \n",
       "10341    10341              2575052             451965 2011-07-15   \n",
       "10344    10344              3536537             451965 2011-07-15   \n",
       "10398    10398              1079544             451965 2011-07-01   \n",
       "10399    10399              1117660             451965 2011-07-01   \n",
       "\n",
       "        Transformation Code Accounting Method  DT_TRANS  Year  \\\n",
       "9503   Charter Discontinued            Merger  20120201  2012   \n",
       "10341  Charter Discontinued            Merger  20110715  2011   \n",
       "10344  Charter Discontinued            Merger  20110715  2011   \n",
       "10398  Charter Discontinued            Merger  20110701  2011   \n",
       "10399  Charter Discontinued            Merger  20110701  2011   \n",
       "\n",
       "                                        Predecessor_Name Successor_Name  \n",
       "9503   WELLS FARGO AUTO FINANCE, LLC                 ...    Wells Fargo  \n",
       "10341  FIRST UNION FINANCIAL INVESTMENTS, LLC        ...    Wells Fargo  \n",
       "10344  WES HOLDING CORPORATION                       ...    Wells Fargo  \n",
       "10398  SOUTHTRUST MORTGAGE CORPORATION               ...    Wells Fargo  \n",
       "10399  MERIDIAN MORTGAGE CORPORATION                 ...    Wells Fargo  "
      ]
     },
     "execution_count": 41,
     "metadata": {},
     "output_type": "execute_result"
    }
   ],
   "source": [
    "#Filter the 'transformation_df' dataframe based on the ID_RSSD of Wells Fargo\n",
    "trans_wf_df=trans_df[trans_df['ID_RSSD_SUCCESSOR']==451965]\n",
    "\n",
    "#Rename the successor to 'Wells Farog'\n",
    "trans_wf_df['Successor_Name']='Wells Fargo'\n",
    "\n",
    "#Display the dataframe for the Bank of America\n",
    "trans_wf_df.head()"
   ]
  },
  {
   "cell_type": "code",
   "execution_count": 42,
   "metadata": {},
   "outputs": [],
   "source": [
    "#Download the 'trans_wf_df' as an excel file for revision\n",
    "path_to_tables = r\"Your\\Directory\\Here\\Dataframe\\Tables\"\n",
    "trans_wf_df.to_excel(path_to_tables + '\\\\trans_wf_df.xlsx', index=False)"
   ]
  },
  {
   "cell_type": "markdown",
   "metadata": {},
   "source": [
    "Create a list of all the legal names of all the branches that were consolidated under Wells Fargo. "
   ]
  },
  {
   "cell_type": "code",
   "execution_count": 43,
   "metadata": {},
   "outputs": [
    {
     "data": {
      "text/html": [
       "<div>\n",
       "<style scoped>\n",
       "    .dataframe tbody tr th:only-of-type {\n",
       "        vertical-align: middle;\n",
       "    }\n",
       "\n",
       "    .dataframe tbody tr th {\n",
       "        vertical-align: top;\n",
       "    }\n",
       "\n",
       "    .dataframe thead th {\n",
       "        text-align: right;\n",
       "    }\n",
       "</style>\n",
       "<table border=\"1\" class=\"dataframe\">\n",
       "  <thead>\n",
       "    <tr style=\"text-align: right;\">\n",
       "      <th></th>\n",
       "      <th>ID_RSSD_PREDECESSOR</th>\n",
       "      <th>ID_RSSD_SUCCESSOR</th>\n",
       "      <th>D_DT_TRANS</th>\n",
       "      <th>Transformation Code</th>\n",
       "      <th>Accounting Method</th>\n",
       "      <th>DT_TRANS</th>\n",
       "      <th>Year</th>\n",
       "      <th>Predecessor_Name</th>\n",
       "      <th>Predecessor_Name_Branch</th>\n",
       "      <th>Successor_Name</th>\n",
       "    </tr>\n",
       "  </thead>\n",
       "  <tbody>\n",
       "    <tr>\n",
       "      <th>0</th>\n",
       "      <td>1027143</td>\n",
       "      <td>451965</td>\n",
       "      <td>2012-02-01</td>\n",
       "      <td>Charter Discontinued</td>\n",
       "      <td>Merger</td>\n",
       "      <td>20120201</td>\n",
       "      <td>2012</td>\n",
       "      <td>WELLS FARGO AUTO FINANCE, LLC                 ...</td>\n",
       "      <td>WELLS FARGO AUTO FINANCE, LLC                 ...</td>\n",
       "      <td>WELLS FARGO BANK, NATIONAL ASSOCIATION        ...</td>\n",
       "    </tr>\n",
       "    <tr>\n",
       "      <th>1</th>\n",
       "      <td>2575052</td>\n",
       "      <td>451965</td>\n",
       "      <td>2011-07-15</td>\n",
       "      <td>Charter Discontinued</td>\n",
       "      <td>Merger</td>\n",
       "      <td>20110715</td>\n",
       "      <td>2011</td>\n",
       "      <td>FIRST UNION FINANCIAL INVESTMENTS, LLC        ...</td>\n",
       "      <td>FIRST UNION FINANCIAL INVESTMENTS, LLC        ...</td>\n",
       "      <td>WELLS FARGO BANK, NATIONAL ASSOCIATION        ...</td>\n",
       "    </tr>\n",
       "    <tr>\n",
       "      <th>2</th>\n",
       "      <td>3536537</td>\n",
       "      <td>451965</td>\n",
       "      <td>2011-07-15</td>\n",
       "      <td>Charter Discontinued</td>\n",
       "      <td>Merger</td>\n",
       "      <td>20110715</td>\n",
       "      <td>2011</td>\n",
       "      <td>WES HOLDING CORPORATION                       ...</td>\n",
       "      <td>WES HOLDING CORPORATION                       ...</td>\n",
       "      <td>WELLS FARGO BANK, NATIONAL ASSOCIATION        ...</td>\n",
       "    </tr>\n",
       "    <tr>\n",
       "      <th>3</th>\n",
       "      <td>1079544</td>\n",
       "      <td>451965</td>\n",
       "      <td>2011-07-01</td>\n",
       "      <td>Charter Discontinued</td>\n",
       "      <td>Merger</td>\n",
       "      <td>20110701</td>\n",
       "      <td>2011</td>\n",
       "      <td>SOUTHTRUST MORTGAGE CORPORATION               ...</td>\n",
       "      <td>SOUTHTRUST MORTGAGE CORPORATION               ...</td>\n",
       "      <td>WELLS FARGO BANK, NATIONAL ASSOCIATION        ...</td>\n",
       "    </tr>\n",
       "    <tr>\n",
       "      <th>4</th>\n",
       "      <td>1117660</td>\n",
       "      <td>451965</td>\n",
       "      <td>2011-07-01</td>\n",
       "      <td>Charter Discontinued</td>\n",
       "      <td>Merger</td>\n",
       "      <td>20110701</td>\n",
       "      <td>2011</td>\n",
       "      <td>MERIDIAN MORTGAGE CORPORATION                 ...</td>\n",
       "      <td>MERIDIAN MORTGAGE CORPORATION                 ...</td>\n",
       "      <td>WELLS FARGO BANK, NATIONAL ASSOCIATION        ...</td>\n",
       "    </tr>\n",
       "  </tbody>\n",
       "</table>\n",
       "</div>"
      ],
      "text/plain": [
       "   ID_RSSD_PREDECESSOR  ID_RSSD_SUCCESSOR D_DT_TRANS   Transformation Code  \\\n",
       "0              1027143             451965 2012-02-01  Charter Discontinued   \n",
       "1              2575052             451965 2011-07-15  Charter Discontinued   \n",
       "2              3536537             451965 2011-07-15  Charter Discontinued   \n",
       "3              1079544             451965 2011-07-01  Charter Discontinued   \n",
       "4              1117660             451965 2011-07-01  Charter Discontinued   \n",
       "\n",
       "  Accounting Method  DT_TRANS  Year  \\\n",
       "0            Merger  20120201  2012   \n",
       "1            Merger  20110715  2011   \n",
       "2            Merger  20110715  2011   \n",
       "3            Merger  20110701  2011   \n",
       "4            Merger  20110701  2011   \n",
       "\n",
       "                                    Predecessor_Name  \\\n",
       "0  WELLS FARGO AUTO FINANCE, LLC                 ...   \n",
       "1  FIRST UNION FINANCIAL INVESTMENTS, LLC        ...   \n",
       "2  WES HOLDING CORPORATION                       ...   \n",
       "3  SOUTHTRUST MORTGAGE CORPORATION               ...   \n",
       "4  MERIDIAN MORTGAGE CORPORATION                 ...   \n",
       "\n",
       "                             Predecessor_Name_Branch  \\\n",
       "0  WELLS FARGO AUTO FINANCE, LLC                 ...   \n",
       "1  FIRST UNION FINANCIAL INVESTMENTS, LLC        ...   \n",
       "2  WES HOLDING CORPORATION                       ...   \n",
       "3  SOUTHTRUST MORTGAGE CORPORATION               ...   \n",
       "4  MERIDIAN MORTGAGE CORPORATION                 ...   \n",
       "\n",
       "                                      Successor_Name  \n",
       "0  WELLS FARGO BANK, NATIONAL ASSOCIATION        ...  \n",
       "1  WELLS FARGO BANK, NATIONAL ASSOCIATION        ...  \n",
       "2  WELLS FARGO BANK, NATIONAL ASSOCIATION        ...  \n",
       "3  WELLS FARGO BANK, NATIONAL ASSOCIATION        ...  \n",
       "4  WELLS FARGO BANK, NATIONAL ASSOCIATION        ...  "
      ]
     },
     "execution_count": 43,
     "metadata": {},
     "output_type": "execute_result"
    }
   ],
   "source": [
    "#Upload the dataframe for Wells Fargo that juxtaposes the column of predecessors  that has the branch legal names and the column that does not\n",
    "path_to_branch_tables=r\"Your\\Directory\\Here\\Dataframe\"\n",
    "wf_branch_df=pd.read_excel(path_to_branch_tables + '\\\\wf_branch_con.xlsx')\n",
    "wf_branch_df.head()"
   ]
  },
  {
   "cell_type": "code",
   "execution_count": 44,
   "metadata": {},
   "outputs": [
    {
     "data": {
      "text/plain": [
       "['SHERIDAN MAIN BRANCH [WELLS FARGO BANK, NATIONAL ASSOCIATION]',\n",
       " 'CENTRAL & WASHINGTON BRANCH [WELLS FARGO BANK, NATIONAL ASSOCIATION]',\n",
       " 'OMAHA MAIN BRANCH [WELLS FARGO BANK, NATIONAL ASSOCIATION]',\n",
       " 'MILWAUKEE MAIN BRANCH [WELLS FARGO BANK, NATIONAL ASSOCIATION]',\n",
       " 'LOMAS BRANCH [WELLS FARGO BANK, NATIONAL ASSOCIATION]',\n",
       " 'PUEBLO MESSENGER SERVICE BRANCH [WELLS FARGO BANK, NATIONAL ASSOCIATION]',\n",
       " 'TENTH & SHIPLEY BRANCH [WELLS FARGO BANK, NATIONAL ASSOCIATION]',\n",
       " 'PARADISE OFFICE [WELLS FARGO BANK, NATIONAL ASSOCIATION]',\n",
       " 'GLENDALE BRAND OFFICE [WELLS FARGO BANK, NATIONAL ASSOCIATION]',\n",
       " 'FELICITA VILLAGE BRANCH [WELLS FARGO BANK, NATIONAL ASSOCIATION]',\n",
       " 'WELLS FARGO FINANCIAL BANK BRANCH [WELLS FARGO BANK, NATIONAL ASSOCIATION]',\n",
       " 'BEVERLY HILLS BRANCH [WELLS FARGO BANK, NATIONAL ASSOCIATION]',\n",
       " 'MID-PENINSULA BANK MAIN, COWPER BRANCH [WELLS FARGO BANK, NATIONAL ASSOCIATION]',\n",
       " 'HARBOR BOULEVARD BRANCH [WELLS FARGO BANK, NATIONAL ASSOCIATION]',\n",
       " 'FARGO MAIN BRANCH [WELLS FARGO BANK, NATIONAL ASSOCIATION]',\n",
       " 'PAJARO VALLEY BRANCH [WELLS FARGO BANK, NATIONAL ASSOCIATION]',\n",
       " 'DOWNTOWN MB BRANCH [WELLS FARGO BANK, NATIONAL ASSOCIATION]',\n",
       " 'ANAHEIM BRANCH #3 [WELLS FARGO BANK, NATIONAL ASSOCIATION]',\n",
       " 'GALESBURG BRANCH [WELLS FARGO BANK, NATIONAL ASSOCIATION]',\n",
       " 'DOWNTOWN AUBURN BRANCH [WELLS FARGO BANK, NATIONAL ASSOCIATION]',\n",
       " 'BOISE MAIN BRANCH [WELLS FARGO BANK, NATIONAL ASSOCIATION]',\n",
       " 'AZUSA BRANCH [WELLS FARGO BANK, NATIONAL ASSOCIATION]',\n",
       " 'SANTA CRUZ BRANCH [WELLS FARGO BANK, NATIONAL ASSOCIATION]',\n",
       " 'BUENA PARK BRANCH [WELLS FARGO BANK, NATIONAL ASSOCIATION]',\n",
       " 'SANTA MARIA BRANCH [WELLS FARGO BANK, NATIONAL ASSOCIATION]',\n",
       " 'SAN FRANCISCO MAIN BRANCH [WELLS FARGO BANK, NATIONAL ASSOCIATION]',\n",
       " 'DRIGGS BRANCH [WELLS FARGO BANK, NATIONAL ASSOCIATION]',\n",
       " 'SAN LUIS OBISPO BRANCH [WELLS FARGO BANK, NATIONAL ASSOCIATION]',\n",
       " 'JACKSON BRANCH [WELLS FARGO BANK, NATIONAL ASSOCIATION]',\n",
       " 'CANON MAIN BRANCH [WELLS FARGO BANK, NATIONAL ASSOCIATION]',\n",
       " 'DENVER MAIN BRANCH [WELLS FARGO BANK, NATIONAL ASSOCIATION]',\n",
       " 'INDIANA CENTER BRANCH [FLAGSTAR BANK, NATIONAL ASSOCIATION]',\n",
       " 'COLORADO-ORANGE GROVE BLVD BRANCH [WELLS FARGO BANK, NATIONAL ASSOCIATION]',\n",
       " 'BILLINGS DOWNTOWN BRANCH [WELLS FARGO BANK, NATIONAL ASSOCIATION]',\n",
       " 'DIXIE FARM ROAD STORE BRANCH [WELLS FARGO BANK, NATIONAL ASSOCIATION]',\n",
       " 'WELLS FARGO BANK SAN FRANCISCO OFFICE [WELLS FARGO BANK, NATIONAL ASSOCIATION]',\n",
       " 'WELLS FARGO CENTER SKYWAY BRANCH [WELLS FARGO BANK, NATIONAL ASSOCIATION]',\n",
       " 'SAN FRANCISCO MAIN OFFICE [WELLS FARGO BANK, NATIONAL ASSOCIATION]',\n",
       " 'NAPA DOWNTOWN BRANCH [WELLS FARGO BANK, NATIONAL ASSOCIATION]',\n",
       " 'THOUSAND OAKS BRANCH [WELLS FARGO BANK, NATIONAL ASSOCIATION]',\n",
       " 'PINEDALE BRANCH [WELLS FARGO BANK, NATIONAL ASSOCIATION]',\n",
       " 'ORANGE PLAZA BRANCH [WELLS FARGO BANK, NATIONAL ASSOCIATION]',\n",
       " 'LAS VEGAS TOWER BRANCH [WELLS FARGO BANK, NATIONAL ASSOCIATION]',\n",
       " 'SANTA FE MAIN BRANCH [WELLS FARGO BANK, NATIONAL ASSOCIATION]',\n",
       " 'SEATTLE MAIN BRANCH [WELLS FARGO BANK, NATIONAL ASSOCIATION]',\n",
       " 'VAN WERT BRANCH [FLAGSTAR BANK, NATIONAL ASSOCIATION]',\n",
       " 'NORTHERN LIGHTS & C STREET BRANCH [WELLS FARGO BANK, NATIONAL ASSOCIATION]',\n",
       " 'SOLANA BEACH BRANCH [WELLS FARGO BANK, NATIONAL ASSOCIATION]',\n",
       " 'GATEWAY BRANCH [WELLS FARGO BANK, NATIONAL ASSOCIATION]',\n",
       " 'CODY MAIN BRANCH [WELLS FARGO BANK, NATIONAL ASSOCIATION]',\n",
       " 'CASPER DOWNTOWN BRANCH [WELLS FARGO BANK, NATIONAL ASSOCIATION]',\n",
       " 'VENTURA OFFICE [WELLS FARGO BANK, NATIONAL ASSOCIATION]',\n",
       " 'TOWER BRANCH [WELLS FARGO BANK, NATIONAL ASSOCIATION]',\n",
       " 'MARYSVILLE BRANCH [WELLS FARGO BANK, NATIONAL ASSOCIATION]',\n",
       " 'HOLTVILLE BRANCH [WELLS FARGO BANK, NATIONAL ASSOCIATION]',\n",
       " '5TH & JEFFERSON BRANCH [WELLS FARGO BANK, NATIONAL ASSOCIATION]',\n",
       " 'PHOENIX MAIN BRANCH [WELLS FARGO BANK, NATIONAL ASSOCIATION]',\n",
       " 'MARKET FINANCIAL BRANCH [WELLS FARGO BANK, NATIONAL ASSOCIATION]',\n",
       " 'RICHMOND ROAD BRANCH [WELLS FARGO BANK, NATIONAL ASSOCIATION]',\n",
       " 'JACKSON TOWN SQUARE BRANCH [WELLS FARGO BANK, NATIONAL ASSOCIATION]',\n",
       " 'MARQUETTE DOWNTOWN BRANCH [FLAGSTAR BANK, NATIONAL ASSOCIATION]',\n",
       " 'ROGERS SOUTH BRANCH [WELLS FARGO BANK, NATIONAL ASSOCIATION]',\n",
       " 'BARRANCA TOWERS BRANCH [WELLS FARGO BANK, NATIONAL ASSOCIATION]',\n",
       " 'MESA MALL BRANCH [WELLS FARGO BANK, NATIONAL ASSOCIATION]',\n",
       " 'NORTH LAS VEGAS BRANCH [WELLS FARGO BANK, NATIONAL ASSOCIATION]']"
      ]
     },
     "execution_count": 44,
     "metadata": {},
     "output_type": "execute_result"
    }
   ],
   "source": [
    "#Create a list of teh missing points in the dataframe\n",
    "wf_missing_points=list(set(wf_branch_df['Predecessor_Name_Branch'])-set(wf_branch_df['Predecessor_Name']))\n",
    "wf_missing_points"
   ]
  },
  {
   "cell_type": "code",
   "execution_count": 45,
   "metadata": {},
   "outputs": [],
   "source": [
    "# Define the list of branch consolidation entities for the switch filter\n",
    "wf_branch_df=[\n",
    " 'PAJARO VALLEY BRANCH [WELLS FARGO BANK, NATIONAL ASSOCIATION]',\n",
    " 'BOISE MAIN BRANCH [WELLS FARGO BANK, NATIONAL ASSOCIATION]',\n",
    " 'FARGO MAIN BRANCH [WELLS FARGO BANK, NATIONAL ASSOCIATION]',\n",
    " 'BARRANCA TOWERS BRANCH [WELLS FARGO BANK, NATIONAL ASSOCIATION]',\n",
    " 'SEATTLE MAIN BRANCH [WELLS FARGO BANK, NATIONAL ASSOCIATION]',\n",
    " 'SOLANA BEACH BRANCH [WELLS FARGO BANK, NATIONAL ASSOCIATION]',\n",
    " 'BEVERLY HILLS BRANCH [WELLS FARGO BANK, NATIONAL ASSOCIATION]',\n",
    " 'DOWNTOWN MB BRANCH [WELLS FARGO BANK, NATIONAL ASSOCIATION]',\n",
    " 'MID-PENINSULA BANK MAIN, COWPER BRANCH [WELLS FARGO BANK, NATIONAL ASSOCIATION]',\n",
    " 'DRIGGS BRANCH [WELLS FARGO BANK, NATIONAL ASSOCIATION]',\n",
    " 'PINEDALE BRANCH [WELLS FARGO BANK, NATIONAL ASSOCIATION]',\n",
    " 'SHERIDAN MAIN BRANCH [WELLS FARGO BANK, NATIONAL ASSOCIATION]',\n",
    " 'WELLS FARGO BANK SAN FRANCISCO OFFICE [WELLS FARGO BANK, NATIONAL ASSOCIATION]',\n",
    " 'DENVER MAIN BRANCH [WELLS FARGO BANK, NATIONAL ASSOCIATION]',\n",
    " '5TH & JEFFERSON BRANCH [WELLS FARGO BANK, NATIONAL ASSOCIATION]',\n",
    " 'WELLS FARGO FINANCIAL BANK BRANCH [WELLS FARGO BANK, NATIONAL ASSOCIATION]',\n",
    " 'CANON MAIN BRANCH [WELLS FARGO BANK, NATIONAL ASSOCIATION]',\n",
    " 'NORTHERN LIGHTS & C STREET BRANCH [WELLS FARGO BANK, NATIONAL ASSOCIATION]',\n",
    " 'MESA MALL BRANCH [WELLS FARGO BANK, NATIONAL ASSOCIATION]',\n",
    " 'ANAHEIM BRANCH #3 [WELLS FARGO BANK, NATIONAL ASSOCIATION]',\n",
    " 'VENTURA OFFICE [WELLS FARGO BANK, NATIONAL ASSOCIATION]',\n",
    " 'GLENDALE BRAND OFFICE [WELLS FARGO BANK, NATIONAL ASSOCIATION]',\n",
    " 'PHOENIX MAIN BRANCH [WELLS FARGO BANK, NATIONAL ASSOCIATION]',\n",
    " 'SANTA MARIA BRANCH [WELLS FARGO BANK, NATIONAL ASSOCIATION]',\n",
    " 'TOWER BRANCH [WELLS FARGO BANK, NATIONAL ASSOCIATION]',\n",
    " 'GATEWAY BRANCH [WELLS FARGO BANK, NATIONAL ASSOCIATION]',\n",
    " 'DIXIE FARM ROAD STORE BRANCH [WELLS FARGO BANK, NATIONAL ASSOCIATION]',\n",
    " 'VAN WERT BRANCH [FLAGSTAR BANK, NATIONAL ASSOCIATION]',\n",
    " 'NAPA DOWNTOWN BRANCH [WELLS FARGO BANK, NATIONAL ASSOCIATION]',\n",
    " 'TENTH & SHIPLEY BRANCH [WELLS FARGO BANK, NATIONAL ASSOCIATION]',\n",
    " 'CASPER DOWNTOWN BRANCH [WELLS FARGO BANK, NATIONAL ASSOCIATION]',\n",
    " 'JACKSON TOWN SQUARE BRANCH [WELLS FARGO BANK, NATIONAL ASSOCIATION]',\n",
    " 'OMAHA MAIN BRANCH [WELLS FARGO BANK, NATIONAL ASSOCIATION]',\n",
    " 'FELICITA VILLAGE BRANCH [WELLS FARGO BANK, NATIONAL ASSOCIATION]',\n",
    " 'SANTA CRUZ BRANCH [WELLS FARGO BANK, NATIONAL ASSOCIATION]',\n",
    " 'CENTRAL & WASHINGTON BRANCH [WELLS FARGO BANK, NATIONAL ASSOCIATION]',\n",
    " 'LAS VEGAS TOWER BRANCH [WELLS FARGO BANK, NATIONAL ASSOCIATION]',\n",
    " 'WELLS FARGO CENTER SKYWAY BRANCH [WELLS FARGO BANK, NATIONAL ASSOCIATION]',\n",
    " 'HARBOR BOULEVARD BRANCH [WELLS FARGO BANK, NATIONAL ASSOCIATION]',\n",
    " 'MARQUETTE DOWNTOWN BRANCH [FLAGSTAR BANK, NATIONAL ASSOCIATION]',\n",
    " 'CODY MAIN BRANCH [WELLS FARGO BANK, NATIONAL ASSOCIATION]',\n",
    " 'BILLINGS DOWNTOWN BRANCH [WELLS FARGO BANK, NATIONAL ASSOCIATION]',\n",
    " 'ROGERS SOUTH BRANCH [WELLS FARGO BANK, NATIONAL ASSOCIATION]',\n",
    " 'ORANGE PLAZA BRANCH [WELLS FARGO BANK, NATIONAL ASSOCIATION]',\n",
    " 'SANTA FE MAIN BRANCH [WELLS FARGO BANK, NATIONAL ASSOCIATION]',\n",
    " 'BUENA PARK BRANCH [WELLS FARGO BANK, NATIONAL ASSOCIATION]',\n",
    " 'SAN FRANCISCO MAIN OFFICE [WELLS FARGO BANK, NATIONAL ASSOCIATION]',\n",
    " 'INDIANA CENTER BRANCH [FLAGSTAR BANK, NATIONAL ASSOCIATION]',\n",
    " 'DOWNTOWN AUBURN BRANCH [WELLS FARGO BANK, NATIONAL ASSOCIATION]',\n",
    " 'HOLTVILLE BRANCH [WELLS FARGO BANK, NATIONAL ASSOCIATION]',\n",
    " 'MARKET FINANCIAL BRANCH [WELLS FARGO BANK, NATIONAL ASSOCIATION]',\n",
    " 'MARYSVILLE BRANCH [WELLS FARGO BANK, NATIONAL ASSOCIATION]',\n",
    " 'AZUSA BRANCH [WELLS FARGO BANK, NATIONAL ASSOCIATION]',\n",
    " 'RICHMOND ROAD BRANCH [WELLS FARGO BANK, NATIONAL ASSOCIATION]',\n",
    " 'JACKSON BRANCH [WELLS FARGO BANK, NATIONAL ASSOCIATION]',\n",
    " 'SAN FRANCISCO MAIN BRANCH [WELLS FARGO BANK, NATIONAL ASSOCIATION]',\n",
    " 'COLORADO-ORANGE GROVE BLVD BRANCH [WELLS FARGO BANK, NATIONAL ASSOCIATION]',\n",
    " 'MILWAUKEE MAIN BRANCH [WELLS FARGO BANK, NATIONAL ASSOCIATION]',\n",
    " 'NORTH LAS VEGAS BRANCH [WELLS FARGO BANK, NATIONAL ASSOCIATION]',\n",
    " 'THOUSAND OAKS BRANCH [WELLS FARGO BANK, NATIONAL ASSOCIATION]',\n",
    " 'LOMAS BRANCH [WELLS FARGO BANK, NATIONAL ASSOCIATION]',\n",
    " 'PUEBLO MESSENGER SERVICE BRANCH [WELLS FARGO BANK, NATIONAL ASSOCIATION]',\n",
    " 'SAN LUIS OBISPO BRANCH [WELLS FARGO BANK, NATIONAL ASSOCIATION]',\n",
    " 'GALESBURG BRANCH [WELLS FARGO BANK, NATIONAL ASSOCIATION]',\n",
    " 'PARADISE OFFICE [WELLS FARGO BANK, NATIONAL ASSOCIATION]']\n"
   ]
  },
  {
   "cell_type": "markdown",
   "metadata": {},
   "source": [
    "Now, we will add the \"Notes\" column from the \"history.csv\" file for Chase so that we can contextualize the nature of the transformation.\n",
    "\n",
    "Source: https://www.ffiec.gov/npw/Institution/Profile/451965?dt=20201001\n",
    "\n",
    "Also, by this time we have transformed the original dataframes to add missing transformations and correcting categorizations from corporate research."
   ]
  },
  {
   "cell_type": "code",
   "execution_count": 55,
   "metadata": {},
   "outputs": [
    {
     "data": {
      "text/html": [
       "<div>\n",
       "<style scoped>\n",
       "    .dataframe tbody tr th:only-of-type {\n",
       "        vertical-align: middle;\n",
       "    }\n",
       "\n",
       "    .dataframe tbody tr th {\n",
       "        vertical-align: top;\n",
       "    }\n",
       "\n",
       "    .dataframe thead th {\n",
       "        text-align: right;\n",
       "    }\n",
       "</style>\n",
       "<table border=\"1\" class=\"dataframe\">\n",
       "  <thead>\n",
       "    <tr style=\"text-align: right;\">\n",
       "      <th></th>\n",
       "      <th>Event</th>\n",
       "      <th>EventDate</th>\n",
       "      <th>OtherInstitutionName</th>\n",
       "      <th>OtherInstitutionID</th>\n",
       "      <th>Notes</th>\n",
       "    </tr>\n",
       "  </thead>\n",
       "  <tbody>\n",
       "    <tr>\n",
       "      <th>0</th>\n",
       "      <td>Acquisition</td>\n",
       "      <td>2/1/2012</td>\n",
       "      <td>WELLS FARGO AUTO FINANCE, LLC</td>\n",
       "      <td>1027143.0</td>\n",
       "      <td>WELLS FARGO AUTO FINANCE, LLC transferred its ...</td>\n",
       "    </tr>\n",
       "    <tr>\n",
       "      <th>1</th>\n",
       "      <td>Acquisition</td>\n",
       "      <td>7/15/2011</td>\n",
       "      <td>FIRST UNION FINANCIAL INVESTMENTS, LLC</td>\n",
       "      <td>2575052.0</td>\n",
       "      <td>FIRST UNION FINANCIAL INVESTMENTS, LLC transfe...</td>\n",
       "    </tr>\n",
       "    <tr>\n",
       "      <th>2</th>\n",
       "      <td>Acquisition</td>\n",
       "      <td>7/15/2011</td>\n",
       "      <td>WES HOLDING CORPORATION</td>\n",
       "      <td>3536537.0</td>\n",
       "      <td>WES HOLDING CORPORATION transferred its assets...</td>\n",
       "    </tr>\n",
       "    <tr>\n",
       "      <th>3</th>\n",
       "      <td>Acquisition</td>\n",
       "      <td>7/1/2011</td>\n",
       "      <td>SOUTHTRUST MORTGAGE CORPORATION</td>\n",
       "      <td>1079544.0</td>\n",
       "      <td>SOUTHTRUST MORTGAGE CORPORATION transferred it...</td>\n",
       "    </tr>\n",
       "    <tr>\n",
       "      <th>4</th>\n",
       "      <td>Acquisition</td>\n",
       "      <td>7/1/2011</td>\n",
       "      <td>MERIDIAN MORTGAGE CORPORATION</td>\n",
       "      <td>1117660.0</td>\n",
       "      <td>MERIDIAN MORTGAGE CORPORATION transferred its ...</td>\n",
       "    </tr>\n",
       "  </tbody>\n",
       "</table>\n",
       "</div>"
      ],
      "text/plain": [
       "         Event  EventDate                    OtherInstitutionName  \\\n",
       "0  Acquisition   2/1/2012           WELLS FARGO AUTO FINANCE, LLC   \n",
       "1  Acquisition  7/15/2011  FIRST UNION FINANCIAL INVESTMENTS, LLC   \n",
       "2  Acquisition  7/15/2011                 WES HOLDING CORPORATION   \n",
       "3  Acquisition   7/1/2011         SOUTHTRUST MORTGAGE CORPORATION   \n",
       "4  Acquisition   7/1/2011           MERIDIAN MORTGAGE CORPORATION   \n",
       "\n",
       "   OtherInstitutionID                                              Notes  \n",
       "0           1027143.0  WELLS FARGO AUTO FINANCE, LLC transferred its ...  \n",
       "1           2575052.0  FIRST UNION FINANCIAL INVESTMENTS, LLC transfe...  \n",
       "2           3536537.0  WES HOLDING CORPORATION transferred its assets...  \n",
       "3           1079544.0  SOUTHTRUST MORTGAGE CORPORATION transferred it...  \n",
       "4           1117660.0  MERIDIAN MORTGAGE CORPORATION transferred its ...  "
      ]
     },
     "execution_count": 55,
     "metadata": {},
     "output_type": "execute_result"
    }
   ],
   "source": [
    "#From the 'tables_dir' directory, load the 'history_wf.csv' csv file into a dataframe\n",
    "history_wf_df=pd.read_csv(tables_dir + '\\\\other_tables\\\\history_wf.csv')\n",
    "history_wf_df.head()"
   ]
  },
  {
   "cell_type": "code",
   "execution_count": 56,
   "metadata": {},
   "outputs": [],
   "source": [
    "#For the 'history_wf_df' dataframe, turn the 'OtherInstitutionID' column into an int64 type instead of a float\n",
    "history_wf_df['OtherInstitutionID'] = history_wf_df['OtherInstitutionID'].astype('Int64')\n",
    "\n",
    "#Filter the 'Event' column to only have 'Acqusitions'\n",
    "history_wf_df=history_wf_df[history_wf_df['Event']=='Acquisition']"
   ]
  },
  {
   "cell_type": "code",
   "execution_count": 57,
   "metadata": {},
   "outputs": [
    {
     "data": {
      "text/html": [
       "<div>\n",
       "<style scoped>\n",
       "    .dataframe tbody tr th:only-of-type {\n",
       "        vertical-align: middle;\n",
       "    }\n",
       "\n",
       "    .dataframe tbody tr th {\n",
       "        vertical-align: top;\n",
       "    }\n",
       "\n",
       "    .dataframe thead th {\n",
       "        text-align: right;\n",
       "    }\n",
       "</style>\n",
       "<table border=\"1\" class=\"dataframe\">\n",
       "  <thead>\n",
       "    <tr style=\"text-align: right;\">\n",
       "      <th></th>\n",
       "      <th>Column1</th>\n",
       "      <th>ID_RSSD_PREDECESSOR</th>\n",
       "      <th>ID_RSSD_SUCCESSOR</th>\n",
       "      <th>D_DT_TRANS</th>\n",
       "      <th>Transformation Code</th>\n",
       "      <th>Accounting Method</th>\n",
       "      <th>DT_TRANS</th>\n",
       "      <th>Year</th>\n",
       "      <th>Predecessor_Name</th>\n",
       "      <th>Successor_Name</th>\n",
       "    </tr>\n",
       "  </thead>\n",
       "  <tbody>\n",
       "    <tr>\n",
       "      <th>0</th>\n",
       "      <td>9503</td>\n",
       "      <td>1027143</td>\n",
       "      <td>451965</td>\n",
       "      <td>2/1/2012 0:00</td>\n",
       "      <td>Charter Discontinued</td>\n",
       "      <td>Merger</td>\n",
       "      <td>20120201</td>\n",
       "      <td>2012</td>\n",
       "      <td>WELLS FARGO AUTO FINANCE, LLC                 ...</td>\n",
       "      <td>Wells Fargo</td>\n",
       "    </tr>\n",
       "    <tr>\n",
       "      <th>1</th>\n",
       "      <td>10341</td>\n",
       "      <td>2575052</td>\n",
       "      <td>451965</td>\n",
       "      <td>7/15/2011 0:00</td>\n",
       "      <td>Charter Discontinued</td>\n",
       "      <td>Merger</td>\n",
       "      <td>20110715</td>\n",
       "      <td>2011</td>\n",
       "      <td>FIRST UNION FINANCIAL INVESTMENTS, LLC        ...</td>\n",
       "      <td>Wells Fargo</td>\n",
       "    </tr>\n",
       "    <tr>\n",
       "      <th>2</th>\n",
       "      <td>10344</td>\n",
       "      <td>3536537</td>\n",
       "      <td>451965</td>\n",
       "      <td>7/15/2011 0:00</td>\n",
       "      <td>Charter Discontinued</td>\n",
       "      <td>Merger</td>\n",
       "      <td>20110715</td>\n",
       "      <td>2011</td>\n",
       "      <td>WES HOLDING CORPORATION                       ...</td>\n",
       "      <td>Wells Fargo</td>\n",
       "    </tr>\n",
       "    <tr>\n",
       "      <th>3</th>\n",
       "      <td>10398</td>\n",
       "      <td>1079544</td>\n",
       "      <td>451965</td>\n",
       "      <td>7/1/2011 0:00</td>\n",
       "      <td>Charter Discontinued</td>\n",
       "      <td>Merger</td>\n",
       "      <td>20110701</td>\n",
       "      <td>2011</td>\n",
       "      <td>SOUTHTRUST MORTGAGE CORPORATION               ...</td>\n",
       "      <td>Wells Fargo</td>\n",
       "    </tr>\n",
       "    <tr>\n",
       "      <th>4</th>\n",
       "      <td>10399</td>\n",
       "      <td>1117660</td>\n",
       "      <td>451965</td>\n",
       "      <td>7/1/2011 0:00</td>\n",
       "      <td>Charter Discontinued</td>\n",
       "      <td>Merger</td>\n",
       "      <td>20110701</td>\n",
       "      <td>2011</td>\n",
       "      <td>MERIDIAN MORTGAGE CORPORATION                 ...</td>\n",
       "      <td>Wells Fargo</td>\n",
       "    </tr>\n",
       "  </tbody>\n",
       "</table>\n",
       "</div>"
      ],
      "text/plain": [
       "   Column1  ID_RSSD_PREDECESSOR  ID_RSSD_SUCCESSOR      D_DT_TRANS  \\\n",
       "0     9503              1027143             451965   2/1/2012 0:00   \n",
       "1    10341              2575052             451965  7/15/2011 0:00   \n",
       "2    10344              3536537             451965  7/15/2011 0:00   \n",
       "3    10398              1079544             451965   7/1/2011 0:00   \n",
       "4    10399              1117660             451965   7/1/2011 0:00   \n",
       "\n",
       "    Transformation Code Accounting Method  DT_TRANS  Year  \\\n",
       "0  Charter Discontinued            Merger  20120201  2012   \n",
       "1  Charter Discontinued            Merger  20110715  2011   \n",
       "2  Charter Discontinued            Merger  20110715  2011   \n",
       "3  Charter Discontinued            Merger  20110701  2011   \n",
       "4  Charter Discontinued            Merger  20110701  2011   \n",
       "\n",
       "                                    Predecessor_Name Successor_Name  \n",
       "0  WELLS FARGO AUTO FINANCE, LLC                 ...    Wells Fargo  \n",
       "1  FIRST UNION FINANCIAL INVESTMENTS, LLC        ...    Wells Fargo  \n",
       "2  WES HOLDING CORPORATION                       ...    Wells Fargo  \n",
       "3  SOUTHTRUST MORTGAGE CORPORATION               ...    Wells Fargo  \n",
       "4  MERIDIAN MORTGAGE CORPORATION                 ...    Wells Fargo  "
      ]
     },
     "execution_count": 57,
     "metadata": {},
     "output_type": "execute_result"
    }
   ],
   "source": [
    "#Create a dictionary towards the 'wf_branch_con.csv' file and load it into a dataframe\n",
    "wf_df=pd.read_csv(dataframes_df + '\\\\trans_wf_df.csv')\n",
    "wf_df.head()"
   ]
  },
  {
   "cell_type": "code",
   "execution_count": 58,
   "metadata": {},
   "outputs": [
    {
     "data": {
      "text/html": [
       "<div>\n",
       "<style scoped>\n",
       "    .dataframe tbody tr th:only-of-type {\n",
       "        vertical-align: middle;\n",
       "    }\n",
       "\n",
       "    .dataframe tbody tr th {\n",
       "        vertical-align: top;\n",
       "    }\n",
       "\n",
       "    .dataframe thead th {\n",
       "        text-align: right;\n",
       "    }\n",
       "</style>\n",
       "<table border=\"1\" class=\"dataframe\">\n",
       "  <thead>\n",
       "    <tr style=\"text-align: right;\">\n",
       "      <th></th>\n",
       "      <th>Column1</th>\n",
       "      <th>ID_RSSD_PREDECESSOR</th>\n",
       "      <th>ID_RSSD_SUCCESSOR</th>\n",
       "      <th>D_DT_TRANS</th>\n",
       "      <th>Transformation Code</th>\n",
       "      <th>Accounting Method</th>\n",
       "      <th>DT_TRANS</th>\n",
       "      <th>Year</th>\n",
       "      <th>Predecessor_Name</th>\n",
       "      <th>Successor_Name</th>\n",
       "      <th>Notes</th>\n",
       "    </tr>\n",
       "  </thead>\n",
       "  <tbody>\n",
       "    <tr>\n",
       "      <th>0</th>\n",
       "      <td>9503</td>\n",
       "      <td>1027143</td>\n",
       "      <td>451965</td>\n",
       "      <td>2/1/2012 0:00</td>\n",
       "      <td>Charter Discontinued</td>\n",
       "      <td>Merger</td>\n",
       "      <td>20120201</td>\n",
       "      <td>2012</td>\n",
       "      <td>WELLS FARGO AUTO FINANCE, LLC                 ...</td>\n",
       "      <td>Wells Fargo</td>\n",
       "      <td>WELLS FARGO AUTO FINANCE, LLC transferred its ...</td>\n",
       "    </tr>\n",
       "    <tr>\n",
       "      <th>1</th>\n",
       "      <td>10341</td>\n",
       "      <td>2575052</td>\n",
       "      <td>451965</td>\n",
       "      <td>7/15/2011 0:00</td>\n",
       "      <td>Charter Discontinued</td>\n",
       "      <td>Merger</td>\n",
       "      <td>20110715</td>\n",
       "      <td>2011</td>\n",
       "      <td>FIRST UNION FINANCIAL INVESTMENTS, LLC        ...</td>\n",
       "      <td>Wells Fargo</td>\n",
       "      <td>FIRST UNION FINANCIAL INVESTMENTS, LLC transfe...</td>\n",
       "    </tr>\n",
       "    <tr>\n",
       "      <th>2</th>\n",
       "      <td>10344</td>\n",
       "      <td>3536537</td>\n",
       "      <td>451965</td>\n",
       "      <td>7/15/2011 0:00</td>\n",
       "      <td>Charter Discontinued</td>\n",
       "      <td>Merger</td>\n",
       "      <td>20110715</td>\n",
       "      <td>2011</td>\n",
       "      <td>WES HOLDING CORPORATION                       ...</td>\n",
       "      <td>Wells Fargo</td>\n",
       "      <td>WES HOLDING CORPORATION transferred its assets...</td>\n",
       "    </tr>\n",
       "    <tr>\n",
       "      <th>3</th>\n",
       "      <td>10398</td>\n",
       "      <td>1079544</td>\n",
       "      <td>451965</td>\n",
       "      <td>7/1/2011 0:00</td>\n",
       "      <td>Charter Discontinued</td>\n",
       "      <td>Merger</td>\n",
       "      <td>20110701</td>\n",
       "      <td>2011</td>\n",
       "      <td>SOUTHTRUST MORTGAGE CORPORATION               ...</td>\n",
       "      <td>Wells Fargo</td>\n",
       "      <td>SOUTHTRUST MORTGAGE CORPORATION transferred it...</td>\n",
       "    </tr>\n",
       "    <tr>\n",
       "      <th>4</th>\n",
       "      <td>10399</td>\n",
       "      <td>1117660</td>\n",
       "      <td>451965</td>\n",
       "      <td>7/1/2011 0:00</td>\n",
       "      <td>Charter Discontinued</td>\n",
       "      <td>Merger</td>\n",
       "      <td>20110701</td>\n",
       "      <td>2011</td>\n",
       "      <td>MERIDIAN MORTGAGE CORPORATION                 ...</td>\n",
       "      <td>Wells Fargo</td>\n",
       "      <td>MERIDIAN MORTGAGE CORPORATION transferred its ...</td>\n",
       "    </tr>\n",
       "  </tbody>\n",
       "</table>\n",
       "</div>"
      ],
      "text/plain": [
       "   Column1  ID_RSSD_PREDECESSOR  ID_RSSD_SUCCESSOR      D_DT_TRANS  \\\n",
       "0     9503              1027143             451965   2/1/2012 0:00   \n",
       "1    10341              2575052             451965  7/15/2011 0:00   \n",
       "2    10344              3536537             451965  7/15/2011 0:00   \n",
       "3    10398              1079544             451965   7/1/2011 0:00   \n",
       "4    10399              1117660             451965   7/1/2011 0:00   \n",
       "\n",
       "    Transformation Code Accounting Method  DT_TRANS  Year  \\\n",
       "0  Charter Discontinued            Merger  20120201  2012   \n",
       "1  Charter Discontinued            Merger  20110715  2011   \n",
       "2  Charter Discontinued            Merger  20110715  2011   \n",
       "3  Charter Discontinued            Merger  20110701  2011   \n",
       "4  Charter Discontinued            Merger  20110701  2011   \n",
       "\n",
       "                                    Predecessor_Name Successor_Name  \\\n",
       "0  WELLS FARGO AUTO FINANCE, LLC                 ...    Wells Fargo   \n",
       "1  FIRST UNION FINANCIAL INVESTMENTS, LLC        ...    Wells Fargo   \n",
       "2  WES HOLDING CORPORATION                       ...    Wells Fargo   \n",
       "3  SOUTHTRUST MORTGAGE CORPORATION               ...    Wells Fargo   \n",
       "4  MERIDIAN MORTGAGE CORPORATION                 ...    Wells Fargo   \n",
       "\n",
       "                                               Notes  \n",
       "0  WELLS FARGO AUTO FINANCE, LLC transferred its ...  \n",
       "1  FIRST UNION FINANCIAL INVESTMENTS, LLC transfe...  \n",
       "2  WES HOLDING CORPORATION transferred its assets...  \n",
       "3  SOUTHTRUST MORTGAGE CORPORATION transferred it...  \n",
       "4  MERIDIAN MORTGAGE CORPORATION transferred its ...  "
      ]
     },
     "execution_count": 58,
     "metadata": {},
     "output_type": "execute_result"
    }
   ],
   "source": [
    "#Map the 'OtherInstitutionID' column to the 'ID_RSSD_PREDECESSOR' column\n",
    "def map_wf_id(history_wf_df, wf_df): \n",
    "    #Create a dictionary to map the 'OtherInstitionID' to the 'Notes' column\n",
    "    other_inst_id_dict=pd.Series(history_wf_df.Notes.values, index=history_wf_df.OtherInstitutionID)\n",
    "\n",
    "    #Map the Notes to the wf_df dataframe using the ID_RSSD_PREDECESSOR column\n",
    "    wf_df['Notes']=wf_df['ID_RSSD_PREDECESSOR'].map(other_inst_id_dict)\n",
    "\n",
    "    return wf_df\n",
    "\n",
    "trans_chase_df=map_wf_id(history_wf_df, wf_df)\n",
    "\n",
    "trans_chase_df.head()"
   ]
  },
  {
   "cell_type": "code",
   "execution_count": 63,
   "metadata": {},
   "outputs": [],
   "source": [
    "#Download the 'wf_df' as a csv file\n",
    "wf_df.to_csv(dataframes_df + '\\\\wf_df_w_notes.csv', index=False)"
   ]
  },
  {
   "cell_type": "markdown",
   "metadata": {},
   "source": [
    "In this phase, we will manually edit the 'chase_df_w_notes.csv' using Excel to change all the predecessor name according to the 'Notes' section, which has a more accurate historical data on the entities acquired and merged."
   ]
  },
  {
   "cell_type": "code",
   "execution_count": 66,
   "metadata": {},
   "outputs": [],
   "source": [
    "#Upload the 'wf_branch_df_w_notes_edit.csv' file into a dataframe\n",
    "trans_wf_df=pd.read_csv(dataframes_df + '\\\\wf_df_w_notes_edit.csv')\n"
   ]
  },
  {
   "cell_type": "markdown",
   "metadata": {},
   "source": [
    "### 2d) Citibank dataframe development <a id=\"7\"></a>\n"
   ]
  },
  {
   "cell_type": "code",
   "execution_count": 70,
   "metadata": {},
   "outputs": [
    {
     "name": "stderr",
     "output_type": "stream",
     "text": [
      "C:\\Users\\16193\\AppData\\Local\\Temp\\ipykernel_12180\\1108738750.py:5: SettingWithCopyWarning:\n",
      "\n",
      "\n",
      "A value is trying to be set on a copy of a slice from a DataFrame.\n",
      "Try using .loc[row_indexer,col_indexer] = value instead\n",
      "\n",
      "See the caveats in the documentation: https://pandas.pydata.org/pandas-docs/stable/user_guide/indexing.html#returning-a-view-versus-a-copy\n",
      "\n"
     ]
    },
    {
     "data": {
      "text/html": [
       "<div>\n",
       "<style scoped>\n",
       "    .dataframe tbody tr th:only-of-type {\n",
       "        vertical-align: middle;\n",
       "    }\n",
       "\n",
       "    .dataframe tbody tr th {\n",
       "        vertical-align: top;\n",
       "    }\n",
       "\n",
       "    .dataframe thead th {\n",
       "        text-align: right;\n",
       "    }\n",
       "</style>\n",
       "<table border=\"1\" class=\"dataframe\">\n",
       "  <thead>\n",
       "    <tr style=\"text-align: right;\">\n",
       "      <th></th>\n",
       "      <th>Column1</th>\n",
       "      <th>ID_RSSD_PREDECESSOR</th>\n",
       "      <th>ID_RSSD_SUCCESSOR</th>\n",
       "      <th>D_DT_TRANS</th>\n",
       "      <th>Transformation Code</th>\n",
       "      <th>Accounting Method</th>\n",
       "      <th>DT_TRANS</th>\n",
       "      <th>Year</th>\n",
       "      <th>Predecessor_Name</th>\n",
       "      <th>Successor_Name</th>\n",
       "    </tr>\n",
       "  </thead>\n",
       "  <tbody>\n",
       "    <tr>\n",
       "      <th>762</th>\n",
       "      <td>762</td>\n",
       "      <td>3382547</td>\n",
       "      <td>476810</td>\n",
       "      <td>2022-07-01</td>\n",
       "      <td>Charter Discontinued</td>\n",
       "      <td>Merger</td>\n",
       "      <td>20220701</td>\n",
       "      <td>2022</td>\n",
       "      <td>DEPARTMENT STORES NATIONAL BANK               ...</td>\n",
       "      <td>Citibank</td>\n",
       "    </tr>\n",
       "    <tr>\n",
       "      <th>9226</th>\n",
       "      <td>9226</td>\n",
       "      <td>3158498</td>\n",
       "      <td>476810</td>\n",
       "      <td>2012-06-19</td>\n",
       "      <td>Charter Discontinued</td>\n",
       "      <td>Merger</td>\n",
       "      <td>20120619</td>\n",
       "      <td>2012</td>\n",
       "      <td>CAL FED HOLDINGS, INC.                        ...</td>\n",
       "      <td>Citibank</td>\n",
       "    </tr>\n",
       "    <tr>\n",
       "      <th>9563</th>\n",
       "      <td>9563</td>\n",
       "      <td>374112</td>\n",
       "      <td>476810</td>\n",
       "      <td>2012-01-01</td>\n",
       "      <td>Charter Discontinued</td>\n",
       "      <td>Merger</td>\n",
       "      <td>20120101</td>\n",
       "      <td>2012</td>\n",
       "      <td>CITICORP TRUST BANK, FSB                      ...</td>\n",
       "      <td>Citibank</td>\n",
       "    </tr>\n",
       "    <tr>\n",
       "      <th>10382</th>\n",
       "      <td>10382</td>\n",
       "      <td>486752</td>\n",
       "      <td>476810</td>\n",
       "      <td>2011-07-01</td>\n",
       "      <td>Charter Discontinued</td>\n",
       "      <td>Merger</td>\n",
       "      <td>20110701</td>\n",
       "      <td>2011</td>\n",
       "      <td>CITIBANK (SOUTH DAKOTA), NATIONAL ASSOCIATION ...</td>\n",
       "      <td>Citibank</td>\n",
       "    </tr>\n",
       "    <tr>\n",
       "      <th>14892</th>\n",
       "      <td>14892</td>\n",
       "      <td>545538</td>\n",
       "      <td>476810</td>\n",
       "      <td>2007-01-01</td>\n",
       "      <td>Charter Discontinued</td>\n",
       "      <td>Merger</td>\n",
       "      <td>20070101</td>\n",
       "      <td>2007</td>\n",
       "      <td>CITIBANK INTERNATIONAL                        ...</td>\n",
       "      <td>Citibank</td>\n",
       "    </tr>\n",
       "  </tbody>\n",
       "</table>\n",
       "</div>"
      ],
      "text/plain": [
       "       Column1  ID_RSSD_PREDECESSOR  ID_RSSD_SUCCESSOR D_DT_TRANS  \\\n",
       "762        762              3382547             476810 2022-07-01   \n",
       "9226      9226              3158498             476810 2012-06-19   \n",
       "9563      9563               374112             476810 2012-01-01   \n",
       "10382    10382               486752             476810 2011-07-01   \n",
       "14892    14892               545538             476810 2007-01-01   \n",
       "\n",
       "        Transformation Code Accounting Method  DT_TRANS  Year  \\\n",
       "762    Charter Discontinued            Merger  20220701  2022   \n",
       "9226   Charter Discontinued            Merger  20120619  2012   \n",
       "9563   Charter Discontinued            Merger  20120101  2012   \n",
       "10382  Charter Discontinued            Merger  20110701  2011   \n",
       "14892  Charter Discontinued            Merger  20070101  2007   \n",
       "\n",
       "                                        Predecessor_Name Successor_Name  \n",
       "762    DEPARTMENT STORES NATIONAL BANK               ...       Citibank  \n",
       "9226   CAL FED HOLDINGS, INC.                        ...       Citibank  \n",
       "9563   CITICORP TRUST BANK, FSB                      ...       Citibank  \n",
       "10382  CITIBANK (SOUTH DAKOTA), NATIONAL ASSOCIATION ...       Citibank  \n",
       "14892  CITIBANK INTERNATIONAL                        ...       Citibank  "
      ]
     },
     "execution_count": 70,
     "metadata": {},
     "output_type": "execute_result"
    }
   ],
   "source": [
    "#Filter the 'transformation_df' dataframe based on the ID_RSSD of Citibank\n",
    "trans_cb_df=trans_df[trans_df['ID_RSSD_SUCCESSOR']==476810]\n",
    "\n",
    "#Rename the successor to 'Citibank'\n",
    "trans_cb_df['Successor_Name']='Citibank'\n",
    "\n",
    "#Display the dataframe for the Citibank\n",
    "trans_cb_df.head()"
   ]
  },
  {
   "cell_type": "code",
   "execution_count": 47,
   "metadata": {},
   "outputs": [],
   "source": [
    "#Now let's download the 'trans_cb_df' as an excel file for revision\n",
    "path_to_tables = r\"Your\\Directory\\Here\\Dataframe\\Tables\"\n",
    "trans_cb_df.to_excel(path_to_tables + '\\\\trans_cb_df.xlsx', index=False)\n"
   ]
  },
  {
   "cell_type": "markdown",
   "metadata": {},
   "source": [
    "Create a list of all the legal names of all the branches that were consolidated under Bank of America. "
   ]
  },
  {
   "cell_type": "code",
   "execution_count": 48,
   "metadata": {},
   "outputs": [
    {
     "data": {
      "text/html": [
       "<div>\n",
       "<style scoped>\n",
       "    .dataframe tbody tr th:only-of-type {\n",
       "        vertical-align: middle;\n",
       "    }\n",
       "\n",
       "    .dataframe tbody tr th {\n",
       "        vertical-align: top;\n",
       "    }\n",
       "\n",
       "    .dataframe thead th {\n",
       "        text-align: right;\n",
       "    }\n",
       "</style>\n",
       "<table border=\"1\" class=\"dataframe\">\n",
       "  <thead>\n",
       "    <tr style=\"text-align: right;\">\n",
       "      <th></th>\n",
       "      <th>ID_RSSD_PREDECESSOR</th>\n",
       "      <th>ID_RSSD_SUCCESSOR</th>\n",
       "      <th>D_DT_TRANS</th>\n",
       "      <th>Transformation Code</th>\n",
       "      <th>Accounting Method</th>\n",
       "      <th>DT_TRANS</th>\n",
       "      <th>Year</th>\n",
       "      <th>Predecessor_Name</th>\n",
       "      <th>Predecessor_Name_Branch</th>\n",
       "      <th>Successor_Name</th>\n",
       "    </tr>\n",
       "  </thead>\n",
       "  <tbody>\n",
       "    <tr>\n",
       "      <th>0</th>\n",
       "      <td>3382547</td>\n",
       "      <td>476810</td>\n",
       "      <td>2022-07-01</td>\n",
       "      <td>Charter Discontinued</td>\n",
       "      <td>Merger</td>\n",
       "      <td>20220701</td>\n",
       "      <td>2022</td>\n",
       "      <td>DEPARTMENT STORES NATIONAL BANK               ...</td>\n",
       "      <td>DEPARTMENT STORES NATIONAL BANK               ...</td>\n",
       "      <td>CITIBANK, N.A.                                ...</td>\n",
       "    </tr>\n",
       "    <tr>\n",
       "      <th>1</th>\n",
       "      <td>3158498</td>\n",
       "      <td>476810</td>\n",
       "      <td>2012-06-19</td>\n",
       "      <td>Charter Discontinued</td>\n",
       "      <td>Merger</td>\n",
       "      <td>20120619</td>\n",
       "      <td>2012</td>\n",
       "      <td>CAL FED HOLDINGS, INC.                        ...</td>\n",
       "      <td>CAL FED HOLDINGS, INC.                        ...</td>\n",
       "      <td>CITIBANK, N.A.                                ...</td>\n",
       "    </tr>\n",
       "    <tr>\n",
       "      <th>2</th>\n",
       "      <td>374112</td>\n",
       "      <td>476810</td>\n",
       "      <td>2012-01-01</td>\n",
       "      <td>Charter Discontinued</td>\n",
       "      <td>Merger</td>\n",
       "      <td>20120101</td>\n",
       "      <td>2012</td>\n",
       "      <td>CITICORP TRUST BANK, FSB                      ...</td>\n",
       "      <td>CITICORP TRUST BANK, FSB                      ...</td>\n",
       "      <td>CITIBANK, N.A.                                ...</td>\n",
       "    </tr>\n",
       "    <tr>\n",
       "      <th>3</th>\n",
       "      <td>486752</td>\n",
       "      <td>476810</td>\n",
       "      <td>2011-07-01</td>\n",
       "      <td>Charter Discontinued</td>\n",
       "      <td>Merger</td>\n",
       "      <td>20110701</td>\n",
       "      <td>2011</td>\n",
       "      <td>CITIBANK (SOUTH DAKOTA), NATIONAL ASSOCIATION ...</td>\n",
       "      <td>CITIBANK (SOUTH DAKOTA), NATIONAL ASSOCIATION ...</td>\n",
       "      <td>CITIBANK, N.A.                                ...</td>\n",
       "    </tr>\n",
       "    <tr>\n",
       "      <th>4</th>\n",
       "      <td>545538</td>\n",
       "      <td>476810</td>\n",
       "      <td>2007-01-01</td>\n",
       "      <td>Charter Discontinued</td>\n",
       "      <td>Merger</td>\n",
       "      <td>20070101</td>\n",
       "      <td>2007</td>\n",
       "      <td>CITIBANK INTERNATIONAL                        ...</td>\n",
       "      <td>CITIBANK INTERNATIONAL                        ...</td>\n",
       "      <td>CITIBANK, N.A.                                ...</td>\n",
       "    </tr>\n",
       "  </tbody>\n",
       "</table>\n",
       "</div>"
      ],
      "text/plain": [
       "   ID_RSSD_PREDECESSOR  ID_RSSD_SUCCESSOR D_DT_TRANS   Transformation Code  \\\n",
       "0              3382547             476810 2022-07-01  Charter Discontinued   \n",
       "1              3158498             476810 2012-06-19  Charter Discontinued   \n",
       "2               374112             476810 2012-01-01  Charter Discontinued   \n",
       "3               486752             476810 2011-07-01  Charter Discontinued   \n",
       "4               545538             476810 2007-01-01  Charter Discontinued   \n",
       "\n",
       "  Accounting Method  DT_TRANS  Year  \\\n",
       "0            Merger  20220701  2022   \n",
       "1            Merger  20120619  2012   \n",
       "2            Merger  20120101  2012   \n",
       "3            Merger  20110701  2011   \n",
       "4            Merger  20070101  2007   \n",
       "\n",
       "                                    Predecessor_Name  \\\n",
       "0  DEPARTMENT STORES NATIONAL BANK               ...   \n",
       "1  CAL FED HOLDINGS, INC.                        ...   \n",
       "2  CITICORP TRUST BANK, FSB                      ...   \n",
       "3  CITIBANK (SOUTH DAKOTA), NATIONAL ASSOCIATION ...   \n",
       "4  CITIBANK INTERNATIONAL                        ...   \n",
       "\n",
       "                             Predecessor_Name_Branch  \\\n",
       "0  DEPARTMENT STORES NATIONAL BANK               ...   \n",
       "1  CAL FED HOLDINGS, INC.                        ...   \n",
       "2  CITICORP TRUST BANK, FSB                      ...   \n",
       "3  CITIBANK (SOUTH DAKOTA), NATIONAL ASSOCIATION ...   \n",
       "4  CITIBANK INTERNATIONAL                        ...   \n",
       "\n",
       "                                      Successor_Name  \n",
       "0  CITIBANK, N.A.                                ...  \n",
       "1  CITIBANK, N.A.                                ...  \n",
       "2  CITIBANK, N.A.                                ...  \n",
       "3  CITIBANK, N.A.                                ...  \n",
       "4  CITIBANK, N.A.                                ...  "
      ]
     },
     "execution_count": 48,
     "metadata": {},
     "output_type": "execute_result"
    }
   ],
   "source": [
    "#Upload the dataframe for Chase that juxtaposes the column of predecessors  that has the branch legal names and the column that does not\n",
    "path_to_branch_tables=r\"Your\\Directory\\Here\\Dataframe\"\n",
    "cb_branch_df=pd.read_excel(path_to_branch_tables + '\\\\cb_branch_con.xlsx')\n",
    "cb_branch_df.head()"
   ]
  },
  {
   "cell_type": "code",
   "execution_count": 49,
   "metadata": {},
   "outputs": [
    {
     "data": {
      "text/plain": [
       "['BAY SHORE BRANCH [CITIBANK, N.A.]',\n",
       " 'PORT RICHMOND BR [CITIBANK, N.A.]',\n",
       " 'RESTON BRANCH [CITIBANK, N.A.]',\n",
       " '120 BROADWAY BRANCH [CITIBANK, N.A.]',\n",
       " 'SAN FRANCISCO BRANCH [CITIBANK, N.A.]',\n",
       " 'LINCOLN PARK BRANCH [CITIBANK, N.A.]',\n",
       " '99 GARNSEY BRANCH [CITIBANK, N.A.]',\n",
       " 'NEW CASTLE BRANCH [CITIBANK, N.A.]',\n",
       " 'CENTRAL VALLEY BRANCH [HUDSON UNITED BANK]',\n",
       " 'LA MAIN BRANCH [CITIBANK, N.A.]']"
      ]
     },
     "execution_count": 49,
     "metadata": {},
     "output_type": "execute_result"
    }
   ],
   "source": [
    "#Create a list of the missing points\n",
    "cb_missing_points=list(set(cb_branch_df['Predecessor_Name_Branch'])-set(cb_branch_df['Predecessor_Name']))\n",
    "cb_missing_points"
   ]
  },
  {
   "cell_type": "code",
   "execution_count": 50,
   "metadata": {},
   "outputs": [],
   "source": [
    "# Define the list of branch consolidation entities for the switch filter\n",
    "\n",
    "cb_branch_list=[\n",
    "    'RESTON BRANCH [CITIBANK, N.A.]',\n",
    " 'PORT RICHMOND BR [CITIBANK, N.A.]',\n",
    " 'NEW CASTLE BRANCH [CITIBANK, N.A.]',\n",
    " 'LA MAIN BRANCH [CITIBANK, N.A.]',\n",
    " 'CENTRAL VALLEY BRANCH [HUDSON UNITED BANK]',\n",
    " '120 BROADWAY BRANCH [CITIBANK, N.A.]',\n",
    " 'LINCOLN PARK BRANCH [CITIBANK, N.A.]',\n",
    " '99 GARNSEY BRANCH [CITIBANK, N.A.]',\n",
    " 'BAY SHORE BRANCH [CITIBANK, N.A.]',\n",
    " 'SAN FRANCISCO BRANCH [CITIBANK, N.A.]']\n"
   ]
  },
  {
   "cell_type": "markdown",
   "metadata": {},
   "source": [
    "Now, we will add the \"Notes\" column from the \"history.csv\" file for Chase so that we can contextualize the nature of the transformation.\n",
    "\n",
    "Source: https://www.ffiec.gov/npw/Institution/Profile/476810?dt=20190909\n",
    "\n",
    "Also, by this time we have transformed the original dataframes to add missing transformations and correcting categorizations from corporate research."
   ]
  },
  {
   "cell_type": "code",
   "execution_count": 71,
   "metadata": {},
   "outputs": [
    {
     "data": {
      "text/html": [
       "<div>\n",
       "<style scoped>\n",
       "    .dataframe tbody tr th:only-of-type {\n",
       "        vertical-align: middle;\n",
       "    }\n",
       "\n",
       "    .dataframe tbody tr th {\n",
       "        vertical-align: top;\n",
       "    }\n",
       "\n",
       "    .dataframe thead th {\n",
       "        text-align: right;\n",
       "    }\n",
       "</style>\n",
       "<table border=\"1\" class=\"dataframe\">\n",
       "  <thead>\n",
       "    <tr style=\"text-align: right;\">\n",
       "      <th></th>\n",
       "      <th>Event</th>\n",
       "      <th>EventDate</th>\n",
       "      <th>OtherInstitutionName</th>\n",
       "      <th>OtherInstitutionID</th>\n",
       "      <th>Notes</th>\n",
       "    </tr>\n",
       "  </thead>\n",
       "  <tbody>\n",
       "    <tr>\n",
       "      <th>0</th>\n",
       "      <td>Acquisition</td>\n",
       "      <td>7/1/2022</td>\n",
       "      <td>DEPARTMENT STORES NATIONAL BANK</td>\n",
       "      <td>3382547.0</td>\n",
       "      <td>DEPARTMENT STORES NATIONAL BANK transferred it...</td>\n",
       "    </tr>\n",
       "    <tr>\n",
       "      <th>1</th>\n",
       "      <td>Address Changed</td>\n",
       "      <td>9/9/2019</td>\n",
       "      <td>NaN</td>\n",
       "      <td>NaN</td>\n",
       "      <td>The address of CITIBANK, N.A. changed from 701...</td>\n",
       "    </tr>\n",
       "    <tr>\n",
       "      <th>2</th>\n",
       "      <td>Acquisition</td>\n",
       "      <td>6/19/2012</td>\n",
       "      <td>CAL FED HOLDINGS, INC.</td>\n",
       "      <td>3158498.0</td>\n",
       "      <td>CAL FED HOLDINGS, INC. transferred its assets ...</td>\n",
       "    </tr>\n",
       "    <tr>\n",
       "      <th>3</th>\n",
       "      <td>Acquisition</td>\n",
       "      <td>1/1/2012</td>\n",
       "      <td>CITICORP TRUST BANK, FSB</td>\n",
       "      <td>374112.0</td>\n",
       "      <td>CITICORP TRUST BANK, FSB transferred its asset...</td>\n",
       "    </tr>\n",
       "    <tr>\n",
       "      <th>4</th>\n",
       "      <td>Acquisition</td>\n",
       "      <td>7/1/2011</td>\n",
       "      <td>CITIBANK (SOUTH DAKOTA), NATIONAL ASSOCIATION</td>\n",
       "      <td>486752.0</td>\n",
       "      <td>CITIBANK (SOUTH DAKOTA), NATIONAL ASSOCIATION ...</td>\n",
       "    </tr>\n",
       "  </tbody>\n",
       "</table>\n",
       "</div>"
      ],
      "text/plain": [
       "             Event  EventDate                           OtherInstitutionName  \\\n",
       "0      Acquisition   7/1/2022                DEPARTMENT STORES NATIONAL BANK   \n",
       "1  Address Changed   9/9/2019                                            NaN   \n",
       "2      Acquisition  6/19/2012                         CAL FED HOLDINGS, INC.   \n",
       "3      Acquisition   1/1/2012                       CITICORP TRUST BANK, FSB   \n",
       "4      Acquisition   7/1/2011  CITIBANK (SOUTH DAKOTA), NATIONAL ASSOCIATION   \n",
       "\n",
       "   OtherInstitutionID                                              Notes  \n",
       "0           3382547.0  DEPARTMENT STORES NATIONAL BANK transferred it...  \n",
       "1                 NaN  The address of CITIBANK, N.A. changed from 701...  \n",
       "2           3158498.0  CAL FED HOLDINGS, INC. transferred its assets ...  \n",
       "3            374112.0  CITICORP TRUST BANK, FSB transferred its asset...  \n",
       "4            486752.0  CITIBANK (SOUTH DAKOTA), NATIONAL ASSOCIATION ...  "
      ]
     },
     "execution_count": 71,
     "metadata": {},
     "output_type": "execute_result"
    }
   ],
   "source": [
    "#From the 'tables_dir' directory, load the 'history_cb.csv' csv file into a dataframe\n",
    "history_cb_df=pd.read_csv(tables_dir + '\\\\other_tables\\\\history_cb.csv')\n",
    "history_cb_df.head()"
   ]
  },
  {
   "cell_type": "code",
   "execution_count": 72,
   "metadata": {},
   "outputs": [
    {
     "data": {
      "text/html": [
       "<div>\n",
       "<style scoped>\n",
       "    .dataframe tbody tr th:only-of-type {\n",
       "        vertical-align: middle;\n",
       "    }\n",
       "\n",
       "    .dataframe tbody tr th {\n",
       "        vertical-align: top;\n",
       "    }\n",
       "\n",
       "    .dataframe thead th {\n",
       "        text-align: right;\n",
       "    }\n",
       "</style>\n",
       "<table border=\"1\" class=\"dataframe\">\n",
       "  <thead>\n",
       "    <tr style=\"text-align: right;\">\n",
       "      <th></th>\n",
       "      <th>Event</th>\n",
       "      <th>EventDate</th>\n",
       "      <th>OtherInstitutionName</th>\n",
       "      <th>OtherInstitutionID</th>\n",
       "      <th>Notes</th>\n",
       "    </tr>\n",
       "  </thead>\n",
       "  <tbody>\n",
       "    <tr>\n",
       "      <th>0</th>\n",
       "      <td>Acquisition</td>\n",
       "      <td>7/1/2022</td>\n",
       "      <td>DEPARTMENT STORES NATIONAL BANK</td>\n",
       "      <td>3382547</td>\n",
       "      <td>DEPARTMENT STORES NATIONAL BANK transferred it...</td>\n",
       "    </tr>\n",
       "    <tr>\n",
       "      <th>2</th>\n",
       "      <td>Acquisition</td>\n",
       "      <td>6/19/2012</td>\n",
       "      <td>CAL FED HOLDINGS, INC.</td>\n",
       "      <td>3158498</td>\n",
       "      <td>CAL FED HOLDINGS, INC. transferred its assets ...</td>\n",
       "    </tr>\n",
       "    <tr>\n",
       "      <th>3</th>\n",
       "      <td>Acquisition</td>\n",
       "      <td>1/1/2012</td>\n",
       "      <td>CITICORP TRUST BANK, FSB</td>\n",
       "      <td>374112</td>\n",
       "      <td>CITICORP TRUST BANK, FSB transferred its asset...</td>\n",
       "    </tr>\n",
       "    <tr>\n",
       "      <th>4</th>\n",
       "      <td>Acquisition</td>\n",
       "      <td>7/1/2011</td>\n",
       "      <td>CITIBANK (SOUTH DAKOTA), NATIONAL ASSOCIATION</td>\n",
       "      <td>486752</td>\n",
       "      <td>CITIBANK (SOUTH DAKOTA), NATIONAL ASSOCIATION ...</td>\n",
       "    </tr>\n",
       "    <tr>\n",
       "      <th>6</th>\n",
       "      <td>Acquisition</td>\n",
       "      <td>1/1/2007</td>\n",
       "      <td>CITIBANK INTERNATIONAL</td>\n",
       "      <td>545538</td>\n",
       "      <td>CITIBANK INTERNATIONAL transferred its assets ...</td>\n",
       "    </tr>\n",
       "  </tbody>\n",
       "</table>\n",
       "</div>"
      ],
      "text/plain": [
       "         Event  EventDate                           OtherInstitutionName  \\\n",
       "0  Acquisition   7/1/2022                DEPARTMENT STORES NATIONAL BANK   \n",
       "2  Acquisition  6/19/2012                         CAL FED HOLDINGS, INC.   \n",
       "3  Acquisition   1/1/2012                       CITICORP TRUST BANK, FSB   \n",
       "4  Acquisition   7/1/2011  CITIBANK (SOUTH DAKOTA), NATIONAL ASSOCIATION   \n",
       "6  Acquisition   1/1/2007                         CITIBANK INTERNATIONAL   \n",
       "\n",
       "   OtherInstitutionID                                              Notes  \n",
       "0             3382547  DEPARTMENT STORES NATIONAL BANK transferred it...  \n",
       "2             3158498  CAL FED HOLDINGS, INC. transferred its assets ...  \n",
       "3              374112  CITICORP TRUST BANK, FSB transferred its asset...  \n",
       "4              486752  CITIBANK (SOUTH DAKOTA), NATIONAL ASSOCIATION ...  \n",
       "6              545538  CITIBANK INTERNATIONAL transferred its assets ...  "
      ]
     },
     "execution_count": 72,
     "metadata": {},
     "output_type": "execute_result"
    }
   ],
   "source": [
    "'''\n",
    "    For the 'history_cb_df' dataframe, turn the 'OtherInstitutionID' column\n",
    "    into an int64 type instead of a float. This is so that the datatypes between\n",
    "    the 'history_cb_df''s 'OtherInstitutionID' column and the 'cb_df''s \n",
    "    'ID_RSSD_PREDECESSOR' column match\n",
    "'''\n",
    "history_cb_df['OtherInstitutionID'] = history_cb_df['OtherInstitutionID'].astype('Int64')\n",
    "\n",
    "#Filter the 'Event' column to only have 'Acqusitions'\n",
    "history_cb_df=history_cb_df[history_cb_df['Event']=='Acquisition']\n",
    "\n",
    "history_cb_df.head()"
   ]
  },
  {
   "cell_type": "code",
   "execution_count": 77,
   "metadata": {},
   "outputs": [
    {
     "data": {
      "text/html": [
       "<div>\n",
       "<style scoped>\n",
       "    .dataframe tbody tr th:only-of-type {\n",
       "        vertical-align: middle;\n",
       "    }\n",
       "\n",
       "    .dataframe tbody tr th {\n",
       "        vertical-align: top;\n",
       "    }\n",
       "\n",
       "    .dataframe thead th {\n",
       "        text-align: right;\n",
       "    }\n",
       "</style>\n",
       "<table border=\"1\" class=\"dataframe\">\n",
       "  <thead>\n",
       "    <tr style=\"text-align: right;\">\n",
       "      <th></th>\n",
       "      <th>Column1</th>\n",
       "      <th>ID_RSSD_PREDECESSOR</th>\n",
       "      <th>ID_RSSD_SUCCESSOR</th>\n",
       "      <th>D_DT_TRANS</th>\n",
       "      <th>Transformation Code</th>\n",
       "      <th>Accounting Method</th>\n",
       "      <th>DT_TRANS</th>\n",
       "      <th>Year</th>\n",
       "      <th>Predecessor_Name</th>\n",
       "      <th>Successor_Name</th>\n",
       "    </tr>\n",
       "  </thead>\n",
       "  <tbody>\n",
       "    <tr>\n",
       "      <th>0</th>\n",
       "      <td>762</td>\n",
       "      <td>3382547</td>\n",
       "      <td>476810</td>\n",
       "      <td>7/1/2022 0:00</td>\n",
       "      <td>Charter Discontinued</td>\n",
       "      <td>Merger</td>\n",
       "      <td>20220701</td>\n",
       "      <td>2022</td>\n",
       "      <td>DEPARTMENT STORES NATIONAL BANK               ...</td>\n",
       "      <td>Citibank</td>\n",
       "    </tr>\n",
       "    <tr>\n",
       "      <th>1</th>\n",
       "      <td>9226</td>\n",
       "      <td>3158498</td>\n",
       "      <td>476810</td>\n",
       "      <td>6/19/2012 0:00</td>\n",
       "      <td>Charter Discontinued</td>\n",
       "      <td>Merger</td>\n",
       "      <td>20120619</td>\n",
       "      <td>2012</td>\n",
       "      <td>CAL FED HOLDINGS, INC.                        ...</td>\n",
       "      <td>Citibank</td>\n",
       "    </tr>\n",
       "    <tr>\n",
       "      <th>2</th>\n",
       "      <td>9563</td>\n",
       "      <td>374112</td>\n",
       "      <td>476810</td>\n",
       "      <td>1/1/2012 0:00</td>\n",
       "      <td>Charter Discontinued</td>\n",
       "      <td>Merger</td>\n",
       "      <td>20120101</td>\n",
       "      <td>2012</td>\n",
       "      <td>CITICORP TRUST BANK, FSB                      ...</td>\n",
       "      <td>Citibank</td>\n",
       "    </tr>\n",
       "    <tr>\n",
       "      <th>3</th>\n",
       "      <td>10382</td>\n",
       "      <td>486752</td>\n",
       "      <td>476810</td>\n",
       "      <td>7/1/2011 0:00</td>\n",
       "      <td>Charter Discontinued</td>\n",
       "      <td>Merger</td>\n",
       "      <td>20110701</td>\n",
       "      <td>2011</td>\n",
       "      <td>CITIBANK (SOUTH DAKOTA), NATIONAL ASSOCIATION ...</td>\n",
       "      <td>Citibank</td>\n",
       "    </tr>\n",
       "    <tr>\n",
       "      <th>4</th>\n",
       "      <td>14892</td>\n",
       "      <td>545538</td>\n",
       "      <td>476810</td>\n",
       "      <td>1/1/2007 0:00</td>\n",
       "      <td>Charter Discontinued</td>\n",
       "      <td>Merger</td>\n",
       "      <td>20070101</td>\n",
       "      <td>2007</td>\n",
       "      <td>CITIBANK INTERNATIONAL                        ...</td>\n",
       "      <td>Citibank</td>\n",
       "    </tr>\n",
       "  </tbody>\n",
       "</table>\n",
       "</div>"
      ],
      "text/plain": [
       "   Column1  ID_RSSD_PREDECESSOR  ID_RSSD_SUCCESSOR      D_DT_TRANS  \\\n",
       "0      762              3382547             476810   7/1/2022 0:00   \n",
       "1     9226              3158498             476810  6/19/2012 0:00   \n",
       "2     9563               374112             476810   1/1/2012 0:00   \n",
       "3    10382               486752             476810   7/1/2011 0:00   \n",
       "4    14892               545538             476810   1/1/2007 0:00   \n",
       "\n",
       "    Transformation Code Accounting Method  DT_TRANS  Year  \\\n",
       "0  Charter Discontinued            Merger  20220701  2022   \n",
       "1  Charter Discontinued            Merger  20120619  2012   \n",
       "2  Charter Discontinued            Merger  20120101  2012   \n",
       "3  Charter Discontinued            Merger  20110701  2011   \n",
       "4  Charter Discontinued            Merger  20070101  2007   \n",
       "\n",
       "                                    Predecessor_Name Successor_Name  \n",
       "0  DEPARTMENT STORES NATIONAL BANK               ...       Citibank  \n",
       "1  CAL FED HOLDINGS, INC.                        ...       Citibank  \n",
       "2  CITICORP TRUST BANK, FSB                      ...       Citibank  \n",
       "3  CITIBANK (SOUTH DAKOTA), NATIONAL ASSOCIATION ...       Citibank  \n",
       "4  CITIBANK INTERNATIONAL                        ...       Citibank  "
      ]
     },
     "execution_count": 77,
     "metadata": {},
     "output_type": "execute_result"
    }
   ],
   "source": [
    "#Create a directory towards the 'cb_branch_con.csv' file and load it into a dataframe.\n",
    "cb_df=pd.read_csv(dataframes_df + '\\\\trans_cb_df.csv')\n",
    "cb_df.head()"
   ]
  },
  {
   "cell_type": "code",
   "execution_count": 80,
   "metadata": {},
   "outputs": [
    {
     "data": {
      "text/html": [
       "<div>\n",
       "<style scoped>\n",
       "    .dataframe tbody tr th:only-of-type {\n",
       "        vertical-align: middle;\n",
       "    }\n",
       "\n",
       "    .dataframe tbody tr th {\n",
       "        vertical-align: top;\n",
       "    }\n",
       "\n",
       "    .dataframe thead th {\n",
       "        text-align: right;\n",
       "    }\n",
       "</style>\n",
       "<table border=\"1\" class=\"dataframe\">\n",
       "  <thead>\n",
       "    <tr style=\"text-align: right;\">\n",
       "      <th></th>\n",
       "      <th>Column1</th>\n",
       "      <th>ID_RSSD_PREDECESSOR</th>\n",
       "      <th>ID_RSSD_SUCCESSOR</th>\n",
       "      <th>D_DT_TRANS</th>\n",
       "      <th>Transformation Code</th>\n",
       "      <th>Accounting Method</th>\n",
       "      <th>DT_TRANS</th>\n",
       "      <th>Year</th>\n",
       "      <th>Predecessor_Name</th>\n",
       "      <th>Successor_Name</th>\n",
       "      <th>Notes</th>\n",
       "    </tr>\n",
       "  </thead>\n",
       "  <tbody>\n",
       "    <tr>\n",
       "      <th>0</th>\n",
       "      <td>762</td>\n",
       "      <td>3382547</td>\n",
       "      <td>476810</td>\n",
       "      <td>7/1/2022 0:00</td>\n",
       "      <td>Charter Discontinued</td>\n",
       "      <td>Merger</td>\n",
       "      <td>20220701</td>\n",
       "      <td>2022</td>\n",
       "      <td>DEPARTMENT STORES NATIONAL BANK               ...</td>\n",
       "      <td>Citibank</td>\n",
       "      <td>DEPARTMENT STORES NATIONAL BANK transferred it...</td>\n",
       "    </tr>\n",
       "    <tr>\n",
       "      <th>1</th>\n",
       "      <td>9226</td>\n",
       "      <td>3158498</td>\n",
       "      <td>476810</td>\n",
       "      <td>6/19/2012 0:00</td>\n",
       "      <td>Charter Discontinued</td>\n",
       "      <td>Merger</td>\n",
       "      <td>20120619</td>\n",
       "      <td>2012</td>\n",
       "      <td>CAL FED HOLDINGS, INC.                        ...</td>\n",
       "      <td>Citibank</td>\n",
       "      <td>CAL FED HOLDINGS, INC. transferred its assets ...</td>\n",
       "    </tr>\n",
       "    <tr>\n",
       "      <th>2</th>\n",
       "      <td>9563</td>\n",
       "      <td>374112</td>\n",
       "      <td>476810</td>\n",
       "      <td>1/1/2012 0:00</td>\n",
       "      <td>Charter Discontinued</td>\n",
       "      <td>Merger</td>\n",
       "      <td>20120101</td>\n",
       "      <td>2012</td>\n",
       "      <td>CITICORP TRUST BANK, FSB                      ...</td>\n",
       "      <td>Citibank</td>\n",
       "      <td>CITICORP TRUST BANK, FSB transferred its asset...</td>\n",
       "    </tr>\n",
       "    <tr>\n",
       "      <th>3</th>\n",
       "      <td>10382</td>\n",
       "      <td>486752</td>\n",
       "      <td>476810</td>\n",
       "      <td>7/1/2011 0:00</td>\n",
       "      <td>Charter Discontinued</td>\n",
       "      <td>Merger</td>\n",
       "      <td>20110701</td>\n",
       "      <td>2011</td>\n",
       "      <td>CITIBANK (SOUTH DAKOTA), NATIONAL ASSOCIATION ...</td>\n",
       "      <td>Citibank</td>\n",
       "      <td>CITIBANK (SOUTH DAKOTA), NATIONAL ASSOCIATION ...</td>\n",
       "    </tr>\n",
       "    <tr>\n",
       "      <th>4</th>\n",
       "      <td>14892</td>\n",
       "      <td>545538</td>\n",
       "      <td>476810</td>\n",
       "      <td>1/1/2007 0:00</td>\n",
       "      <td>Charter Discontinued</td>\n",
       "      <td>Merger</td>\n",
       "      <td>20070101</td>\n",
       "      <td>2007</td>\n",
       "      <td>CITIBANK INTERNATIONAL                        ...</td>\n",
       "      <td>Citibank</td>\n",
       "      <td>CITIBANK INTERNATIONAL transferred its assets ...</td>\n",
       "    </tr>\n",
       "  </tbody>\n",
       "</table>\n",
       "</div>"
      ],
      "text/plain": [
       "   Column1  ID_RSSD_PREDECESSOR  ID_RSSD_SUCCESSOR      D_DT_TRANS  \\\n",
       "0      762              3382547             476810   7/1/2022 0:00   \n",
       "1     9226              3158498             476810  6/19/2012 0:00   \n",
       "2     9563               374112             476810   1/1/2012 0:00   \n",
       "3    10382               486752             476810   7/1/2011 0:00   \n",
       "4    14892               545538             476810   1/1/2007 0:00   \n",
       "\n",
       "    Transformation Code Accounting Method  DT_TRANS  Year  \\\n",
       "0  Charter Discontinued            Merger  20220701  2022   \n",
       "1  Charter Discontinued            Merger  20120619  2012   \n",
       "2  Charter Discontinued            Merger  20120101  2012   \n",
       "3  Charter Discontinued            Merger  20110701  2011   \n",
       "4  Charter Discontinued            Merger  20070101  2007   \n",
       "\n",
       "                                    Predecessor_Name Successor_Name  \\\n",
       "0  DEPARTMENT STORES NATIONAL BANK               ...       Citibank   \n",
       "1  CAL FED HOLDINGS, INC.                        ...       Citibank   \n",
       "2  CITICORP TRUST BANK, FSB                      ...       Citibank   \n",
       "3  CITIBANK (SOUTH DAKOTA), NATIONAL ASSOCIATION ...       Citibank   \n",
       "4  CITIBANK INTERNATIONAL                        ...       Citibank   \n",
       "\n",
       "                                               Notes  \n",
       "0  DEPARTMENT STORES NATIONAL BANK transferred it...  \n",
       "1  CAL FED HOLDINGS, INC. transferred its assets ...  \n",
       "2  CITICORP TRUST BANK, FSB transferred its asset...  \n",
       "3  CITIBANK (SOUTH DAKOTA), NATIONAL ASSOCIATION ...  \n",
       "4  CITIBANK INTERNATIONAL transferred its assets ...  "
      ]
     },
     "execution_count": 80,
     "metadata": {},
     "output_type": "execute_result"
    }
   ],
   "source": [
    "#Map the 'OtherInstitutionID' column to the 'ID_RSSD_PREDECESSOR' column\n",
    "def map_cb_id(history_cb_df, cb_df): \n",
    "    #Create a dictionary to map the 'OtherInstitionID' to the 'Notes' column\n",
    "    other_inst_id_dict=pd.Series(history_cb_df.Notes.values, index=history_cb_df.OtherInstitutionID)\n",
    "\n",
    "    #Map the Notes to the cb_df dataframe using the ID_RSSD_PREDECESSOR column\n",
    "    cb_df['Notes']=cb_df['ID_RSSD_PREDECESSOR'].map(other_inst_id_dict)\n",
    "\n",
    "    return cb_df\n",
    "\n",
    "trans_cb_df=map_cb_id(history_cb_df,cb_df)\n",
    "\n",
    "trans_cb_df.head()"
   ]
  },
  {
   "cell_type": "code",
   "execution_count": 82,
   "metadata": {},
   "outputs": [],
   "source": [
    "#Download the 'cb_df' as a csv file\n",
    "trans_cb_df.to_csv(dataframes_df + '\\\\cb_df_w_notes.csv', index=False)"
   ]
  },
  {
   "cell_type": "markdown",
   "metadata": {},
   "source": [
    "In this phase, we will manually edit the 'cb_df_w_notes.csv' using Excel to change all the predecessor name according to the 'Notes' section, which has a more accurate historical data on the entities acquired and merged."
   ]
  },
  {
   "cell_type": "code",
   "execution_count": 83,
   "metadata": {},
   "outputs": [
    {
     "data": {
      "text/html": [
       "<div>\n",
       "<style scoped>\n",
       "    .dataframe tbody tr th:only-of-type {\n",
       "        vertical-align: middle;\n",
       "    }\n",
       "\n",
       "    .dataframe tbody tr th {\n",
       "        vertical-align: top;\n",
       "    }\n",
       "\n",
       "    .dataframe thead th {\n",
       "        text-align: right;\n",
       "    }\n",
       "</style>\n",
       "<table border=\"1\" class=\"dataframe\">\n",
       "  <thead>\n",
       "    <tr style=\"text-align: right;\">\n",
       "      <th></th>\n",
       "      <th>Column1</th>\n",
       "      <th>ID_RSSD_PREDECESSOR</th>\n",
       "      <th>ID_RSSD_SUCCESSOR</th>\n",
       "      <th>D_DT_TRANS</th>\n",
       "      <th>Transformation Code</th>\n",
       "      <th>Accounting Method</th>\n",
       "      <th>DT_TRANS</th>\n",
       "      <th>Year</th>\n",
       "      <th>Predecessor_Name</th>\n",
       "      <th>Successor_Name</th>\n",
       "      <th>Notes</th>\n",
       "    </tr>\n",
       "  </thead>\n",
       "  <tbody>\n",
       "    <tr>\n",
       "      <th>0</th>\n",
       "      <td>762</td>\n",
       "      <td>3382547</td>\n",
       "      <td>476810</td>\n",
       "      <td>7/1/2022 0:00</td>\n",
       "      <td>Charter Discontinued</td>\n",
       "      <td>Merger</td>\n",
       "      <td>20220701</td>\n",
       "      <td>2022</td>\n",
       "      <td>DEPARTMENT STORES NATIONAL BANK               ...</td>\n",
       "      <td>Citibank</td>\n",
       "      <td>DEPARTMENT STORES NATIONAL BANK transferred it...</td>\n",
       "    </tr>\n",
       "    <tr>\n",
       "      <th>1</th>\n",
       "      <td>9226</td>\n",
       "      <td>3158498</td>\n",
       "      <td>476810</td>\n",
       "      <td>6/19/2012 0:00</td>\n",
       "      <td>Charter Discontinued</td>\n",
       "      <td>Merger</td>\n",
       "      <td>20120619</td>\n",
       "      <td>2012</td>\n",
       "      <td>CAL FED HOLDINGS, INC.                        ...</td>\n",
       "      <td>Citibank</td>\n",
       "      <td>CAL FED HOLDINGS, INC. transferred its assets ...</td>\n",
       "    </tr>\n",
       "    <tr>\n",
       "      <th>2</th>\n",
       "      <td>9563</td>\n",
       "      <td>374112</td>\n",
       "      <td>476810</td>\n",
       "      <td>1/1/2012 0:00</td>\n",
       "      <td>Charter Discontinued</td>\n",
       "      <td>Merger</td>\n",
       "      <td>20120101</td>\n",
       "      <td>2012</td>\n",
       "      <td>CITICORP TRUST BANK, FSB                      ...</td>\n",
       "      <td>Citibank</td>\n",
       "      <td>CITICORP TRUST BANK, FSB transferred its asset...</td>\n",
       "    </tr>\n",
       "    <tr>\n",
       "      <th>3</th>\n",
       "      <td>10382</td>\n",
       "      <td>486752</td>\n",
       "      <td>476810</td>\n",
       "      <td>7/1/2011 0:00</td>\n",
       "      <td>Charter Discontinued</td>\n",
       "      <td>Merger</td>\n",
       "      <td>20110701</td>\n",
       "      <td>2011</td>\n",
       "      <td>CITIBANK (SOUTH DAKOTA), NATIONAL ASSOCIATION ...</td>\n",
       "      <td>Citibank</td>\n",
       "      <td>CITIBANK (SOUTH DAKOTA), NATIONAL ASSOCIATION ...</td>\n",
       "    </tr>\n",
       "    <tr>\n",
       "      <th>4</th>\n",
       "      <td>14892</td>\n",
       "      <td>545538</td>\n",
       "      <td>476810</td>\n",
       "      <td>1/1/2007 0:00</td>\n",
       "      <td>Charter Discontinued</td>\n",
       "      <td>Merger</td>\n",
       "      <td>20070101</td>\n",
       "      <td>2007</td>\n",
       "      <td>CITIBANK INTERNATIONAL</td>\n",
       "      <td>Citibank</td>\n",
       "      <td>CITIBANK INTERNATIONAL transferred its assets ...</td>\n",
       "    </tr>\n",
       "  </tbody>\n",
       "</table>\n",
       "</div>"
      ],
      "text/plain": [
       "   Column1  ID_RSSD_PREDECESSOR  ID_RSSD_SUCCESSOR      D_DT_TRANS  \\\n",
       "0      762              3382547             476810   7/1/2022 0:00   \n",
       "1     9226              3158498             476810  6/19/2012 0:00   \n",
       "2     9563               374112             476810   1/1/2012 0:00   \n",
       "3    10382               486752             476810   7/1/2011 0:00   \n",
       "4    14892               545538             476810   1/1/2007 0:00   \n",
       "\n",
       "    Transformation Code Accounting Method  DT_TRANS  Year  \\\n",
       "0  Charter Discontinued            Merger  20220701  2022   \n",
       "1  Charter Discontinued            Merger  20120619  2012   \n",
       "2  Charter Discontinued            Merger  20120101  2012   \n",
       "3  Charter Discontinued            Merger  20110701  2011   \n",
       "4  Charter Discontinued            Merger  20070101  2007   \n",
       "\n",
       "                                    Predecessor_Name Successor_Name  \\\n",
       "0  DEPARTMENT STORES NATIONAL BANK               ...       Citibank   \n",
       "1  CAL FED HOLDINGS, INC.                        ...       Citibank   \n",
       "2  CITICORP TRUST BANK, FSB                      ...       Citibank   \n",
       "3  CITIBANK (SOUTH DAKOTA), NATIONAL ASSOCIATION ...       Citibank   \n",
       "4                             CITIBANK INTERNATIONAL       Citibank   \n",
       "\n",
       "                                               Notes  \n",
       "0  DEPARTMENT STORES NATIONAL BANK transferred it...  \n",
       "1  CAL FED HOLDINGS, INC. transferred its assets ...  \n",
       "2  CITICORP TRUST BANK, FSB transferred its asset...  \n",
       "3  CITIBANK (SOUTH DAKOTA), NATIONAL ASSOCIATION ...  \n",
       "4  CITIBANK INTERNATIONAL transferred its assets ...  "
      ]
     },
     "execution_count": 83,
     "metadata": {},
     "output_type": "execute_result"
    }
   ],
   "source": [
    "#Upload the 'cb_df_w_notes_edit.csv' file into a dataframe\n",
    "trans_cb_df=pd.read_csv(dataframes_df + '\\\\cb_df_w_notes_edit.csv')\n",
    "trans_cb_df.head()"
   ]
  },
  {
   "cell_type": "markdown",
   "metadata": {},
   "source": [
    "## 3) M&A Network Plot Development <a id=\"8\"></a>\n",
    "\n",
    "Our nework plot displays all the history of mergers, acquisitions and branch/subisiriary consolidations for each of the Big Four Banks starting in the 1960's until the lastest available data"
   ]
  },
  {
   "cell_type": "markdown",
   "metadata": {},
   "source": [
    "### 3a) Network plot for Chase <a id=\"9\"></a>"
   ]
  },
  {
   "cell_type": "code",
   "execution_count": 51,
   "metadata": {},
   "outputs": [
    {
     "data": {
      "application/vnd.plotly.v1+json": {
       "config": {
        "plotlyServerURL": "https://plotly.com"
       },
       "data": [
        {
         "hoverinfo": "none",
         "line": {
          "color": "#888",
          "width": 0.5
         },
         "mode": "lines",
         "type": "scatter",
         "x": [
          2023,
          2024,
          null,
          2021,
          2024,
          null,
          2019,
          2024,
          null,
          2019,
          2024,
          null,
          2019,
          2024,
          null,
          2019,
          2024,
          null,
          2015,
          2024,
          null,
          2011,
          2024,
          null,
          2011,
          2024,
          null,
          2011,
          2024,
          null,
          2011,
          2024,
          null,
          2011,
          2024,
          null,
          2011,
          2024,
          null,
          2010,
          2024,
          null,
          2009,
          2024,
          null,
          2009,
          2024,
          null,
          2008,
          2024,
          null,
          2008,
          2024,
          null,
          2008,
          2024,
          null,
          2007,
          2024,
          null,
          2006,
          2024,
          null,
          2006,
          2024,
          null,
          2005,
          2024,
          null,
          2004,
          2024,
          null,
          2004,
          2024,
          null,
          2001,
          2024,
          null,
          2001,
          2024,
          null,
          2001,
          2024,
          null,
          2000,
          2024,
          null,
          2000,
          2024,
          null,
          1999,
          2024,
          null,
          1998,
          2024,
          null,
          1996,
          2024,
          null,
          1996,
          2024,
          null,
          1993,
          2024,
          null,
          1992,
          2024,
          null,
          1992,
          2024,
          null,
          1992,
          2024,
          null,
          1991,
          2024,
          null,
          1991,
          2024,
          null,
          1986,
          2024,
          null,
          1978,
          2024,
          null,
          1978,
          2024,
          null,
          1978,
          2024,
          null,
          1978,
          2024,
          null,
          1978,
          2024,
          null,
          1977,
          2024,
          null,
          1975,
          2024,
          null,
          1975,
          2024,
          null,
          1964,
          2024,
          null,
          1964,
          2024,
          null,
          1963,
          2024,
          null
         ],
         "y": [
          0,
          26,
          null,
          1,
          26,
          null,
          2,
          26,
          null,
          3,
          26,
          null,
          4,
          26,
          null,
          5,
          26,
          null,
          6,
          26,
          null,
          7,
          26,
          null,
          8,
          26,
          null,
          9,
          26,
          null,
          10,
          26,
          null,
          11,
          26,
          null,
          12,
          26,
          null,
          13,
          26,
          null,
          14,
          26,
          null,
          15,
          26,
          null,
          16,
          26,
          null,
          17,
          26,
          null,
          18,
          26,
          null,
          19,
          26,
          null,
          20,
          26,
          null,
          21,
          26,
          null,
          22,
          26,
          null,
          23,
          26,
          null,
          24,
          26,
          null,
          25,
          26,
          null,
          26,
          26,
          null,
          27,
          26,
          null,
          28,
          26,
          null,
          29,
          26,
          null,
          30,
          26,
          null,
          31,
          26,
          null,
          32,
          26,
          null,
          33,
          26,
          null,
          34,
          26,
          null,
          35,
          26,
          null,
          36,
          26,
          null,
          37,
          26,
          null,
          38,
          26,
          null,
          39,
          26,
          null,
          40,
          26,
          null,
          41,
          26,
          null,
          42,
          26,
          null,
          43,
          26,
          null,
          44,
          26,
          null,
          45,
          26,
          null,
          46,
          26,
          null,
          47,
          26,
          null,
          48,
          26,
          null,
          49,
          26,
          null,
          50,
          26,
          null,
          51,
          26,
          null
         ]
        },
        {
         "hoverinfo": "text",
         "marker": {
          "color": "#0D5EAF",
          "line": {
           "width": 2
          },
          "size": 10
         },
         "mode": "markers",
         "text": [
          "FIRST REPUBLIC BANK                                                                                                     <br>Year: 2023<br>Transformation Code: Failure<br>Accounting Method: Not Applicable<br>Notes: FIRST REPUBLIC BANK failed and ceased to exist. Disposition was arranged by the regulatory agency. Assets were distributed to other entities.",
          "ONE MORTGAGE PARTNERS CORP.                                                                                             <br>Year: 2021<br>Transformation Code: Charter Discontinued<br>Accounting Method: Merger<br>Notes: ONE MORTGAGE PARTNERS CORP. transferred its assets to one or more institutions including JPMORGAN CHASE BANK, NATIONAL ASSOCIATION. ",
          "J.P. MORGAN TREASURY TECHNOLOGIES CORPORATION                                                                           <br>Year: 2019<br>Transformation Code: Charter Discontinued<br>Accounting Method: Merger<br>Notes: J.P. MORGAN TREASURY TECHNOLOGIES CORPORATION transferred its assets to one or more institutions including JPMORGAN CHASE BANK, NATIONAL ASSOCIATION. ",
          "CHASE BANK USA, NATIONAL ASSOCIATION                                                                                    <br>Year: 2019<br>Transformation Code: Charter Discontinued<br>Accounting Method: Merger<br>Notes: CHASE BANK USA, NATIONAL ASSOCIATION transferred its assets to one or more institutions including JPMORGAN CHASE BANK, NATIONAL ASSOCIATION. ",
          "CHASE BANKCARD SERVICES, INC.                                                                                           <br>Year: 2019<br>Transformation Code: Charter Discontinued<br>Accounting Method: Merger<br>Notes: CHASE BANKCARD SERVICES, INC. transferred its assets to one or more institutions including JPMORGAN CHASE BANK, NATIONAL ASSOCIATION. ",
          "BLOOMSPOT, INC.                                                                                                         <br>Year: 2019<br>Transformation Code: Charter Discontinued<br>Accounting Method: Merger<br>Notes: BLOOMSPOT, INC. transferred its assets to one or more institutions including JPMORGAN CHASE BANK, NATIONAL ASSOCIATION. ",
          "JPMORGAN BANK AND TRUST COMPANY, NATIONAL ASSOCIATION                                                                   <br>Year: 2015<br>Transformation Code: Charter Discontinued<br>Accounting Method: Merger<br>Notes: JPMORGAN BANK AND TRUST COMPANY, NATIONAL ASSOCIATION transferred its assets to one or more institutions including JPMORGAN CHASE BANK, NATIONAL ASSOCIATION. ",
          "CUSTODIAL TRUST COMPANY                                                                                                 <br>Year: 2011<br>Transformation Code: Charter Discontinued<br>Accounting Method: Merger<br>Notes: CUSTODIAL TRUST COMPANY transferred its assets to one or more institutions including JPMORGAN CHASE BANK, NATIONAL ASSOCIATION. ",
          "CHASE AUTO FINANCE CORP.                                                                                                <br>Year: 2011<br>Transformation Code: Charter Discontinued<br>Accounting Method: Merger<br>Notes: CHASE AUTO FINANCE CORP. transferred its assets to one or more institutions including JPMORGAN CHASE BANK, NATIONAL ASSOCIATION. ",
          "J.P. MORGAN INVESTOR SERVICES CO.                                                                                       <br>Year: 2011<br>Transformation Code: Charter Discontinued<br>Accounting Method: Merger<br>Notes: J.P. MORGAN INVESTOR SERVICES CO. transferred its assets to one or more institutions including JPMORGAN CHASE BANK, NATIONAL ASSOCIATION. ",
          "CHASE EQUIPMENT FINANCE, INC.                                                                                           <br>Year: 2011<br>Transformation Code: Charter Discontinued<br>Accounting Method: Merger<br>Notes: CHASE EQUIPMENT FINANCE, INC. transferred its assets to one or more institutions including JPMORGAN CHASE BANK, NATIONAL ASSOCIATION. ",
          "CHASE HOME FINANCE INC.                                                                                                 <br>Year: 2011<br>Transformation Code: Charter Discontinued<br>Accounting Method: Merger<br>Notes: CHASE HOME FINANCE INC. transferred its assets to one or more institutions including JPMORGAN CHASE BANK, NATIONAL ASSOCIATION. ",
          "CHASE HOME FINANCE LLC                                                                                                  <br>Year: 2011<br>Transformation Code: Charter Discontinued<br>Accounting Method: Merger<br>Notes: CHASE HOME FINANCE LLC transferred its assets to one or more institutions including JPMORGAN CHASE BANK, NATIONAL ASSOCIATION. ",
          "BANC ONE NATIONAL PROCESSING CORPORATION                                                                                <br>Year: 2010<br>Transformation Code: Charter Discontinued<br>Accounting Method: Merger<br>Notes: BANC ONE NATIONAL PROCESSING CORPORATION transferred its assets to one or more institutions including JPMORGAN CHASE BANK, NATIONAL ASSOCIATION. ",
          "BEAR STEARNS FOREX INC.                                                                                                 <br>Year: 2009<br>Transformation Code: Charter Discontinued<br>Accounting Method: Merger<br>Notes: BEAR STEARNS FOREX INC. transferred its assets to one or more institutions including JPMORGAN CHASE BANK, NATIONAL ASSOCIATION. ",
          "BEAR STEARNS FINANCIAL PRODUCTS INC.                                                                                    <br>Year: 2009<br>Transformation Code: Charter Discontinued<br>Accounting Method: Merger<br>Notes: BEAR STEARNS FINANCIAL PRODUCTS INC. transferred its assets to one or more institutions including JPMORGAN CHASE BANK, NATIONAL ASSOCIATION. ",
          "WASHINGTON MUTUAL BANK                                                                                                  <br>Year: 2008<br>Transformation Code: Failure<br>Accounting Method: Not Applicable<br>Notes: WASHINGTON MUTUAL BANK failed and ceased to exist. Disposition was arranged by the regulatory agency. Assets were distributed to other entities.",
          "WASHINGTON MUTUAL BANK FSB<br>Year: 2008<br>Transformation Code: Charter Discontinued<br>Accounting Method: Purchase/Acquisition<br>Notes: WASHINGTON MUTUAL BANK FSB transferred its assets to one or more institutions including JPMORGAN CHASE BANK, NATIONAL ASSOCIATION. ",
          "J.P. MORGAN TRUST COMPANY, NATIONAL ASSOCIATION                                                                         <br>Year: 2008<br>Transformation Code: Charter Discontinued<br>Accounting Method: Merger<br>Notes: J.P. MORGAN TRUST COMPANY, NATIONAL ASSOCIATION transferred its assets to one or more institutions including JPMORGAN CHASE BANK, NATIONAL ASSOCIATION. ",
          "LIBERTY PAYMENT SERVICES, INC.                                                                                          <br>Year: 2007<br>Transformation Code: Charter Discontinued<br>Accounting Method: Merger<br>Notes: LIBERTY PAYMENT SERVICES, INC. transferred its assets to one or more institutions including JPMORGAN CHASE BANK, NATIONAL ASSOCIATION. ",
          "BANK ONE TRUST COMPANY, NATIONAL ASSOCIATION                                                                            <br>Year: 2006<br>Transformation Code: Charter Discontinued<br>Accounting Method: Merger<br>Notes: BANK ONE TRUST COMPANY, NATIONAL ASSOCIATION transferred its assets to one or more institutions including JPMORGAN CHASE BANK, NATIONAL ASSOCIATION. ",
          "BANC ONE FINANCIAL SERVICES, INC.                                                                                       <br>Year: 2006<br>Transformation Code: Charter Discontinued<br>Accounting Method: Merger<br>Notes: BANC ONE FINANCIAL SERVICES, INC. transferred its assets to one or more institutions including JPMORGAN CHASE BANK, NATIONAL ASSOCIATION. ",
          "BANC ONE MANAGEMENT CORPORATION                                                                                         <br>Year: 2005<br>Transformation Code: Charter Discontinued<br>Accounting Method: Merger<br>Notes: BANC ONE MANAGEMENT CORPORATION transferred its assets to one or more institutions including JPMORGAN CHASE BANK, NATIONAL ASSOCIATION. ",
          "BANK ONE, NATIONAL ASSOCIATION, [CHICAGO MAIN]<br>Year: 2004<br>Transformation Code: Charter Discontinued<br>Accounting Method: Merger<br>Notes: BANK ONE, NATIONAL ASSOCIATION transferred its assets to one or more institutions including JPMORGAN CHASE BANK. ",
          "BANK ONE, NATIONAL ASSOCIATION, [BROAD STREET DOWNTOWN]<br>Year: 2004<br>Transformation Code: Charter Discontinued<br>Accounting Method: Merger<br>Notes: BANK ONE, NATIONAL ASSOCIATION transferred its assets to one or more institutions including JPMORGAN CHASE BANK. ",
          "WHITKATH INC.                                                                                                           <br>Year: 2001<br>Transformation Code: Charter Discontinued<br>Accounting Method: Merger<br>Notes: WHITKATH INC. transferred its assets to one or more institutions including JPMORGAN CHASE BANK. ",
          "60 WALL STREET BRANCH [JPMORGAN CHASE BANK, NATIONAL ASSOCIATION]<br>Year: 2001<br>Transformation Code: Charter Discontinued<br>Accounting Method: Merger<br>Notes: MORGAN GUARANTY TRUST COMPANY OF NEW YORK transferred its assets to one or more institutions including CHASE MANHATTAN BANK, THE. ",
          "CHASE BANK OF TEXAS-SAN ANGELO, NATIONAL ASSOCIATION                                                                    <br>Year: 2001<br>Transformation Code: Charter Discontinued<br>Accounting Method: Merger<br>Notes: CHASE BANK OF TEXAS-SAN ANGELO, NATIONAL ASSOCIATION transferred its assets to one or more institutions including CHASE MANHATTAN BANK, THE. ",
          "HOUSTON MAIN BRANCH [JPMORGAN CHASE BANK, NATIONAL ASSOCIATION]<br>Year: 2000<br>Transformation Code: Charter Discontinued<br>Accounting Method: Merger<br>Notes: CHASE BANK OF TEXAS, NATIONAL ASSOCIATION transferred its assets to one or more institutions including CHASE MANHATTAN BANK, THE. ",
          "CHASE MANHATTAN & JP MORGAN<br>Year: 2000<br>Transformation Code: Charter Discontinued<br>Accounting Method: Merger<br>Notes: Chase Manhattan acquired J.P. Morgan at a value of $30.9B",
          "TEXAS COMMERCE TRUST COMPANY OF NEW YORK                                                                                <br>Year: 1999<br>Transformation Code: Charter Discontinued<br>Accounting Method: Merger<br>Notes: TEXAS COMMERCE TRUST COMPANY OF NEW YORK transferred its assets to one or more institutions including CHASE MANHATTAN BANK, THE. ",
          "MORGAN STANLEY TRUST COMPANY                                                                                            <br>Year: 1998<br>Transformation Code: Charter Discontinued<br>Accounting Method: Purchase/Acquisition<br>Notes: MORGAN STANLEY TRUST COMPANY transferred its assets to one or more institutions including CHASE MANHATTAN BANK, THE. ",
          "225 SOUTH STREET BRANCH [JPMORGAN CHASE BANK, NATIONAL ASSOCIATION]<br>Year: 1996<br>Transformation Code: Charter Discontinued<br>Accounting Method: Merger<br>Notes: CHASE MANHATTAN BANK, NATIONAL ASSOCIATION, THE transferred its assets to one or more institutions including CHASE MANHATTAN BANK, THE. ",
          "CHASE PLAZA [JPMORGAN CHASE BANK, NATIONAL ASSOCIATION]<br>Year: 1996<br>Transformation Code: Charter Discontinued<br>Accounting Method: Merger<br>Notes: CHASE MANHATTAN BANK, N.A., THE transferred its assets to one or more institutions including CHEMICAL BANK. ",
          "TEXAS COMMERCE BANKS                                                                                                    <br>Year: 1993<br>Transformation Code: Charter Discontinued<br>Accounting Method: Not Applicable<br>Notes: TEXAS COMMERCE BANKS transferred its assets to one or more institutions including CHEMICAL BANK. ",
          "MANUFACTURERS HANOVER TRUST COMPANY<br>Year: 1992<br>Transformation Code: Charter Discontinued<br>Accounting Method: Merger<br>Notes: MANUFACTURERS HANOVER TRUST COMPANY transferred its assets to one or more institutions including CHEMICAL BANK. ",
          "CENTRAL FEDERAL SAVINGS BANK                                                                                            <br>Year: 1992<br>Transformation Code: Failure<br>Accounting Method: Not Applicable<br>Notes: CENTRAL FEDERAL SAVINGS BANK failed and ceased to exist. Disposition was arranged by the regulatory agency. Assets were distributed to other entities.",
          "CHEMICAL BANK DELAWARE                                                                                                  <br>Year: 1992<br>Transformation Code: Charter Discontinued<br>Accounting Method: Not Applicable<br>Notes: CHEMICAL BANK DELAWARE transferred its assets to one or more institutions including CHEMICAL BANK. ",
          "COMMUNITY NATIONAL BANK AND TRUST COMPANY OF NEW YORK                                                                   <br>Year: 1991<br>Transformation Code: Failure<br>Accounting Method: Not Applicable<br>Notes: COMMUNITY NATIONAL BANK AND TRUST COMPANY OF NEW YORK failed and ceased to exist. Disposition was arranged by the regulatory agency. Assets were distributed to other entities.",
          "ENSIGN FEDERAL SAVINGS BANK                                                                                             <br>Year: 1991<br>Transformation Code: Failure<br>Accounting Method: Not Applicable<br>Notes: ENSIGN FEDERAL SAVINGS BANK failed and ceased to exist. Disposition was arranged by the regulatory agency. Assets were distributed to other entities.",
          "TEXAS COMMERCE BANK N.A.<br>Year: 1986<br>Transformation Code: nan<br>Accounting Method: Purchase/Acquisition<br>Notes: Acquistion valued at $1.1 billion.",
          "BINGHAMTON BRANCH [CHASE MANHATTAN BANK, THE]<br>Year: 1978<br>Transformation Code: Charter Discontinued<br>Accounting Method: Not Applicable<br>Notes: CHEMICAL BANK OF BINGHAMTON transferred its assets to one or more institutions including CHEMICAL BANK. ",
          "BUFFALO BRANCH [MANUFACTURERS AND TRADERS TRUST COMPANY]<br>Year: 1978<br>Transformation Code: Charter Discontinued<br>Accounting Method: Not Applicable<br>Notes: CHEMICAL BANK-BUFFALO transferred its assets to one or more institutions including CHEMICAL BANK. ",
          "HILTON BRANCH [MANUFACTURERS AND TRADERS TRUST COMPANY]<br>Year: 1978<br>Transformation Code: Charter Discontinued<br>Accounting Method: Not Applicable<br>Notes: CHEMICAL BANK OF ROCHESTER transferred its assets to one or more institutions including CHEMICAL BANK. ",
          "PLUM STREET BRANCH [CHASE MANHATTAN BANK, THE]<br>Year: 1978<br>Transformation Code: Charter Discontinued<br>Accounting Method: Not Applicable<br>Notes: CHEMICAL BANK OF SYRACUSE transferred its assets to one or more institutions including CHEMICAL BANK. ",
          "GREENWICH OFFICE [GLENS FALLS NATIONAL BANK AND TRUST COMPANY]<br>Year: 1978<br>Transformation Code: Charter Discontinued<br>Accounting Method: Not Applicable<br>Notes: CHEMICAL BANK EASTERN, N.A. transferred its assets to one or more institutions including CHEMICAL BANK. ",
          "NYACK BRANCH [MANUFACTURERS AND TRADERS TRUST COMPANY]<br>Year: 1977<br>Transformation Code: Charter Discontinued<br>Accounting Method: Not Applicable<br>Notes: CHEMICAL BANK HUDSON VALLEY, NATIONAL ASSOCIATION transferred its assets to one or more institutions including CHEMICAL BANK. ",
          "SMITHTOWN BRANCH [JPMORGAN CHASE BANK, NATIONAL ASSOCIATION]<br>Year: 1975<br>Transformation Code: Charter Discontinued<br>Accounting Method: Not Applicable<br>Notes: CHEMICAL BANK OF SUFFOLK N.A. transferred its assets to one or more institutions including CHEMICAL BANK. ",
          "SECURITY NATIONAL BANK<br>Year: 1975<br>Transformation Code: Charter Discontinued<br>Accounting Method: Not Applicable<br>Notes: SECURITY NATIONAL BANK transferred its assets to one or more institutions including CHEMICAL BANK. ",
          "FIRST NATIONAL BANK OF VERNON                                                                                           <br>Year: 1964<br>Transformation Code: Charter Discontinued<br>Accounting Method: Not Applicable<br>Notes: FIRST NATIONAL BANK OF VERNON transferred its assets to one or more institutions including CHEMICAL BANK NEW YORK TRUST COMPANY. ",
          "BENSONHURST NB OF BROOKLYN                                                                                              <br>Year: 1964<br>Transformation Code: Charter Discontinued<br>Accounting Method: Not Applicable<br>Notes: BENSONHURST NB OF BROOKLYN transferred its assets to one or more institutions including CHEMICAL BANK NEW YORK TRUST COMPANY. ",
          "BANK OF ROCKVILLE CENTRE TRUST                                                                                          <br>Year: 1963<br>Transformation Code: Charter Discontinued<br>Accounting Method: Not Applicable<br>Notes: BANK OF ROCKVILLE CENTRE TRUST transferred its assets to one or more institutions including CHEMICAL BANK NEW YORK TRUST COMPANY. ",
          "Chase<br>Year: N/A<br>Transformation Code: N/A<br>Accounting Method: N/A<br>Notes: N/A"
         ],
         "type": "scatter",
         "x": [
          2023,
          2021,
          2019,
          2019,
          2019,
          2019,
          2015,
          2011,
          2011,
          2011,
          2011,
          2011,
          2011,
          2010,
          2009,
          2009,
          2008,
          2008,
          2008,
          2007,
          2006,
          2006,
          2005,
          2004,
          2004,
          2001,
          2001,
          2001,
          2000,
          2000,
          1999,
          1998,
          1996,
          1996,
          1993,
          1992,
          1992,
          1992,
          1991,
          1991,
          1986,
          1978,
          1978,
          1978,
          1978,
          1978,
          1977,
          1975,
          1975,
          1964,
          1964,
          1963,
          2024
         ],
         "y": [
          0,
          1,
          2,
          3,
          4,
          5,
          6,
          7,
          8,
          9,
          10,
          11,
          12,
          13,
          14,
          15,
          16,
          17,
          18,
          19,
          20,
          21,
          22,
          23,
          24,
          25,
          26,
          27,
          28,
          29,
          30,
          31,
          32,
          33,
          34,
          35,
          36,
          37,
          38,
          39,
          40,
          41,
          42,
          43,
          44,
          45,
          46,
          47,
          48,
          49,
          50,
          51,
          26
         ]
        }
       ],
       "layout": {
        "annotations": [
         {
          "arrowcolor": "#ffffff",
          "arrowhead": 2,
          "ax": -40,
          "ay": 0,
          "font": {
           "color": "#ffffff"
          },
          "showarrow": true,
          "text": "1996: Chemical Bank changed<br> to the new name<br> Chase Manhattan Bank",
          "x": 1996,
          "y": 15
         },
         {
          "arrowcolor": "#ffffff",
          "arrowhead": 2,
          "ax": -40,
          "ay": 0,
          "font": {
           "color": "#ffffff"
          },
          "showarrow": true,
          "text": "2001: Chase Manhattan Bank <br>changed to the new <br>name JP Morgan Chase.",
          "x": 2001,
          "y": 45
         }
        ],
        "hovermode": "y unified",
        "margin": {
         "b": 20,
         "l": 5,
         "r": 5,
         "t": 40
        },
        "shapes": [
         {
          "line": {
           "color": "#ffffff",
           "dash": "dot",
           "width": 1
          },
          "type": "line",
          "x0": 1996,
          "x1": 1996,
          "y0": 0,
          "y1": 51
         },
         {
          "line": {
           "color": "#ffffff",
           "dash": "dot",
           "width": 1
          },
          "type": "line",
          "x0": 2001,
          "x1": 2001,
          "y0": 0,
          "y1": 51
         }
        ],
        "showlegend": false,
        "template": {
         "data": {
          "bar": [
           {
            "error_x": {
             "color": "#f2f5fa"
            },
            "error_y": {
             "color": "#f2f5fa"
            },
            "marker": {
             "line": {
              "color": "rgb(17,17,17)",
              "width": 0.5
             },
             "pattern": {
              "fillmode": "overlay",
              "size": 10,
              "solidity": 0.2
             }
            },
            "type": "bar"
           }
          ],
          "barpolar": [
           {
            "marker": {
             "line": {
              "color": "rgb(17,17,17)",
              "width": 0.5
             },
             "pattern": {
              "fillmode": "overlay",
              "size": 10,
              "solidity": 0.2
             }
            },
            "type": "barpolar"
           }
          ],
          "carpet": [
           {
            "aaxis": {
             "endlinecolor": "#A2B1C6",
             "gridcolor": "#506784",
             "linecolor": "#506784",
             "minorgridcolor": "#506784",
             "startlinecolor": "#A2B1C6"
            },
            "baxis": {
             "endlinecolor": "#A2B1C6",
             "gridcolor": "#506784",
             "linecolor": "#506784",
             "minorgridcolor": "#506784",
             "startlinecolor": "#A2B1C6"
            },
            "type": "carpet"
           }
          ],
          "choropleth": [
           {
            "colorbar": {
             "outlinewidth": 0,
             "ticks": ""
            },
            "type": "choropleth"
           }
          ],
          "contour": [
           {
            "colorbar": {
             "outlinewidth": 0,
             "ticks": ""
            },
            "colorscale": [
             [
              0,
              "#0d0887"
             ],
             [
              0.1111111111111111,
              "#46039f"
             ],
             [
              0.2222222222222222,
              "#7201a8"
             ],
             [
              0.3333333333333333,
              "#9c179e"
             ],
             [
              0.4444444444444444,
              "#bd3786"
             ],
             [
              0.5555555555555556,
              "#d8576b"
             ],
             [
              0.6666666666666666,
              "#ed7953"
             ],
             [
              0.7777777777777778,
              "#fb9f3a"
             ],
             [
              0.8888888888888888,
              "#fdca26"
             ],
             [
              1,
              "#f0f921"
             ]
            ],
            "type": "contour"
           }
          ],
          "contourcarpet": [
           {
            "colorbar": {
             "outlinewidth": 0,
             "ticks": ""
            },
            "type": "contourcarpet"
           }
          ],
          "heatmap": [
           {
            "colorbar": {
             "outlinewidth": 0,
             "ticks": ""
            },
            "colorscale": [
             [
              0,
              "#0d0887"
             ],
             [
              0.1111111111111111,
              "#46039f"
             ],
             [
              0.2222222222222222,
              "#7201a8"
             ],
             [
              0.3333333333333333,
              "#9c179e"
             ],
             [
              0.4444444444444444,
              "#bd3786"
             ],
             [
              0.5555555555555556,
              "#d8576b"
             ],
             [
              0.6666666666666666,
              "#ed7953"
             ],
             [
              0.7777777777777778,
              "#fb9f3a"
             ],
             [
              0.8888888888888888,
              "#fdca26"
             ],
             [
              1,
              "#f0f921"
             ]
            ],
            "type": "heatmap"
           }
          ],
          "heatmapgl": [
           {
            "colorbar": {
             "outlinewidth": 0,
             "ticks": ""
            },
            "colorscale": [
             [
              0,
              "#0d0887"
             ],
             [
              0.1111111111111111,
              "#46039f"
             ],
             [
              0.2222222222222222,
              "#7201a8"
             ],
             [
              0.3333333333333333,
              "#9c179e"
             ],
             [
              0.4444444444444444,
              "#bd3786"
             ],
             [
              0.5555555555555556,
              "#d8576b"
             ],
             [
              0.6666666666666666,
              "#ed7953"
             ],
             [
              0.7777777777777778,
              "#fb9f3a"
             ],
             [
              0.8888888888888888,
              "#fdca26"
             ],
             [
              1,
              "#f0f921"
             ]
            ],
            "type": "heatmapgl"
           }
          ],
          "histogram": [
           {
            "marker": {
             "pattern": {
              "fillmode": "overlay",
              "size": 10,
              "solidity": 0.2
             }
            },
            "type": "histogram"
           }
          ],
          "histogram2d": [
           {
            "colorbar": {
             "outlinewidth": 0,
             "ticks": ""
            },
            "colorscale": [
             [
              0,
              "#0d0887"
             ],
             [
              0.1111111111111111,
              "#46039f"
             ],
             [
              0.2222222222222222,
              "#7201a8"
             ],
             [
              0.3333333333333333,
              "#9c179e"
             ],
             [
              0.4444444444444444,
              "#bd3786"
             ],
             [
              0.5555555555555556,
              "#d8576b"
             ],
             [
              0.6666666666666666,
              "#ed7953"
             ],
             [
              0.7777777777777778,
              "#fb9f3a"
             ],
             [
              0.8888888888888888,
              "#fdca26"
             ],
             [
              1,
              "#f0f921"
             ]
            ],
            "type": "histogram2d"
           }
          ],
          "histogram2dcontour": [
           {
            "colorbar": {
             "outlinewidth": 0,
             "ticks": ""
            },
            "colorscale": [
             [
              0,
              "#0d0887"
             ],
             [
              0.1111111111111111,
              "#46039f"
             ],
             [
              0.2222222222222222,
              "#7201a8"
             ],
             [
              0.3333333333333333,
              "#9c179e"
             ],
             [
              0.4444444444444444,
              "#bd3786"
             ],
             [
              0.5555555555555556,
              "#d8576b"
             ],
             [
              0.6666666666666666,
              "#ed7953"
             ],
             [
              0.7777777777777778,
              "#fb9f3a"
             ],
             [
              0.8888888888888888,
              "#fdca26"
             ],
             [
              1,
              "#f0f921"
             ]
            ],
            "type": "histogram2dcontour"
           }
          ],
          "mesh3d": [
           {
            "colorbar": {
             "outlinewidth": 0,
             "ticks": ""
            },
            "type": "mesh3d"
           }
          ],
          "parcoords": [
           {
            "line": {
             "colorbar": {
              "outlinewidth": 0,
              "ticks": ""
             }
            },
            "type": "parcoords"
           }
          ],
          "pie": [
           {
            "automargin": true,
            "type": "pie"
           }
          ],
          "scatter": [
           {
            "marker": {
             "line": {
              "color": "#283442"
             }
            },
            "type": "scatter"
           }
          ],
          "scatter3d": [
           {
            "line": {
             "colorbar": {
              "outlinewidth": 0,
              "ticks": ""
             }
            },
            "marker": {
             "colorbar": {
              "outlinewidth": 0,
              "ticks": ""
             }
            },
            "type": "scatter3d"
           }
          ],
          "scattercarpet": [
           {
            "marker": {
             "colorbar": {
              "outlinewidth": 0,
              "ticks": ""
             }
            },
            "type": "scattercarpet"
           }
          ],
          "scattergeo": [
           {
            "marker": {
             "colorbar": {
              "outlinewidth": 0,
              "ticks": ""
             }
            },
            "type": "scattergeo"
           }
          ],
          "scattergl": [
           {
            "marker": {
             "line": {
              "color": "#283442"
             }
            },
            "type": "scattergl"
           }
          ],
          "scattermapbox": [
           {
            "marker": {
             "colorbar": {
              "outlinewidth": 0,
              "ticks": ""
             }
            },
            "type": "scattermapbox"
           }
          ],
          "scatterpolar": [
           {
            "marker": {
             "colorbar": {
              "outlinewidth": 0,
              "ticks": ""
             }
            },
            "type": "scatterpolar"
           }
          ],
          "scatterpolargl": [
           {
            "marker": {
             "colorbar": {
              "outlinewidth": 0,
              "ticks": ""
             }
            },
            "type": "scatterpolargl"
           }
          ],
          "scatterternary": [
           {
            "marker": {
             "colorbar": {
              "outlinewidth": 0,
              "ticks": ""
             }
            },
            "type": "scatterternary"
           }
          ],
          "surface": [
           {
            "colorbar": {
             "outlinewidth": 0,
             "ticks": ""
            },
            "colorscale": [
             [
              0,
              "#0d0887"
             ],
             [
              0.1111111111111111,
              "#46039f"
             ],
             [
              0.2222222222222222,
              "#7201a8"
             ],
             [
              0.3333333333333333,
              "#9c179e"
             ],
             [
              0.4444444444444444,
              "#bd3786"
             ],
             [
              0.5555555555555556,
              "#d8576b"
             ],
             [
              0.6666666666666666,
              "#ed7953"
             ],
             [
              0.7777777777777778,
              "#fb9f3a"
             ],
             [
              0.8888888888888888,
              "#fdca26"
             ],
             [
              1,
              "#f0f921"
             ]
            ],
            "type": "surface"
           }
          ],
          "table": [
           {
            "cells": {
             "fill": {
              "color": "#506784"
             },
             "line": {
              "color": "rgb(17,17,17)"
             }
            },
            "header": {
             "fill": {
              "color": "#2a3f5f"
             },
             "line": {
              "color": "rgb(17,17,17)"
             }
            },
            "type": "table"
           }
          ]
         },
         "layout": {
          "annotationdefaults": {
           "arrowcolor": "#f2f5fa",
           "arrowhead": 0,
           "arrowwidth": 1
          },
          "autotypenumbers": "strict",
          "coloraxis": {
           "colorbar": {
            "outlinewidth": 0,
            "ticks": ""
           }
          },
          "colorscale": {
           "diverging": [
            [
             0,
             "#8e0152"
            ],
            [
             0.1,
             "#c51b7d"
            ],
            [
             0.2,
             "#de77ae"
            ],
            [
             0.3,
             "#f1b6da"
            ],
            [
             0.4,
             "#fde0ef"
            ],
            [
             0.5,
             "#f7f7f7"
            ],
            [
             0.6,
             "#e6f5d0"
            ],
            [
             0.7,
             "#b8e186"
            ],
            [
             0.8,
             "#7fbc41"
            ],
            [
             0.9,
             "#4d9221"
            ],
            [
             1,
             "#276419"
            ]
           ],
           "sequential": [
            [
             0,
             "#0d0887"
            ],
            [
             0.1111111111111111,
             "#46039f"
            ],
            [
             0.2222222222222222,
             "#7201a8"
            ],
            [
             0.3333333333333333,
             "#9c179e"
            ],
            [
             0.4444444444444444,
             "#bd3786"
            ],
            [
             0.5555555555555556,
             "#d8576b"
            ],
            [
             0.6666666666666666,
             "#ed7953"
            ],
            [
             0.7777777777777778,
             "#fb9f3a"
            ],
            [
             0.8888888888888888,
             "#fdca26"
            ],
            [
             1,
             "#f0f921"
            ]
           ],
           "sequentialminus": [
            [
             0,
             "#0d0887"
            ],
            [
             0.1111111111111111,
             "#46039f"
            ],
            [
             0.2222222222222222,
             "#7201a8"
            ],
            [
             0.3333333333333333,
             "#9c179e"
            ],
            [
             0.4444444444444444,
             "#bd3786"
            ],
            [
             0.5555555555555556,
             "#d8576b"
            ],
            [
             0.6666666666666666,
             "#ed7953"
            ],
            [
             0.7777777777777778,
             "#fb9f3a"
            ],
            [
             0.8888888888888888,
             "#fdca26"
            ],
            [
             1,
             "#f0f921"
            ]
           ]
          },
          "colorway": [
           "#636efa",
           "#EF553B",
           "#00cc96",
           "#ab63fa",
           "#FFA15A",
           "#19d3f3",
           "#FF6692",
           "#B6E880",
           "#FF97FF",
           "#FECB52"
          ],
          "font": {
           "color": "#f2f5fa"
          },
          "geo": {
           "bgcolor": "rgb(17,17,17)",
           "lakecolor": "rgb(17,17,17)",
           "landcolor": "rgb(17,17,17)",
           "showlakes": true,
           "showland": true,
           "subunitcolor": "#506784"
          },
          "hoverlabel": {
           "align": "left"
          },
          "hovermode": "closest",
          "mapbox": {
           "style": "dark"
          },
          "paper_bgcolor": "rgb(17,17,17)",
          "plot_bgcolor": "rgb(17,17,17)",
          "polar": {
           "angularaxis": {
            "gridcolor": "#506784",
            "linecolor": "#506784",
            "ticks": ""
           },
           "bgcolor": "rgb(17,17,17)",
           "radialaxis": {
            "gridcolor": "#506784",
            "linecolor": "#506784",
            "ticks": ""
           }
          },
          "scene": {
           "xaxis": {
            "backgroundcolor": "rgb(17,17,17)",
            "gridcolor": "#506784",
            "gridwidth": 2,
            "linecolor": "#506784",
            "showbackground": true,
            "ticks": "",
            "zerolinecolor": "#C8D4E3"
           },
           "yaxis": {
            "backgroundcolor": "rgb(17,17,17)",
            "gridcolor": "#506784",
            "gridwidth": 2,
            "linecolor": "#506784",
            "showbackground": true,
            "ticks": "",
            "zerolinecolor": "#C8D4E3"
           },
           "zaxis": {
            "backgroundcolor": "rgb(17,17,17)",
            "gridcolor": "#506784",
            "gridwidth": 2,
            "linecolor": "#506784",
            "showbackground": true,
            "ticks": "",
            "zerolinecolor": "#C8D4E3"
           }
          },
          "shapedefaults": {
           "line": {
            "color": "#f2f5fa"
           }
          },
          "sliderdefaults": {
           "bgcolor": "#C8D4E3",
           "bordercolor": "rgb(17,17,17)",
           "borderwidth": 1,
           "tickwidth": 0
          },
          "ternary": {
           "aaxis": {
            "gridcolor": "#506784",
            "linecolor": "#506784",
            "ticks": ""
           },
           "baxis": {
            "gridcolor": "#506784",
            "linecolor": "#506784",
            "ticks": ""
           },
           "bgcolor": "rgb(17,17,17)",
           "caxis": {
            "gridcolor": "#506784",
            "linecolor": "#506784",
            "ticks": ""
           }
          },
          "title": {
           "x": 0.05
          },
          "updatemenudefaults": {
           "bgcolor": "#506784",
           "borderwidth": 0
          },
          "xaxis": {
           "automargin": true,
           "gridcolor": "#283442",
           "linecolor": "#506784",
           "ticks": "",
           "title": {
            "standoff": 15
           },
           "zerolinecolor": "#283442",
           "zerolinewidth": 2
          },
          "yaxis": {
           "automargin": true,
           "gridcolor": "#283442",
           "linecolor": "#506784",
           "ticks": "",
           "title": {
            "standoff": 15
           },
           "zerolinecolor": "#283442",
           "zerolinewidth": 2
          }
         }
        },
        "title": {
         "font": {
          "size": 16
         },
         "text": "Network of Chase Acquisitions and Mergers"
        },
        "xaxis": {
         "title": {
          "text": "Year of Transformation"
         }
        },
        "yaxis": {
         "showgrid": false,
         "showticklabels": false,
         "zeroline": false
        }
       }
      }
     },
     "metadata": {},
     "output_type": "display_data"
    }
   ],
   "source": [
    "# Create a directed graph\n",
    "G = nx.DiGraph()\n",
    "\n",
    "# Define node positions based on the 'Year'\n",
    "pos = {}\n",
    "year_min = trans_chase_df['Year'].min()\n",
    "year_max = trans_chase_df['Year'].max()\n",
    "y_pos = 0\n",
    "\n",
    "for _, row in trans_chase_df.iterrows():\n",
    "    G.add_node(row['Predecessor_Name'], \n",
    "               year=row['Year'], \n",
    "               trsfm_cd=row['Transformation Code'], \n",
    "               acct_method=row['Accounting Method'])\n",
    "    pos[row['Predecessor_Name']] = (row['Year'], y_pos)\n",
    "    y_pos += 1\n",
    "\n",
    "G.add_node('Chase')\n",
    "pos['Chase'] = (year_max + 1, y_pos / 2)  # Position Chase at the end\n",
    "\n",
    "# Add edges from predecessors to 'Chase'\n",
    "for _, row in trans_chase_df.iterrows():\n",
    "    G.add_edge(row['Predecessor_Name'], row['Successor_Name'])\n",
    "\n",
    "# Create edge trace for plotly\n",
    "edge_x = []\n",
    "edge_y = []\n",
    "for edge in G.edges():\n",
    "    x0, y0 = pos[edge[0]]\n",
    "    x1, y1 = pos[edge[1]]\n",
    "    edge_x.extend([x0, x1, None])\n",
    "    edge_y.extend([y0, y1, None])\n",
    "\n",
    "edge_trace = go.Scatter(\n",
    "    x=edge_x, y=edge_y,\n",
    "    line=dict(width=0.5, color='#888'),\n",
    "    hoverinfo='none',\n",
    "    mode='lines')\n",
    "\n",
    "# Create node trace\n",
    "node_x = [pos[node][0] for node in G.nodes()]\n",
    "node_y = [pos[node][1] for node in G.nodes()]\n",
    "node_text = []\n",
    "for node in G.nodes():\n",
    "    year = G.nodes[node].get('year', 'N/A')\n",
    "    trsfm_cd = G.nodes[node].get('trsfm_cd', 'N/A')\n",
    "    acct_method = G.nodes[node].get('acct_method', 'N/A')\n",
    "    notes = trans_chase_df.loc[trans_chase_df['Predecessor_Name'] == node, 'Notes'].values[0] if node in trans_chase_df['Predecessor_Name'].values else 'N/A'\n",
    "    node_info = f'{node}<br>Year: {year}<br>Transformation Code: {trsfm_cd}<br>Accounting Method: {acct_method}<br>Notes: {notes}'\n",
    "    node_text.append(node_info)\n",
    "\n",
    "node_trace = go.Scatter(\n",
    "    x=node_x, y=node_y,\n",
    "    mode='markers',\n",
    "    hoverinfo='text',\n",
    "    text=node_text,\n",
    "    marker=dict(\n",
    "        size=10,\n",
    "        line_width=2,color='#0D5EAF'))\n",
    "\n",
    "# Create the figure for plotting\n",
    "fig_chase = go.Figure(data=[edge_trace, node_trace],\n",
    "             layout=go.Layout(\n",
    "                title='Network of Chase Acquisitions and Mergers',\n",
    "                titlefont_size=16,\n",
    "                showlegend=False,\n",
    "                hovermode='y unified',\n",
    "                xaxis=dict(title='Year of Transformation'),\n",
    "                yaxis=dict(showgrid=False, zeroline=False, showticklabels=False),\n",
    "                margin=dict(b=20,l=5,r=5,t=40)) # Set margins to add a title and adjust the plot size. 'b' is the bottom margin, 'l' is the left margin, 'r' is the right margin, and 't' is the top margin.\n",
    "                )\n",
    "\n",
    "# Manually add annotations for historical events\n",
    "annotations = [\n",
    "    #{'year': 1969, 'text': '1969: Chemical Bank New <br>York Trust Company<br> changed to the new<br> name Chemical Bank.', 'y': 10},\n",
    "    {'year': 1996, 'text': '1996: Chemical Bank changed<br> to the new name<br> Chase Manhattan Bank', 'y': 15},\n",
    "    {'year': 2001, 'text': '2001: Chase Manhattan Bank <br>changed to the new <br>name JP Morgan Chase.', 'y': 45},\n",
    "    # Add more annotations as needed\n",
    "]\n",
    "\n",
    "for annotation in annotations:\n",
    "    fig_chase.add_annotation(\n",
    "        x=annotation['year'],\n",
    "        y=annotation['y'],\n",
    "        text=annotation['text'],\n",
    "        showarrow=True,\n",
    "        arrowhead=2,\n",
    "        ax=-40,  # Adjust the x offset of the arrow\n",
    "        ay=0,  # Adjust the y offset of the arrow\n",
    "        font={'color': '#ffffff'},\n",
    "        arrowcolor='#ffffff'\n",
    "    )\n",
    "\n",
    "for annotation in annotations:\n",
    "    # Add vertical line\n",
    "    fig_chase.add_shape(\n",
    "        type=\"line\",\n",
    "        x0=annotation['year'],\n",
    "        y0=0,\n",
    "        x1=annotation['year'],\n",
    "        y1=max(node_y),\n",
    "        line=dict(color=\"#ffffff\", width=1, dash=\"dot\")\n",
    "    )\n",
    "\n",
    "#Add dark theme\n",
    "fig_chase.update_layout(template='plotly_dark')\n",
    "\n",
    "fig_chase.show()"
   ]
  },
  {
   "cell_type": "markdown",
   "metadata": {},
   "source": [
    "### 3b) Network plot for Bank of America <a id=\"10\"></a>"
   ]
  },
  {
   "cell_type": "code",
   "execution_count": 52,
   "metadata": {},
   "outputs": [
    {
     "data": {
      "application/vnd.plotly.v1+json": {
       "config": {
        "plotlyServerURL": "https://plotly.com"
       },
       "data": [
        {
         "hoverinfo": "none",
         "line": {
          "color": "#888",
          "width": 0.5
         },
         "mode": "lines",
         "type": "scatter",
         "x": [
          2020,
          2021,
          null,
          2014,
          2021,
          null,
          2013,
          2021,
          null,
          2013,
          2021,
          null,
          2011,
          2021,
          null,
          2011,
          2021,
          null,
          2010,
          2021,
          null,
          2009,
          2021,
          null,
          2009,
          2021,
          null,
          2009,
          2021,
          null,
          2008,
          2021,
          null,
          2008,
          2021,
          null,
          2008,
          2021,
          null,
          2008,
          2021,
          null,
          2008,
          2021,
          null,
          2006,
          2021,
          null,
          2005,
          2021,
          null,
          2004,
          2021,
          null,
          2003,
          2021,
          null,
          2003,
          2021,
          null,
          2003,
          2021,
          null,
          2003,
          2021,
          null,
          2003,
          2021,
          null,
          2001,
          2021,
          null,
          1999,
          2021,
          null,
          1999,
          2021,
          null,
          1999,
          2021,
          null,
          1998,
          2021,
          null,
          1998,
          2021,
          null,
          1998,
          2021,
          null,
          1998,
          2021,
          null,
          1998,
          2021,
          null,
          1998,
          2021,
          null,
          1998,
          2021,
          null,
          1998,
          2021,
          null,
          1998,
          2021,
          null,
          1998,
          2021,
          null,
          1998,
          2021,
          null,
          1998,
          2021,
          null,
          1997,
          2021,
          null,
          1997,
          2021,
          null,
          1997,
          2021,
          null,
          1997,
          2021,
          null,
          1997,
          2021,
          null,
          1997,
          2021,
          null,
          1997,
          2021,
          null,
          1997,
          2021,
          null,
          1997,
          2021,
          null,
          1997,
          2021,
          null,
          1997,
          2021,
          null,
          1997,
          2021,
          null,
          1997,
          2021,
          null,
          1997,
          2021,
          null,
          1997,
          2021,
          null,
          1997,
          2021,
          null,
          1997,
          2021,
          null,
          1997,
          2021,
          null,
          1997,
          2021,
          null,
          1997,
          2021,
          null,
          1997,
          2021,
          null,
          1997,
          2021,
          null,
          1997,
          2021,
          null,
          1997,
          2021,
          null,
          1997,
          2021,
          null,
          1997,
          2021,
          null,
          1997,
          2021,
          null,
          1997,
          2021,
          null,
          1997,
          2021,
          null,
          1997,
          2021,
          null,
          1997,
          2021,
          null,
          1997,
          2021,
          null,
          1997,
          2021,
          null,
          1997,
          2021,
          null,
          1997,
          2021,
          null,
          1997,
          2021,
          null,
          1997,
          2021,
          null,
          1997,
          2021,
          null,
          1997,
          2021,
          null,
          1997,
          2021,
          null,
          1997,
          2021,
          null,
          1997,
          2021,
          null,
          1997,
          2021,
          null,
          1997,
          2021,
          null,
          1997,
          2021,
          null,
          1997,
          2021,
          null,
          1997,
          2021,
          null,
          1997,
          2021,
          null,
          1997,
          2021,
          null,
          1997,
          2021,
          null,
          1997,
          2021,
          null,
          1996,
          2021,
          null,
          1995,
          2021,
          null,
          1995,
          2021,
          null,
          1993,
          2021,
          null,
          1990,
          2021,
          null,
          1989,
          2021,
          null,
          1982,
          2021,
          null,
          1981,
          2021,
          null,
          1979,
          2021,
          null,
          1974,
          2021,
          null,
          1973,
          2021,
          null,
          1972,
          2021,
          null,
          1972,
          2021,
          null,
          1972,
          2021,
          null,
          1972,
          2021,
          null,
          1971,
          2021,
          null,
          1970,
          2021,
          null,
          1970,
          2021,
          null,
          1969,
          2021,
          null,
          1967,
          2021,
          null,
          1965,
          2021,
          null,
          1963,
          2021,
          null,
          1962,
          2021,
          null,
          1962,
          2021,
          null,
          1961,
          2021,
          null,
          1960,
          2021,
          null,
          1960,
          2021,
          null
         ],
         "y": [
          0,
          58.5,
          null,
          1,
          58.5,
          null,
          2,
          58.5,
          null,
          3,
          58.5,
          null,
          4,
          58.5,
          null,
          5,
          58.5,
          null,
          6,
          58.5,
          null,
          7,
          58.5,
          null,
          8,
          58.5,
          null,
          9,
          58.5,
          null,
          10,
          58.5,
          null,
          11,
          58.5,
          null,
          12,
          58.5,
          null,
          13,
          58.5,
          null,
          14,
          58.5,
          null,
          15,
          58.5,
          null,
          16,
          58.5,
          null,
          17,
          58.5,
          null,
          18,
          58.5,
          null,
          19,
          58.5,
          null,
          20,
          58.5,
          null,
          21,
          58.5,
          null,
          22,
          58.5,
          null,
          23,
          58.5,
          null,
          24,
          58.5,
          null,
          25,
          58.5,
          null,
          26,
          58.5,
          null,
          27,
          58.5,
          null,
          28,
          58.5,
          null,
          29,
          58.5,
          null,
          30,
          58.5,
          null,
          31,
          58.5,
          null,
          32,
          58.5,
          null,
          33,
          58.5,
          null,
          34,
          58.5,
          null,
          35,
          58.5,
          null,
          36,
          58.5,
          null,
          37,
          58.5,
          null,
          38,
          58.5,
          null,
          39,
          58.5,
          null,
          40,
          58.5,
          null,
          41,
          58.5,
          null,
          42,
          58.5,
          null,
          43,
          58.5,
          null,
          44,
          58.5,
          null,
          45,
          58.5,
          null,
          46,
          58.5,
          null,
          47,
          58.5,
          null,
          48,
          58.5,
          null,
          49,
          58.5,
          null,
          50,
          58.5,
          null,
          51,
          58.5,
          null,
          52,
          58.5,
          null,
          53,
          58.5,
          null,
          54,
          58.5,
          null,
          55,
          58.5,
          null,
          56,
          58.5,
          null,
          57,
          58.5,
          null,
          58,
          58.5,
          null,
          59,
          58.5,
          null,
          60,
          58.5,
          null,
          61,
          58.5,
          null,
          62,
          58.5,
          null,
          63,
          58.5,
          null,
          64,
          58.5,
          null,
          65,
          58.5,
          null,
          66,
          58.5,
          null,
          67,
          58.5,
          null,
          68,
          58.5,
          null,
          69,
          58.5,
          null,
          70,
          58.5,
          null,
          71,
          58.5,
          null,
          72,
          58.5,
          null,
          73,
          58.5,
          null,
          74,
          58.5,
          null,
          75,
          58.5,
          null,
          76,
          58.5,
          null,
          77,
          58.5,
          null,
          78,
          58.5,
          null,
          79,
          58.5,
          null,
          80,
          58.5,
          null,
          81,
          58.5,
          null,
          82,
          58.5,
          null,
          83,
          58.5,
          null,
          84,
          58.5,
          null,
          85,
          58.5,
          null,
          86,
          58.5,
          null,
          87,
          58.5,
          null,
          88,
          58.5,
          null,
          89,
          58.5,
          null,
          90,
          58.5,
          null,
          91,
          58.5,
          null,
          92,
          58.5,
          null,
          93,
          58.5,
          null,
          94,
          58.5,
          null,
          95,
          58.5,
          null,
          96,
          58.5,
          null,
          97,
          58.5,
          null,
          98,
          58.5,
          null,
          99,
          58.5,
          null,
          100,
          58.5,
          null,
          101,
          58.5,
          null,
          102,
          58.5,
          null,
          103,
          58.5,
          null,
          104,
          58.5,
          null,
          105,
          58.5,
          null,
          106,
          58.5,
          null,
          107,
          58.5,
          null,
          108,
          58.5,
          null,
          109,
          58.5,
          null,
          110,
          58.5,
          null,
          111,
          58.5,
          null,
          112,
          58.5,
          null,
          113,
          58.5,
          null,
          114,
          58.5,
          null,
          115,
          58.5,
          null,
          116,
          58.5,
          null
         ]
        },
        {
         "hoverinfo": "text",
         "marker": {
          "color": "#CB0D1F",
          "line": {
           "width": 2
          },
          "size": 10
         },
         "mode": "markers",
         "text": [
          "RECONTRUST COMPANY, NATIONAL ASSOCIATION<br>Year: 2020<br>Transformation Code: Charter Discontinued<br>Accounting Method: Merger<br>Notes: RECONTRUST COMPANY, NATIONAL ASSOCIATION transferred its assets to one or more institutions including BANK OF AMERICA, NATIONAL ASSOCIATION. ",
          "FIA CARD SERVICES, NATIONAL ASSOCIATION                                                                                 <br>Year: 2014<br>Transformation Code: Charter Discontinued<br>Accounting Method: Merger<br>Notes: FIA CARD SERVICES, NATIONAL ASSOCIATION transferred its assets to one or more institutions including BANK OF AMERICA, NATIONAL ASSOCIATION. ",
          "BANK OF AMERICA OREGON, NATIONAL ASSOCIATION                                                                            <br>Year: 2013<br>Transformation Code: Charter Discontinued<br>Accounting Method: Merger<br>Notes: BANK OF AMERICA OREGON, NATIONAL ASSOCIATION transferred its assets to one or more institutions including BANK OF AMERICA, NATIONAL ASSOCIATION. ",
          "BANK OF AMERICA RHODE ISLAND, NATIONAL ASSOCIATION                                                                      <br>Year: 2013<br>Transformation Code: Charter Discontinued<br>Accounting Method: Merger<br>Notes: BANK OF AMERICA RHODE ISLAND, NATIONAL ASSOCIATION transferred its assets to one or more institutions including BANK OF AMERICA, NATIONAL ASSOCIATION. ",
          "MERRILL LYNCH CREDIT CORPORATION                                                                                        <br>Year: 2011<br>Transformation Code: Charter Discontinued<br>Accounting Method: Merger<br>Notes: MERRILL LYNCH CREDIT CORPORATION transferred its assets to one or more institutions including BANK OF AMERICA, NATIONAL ASSOCIATION. ",
          "BAC HOME LOANS SERVICING, LP                                                                                            <br>Year: 2011<br>Transformation Code: Charter Discontinued<br>Accounting Method: Merger<br>Notes: BAC HOME LOANS SERVICING, LP transferred its assets to one or more institutions including BANK OF AMERICA, NATIONAL ASSOCIATION. ",
          "MERRILL LYNCH COMMERCIAL FINANCE CORP.                                                                                  <br>Year: 2010<br>Transformation Code: Charter Discontinued<br>Accounting Method: Merger<br>Notes: MERRILL LYNCH COMMERCIAL FINANCE CORP. transferred its assets to one or more institutions including BANK OF AMERICA, NATIONAL ASSOCIATION. ",
          "MERRILL LYNCH BANK & TRUST CO., FSB<br>Year: 2009<br>Transformation Code: Charter Discontinued<br>Accounting Method: Merger<br>Notes: MERRILL LYNCH BANK & TRUST CO., FSB transferred its assets to one or more institutions including BANK OF AMERICA, NATIONAL ASSOCIATION. ",
          "MERRILL LYNCH BANK USA                                                                                                  <br>Year: 2009<br>Transformation Code: Charter Discontinued<br>Accounting Method: Merger<br>Notes: MERRILL LYNCH BANK USA transferred its assets to one or more institutions including BANK OF AMERICA, NATIONAL ASSOCIATION. ",
          "COUNTRYWIDE BANK, FSB<br>Year: 2009<br>Transformation Code: Charter Discontinued<br>Accounting Method: Merger<br>Notes: COUNTRYWIDE BANK, FSB transferred its assets to one or more institutions including BANK OF AMERICA, NATIONAL ASSOCIATION. ",
          "LASALLE BANK MIDWEST NATIONAL ASSOCIATION <br>Year: 2008<br>Transformation Code: Charter Discontinued<br>Accounting Method: Merger<br>Notes: LASALLE BANK MIDWEST NATIONAL ASSOCIATION transferred its assets to one or more institutions including BANK OF AMERICA, NATIONAL ASSOCIATION. ",
          "LASALLE BANK NATIONAL ASSOCIATION<br>Year: 2008<br>Transformation Code: Charter Discontinued<br>Accounting Method: Merger<br>Notes: LASALLE BANK NATIONAL ASSOCIATION transferred its assets to one or more institutions including BANK OF AMERICA, NATIONAL ASSOCIATION. ",
          "BANK OF AMERICA GEORGIA, NATIONAL ASSOCIATION                                                                           <br>Year: 2008<br>Transformation Code: Charter Discontinued<br>Accounting Method: Merger<br>Notes: BANK OF AMERICA GEORGIA, NATIONAL ASSOCIATION transferred its assets to one or more institutions including BANK OF AMERICA, NATIONAL ASSOCIATION. ",
          "USTRUST TECHNOLOGY AND SUPPORT SERVICES, INC.                                                                           <br>Year: 2008<br>Transformation Code: Charter Discontinued<br>Accounting Method: Merger<br>Notes: USTRUST TECHNOLOGY AND SUPPORT SERVICES, INC. transferred its assets to one or more institutions including BANK OF AMERICA, NATIONAL ASSOCIATION. ",
          "UNITED STATES TRUST COMPANY, NATIONAL ASSOCIATION<br>Year: 2008<br>Transformation Code: Charter Discontinued<br>Accounting Method: Merger<br>Notes: UNITED STATES TRUST COMPANY, NATIONAL ASSOCIATION transferred its assets to one or more institutions including BANK OF AMERICA, NATIONAL ASSOCIATION. ",
          "MBNA<br>Year: 2006<br>Transformation Code: Charter Discontinued<br>Accounting Method: Merger<br>Notes: MBNA AMERICA (DELAWARE), N.A. transferred its assets to one or more institutions including BANK OF AMERICA, NATIONAL ASSOCIATION.",
          "FLEETBOSTON FINANCIAL<br>Year: 2005<br>Transformation Code: Charter Discontinued<br>Accounting Method: Purchase/Acquisition<br>Notes: FLEETBOSTON FINANCIAL transferred its assets to one or more institutions including BANK OF AMERICA, NATIONAL ASSOCIATION.",
          "BANK OF AMERICA TECHNOLOGY AND OPERATIONS, INC.                                                                         <br>Year: 2004<br>Transformation Code: Charter Discontinued<br>Accounting Method: Merger<br>Notes: BANK OF AMERICA TECHNOLOGY AND OPERATIONS, INC. transferred its assets to one or more institutions including BANK OF AMERICA, NATIONAL ASSOCIATION. ",
          "FLEETWOOD CREDIT CORP.                                                                                                  <br>Year: 2003<br>Transformation Code: Charter Discontinued<br>Accounting Method: Merger<br>Notes: FLEETWOOD CREDIT CORP. transferred its assets to one or more institutions including BANK OF AMERICA, NATIONAL ASSOCIATION. ",
          "BANC OF AMERICA SPECIALITY FINANCE, INC.                                                                                <br>Year: 2003<br>Transformation Code: Charter Discontinued<br>Accounting Method: Merger<br>Notes: BANC OF AMERICA SPECIALITY FINANCE, INC. transferred its assets to one or more institutions including BANK OF AMERICA, NATIONAL ASSOCIATION. ",
          "SEA RAY CREDIT CORPORATION                                                                                              <br>Year: 2003<br>Transformation Code: Charter Discontinued<br>Accounting Method: Merger<br>Notes: SEA RAY CREDIT CORPORATION transferred its assets to one or more institutions including BANK OF AMERICA, NATIONAL ASSOCIATION. ",
          "WINNEBAGO ACCEPTANCE CORPORATION                                                                                        <br>Year: 2003<br>Transformation Code: Charter Discontinued<br>Accounting Method: Merger<br>Notes: WINNEBAGO ACCEPTANCE CORPORATION transferred its assets to one or more institutions including BANK OF AMERICA, NATIONAL ASSOCIATION. ",
          "BA MORTGAGE, LLC                                                                                                        <br>Year: 2003<br>Transformation Code: Charter Discontinued<br>Accounting Method: Merger<br>Notes: BA MORTGAGE, LLC transferred its assets to one or more institutions including BANK OF AMERICA, NATIONAL ASSOCIATION. ",
          "NATIONSBANK TRUST COMPANY OF NEW YORK                                                                                   <br>Year: 2001<br>Transformation Code: Charter Discontinued<br>Accounting Method: Merger<br>Notes: NATIONSBANK TRUST COMPANY OF NEW YORK transferred its assets to one or more institutions including BANK OF AMERICA, NATIONAL ASSOCIATION. ",
          "BANK OF AMERICA, FSB <br>Year: 1999<br>Transformation Code: Charter Discontinued<br>Accounting Method: Merger<br>Notes: BANK OF AMERICA, FSB transferred its assets to one or more institutions including BANK OF AMERICA, NATIONAL ASSOCIATION. ",
          "BANK OF AMERICA NATIONAL TRUST AND SAVINGS ASSOCIATION<br>Year: 1999<br>Transformation Code: Charter Discontinued<br>Accounting Method: Merger<br>Notes: BANK OF AMERICA NATIONAL TRUST AND SAVINGS ASSOCIATION transferred its assets to one or more institutions including BANK OF AMERICA, NATIONAL ASSOCIATION. ",
          "BANK OF AMERICA TEXAS, N.A.<br>Year: 1999<br>Transformation Code: Charter Discontinued<br>Accounting Method: Merger<br>Notes: BANK OF AMERICA TEXAS, N.A. transferred its assets to one or more institutions including NATIONSBANK, N.A.. ",
          "NATIONSBANK OF TENNESSEE, N.A.<br>Year: 1998<br>Transformation Code: Charter Discontinued<br>Accounting Method: Merger<br>Notes: NATIONSBANK OF TENNESSEE, N.A. transferred its assets to one or more institutions including NATIONSBANK, N.A.. ",
          "BARNETT BANK, NATIONAL ASSOCIATION<br>Year: 1998<br>Transformation Code: Charter Discontinued<br>Accounting Method: Merger<br>Notes: BARNETT BANK, NATIONAL ASSOCIATION transferred its assets to one or more institutions including NATIONSBANK, N.A.. ",
          "COMMUNITY BANK OF THE ISLANDS <br>Year: 1998<br>Transformation Code: Charter Discontinued<br>Accounting Method: Merger<br>Notes: COMMUNITY BANK OF THE ISLANDS transferred its assets to one or more institutions including NATIONSBANK, N.A.. ",
          "NATIONSBANK, NATIONAL ASSOCIATION (GLYNN COUNTY)<br>Year: 1998<br>Transformation Code: Charter Discontinued<br>Accounting Method: Merger<br>Notes: NATIONSBANK, NATIONAL ASSOCIATION (GLYNN COUNTY) transferred its assets to one or more institutions including NATIONSBANK, N.A.. ",
          "SUNWEST BANK OF EL PASO, NATIONAL ASSOCIATION<br>Year: 1998<br>Transformation Code: Charter Discontinued<br>Accounting Method: Merger<br>Notes: SUNWEST BANK OF EL PASO, NATIONAL ASSOCIATION transferred its assets to one or more institutions including NATIONSBANK, N.A.. ",
          "BOATMEN'S NATIONAL BANK OF AUSTIN <br>Year: 1998<br>Transformation Code: Charter Discontinued<br>Accounting Method: Merger<br>Notes: BOATMEN'S NATIONAL BANK OF AUSTIN transferred its assets to one or more institutions including NATIONSBANK, N.A.. ",
          "NATIONSBANK OF TEXAS, N.A.<br>Year: 1998<br>Transformation Code: Charter Discontinued<br>Accounting Method: Merger<br>Notes: NATIONSBANK OF TEXAS, N.A. transferred its assets to one or more institutions including NATIONSBANK, N.A.. ",
          "BOATMEN'S TRUST COMPANY OF ARKANSAS                                                                                     <br>Year: 1998<br>Transformation Code: Charter Discontinued<br>Accounting Method: Merger<br>Notes: BOATMEN'S TRUST COMPANY OF ARKANSAS transferred its assets to one or more institutions including NATIONSBANK, N.A.. ",
          "BOATMENS TRUST COMPANY                                                                                                  <br>Year: 1998<br>Transformation Code: Charter Discontinued<br>Accounting Method: Merger<br>Notes: BOATMENS TRUST COMPANY transferred its assets to one or more institutions including NATIONSBANK, N.A.. ",
          "BOATMEN'S TRUST COMPANY, AN OKLAHOMA TRUST COMPANY                                                                      <br>Year: 1998<br>Transformation Code: Charter Discontinued<br>Accounting Method: Merger<br>Notes: BOATMEN'S TRUST COMPANY, AN OKLAHOMA TRUST COMPANY transferred its assets to one or more institutions including NATIONSBANK, N.A.. ",
          "BOATMEN'S TRUST COMPANY OF ILLINOIS                                                                                     <br>Year: 1998<br>Transformation Code: Charter Discontinued<br>Accounting Method: Merger<br>Notes: BOATMEN'S TRUST COMPANY OF ILLINOIS transferred its assets to one or more institutions including NATIONSBANK, N.A.. ",
          "SUN WORLD, N.A<br>Year: 1998<br>Transformation Code: Charter Discontinued<br>Accounting Method: Merger<br>Notes: SUN WORLD, N.A. transferred its assets to one or more institutions including NATIONSBANK, N.A.. ",
          "BOATMEN'S TRUST COMPANY OF KANSAS<br>Year: 1997<br>Transformation Code: Charter Discontinued<br>Accounting Method: Merger<br>Notes: BOATMEN'S TRUST COMPANY OF KANSAS transferred its assets to one or more institutions including NATIONSBANK, N.A.. ",
          "BOATMEN'S NATIONAL BANK OF PINE BLUFF<br>Year: 1997<br>Transformation Code: Charter Discontinued<br>Accounting Method: Merger<br>Notes: BOATMEN'S NATIONAL BANK OF PINE BLUFF transferred its assets to one or more institutions including NATIONSBANK, N.A.. ",
          "SUNWEST BANK OF RATON, NATIONAL ASSOCIATION<br>Year: 1997<br>Transformation Code: Charter Discontinued<br>Accounting Method: Merger<br>Notes: SUNWEST BANK OF RATON, NATIONAL ASSOCIATION transferred its assets to one or more institutions including NATIONSBANK, N.A.. ",
          "SUNWEST BANK OF SANTA FE <br>Year: 1997<br>Transformation Code: Charter Discontinued<br>Accounting Method: Merger<br>Notes: SUNWEST BANK OF SANTA FE transferred its assets to one or more institutions including NATIONSBANK, N.A.. ",
          "SUNWEST BANK OF LAS CRUCES, NATIONAL ASSOCIATION<br>Year: 1997<br>Transformation Code: Charter Discontinued<br>Accounting Method: Merger<br>Notes: SUNWEST BANK OF LAS CRUCES, NATIONAL ASSOCIATION transferred its assets to one or more institutions including NATIONSBANK, N.A.. ",
          "BOATMEN'S BANK OF NORTHEAST ARKANSAS<br>Year: 1997<br>Transformation Code: Charter Discontinued<br>Accounting Method: Merger<br>Notes: BOATMEN'S BANK OF NORTHEAST ARKANSAS transferred its assets to one or more institutions including NATIONSBANK, N.A.. ",
          "SUNWEST BANK OF ALBUQUERQUE, NATIONAL ASSOCIATION<br>Year: 1997<br>Transformation Code: Charter Discontinued<br>Accounting Method: Merger<br>Notes: SUNWEST BANK OF ALBUQUERQUE, NATIONAL ASSOCIATION transferred its assets to one or more institutions including NATIONSBANK, N.A.. ",
          "BOATMEN'S NATIONAL BANK OF NORTH CENTRAL ARKANSAS<br>Year: 1997<br>Transformation Code: Charter Discontinued<br>Accounting Method: Merger<br>Notes: BOATMEN'S NATIONAL BANK OF NORTH CENTRAL ARKANSAS transferred its assets to one or more institutions including NATIONSBANK, N.A.. ",
          "BOATMEN'S NATIONAL BANK OF CONWAY<br>Year: 1997<br>Transformation Code: Charter Discontinued<br>Accounting Method: Merger<br>Notes: BOATMEN'S NATIONAL BANK OF CONWAY transferred its assets to one or more institutions including NATIONSBANK, N.A.. ",
          "BOATMEN'S NATIONAL BANK OF HOT SPRINGS<br>Year: 1997<br>Transformation Code: Charter Discontinued<br>Accounting Method: Merger<br>Notes: BOATMEN'S NATIONAL BANK OF HOT SPRINGS transferred its assets to one or more institutions including NATIONSBANK, N.A.. ",
          "SUNWEST BANK OF ROSWELL, NATIONAL ASSOCIATION<br>Year: 1997<br>Transformation Code: Charter Discontinued<br>Accounting Method: Merger<br>Notes: SUNWEST BANK OF ROSWELL, NATIONAL ASSOCIATION transferred its assets to one or more institutions including NATIONSBANK, N.A.. ",
          "BOATMEN'S NATIONAL BANK OF SOUTH ARKANSAS<br>Year: 1997<br>Transformation Code: Charter Discontinued<br>Accounting Method: Merger<br>Notes: BOATMEN'S NATIONAL BANK OF SOUTH ARKANSAS transferred its assets to one or more institutions including NATIONSBANK, N.A.. ",
          "BOATMEN'S NATIONAL BANK OF NEWARK <br>Year: 1997<br>Transformation Code: Charter Discontinued<br>Accounting Method: Merger<br>Notes: BOATMEN'S NATIONAL BANK OF NEWARK transferred its assets to one or more institutions including NATIONSBANK, N.A.. ",
          "SUNWEST BANK OF RIO ARRIBA NATIONAL ASSOCIATION<br>Year: 1997<br>Transformation Code: Charter Discontinued<br>Accounting Method: Merger<br>Notes: SUNWEST BANK OF RIO ARRIBA NATIONAL ASSOCIATION transferred its assets to one or more institutions including NATIONSBANK, N.A.. ",
          "BOATMEN'S NATIONAL BANK OF NORTHWEST IOWA<br>Year: 1997<br>Transformation Code: Charter Discontinued<br>Accounting Method: Merger<br>Notes: BOATMEN'S NATIONAL BANK OF NORTHWEST IOWA transferred its assets to one or more institutions including NATIONSBANK, N.A.. ",
          "SUNWEST BANK OF CLOVIS, NATIONAL ASSOCIATION<br>Year: 1997<br>Transformation Code: Charter Discontinued<br>Accounting Method: Merger<br>Notes: SUNWEST BANK OF CLOVIS, NATIONAL ASSOCIATION transferred its assets to one or more institutions including NATIONSBANK, N.A.. ",
          "BOATMEN'S BANK OF FORT DODGE<br>Year: 1997<br>Transformation Code: Charter Discontinued<br>Accounting Method: Merger<br>Notes: BOATMEN'S BANK OF FORT DODGE transferred its assets to one or more institutions including NATIONSBANK, N.A.. ",
          "BOATMEN'S BANK OF NORTH IOWA<br>Year: 1997<br>Transformation Code: Charter Discontinued<br>Accounting Method: Merger<br>Notes: BOATMEN'S BANK OF NORTH IOWA transferred its assets to one or more institutions including NATIONSBANK, N.A.. ",
          "SUNWEST BANK OF GALLUP<br>Year: 1997<br>Transformation Code: Charter Discontinued<br>Accounting Method: Merger<br>Notes: SUNWEST BANK OF GALLUP transferred its assets to one or more institutions including NATIONSBANK, N.A.. ",
          "SUNWEST BANK OF HOBBS, NATIONAL ASSOCIATION<br>Year: 1997<br>Transformation Code: Charter Discontinued<br>Accounting Method: Merger<br>Notes: SUNWEST BANK OF HOBBS, NATIONAL ASSOCIATION transferred its assets to one or more institutions including NATIONSBANK, N.A.. ",
          "BOATMEN'S BANK IOWA, NATIONAL ASSOCIATION<br>Year: 1997<br>Transformation Code: Charter Discontinued<br>Accounting Method: Merger<br>Notes: BOATMEN'S BANK IOWA, NATIONAL ASSOCIATION transferred its assets to one or more institutions including NATIONSBANK, N.A.. ",
          "BOATMEN'S NATIONAL BANK OF ARKANSAS <br>Year: 1997<br>Transformation Code: Charter Discontinued<br>Accounting Method: Merger<br>Notes: BOATMEN'S NATIONAL BANK OF ARKANSAS transferred its assets to one or more institutions including NATIONSBANK, N.A.. ",
          "BOATMEN'S NATIONAL BANK OF BATESVILLE<br>Year: 1997<br>Transformation Code: Charter Discontinued<br>Accounting Method: Merger<br>Notes: BOATMEN'S NATIONAL BANK OF BATESVILLE transferred its assets to one or more institutions including NATIONSBANK, N.A.. ",
          "BOATMEN'S NATIONAL BANK OF RUSSELLVILLE<br>Year: 1997<br>Transformation Code: Charter Discontinued<br>Accounting Method: Merger<br>Notes: BOATMEN'S NATIONAL BANK OF RUSSELLVILLE transferred its assets to one or more institutions including NATIONSBANK, N.A.. ",
          "BOATMEN'S NATIONAL BANK OF NORTHWEST ARKANSAS<br>Year: 1997<br>Transformation Code: Charter Discontinued<br>Accounting Method: Merger<br>Notes: BOATMEN'S NATIONAL BANK OF NORTHWEST ARKANSAS transferred its assets to one or more institutions including NATIONSBANK, N.A.. ",
          "SUNWEST BANK OF FARMINGTON<br>Year: 1997<br>Transformation Code: Charter Discontinued<br>Accounting Method: Merger<br>Notes: SUNWEST BANK OF FARMINGTON transferred its assets to one or more institutions including NATIONSBANK, N.A.. ",
          "SUNWEST BANK OF GRANT COUNTY<br>Year: 1997<br>Transformation Code: Charter Discontinued<br>Accounting Method: Merger<br>Notes: SUNWEST BANK OF GRANT COUNTY transferred its assets to one or more institutions including NATIONSBANK, N.A.. ",
          "BOATMENS NATIONAL BANK OF OKLAHOMA<br>Year: 1997<br>Transformation Code: Charter Discontinued<br>Accounting Method: Merger<br>Notes: BOATMENS NATIONAL BANK OF OKLAHOMA transferred its assets to one or more institutions including NATIONSBANK, N.A.. ",
          "BOATMEN'S BANK OF SOUTHERN MISSOURI<br>Year: 1997<br>Transformation Code: Charter Discontinued<br>Accounting Method: Merger<br>Notes: BOATMEN'S BANK OF SOUTHERN MISSOURI transferred its assets to one or more institutions including NATIONSBANK, N.A.. ",
          "BOATMEN'S OSAGE BANK<br>Year: 1997<br>Transformation Code: Charter Discontinued<br>Accounting Method: Merger<br>Notes: BOATMEN'S OSAGE BANK transferred its assets to one or more institutions including NATIONSBANK, N.A.. ",
          "BOATMEN'S BANK OF TROY<br>Year: 1997<br>Transformation Code: Charter Discontinued<br>Accounting Method: Merger<br>Notes: BOATMEN'S BANK OF TROY transferred its assets to one or more institutions including NATIONSBANK, N.A.. ",
          "BOATMEN'S BANK OF PULASKI COUNTY<br>Year: 1997<br>Transformation Code: Charter Discontinued<br>Accounting Method: Merger<br>Notes: BOATMEN'S BANK OF PULASKI COUNTY transferred its assets to one or more institutions including NATIONSBANK, N.A.. ",
          "BOATMEN'S BANK OF QUINCY<br>Year: 1997<br>Transformation Code: Charter Discontinued<br>Accounting Method: Merger<br>Notes: BOATMEN'S BANK OF QUINCY transferred its assets to one or more institutions including NATIONSBANK, N.A.. ",
          "BOATMEN'S NATIONAL BANK OF ST. LOUIS<br>Year: 1997<br>Transformation Code: Charter Discontinued<br>Accounting Method: Merger<br>Notes: BOATMEN'S NATIONAL BANK OF ST. LOUIS, THE transferred its assets to one or more institutions including NATIONSBANK, N.A.. ",
          "BOATMEN'S NATIONAL BANK OF CAPE GIRARDEAU<br>Year: 1997<br>Transformation Code: Charter Discontinued<br>Accounting Method: Merger<br>Notes: BOATMEN'S NATIONAL BANK OF CAPE GIRARDEAU transferred its assets to one or more institutions including NATIONSBANK, N.A.. ",
          "BOATMEN'S FIRST NATIONAL BANK OF WEST PLAINS<br>Year: 1997<br>Transformation Code: Charter Discontinued<br>Accounting Method: Merger<br>Notes: BOATMEN'S FIRST NATIONAL BANK OF WEST PLAINS transferred its assets to one or more institutions including NATIONSBANK, N.A.. ",
          "BOATMEN'S BANK OF SOUTH CENTRAL ILLINOIS<br>Year: 1997<br>Transformation Code: Charter Discontinued<br>Accounting Method: Merger<br>Notes: BOATMEN'S BANK OF SOUTH CENTRAL ILLINOIS transferred its assets to one or more institutions including NATIONSBANK, N.A.. ",
          "BOATMEN'S BANK OF MID MISSOURI<br>Year: 1997<br>Transformation Code: Charter Discontinued<br>Accounting Method: Merger<br>Notes: BOATMEN'S BANK OF MID MISSOURI transferred its assets to one or more institutions including NATIONSBANK, N.A.. ",
          "BOATMEN'S NATIONAL BANK OF COLES COUNTY<br>Year: 1997<br>Transformation Code: Charter Discontinued<br>Accounting Method: Merger<br>Notes: BOATMEN'S NATIONAL BANK OF COLES COUNTY transferred its assets to one or more institutions including NATIONSBANK, N.A.. ",
          "BOATMENS BANK ROLLA <br>Year: 1997<br>Transformation Code: Charter Discontinued<br>Accounting Method: Merger<br>Notes: BOATMENS BANK ROLLA transferred its assets to one or more institutions including NATIONSBANK, N.A.. ",
          "BOATMEN'S NATIONAL BANK OF LEBANON <br>Year: 1997<br>Transformation Code: Charter Discontinued<br>Accounting Method: Merger<br>Notes: BOATMEN'S NATIONAL BANK OF LEBANON transferred its assets to one or more institutions including NATIONSBANK, N.A.. ",
          "BOATMEN'S NATIONAL BANK OF CENTRAL ILLINOIS<br>Year: 1997<br>Transformation Code: Charter Discontinued<br>Accounting Method: Merger<br>Notes: BOATMEN'S NATIONAL BANK OF CENTRAL ILLINOIS transferred its assets to one or more institutions including NATIONSBANK, N.A.. ",
          "BOATMEN'S BANK OF MARSHALL <br>Year: 1997<br>Transformation Code: Charter Discontinued<br>Accounting Method: Merger<br>Notes: BOATMEN'S BANK OF MARSHALL transferred its assets to one or more institutions including NATIONSBANK, N.A.. ",
          "BOATMEN'S RIVER VALLEY BANK<br>Year: 1997<br>Transformation Code: Charter Discontinued<br>Accounting Method: Merger<br>Notes: BOATMEN'S RIVER VALLEY BANK transferred its assets to one or more institutions including NATIONSBANK, N.A.. ",
          "BOATMEN'S BANK OF FRANKLIN COUNTY <br>Year: 1997<br>Transformation Code: Charter Discontinued<br>Accounting Method: Merger<br>Notes: BOATMEN'S BANK OF FRANKLIN COUNTY transferred its assets to one or more institutions including NATIONSBANK, N.A.. ",
          "NATIONSBANK, NATIONAL ASSOCIATION (MID-WEST)<br>Year: 1997<br>Transformation Code: Charter Discontinued<br>Accounting Method: Merger<br>Notes: NATIONSBANK, NATIONAL ASSOCIATION (MID-WEST) transferred its assets to one or more institutions including NATIONSBANK, N.A.. ",
          "BOATMEN'S NATIONAL BANK OF BOONVILLE<br>Year: 1997<br>Transformation Code: Charter Discontinued<br>Accounting Method: Merger<br>Notes: BOATMEN'S NATIONAL BANK OF BOONVILLE transferred its assets to one or more institutions including NATIONSBANK, N.A.. ",
          "BOATMENS BANK OF KENNETT<br>Year: 1997<br>Transformation Code: Charter Discontinued<br>Accounting Method: Merger<br>Notes: BOATMENS BANK OF KENNETT transferred its assets to one or more institutions including NATIONSBANK, N.A.. ",
          "BOATMEN'S BANK OF SOUTHWEST MISSOURI<br>Year: 1997<br>Transformation Code: Charter Discontinued<br>Accounting Method: Merger<br>Notes: BOATMEN'S BANK OF SOUTHWEST MISSOURI transferred its assets to one or more institutions including NATIONSBANK, N.A.. ",
          "BOATMEN'S BANK OF VANDALIA<br>Year: 1997<br>Transformation Code: Charter Discontinued<br>Accounting Method: Merger<br>Notes: BOATMEN'S BANK OF VANDALIA transferred its assets to one or more institutions including NATIONSBANK, N.A.. ",
          "NATIONSBANK, NATIONAL ASSOCIATION (SOUTH)<br>Year: 1997<br>Transformation Code: Charter Discontinued<br>Accounting Method: Merger<br>Notes: NATIONSBANK, NATIONAL ASSOCIATION (SOUTH) transferred its assets to one or more institutions including NATIONSBANK, N.A.. ",
          "NATIONSBANK TRUST COMPANY, N.A.                                                                                         <br>Year: 1996<br>Transformation Code: Charter Discontinued<br>Accounting Method: Merger<br>Notes: NATIONSBANK TRUST COMPANY, N.A. transferred its assets to one or more institutions including NATIONSBANK, N.A.. ",
          "NATIONSBANK, N.A.<br>Year: 1995<br>Transformation Code: Charter Discontinued<br>Accounting Method: Merger<br>Notes: NATIONSBANK, N.A. transferred its assets to one or more institutions including NATIONSBANK, NATIONAL ASSOCIATION (CAROLINAS). ",
          "NATIONSBANK OF SOUTH CAROLINA, N.A<br>Year: 1995<br>Transformation Code: Charter Discontinued<br>Accounting Method: Not Applicable<br>Notes: NATIONSBANK OF SOUTH CAROLINA, N.A. transferred its assets to one or more institutions including NATIONSBANK OF NORTH CAROLINA, NATIONAL ASSOCIATION. ",
          "FIRST AMERICAN FEDERAL SAVINGS BANK                                                                                     <br>Year: 1993<br>Transformation Code: Failure<br>Accounting Method: Not Applicable<br>Notes: FIRST AMERICAN FEDERAL SAVINGS BANK failed and ceased to exist. Disposition was arranged by the regulatory agency. Assets were distributed to other entities.",
          "CAROLINA MOUNTAIN BANK<br>Year: 1990<br>Transformation Code: Charter Discontinued<br>Accounting Method: Not Applicable<br>Notes: CAROLINA MOUNTAIN BANK transferred its assets to one or more institutions including NCNB NATIONAL BANK OF NORTH CAROLINA. ",
          "GREAT ATLANTIC SAVINGS BANK, FEDERAL SAVINGS BANK                                                                       <br>Year: 1989<br>Transformation Code: Failure<br>Accounting Method: Not Applicable<br>Notes: GREAT ATLANTIC SAVINGS BANK, FEDERAL SAVINGS BANK failed and ceased to exist. Disposition was arranged by the regulatory agency. Assets were distributed to other entities.",
          "BANK OF NORTH CAROLINA, NATIONAL ASSOCIATION <br>Year: 1982<br>Transformation Code: Charter Discontinued<br>Accounting Method: Not Applicable<br>Notes: BANK OF NORTH CAROLINA, NATIONAL ASSOCIATION transferred its assets to one or more institutions including NORTH CAROLINA NATIONAL BANK. ",
          "CAROLINA FIRST NATIONAL BANK<br>Year: 1981<br>Transformation Code: Charter Discontinued<br>Accounting Method: Not Applicable<br>Notes: CAROLINA FIRST NATIONAL BANK transferred its assets to one or more institutions including NORTH CAROLINA NATIONAL BANK. ",
          "BANK OF ASHEVILLE<br>Year: 1979<br>Transformation Code: Charter Discontinued<br>Accounting Method: Not Applicable<br>Notes: BANK OF ASHEVILLE transferred its assets to one or more institutions including NORTH CAROLINA NATIONAL BANK. ",
          "FIRST NATIONAL BANK OF MOUNTAIRY<br>Year: 1974<br>Transformation Code: Charter Discontinued<br>Accounting Method: Not Applicable<br>Notes: FIRST NATIONAL BANK OF MOUNTAIRY, THE transferred its assets to one or more institutions including NORTH CAROLINA NATIONAL BANK. ",
          "CITIZENS BANK AND TRUST COMPANY<br>Year: 1973<br>Transformation Code: Charter Discontinued<br>Accounting Method: Not Applicable<br>Notes: CITIZENS BANK AND TRUST COMPANY transferred its assets to one or more institutions including NORTH CAROLINA NATIONAL BANK. ",
          "BANK OF NEW BERN<br>Year: 1972<br>Transformation Code: Charter Discontinued<br>Accounting Method: Not Applicable<br>Notes: BANK OF NEW BERN transferred its assets to one or more institutions including NORTH CAROLINA NATIONAL BANK. ",
          "FARMERS BANK <br>Year: 1972<br>Transformation Code: Charter Discontinued<br>Accounting Method: Not Applicable<br>Notes: FARMERS BANK transferred its assets to one or more institutions including NORTH CAROLINA NATIONAL BANK. ",
          "CAROLINA BANK OF COMMERCE                                                                                               <br>Year: 1972<br>Transformation Code: Charter Discontinued<br>Accounting Method: Not Applicable<br>Notes: CAROLINA BANK OF COMMERCE transferred its assets to one or more institutions including NORTH CAROLINA NATIONAL BANK. ",
          "BANNER ELK BANK, THE                                                                                                    <br>Year: 1972<br>Transformation Code: Charter Discontinued<br>Accounting Method: Not Applicable<br>Notes: BANNER ELK BANK, THE transferred its assets to one or more institutions including NORTH CAROLINA NATIONAL BANK. ",
          "BANK OF WASHINGTON                                                                                                      <br>Year: 1971<br>Transformation Code: Charter Discontinued<br>Accounting Method: Not Applicable<br>Notes: BANK OF WASHINGTON transferred its assets to one or more institutions including NORTH CAROLINA NATIONAL BANK. ",
          "STATE COMMERCIAL BANK, THE                                                                                              <br>Year: 1970<br>Transformation Code: Charter Discontinued<br>Accounting Method: Not Applicable<br>Notes: STATE COMMERCIAL BANK, THE transferred its assets to one or more institutions including NORTH CAROLINA NATIONAL BANK. ",
          "MARION BANK AND TRUST COMPANY                                                                                           <br>Year: 1970<br>Transformation Code: Charter Discontinued<br>Accounting Method: Not Applicable<br>Notes: MARION BANK AND TRUST COMPANY transferred its assets to one or more institutions including NORTH CAROLINA NATIONAL BANK. ",
          "STATE BANK & TRUST COMPANY                                                                                              <br>Year: 1969<br>Transformation Code: Charter Discontinued<br>Accounting Method: Not Applicable<br>Notes: STATE BANK & TRUST COMPANY transferred its assets to one or more institutions including NORTH CAROLINA NATIONAL BANK. ",
          "COMMERCIAL AND INDUSTRIAL BANK                                                                                          <br>Year: 1967<br>Transformation Code: Charter Discontinued<br>Accounting Method: Not Applicable<br>Notes: COMMERCIAL AND INDUSTRIAL BANK transferred its assets to one or more institutions including NORTH CAROLINA NATIONAL BANK. ",
          "TRYON BANK AND TRUST COMPANY                                                                                            <br>Year: 1965<br>Transformation Code: Charter Discontinued<br>Accounting Method: Not Applicable<br>Notes: TRYON BANK AND TRUST COMPANY transferred its assets to one or more institutions including NORTH CAROLINA NATIONAL BANK. ",
          "BANK OF CHAPEL HILL, THE                                                                                                <br>Year: 1963<br>Transformation Code: Charter Discontinued<br>Accounting Method: Not Applicable<br>Notes: BANK OF CHAPEL HILL, THE transferred its assets to one or more institutions including NORTH CAROLINA NATIONAL BANK. ",
          "BANK OF WILMINGTON                                                                                                      <br>Year: 1962<br>Transformation Code: Charter Discontinued<br>Accounting Method: Not Applicable<br>Notes: BANK OF WILMINGTON transferred its assets to one or more institutions including NORTH CAROLINA NATIONAL BANK. ",
          "BANK OF NORTH WILKESBORO                                                                                                <br>Year: 1962<br>Transformation Code: Charter Discontinued<br>Accounting Method: Not Applicable<br>Notes: BANK OF NORTH WILKESBORO transferred its assets to one or more institutions including NORTH CAROLINA NATIONAL BANK. ",
          "FIRST NATIONAL BANK                                                                                                     <br>Year: 1961<br>Transformation Code: Charter Discontinued<br>Accounting Method: Not Applicable<br>Notes: FIRST NATIONAL BANK transferred its assets to one or more institutions including NORTH CAROLINA NATIONAL BANK. ",
          "MERCHANTS AND FARMERS BANKOF STATESVILLE, INCORPORATED                                                                  <br>Year: 1960<br>Transformation Code: Charter Discontinued<br>Accounting Method: Not Applicable<br>Notes: MERCHANTS AND FARMERS BANKOF STATESVILLE, INCORPORATED transferred its assets to one or more institutions including NORTH CAROLINA NATIONAL BANK. ",
          "SECURITY NATIONAL BANK OF GREENSBORO                                                                                    <br>Year: 1960<br>Transformation Code: Charter Discontinued<br>Accounting Method: Not Applicable<br>Notes: SECURITY NATIONAL BANK OF GREENSBORO transferred its assets to one or more institutions including AMERICAN COMMERCIAL BANK. ",
          "Bank of America<br>Year: N/A<br>Transformation Code: N/A<br>Accounting Method: N/A<br>Notes: N/A"
         ],
         "type": "scatter",
         "x": [
          2020,
          2014,
          2013,
          2013,
          2011,
          2011,
          2010,
          2009,
          2009,
          2009,
          2008,
          2008,
          2008,
          2008,
          2008,
          2006,
          2005,
          2004,
          2003,
          2003,
          2003,
          2003,
          2003,
          2001,
          1999,
          1999,
          1999,
          1998,
          1998,
          1998,
          1998,
          1998,
          1998,
          1998,
          1998,
          1998,
          1998,
          1998,
          1998,
          1997,
          1997,
          1997,
          1997,
          1997,
          1997,
          1997,
          1997,
          1997,
          1997,
          1997,
          1997,
          1997,
          1997,
          1997,
          1997,
          1997,
          1997,
          1997,
          1997,
          1997,
          1997,
          1997,
          1997,
          1997,
          1997,
          1997,
          1997,
          1997,
          1997,
          1997,
          1997,
          1997,
          1997,
          1997,
          1997,
          1997,
          1997,
          1997,
          1997,
          1997,
          1997,
          1997,
          1997,
          1997,
          1997,
          1997,
          1997,
          1997,
          1997,
          1997,
          1996,
          1995,
          1995,
          1993,
          1990,
          1989,
          1982,
          1981,
          1979,
          1974,
          1973,
          1972,
          1972,
          1972,
          1972,
          1971,
          1970,
          1970,
          1969,
          1967,
          1965,
          1963,
          1962,
          1962,
          1961,
          1960,
          1960,
          2021
         ],
         "y": [
          0,
          1,
          2,
          3,
          4,
          5,
          6,
          7,
          8,
          9,
          10,
          11,
          12,
          13,
          14,
          15,
          16,
          17,
          18,
          19,
          20,
          21,
          22,
          23,
          24,
          25,
          26,
          27,
          28,
          29,
          30,
          31,
          32,
          33,
          34,
          35,
          36,
          37,
          38,
          39,
          40,
          41,
          42,
          43,
          44,
          45,
          46,
          47,
          48,
          49,
          50,
          51,
          52,
          53,
          54,
          55,
          56,
          57,
          58,
          59,
          60,
          61,
          62,
          63,
          64,
          65,
          66,
          67,
          68,
          69,
          70,
          71,
          72,
          73,
          74,
          75,
          76,
          77,
          78,
          79,
          80,
          81,
          82,
          83,
          84,
          85,
          86,
          87,
          88,
          89,
          90,
          91,
          92,
          93,
          94,
          95,
          96,
          97,
          98,
          99,
          100,
          101,
          102,
          103,
          104,
          105,
          106,
          107,
          108,
          109,
          110,
          111,
          112,
          113,
          114,
          115,
          116,
          58.5
         ]
        }
       ],
       "layout": {
        "annotations": [
         {
          "arrowcolor": "#ffffff",
          "arrowhead": 2,
          "ax": 50,
          "ay": 0,
          "font": {
           "color": "#ffffff"
          },
          "showarrow": true,
          "text": "1969: North Carolina National Bank <br>changes name to<br>NCNB National Bank of North Carolina",
          "x": 1983,
          "y": 10
         },
         {
          "arrowcolor": "#ffffff",
          "arrowhead": 2,
          "ax": 50,
          "ay": 0,
          "font": {
           "color": "#ffffff"
          },
          "showarrow": true,
          "text": "1999: NATIONSBANK<br>changes name to<br>Bank of America",
          "x": 1999,
          "y": 70
         }
        ],
        "hovermode": "y unified",
        "margin": {
         "b": 20,
         "l": 5,
         "r": 5,
         "t": 40
        },
        "shapes": [
         {
          "line": {
           "color": "#ffffff",
           "dash": "dot",
           "width": 1
          },
          "type": "line",
          "x0": 1983,
          "x1": 1983,
          "y0": 0,
          "y1": 116
         },
         {
          "line": {
           "color": "#ffffff",
           "dash": "dot",
           "width": 1
          },
          "type": "line",
          "x0": 1999,
          "x1": 1999,
          "y0": 0,
          "y1": 116
         }
        ],
        "showlegend": false,
        "template": {
         "data": {
          "bar": [
           {
            "error_x": {
             "color": "#f2f5fa"
            },
            "error_y": {
             "color": "#f2f5fa"
            },
            "marker": {
             "line": {
              "color": "rgb(17,17,17)",
              "width": 0.5
             },
             "pattern": {
              "fillmode": "overlay",
              "size": 10,
              "solidity": 0.2
             }
            },
            "type": "bar"
           }
          ],
          "barpolar": [
           {
            "marker": {
             "line": {
              "color": "rgb(17,17,17)",
              "width": 0.5
             },
             "pattern": {
              "fillmode": "overlay",
              "size": 10,
              "solidity": 0.2
             }
            },
            "type": "barpolar"
           }
          ],
          "carpet": [
           {
            "aaxis": {
             "endlinecolor": "#A2B1C6",
             "gridcolor": "#506784",
             "linecolor": "#506784",
             "minorgridcolor": "#506784",
             "startlinecolor": "#A2B1C6"
            },
            "baxis": {
             "endlinecolor": "#A2B1C6",
             "gridcolor": "#506784",
             "linecolor": "#506784",
             "minorgridcolor": "#506784",
             "startlinecolor": "#A2B1C6"
            },
            "type": "carpet"
           }
          ],
          "choropleth": [
           {
            "colorbar": {
             "outlinewidth": 0,
             "ticks": ""
            },
            "type": "choropleth"
           }
          ],
          "contour": [
           {
            "colorbar": {
             "outlinewidth": 0,
             "ticks": ""
            },
            "colorscale": [
             [
              0,
              "#0d0887"
             ],
             [
              0.1111111111111111,
              "#46039f"
             ],
             [
              0.2222222222222222,
              "#7201a8"
             ],
             [
              0.3333333333333333,
              "#9c179e"
             ],
             [
              0.4444444444444444,
              "#bd3786"
             ],
             [
              0.5555555555555556,
              "#d8576b"
             ],
             [
              0.6666666666666666,
              "#ed7953"
             ],
             [
              0.7777777777777778,
              "#fb9f3a"
             ],
             [
              0.8888888888888888,
              "#fdca26"
             ],
             [
              1,
              "#f0f921"
             ]
            ],
            "type": "contour"
           }
          ],
          "contourcarpet": [
           {
            "colorbar": {
             "outlinewidth": 0,
             "ticks": ""
            },
            "type": "contourcarpet"
           }
          ],
          "heatmap": [
           {
            "colorbar": {
             "outlinewidth": 0,
             "ticks": ""
            },
            "colorscale": [
             [
              0,
              "#0d0887"
             ],
             [
              0.1111111111111111,
              "#46039f"
             ],
             [
              0.2222222222222222,
              "#7201a8"
             ],
             [
              0.3333333333333333,
              "#9c179e"
             ],
             [
              0.4444444444444444,
              "#bd3786"
             ],
             [
              0.5555555555555556,
              "#d8576b"
             ],
             [
              0.6666666666666666,
              "#ed7953"
             ],
             [
              0.7777777777777778,
              "#fb9f3a"
             ],
             [
              0.8888888888888888,
              "#fdca26"
             ],
             [
              1,
              "#f0f921"
             ]
            ],
            "type": "heatmap"
           }
          ],
          "heatmapgl": [
           {
            "colorbar": {
             "outlinewidth": 0,
             "ticks": ""
            },
            "colorscale": [
             [
              0,
              "#0d0887"
             ],
             [
              0.1111111111111111,
              "#46039f"
             ],
             [
              0.2222222222222222,
              "#7201a8"
             ],
             [
              0.3333333333333333,
              "#9c179e"
             ],
             [
              0.4444444444444444,
              "#bd3786"
             ],
             [
              0.5555555555555556,
              "#d8576b"
             ],
             [
              0.6666666666666666,
              "#ed7953"
             ],
             [
              0.7777777777777778,
              "#fb9f3a"
             ],
             [
              0.8888888888888888,
              "#fdca26"
             ],
             [
              1,
              "#f0f921"
             ]
            ],
            "type": "heatmapgl"
           }
          ],
          "histogram": [
           {
            "marker": {
             "pattern": {
              "fillmode": "overlay",
              "size": 10,
              "solidity": 0.2
             }
            },
            "type": "histogram"
           }
          ],
          "histogram2d": [
           {
            "colorbar": {
             "outlinewidth": 0,
             "ticks": ""
            },
            "colorscale": [
             [
              0,
              "#0d0887"
             ],
             [
              0.1111111111111111,
              "#46039f"
             ],
             [
              0.2222222222222222,
              "#7201a8"
             ],
             [
              0.3333333333333333,
              "#9c179e"
             ],
             [
              0.4444444444444444,
              "#bd3786"
             ],
             [
              0.5555555555555556,
              "#d8576b"
             ],
             [
              0.6666666666666666,
              "#ed7953"
             ],
             [
              0.7777777777777778,
              "#fb9f3a"
             ],
             [
              0.8888888888888888,
              "#fdca26"
             ],
             [
              1,
              "#f0f921"
             ]
            ],
            "type": "histogram2d"
           }
          ],
          "histogram2dcontour": [
           {
            "colorbar": {
             "outlinewidth": 0,
             "ticks": ""
            },
            "colorscale": [
             [
              0,
              "#0d0887"
             ],
             [
              0.1111111111111111,
              "#46039f"
             ],
             [
              0.2222222222222222,
              "#7201a8"
             ],
             [
              0.3333333333333333,
              "#9c179e"
             ],
             [
              0.4444444444444444,
              "#bd3786"
             ],
             [
              0.5555555555555556,
              "#d8576b"
             ],
             [
              0.6666666666666666,
              "#ed7953"
             ],
             [
              0.7777777777777778,
              "#fb9f3a"
             ],
             [
              0.8888888888888888,
              "#fdca26"
             ],
             [
              1,
              "#f0f921"
             ]
            ],
            "type": "histogram2dcontour"
           }
          ],
          "mesh3d": [
           {
            "colorbar": {
             "outlinewidth": 0,
             "ticks": ""
            },
            "type": "mesh3d"
           }
          ],
          "parcoords": [
           {
            "line": {
             "colorbar": {
              "outlinewidth": 0,
              "ticks": ""
             }
            },
            "type": "parcoords"
           }
          ],
          "pie": [
           {
            "automargin": true,
            "type": "pie"
           }
          ],
          "scatter": [
           {
            "marker": {
             "line": {
              "color": "#283442"
             }
            },
            "type": "scatter"
           }
          ],
          "scatter3d": [
           {
            "line": {
             "colorbar": {
              "outlinewidth": 0,
              "ticks": ""
             }
            },
            "marker": {
             "colorbar": {
              "outlinewidth": 0,
              "ticks": ""
             }
            },
            "type": "scatter3d"
           }
          ],
          "scattercarpet": [
           {
            "marker": {
             "colorbar": {
              "outlinewidth": 0,
              "ticks": ""
             }
            },
            "type": "scattercarpet"
           }
          ],
          "scattergeo": [
           {
            "marker": {
             "colorbar": {
              "outlinewidth": 0,
              "ticks": ""
             }
            },
            "type": "scattergeo"
           }
          ],
          "scattergl": [
           {
            "marker": {
             "line": {
              "color": "#283442"
             }
            },
            "type": "scattergl"
           }
          ],
          "scattermapbox": [
           {
            "marker": {
             "colorbar": {
              "outlinewidth": 0,
              "ticks": ""
             }
            },
            "type": "scattermapbox"
           }
          ],
          "scatterpolar": [
           {
            "marker": {
             "colorbar": {
              "outlinewidth": 0,
              "ticks": ""
             }
            },
            "type": "scatterpolar"
           }
          ],
          "scatterpolargl": [
           {
            "marker": {
             "colorbar": {
              "outlinewidth": 0,
              "ticks": ""
             }
            },
            "type": "scatterpolargl"
           }
          ],
          "scatterternary": [
           {
            "marker": {
             "colorbar": {
              "outlinewidth": 0,
              "ticks": ""
             }
            },
            "type": "scatterternary"
           }
          ],
          "surface": [
           {
            "colorbar": {
             "outlinewidth": 0,
             "ticks": ""
            },
            "colorscale": [
             [
              0,
              "#0d0887"
             ],
             [
              0.1111111111111111,
              "#46039f"
             ],
             [
              0.2222222222222222,
              "#7201a8"
             ],
             [
              0.3333333333333333,
              "#9c179e"
             ],
             [
              0.4444444444444444,
              "#bd3786"
             ],
             [
              0.5555555555555556,
              "#d8576b"
             ],
             [
              0.6666666666666666,
              "#ed7953"
             ],
             [
              0.7777777777777778,
              "#fb9f3a"
             ],
             [
              0.8888888888888888,
              "#fdca26"
             ],
             [
              1,
              "#f0f921"
             ]
            ],
            "type": "surface"
           }
          ],
          "table": [
           {
            "cells": {
             "fill": {
              "color": "#506784"
             },
             "line": {
              "color": "rgb(17,17,17)"
             }
            },
            "header": {
             "fill": {
              "color": "#2a3f5f"
             },
             "line": {
              "color": "rgb(17,17,17)"
             }
            },
            "type": "table"
           }
          ]
         },
         "layout": {
          "annotationdefaults": {
           "arrowcolor": "#f2f5fa",
           "arrowhead": 0,
           "arrowwidth": 1
          },
          "autotypenumbers": "strict",
          "coloraxis": {
           "colorbar": {
            "outlinewidth": 0,
            "ticks": ""
           }
          },
          "colorscale": {
           "diverging": [
            [
             0,
             "#8e0152"
            ],
            [
             0.1,
             "#c51b7d"
            ],
            [
             0.2,
             "#de77ae"
            ],
            [
             0.3,
             "#f1b6da"
            ],
            [
             0.4,
             "#fde0ef"
            ],
            [
             0.5,
             "#f7f7f7"
            ],
            [
             0.6,
             "#e6f5d0"
            ],
            [
             0.7,
             "#b8e186"
            ],
            [
             0.8,
             "#7fbc41"
            ],
            [
             0.9,
             "#4d9221"
            ],
            [
             1,
             "#276419"
            ]
           ],
           "sequential": [
            [
             0,
             "#0d0887"
            ],
            [
             0.1111111111111111,
             "#46039f"
            ],
            [
             0.2222222222222222,
             "#7201a8"
            ],
            [
             0.3333333333333333,
             "#9c179e"
            ],
            [
             0.4444444444444444,
             "#bd3786"
            ],
            [
             0.5555555555555556,
             "#d8576b"
            ],
            [
             0.6666666666666666,
             "#ed7953"
            ],
            [
             0.7777777777777778,
             "#fb9f3a"
            ],
            [
             0.8888888888888888,
             "#fdca26"
            ],
            [
             1,
             "#f0f921"
            ]
           ],
           "sequentialminus": [
            [
             0,
             "#0d0887"
            ],
            [
             0.1111111111111111,
             "#46039f"
            ],
            [
             0.2222222222222222,
             "#7201a8"
            ],
            [
             0.3333333333333333,
             "#9c179e"
            ],
            [
             0.4444444444444444,
             "#bd3786"
            ],
            [
             0.5555555555555556,
             "#d8576b"
            ],
            [
             0.6666666666666666,
             "#ed7953"
            ],
            [
             0.7777777777777778,
             "#fb9f3a"
            ],
            [
             0.8888888888888888,
             "#fdca26"
            ],
            [
             1,
             "#f0f921"
            ]
           ]
          },
          "colorway": [
           "#636efa",
           "#EF553B",
           "#00cc96",
           "#ab63fa",
           "#FFA15A",
           "#19d3f3",
           "#FF6692",
           "#B6E880",
           "#FF97FF",
           "#FECB52"
          ],
          "font": {
           "color": "#f2f5fa"
          },
          "geo": {
           "bgcolor": "rgb(17,17,17)",
           "lakecolor": "rgb(17,17,17)",
           "landcolor": "rgb(17,17,17)",
           "showlakes": true,
           "showland": true,
           "subunitcolor": "#506784"
          },
          "hoverlabel": {
           "align": "left"
          },
          "hovermode": "closest",
          "mapbox": {
           "style": "dark"
          },
          "paper_bgcolor": "rgb(17,17,17)",
          "plot_bgcolor": "rgb(17,17,17)",
          "polar": {
           "angularaxis": {
            "gridcolor": "#506784",
            "linecolor": "#506784",
            "ticks": ""
           },
           "bgcolor": "rgb(17,17,17)",
           "radialaxis": {
            "gridcolor": "#506784",
            "linecolor": "#506784",
            "ticks": ""
           }
          },
          "scene": {
           "xaxis": {
            "backgroundcolor": "rgb(17,17,17)",
            "gridcolor": "#506784",
            "gridwidth": 2,
            "linecolor": "#506784",
            "showbackground": true,
            "ticks": "",
            "zerolinecolor": "#C8D4E3"
           },
           "yaxis": {
            "backgroundcolor": "rgb(17,17,17)",
            "gridcolor": "#506784",
            "gridwidth": 2,
            "linecolor": "#506784",
            "showbackground": true,
            "ticks": "",
            "zerolinecolor": "#C8D4E3"
           },
           "zaxis": {
            "backgroundcolor": "rgb(17,17,17)",
            "gridcolor": "#506784",
            "gridwidth": 2,
            "linecolor": "#506784",
            "showbackground": true,
            "ticks": "",
            "zerolinecolor": "#C8D4E3"
           }
          },
          "shapedefaults": {
           "line": {
            "color": "#f2f5fa"
           }
          },
          "sliderdefaults": {
           "bgcolor": "#C8D4E3",
           "bordercolor": "rgb(17,17,17)",
           "borderwidth": 1,
           "tickwidth": 0
          },
          "ternary": {
           "aaxis": {
            "gridcolor": "#506784",
            "linecolor": "#506784",
            "ticks": ""
           },
           "baxis": {
            "gridcolor": "#506784",
            "linecolor": "#506784",
            "ticks": ""
           },
           "bgcolor": "rgb(17,17,17)",
           "caxis": {
            "gridcolor": "#506784",
            "linecolor": "#506784",
            "ticks": ""
           }
          },
          "title": {
           "x": 0.05
          },
          "updatemenudefaults": {
           "bgcolor": "#506784",
           "borderwidth": 0
          },
          "xaxis": {
           "automargin": true,
           "gridcolor": "#283442",
           "linecolor": "#506784",
           "ticks": "",
           "title": {
            "standoff": 15
           },
           "zerolinecolor": "#283442",
           "zerolinewidth": 2
          },
          "yaxis": {
           "automargin": true,
           "gridcolor": "#283442",
           "linecolor": "#506784",
           "ticks": "",
           "title": {
            "standoff": 15
           },
           "zerolinecolor": "#283442",
           "zerolinewidth": 2
          }
         }
        },
        "title": {
         "font": {
          "size": 16
         },
         "text": "Network of Bank of America Acquisitions and Mergers"
        },
        "xaxis": {
         "title": {
          "text": "Year of Transformation"
         }
        },
        "yaxis": {
         "showgrid": false,
         "showticklabels": false,
         "zeroline": false
        }
       }
      }
     },
     "metadata": {},
     "output_type": "display_data"
    }
   ],
   "source": [
    "# Create a directed graph\n",
    "G = nx.DiGraph()\n",
    "\n",
    "# Define node positions based on the 'Year'\n",
    "pos = {}\n",
    "year_min = trans_boa_df['Year'].min()\n",
    "year_max = trans_boa_df['Year'].max()\n",
    "y_pos = 0\n",
    "\n",
    "for _, row in trans_boa_df.iterrows():\n",
    "    G.add_node(row['Predecessor_Name'], \n",
    "               year=row['Year'], \n",
    "               trsfm_cd=row['Transformation Code'], \n",
    "               acct_method=row['Accounting Method'])\n",
    "    pos[row['Predecessor_Name']] = (row['Year'], y_pos)\n",
    "    y_pos += 1\n",
    "\n",
    "G.add_node('Bank of America')\n",
    "pos['Bank of America'] = (year_max + 1, y_pos / 2)  # Position BoA at the end\n",
    "\n",
    "# Add edges from predecessors to 'Chase'\n",
    "for _, row in trans_boa_df.iterrows():\n",
    "    G.add_edge(row['Predecessor_Name'], row['Successor_Name'])\n",
    "\n",
    "# Create edge trace for plotly\n",
    "edge_x = []\n",
    "edge_y = []\n",
    "for edge in G.edges():\n",
    "    x0, y0 = pos[edge[0]]\n",
    "    x1, y1 = pos[edge[1]]\n",
    "    edge_x.extend([x0, x1, None])\n",
    "    edge_y.extend([y0, y1, None])\n",
    "\n",
    "edge_trace = go.Scatter(\n",
    "    x=edge_x, y=edge_y,\n",
    "    line=dict(width=0.5, color='#888'),\n",
    "    hoverinfo='none',\n",
    "    mode='lines')\n",
    "\n",
    "# Create node trace\n",
    "node_x = [pos[node][0] for node in G.nodes()]\n",
    "node_y = [pos[node][1] for node in G.nodes()]\n",
    "node_text = []\n",
    "for node in G.nodes():\n",
    "    year = G.nodes[node].get('year', 'N/A')\n",
    "    trsfm_cd = G.nodes[node].get('trsfm_cd', 'N/A')\n",
    "    acct_method = G.nodes[node].get('acct_method', 'N/A')\n",
    "    notes = trans_boa_df.loc[trans_boa_df['Predecessor_Name'] == node, 'Notes'].values[0] if node in trans_boa_df['Predecessor_Name'].values else 'N/A'\n",
    "    node_info = f'{node}<br>Year: {year}<br>Transformation Code: {trsfm_cd}<br>Accounting Method: {acct_method}<br>Notes: {notes}'\n",
    "    node_text.append(node_info)\n",
    "\n",
    "node_trace = go.Scatter(\n",
    "    x=node_x, y=node_y,\n",
    "    mode='markers',\n",
    "    hoverinfo='text',\n",
    "    text=node_text,\n",
    "    marker=dict(\n",
    "        size=10,\n",
    "        line_width=2,color='#CB0D1F'))\n",
    "\n",
    "# Create the figure for plotting\n",
    "fig_boa = go.Figure(data=[edge_trace, node_trace],\n",
    "             layout=go.Layout(\n",
    "                title='Network of Bank of America Acquisitions and Mergers',\n",
    "                titlefont_size=16,\n",
    "                showlegend=False,\n",
    "                hovermode='y unified',\n",
    "                xaxis=dict(title='Year of Transformation'),\n",
    "                yaxis=dict(showgrid=False, zeroline=False, showticklabels=False),\n",
    "                margin=dict(b=20,l=5,r=5,t=40)) # Set margins to add a title and adjust the plot size. 'b' is the bottom margin, 'l' is the left margin, 'r' is the right margin, and 't' is the top margin.\n",
    "                )\n",
    "\n",
    "\n",
    "# Manually add annotations for historical events\n",
    "annotations = [\n",
    "    {'year': 1983, 'text': '1969: North Carolina National Bank <br>changes name to<br>NCNB National Bank of North Carolina', 'y': 10},\n",
    "    #{'year': 1992, 'text': '1992: NCNB National Bank of North Carolina<br>changes name to<br> NationsBank of North Carolina', 'y': 20},\n",
    "    #{'year': 1995, 'text': '1995: NationsBank of North Carolina<br>changes name to<br>NATIONSBANK', 'y': 45},\n",
    "    {'year': 1999, 'text': '1999: NATIONSBANK<br>changes name to<br>Bank of America', 'y': 70},\n",
    "    # Add more annotations as needed\n",
    "]\n",
    "\n",
    "for annotation in annotations:\n",
    "    fig_boa.add_annotation(\n",
    "        x=annotation['year'],\n",
    "        y=annotation['y'],\n",
    "        text=annotation['text'],\n",
    "        showarrow=True,\n",
    "        arrowhead=2,\n",
    "        ax=50,  # Adjust the x offset of the arrow\n",
    "        ay=0,  # Adjust the y offset of the arrow\n",
    "        font={'color': '#ffffff'},\n",
    "        arrowcolor='#ffffff'\n",
    "    )\n",
    "\n",
    "for annotation in annotations:\n",
    "    # Add vertical line\n",
    "    fig_boa.add_shape(\n",
    "        type=\"line\",\n",
    "        x0=annotation['year'],\n",
    "        y0=0,\n",
    "        x1=annotation['year'],\n",
    "        y1=max(node_y),\n",
    "        line=dict(color=\"#ffffff\", width=1, dash=\"dot\")\n",
    "    )\n",
    "\n",
    "\n",
    "#Add dark theme\n",
    "fig_boa.update_layout(template='plotly_dark')\n",
    "\n",
    "fig_boa.show()"
   ]
  },
  {
   "cell_type": "markdown",
   "metadata": {},
   "source": [
    "### 3c) Network plot for Wells Fargo<a id=\"11\"></a>"
   ]
  },
  {
   "cell_type": "code",
   "execution_count": 69,
   "metadata": {},
   "outputs": [
    {
     "data": {
      "application/vnd.plotly.v1+json": {
       "config": {
        "plotlyServerURL": "https://plotly.com"
       },
       "data": [
        {
         "hoverinfo": "none",
         "line": {
          "color": "#888",
          "width": 0.5
         },
         "mode": "lines",
         "type": "scatter",
         "x": [
          2012,
          2013,
          null,
          2011,
          2013,
          null,
          2011,
          2013,
          null,
          2011,
          2013,
          null,
          2011,
          2013,
          null,
          2011,
          2013,
          null,
          2011,
          2013,
          null,
          2011,
          2013,
          null,
          2011,
          2013,
          null,
          2011,
          2013,
          null,
          2011,
          2013,
          null,
          2011,
          2013,
          null,
          2011,
          2013,
          null,
          2010,
          2013,
          null,
          2010,
          2013,
          null,
          2010,
          2013,
          null,
          2010,
          2013,
          null,
          2010,
          2013,
          null,
          2010,
          2013,
          null,
          2010,
          2013,
          null,
          2010,
          2013,
          null,
          2010,
          2013,
          null,
          2010,
          2013,
          null,
          2009,
          2013,
          null,
          2009,
          2013,
          null,
          2009,
          2013,
          null,
          2009,
          2013,
          null,
          2009,
          2013,
          null,
          2008,
          2013,
          null,
          2008,
          2013,
          null,
          2008,
          2013,
          null,
          2008,
          2013,
          null,
          2008,
          2013,
          null,
          2008,
          2013,
          null,
          2008,
          2013,
          null,
          2007,
          2013,
          null,
          2007,
          2013,
          null,
          2006,
          2013,
          null,
          2006,
          2013,
          null,
          2006,
          2013,
          null,
          2005,
          2013,
          null,
          2005,
          2013,
          null,
          2004,
          2013,
          null,
          2004,
          2013,
          null,
          2004,
          2013,
          null,
          2004,
          2013,
          null,
          2004,
          2013,
          null,
          2004,
          2013,
          null,
          2004,
          2013,
          null,
          2004,
          2013,
          null,
          2004,
          2013,
          null,
          2004,
          2013,
          null,
          2004,
          2013,
          null,
          2004,
          2013,
          null,
          2004,
          2013,
          null,
          2004,
          2013,
          null,
          2004,
          2013,
          null,
          2003,
          2013,
          null,
          2003,
          2013,
          null,
          2003,
          2013,
          null,
          2003,
          2013,
          null,
          2003,
          2013,
          null,
          2003,
          2013,
          null,
          2000,
          2013,
          null,
          2000,
          2013,
          null,
          2000,
          2013,
          null,
          2000,
          2013,
          null,
          2000,
          2013,
          null,
          1998,
          2013,
          null,
          1997,
          2013,
          null,
          1996,
          2013,
          null,
          1996,
          2013,
          null,
          1996,
          2013,
          null,
          1996,
          2013,
          null,
          1996,
          2013,
          null,
          1996,
          2013,
          null,
          1996,
          2013,
          null,
          1991,
          2013,
          null,
          1991,
          2013,
          null,
          1990,
          2013,
          null,
          1990,
          2013,
          null,
          1990,
          2013,
          null,
          1989,
          2013,
          null,
          1988,
          2013,
          null,
          1986,
          2013,
          null,
          1979,
          2013,
          null,
          1978,
          2013,
          null,
          1974,
          2013,
          null,
          1974,
          2013,
          null,
          1970,
          2013,
          null,
          1970,
          2013,
          null,
          1969,
          2013,
          null,
          1968,
          2013,
          null,
          1968,
          2013,
          null,
          1968,
          2013,
          null,
          1965,
          2013,
          null,
          1963,
          2013,
          null,
          1962,
          2013,
          null,
          1961,
          2013,
          null,
          1960,
          2013,
          null,
          1960,
          2013,
          null
         ],
         "y": [
          0,
          51,
          null,
          1,
          51,
          null,
          2,
          51,
          null,
          3,
          51,
          null,
          4,
          51,
          null,
          5,
          51,
          null,
          6,
          51,
          null,
          7,
          51,
          null,
          8,
          51,
          null,
          9,
          51,
          null,
          10,
          51,
          null,
          11,
          51,
          null,
          12,
          51,
          null,
          13,
          51,
          null,
          14,
          51,
          null,
          15,
          51,
          null,
          16,
          51,
          null,
          17,
          51,
          null,
          18,
          51,
          null,
          19,
          51,
          null,
          20,
          51,
          null,
          21,
          51,
          null,
          22,
          51,
          null,
          23,
          51,
          null,
          24,
          51,
          null,
          25,
          51,
          null,
          26,
          51,
          null,
          27,
          51,
          null,
          28,
          51,
          null,
          29,
          51,
          null,
          30,
          51,
          null,
          31,
          51,
          null,
          32,
          51,
          null,
          33,
          51,
          null,
          34,
          51,
          null,
          35,
          51,
          null,
          36,
          51,
          null,
          37,
          51,
          null,
          38,
          51,
          null,
          39,
          51,
          null,
          40,
          51,
          null,
          41,
          51,
          null,
          42,
          51,
          null,
          43,
          51,
          null,
          44,
          51,
          null,
          45,
          51,
          null,
          46,
          51,
          null,
          47,
          51,
          null,
          48,
          51,
          null,
          49,
          51,
          null,
          50,
          51,
          null,
          51,
          51,
          null,
          52,
          51,
          null,
          53,
          51,
          null,
          54,
          51,
          null,
          55,
          51,
          null,
          56,
          51,
          null,
          57,
          51,
          null,
          59,
          51,
          null,
          60,
          51,
          null,
          61,
          51,
          null,
          62,
          51,
          null,
          63,
          51,
          null,
          64,
          51,
          null,
          65,
          51,
          null,
          66,
          51,
          null,
          67,
          51,
          null,
          68,
          51,
          null,
          69,
          51,
          null,
          70,
          51,
          null,
          71,
          51,
          null,
          72,
          51,
          null,
          73,
          51,
          null,
          74,
          51,
          null,
          75,
          51,
          null,
          76,
          51,
          null,
          77,
          51,
          null,
          78,
          51,
          null,
          79,
          51,
          null,
          80,
          51,
          null,
          81,
          51,
          null,
          82,
          51,
          null,
          83,
          51,
          null,
          84,
          51,
          null,
          85,
          51,
          null,
          86,
          51,
          null,
          87,
          51,
          null,
          88,
          51,
          null,
          89,
          51,
          null,
          90,
          51,
          null,
          91,
          51,
          null,
          92,
          51,
          null,
          93,
          51,
          null,
          94,
          51,
          null,
          95,
          51,
          null,
          96,
          51,
          null,
          97,
          51,
          null,
          98,
          51,
          null,
          99,
          51,
          null,
          100,
          51,
          null,
          101,
          51,
          null
         ]
        },
        {
         "hoverinfo": "text",
         "marker": {
          "color": "#FFD408",
          "line": {
           "width": 2
          },
          "size": 10
         },
         "mode": "markers",
         "text": [
          "WELLS FARGO AUTO FINANCE, LLC                                                                                           <br>Year: 2012<br>Transformation Code: Charter Discontinued<br>Accounting Method: Merger<br>Notes: WELLS FARGO AUTO FINANCE, LLC transferred its assets to one or more institutions including WELLS FARGO BANK, NATIONAL ASSOCIATION. ",
          "FIRST UNION FINANCIAL INVESTMENTS, LLC                                                                                  <br>Year: 2011<br>Transformation Code: Charter Discontinued<br>Accounting Method: Merger<br>Notes: FIRST UNION FINANCIAL INVESTMENTS, LLC transferred its assets to one or more institutions including WELLS FARGO BANK, NATIONAL ASSOCIATION. ",
          "WES HOLDING CORPORATION                                                                                                 <br>Year: 2011<br>Transformation Code: Charter Discontinued<br>Accounting Method: Merger<br>Notes: WES HOLDING CORPORATION transferred its assets to one or more institutions including WELLS FARGO BANK, NATIONAL ASSOCIATION. ",
          "SOUTHTRUST MORTGAGE CORPORATION                                                                                         <br>Year: 2011<br>Transformation Code: Charter Discontinued<br>Accounting Method: Merger<br>Notes: SOUTHTRUST MORTGAGE CORPORATION transferred its assets to one or more institutions including WELLS FARGO BANK, NATIONAL ASSOCIATION. ",
          "MERIDIAN MORTGAGE CORPORATION                                                                                           <br>Year: 2011<br>Transformation Code: Charter Discontinued<br>Accounting Method: Merger<br>Notes: MERIDIAN MORTGAGE CORPORATION transferred its assets to one or more institutions including WELLS FARGO BANK, NATIONAL ASSOCIATION. ",
          "WELLS FARGO FINANCIAL MISSISSIPPI 2, INC.                                                                               <br>Year: 2011<br>Transformation Code: Charter Discontinued<br>Accounting Method: Merger<br>Notes: WELLS FARGO FINANCIAL MISSISSIPPI 2, INC. transferred its assets to one or more institutions including WELLS FARGO BANK, NATIONAL ASSOCIATION. ",
          "WELLS FARGO FINANCIAL MISSISSIPPI, INC.                                                                                 <br>Year: 2011<br>Transformation Code: Charter Discontinued<br>Accounting Method: Merger<br>Notes: WELLS FARGO FINANCIAL MISSISSIPPI, INC. transferred its assets to one or more institutions including WELLS FARGO BANK, NATIONAL ASSOCIATION. ",
          "WELLS FARGO DEALER SERVICES, INC.                                                                                       <br>Year: 2011<br>Transformation Code: Charter Discontinued<br>Accounting Method: Merger<br>Notes: WELLS FARGO DEALER SERVICES, INC. transferred its assets to one or more institutions including WELLS FARGO BANK, NATIONAL ASSOCIATION. ",
          "WELLS FARGO TRADE CAPITAL, LLC                                                                                          <br>Year: 2011<br>Transformation Code: Charter Discontinued<br>Accounting Method: Merger<br>Notes: WELLS FARGO TRADE CAPITAL, LLC transferred its assets to one or more institutions including WELLS FARGO BANK, NATIONAL ASSOCIATION. ",
          "WACHOVIA MORTGAGE CORPORATION                                                                                           <br>Year: 2011<br>Transformation Code: Charter Discontinued<br>Accounting Method: Merger<br>Notes: WACHOVIA MORTGAGE CORPORATION transferred its assets to one or more institutions including WELLS FARGO BANK, NATIONAL ASSOCIATION. ",
          "WELLS FARGO CENTRAL BANK                                                                                                <br>Year: 2011<br>Transformation Code: Charter Discontinued<br>Accounting Method: Merger<br>Notes: WELLS FARGO CENTRAL BANK transferred its assets to one or more institutions including WELLS FARGO BANK, NATIONAL ASSOCIATION. ",
          "WACHOVIA HOLDINGS, INC.                                                                                                 <br>Year: 2011<br>Transformation Code: Charter Discontinued<br>Accounting Method: Merger<br>Notes: WACHOVIA HOLDINGS, INC. transferred its assets to one or more institutions including WELLS FARGO BANK, NATIONAL ASSOCIATION. ",
          "WACHOVIA SHARED RESOURCES, LLC                                                                                          <br>Year: 2011<br>Transformation Code: Charter Discontinued<br>Accounting Method: Merger<br>Notes: WACHOVIA SHARED RESOURCES, LLC transferred its assets to one or more institutions including WELLS FARGO BANK, NATIONAL ASSOCIATION. ",
          "WACHOVIA FINANCIAL SERVICES, INC.                                                                                       <br>Year: 2010<br>Transformation Code: Charter Discontinued<br>Accounting Method: Purchase/Acquisition<br>Notes: WACHOVIA FINANCIAL SERVICES, INC. transferred its assets to one or more institutions including WELLS FARGO BANK, NATIONAL ASSOCIATION. ",
          "WELLS FARGO RETAIL FINANCE, LLC                                                                                         <br>Year: 2010<br>Transformation Code: Charter Discontinued<br>Accounting Method: Merger<br>Notes: WELLS FARGO RETAIL FINANCE, LLC transferred its assets to one or more institutions including WELLS FARGO BANK, NATIONAL ASSOCIATION. ",
          "WELLS FARGO ALASKA TRUST COMPANY, NATIONAL ASSOCIATION                                                                  <br>Year: 2010<br>Transformation Code: Charter Discontinued<br>Accounting Method: Merger<br>Notes: WELLS FARGO ALASKA TRUST COMPANY, NATIONAL ASSOCIATION transferred its assets to one or more institutions including WELLS FARGO BANK, NATIONAL ASSOCIATION. ",
          "METROPOLITAN WEST SECURITIES, LLC                                                                                       <br>Year: 2010<br>Transformation Code: Charter Discontinued<br>Accounting Method: Merger<br>Notes: METROPOLITAN WEST SECURITIES, LLC transferred its assets to one or more institutions including WELLS FARGO BANK, NATIONAL ASSOCIATION. ",
          "WELLS FARGO EDUCATION FINANCE INC.                                                                                      <br>Year: 2010<br>Transformation Code: Charter Discontinued<br>Accounting Method: Merger<br>Notes: WELLS FARGO EDUCATION FINANCE INC. transferred its assets to one or more institutions including WELLS FARGO BANK, NATIONAL ASSOCIATION. ",
          "CALIBRE ADVISORY SERVICES, INC.                                                                                         <br>Year: 2010<br>Transformation Code: Charter Discontinued<br>Accounting Method: Merger<br>Notes: CALIBRE ADVISORY SERVICES, INC. transferred its assets to one or more institutions including WELLS FARGO BANK, NATIONAL ASSOCIATION. ",
          "WELLS FARGO HSBC TRADE BANK, NATIONAL ASSOCIATION                                                                       <br>Year: 2010<br>Transformation Code: Charter Discontinued<br>Accounting Method: Merger<br>Notes: WELLS FARGO HSBC TRADE BANK, NATIONAL ASSOCIATION transferred its assets to one or more institutions including WELLS FARGO BANK, NATIONAL ASSOCIATION. ",
          "WACHOVIA CARD SERVICES, NATIONAL ASSOCIATION                                                                            <br>Year: 2010<br>Transformation Code: Charter Discontinued<br>Accounting Method: Merger<br>Notes: WACHOVIA CARD SERVICES, NATIONAL ASSOCIATION transferred its assets to one or more institutions including WELLS FARGO BANK, NATIONAL ASSOCIATION. ",
          "WACHOVIA BANK, NATIONAL ASSOCIATION                                                                                     <br>Year: 2010<br>Transformation Code: Charter Discontinued<br>Accounting Method: Merger<br>Notes: WACHOVIA BANK, NATIONAL ASSOCIATION transferred its assets to one or more institutions including WELLS FARGO BANK, NATIONAL ASSOCIATION. ",
          "WACHOVIA BANK OF DELAWARE, NATIONAL ASSOCIATION<br>Year: 2010<br>Transformation Code: Charter Discontinued<br>Accounting Method: Merger<br>Notes: WACHOVIA BANK OF DELAWARE, NATIONAL ASSOCIATION transferred its assets to one or more institutions including WELLS FARGO BANK, NATIONAL ASSOCIATION. ",
          "WACHOVIA MORTGAGE, F.S.B.<br>Year: 2009<br>Transformation Code: Charter Discontinued<br>Accounting Method: Merger<br>Notes: WACHOVIA MORTGAGE, F.S.B. transferred its assets to one or more institutions including WELLS FARGO BANK, NATIONAL ASSOCIATION. ",
          "CENTURY BANK, NATIONAL ASSOCIATION<br>Year: 2009<br>Transformation Code: Charter Discontinued<br>Accounting Method: Merger<br>Notes: CENTURY BANK, NATIONAL ASSOCIATION transferred its assets to one or more institutions including WELLS FARGO BANK, NATIONAL ASSOCIATION. ",
          "WELLS FARGO FINANCIAL BANK<br>Year: 2009<br>Transformation Code: Charter Discontinued<br>Accounting Method: Merger<br>Notes: WELLS FARGO FINANCIAL BANK transferred its assets to one or more institutions including WELLS FARGO BANK, NATIONAL ASSOCIATION. ",
          "WELLS FARGO BANK GRAND JUNCTION-DOWNTOWN, NATIONAL ASSOCIATION                                                          <br>Year: 2009<br>Transformation Code: Charter Discontinued<br>Accounting Method: Merger<br>Notes: WELLS FARGO BANK GRAND JUNCTION-DOWNTOWN, NATIONAL ASSOCIATION transferred its assets to one or more institutions including WELLS FARGO BANK, NATIONAL ASSOCIATION. ",
          "WELLS FARGO BANK GRAND JUNCTION, NATIONAL ASSOCIATION                                                                   <br>Year: 2009<br>Transformation Code: Charter Discontinued<br>Accounting Method: Merger<br>Notes: WELLS FARGO BANK GRAND JUNCTION, NATIONAL ASSOCIATION transferred its assets to one or more institutions including WELLS FARGO BANK, NATIONAL ASSOCIATION. ",
          "FARMERS STATE BANK OF FORT MORGAN                                                                                       <br>Year: 2008<br>Transformation Code: Charter Discontinued<br>Accounting Method: Purchase/Acquisition<br>Notes: FARMERS STATE BANK OF FORT MORGAN transferred its assets to one or more institutions including WELLS FARGO BANK, NATIONAL ASSOCIATION. ",
          "JACKSON STATE BANK & TRUST<br>Year: 2008<br>Transformation Code: Charter Discontinued<br>Accounting Method: Merger<br>Notes: JACKSON STATE BANK & TRUST, THE transferred its assets to one or more institutions including WELLS FARGO BANK, NATIONAL ASSOCIATION. ",
          "FIRST STATE BANK OF PINEDALE<br>Year: 2008<br>Transformation Code: Charter Discontinued<br>Accounting Method: Merger<br>Notes: FIRST STATE BANK OF PINEDALE transferred its assets to one or more institutions including WELLS FARGO BANK, NATIONAL ASSOCIATION. ",
          "SHERIDAN STATE BANK<br>Year: 2008<br>Transformation Code: Charter Discontinued<br>Accounting Method: Merger<br>Notes: SHERIDAN STATE BANK transferred its assets to one or more institutions including WELLS FARGO BANK, NATIONAL ASSOCIATION. ",
          "SHOSHONE FIRST BANK<br>Year: 2008<br>Transformation Code: Charter Discontinued<br>Accounting Method: Merger<br>Notes: SHOSHONE FIRST BANK transferred its assets to one or more institutions including WELLS FARGO BANK, NATIONAL ASSOCIATION. ",
          "UNITED BANK OF IDAHO<br>Year: 2008<br>Transformation Code: Charter Discontinued<br>Accounting Method: Purchase/Acquisition<br>Notes: UNITED BANK OF IDAHO transferred its assets to one or more institutions including WELLS FARGO BANK, NATIONAL ASSOCIATION. ",
          "GREATER BAY BANK, NATIONAL ASSOCIATION<br>Year: 2008<br>Transformation Code: Charter Discontinued<br>Accounting Method: Merger<br>Notes: GREATER BAY BANK, NATIONAL ASSOCIATION transferred its assets to one or more institutions including WELLS FARGO BANK, NATIONAL ASSOCIATION. ",
          "PLACER SIERRA BANK<br>Year: 2007<br>Transformation Code: Charter Discontinued<br>Accounting Method: Merger<br>Notes: PLACER SIERRA BANK transferred its assets to one or more institutions including WELLS FARGO BANK, NATIONAL ASSOCIATION. ",
          "COMMERCE FUNDING CORPORATION                                                                                            <br>Year: 2007<br>Transformation Code: Charter Discontinued<br>Accounting Method: Merger<br>Notes: COMMERCE FUNDING CORPORATION transferred its assets to one or more institutions including WELLS FARGO BANK, NATIONAL ASSOCIATION. ",
          "FREMONT NATIONAL BANK OF CANON CITY<br>Year: 2006<br>Transformation Code: Charter Discontinued<br>Accounting Method: Merger<br>Notes: FREMONT NATIONAL BANK OF CANON CITY transferred its assets to one or more institutions including WELLS FARGO BANK, NATIONAL ASSOCIATION. ",
          "CENTENNIAL BANK OF PUEBLO<br>Year: 2006<br>Transformation Code: Charter Discontinued<br>Accounting Method: Merger<br>Notes: CENTENNIAL BANK OF PUEBLO transferred its assets to one or more institutions including WELLS FARGO BANK, NATIONAL ASSOCIATION. ",
          "STATE BANK OF ROGERS<br>Year: 2006<br>Transformation Code: Charter Discontinued<br>Accounting Method: Merger<br>Notes: STATE BANK OF ROGERS transferred its assets to one or more institutions including WELLS FARGO BANK, NATIONAL ASSOCIATION. ",
          "FIRST COMMUNITY BANK, N.A.<br>Year: 2005<br>Transformation Code: Charter Discontinued<br>Accounting Method: Purchase/Acquisition<br>Notes: FIRST COMMUNITY BANK, N.A. transferred its assets to one or more institutions including WELLS FARGO BANK, NATIONAL ASSOCIATION. ",
          "WELLS FARGO BUSINESS CREDIT, INC.                                                                                       <br>Year: 2005<br>Transformation Code: Charter Discontinued<br>Accounting Method: Merger<br>Notes: WELLS FARGO BUSINESS CREDIT, INC. transferred its assets to one or more institutions including WELLS FARGO BANK, NATIONAL ASSOCIATION. ",
          "WELLS FARGO HOME MORTGAGE, INC.                                                                                         <br>Year: 2004<br>Transformation Code: Charter Discontinued<br>Accounting Method: Merger<br>Notes: WELLS FARGO HOME MORTGAGE, INC. transferred its assets to one or more institutions including WELLS FARGO BANK, NATIONAL ASSOCIATION. ",
          "PACIFIC NORTHWEST BANK                                                                                                  <br>Year: 2004<br>Transformation Code: Charter Discontinued<br>Accounting Method: Merger<br>Notes: PACIFIC NORTHWEST BANK transferred its assets to one or more institutions including WELLS FARGO BANK, NATIONAL ASSOCIATION. ",
          "WELLS FARGO SERVICES COMPANY                                                                                            <br>Year: 2004<br>Transformation Code: Charter Discontinued<br>Accounting Method: Merger<br>Notes: WELLS FARGO SERVICES COMPANY transferred its assets to one or more institutions including WELLS FARGO BANK, NATIONAL ASSOCIATION. ",
          "WELLS FARGO BANK ARIZONA, NATIONAL ASSOCIATION<br>Year: 2004<br>Transformation Code: Charter Discontinued<br>Accounting Method: Merger<br>Notes: WELLS FARGO BANK ARIZONA, NATIONAL ASSOCIATION transferred its assets to one or more institutions including WELLS FARGO BANK, NATIONAL ASSOCIATION. ",
          "WELLS FARGO BANK OHIO, NATIONAL ASSOCIATION<br>Year: 2004<br>Transformation Code: Charter Discontinued<br>Accounting Method: Merger<br>Notes: WELLS FARGO BANK OHIO, NATIONAL ASSOCIATION transferred its assets to one or more institutions including WELLS FARGO BANK, NATIONAL ASSOCIATION. ",
          "WELLS FARGO BANK MICHIGAN, NATIONAL ASSOCIATION<br>Year: 2004<br>Transformation Code: Charter Discontinued<br>Accounting Method: Merger<br>Notes: WELLS FARGO BANK MICHIGAN, NATIONAL ASSOCIATION transferred its assets to one or more institutions including WELLS FARGO BANK, NATIONAL ASSOCIATION. ",
          "WELLS FARGO BANK INDIANA, NATIONAL ASSOCIATION<br>Year: 2004<br>Transformation Code: Charter Discontinued<br>Accounting Method: Merger<br>Notes: WELLS FARGO BANK INDIANA, NATIONAL ASSOCIATION transferred its assets to one or more institutions including WELLS FARGO BANK, NATIONAL ASSOCIATION. ",
          "WELLS FARGO BANK SOUTH DAKOTA, NATIONAL ASSOCIATION<br>Year: 2004<br>Transformation Code: Charter Discontinued<br>Accounting Method: Merger<br>Notes: WELLS FARGO BANK SOUTH DAKOTA, NATIONAL ASSOCIATION transferred its assets to one or more institutions including WELLS FARGO BANK, NATIONAL ASSOCIATION. ",
          "WELLS FARGO BANK NEW MEXICO, NATIONAL ASSOCIATION<br>Year: 2004<br>Transformation Code: Charter Discontinued<br>Accounting Method: Merger<br>Notes: WELLS FARGO BANK NEW MEXICO, NATIONAL ASSOCIATION transferred its assets to one or more institutions including WELLS FARGO BANK, NATIONAL ASSOCIATION. ",
          "WELLS FARGO BANK NEVADA, NATIONAL ASSOCIATION<br>Year: 2004<br>Transformation Code: Charter Discontinued<br>Accounting Method: Merger<br>Notes: WELLS FARGO BANK NEVADA, NATIONAL ASSOCIATION transferred its assets to one or more institutions including WELLS FARGO BANK, NATIONAL ASSOCIATION. ",
          "WELLS FARGO BANK IOWA, NATIONAL ASSOCIATION<br>Year: 2004<br>Transformation Code: Charter Discontinued<br>Accounting Method: Merger<br>Notes: WELLS FARGO BANK IOWA, NATIONAL ASSOCIATION transferred its assets to one or more institutions including WELLS FARGO BANK, NATIONAL ASSOCIATION. ",
          "WELLS FARGO BANK WISCONSIN, NATIONAL ASSOCIATION<br>Year: 2004<br>Transformation Code: Charter Discontinued<br>Accounting Method: Merger<br>Notes: WELLS FARGO BANK WISCONSIN, NATIONAL ASSOCIATION transferred its assets to one or more institutions including WELLS FARGO BANK, NATIONAL ASSOCIATION. ",
          "WELLS FARGO BANK NORTH DAKOTA, NATIONAL ASSOCIATION <br>Year: 2004<br>Transformation Code: Charter Discontinued<br>Accounting Method: Merger<br>Notes: WELLS FARGO BANK NORTH DAKOTA, NATIONAL ASSOCIATION transferred its assets to one or more institutions including WELLS FARGO BANK, NATIONAL ASSOCIATION. ",
          "WELLS FARGO BANK ILLINOIS, NATIONAL ASSOCIATION<br>Year: 2004<br>Transformation Code: Charter Discontinued<br>Accounting Method: Merger<br>Notes: WELLS FARGO BANK ILLINOIS, NATIONAL ASSOCIATION transferred its assets to one or more institutions including WELLS FARGO BANK, NATIONAL ASSOCIATION. ",
          "WELLS FARGO BANK MINNESOTA, NATIONAL ASSOCIATION<br>Year: 2004<br>Transformation Code: Charter Discontinued<br>Accounting Method: Merger<br>Notes: WELLS FARGO BANK MINNESOTA, NATIONAL ASSOCIATION transferred its assets to one or more institutions including WELLS FARGO BANK, NATIONAL ASSOCIATION. ",
          "BANK OF GRAND JUNCTION<br>Year: 2003<br>Transformation Code: Charter Discontinued<br>Accounting Method: Merger<br>Notes: BANK OF GRAND JUNCTION transferred its assets to one or more institutions including WELLS FARGO BANK, NATIONAL ASSOCIATION. ",
          "WELLS FARGO BANK ALASKA, NATIONAL ASSOCIATION<br>Year: 2003<br>Transformation Code: Charter Discontinued<br>Accounting Method: Merger<br>Notes: WELLS FARGO BANK WYOMING, NATIONAL ASSOCIATION transferred its assets to one or more institutions including WELLS FARGO BANK, NATIONAL ASSOCIATION. ",
          "WELLS FARGO BANK MONTANA, NATIONAL ASSOCIATION<br>Year: 2003<br>Transformation Code: Charter Discontinued<br>Accounting Method: Merger<br>Notes: WELLS FARGO BANK MONTANA, NATIONAL ASSOCIATION transferred its assets to one or more institutions including WELLS FARGO BANK, NATIONAL ASSOCIATION. ",
          "WELLS FARGO BANK NEBRASKA, NATIONAL ASSOCIATION<br>Year: 2003<br>Transformation Code: Charter Discontinued<br>Accounting Method: Merger<br>Notes: WELLS FARGO BANK NEBRASKA, NATIONAL ASSOCIATION transferred its assets to one or more institutions including WELLS FARGO BANK, NATIONAL ASSOCIATION. ",
          "WELLS FARGO BANK WEST, NATIONAL ASSOCIATION<br>Year: 2003<br>Transformation Code: Charter Discontinued<br>Accounting Method: Merger<br>Notes: WELLS FARGO BANK WEST, NATIONAL ASSOCIATION transferred its assets to one or more institutions including WELLS FARGO BANK, NATIONAL ASSOCIATION. ",
          "WELLS FARGO BANK TEXAS, NATIONAL ASSOCIATION<br>Year: 2003<br>Transformation Code: Charter Discontinued<br>Accounting Method: Merger<br>Notes: WELLS FARGO BANK TEXAS, NATIONAL ASSOCIATION transferred its assets to one or more institutions including WELLS FARGO BANK, NATIONAL ASSOCIATION. ",
          "FIRST SECURITY BANK OF CALIFORNIA, NATIONAL ASSOCIATION<br>Year: 2000<br>Transformation Code: Charter Discontinued<br>Accounting Method: Merger<br>Notes: FIRST SECURITY BANK OF CALIFORNIA, NATIONAL ASSOCIATION transferred its assets to one or more institutions including WELLS FARGO BANK, NATIONAL ASSOCIATION. ",
          "NAPA NATIONAL BANK<br>Year: 2000<br>Transformation Code: Charter Discontinued<br>Accounting Method: Merger<br>Notes: NAPA NATIONAL BANK transferred its assets to one or more institutions including WELLS FARGO BANK, NATIONAL ASSOCIATION. ",
          "NORTH COUNTY BANK<br>Year: 2000<br>Transformation Code: Charter Discontinued<br>Accounting Method: Merger<br>Notes: NORTH COUNTY BANK transferred its assets to one or more institutions including WELLS FARGO BANK, NATIONAL ASSOCIATION. ",
          "NORWEST BANK RED WING, NATIONAL ASSOCIATION<br>Year: 2000<br>Transformation Code: Charter Discontinued<br>Accounting Method: Merger<br>Notes: NORWEST BANK RED WING, NATIONAL ASSOCIATION transferred its assets to one or more institutions including WELLS FARGO BANK, NATIONAL ASSOCIATION. ",
          "WELLS FARGO BANK (ARIZONA), NATIONAL ASSOCIATION                                                                        <br>Year: 2000<br>Transformation Code: Charter Discontinued<br>Accounting Method: Merger<br>Notes: WELLS FARGO BANK (ARIZONA), NATIONAL ASSOCIATION transferred its assets to one or more institutions including WELLS FARGO BANK, NATIONAL ASSOCIATION. ",
          "NORWEST CORPORATION<br>Year: 1998<br>Transformation Code: Charter Discontinued<br>Accounting Method: Purchase/Acquisition<br>Notes: nan",
          "WELLS FARGO BANK (COLORADO), NATIONAL ASSOCIATION <br>Year: 1997<br>Transformation Code: Charter Discontinued<br>Accounting Method: Merger<br>Notes: WELLS FARGO BANK (COLORADO), NATIONAL ASSOCIATION transferred its assets to one or more institutions including WELLS FARGO BANK, NATIONAL ASSOCIATION. ",
          "WELLS FARGO BANK OF ARIZONA, NATIONAL ASSOCIATION<br>Year: 1996<br>Transformation Code: Charter Discontinued<br>Accounting Method: Merger<br>Notes: WELLS FARGO BANK OF ARIZONA, NATIONAL ASSOCIATION transferred its assets to one or more institutions including WELLS FARGO BANK, NATIONAL ASSOCIATION. ",
          "FIRST INTERSTATE BANK OF WASHINGTON, NATIONAL ASSOCIATION<br>Year: 1996<br>Transformation Code: Charter Discontinued<br>Accounting Method: Merger<br>Notes: FIRST INTERSTATE BANK OF WASHINGTON, NATIONAL ASSOCIATION transferred its assets to one or more institutions including WELLS FARGO BANK, NATIONAL ASSOCIATION. ",
          "FIRST INTERSTATE BANK OF NEVADA, NATIONAL ASSOCIATION<br>Year: 1996<br>Transformation Code: Charter Discontinued<br>Accounting Method: Merger<br>Notes: FIRST INTERSTATE BANK OF NEVADA, NATIONAL ASSOCIATION transferred its assets to one or more institutions including WELLS FARGO BANK, NATIONAL ASSOCIATION. ",
          "FIRST INTERSTATE BANK OF IDAHO, NATIONAL ASSOCIATION<br>Year: 1996<br>Transformation Code: Charter Discontinued<br>Accounting Method: Merger<br>Notes: FIRST INTERSTATE BANK OF IDAHO, NATIONAL ASSOCIATION transferred its assets to one or more institutions including WELLS FARGO BANK, NATIONAL ASSOCIATION. ",
          "FIRST INTERSTATE BANK OF UTAH, NATIONAL ASSOCIATION<br>Year: 1996<br>Transformation Code: Charter Discontinued<br>Accounting Method: Merger<br>Notes: FIRST INTERSTATE BANK OF UTAH, NATIONAL ASSOCIATION transferred its assets to one or more institutions including WELLS FARGO BANK, NATIONAL ASSOCIATION. ",
          "FIRST INTERSTATE BANK OF NEW MEXICO, NATIONAL ASSOCIATION<br>Year: 1996<br>Transformation Code: Charter Discontinued<br>Accounting Method: Merger<br>Notes: FIRST INTERSTATE BANK OF NEW MEXICO, NATIONAL ASSOCIATION transferred its assets to one or more institutions including WELLS FARGO BANK, NATIONAL ASSOCIATION. ",
          "FIRST INTERSTATE BANK OF OREGON, NATIONAL ASSOCIATION<br>Year: 1996<br>Transformation Code: Charter Discontinued<br>Accounting Method: Merger<br>Notes: FIRST INTERSTATE BANK OF OREGON, NATIONAL ASSOCIATION transferred its assets to one or more institutions including WELLS FARGO BANK, NATIONAL ASSOCIATION. ",
          "CITIZENS BANK OF COSTA MESA<br>Year: 1991<br>Transformation Code: Charter Discontinued<br>Accounting Method: Not Applicable<br>Notes: CITIZENS BANK OF COSTA MESA transferred its assets to one or more institutions including WELLS FARGO BANK, NATIONAL ASSOCIATION. ",
          "EL CAMINO BANK<br>Year: 1991<br>Transformation Code: Charter Discontinued<br>Accounting Method: Not Applicable<br>Notes: EL CAMINO BANK transferred its assets to one or more institutions including WELLS FARGO BANK, NATIONAL ASSOCIATION. ",
          "TORREY PINES BANK<br>Year: 1990<br>Transformation Code: Charter Discontinued<br>Accounting Method: Not Applicable<br>Notes: TORREY PINES BANK transferred its assets to one or more institutions including WELLS FARGO BANK, NATIONAL ASSOCIATION. ",
          "AMERICAN NATIONAL BANK                                                                                                  <br>Year: 1990<br>Transformation Code: Charter Discontinued<br>Accounting Method: Not Applicable<br>Notes: AMERICAN NATIONAL BANK transferred its assets to one or more institutions including WELLS FARGO BANK, NATIONAL ASSOCIATION. ",
          "VALLEY NATIONAL BANK, GLENDALE<br>Year: 1990<br>Transformation Code: Charter Discontinued<br>Accounting Method: Not Applicable<br>Notes: VALLEY NATIONAL BANK, GLENDALE transferred its assets to one or more institutions including WELLS FARGO BANK, NATIONAL ASSOCIATION. ",
          "BANK OF PARADISE<br>Year: 1989<br>Transformation Code: Charter Discontinued<br>Accounting Method: Not Applicable<br>Notes: BANK OF PARADISE transferred its assets to one or more institutions including WELLS FARGO BANK, NATIONAL ASSOCIATION. ",
          "BARCLAYS BANK OF CALIFORNIA<br>Year: 1988<br>Transformation Code: Charter Discontinued<br>Accounting Method: Not Applicable<br>Notes: BARCLAYS BANK OF CALIFORNIA transferred its assets to one or more institutions including WELLS FARGO BANK, NATIONAL ASSOCIATION. ",
          "CROCKER NATIONAL BANK<br>Year: 1986<br>Transformation Code: Charter Discontinued<br>Accounting Method: Not Applicable<br>Notes: CROCKER NATIONAL BANK transferred its assets to one or more institutions including WELLS FARGO BANK, NATIONAL ASSOCIATION. ",
          "FIRST CENTRAL COAST BANK<br>Year: 1979<br>Transformation Code: Charter Discontinued<br>Accounting Method: Not Applicable<br>Notes: FIRST CENTRAL COAST BANK transferred its assets to one or more institutions including WELLS FARGO BANK, NATIONAL ASSOCIATION. ",
          "FIRST NATIONAL BANK OF ORANGE<br>Year: 1978<br>Transformation Code: Charter Discontinued<br>Accounting Method: Not Applicable<br>Notes: FIRST NATIONAL BANK OF ORANGE, THE transferred its assets to one or more institutions including WELLS FARGO BANK, NATIONAL ASSOCIATION. ",
          "COMMERCIAL NATIONAL BANK<br>Year: 1974<br>Transformation Code: Charter Discontinued<br>Accounting Method: Not Applicable<br>Notes: COMMERCIAL NATIONAL BANK transferred its assets to one or more institutions including WELLS FARGO BANK, NATIONAL ASSOCIATION. ",
          "BEVERLY HILLS NATIONAL BANK <br>Year: 1974<br>Transformation Code: Charter Discontinued<br>Accounting Method: Not Applicable<br>Notes: BEVERLY HILLS NATIONAL BANK transferred its assets to one or more institutions including WELLS FARGO BANK, NATIONAL ASSOCIATION. ",
          "FIRST NATIONAL BANK OF HOLTVILLE<br>Year: 1970<br>Transformation Code: Charter Discontinued<br>Accounting Method: Not Applicable<br>Notes: FIRST NATIONAL BANK OF HOLTVILLE transferred its assets to one or more institutions including WELLS FARGO BANK, NATIONAL ASSOCIATION. ",
          "LOS PADRES NATIONAL BANK<br>Year: 1970<br>Transformation Code: Charter Discontinued<br>Accounting Method: Not Applicable<br>Notes: LOS PADRES NATIONAL BANK transferred its assets to one or more institutions including WELLS FARGO BANK, NATIONAL ASSOCIATION. ",
          "CHANNEL ISLANDS STATE BANK<br>Year: 1969<br>Transformation Code: Charter Discontinued<br>Accounting Method: Not Applicable<br>Notes: CHANNEL ISLANDS STATE BANK transferred its assets to one or more institutions including WELLS FARGO BANK, NATIONAL ASSOCIATION. ",
          "AZUSA VALLEY SAVINGS BANK                                                                                               <br>Year: 1968<br>Transformation Code: Charter Discontinued<br>Accounting Method: Not Applicable<br>Notes: AZUSA VALLEY SAVINGS BANK transferred its assets to one or more institutions including WELLS FARGO BANK, NATIONAL ASSOCIATION. ",
          "FIRST NATIONAL BANK OF AZUSA <br>Year: 1968<br>Transformation Code: Charter Discontinued<br>Accounting Method: Not Applicable<br>Notes: FIRST NATIONAL BANK OF AZUSA transferred its assets to one or more institutions including WELLS FARGO BANK, NATIONAL ASSOCIATION. ",
          "BANK OF PASADENA<br>Year: 1968<br>Transformation Code: Charter Discontinued<br>Accounting Method: Not Applicable<br>Notes: BANK OF PASADENA transferred its assets to one or more institutions including WELLS FARGO BANK. ",
          "BANK OF AMADOR COUNTY<br>Year: 1965<br>Transformation Code: Charter Discontinued<br>Accounting Method: Not Applicable<br>Notes: BANK OF AMADOR COUNTY transferred its assets to one or more institutions including WELLS FARGO BANK. ",
          "STATE CENTER BANK                                                                                                       <br>Year: 1963<br>Transformation Code: Charter Discontinued<br>Accounting Method: Not Applicable<br>Notes: STATE CENTER BANK transferred its assets to one or more institutions including WELLS FARGO BANK. ",
          "FARMERS AND MERCHANTS NATIONAL BANK OF SANTA CRUZ<br>Year: 1962<br>Transformation Code: Charter Discontinued<br>Accounting Method: Not Applicable<br>Notes: FARMERS AND MERCHANTS NATIONAL BANK OF SANTA CRUZ transferred its assets to one or more institutions including WELLS FARGO BANK AMERICAN TRUST COMPANY. ",
          "PAJARO VALLEY BANK<br>Year: 1961<br>Transformation Code: Charter Discontinued<br>Accounting Method: Not Applicable<br>Notes: PAJARO VALLEY BANK transferred its assets to one or more institutions including WELLS FARGO BANK AMERICAN TRUST COMPANY. ",
          "NORTHERN COUNTIES BANK<br>Year: 1960<br>Transformation Code: Charter Discontinued<br>Accounting Method: Not Applicable<br>Notes: NORTHERN COUNTIES BANK transferred its assets to one or more institutions including WELLS FARGO BANK AMERICAN TRUST COMPANY. ",
          "AMERICAN TRUST COMPANY<br>Year: 1960<br>Transformation Code: Charter Discontinued<br>Accounting Method: Not Applicable<br>Notes: AMERICAN TRUST COMPANY transferred its assets to one or more institutions including WELLS FARGO BANK. ",
          "Wells Fargo<br>Year: N/A<br>Transformation Code: N/A<br>Accounting Method: N/A<br>Notes: N/A"
         ],
         "type": "scatter",
         "x": [
          2012,
          2011,
          2011,
          2011,
          2011,
          2011,
          2011,
          2011,
          2011,
          2011,
          2011,
          2011,
          2011,
          2010,
          2010,
          2010,
          2010,
          2010,
          2010,
          2010,
          2010,
          2010,
          2010,
          2009,
          2009,
          2009,
          2009,
          2009,
          2008,
          2008,
          2008,
          2008,
          2008,
          2008,
          2008,
          2007,
          2007,
          2006,
          2006,
          2006,
          2005,
          2005,
          2004,
          2004,
          2004,
          2004,
          2004,
          2004,
          2004,
          2004,
          2004,
          2004,
          2004,
          2004,
          2004,
          2004,
          2004,
          2003,
          2003,
          2003,
          2003,
          2003,
          2003,
          2000,
          2000,
          2000,
          2000,
          2000,
          1998,
          1997,
          1996,
          1996,
          1996,
          1996,
          1996,
          1996,
          1996,
          1991,
          1991,
          1990,
          1990,
          1990,
          1989,
          1988,
          1986,
          1979,
          1978,
          1974,
          1974,
          1970,
          1970,
          1969,
          1968,
          1968,
          1968,
          1965,
          1963,
          1962,
          1961,
          1960,
          1960,
          2013
         ],
         "y": [
          0,
          1,
          2,
          3,
          4,
          5,
          6,
          7,
          8,
          9,
          10,
          11,
          12,
          13,
          14,
          15,
          16,
          17,
          18,
          19,
          20,
          21,
          22,
          23,
          24,
          25,
          26,
          27,
          28,
          29,
          30,
          31,
          32,
          33,
          34,
          35,
          36,
          37,
          38,
          39,
          40,
          41,
          42,
          43,
          44,
          45,
          46,
          47,
          48,
          49,
          50,
          51,
          52,
          53,
          54,
          55,
          56,
          57,
          59,
          60,
          61,
          62,
          63,
          64,
          65,
          66,
          67,
          68,
          69,
          70,
          71,
          72,
          73,
          74,
          75,
          76,
          77,
          78,
          79,
          80,
          81,
          82,
          83,
          84,
          85,
          86,
          87,
          88,
          89,
          90,
          91,
          92,
          93,
          94,
          95,
          96,
          97,
          98,
          99,
          100,
          101,
          51
         ]
        }
       ],
       "layout": {
        "hovermode": "y unified",
        "margin": {
         "b": 20,
         "l": 5,
         "r": 5,
         "t": 40
        },
        "showlegend": false,
        "template": {
         "data": {
          "bar": [
           {
            "error_x": {
             "color": "#f2f5fa"
            },
            "error_y": {
             "color": "#f2f5fa"
            },
            "marker": {
             "line": {
              "color": "rgb(17,17,17)",
              "width": 0.5
             },
             "pattern": {
              "fillmode": "overlay",
              "size": 10,
              "solidity": 0.2
             }
            },
            "type": "bar"
           }
          ],
          "barpolar": [
           {
            "marker": {
             "line": {
              "color": "rgb(17,17,17)",
              "width": 0.5
             },
             "pattern": {
              "fillmode": "overlay",
              "size": 10,
              "solidity": 0.2
             }
            },
            "type": "barpolar"
           }
          ],
          "carpet": [
           {
            "aaxis": {
             "endlinecolor": "#A2B1C6",
             "gridcolor": "#506784",
             "linecolor": "#506784",
             "minorgridcolor": "#506784",
             "startlinecolor": "#A2B1C6"
            },
            "baxis": {
             "endlinecolor": "#A2B1C6",
             "gridcolor": "#506784",
             "linecolor": "#506784",
             "minorgridcolor": "#506784",
             "startlinecolor": "#A2B1C6"
            },
            "type": "carpet"
           }
          ],
          "choropleth": [
           {
            "colorbar": {
             "outlinewidth": 0,
             "ticks": ""
            },
            "type": "choropleth"
           }
          ],
          "contour": [
           {
            "colorbar": {
             "outlinewidth": 0,
             "ticks": ""
            },
            "colorscale": [
             [
              0,
              "#0d0887"
             ],
             [
              0.1111111111111111,
              "#46039f"
             ],
             [
              0.2222222222222222,
              "#7201a8"
             ],
             [
              0.3333333333333333,
              "#9c179e"
             ],
             [
              0.4444444444444444,
              "#bd3786"
             ],
             [
              0.5555555555555556,
              "#d8576b"
             ],
             [
              0.6666666666666666,
              "#ed7953"
             ],
             [
              0.7777777777777778,
              "#fb9f3a"
             ],
             [
              0.8888888888888888,
              "#fdca26"
             ],
             [
              1,
              "#f0f921"
             ]
            ],
            "type": "contour"
           }
          ],
          "contourcarpet": [
           {
            "colorbar": {
             "outlinewidth": 0,
             "ticks": ""
            },
            "type": "contourcarpet"
           }
          ],
          "heatmap": [
           {
            "colorbar": {
             "outlinewidth": 0,
             "ticks": ""
            },
            "colorscale": [
             [
              0,
              "#0d0887"
             ],
             [
              0.1111111111111111,
              "#46039f"
             ],
             [
              0.2222222222222222,
              "#7201a8"
             ],
             [
              0.3333333333333333,
              "#9c179e"
             ],
             [
              0.4444444444444444,
              "#bd3786"
             ],
             [
              0.5555555555555556,
              "#d8576b"
             ],
             [
              0.6666666666666666,
              "#ed7953"
             ],
             [
              0.7777777777777778,
              "#fb9f3a"
             ],
             [
              0.8888888888888888,
              "#fdca26"
             ],
             [
              1,
              "#f0f921"
             ]
            ],
            "type": "heatmap"
           }
          ],
          "heatmapgl": [
           {
            "colorbar": {
             "outlinewidth": 0,
             "ticks": ""
            },
            "colorscale": [
             [
              0,
              "#0d0887"
             ],
             [
              0.1111111111111111,
              "#46039f"
             ],
             [
              0.2222222222222222,
              "#7201a8"
             ],
             [
              0.3333333333333333,
              "#9c179e"
             ],
             [
              0.4444444444444444,
              "#bd3786"
             ],
             [
              0.5555555555555556,
              "#d8576b"
             ],
             [
              0.6666666666666666,
              "#ed7953"
             ],
             [
              0.7777777777777778,
              "#fb9f3a"
             ],
             [
              0.8888888888888888,
              "#fdca26"
             ],
             [
              1,
              "#f0f921"
             ]
            ],
            "type": "heatmapgl"
           }
          ],
          "histogram": [
           {
            "marker": {
             "pattern": {
              "fillmode": "overlay",
              "size": 10,
              "solidity": 0.2
             }
            },
            "type": "histogram"
           }
          ],
          "histogram2d": [
           {
            "colorbar": {
             "outlinewidth": 0,
             "ticks": ""
            },
            "colorscale": [
             [
              0,
              "#0d0887"
             ],
             [
              0.1111111111111111,
              "#46039f"
             ],
             [
              0.2222222222222222,
              "#7201a8"
             ],
             [
              0.3333333333333333,
              "#9c179e"
             ],
             [
              0.4444444444444444,
              "#bd3786"
             ],
             [
              0.5555555555555556,
              "#d8576b"
             ],
             [
              0.6666666666666666,
              "#ed7953"
             ],
             [
              0.7777777777777778,
              "#fb9f3a"
             ],
             [
              0.8888888888888888,
              "#fdca26"
             ],
             [
              1,
              "#f0f921"
             ]
            ],
            "type": "histogram2d"
           }
          ],
          "histogram2dcontour": [
           {
            "colorbar": {
             "outlinewidth": 0,
             "ticks": ""
            },
            "colorscale": [
             [
              0,
              "#0d0887"
             ],
             [
              0.1111111111111111,
              "#46039f"
             ],
             [
              0.2222222222222222,
              "#7201a8"
             ],
             [
              0.3333333333333333,
              "#9c179e"
             ],
             [
              0.4444444444444444,
              "#bd3786"
             ],
             [
              0.5555555555555556,
              "#d8576b"
             ],
             [
              0.6666666666666666,
              "#ed7953"
             ],
             [
              0.7777777777777778,
              "#fb9f3a"
             ],
             [
              0.8888888888888888,
              "#fdca26"
             ],
             [
              1,
              "#f0f921"
             ]
            ],
            "type": "histogram2dcontour"
           }
          ],
          "mesh3d": [
           {
            "colorbar": {
             "outlinewidth": 0,
             "ticks": ""
            },
            "type": "mesh3d"
           }
          ],
          "parcoords": [
           {
            "line": {
             "colorbar": {
              "outlinewidth": 0,
              "ticks": ""
             }
            },
            "type": "parcoords"
           }
          ],
          "pie": [
           {
            "automargin": true,
            "type": "pie"
           }
          ],
          "scatter": [
           {
            "marker": {
             "line": {
              "color": "#283442"
             }
            },
            "type": "scatter"
           }
          ],
          "scatter3d": [
           {
            "line": {
             "colorbar": {
              "outlinewidth": 0,
              "ticks": ""
             }
            },
            "marker": {
             "colorbar": {
              "outlinewidth": 0,
              "ticks": ""
             }
            },
            "type": "scatter3d"
           }
          ],
          "scattercarpet": [
           {
            "marker": {
             "colorbar": {
              "outlinewidth": 0,
              "ticks": ""
             }
            },
            "type": "scattercarpet"
           }
          ],
          "scattergeo": [
           {
            "marker": {
             "colorbar": {
              "outlinewidth": 0,
              "ticks": ""
             }
            },
            "type": "scattergeo"
           }
          ],
          "scattergl": [
           {
            "marker": {
             "line": {
              "color": "#283442"
             }
            },
            "type": "scattergl"
           }
          ],
          "scattermapbox": [
           {
            "marker": {
             "colorbar": {
              "outlinewidth": 0,
              "ticks": ""
             }
            },
            "type": "scattermapbox"
           }
          ],
          "scatterpolar": [
           {
            "marker": {
             "colorbar": {
              "outlinewidth": 0,
              "ticks": ""
             }
            },
            "type": "scatterpolar"
           }
          ],
          "scatterpolargl": [
           {
            "marker": {
             "colorbar": {
              "outlinewidth": 0,
              "ticks": ""
             }
            },
            "type": "scatterpolargl"
           }
          ],
          "scatterternary": [
           {
            "marker": {
             "colorbar": {
              "outlinewidth": 0,
              "ticks": ""
             }
            },
            "type": "scatterternary"
           }
          ],
          "surface": [
           {
            "colorbar": {
             "outlinewidth": 0,
             "ticks": ""
            },
            "colorscale": [
             [
              0,
              "#0d0887"
             ],
             [
              0.1111111111111111,
              "#46039f"
             ],
             [
              0.2222222222222222,
              "#7201a8"
             ],
             [
              0.3333333333333333,
              "#9c179e"
             ],
             [
              0.4444444444444444,
              "#bd3786"
             ],
             [
              0.5555555555555556,
              "#d8576b"
             ],
             [
              0.6666666666666666,
              "#ed7953"
             ],
             [
              0.7777777777777778,
              "#fb9f3a"
             ],
             [
              0.8888888888888888,
              "#fdca26"
             ],
             [
              1,
              "#f0f921"
             ]
            ],
            "type": "surface"
           }
          ],
          "table": [
           {
            "cells": {
             "fill": {
              "color": "#506784"
             },
             "line": {
              "color": "rgb(17,17,17)"
             }
            },
            "header": {
             "fill": {
              "color": "#2a3f5f"
             },
             "line": {
              "color": "rgb(17,17,17)"
             }
            },
            "type": "table"
           }
          ]
         },
         "layout": {
          "annotationdefaults": {
           "arrowcolor": "#f2f5fa",
           "arrowhead": 0,
           "arrowwidth": 1
          },
          "autotypenumbers": "strict",
          "coloraxis": {
           "colorbar": {
            "outlinewidth": 0,
            "ticks": ""
           }
          },
          "colorscale": {
           "diverging": [
            [
             0,
             "#8e0152"
            ],
            [
             0.1,
             "#c51b7d"
            ],
            [
             0.2,
             "#de77ae"
            ],
            [
             0.3,
             "#f1b6da"
            ],
            [
             0.4,
             "#fde0ef"
            ],
            [
             0.5,
             "#f7f7f7"
            ],
            [
             0.6,
             "#e6f5d0"
            ],
            [
             0.7,
             "#b8e186"
            ],
            [
             0.8,
             "#7fbc41"
            ],
            [
             0.9,
             "#4d9221"
            ],
            [
             1,
             "#276419"
            ]
           ],
           "sequential": [
            [
             0,
             "#0d0887"
            ],
            [
             0.1111111111111111,
             "#46039f"
            ],
            [
             0.2222222222222222,
             "#7201a8"
            ],
            [
             0.3333333333333333,
             "#9c179e"
            ],
            [
             0.4444444444444444,
             "#bd3786"
            ],
            [
             0.5555555555555556,
             "#d8576b"
            ],
            [
             0.6666666666666666,
             "#ed7953"
            ],
            [
             0.7777777777777778,
             "#fb9f3a"
            ],
            [
             0.8888888888888888,
             "#fdca26"
            ],
            [
             1,
             "#f0f921"
            ]
           ],
           "sequentialminus": [
            [
             0,
             "#0d0887"
            ],
            [
             0.1111111111111111,
             "#46039f"
            ],
            [
             0.2222222222222222,
             "#7201a8"
            ],
            [
             0.3333333333333333,
             "#9c179e"
            ],
            [
             0.4444444444444444,
             "#bd3786"
            ],
            [
             0.5555555555555556,
             "#d8576b"
            ],
            [
             0.6666666666666666,
             "#ed7953"
            ],
            [
             0.7777777777777778,
             "#fb9f3a"
            ],
            [
             0.8888888888888888,
             "#fdca26"
            ],
            [
             1,
             "#f0f921"
            ]
           ]
          },
          "colorway": [
           "#636efa",
           "#EF553B",
           "#00cc96",
           "#ab63fa",
           "#FFA15A",
           "#19d3f3",
           "#FF6692",
           "#B6E880",
           "#FF97FF",
           "#FECB52"
          ],
          "font": {
           "color": "#f2f5fa"
          },
          "geo": {
           "bgcolor": "rgb(17,17,17)",
           "lakecolor": "rgb(17,17,17)",
           "landcolor": "rgb(17,17,17)",
           "showlakes": true,
           "showland": true,
           "subunitcolor": "#506784"
          },
          "hoverlabel": {
           "align": "left"
          },
          "hovermode": "closest",
          "mapbox": {
           "style": "dark"
          },
          "paper_bgcolor": "rgb(17,17,17)",
          "plot_bgcolor": "rgb(17,17,17)",
          "polar": {
           "angularaxis": {
            "gridcolor": "#506784",
            "linecolor": "#506784",
            "ticks": ""
           },
           "bgcolor": "rgb(17,17,17)",
           "radialaxis": {
            "gridcolor": "#506784",
            "linecolor": "#506784",
            "ticks": ""
           }
          },
          "scene": {
           "xaxis": {
            "backgroundcolor": "rgb(17,17,17)",
            "gridcolor": "#506784",
            "gridwidth": 2,
            "linecolor": "#506784",
            "showbackground": true,
            "ticks": "",
            "zerolinecolor": "#C8D4E3"
           },
           "yaxis": {
            "backgroundcolor": "rgb(17,17,17)",
            "gridcolor": "#506784",
            "gridwidth": 2,
            "linecolor": "#506784",
            "showbackground": true,
            "ticks": "",
            "zerolinecolor": "#C8D4E3"
           },
           "zaxis": {
            "backgroundcolor": "rgb(17,17,17)",
            "gridcolor": "#506784",
            "gridwidth": 2,
            "linecolor": "#506784",
            "showbackground": true,
            "ticks": "",
            "zerolinecolor": "#C8D4E3"
           }
          },
          "shapedefaults": {
           "line": {
            "color": "#f2f5fa"
           }
          },
          "sliderdefaults": {
           "bgcolor": "#C8D4E3",
           "bordercolor": "rgb(17,17,17)",
           "borderwidth": 1,
           "tickwidth": 0
          },
          "ternary": {
           "aaxis": {
            "gridcolor": "#506784",
            "linecolor": "#506784",
            "ticks": ""
           },
           "baxis": {
            "gridcolor": "#506784",
            "linecolor": "#506784",
            "ticks": ""
           },
           "bgcolor": "rgb(17,17,17)",
           "caxis": {
            "gridcolor": "#506784",
            "linecolor": "#506784",
            "ticks": ""
           }
          },
          "title": {
           "x": 0.05
          },
          "updatemenudefaults": {
           "bgcolor": "#506784",
           "borderwidth": 0
          },
          "xaxis": {
           "automargin": true,
           "gridcolor": "#283442",
           "linecolor": "#506784",
           "ticks": "",
           "title": {
            "standoff": 15
           },
           "zerolinecolor": "#283442",
           "zerolinewidth": 2
          },
          "yaxis": {
           "automargin": true,
           "gridcolor": "#283442",
           "linecolor": "#506784",
           "ticks": "",
           "title": {
            "standoff": 15
           },
           "zerolinecolor": "#283442",
           "zerolinewidth": 2
          }
         }
        },
        "title": {
         "font": {
          "size": 16
         },
         "text": "Network of Wells Fargo Acquisitions and Mergers"
        },
        "xaxis": {
         "title": {
          "text": "Year of Transformation"
         }
        },
        "yaxis": {
         "showgrid": false,
         "showticklabels": false,
         "zeroline": false
        }
       }
      }
     },
     "metadata": {},
     "output_type": "display_data"
    }
   ],
   "source": [
    "# Create a directed graph\n",
    "G = nx.DiGraph()\n",
    "\n",
    "# Define node positions based on the 'Year'\n",
    "pos = {}\n",
    "year_min = trans_wf_df['Year'].min()\n",
    "year_max = trans_wf_df['Year'].max()\n",
    "y_pos = 0\n",
    "\n",
    "for _, row in trans_wf_df.iterrows():\n",
    "    G.add_node(row['Predecessor_Name'], \n",
    "               year=row['Year'], \n",
    "               trsfm_cd=row['Transformation Code'], \n",
    "               acct_method=row['Accounting Method'])\n",
    "    pos[row['Predecessor_Name']] = (row['Year'], y_pos)\n",
    "    y_pos += 1\n",
    "\n",
    "G.add_node('Wells Fargo')\n",
    "pos['Wells Fargo'] = (year_max + 1, y_pos / 2)  # Position BoA at the end\n",
    "\n",
    "# Add edges from predecessors to 'Chase'\n",
    "for _, row in trans_wf_df.iterrows():\n",
    "    G.add_edge(row['Predecessor_Name'], row['Successor_Name'])\n",
    "\n",
    "# Create edge trace for plotly\n",
    "edge_x = []\n",
    "edge_y = []\n",
    "for edge in G.edges():\n",
    "    x0, y0 = pos[edge[0]]\n",
    "    x1, y1 = pos[edge[1]]\n",
    "    edge_x.extend([x0, x1, None])\n",
    "    edge_y.extend([y0, y1, None])\n",
    "\n",
    "edge_trace = go.Scatter(\n",
    "    x=edge_x, y=edge_y,\n",
    "    line=dict(width=0.5, color='#888'),\n",
    "    hoverinfo='none',\n",
    "    mode='lines')\n",
    "\n",
    "# Create node trace\n",
    "node_x = [pos[node][0] for node in G.nodes()]\n",
    "node_y = [pos[node][1] for node in G.nodes()]\n",
    "node_text = []\n",
    "for node in G.nodes():\n",
    "    year = G.nodes[node].get('year', 'N/A')\n",
    "    trsfm_cd = G.nodes[node].get('trsfm_cd', 'N/A')\n",
    "    acct_method = G.nodes[node].get('acct_method', 'N/A')\n",
    "    notes = trans_wf_df.loc[trans_wf_df['Predecessor_Name'] == node, 'Notes'].values[0] if node in trans_wf_df['Predecessor_Name'].values else 'N/A'\n",
    "    node_info = f'{node}<br>Year: {year}<br>Transformation Code: {trsfm_cd}<br>Accounting Method: {acct_method}<br>Notes: {notes}'\n",
    "    node_text.append(node_info)\n",
    "\n",
    "node_trace = go.Scatter(\n",
    "    x=node_x, y=node_y,\n",
    "    mode='markers',\n",
    "    hoverinfo='text',\n",
    "    text=node_text,\n",
    "    marker=dict(\n",
    "        size=10,\n",
    "        line_width=2,color='#FFD408'))\n",
    "\n",
    "# Create the figure for plotting\n",
    "fig_wf = go.Figure(data=[edge_trace, node_trace],\n",
    "             layout=go.Layout(\n",
    "                title='Network of Wells Fargo Acquisitions and Mergers',\n",
    "                titlefont_size=16,\n",
    "                showlegend=False,\n",
    "                hovermode='y unified',\n",
    "                xaxis=dict(title='Year of Transformation'),\n",
    "                yaxis=dict(showgrid=False, zeroline=False, showticklabels=False),\n",
    "                margin=dict(b=20,l=5,r=5,t=40)) # Set margins to add a title and adjust the plot size. 'b' is the bottom margin, 'l' is the left margin, 'r' is the right margin, and 't' is the top margin.\n",
    "                )\n",
    "\n",
    "#Add dark theme\n",
    "fig_wf.update_layout(template='plotly_dark')\n",
    "\n",
    "fig_wf.show()"
   ]
  },
  {
   "cell_type": "markdown",
   "metadata": {},
   "source": [
    "### 3d) Network plot for Citibank <a id=\"12\"></a>"
   ]
  },
  {
   "cell_type": "code",
   "execution_count": 85,
   "metadata": {},
   "outputs": [
    {
     "data": {
      "application/vnd.plotly.v1+json": {
       "config": {
        "plotlyServerURL": "https://plotly.com"
       },
       "data": [
        {
         "hoverinfo": "none",
         "line": {
          "color": "#888",
          "width": 0.5
         },
         "mode": "lines",
         "type": "scatter",
         "x": [
          2022,
          2023,
          null,
          2012,
          2023,
          null,
          2012,
          2023,
          null,
          2011,
          2023,
          null,
          2007,
          2023,
          null,
          2006,
          2023,
          null,
          2006,
          2023,
          null,
          2006,
          2023,
          null,
          2006,
          2023,
          null,
          2006,
          2023,
          null,
          2003,
          2023,
          null,
          2002,
          2023,
          null,
          2001,
          2023,
          null,
          2001,
          2023,
          null,
          1998,
          2023,
          null,
          1984,
          2023,
          null,
          1982,
          2023,
          null,
          1976,
          2023,
          null,
          1976,
          2023,
          null,
          1963,
          2023,
          null,
          1962,
          2023,
          null
         ],
         "y": [
          0,
          10.5,
          null,
          1,
          10.5,
          null,
          2,
          10.5,
          null,
          3,
          10.5,
          null,
          4,
          10.5,
          null,
          5,
          10.5,
          null,
          6,
          10.5,
          null,
          7,
          10.5,
          null,
          8,
          10.5,
          null,
          9,
          10.5,
          null,
          10,
          10.5,
          null,
          11,
          10.5,
          null,
          12,
          10.5,
          null,
          13,
          10.5,
          null,
          14,
          10.5,
          null,
          15,
          10.5,
          null,
          16,
          10.5,
          null,
          17,
          10.5,
          null,
          18,
          10.5,
          null,
          19,
          10.5,
          null,
          20,
          10.5,
          null
         ]
        },
        {
         "hoverinfo": "text",
         "marker": {
          "color": "#1598C3",
          "line": {
           "width": 2
          },
          "size": 10
         },
         "mode": "markers",
         "text": [
          "DEPARTMENT STORES NATIONAL BANK                                                                                         <br>Year: 2022<br>Transformation Code: Charter Discontinued<br>Accounting Method: Merger<br>Notes: DEPARTMENT STORES NATIONAL BANK transferred its assets to one or more institutions including CITIBANK, N.A.. ",
          "CAL FED HOLDINGS, INC.                                                                                                  <br>Year: 2012<br>Transformation Code: Charter Discontinued<br>Accounting Method: Merger<br>Notes: CAL FED HOLDINGS, INC. transferred its assets to one or more institutions including CITIBANK, N.A.. ",
          "CITICORP TRUST BANK, FSB                                                                                                <br>Year: 2012<br>Transformation Code: Charter Discontinued<br>Accounting Method: Merger<br>Notes: CITICORP TRUST BANK, FSB transferred its assets to one or more institutions including CITIBANK, N.A.. ",
          "CITIBANK (SOUTH DAKOTA), NATIONAL ASSOCIATION                                                                           <br>Year: 2011<br>Transformation Code: Charter Discontinued<br>Accounting Method: Merger<br>Notes: CITIBANK (SOUTH DAKOTA), NATIONAL ASSOCIATION transferred its assets to one or more institutions including CITIBANK, N.A.. ",
          "CITIBANK INTERNATIONAL<br>Year: 2007<br>Transformation Code: Charter Discontinued<br>Accounting Method: Merger<br>Notes: CITIBANK INTERNATIONAL transferred its assets to one or more institutions including CITIBANK, N.A.. ",
          "CITIBANK DELAWARE<br>Year: 2006<br>Transformation Code: Charter Discontinued<br>Accounting Method: Merger<br>Notes: CITIBANK DELAWARE transferred its assets to one or more institutions including CITIBANK, N.A.. ",
          "CITICORP TRUST, NATIONAL ASSOCIATION<br>Year: 2006<br>Transformation Code: Charter Discontinued<br>Accounting Method: Merger<br>Notes: CITICORP TRUST, NATIONAL ASSOCIATION transferred its assets to one or more institutions including CITIBANK, N.A.. ",
          "CITIBANK TEXAS, NATIONAL ASSOCIATION<br>Year: 2006<br>Transformation Code: Charter Discontinued<br>Accounting Method: Merger<br>Notes: CITIBANK TEXAS, NATIONAL ASSOCIATION transferred its assets to one or more institutions including CITIBANK, N.A.. ",
          "CITIBANK, FEDERAL SAVINGS BANK<br>Year: 2006<br>Transformation Code: Charter Discontinued<br>Accounting Method: Merger<br>Notes: CITIBANK, FEDERAL SAVINGS BANK transferred its assets to one or more institutions including CITIBANK, N.A.. ",
          "CITIBANK (WEST), FSB<br>Year: 2006<br>Transformation Code: Charter Discontinued<br>Accounting Method: Merger<br>Notes: CITIBANK (WEST), FSB transferred its assets to one or more institutions including CITIBANK, N.A.. ",
          "CITIBANK (NEW YORK STATE)<br>Year: 2003<br>Transformation Code: Charter Discontinued<br>Accounting Method: Purchase/Acquisition<br>Notes: CITIBANK (NEW YORK STATE) transferred its assets to one or more institutions including CITIBANK, N.A.. ",
          "UNIVERSAL CARD SERVICES CORP.                                                                                           <br>Year: 2002<br>Transformation Code: Charter Discontinued<br>Accounting Method: Merger<br>Notes: UNIVERSAL CARD SERVICES CORP. transferred its assets to one or more institutions including CITIBANK, N.A.. ",
          "EUROPEAN AMERICAN BANK<br>Year: 2001<br>Transformation Code: Charter Discontinued<br>Accounting Method: Purchase/Acquisition<br>Notes: EUROPEAN AMERICAN BANK transferred its assets to one or more institutions including CITIBANK, N.A.. ",
          "BANAMEX<br>Year: 2001<br>Transformation Code: Charter Discontinued<br>Accounting Method: Purchase/Acquisition<br>Notes: nan",
          "BHN MULTIBANCO, S.A.                                                                                                    <br>Year: 1998<br>Transformation Code: Charter Discontinued<br>Accounting Method: Purchase/Acquisition<br>Notes: BHN MULTIBANCO, S.A. transferred its assets to one or more institutions including CITIBANK, N.A.. ",
          "GIROD TRUST COMPANY                                                                                                     <br>Year: 1984<br>Transformation Code: Failure<br>Accounting Method: Not Applicable<br>Notes: GIROD TRUST COMPANY failed and ceased to exist. Disposition was arranged by the regulatory agency. Assets were distributed to other entities.",
          "BANCO REGIONAL DE AHORRO DE BAYAMON<br>Year: 1982<br>Transformation Code: Failure<br>Accounting Method: Not Applicable<br>Notes: BANCO REGIONAL DE AHORRO DE BAYAMON failed and ceased to exist. Disposition was arranged by the regulatory agency. Assets were distributed to other entities.",
          "CITIBANK (MID-HUDSON) N.A.<br>Year: 1976<br>Transformation Code: Charter Discontinued<br>Accounting Method: Not Applicable<br>Notes: CITIBANK (MID-HUDSON) N.A. transferred its assets to one or more institutions including FIRST NATIONAL CITY BANK. ",
          "CITIBANK (SUFFOLK) NATIONAL ASSN<br>Year: 1976<br>Transformation Code: Charter Discontinued<br>Accounting Method: Not Applicable<br>Notes: CITIBANK (SUFFOLK) NATIONAL ASSN transferred its assets to one or more institutions including FIRST NATIONAL CITY BANK. ",
          "FIRST NATIONAL CITY TRUST COMPANY                                                                                       <br>Year: 1963<br>Transformation Code: Charter Discontinued<br>Accounting Method: Not Applicable<br>Notes: FIRST NATIONAL CITY TRUST COMPANY transferred its assets to one or more institutions including FIRST NATIONAL CITY BANK. ",
          "RICHMOND COUNTY NATIONAL BANK OF PORT RICHMOND<br>Year: 1962<br>Transformation Code: Charter Discontinued<br>Accounting Method: Not Applicable<br>Notes: RICHMOND COUNTY NATIONAL BANK OF PORT RICHMOND transferred its assets to one or more institutions including FIRST NATIONAL CITY BANK. ",
          "Citibank<br>Year: N/A<br>Transformation Code: N/A<br>Accounting Method: N/A<br>Notes: N/A"
         ],
         "type": "scatter",
         "x": [
          2022,
          2012,
          2012,
          2011,
          2007,
          2006,
          2006,
          2006,
          2006,
          2006,
          2003,
          2002,
          2001,
          2001,
          1998,
          1984,
          1982,
          1976,
          1976,
          1963,
          1962,
          2023
         ],
         "y": [
          0,
          1,
          2,
          3,
          4,
          5,
          6,
          7,
          8,
          9,
          10,
          11,
          12,
          13,
          14,
          15,
          16,
          17,
          18,
          19,
          20,
          10.5
         ]
        }
       ],
       "layout": {
        "hovermode": "y unified",
        "margin": {
         "b": 20,
         "l": 5,
         "r": 5,
         "t": 40
        },
        "showlegend": false,
        "template": {
         "data": {
          "bar": [
           {
            "error_x": {
             "color": "#f2f5fa"
            },
            "error_y": {
             "color": "#f2f5fa"
            },
            "marker": {
             "line": {
              "color": "rgb(17,17,17)",
              "width": 0.5
             },
             "pattern": {
              "fillmode": "overlay",
              "size": 10,
              "solidity": 0.2
             }
            },
            "type": "bar"
           }
          ],
          "barpolar": [
           {
            "marker": {
             "line": {
              "color": "rgb(17,17,17)",
              "width": 0.5
             },
             "pattern": {
              "fillmode": "overlay",
              "size": 10,
              "solidity": 0.2
             }
            },
            "type": "barpolar"
           }
          ],
          "carpet": [
           {
            "aaxis": {
             "endlinecolor": "#A2B1C6",
             "gridcolor": "#506784",
             "linecolor": "#506784",
             "minorgridcolor": "#506784",
             "startlinecolor": "#A2B1C6"
            },
            "baxis": {
             "endlinecolor": "#A2B1C6",
             "gridcolor": "#506784",
             "linecolor": "#506784",
             "minorgridcolor": "#506784",
             "startlinecolor": "#A2B1C6"
            },
            "type": "carpet"
           }
          ],
          "choropleth": [
           {
            "colorbar": {
             "outlinewidth": 0,
             "ticks": ""
            },
            "type": "choropleth"
           }
          ],
          "contour": [
           {
            "colorbar": {
             "outlinewidth": 0,
             "ticks": ""
            },
            "colorscale": [
             [
              0,
              "#0d0887"
             ],
             [
              0.1111111111111111,
              "#46039f"
             ],
             [
              0.2222222222222222,
              "#7201a8"
             ],
             [
              0.3333333333333333,
              "#9c179e"
             ],
             [
              0.4444444444444444,
              "#bd3786"
             ],
             [
              0.5555555555555556,
              "#d8576b"
             ],
             [
              0.6666666666666666,
              "#ed7953"
             ],
             [
              0.7777777777777778,
              "#fb9f3a"
             ],
             [
              0.8888888888888888,
              "#fdca26"
             ],
             [
              1,
              "#f0f921"
             ]
            ],
            "type": "contour"
           }
          ],
          "contourcarpet": [
           {
            "colorbar": {
             "outlinewidth": 0,
             "ticks": ""
            },
            "type": "contourcarpet"
           }
          ],
          "heatmap": [
           {
            "colorbar": {
             "outlinewidth": 0,
             "ticks": ""
            },
            "colorscale": [
             [
              0,
              "#0d0887"
             ],
             [
              0.1111111111111111,
              "#46039f"
             ],
             [
              0.2222222222222222,
              "#7201a8"
             ],
             [
              0.3333333333333333,
              "#9c179e"
             ],
             [
              0.4444444444444444,
              "#bd3786"
             ],
             [
              0.5555555555555556,
              "#d8576b"
             ],
             [
              0.6666666666666666,
              "#ed7953"
             ],
             [
              0.7777777777777778,
              "#fb9f3a"
             ],
             [
              0.8888888888888888,
              "#fdca26"
             ],
             [
              1,
              "#f0f921"
             ]
            ],
            "type": "heatmap"
           }
          ],
          "heatmapgl": [
           {
            "colorbar": {
             "outlinewidth": 0,
             "ticks": ""
            },
            "colorscale": [
             [
              0,
              "#0d0887"
             ],
             [
              0.1111111111111111,
              "#46039f"
             ],
             [
              0.2222222222222222,
              "#7201a8"
             ],
             [
              0.3333333333333333,
              "#9c179e"
             ],
             [
              0.4444444444444444,
              "#bd3786"
             ],
             [
              0.5555555555555556,
              "#d8576b"
             ],
             [
              0.6666666666666666,
              "#ed7953"
             ],
             [
              0.7777777777777778,
              "#fb9f3a"
             ],
             [
              0.8888888888888888,
              "#fdca26"
             ],
             [
              1,
              "#f0f921"
             ]
            ],
            "type": "heatmapgl"
           }
          ],
          "histogram": [
           {
            "marker": {
             "pattern": {
              "fillmode": "overlay",
              "size": 10,
              "solidity": 0.2
             }
            },
            "type": "histogram"
           }
          ],
          "histogram2d": [
           {
            "colorbar": {
             "outlinewidth": 0,
             "ticks": ""
            },
            "colorscale": [
             [
              0,
              "#0d0887"
             ],
             [
              0.1111111111111111,
              "#46039f"
             ],
             [
              0.2222222222222222,
              "#7201a8"
             ],
             [
              0.3333333333333333,
              "#9c179e"
             ],
             [
              0.4444444444444444,
              "#bd3786"
             ],
             [
              0.5555555555555556,
              "#d8576b"
             ],
             [
              0.6666666666666666,
              "#ed7953"
             ],
             [
              0.7777777777777778,
              "#fb9f3a"
             ],
             [
              0.8888888888888888,
              "#fdca26"
             ],
             [
              1,
              "#f0f921"
             ]
            ],
            "type": "histogram2d"
           }
          ],
          "histogram2dcontour": [
           {
            "colorbar": {
             "outlinewidth": 0,
             "ticks": ""
            },
            "colorscale": [
             [
              0,
              "#0d0887"
             ],
             [
              0.1111111111111111,
              "#46039f"
             ],
             [
              0.2222222222222222,
              "#7201a8"
             ],
             [
              0.3333333333333333,
              "#9c179e"
             ],
             [
              0.4444444444444444,
              "#bd3786"
             ],
             [
              0.5555555555555556,
              "#d8576b"
             ],
             [
              0.6666666666666666,
              "#ed7953"
             ],
             [
              0.7777777777777778,
              "#fb9f3a"
             ],
             [
              0.8888888888888888,
              "#fdca26"
             ],
             [
              1,
              "#f0f921"
             ]
            ],
            "type": "histogram2dcontour"
           }
          ],
          "mesh3d": [
           {
            "colorbar": {
             "outlinewidth": 0,
             "ticks": ""
            },
            "type": "mesh3d"
           }
          ],
          "parcoords": [
           {
            "line": {
             "colorbar": {
              "outlinewidth": 0,
              "ticks": ""
             }
            },
            "type": "parcoords"
           }
          ],
          "pie": [
           {
            "automargin": true,
            "type": "pie"
           }
          ],
          "scatter": [
           {
            "marker": {
             "line": {
              "color": "#283442"
             }
            },
            "type": "scatter"
           }
          ],
          "scatter3d": [
           {
            "line": {
             "colorbar": {
              "outlinewidth": 0,
              "ticks": ""
             }
            },
            "marker": {
             "colorbar": {
              "outlinewidth": 0,
              "ticks": ""
             }
            },
            "type": "scatter3d"
           }
          ],
          "scattercarpet": [
           {
            "marker": {
             "colorbar": {
              "outlinewidth": 0,
              "ticks": ""
             }
            },
            "type": "scattercarpet"
           }
          ],
          "scattergeo": [
           {
            "marker": {
             "colorbar": {
              "outlinewidth": 0,
              "ticks": ""
             }
            },
            "type": "scattergeo"
           }
          ],
          "scattergl": [
           {
            "marker": {
             "line": {
              "color": "#283442"
             }
            },
            "type": "scattergl"
           }
          ],
          "scattermapbox": [
           {
            "marker": {
             "colorbar": {
              "outlinewidth": 0,
              "ticks": ""
             }
            },
            "type": "scattermapbox"
           }
          ],
          "scatterpolar": [
           {
            "marker": {
             "colorbar": {
              "outlinewidth": 0,
              "ticks": ""
             }
            },
            "type": "scatterpolar"
           }
          ],
          "scatterpolargl": [
           {
            "marker": {
             "colorbar": {
              "outlinewidth": 0,
              "ticks": ""
             }
            },
            "type": "scatterpolargl"
           }
          ],
          "scatterternary": [
           {
            "marker": {
             "colorbar": {
              "outlinewidth": 0,
              "ticks": ""
             }
            },
            "type": "scatterternary"
           }
          ],
          "surface": [
           {
            "colorbar": {
             "outlinewidth": 0,
             "ticks": ""
            },
            "colorscale": [
             [
              0,
              "#0d0887"
             ],
             [
              0.1111111111111111,
              "#46039f"
             ],
             [
              0.2222222222222222,
              "#7201a8"
             ],
             [
              0.3333333333333333,
              "#9c179e"
             ],
             [
              0.4444444444444444,
              "#bd3786"
             ],
             [
              0.5555555555555556,
              "#d8576b"
             ],
             [
              0.6666666666666666,
              "#ed7953"
             ],
             [
              0.7777777777777778,
              "#fb9f3a"
             ],
             [
              0.8888888888888888,
              "#fdca26"
             ],
             [
              1,
              "#f0f921"
             ]
            ],
            "type": "surface"
           }
          ],
          "table": [
           {
            "cells": {
             "fill": {
              "color": "#506784"
             },
             "line": {
              "color": "rgb(17,17,17)"
             }
            },
            "header": {
             "fill": {
              "color": "#2a3f5f"
             },
             "line": {
              "color": "rgb(17,17,17)"
             }
            },
            "type": "table"
           }
          ]
         },
         "layout": {
          "annotationdefaults": {
           "arrowcolor": "#f2f5fa",
           "arrowhead": 0,
           "arrowwidth": 1
          },
          "autotypenumbers": "strict",
          "coloraxis": {
           "colorbar": {
            "outlinewidth": 0,
            "ticks": ""
           }
          },
          "colorscale": {
           "diverging": [
            [
             0,
             "#8e0152"
            ],
            [
             0.1,
             "#c51b7d"
            ],
            [
             0.2,
             "#de77ae"
            ],
            [
             0.3,
             "#f1b6da"
            ],
            [
             0.4,
             "#fde0ef"
            ],
            [
             0.5,
             "#f7f7f7"
            ],
            [
             0.6,
             "#e6f5d0"
            ],
            [
             0.7,
             "#b8e186"
            ],
            [
             0.8,
             "#7fbc41"
            ],
            [
             0.9,
             "#4d9221"
            ],
            [
             1,
             "#276419"
            ]
           ],
           "sequential": [
            [
             0,
             "#0d0887"
            ],
            [
             0.1111111111111111,
             "#46039f"
            ],
            [
             0.2222222222222222,
             "#7201a8"
            ],
            [
             0.3333333333333333,
             "#9c179e"
            ],
            [
             0.4444444444444444,
             "#bd3786"
            ],
            [
             0.5555555555555556,
             "#d8576b"
            ],
            [
             0.6666666666666666,
             "#ed7953"
            ],
            [
             0.7777777777777778,
             "#fb9f3a"
            ],
            [
             0.8888888888888888,
             "#fdca26"
            ],
            [
             1,
             "#f0f921"
            ]
           ],
           "sequentialminus": [
            [
             0,
             "#0d0887"
            ],
            [
             0.1111111111111111,
             "#46039f"
            ],
            [
             0.2222222222222222,
             "#7201a8"
            ],
            [
             0.3333333333333333,
             "#9c179e"
            ],
            [
             0.4444444444444444,
             "#bd3786"
            ],
            [
             0.5555555555555556,
             "#d8576b"
            ],
            [
             0.6666666666666666,
             "#ed7953"
            ],
            [
             0.7777777777777778,
             "#fb9f3a"
            ],
            [
             0.8888888888888888,
             "#fdca26"
            ],
            [
             1,
             "#f0f921"
            ]
           ]
          },
          "colorway": [
           "#636efa",
           "#EF553B",
           "#00cc96",
           "#ab63fa",
           "#FFA15A",
           "#19d3f3",
           "#FF6692",
           "#B6E880",
           "#FF97FF",
           "#FECB52"
          ],
          "font": {
           "color": "#f2f5fa"
          },
          "geo": {
           "bgcolor": "rgb(17,17,17)",
           "lakecolor": "rgb(17,17,17)",
           "landcolor": "rgb(17,17,17)",
           "showlakes": true,
           "showland": true,
           "subunitcolor": "#506784"
          },
          "hoverlabel": {
           "align": "left"
          },
          "hovermode": "closest",
          "mapbox": {
           "style": "dark"
          },
          "paper_bgcolor": "rgb(17,17,17)",
          "plot_bgcolor": "rgb(17,17,17)",
          "polar": {
           "angularaxis": {
            "gridcolor": "#506784",
            "linecolor": "#506784",
            "ticks": ""
           },
           "bgcolor": "rgb(17,17,17)",
           "radialaxis": {
            "gridcolor": "#506784",
            "linecolor": "#506784",
            "ticks": ""
           }
          },
          "scene": {
           "xaxis": {
            "backgroundcolor": "rgb(17,17,17)",
            "gridcolor": "#506784",
            "gridwidth": 2,
            "linecolor": "#506784",
            "showbackground": true,
            "ticks": "",
            "zerolinecolor": "#C8D4E3"
           },
           "yaxis": {
            "backgroundcolor": "rgb(17,17,17)",
            "gridcolor": "#506784",
            "gridwidth": 2,
            "linecolor": "#506784",
            "showbackground": true,
            "ticks": "",
            "zerolinecolor": "#C8D4E3"
           },
           "zaxis": {
            "backgroundcolor": "rgb(17,17,17)",
            "gridcolor": "#506784",
            "gridwidth": 2,
            "linecolor": "#506784",
            "showbackground": true,
            "ticks": "",
            "zerolinecolor": "#C8D4E3"
           }
          },
          "shapedefaults": {
           "line": {
            "color": "#f2f5fa"
           }
          },
          "sliderdefaults": {
           "bgcolor": "#C8D4E3",
           "bordercolor": "rgb(17,17,17)",
           "borderwidth": 1,
           "tickwidth": 0
          },
          "ternary": {
           "aaxis": {
            "gridcolor": "#506784",
            "linecolor": "#506784",
            "ticks": ""
           },
           "baxis": {
            "gridcolor": "#506784",
            "linecolor": "#506784",
            "ticks": ""
           },
           "bgcolor": "rgb(17,17,17)",
           "caxis": {
            "gridcolor": "#506784",
            "linecolor": "#506784",
            "ticks": ""
           }
          },
          "title": {
           "x": 0.05
          },
          "updatemenudefaults": {
           "bgcolor": "#506784",
           "borderwidth": 0
          },
          "xaxis": {
           "automargin": true,
           "gridcolor": "#283442",
           "linecolor": "#506784",
           "ticks": "",
           "title": {
            "standoff": 15
           },
           "zerolinecolor": "#283442",
           "zerolinewidth": 2
          },
          "yaxis": {
           "automargin": true,
           "gridcolor": "#283442",
           "linecolor": "#506784",
           "ticks": "",
           "title": {
            "standoff": 15
           },
           "zerolinecolor": "#283442",
           "zerolinewidth": 2
          }
         }
        },
        "title": {
         "font": {
          "size": 16
         },
         "text": "Network of Citigroup Acquisitions and Mergers"
        },
        "xaxis": {
         "title": {
          "text": "Year of Transformation"
         }
        },
        "yaxis": {
         "showgrid": false,
         "showticklabels": false,
         "zeroline": false
        }
       }
      }
     },
     "metadata": {},
     "output_type": "display_data"
    }
   ],
   "source": [
    "# Create a directed graph\n",
    "G = nx.DiGraph()\n",
    "\n",
    "# Define node positions based on the 'Year'\n",
    "pos = {}\n",
    "year_min = trans_cb_df['Year'].min()\n",
    "year_max = trans_cb_df['Year'].max()\n",
    "y_pos = 0\n",
    "\n",
    "for _, row in trans_cb_df.iterrows():\n",
    "    G.add_node(row['Predecessor_Name'], \n",
    "               year=row['Year'], \n",
    "               trsfm_cd=row['Transformation Code'], \n",
    "               acct_method=row['Accounting Method'])\n",
    "    pos[row['Predecessor_Name']] = (row['Year'], y_pos)\n",
    "    y_pos += 1\n",
    "\n",
    "G.add_node('Citibank')\n",
    "pos['Citibank'] = (year_max + 1, y_pos / 2)  # Position BoA at the end\n",
    "\n",
    "# Add edges from predecessors to 'Chase'\n",
    "for _, row in trans_cb_df.iterrows():\n",
    "    G.add_edge(row['Predecessor_Name'], row['Successor_Name'])\n",
    "\n",
    "# Create edge trace for plotly\n",
    "edge_x = []\n",
    "edge_y = []\n",
    "for edge in G.edges():\n",
    "    x0, y0 = pos[edge[0]]\n",
    "    x1, y1 = pos[edge[1]]\n",
    "    edge_x.extend([x0, x1, None])\n",
    "    edge_y.extend([y0, y1, None])\n",
    "\n",
    "edge_trace = go.Scatter(\n",
    "    x=edge_x, y=edge_y,\n",
    "    line=dict(width=0.5, color='#888'),\n",
    "    hoverinfo='none',\n",
    "    mode='lines')\n",
    "\n",
    "# Create node trace\n",
    "node_x = [pos[node][0] for node in G.nodes()]\n",
    "node_y = [pos[node][1] for node in G.nodes()]\n",
    "node_text = []\n",
    "for node in G.nodes():\n",
    "    year = G.nodes[node].get('year', 'N/A')\n",
    "    trsfm_cd = G.nodes[node].get('trsfm_cd', 'N/A')\n",
    "    acct_method = G.nodes[node].get('acct_method', 'N/A')\n",
    "    notes = trans_cb_df.loc[trans_cb_df['Predecessor_Name'] == node, 'Notes'].values[0] if node in trans_cb_df['Predecessor_Name'].values else 'N/A'\n",
    "    node_info = f'{node}<br>Year: {year}<br>Transformation Code: {trsfm_cd}<br>Accounting Method: {acct_method}<br>Notes: {notes}'\n",
    "    node_text.append(node_info)\n",
    "\n",
    "node_trace = go.Scatter(\n",
    "    x=node_x, y=node_y,\n",
    "    mode='markers',\n",
    "    hoverinfo='text',\n",
    "    text=node_text,\n",
    "    marker=dict(\n",
    "        size=10,\n",
    "        line_width=2,color='#1598C3'))\n",
    "\n",
    "# Create the figure for plotting\n",
    "fig_cb = go.Figure(data=[edge_trace, node_trace],\n",
    "             layout=go.Layout(\n",
    "                title='Network of Citigroup Acquisitions and Mergers',\n",
    "                titlefont_size=16,\n",
    "                showlegend=False,\n",
    "                hovermode='y unified',\n",
    "                xaxis=dict(title='Year of Transformation'),\n",
    "                yaxis=dict(showgrid=False, zeroline=False, showticklabels=False),\n",
    "                margin=dict(b=20,l=5,r=5,t=40)) # Set margins to add a title and adjust the plot size. 'b' is the bottom margin, 'l' is the left margin, 'r' is the right margin, and 't' is the top margin.\n",
    "                )\n",
    "\n",
    "#Add dark theme\n",
    "fig_cb.update_layout(template='plotly_dark')\n",
    "\n",
    "fig_cb.show()"
   ]
  }
 ],
 "metadata": {
  "kernelspec": {
   "display_name": "base",
   "language": "python",
   "name": "python3"
  },
  "language_info": {
   "codemirror_mode": {
    "name": "ipython",
    "version": 3
   },
   "file_extension": ".py",
   "mimetype": "text/x-python",
   "name": "python",
   "nbconvert_exporter": "python",
   "pygments_lexer": "ipython3",
   "version": "3.10.13"
  }
 },
 "nbformat": 4,
 "nbformat_minor": 2
}
