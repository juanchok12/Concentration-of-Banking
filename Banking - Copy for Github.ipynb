{
 "cells": [
  {
   "cell_type": "markdown",
   "metadata": {},
   "source": [
    "# Concentration of Banking as a Property of Monopoly Capitalism: The big 7 U.S. commercial banks control 50% of consolidated assets"
   ]
  },
  {
   "cell_type": "markdown",
   "metadata": {},
   "source": [
    "![](IMG_6833.JPG)"
   ]
  },
  {
   "cell_type": "markdown",
   "metadata": {},
   "source": [
    "### 1)  Web scraping\n"
   ]
  },
  {
   "cell_type": "markdown",
   "metadata": {},
   "source": [
    "##### Data Sorce\n",
    "The Board of Governors of the Federal Reserve System publishes quarterly tables with the following important points for our research: \n",
    " * Name of bank\n",
    " * Bank ID\n",
    " * Consolidated assets\n",
    "Link: https://www.federalreserve.gov/releases/lbr/\n",
    "<img src=\"data_source.PNG\" alt=\"Image_process\" width=\"75%\" height=\"\">\n",
    "\n",
    "The aim of gthe web scraping stage is to identify the HTML tables, download (in a standarsized manner) this tables into CSV files , and prepare the CSV files for data cleaning for them to finalized into Pandas dataframes:\n",
    "\n",
    "\n",
    "<img src=\"Github Media/HTML to CSV to DF.PNG\" alt=\"Image\" width=\"75%\" height=\"\">"
   ]
  },
  {
   "cell_type": "markdown",
   "metadata": {},
   "source": [
    "#### 1a) Download all the quarterly tables of large commercial banks into HTML files"
   ]
  },
  {
   "cell_type": "code",
   "execution_count": 3,
   "metadata": {},
   "outputs": [],
   "source": [
    "import requests # library to handle requests\n",
    "from bs4 import BeautifulSoup # web scraping library \n",
    "import os # library to interact with the operating system\n",
    "import re # regular expression library\n",
    "import pandas as pd\n",
    "from datetime import datetime\n",
    "import pandas as pd"
   ]
  },
  {
   "cell_type": "code",
   "execution_count": 5,
   "metadata": {},
   "outputs": [],
   "source": [
    "#URL of the quarterly data\n",
    "url_qrtly=\"https://www.federalreserve.gov/releases/lbr/\"\n",
    "\n",
    "#Send a GET request to the website\n",
    "response=requests.get(url_qrtly) \n",
    "\n",
    "#Parse the response text using BeautifulSoup\n",
    "soup=BeautifulSoup(response.text,\"html.parser\")\n",
    "\n"
   ]
  },
  {
   "cell_type": "code",
   "execution_count": 6,
   "metadata": {},
   "outputs": [],
   "source": [
    "# Find all the 'a' tags with href attributes in the HTML\n",
    "all_links = soup.find_all('a', href=True)\n",
    "\n",
    "# Filter the links based on the link text\n",
    "dates= [\n",
    "    \"December 31, 2021\",\n",
    "    \"September 30, 2021\",\n",
    "    \"June 30, 2021\",\n",
    "    \"March 31, 2021\",\n",
    "    \"December 31, 2020\",\n",
    "    \"September 30, 2020\",\n",
    "    \"June 30, 2020\",\n",
    "    \"March 31, 2020\",\n",
    "    \"December 31, 2019\",\n",
    "    \"September 30, 2019\",\n",
    "    \"June 30, 2019\",\n",
    "    \"March 31, 2019\",\n",
    "    \"December 31, 2018\",\n",
    "    \"September 30, 2018\",\n",
    "    \"June 30, 2018\",\n",
    "    \"March 31, 2018\",\n",
    "    \"December 31, 2017\",\n",
    "    \"September 30, 2017\",\n",
    "    \"June 30, 2017\",\n",
    "    \"March 31, 2017\",\n",
    "    \"December 31, 2016\",\n",
    "    \"September 30, 2016\",\n",
    "    \"June 30, 2016\",\n",
    "    \"March 31, 2016\",\n",
    "    \"December 31, 2015\",\n",
    "    \"September 30, 2015\",\n",
    "    \"June 30, 2015\",\n",
    "    \"March 31, 2015\",\n",
    "    \"December 31, 2014\",\n",
    "    \"September 30, 2014\",\n",
    "    \"June 30, 2014\",\n",
    "    \"March 31, 2014\",\n",
    "    \"December 31, 2013\",\n",
    "    \"September 30, 2013\",\n",
    "    \"June 30, 2013\",\n",
    "    \"March 31, 2013\",\n",
    "    \"December 31, 2012\",\n",
    "    \"September 30, 2012\",\n",
    "    \"June 30, 2012\",\n",
    "    \"March 31, 2012\",\n",
    "    \"December 31, 2011\",\n",
    "    \"September 30, 2011\",\n",
    "    \"June 30, 2011\",\n",
    "    \"March 31, 2011\",\n",
    "    \"December 31, 2010\",\n",
    "    \"September 30, 2010\",\n",
    "    \"June 30, 2010\",\n",
    "    \"March 31, 2010\",\n",
    "    \"December 31, 2009\",\n",
    "    \"September 30, 2009\",\n",
    "    \"June 30, 2009\",\n",
    "    \"March 31, 2009\",\n",
    "    \"December 31, 2008\",\n",
    "    \"September 30, 2008\",\n",
    "    \"June 30, 2008\",\n",
    "    \"March 31, 2008\",\n",
    "    \"December 31, 2007\",\n",
    "    \"September 30, 2007\",\n",
    "    \"June 30, 2007\",\n",
    "    \"March 31, 2007\",\n",
    "    \"December 31, 2006\",\n",
    "    \"September 30, 2006\",\n",
    "    \"June 30, 2006\",\n",
    "    \"March 31, 2006\",\n",
    "    \"December 31, 2005\",\n",
    "    \"September 30, 2005\",\n",
    "    \"June 30, 2005\",\n",
    "    \"March 31, 2005\",\n",
    "    \"December 31, 2004\",\n",
    "    \"September 30, 2004\",\n",
    "    \"June 30, 2004\",\n",
    "    \"March 31, 2004\",\n",
    "\n",
    "]\n",
    "\n",
    "#Find all the 'a' tags with href attributes in the HTML\n",
    "all_links=soup.find_all('a', href=True)\n",
    "\n",
    "#Filter the links based on the link text\n",
    "links=[link['href'] for link in all_links if link.text in dates]\n",
    "\n"
   ]
  },
  {
   "cell_type": "code",
   "execution_count": 9,
   "metadata": {},
   "outputs": [],
   "source": [
    "#Create a directory to save the files:\n",
    "if not os.path.exists(r\"Your\\Directory\\Here\"):\n",
    "    os.makedirs(r\"Your\\Directory\\Here\")"
   ]
  },
  {
   "cell_type": "code",
   "execution_count": 23,
   "metadata": {},
   "outputs": [],
   "source": [
    "\n",
    "\n",
    "def sanitize_filename(link): # removes non-alphanumeric characters from filename\n",
    "    return re.sub(r'\\W|/', '_', link) # replaces non-alphanumeric characters with underscores\n",
    "\n",
    "for link in links: # loops through each link in the list of links\n",
    "    table_response=requests.get(url_qrtly + link)\n",
    "    filename = sanitize_filename(link) + '.html'\n",
    "    filepath = f\"C:\\\\Your\\\\Directory\\\\{filename}\"\n",
    "    with open(filepath, \"w\") as f:\n",
    "        f.write(table_response.text)"
   ]
  },
  {
   "cell_type": "markdown",
   "metadata": {},
   "source": [
    "#### 1b) Convert HTML files into CSV files\n"
   ]
  },
  {
   "cell_type": "code",
   "execution_count": 20,
   "metadata": {},
   "outputs": [],
   "source": [
    "import pandas as pd\n",
    "import lxml\n",
    "import os\n",
    "import numpy as np"
   ]
  },
  {
   "cell_type": "code",
   "execution_count": 4,
   "metadata": {},
   "outputs": [
    {
     "data": {
      "text/plain": [
       "['20040331_default_htm.html',\n",
       " '20040630_default_htm.html',\n",
       " '20040930_default_htm.html',\n",
       " '20041231_default_htm.html',\n",
       " '20050331_default_htm.html',\n",
       " '20050630_default_htm.html',\n",
       " '20050930_default_htm.html',\n",
       " '20051231_default_htm.html',\n",
       " '20060331_default_htm.html',\n",
       " '20060630_default_htm.html',\n",
       " '20060930_default_htm.html',\n",
       " '20061231_default_htm.html',\n",
       " '20070331_default_htm.html',\n",
       " '20070630_default_htm.html',\n",
       " '20070930_default_htm.html',\n",
       " '20071231_default_htm.html',\n",
       " '20080331_default_htm.html',\n",
       " '20080630_default_htm.html',\n",
       " '20080930_default_htm.html',\n",
       " '20081231_default_htm.html',\n",
       " '20090331_default_htm.html',\n",
       " '20090630_default_htm.html',\n",
       " '20090930_default_htm.html',\n",
       " '20091231_default_htm.html',\n",
       " '20100331_default_htm.html',\n",
       " '20100630_default_htm.html',\n",
       " '20100930_default_htm.html',\n",
       " '20101231_default_htm.html',\n",
       " '20110331_default_htm.html',\n",
       " '20110630_default_htm.html',\n",
       " '20110930_default_htm.html',\n",
       " '20111231_default_htm.html',\n",
       " '20120331_default_htm.html',\n",
       " '20120630_default_htm.html',\n",
       " '20120930_default_htm.html',\n",
       " '20121231_default_htm.html',\n",
       " '20130331_default_htm.html',\n",
       " '20130630_default_htm.html',\n",
       " '20130930_default_htm.html',\n",
       " '20131231_default_htm.html',\n",
       " '20140331_default_htm.html',\n",
       " '20140630_default_htm.html',\n",
       " '20140930_default_htm.html',\n",
       " '20141231_default_htm.html',\n",
       " '20150331_default_htm.html',\n",
       " '20150630_default_htm.html',\n",
       " '20150930_default_htm.html',\n",
       " '20151231_default_htm.html',\n",
       " '20160331_default_htm.html',\n",
       " '20160630_default_htm.html',\n",
       " '20160930_default_htm.html',\n",
       " '20161231_default_htm.html',\n",
       " '20170331_default_htm.html',\n",
       " '20170630_default_htm.html',\n",
       " '20170930_default_htm.html',\n",
       " '20171231_default_htm.html',\n",
       " '20180331_default_htm.html',\n",
       " '20180630_default_htm.html',\n",
       " '20180930_default_htm.html',\n",
       " '20181231_default_htm.html',\n",
       " '20190331_default_htm.html',\n",
       " '20190630_default_htm.html',\n",
       " '20190930_default_htm.html',\n",
       " '20191231_default_htm.html',\n",
       " '20200331_default_htm.html',\n",
       " '20200630_default_htm.html',\n",
       " '20200930_default_htm.html',\n",
       " '20201231_default_htm.html',\n",
       " '20210331_default_htm.html',\n",
       " '20210630_default_htm.html',\n",
       " '20210930_default_htm.html',\n",
       " '20211231_default_htm.html',\n",
       " 'FRB_ Large Commercial Banks--December 31, 2003.html',\n",
       " 'FRB_ Large Commercial Banks--September 30, 2003.html']"
      ]
     },
     "execution_count": 4,
     "metadata": {},
     "output_type": "execute_result"
    }
   ],
   "source": [
    "#Define the html directory\n",
    "html_dir=r\"Your\\Directory\\Here\"\n",
    "\n",
    "#Define the csv directory\n",
    "csv_dir=r\"Your\\Directory\\Here\\CSV_Folder\"\n",
    "\n",
    "#Get the list of all HTML files in the directory\n",
    "html_files=os.listdir(html_dir)\n",
    "html_files"
   ]
  },
  {
   "cell_type": "code",
   "execution_count": 11,
   "metadata": {},
   "outputs": [],
   "source": [
    "def sanitize_filename(link):\n",
    "    return re.sub(r'\\W|/', '_', link)"
   ]
  },
  {
   "cell_type": "code",
   "execution_count": null,
   "metadata": {},
   "outputs": [],
   "source": [
    "\n",
    "#Determine the quarter and year of the filename\n",
    "for html_file in html_files: \n",
    "    try:\n",
    "        print(f\"Processing file: {html_file}\")\n",
    "        year=html_file[:4]\n",
    "        date=html_file[4:8]\n",
    "        if date=='0331':\n",
    "            quarter='_q1'\n",
    "        elif date=='0630':\n",
    "            quarter='_q2'\n",
    "        elif date=='0930':\n",
    "            quarter='_q3'\n",
    "        elif date=='1231':\n",
    "            quarter='_q4'\n",
    "        else:\n",
    "            continue #skip the file if it is not a quarter end\n",
    "        #Create the CSV filename:\n",
    "        csv_file=f\"large_commercial_banks{quarter}_{year}.csv\"\n",
    "        print(f\"CSV file: {csv_file}\")\n",
    "        html_path=os.path.join(html_dir, html_file)\n",
    "        table = pd.read_html(html_path)[1]\n",
    "        csv_path = os.path.join(csv_dir, csv_file)\n",
    "        table.to_csv(csv_path, index=False)\n",
    "    except Exception as e:\n",
    "        print(f\"Error processing {html_file}: {e}\")\n",
    "\n",
    "\n",
    "print(f\"Processing file: {html_file}\")"
   ]
  },
  {
   "cell_type": "markdown",
   "metadata": {},
   "source": [
    "### 3) Data Cleaning"
   ]
  },
  {
   "cell_type": "markdown",
   "metadata": {},
   "source": [
    "#### 3a) Uniformity of column names"
   ]
  },
  {
   "cell_type": "code",
   "execution_count": 14,
   "metadata": {},
   "outputs": [
    {
     "data": {
      "text/plain": [
       "['large_commercial_banks_q1_2004.csv',\n",
       " 'large_commercial_banks_q1_2005.csv',\n",
       " 'large_commercial_banks_q1_2006.csv',\n",
       " 'large_commercial_banks_q1_2007.csv',\n",
       " 'large_commercial_banks_q1_2008.csv',\n",
       " 'large_commercial_banks_q1_2009.csv',\n",
       " 'large_commercial_banks_q1_2010.csv',\n",
       " 'large_commercial_banks_q1_2011.csv',\n",
       " 'large_commercial_banks_q1_2012.csv',\n",
       " 'large_commercial_banks_q1_2013.csv',\n",
       " 'large_commercial_banks_q1_2014.csv',\n",
       " 'large_commercial_banks_q1_2015.csv',\n",
       " 'large_commercial_banks_q1_2016.csv',\n",
       " 'large_commercial_banks_q1_2017.csv',\n",
       " 'large_commercial_banks_q1_2018.csv',\n",
       " 'large_commercial_banks_q1_2019.csv',\n",
       " 'large_commercial_banks_q1_2020.csv',\n",
       " 'large_commercial_banks_q1_2021.csv',\n",
       " 'large_commercial_banks_q1_2022.csv',\n",
       " 'large_commercial_banks_q1_2023.csv',\n",
       " 'large_commercial_banks_q2_2004.csv',\n",
       " 'large_commercial_banks_q2_2005.csv',\n",
       " 'large_commercial_banks_q2_2006.csv',\n",
       " 'large_commercial_banks_q2_2007.csv',\n",
       " 'large_commercial_banks_q2_2008.csv',\n",
       " 'large_commercial_banks_q2_2009.csv',\n",
       " 'large_commercial_banks_q2_2010.csv',\n",
       " 'large_commercial_banks_q2_2011.csv',\n",
       " 'large_commercial_banks_q2_2012.csv',\n",
       " 'large_commercial_banks_q2_2013.csv',\n",
       " 'large_commercial_banks_q2_2014.csv',\n",
       " 'large_commercial_banks_q2_2015.csv',\n",
       " 'large_commercial_banks_q2_2016.csv',\n",
       " 'large_commercial_banks_q2_2017.csv',\n",
       " 'large_commercial_banks_q2_2018.csv',\n",
       " 'large_commercial_banks_q2_2019.csv',\n",
       " 'large_commercial_banks_q2_2020.csv',\n",
       " 'large_commercial_banks_q2_2021.csv',\n",
       " 'large_commercial_banks_q2_2022.csv',\n",
       " 'large_commercial_banks_q3_2003.csv',\n",
       " 'large_commercial_banks_q3_2004.csv',\n",
       " 'large_commercial_banks_q3_2005.csv',\n",
       " 'large_commercial_banks_q3_2006.csv',\n",
       " 'large_commercial_banks_q3_2007.csv',\n",
       " 'large_commercial_banks_q3_2008.csv',\n",
       " 'large_commercial_banks_q3_2009.csv',\n",
       " 'large_commercial_banks_q3_2010.csv',\n",
       " 'large_commercial_banks_q3_2011.csv',\n",
       " 'large_commercial_banks_q3_2012.csv',\n",
       " 'large_commercial_banks_q3_2013.csv',\n",
       " 'large_commercial_banks_q3_2014.csv',\n",
       " 'large_commercial_banks_q3_2015.csv',\n",
       " 'large_commercial_banks_q3_2016.csv',\n",
       " 'large_commercial_banks_q3_2017.csv',\n",
       " 'large_commercial_banks_q3_2018.csv',\n",
       " 'large_commercial_banks_q3_2019.csv',\n",
       " 'large_commercial_banks_q3_2020.csv',\n",
       " 'large_commercial_banks_q3_2021.csv',\n",
       " 'large_commercial_banks_q3_2022.csv',\n",
       " 'large_commercial_banks_q4_2003.csv',\n",
       " 'large_commercial_banks_q4_2004.csv',\n",
       " 'large_commercial_banks_q4_2005.csv',\n",
       " 'large_commercial_banks_q4_2006.csv',\n",
       " 'large_commercial_banks_q4_2007.csv',\n",
       " 'large_commercial_banks_q4_2008.csv',\n",
       " 'large_commercial_banks_q4_2009.csv',\n",
       " 'large_commercial_banks_q4_2010.csv',\n",
       " 'large_commercial_banks_q4_2011.csv',\n",
       " 'large_commercial_banks_q4_2012.csv',\n",
       " 'large_commercial_banks_q4_2013.csv',\n",
       " 'large_commercial_banks_q4_2014.csv',\n",
       " 'large_commercial_banks_q4_2015.csv',\n",
       " 'large_commercial_banks_q4_2016.csv',\n",
       " 'large_commercial_banks_q4_2017.csv',\n",
       " 'large_commercial_banks_q4_2018.csv',\n",
       " 'large_commercial_banks_q4_2019.csv',\n",
       " 'large_commercial_banks_q4_2020.csv',\n",
       " 'large_commercial_banks_q4_2021.csv',\n",
       " 'large_commercial_banks_q4_2022.csv']"
      ]
     },
     "execution_count": 14,
     "metadata": {},
     "output_type": "execute_result"
    }
   ],
   "source": [
    "        \n",
    "#csv_file=f\"large_commercial_banks{year}_{quarter}_{date}{year}.csv\"\n",
    "\n",
    "#Define the CSV file path\n",
    "csv_dir=r\"Your\\Directory\\Here\\CSV_Folder\"\n",
    "\n",
    "#Get the list of CSV files in the directory\n",
    "csv_files=os.listdir(csv_dir)\n",
    "csv_files"
   ]
  },
  {
   "cell_type": "code",
   "execution_count": 22,
   "metadata": {},
   "outputs": [
    {
     "name": "stdout",
     "output_type": "stream",
     "text": [
      "Successfully converted large_commercial_banks_q1_2004.csv\n",
      "Successfully converted large_commercial_banks_q1_2005.csv\n",
      "Successfully converted large_commercial_banks_q1_2006.csv\n",
      "Successfully converted large_commercial_banks_q1_2007.csv\n",
      "Successfully converted large_commercial_banks_q1_2008.csv\n",
      "Successfully converted large_commercial_banks_q1_2009.csv\n",
      "Successfully converted large_commercial_banks_q1_2010.csv\n",
      "Successfully converted large_commercial_banks_q1_2011.csv\n",
      "Successfully converted large_commercial_banks_q1_2012.csv\n",
      "Successfully converted large_commercial_banks_q1_2013.csv\n",
      "Successfully converted large_commercial_banks_q1_2014.csv\n",
      "Successfully converted large_commercial_banks_q1_2015.csv\n",
      "Successfully converted large_commercial_banks_q1_2016.csv\n",
      "Successfully converted large_commercial_banks_q1_2017.csv\n",
      "Successfully converted large_commercial_banks_q1_2018.csv\n",
      "Successfully converted large_commercial_banks_q1_2019.csv\n",
      "Successfully converted large_commercial_banks_q1_2020.csv\n",
      "Successfully converted large_commercial_banks_q1_2021.csv\n",
      "Successfully converted large_commercial_banks_q1_2022.csv\n",
      "Successfully converted large_commercial_banks_q1_2023.csv\n",
      "Successfully converted large_commercial_banks_q2_2004.csv\n",
      "Successfully converted large_commercial_banks_q2_2005.csv\n",
      "Successfully converted large_commercial_banks_q2_2006.csv\n",
      "Successfully converted large_commercial_banks_q2_2007.csv\n",
      "Successfully converted large_commercial_banks_q2_2008.csv\n",
      "Successfully converted large_commercial_banks_q2_2009.csv\n",
      "Successfully converted large_commercial_banks_q2_2010.csv\n",
      "Successfully converted large_commercial_banks_q2_2011.csv\n",
      "Successfully converted large_commercial_banks_q2_2012.csv\n",
      "Successfully converted large_commercial_banks_q2_2013.csv\n",
      "Successfully converted large_commercial_banks_q2_2014.csv\n",
      "Successfully converted large_commercial_banks_q2_2015.csv\n",
      "Successfully converted large_commercial_banks_q2_2016.csv\n",
      "Successfully converted large_commercial_banks_q2_2017.csv\n",
      "Successfully converted large_commercial_banks_q2_2018.csv\n",
      "Successfully converted large_commercial_banks_q2_2019.csv\n",
      "Successfully converted large_commercial_banks_q2_2020.csv\n",
      "Successfully converted large_commercial_banks_q2_2021.csv\n",
      "Successfully converted large_commercial_banks_q2_2022.csv\n",
      "Successfully converted large_commercial_banks_q3_2003.csv\n",
      "Successfully converted large_commercial_banks_q3_2004.csv\n",
      "Successfully converted large_commercial_banks_q3_2005.csv\n",
      "Successfully converted large_commercial_banks_q3_2006.csv\n",
      "Successfully converted large_commercial_banks_q3_2007.csv\n",
      "Successfully converted large_commercial_banks_q3_2008.csv\n",
      "Successfully converted large_commercial_banks_q3_2009.csv\n",
      "Successfully converted large_commercial_banks_q3_2010.csv\n",
      "Successfully converted large_commercial_banks_q3_2011.csv\n",
      "Successfully converted large_commercial_banks_q3_2012.csv\n",
      "Successfully converted large_commercial_banks_q3_2013.csv\n",
      "Successfully converted large_commercial_banks_q3_2014.csv\n",
      "Successfully converted large_commercial_banks_q3_2015.csv\n",
      "Successfully converted large_commercial_banks_q3_2016.csv\n",
      "Successfully converted large_commercial_banks_q3_2017.csv\n",
      "Successfully converted large_commercial_banks_q3_2018.csv\n",
      "Successfully converted large_commercial_banks_q3_2019.csv\n",
      "Successfully converted large_commercial_banks_q3_2020.csv\n",
      "Successfully converted large_commercial_banks_q3_2021.csv\n",
      "Successfully converted large_commercial_banks_q3_2022.csv\n",
      "Successfully converted large_commercial_banks_q4_2003.csv\n",
      "Successfully converted large_commercial_banks_q4_2004.csv\n",
      "Successfully converted large_commercial_banks_q4_2005.csv\n",
      "Successfully converted large_commercial_banks_q4_2006.csv\n",
      "Successfully converted large_commercial_banks_q4_2007.csv\n",
      "Successfully converted large_commercial_banks_q4_2008.csv\n",
      "Successfully converted large_commercial_banks_q4_2009.csv\n",
      "Successfully converted large_commercial_banks_q4_2010.csv\n",
      "Successfully converted large_commercial_banks_q4_2011.csv\n",
      "Successfully converted large_commercial_banks_q4_2012.csv\n",
      "Successfully converted large_commercial_banks_q4_2013.csv\n",
      "Successfully converted large_commercial_banks_q4_2014.csv\n",
      "Successfully converted large_commercial_banks_q4_2015.csv\n",
      "Successfully converted large_commercial_banks_q4_2016.csv\n",
      "Successfully converted large_commercial_banks_q4_2017.csv\n",
      "Successfully converted large_commercial_banks_q4_2018.csv\n",
      "Successfully converted large_commercial_banks_q4_2019.csv\n",
      "Successfully converted large_commercial_banks_q4_2020.csv\n",
      "Successfully converted large_commercial_banks_q4_2021.csv\n",
      "Successfully converted large_commercial_banks_q4_2022.csv\n"
     ]
    }
   ],
   "source": [
    "#Define the uniform column names\n",
    "uniform_columns= [\n",
    "    'Name',\n",
    "    'Natl Rank',\n",
    "    'Bank ID',\n",
    "    'Bank Location',\n",
    "    'Charter',\n",
    "    'Consolidated Assets',\n",
    "    'Domestic Assets',\n",
    "    'Percentage Domestic Assets',\n",
    "    'Percentage Cumulative Assets',\n",
    "    'Domestic Branches',\n",
    "    'Foreign Branches',\n",
    "    'IBF',\n",
    "    'Percentage Foreign Owned',\n",
    "]\n",
    "\n",
    "#Loop through each CSV file and append to the uniform_columns\n",
    "for csv_file in csv_files:\n",
    "    try:\n",
    "        #construct the full path to the CSV file\n",
    "        csv_path=os.path.join(csv_dir,csv_file)\n",
    "\n",
    "        #Read the CSV file into a Dataframe\n",
    "        df=pd.read_csv(csv_path)\n",
    "\n",
    "        #Check if the DataFrame has the same number of columns as 'uniform_columns'\n",
    "        if len(df.columns) < len(uniform_columns):\n",
    "            #Add the missing columns and fill them with NaN\n",
    "            missing_cols=len(uniform_columns)-len(df.columns)\n",
    "            for _ in range(missing_cols):\n",
    "                df[uniform_columns[-missing_cols]]=np.nan\n",
    "\n",
    "        #Read the columns\n",
    "        df.columns=uniform_columns\n",
    "\n",
    "        #Write the DataFrame back to the CSV file\n",
    "        df.to_csv(csv_path,index=False)\n",
    "\n",
    "        print(f\"Successfully converted {csv_file}\")\n",
    "    except Exception as e:\n",
    "        print(f\"Error converting {csv_file}: {e}\") "
   ]
  },
  {
   "cell_type": "markdown",
   "metadata": {},
   "source": [
    "#### 3b) Change datatypes for columns and add new columns\n"
   ]
  },
  {
   "cell_type": "code",
   "execution_count": 27,
   "metadata": {},
   "outputs": [
    {
     "name": "stdout",
     "output_type": "stream",
     "text": [
      "Processing file: large_commercial_banks_q1_2004.csv\n",
      "Successfully cleaned file: large_commercial_banks_q1_2004.csv\n",
      "Processing file: large_commercial_banks_q1_2005.csv\n",
      "Successfully cleaned file: large_commercial_banks_q1_2005.csv\n",
      "Processing file: large_commercial_banks_q1_2006.csv\n",
      "Successfully cleaned file: large_commercial_banks_q1_2006.csv\n",
      "Processing file: large_commercial_banks_q1_2007.csv\n",
      "Successfully cleaned file: large_commercial_banks_q1_2007.csv\n",
      "Processing file: large_commercial_banks_q1_2008.csv\n",
      "Successfully cleaned file: large_commercial_banks_q1_2008.csv\n",
      "Processing file: large_commercial_banks_q1_2009.csv\n",
      "Successfully cleaned file: large_commercial_banks_q1_2009.csv\n",
      "Processing file: large_commercial_banks_q1_2010.csv\n",
      "Successfully cleaned file: large_commercial_banks_q1_2010.csv\n",
      "Processing file: large_commercial_banks_q1_2011.csv\n",
      "Successfully cleaned file: large_commercial_banks_q1_2011.csv\n",
      "Processing file: large_commercial_banks_q1_2012.csv\n",
      "Successfully cleaned file: large_commercial_banks_q1_2012.csv\n",
      "Processing file: large_commercial_banks_q1_2013.csv\n",
      "Successfully cleaned file: large_commercial_banks_q1_2013.csv\n",
      "Processing file: large_commercial_banks_q1_2014.csv\n",
      "Successfully cleaned file: large_commercial_banks_q1_2014.csv\n",
      "Processing file: large_commercial_banks_q1_2015.csv\n",
      "Successfully cleaned file: large_commercial_banks_q1_2015.csv\n",
      "Processing file: large_commercial_banks_q1_2016.csv\n",
      "Successfully cleaned file: large_commercial_banks_q1_2016.csv\n",
      "Processing file: large_commercial_banks_q1_2017.csv\n",
      "Successfully cleaned file: large_commercial_banks_q1_2017.csv\n",
      "Processing file: large_commercial_banks_q1_2018.csv\n",
      "Successfully cleaned file: large_commercial_banks_q1_2018.csv\n",
      "Processing file: large_commercial_banks_q1_2019.csv\n",
      "Successfully cleaned file: large_commercial_banks_q1_2019.csv\n",
      "Processing file: large_commercial_banks_q1_2020.csv\n",
      "Successfully cleaned file: large_commercial_banks_q1_2020.csv\n",
      "Processing file: large_commercial_banks_q1_2021.csv\n",
      "Successfully cleaned file: large_commercial_banks_q1_2021.csv\n",
      "Processing file: large_commercial_banks_q1_2022.csv\n",
      "Successfully cleaned file: large_commercial_banks_q1_2022.csv\n",
      "Processing file: large_commercial_banks_q1_2023.csv\n",
      "Successfully cleaned file: large_commercial_banks_q1_2023.csv\n",
      "Processing file: large_commercial_banks_q2_2004.csv\n",
      "Successfully cleaned file: large_commercial_banks_q2_2004.csv\n",
      "Processing file: large_commercial_banks_q2_2005.csv\n",
      "Successfully cleaned file: large_commercial_banks_q2_2005.csv\n",
      "Processing file: large_commercial_banks_q2_2006.csv\n",
      "Successfully cleaned file: large_commercial_banks_q2_2006.csv\n",
      "Processing file: large_commercial_banks_q2_2007.csv\n",
      "Successfully cleaned file: large_commercial_banks_q2_2007.csv\n",
      "Processing file: large_commercial_banks_q2_2008.csv\n",
      "Successfully cleaned file: large_commercial_banks_q2_2008.csv\n",
      "Processing file: large_commercial_banks_q2_2009.csv\n",
      "Successfully cleaned file: large_commercial_banks_q2_2009.csv\n",
      "Processing file: large_commercial_banks_q2_2010.csv\n",
      "Successfully cleaned file: large_commercial_banks_q2_2010.csv\n",
      "Processing file: large_commercial_banks_q2_2011.csv\n",
      "Successfully cleaned file: large_commercial_banks_q2_2011.csv\n",
      "Processing file: large_commercial_banks_q2_2012.csv\n",
      "Successfully cleaned file: large_commercial_banks_q2_2012.csv\n",
      "Processing file: large_commercial_banks_q2_2013.csv\n",
      "Successfully cleaned file: large_commercial_banks_q2_2013.csv\n",
      "Processing file: large_commercial_banks_q2_2014.csv\n",
      "Successfully cleaned file: large_commercial_banks_q2_2014.csv\n",
      "Processing file: large_commercial_banks_q2_2015.csv\n",
      "Successfully cleaned file: large_commercial_banks_q2_2015.csv\n",
      "Processing file: large_commercial_banks_q2_2016.csv\n",
      "Successfully cleaned file: large_commercial_banks_q2_2016.csv\n",
      "Processing file: large_commercial_banks_q2_2017.csv\n",
      "Successfully cleaned file: large_commercial_banks_q2_2017.csv\n",
      "Processing file: large_commercial_banks_q2_2018.csv\n",
      "Successfully cleaned file: large_commercial_banks_q2_2018.csv\n",
      "Processing file: large_commercial_banks_q2_2019.csv\n",
      "Successfully cleaned file: large_commercial_banks_q2_2019.csv\n",
      "Processing file: large_commercial_banks_q2_2020.csv\n",
      "Successfully cleaned file: large_commercial_banks_q2_2020.csv\n",
      "Processing file: large_commercial_banks_q2_2021.csv\n",
      "Successfully cleaned file: large_commercial_banks_q2_2021.csv\n",
      "Processing file: large_commercial_banks_q2_2022.csv\n",
      "Successfully cleaned file: large_commercial_banks_q2_2022.csv\n",
      "Processing file: large_commercial_banks_q3_2003.csv\n",
      "Successfully cleaned file: large_commercial_banks_q3_2003.csv\n",
      "Processing file: large_commercial_banks_q3_2004.csv\n",
      "Successfully cleaned file: large_commercial_banks_q3_2004.csv\n",
      "Processing file: large_commercial_banks_q3_2005.csv\n",
      "Successfully cleaned file: large_commercial_banks_q3_2005.csv\n",
      "Processing file: large_commercial_banks_q3_2006.csv\n",
      "Successfully cleaned file: large_commercial_banks_q3_2006.csv\n",
      "Processing file: large_commercial_banks_q3_2007.csv\n",
      "Successfully cleaned file: large_commercial_banks_q3_2007.csv\n",
      "Processing file: large_commercial_banks_q3_2008.csv\n",
      "Successfully cleaned file: large_commercial_banks_q3_2008.csv\n",
      "Processing file: large_commercial_banks_q3_2009.csv\n",
      "Successfully cleaned file: large_commercial_banks_q3_2009.csv\n",
      "Processing file: large_commercial_banks_q3_2010.csv\n",
      "Successfully cleaned file: large_commercial_banks_q3_2010.csv\n",
      "Processing file: large_commercial_banks_q3_2011.csv\n",
      "Successfully cleaned file: large_commercial_banks_q3_2011.csv\n",
      "Processing file: large_commercial_banks_q3_2012.csv\n",
      "Successfully cleaned file: large_commercial_banks_q3_2012.csv\n",
      "Processing file: large_commercial_banks_q3_2013.csv\n",
      "Successfully cleaned file: large_commercial_banks_q3_2013.csv\n",
      "Processing file: large_commercial_banks_q3_2014.csv\n",
      "Successfully cleaned file: large_commercial_banks_q3_2014.csv\n",
      "Processing file: large_commercial_banks_q3_2015.csv\n",
      "Successfully cleaned file: large_commercial_banks_q3_2015.csv\n",
      "Processing file: large_commercial_banks_q3_2016.csv\n",
      "Successfully cleaned file: large_commercial_banks_q3_2016.csv\n",
      "Processing file: large_commercial_banks_q3_2017.csv\n",
      "Successfully cleaned file: large_commercial_banks_q3_2017.csv\n",
      "Processing file: large_commercial_banks_q3_2018.csv\n",
      "Successfully cleaned file: large_commercial_banks_q3_2018.csv\n",
      "Processing file: large_commercial_banks_q3_2019.csv\n",
      "Successfully cleaned file: large_commercial_banks_q3_2019.csv\n",
      "Processing file: large_commercial_banks_q3_2020.csv\n",
      "Successfully cleaned file: large_commercial_banks_q3_2020.csv\n",
      "Processing file: large_commercial_banks_q3_2021.csv\n",
      "Successfully cleaned file: large_commercial_banks_q3_2021.csv\n",
      "Processing file: large_commercial_banks_q3_2022.csv\n",
      "Successfully cleaned file: large_commercial_banks_q3_2022.csv\n",
      "Processing file: large_commercial_banks_q4_2003.csv\n",
      "Successfully cleaned file: large_commercial_banks_q4_2003.csv\n",
      "Processing file: large_commercial_banks_q4_2004.csv\n",
      "Successfully cleaned file: large_commercial_banks_q4_2004.csv\n",
      "Processing file: large_commercial_banks_q4_2005.csv\n",
      "Successfully cleaned file: large_commercial_banks_q4_2005.csv\n",
      "Processing file: large_commercial_banks_q4_2006.csv\n",
      "Successfully cleaned file: large_commercial_banks_q4_2006.csv\n",
      "Processing file: large_commercial_banks_q4_2007.csv\n",
      "Successfully cleaned file: large_commercial_banks_q4_2007.csv\n",
      "Processing file: large_commercial_banks_q4_2008.csv\n",
      "Successfully cleaned file: large_commercial_banks_q4_2008.csv\n",
      "Processing file: large_commercial_banks_q4_2009.csv\n",
      "Successfully cleaned file: large_commercial_banks_q4_2009.csv\n",
      "Processing file: large_commercial_banks_q4_2010.csv\n",
      "Successfully cleaned file: large_commercial_banks_q4_2010.csv\n",
      "Processing file: large_commercial_banks_q4_2011.csv\n",
      "Successfully cleaned file: large_commercial_banks_q4_2011.csv\n",
      "Processing file: large_commercial_banks_q4_2012.csv\n",
      "Successfully cleaned file: large_commercial_banks_q4_2012.csv\n",
      "Processing file: large_commercial_banks_q4_2013.csv\n",
      "Successfully cleaned file: large_commercial_banks_q4_2013.csv\n",
      "Processing file: large_commercial_banks_q4_2014.csv\n",
      "Successfully cleaned file: large_commercial_banks_q4_2014.csv\n",
      "Processing file: large_commercial_banks_q4_2015.csv\n",
      "Successfully cleaned file: large_commercial_banks_q4_2015.csv\n",
      "Processing file: large_commercial_banks_q4_2016.csv\n",
      "Successfully cleaned file: large_commercial_banks_q4_2016.csv\n",
      "Processing file: large_commercial_banks_q4_2017.csv\n",
      "Successfully cleaned file: large_commercial_banks_q4_2017.csv\n",
      "Processing file: large_commercial_banks_q4_2018.csv\n",
      "Successfully cleaned file: large_commercial_banks_q4_2018.csv\n",
      "Processing file: large_commercial_banks_q4_2019.csv\n",
      "Successfully cleaned file: large_commercial_banks_q4_2019.csv\n",
      "Processing file: large_commercial_banks_q4_2020.csv\n",
      "Successfully cleaned file: large_commercial_banks_q4_2020.csv\n",
      "Processing file: large_commercial_banks_q4_2021.csv\n",
      "Successfully cleaned file: large_commercial_banks_q4_2021.csv\n",
      "Processing file: large_commercial_banks_q4_2022.csv\n",
      "Successfully cleaned file: large_commercial_banks_q4_2022.csv\n"
     ]
    }
   ],
   "source": [
    "#Define the columns to covnert the integer\n",
    "integer_columns=['Natl Rank', 'Consolidated Assets', 'Domestic Assets', 'Domestic Branches', 'Foreign Branches']\n",
    "\n",
    "#Define the columns to convert to floats\n",
    "float_columns=['Percentage Domestic Assets', 'Percentage Cumulative Assets', 'Percentage Foreign Owned']\n",
    "\n",
    "for csv_file in csv_files:\n",
    "    try:\n",
    "        print(f\"Processing file: {csv_file}\")\n",
    "        csv_path=os.path.join(csv_dir,csv_file)\n",
    "        df=pd.read_csv(csv_path)\n",
    "\n",
    "        #Convert to float columns\n",
    "        for col in integer_columns:\n",
    "            df[col]=pd.to_numeric(df[col],errors='coerce').fillna(0).astype(float)\n",
    "\n",
    "        #Mutiply 'Consolidated Assets' and 'Domestic Assets' by 1,000,000\n",
    "        df['Consolidated Assets']=df['Consolidated Assets'] #*1000000 use to multiply the 'Consolidated Assets', 'Domestic Assets' columns\n",
    "        df['Domestic Assets']=df['Domestic Assets'] #*1000000 use to multiply the 'Consolidated Assets', 'Domestic Assets' columns\n",
    "\n",
    "        #Convert float columns and divide by 100 to get decimal representation\n",
    "        for col in float_columns:\n",
    "            df[col]=pd.to_numeric(df[col],errors='coerce') #.div(100) use to divide 'Percentage Domestic Assets', 'Percentage Cumulative Assets', 'Percentage Foreign Owned'columns\n",
    "\n",
    "        #Save the cleaned DataFrame back to the CSV file\n",
    "        df.to_csv(csv_path,index=False)\n",
    "\n",
    "        print(f\"Successfully cleaned file: {csv_file}\")\n",
    "    except Exception as e:\n",
    "        print(f\"Error processing file: {csv_file}: {e}\")\n",
    "         \n",
    "\n"
   ]
  },
  {
   "cell_type": "markdown",
   "metadata": {},
   "source": [
    "Create another column in each one of the csv files that would allow me to see the percentage of the consolidated assets of each bank compared to the sum of the consolidated assets of all banks"
   ]
  },
  {
   "cell_type": "code",
   "execution_count": 29,
   "metadata": {},
   "outputs": [
    {
     "name": "stdout",
     "output_type": "stream",
     "text": [
      "Percentage of consolidated assets calculated for all CSV files.\n"
     ]
    }
   ],
   "source": [
    "\n",
    "#Get the list of all CSV files in the directory\n",
    "csv_files = os.listdir(csv_dir)\n",
    "\n",
    "\n",
    "#Loop through all the CSV files:\n",
    "for csv_file in csv_files:\n",
    "    csv_path=os.path.join(csv_dir,csv_file)\n",
    "    df=pd.read_csv(csv_path)\n",
    "\n",
    "    #Calculate tthe sum of consolidated assets for each bank\n",
    "    total_assets=df['Consolidated Assets'].sum()\n",
    "\n",
    "    #Calculate the percentage of consolidated assets for each bank\n",
    "    df['Percentage of Total Cosolidated Assets']=(df['Consolidated Assets']/total_assets)\n",
    "\n",
    "    # Save the updated dataframe back to the CSV file\n",
    "    df.to_csv(csv_path,index=False)\n",
    "\n"
   ]
  },
  {
   "cell_type": "markdown",
   "metadata": {},
   "source": [
    "Adding a date and column"
   ]
  },
  {
   "cell_type": "code",
   "execution_count": 38,
   "metadata": {},
   "outputs": [],
   "source": [
    "#Extract quater from filename\n",
    "csv_files=os.listdir(csv_dir)\n",
    "\n",
    "all_data=[]\n",
    "\n",
    "for csv_file in csv_files:\n",
    "    #Extract quarter and year from filename but exclude the extension\n",
    "    quarter_year = csv_file.split('_')[3:5]\n",
    "    quarter=quarter_year[0]\n",
    "    year=quarter_year[1].split('.')[0]\n",
    "\n",
    "    #Create 'Quarter' column value\n",
    "    quarter_column=quarter.replace('_','-')+'-'+year\n",
    "\n",
    "    #Create 'Date' column value\n",
    "    if quarter == 'q1':\n",
    "        month_day = '03/31'\n",
    "    elif quarter == 'q2':\n",
    "        month_day = '06/30'\n",
    "    elif quarter == 'q3':\n",
    "        month_day = '09/30'\n",
    "    elif quarter == 'q4':\n",
    "        month_day = '12/31'\n",
    "    else:\n",
    "        print(f\"Unexpected quarter value format in file: {csv_file}\") #Print out any problematic files\n",
    "    date_column=datetime.strptime(month_day+'/'+year,'%m/%d/%Y')\n",
    "\n",
    "    #Read in the data\n",
    "    df=pd.read_csv(os.path.join(csv_dir,csv_file))\n",
    "\n",
    "    #Add the quarter and year column\n",
    "    df['Quater']=quarter_column\n",
    "    df['Date']=date_column\n",
    "\n",
    "    #Write the DataFrame with the new columns back to the CSV file:\n",
    "    df.to_csv(os.path.join(csv_dir,csv_file),index=False)\n",
    "\n",
    "    all_data.append(df) #Append the data to the list\n",
    "\n"
   ]
  },
  {
   "cell_type": "markdown",
   "metadata": {},
   "source": [
    "#### 3c) Creating a concatenated single dataframe with all data points for all CSV files from 2003-2023"
   ]
  },
  {
   "cell_type": "code",
   "execution_count": null,
   "metadata": {},
   "outputs": [],
   "source": [
    "# Concatenate all data into a single DataFrame\n",
    "all_data_df = pd.concat(all_data, ignore_index=True)\n",
    "\n",
    "#Write the dataframe into a csv file\n",
    "all_data_df.to_csv(\"all_data.csv\",index=False)"
   ]
  },
  {
   "cell_type": "markdown",
   "metadata": {},
   "source": [
    "Create a 'Bank Name' column stardardizes the names of all banks according to the Bank ID to prevent the repetition of bank names in different string forms "
   ]
  },
  {
   "cell_type": "code",
   "execution_count": 44,
   "metadata": {},
   "outputs": [
    {
     "data": {
      "text/html": [
       "<div>\n",
       "<style scoped>\n",
       "    .dataframe tbody tr th:only-of-type {\n",
       "        vertical-align: middle;\n",
       "    }\n",
       "\n",
       "    .dataframe tbody tr th {\n",
       "        vertical-align: top;\n",
       "    }\n",
       "\n",
       "    .dataframe thead th {\n",
       "        text-align: right;\n",
       "    }\n",
       "</style>\n",
       "<table border=\"1\" class=\"dataframe\">\n",
       "  <thead>\n",
       "    <tr style=\"text-align: right;\">\n",
       "      <th></th>\n",
       "      <th>Name</th>\n",
       "      <th>Natl Rank</th>\n",
       "      <th>Bank ID</th>\n",
       "      <th>Bank Location</th>\n",
       "      <th>Charter</th>\n",
       "      <th>Consolidated Assets</th>\n",
       "      <th>Domestic Assets</th>\n",
       "      <th>Percentage Domestic Assets</th>\n",
       "      <th>Percentage Cumulative Assets</th>\n",
       "      <th>Domestic Branches</th>\n",
       "      <th>Foreign Branches</th>\n",
       "      <th>IBF</th>\n",
       "      <th>Percentage Foreign Owned</th>\n",
       "      <th>Percentage of Total Cosolidated Assets</th>\n",
       "      <th>Quater</th>\n",
       "      <th>Date</th>\n",
       "      <th>Bank Name</th>\n",
       "    </tr>\n",
       "  </thead>\n",
       "  <tbody>\n",
       "    <tr>\n",
       "      <th>33487</th>\n",
       "      <td>BANK OF AMER NA/BANK OF AMER CORP</td>\n",
       "      <td>2.0</td>\n",
       "      <td>480228</td>\n",
       "      <td>CHARLOTTE, NC</td>\n",
       "      <td>NAT</td>\n",
       "      <td>2.518290e+12</td>\n",
       "      <td>2.392162e+12</td>\n",
       "      <td>0.95</td>\n",
       "      <td>0.27</td>\n",
       "      <td>3804.0</td>\n",
       "      <td>24.0</td>\n",
       "      <td>Y</td>\n",
       "      <td>NaN</td>\n",
       "      <td>0.115448</td>\n",
       "      <td>q1-2023</td>\n",
       "      <td>2023-03-31</td>\n",
       "      <td>BANK OF AMER NA/BANK OF AMER CORP</td>\n",
       "    </tr>\n",
       "    <tr>\n",
       "      <th>34900</th>\n",
       "      <td>BANK OF BARTLETT/WEST TENNESSEE BSHRS</td>\n",
       "      <td>1406.0</td>\n",
       "      <td>225559</td>\n",
       "      <td>BARTLETT, TN</td>\n",
       "      <td>SMB</td>\n",
       "      <td>5.360000e+08</td>\n",
       "      <td>5.360000e+08</td>\n",
       "      <td>1.00</td>\n",
       "      <td>0.99</td>\n",
       "      <td>6.0</td>\n",
       "      <td>0.0</td>\n",
       "      <td>N</td>\n",
       "      <td>NaN</td>\n",
       "      <td>0.000025</td>\n",
       "      <td>q1-2023</td>\n",
       "      <td>2023-03-31</td>\n",
       "      <td>BANK OF BARTLETT/WEST TENNESSEE BSHRS</td>\n",
       "    </tr>\n",
       "    <tr>\n",
       "      <th>34915</th>\n",
       "      <td>DEMOTTE ST BK/DEMOTTE BC</td>\n",
       "      <td>1421.0</td>\n",
       "      <td>539340</td>\n",
       "      <td>DEMOTTE, IN</td>\n",
       "      <td>SMB</td>\n",
       "      <td>5.300000e+08</td>\n",
       "      <td>5.300000e+08</td>\n",
       "      <td>1.00</td>\n",
       "      <td>0.99</td>\n",
       "      <td>10.0</td>\n",
       "      <td>0.0</td>\n",
       "      <td>N</td>\n",
       "      <td>NaN</td>\n",
       "      <td>0.000024</td>\n",
       "      <td>q1-2023</td>\n",
       "      <td>2023-03-31</td>\n",
       "      <td>DEMOTTE ST BK/DEMOTTE BC</td>\n",
       "    </tr>\n",
       "    <tr>\n",
       "      <th>34914</th>\n",
       "      <td>PEOPLES B&amp;TC/PEOPLES BANKTRUST</td>\n",
       "      <td>1420.0</td>\n",
       "      <td>109136</td>\n",
       "      <td>BUFORD, GA</td>\n",
       "      <td>SNM</td>\n",
       "      <td>5.300000e+08</td>\n",
       "      <td>5.300000e+08</td>\n",
       "      <td>1.00</td>\n",
       "      <td>0.99</td>\n",
       "      <td>0.0</td>\n",
       "      <td>0.0</td>\n",
       "      <td>N</td>\n",
       "      <td>NaN</td>\n",
       "      <td>0.000024</td>\n",
       "      <td>q1-2023</td>\n",
       "      <td>2023-03-31</td>\n",
       "      <td>PEOPLES B&amp;TC/PEOPLES BANKTRUST</td>\n",
       "    </tr>\n",
       "    <tr>\n",
       "      <th>34913</th>\n",
       "      <td>SAVINGS BK/SAVINGS BC</td>\n",
       "      <td>1419.0</td>\n",
       "      <td>578116</td>\n",
       "      <td>CIRCLEVILLE, OH</td>\n",
       "      <td>SNM</td>\n",
       "      <td>5.310000e+08</td>\n",
       "      <td>5.310000e+08</td>\n",
       "      <td>1.00</td>\n",
       "      <td>0.99</td>\n",
       "      <td>6.0</td>\n",
       "      <td>0.0</td>\n",
       "      <td>N</td>\n",
       "      <td>NaN</td>\n",
       "      <td>0.000024</td>\n",
       "      <td>q1-2023</td>\n",
       "      <td>2023-03-31</td>\n",
       "      <td>SAVINGS BK/SAVINGS BC</td>\n",
       "    </tr>\n",
       "    <tr>\n",
       "      <th>...</th>\n",
       "      <td>...</td>\n",
       "      <td>...</td>\n",
       "      <td>...</td>\n",
       "      <td>...</td>\n",
       "      <td>...</td>\n",
       "      <td>...</td>\n",
       "      <td>...</td>\n",
       "      <td>...</td>\n",
       "      <td>...</td>\n",
       "      <td>...</td>\n",
       "      <td>...</td>\n",
       "      <td>...</td>\n",
       "      <td>...</td>\n",
       "      <td>...</td>\n",
       "      <td>...</td>\n",
       "      <td>...</td>\n",
       "      <td>...</td>\n",
       "    </tr>\n",
       "    <tr>\n",
       "      <th>69688</th>\n",
       "      <td>MOUNTAINBANK/MOUNTAINBANK FC</td>\n",
       "      <td>456.0</td>\n",
       "      <td>2586740</td>\n",
       "      <td>HENDERSONVILLE, NC</td>\n",
       "      <td>SNM</td>\n",
       "      <td>8.780000e+08</td>\n",
       "      <td>8.780000e+08</td>\n",
       "      <td>1.00</td>\n",
       "      <td>0.93</td>\n",
       "      <td>13.0</td>\n",
       "      <td>0.0</td>\n",
       "      <td>N</td>\n",
       "      <td>0.0</td>\n",
       "      <td>0.000132</td>\n",
       "      <td>q3-2003</td>\n",
       "      <td>2003-09-30</td>\n",
       "      <td>MOUNTAINBANK/MOUNTAINBANK FC</td>\n",
       "    </tr>\n",
       "    <tr>\n",
       "      <th>69687</th>\n",
       "      <td>FRANKLIN NB/FRANKLIN FC</td>\n",
       "      <td>455.0</td>\n",
       "      <td>1408069</td>\n",
       "      <td>FRANKLIN, TN</td>\n",
       "      <td>NAT</td>\n",
       "      <td>8.780000e+08</td>\n",
       "      <td>8.780000e+08</td>\n",
       "      <td>1.00</td>\n",
       "      <td>0.93</td>\n",
       "      <td>10.0</td>\n",
       "      <td>0.0</td>\n",
       "      <td>N</td>\n",
       "      <td>0.0</td>\n",
       "      <td>0.000132</td>\n",
       "      <td>q3-2003</td>\n",
       "      <td>2003-09-30</td>\n",
       "      <td>FIFTH THIRD BK/FIFTH THIRD BC</td>\n",
       "    </tr>\n",
       "    <tr>\n",
       "      <th>69921</th>\n",
       "      <td>FIRST BK RICHMOND NA/FIRST MUTUAL RICHMOND</td>\n",
       "      <td>688.0</td>\n",
       "      <td>419675</td>\n",
       "      <td>RICHMOND, IN</td>\n",
       "      <td>NAT</td>\n",
       "      <td>5.680000e+08</td>\n",
       "      <td>5.680000e+08</td>\n",
       "      <td>1.00</td>\n",
       "      <td>0.96</td>\n",
       "      <td>4.0</td>\n",
       "      <td>0.0</td>\n",
       "      <td>N</td>\n",
       "      <td>0.0</td>\n",
       "      <td>0.000085</td>\n",
       "      <td>q3-2003</td>\n",
       "      <td>2003-09-30</td>\n",
       "      <td>FIRST BK RICHMOND/RICHMOND MUT BC</td>\n",
       "    </tr>\n",
       "    <tr>\n",
       "      <th>69685</th>\n",
       "      <td>PALMETTO BK/PALMETTO BSHRS</td>\n",
       "      <td>453.0</td>\n",
       "      <td>862824</td>\n",
       "      <td>LAURENS, SC</td>\n",
       "      <td>SNM</td>\n",
       "      <td>8.820000e+08</td>\n",
       "      <td>8.820000e+08</td>\n",
       "      <td>1.00</td>\n",
       "      <td>0.93</td>\n",
       "      <td>33.0</td>\n",
       "      <td>0.0</td>\n",
       "      <td>N</td>\n",
       "      <td>0.0</td>\n",
       "      <td>0.000132</td>\n",
       "      <td>q3-2003</td>\n",
       "      <td>2003-09-30</td>\n",
       "      <td>PALMETTO BK/CAPGEN CAP GRP V LLC</td>\n",
       "    </tr>\n",
       "    <tr>\n",
       "      <th>69877</th>\n",
       "      <td>HARRIS BK PALATINE NA/BANKMONT FC</td>\n",
       "      <td>645.0</td>\n",
       "      <td>645942</td>\n",
       "      <td>PALATINE, IL</td>\n",
       "      <td>NAT</td>\n",
       "      <td>6.060000e+08</td>\n",
       "      <td>6.060000e+08</td>\n",
       "      <td>1.00</td>\n",
       "      <td>0.95</td>\n",
       "      <td>6.0</td>\n",
       "      <td>0.0</td>\n",
       "      <td>N</td>\n",
       "      <td>1.0</td>\n",
       "      <td>0.000091</td>\n",
       "      <td>q3-2003</td>\n",
       "      <td>2003-09-30</td>\n",
       "      <td>HARRIS BK PALATINE NA/HARRIS FC</td>\n",
       "    </tr>\n",
       "  </tbody>\n",
       "</table>\n",
       "<p>139754 rows × 17 columns</p>\n",
       "</div>"
      ],
      "text/plain": [
       "                                             Name  Natl Rank  Bank ID  \\\n",
       "33487           BANK OF AMER NA/BANK OF AMER CORP        2.0   480228   \n",
       "34900       BANK OF BARTLETT/WEST TENNESSEE BSHRS     1406.0   225559   \n",
       "34915                    DEMOTTE ST BK/DEMOTTE BC     1421.0   539340   \n",
       "34914              PEOPLES B&TC/PEOPLES BANKTRUST     1420.0   109136   \n",
       "34913                       SAVINGS BK/SAVINGS BC     1419.0   578116   \n",
       "...                                           ...        ...      ...   \n",
       "69688                MOUNTAINBANK/MOUNTAINBANK FC      456.0  2586740   \n",
       "69687                     FRANKLIN NB/FRANKLIN FC      455.0  1408069   \n",
       "69921  FIRST BK RICHMOND NA/FIRST MUTUAL RICHMOND      688.0   419675   \n",
       "69685                  PALMETTO BK/PALMETTO BSHRS      453.0   862824   \n",
       "69877           HARRIS BK PALATINE NA/BANKMONT FC      645.0   645942   \n",
       "\n",
       "            Bank Location Charter  Consolidated Assets  Domestic Assets  \\\n",
       "33487       CHARLOTTE, NC     NAT         2.518290e+12     2.392162e+12   \n",
       "34900        BARTLETT, TN     SMB         5.360000e+08     5.360000e+08   \n",
       "34915         DEMOTTE, IN     SMB         5.300000e+08     5.300000e+08   \n",
       "34914          BUFORD, GA     SNM         5.300000e+08     5.300000e+08   \n",
       "34913     CIRCLEVILLE, OH     SNM         5.310000e+08     5.310000e+08   \n",
       "...                   ...     ...                  ...              ...   \n",
       "69688  HENDERSONVILLE, NC     SNM         8.780000e+08     8.780000e+08   \n",
       "69687        FRANKLIN, TN     NAT         8.780000e+08     8.780000e+08   \n",
       "69921        RICHMOND, IN     NAT         5.680000e+08     5.680000e+08   \n",
       "69685         LAURENS, SC     SNM         8.820000e+08     8.820000e+08   \n",
       "69877        PALATINE, IL     NAT         6.060000e+08     6.060000e+08   \n",
       "\n",
       "       Percentage Domestic Assets  Percentage Cumulative Assets  \\\n",
       "33487                        0.95                          0.27   \n",
       "34900                        1.00                          0.99   \n",
       "34915                        1.00                          0.99   \n",
       "34914                        1.00                          0.99   \n",
       "34913                        1.00                          0.99   \n",
       "...                           ...                           ...   \n",
       "69688                        1.00                          0.93   \n",
       "69687                        1.00                          0.93   \n",
       "69921                        1.00                          0.96   \n",
       "69685                        1.00                          0.93   \n",
       "69877                        1.00                          0.95   \n",
       "\n",
       "       Domestic Branches  Foreign Branches IBF  Percentage Foreign Owned  \\\n",
       "33487             3804.0              24.0   Y                       NaN   \n",
       "34900                6.0               0.0   N                       NaN   \n",
       "34915               10.0               0.0   N                       NaN   \n",
       "34914                0.0               0.0   N                       NaN   \n",
       "34913                6.0               0.0   N                       NaN   \n",
       "...                  ...               ...  ..                       ...   \n",
       "69688               13.0               0.0   N                       0.0   \n",
       "69687               10.0               0.0   N                       0.0   \n",
       "69921                4.0               0.0   N                       0.0   \n",
       "69685               33.0               0.0   N                       0.0   \n",
       "69877                6.0               0.0   N                       1.0   \n",
       "\n",
       "       Percentage of Total Cosolidated Assets   Quater       Date  \\\n",
       "33487                                0.115448  q1-2023 2023-03-31   \n",
       "34900                                0.000025  q1-2023 2023-03-31   \n",
       "34915                                0.000024  q1-2023 2023-03-31   \n",
       "34914                                0.000024  q1-2023 2023-03-31   \n",
       "34913                                0.000024  q1-2023 2023-03-31   \n",
       "...                                       ...      ...        ...   \n",
       "69688                                0.000132  q3-2003 2003-09-30   \n",
       "69687                                0.000132  q3-2003 2003-09-30   \n",
       "69921                                0.000085  q3-2003 2003-09-30   \n",
       "69685                                0.000132  q3-2003 2003-09-30   \n",
       "69877                                0.000091  q3-2003 2003-09-30   \n",
       "\n",
       "                                   Bank Name  \n",
       "33487      BANK OF AMER NA/BANK OF AMER CORP  \n",
       "34900  BANK OF BARTLETT/WEST TENNESSEE BSHRS  \n",
       "34915               DEMOTTE ST BK/DEMOTTE BC  \n",
       "34914         PEOPLES B&TC/PEOPLES BANKTRUST  \n",
       "34913                  SAVINGS BK/SAVINGS BC  \n",
       "...                                      ...  \n",
       "69688           MOUNTAINBANK/MOUNTAINBANK FC  \n",
       "69687          FIFTH THIRD BK/FIFTH THIRD BC  \n",
       "69921      FIRST BK RICHMOND/RICHMOND MUT BC  \n",
       "69685       PALMETTO BK/CAPGEN CAP GRP V LLC  \n",
       "69877        HARRIS BK PALATINE NA/HARRIS FC  \n",
       "\n",
       "[139754 rows x 17 columns]"
      ]
     },
     "execution_count": 44,
     "metadata": {},
     "output_type": "execute_result"
    }
   ],
   "source": [
    "#Sort the dataframe by 'Date' in the descending order\n",
    "all_data_df=all_data_df.sort_values('Date',ascending=False)\n",
    "\n",
    "#Group by 'Bank ID' and get the first 'Name' for each group\n",
    "bank_names=all_data_df.groupby('Bank ID')['Name'].first()\n",
    "\n",
    "#Map the 'Bank ID' column to the bank_names series to create the new 'Bank Name' column\n",
    "all_data_df['Bank Name']=all_data_df['Bank ID'].map(bank_names)\n",
    "\n",
    "all_data_df.to_csv('all_data_standardized.csv',index=False)\n",
    "\n",
    "all_data_df\n"
   ]
  },
  {
   "cell_type": "markdown",
   "metadata": {},
   "source": [
    "### 4) Exploratory Data Analysis"
   ]
  },
  {
   "cell_type": "markdown",
   "metadata": {},
   "source": [
    "#### Research Questions:\n",
    "* What is the current market share of banks manifested through the consolidated assets of banks in the U.S.?\n",
    "\n",
    "* What is the historical (2003-2023) trend of monopolization/dispersion/equilibrium of banking in the U.S.? \n",
    "\n",
    "\n"
   ]
  },
  {
   "cell_type": "markdown",
   "metadata": {},
   "source": [
    "#### 4a) Creating a pivot dataframe on the 7 Big commercial banks based on consolidated assets \n"
   ]
  },
  {
   "cell_type": "code",
   "execution_count": 5,
   "metadata": {},
   "outputs": [
    {
     "data": {
      "text/html": [
       "<div>\n",
       "<style scoped>\n",
       "    .dataframe tbody tr th:only-of-type {\n",
       "        vertical-align: middle;\n",
       "    }\n",
       "\n",
       "    .dataframe tbody tr th {\n",
       "        vertical-align: top;\n",
       "    }\n",
       "\n",
       "    .dataframe thead th {\n",
       "        text-align: right;\n",
       "    }\n",
       "</style>\n",
       "<table border=\"1\" class=\"dataframe\">\n",
       "  <thead>\n",
       "    <tr style=\"text-align: right;\">\n",
       "      <th></th>\n",
       "      <th>Name</th>\n",
       "      <th>Natl Rank</th>\n",
       "      <th>Bank ID</th>\n",
       "      <th>Bank Location</th>\n",
       "      <th>Charter</th>\n",
       "      <th>Consolidated Assets</th>\n",
       "      <th>Domestic Assets</th>\n",
       "      <th>Percentage Domestic Assets</th>\n",
       "      <th>Percentage Cumulative Assets</th>\n",
       "      <th>Domestic Branches</th>\n",
       "      <th>Foreign Branches</th>\n",
       "      <th>IBF</th>\n",
       "      <th>Percentage Foreign Owned</th>\n",
       "      <th>Percentage of Total Consolidated Assets</th>\n",
       "      <th>Quarter</th>\n",
       "      <th>Date</th>\n",
       "      <th>Bank Name</th>\n",
       "    </tr>\n",
       "  </thead>\n",
       "  <tbody>\n",
       "    <tr>\n",
       "      <th>0</th>\n",
       "      <td>BANK OF AMER NA/BANK OF AMER CORP</td>\n",
       "      <td>2</td>\n",
       "      <td>480228</td>\n",
       "      <td>CHARLOTTE, NC</td>\n",
       "      <td>NAT</td>\n",
       "      <td>2.518290e+12</td>\n",
       "      <td>2.392160e+12</td>\n",
       "      <td>0.95</td>\n",
       "      <td>0.27</td>\n",
       "      <td>3804</td>\n",
       "      <td>24</td>\n",
       "      <td>Y</td>\n",
       "      <td>NaN</td>\n",
       "      <td>0.115448</td>\n",
       "      <td>q1-2023</td>\n",
       "      <td>3/31/2023</td>\n",
       "      <td>BANK OF AMER NA/BANK OF AMER CORP</td>\n",
       "    </tr>\n",
       "    <tr>\n",
       "      <th>1</th>\n",
       "      <td>BANK OF BARTLETT/WEST TENNESSEE BSHRS</td>\n",
       "      <td>1406</td>\n",
       "      <td>225559</td>\n",
       "      <td>BARTLETT, TN</td>\n",
       "      <td>SMB</td>\n",
       "      <td>5.360000e+08</td>\n",
       "      <td>5.360000e+08</td>\n",
       "      <td>1.00</td>\n",
       "      <td>0.99</td>\n",
       "      <td>6</td>\n",
       "      <td>0</td>\n",
       "      <td>N</td>\n",
       "      <td>NaN</td>\n",
       "      <td>0.000025</td>\n",
       "      <td>q1-2023</td>\n",
       "      <td>3/31/2023</td>\n",
       "      <td>BANK OF BARTLETT/WEST TENNESSEE BSHRS</td>\n",
       "    </tr>\n",
       "    <tr>\n",
       "      <th>2</th>\n",
       "      <td>DEMOTTE ST BK/DEMOTTE BC</td>\n",
       "      <td>1421</td>\n",
       "      <td>539340</td>\n",
       "      <td>DEMOTTE, IN</td>\n",
       "      <td>SMB</td>\n",
       "      <td>5.300000e+08</td>\n",
       "      <td>5.300000e+08</td>\n",
       "      <td>1.00</td>\n",
       "      <td>0.99</td>\n",
       "      <td>10</td>\n",
       "      <td>0</td>\n",
       "      <td>N</td>\n",
       "      <td>NaN</td>\n",
       "      <td>0.000024</td>\n",
       "      <td>q1-2023</td>\n",
       "      <td>3/31/2023</td>\n",
       "      <td>DEMOTTE ST BK/DEMOTTE BC</td>\n",
       "    </tr>\n",
       "    <tr>\n",
       "      <th>3</th>\n",
       "      <td>PEOPLES B&amp;TC/PEOPLES BANKTRUST</td>\n",
       "      <td>1420</td>\n",
       "      <td>109136</td>\n",
       "      <td>BUFORD, GA</td>\n",
       "      <td>SNM</td>\n",
       "      <td>5.300000e+08</td>\n",
       "      <td>5.300000e+08</td>\n",
       "      <td>1.00</td>\n",
       "      <td>0.99</td>\n",
       "      <td>0</td>\n",
       "      <td>0</td>\n",
       "      <td>N</td>\n",
       "      <td>NaN</td>\n",
       "      <td>0.000024</td>\n",
       "      <td>q1-2023</td>\n",
       "      <td>3/31/2023</td>\n",
       "      <td>PEOPLES B&amp;TC/PEOPLES BANKTRUST</td>\n",
       "    </tr>\n",
       "    <tr>\n",
       "      <th>4</th>\n",
       "      <td>SAVINGS BK/SAVINGS BC</td>\n",
       "      <td>1419</td>\n",
       "      <td>578116</td>\n",
       "      <td>CIRCLEVILLE, OH</td>\n",
       "      <td>SNM</td>\n",
       "      <td>5.310000e+08</td>\n",
       "      <td>5.310000e+08</td>\n",
       "      <td>1.00</td>\n",
       "      <td>0.99</td>\n",
       "      <td>6</td>\n",
       "      <td>0</td>\n",
       "      <td>N</td>\n",
       "      <td>NaN</td>\n",
       "      <td>0.000024</td>\n",
       "      <td>q1-2023</td>\n",
       "      <td>3/31/2023</td>\n",
       "      <td>SAVINGS BK/SAVINGS BC</td>\n",
       "    </tr>\n",
       "  </tbody>\n",
       "</table>\n",
       "</div>"
      ],
      "text/plain": [
       "                                    Name  Natl Rank  Bank ID    Bank Location  \\\n",
       "0      BANK OF AMER NA/BANK OF AMER CORP          2   480228    CHARLOTTE, NC   \n",
       "1  BANK OF BARTLETT/WEST TENNESSEE BSHRS       1406   225559     BARTLETT, TN   \n",
       "2               DEMOTTE ST BK/DEMOTTE BC       1421   539340      DEMOTTE, IN   \n",
       "3         PEOPLES B&TC/PEOPLES BANKTRUST       1420   109136       BUFORD, GA   \n",
       "4                  SAVINGS BK/SAVINGS BC       1419   578116  CIRCLEVILLE, OH   \n",
       "\n",
       "  Charter  Consolidated Assets  Domestic Assets  Percentage Domestic Assets  \\\n",
       "0     NAT         2.518290e+12     2.392160e+12                        0.95   \n",
       "1     SMB         5.360000e+08     5.360000e+08                        1.00   \n",
       "2     SMB         5.300000e+08     5.300000e+08                        1.00   \n",
       "3     SNM         5.300000e+08     5.300000e+08                        1.00   \n",
       "4     SNM         5.310000e+08     5.310000e+08                        1.00   \n",
       "\n",
       "   Percentage Cumulative Assets  Domestic Branches  Foreign Branches IBF  \\\n",
       "0                          0.27               3804                24   Y   \n",
       "1                          0.99                  6                 0   N   \n",
       "2                          0.99                 10                 0   N   \n",
       "3                          0.99                  0                 0   N   \n",
       "4                          0.99                  6                 0   N   \n",
       "\n",
       "   Percentage Foreign Owned  Percentage of Total Consolidated Assets  Quarter  \\\n",
       "0                       NaN                                 0.115448  q1-2023   \n",
       "1                       NaN                                 0.000025  q1-2023   \n",
       "2                       NaN                                 0.000024  q1-2023   \n",
       "3                       NaN                                 0.000024  q1-2023   \n",
       "4                       NaN                                 0.000024  q1-2023   \n",
       "\n",
       "        Date                              Bank Name  \n",
       "0  3/31/2023      BANK OF AMER NA/BANK OF AMER CORP  \n",
       "1  3/31/2023  BANK OF BARTLETT/WEST TENNESSEE BSHRS  \n",
       "2  3/31/2023               DEMOTTE ST BK/DEMOTTE BC  \n",
       "3  3/31/2023         PEOPLES B&TC/PEOPLES BANKTRUST  \n",
       "4  3/31/2023                  SAVINGS BK/SAVINGS BC  "
      ]
     },
     "execution_count": 5,
     "metadata": {},
     "output_type": "execute_result"
    }
   ],
   "source": [
    "#Load the CSV file into a DataFrame\n",
    "df=pd.read_csv('all_data_standardized.csv')\n",
    "#Display the first few rows of the dataframe \n",
    "df.head()"
   ]
  },
  {
   "cell_type": "code",
   "execution_count": 28,
   "metadata": {},
   "outputs": [
    {
     "data": {
      "text/html": [
       "<div>\n",
       "<style scoped>\n",
       "    .dataframe tbody tr th:only-of-type {\n",
       "        vertical-align: middle;\n",
       "    }\n",
       "\n",
       "    .dataframe tbody tr th {\n",
       "        vertical-align: top;\n",
       "    }\n",
       "\n",
       "    .dataframe thead th {\n",
       "        text-align: right;\n",
       "    }\n",
       "</style>\n",
       "<table border=\"1\" class=\"dataframe\">\n",
       "  <thead>\n",
       "    <tr style=\"text-align: right;\">\n",
       "      <th></th>\n",
       "      <th>Name</th>\n",
       "      <th>Natl Rank</th>\n",
       "      <th>Bank ID</th>\n",
       "      <th>Bank Location</th>\n",
       "      <th>Charter</th>\n",
       "      <th>Consolidated Assets</th>\n",
       "      <th>Domestic Assets</th>\n",
       "      <th>Percentage Domestic Assets</th>\n",
       "      <th>Percentage Cumulative Assets</th>\n",
       "      <th>Domestic Branches</th>\n",
       "      <th>Foreign Branches</th>\n",
       "      <th>IBF</th>\n",
       "      <th>Percentage Foreign Owned</th>\n",
       "      <th>Percentage of Total Cosolidated Assets</th>\n",
       "      <th>Quater</th>\n",
       "      <th>Date</th>\n",
       "      <th>Bank Name</th>\n",
       "    </tr>\n",
       "  </thead>\n",
       "  <tbody>\n",
       "    <tr>\n",
       "      <th>0</th>\n",
       "      <td>BANK OF AMER NA/BANK OF AMER CORP</td>\n",
       "      <td>2.0</td>\n",
       "      <td>480228</td>\n",
       "      <td>CHARLOTTE, NC</td>\n",
       "      <td>NAT</td>\n",
       "      <td>2.518290e+12</td>\n",
       "      <td>2.392162e+12</td>\n",
       "      <td>0.95</td>\n",
       "      <td>0.27</td>\n",
       "      <td>3804.0</td>\n",
       "      <td>24.0</td>\n",
       "      <td>Y</td>\n",
       "      <td>NaN</td>\n",
       "      <td>0.115448</td>\n",
       "      <td>q1-2023</td>\n",
       "      <td>2023-03-31</td>\n",
       "      <td>BANK OF AMER NA/BANK OF AMER CORP</td>\n",
       "    </tr>\n",
       "    <tr>\n",
       "      <th>711</th>\n",
       "      <td>JPMORGAN CHASE BK NA/JPMORGAN CHASE &amp; CO</td>\n",
       "      <td>1.0</td>\n",
       "      <td>852218</td>\n",
       "      <td>COLUMBUS, OH</td>\n",
       "      <td>NAT</td>\n",
       "      <td>3.267963e+12</td>\n",
       "      <td>2.511821e+12</td>\n",
       "      <td>0.77</td>\n",
       "      <td>0.15</td>\n",
       "      <td>4788.0</td>\n",
       "      <td>32.0</td>\n",
       "      <td>Y</td>\n",
       "      <td>NaN</td>\n",
       "      <td>0.149815</td>\n",
       "      <td>q1-2023</td>\n",
       "      <td>2023-03-31</td>\n",
       "      <td>JPMORGAN CHASE BK NA/JPMORGAN CHASE &amp; CO</td>\n",
       "    </tr>\n",
       "    <tr>\n",
       "      <th>1426</th>\n",
       "      <td>PNC BK NA/PNC FNCL SVC GROUP</td>\n",
       "      <td>7.0</td>\n",
       "      <td>817824</td>\n",
       "      <td>WILMINGTON, DE</td>\n",
       "      <td>NAT</td>\n",
       "      <td>5.563140e+11</td>\n",
       "      <td>5.543650e+11</td>\n",
       "      <td>1.00</td>\n",
       "      <td>0.50</td>\n",
       "      <td>2556.0</td>\n",
       "      <td>1.0</td>\n",
       "      <td>N</td>\n",
       "      <td>NaN</td>\n",
       "      <td>0.025503</td>\n",
       "      <td>q1-2023</td>\n",
       "      <td>2023-03-31</td>\n",
       "      <td>PNC BK NA/PNC FNCL SVC GROUP</td>\n",
       "    </tr>\n",
       "    <tr>\n",
       "      <th>1427</th>\n",
       "      <td>TRUIST BK/TRUIST FC</td>\n",
       "      <td>6.0</td>\n",
       "      <td>852320</td>\n",
       "      <td>CHARLOTTE, NC</td>\n",
       "      <td>SNM</td>\n",
       "      <td>5.648370e+11</td>\n",
       "      <td>5.647720e+11</td>\n",
       "      <td>1.00</td>\n",
       "      <td>0.47</td>\n",
       "      <td>2006.0</td>\n",
       "      <td>0.0</td>\n",
       "      <td>N</td>\n",
       "      <td>NaN</td>\n",
       "      <td>0.025894</td>\n",
       "      <td>q1-2023</td>\n",
       "      <td>2023-03-31</td>\n",
       "      <td>TRUIST BK/TRUIST FC</td>\n",
       "    </tr>\n",
       "    <tr>\n",
       "      <th>1428</th>\n",
       "      <td>U S BK NA/U S BC</td>\n",
       "      <td>5.0</td>\n",
       "      <td>504713</td>\n",
       "      <td>CINCINNATI, OH</td>\n",
       "      <td>NAT</td>\n",
       "      <td>5.904600e+11</td>\n",
       "      <td>5.807350e+11</td>\n",
       "      <td>0.98</td>\n",
       "      <td>0.45</td>\n",
       "      <td>2207.0</td>\n",
       "      <td>1.0</td>\n",
       "      <td>N</td>\n",
       "      <td>NaN</td>\n",
       "      <td>0.027069</td>\n",
       "      <td>q1-2023</td>\n",
       "      <td>2023-03-31</td>\n",
       "      <td>U S BK NA/U S BC</td>\n",
       "    </tr>\n",
       "    <tr>\n",
       "      <th>...</th>\n",
       "      <td>...</td>\n",
       "      <td>...</td>\n",
       "      <td>...</td>\n",
       "      <td>...</td>\n",
       "      <td>...</td>\n",
       "      <td>...</td>\n",
       "      <td>...</td>\n",
       "      <td>...</td>\n",
       "      <td>...</td>\n",
       "      <td>...</td>\n",
       "      <td>...</td>\n",
       "      <td>...</td>\n",
       "      <td>...</td>\n",
       "      <td>...</td>\n",
       "      <td>...</td>\n",
       "      <td>...</td>\n",
       "      <td>...</td>\n",
       "    </tr>\n",
       "    <tr>\n",
       "      <th>139287</th>\n",
       "      <td>CITIBANK NA/CITIGROUP</td>\n",
       "      <td>3.0</td>\n",
       "      <td>476810</td>\n",
       "      <td>NEW YORK, NY</td>\n",
       "      <td>NAT</td>\n",
       "      <td>5.545400e+11</td>\n",
       "      <td>2.467820e+11</td>\n",
       "      <td>0.45</td>\n",
       "      <td>0.27</td>\n",
       "      <td>388.0</td>\n",
       "      <td>364.0</td>\n",
       "      <td>Y</td>\n",
       "      <td>0.0</td>\n",
       "      <td>0.083206</td>\n",
       "      <td>q3-2003</td>\n",
       "      <td>2003-09-30</td>\n",
       "      <td>CITIBANK NA/CITIGROUP</td>\n",
       "    </tr>\n",
       "    <tr>\n",
       "      <th>139288</th>\n",
       "      <td>BRANCH BKG&amp;TC/BB&amp;T CORP</td>\n",
       "      <td>16.0</td>\n",
       "      <td>852320</td>\n",
       "      <td>WINSTON-SALEM, NC</td>\n",
       "      <td>SNM</td>\n",
       "      <td>6.415700e+10</td>\n",
       "      <td>6.415700e+10</td>\n",
       "      <td>1.00</td>\n",
       "      <td>0.54</td>\n",
       "      <td>804.0</td>\n",
       "      <td>0.0</td>\n",
       "      <td>N</td>\n",
       "      <td>0.0</td>\n",
       "      <td>0.009626</td>\n",
       "      <td>q3-2003</td>\n",
       "      <td>2003-09-30</td>\n",
       "      <td>TRUIST BK/TRUIST FC</td>\n",
       "    </tr>\n",
       "    <tr>\n",
       "      <th>139290</th>\n",
       "      <td>PNC BK NA/PNC FNCL SVC GROUP</td>\n",
       "      <td>14.0</td>\n",
       "      <td>817824</td>\n",
       "      <td>PITTSBURGH, PA</td>\n",
       "      <td>NAT</td>\n",
       "      <td>6.516700e+10</td>\n",
       "      <td>6.393200e+10</td>\n",
       "      <td>0.98</td>\n",
       "      <td>0.52</td>\n",
       "      <td>828.0</td>\n",
       "      <td>0.0</td>\n",
       "      <td>Y</td>\n",
       "      <td>0.0</td>\n",
       "      <td>0.009778</td>\n",
       "      <td>q3-2003</td>\n",
       "      <td>2003-09-30</td>\n",
       "      <td>PNC BK NA/PNC FNCL SVC GROUP</td>\n",
       "    </tr>\n",
       "    <tr>\n",
       "      <th>139296</th>\n",
       "      <td>U S BK NA/U S BC</td>\n",
       "      <td>8.0</td>\n",
       "      <td>504713</td>\n",
       "      <td>CINCINNATI, OH</td>\n",
       "      <td>NAT</td>\n",
       "      <td>1.864640e+11</td>\n",
       "      <td>1.864640e+11</td>\n",
       "      <td>1.00</td>\n",
       "      <td>0.45</td>\n",
       "      <td>2518.0</td>\n",
       "      <td>1.0</td>\n",
       "      <td>N</td>\n",
       "      <td>0.0</td>\n",
       "      <td>0.027978</td>\n",
       "      <td>q3-2003</td>\n",
       "      <td>2003-09-30</td>\n",
       "      <td>U S BK NA/U S BC</td>\n",
       "    </tr>\n",
       "    <tr>\n",
       "      <th>139299</th>\n",
       "      <td>WELLS FARGO BK NA/WELLS FARGO &amp; CO</td>\n",
       "      <td>5.0</td>\n",
       "      <td>451965</td>\n",
       "      <td>SAN FRANCISCO, CA</td>\n",
       "      <td>NAT</td>\n",
       "      <td>2.243760e+11</td>\n",
       "      <td>2.238190e+11</td>\n",
       "      <td>1.00</td>\n",
       "      <td>0.36</td>\n",
       "      <td>1079.0</td>\n",
       "      <td>0.0</td>\n",
       "      <td>Y</td>\n",
       "      <td>0.0</td>\n",
       "      <td>0.033667</td>\n",
       "      <td>q3-2003</td>\n",
       "      <td>2003-09-30</td>\n",
       "      <td>WELLS FARGO BK NA/WELLS FARGO &amp; CO</td>\n",
       "    </tr>\n",
       "  </tbody>\n",
       "</table>\n",
       "<p>553 rows × 17 columns</p>\n",
       "</div>"
      ],
      "text/plain": [
       "                                            Name  Natl Rank  Bank ID  \\\n",
       "0              BANK OF AMER NA/BANK OF AMER CORP        2.0   480228   \n",
       "711     JPMORGAN CHASE BK NA/JPMORGAN CHASE & CO        1.0   852218   \n",
       "1426                PNC BK NA/PNC FNCL SVC GROUP        7.0   817824   \n",
       "1427                         TRUIST BK/TRUIST FC        6.0   852320   \n",
       "1428                            U S BK NA/U S BC        5.0   504713   \n",
       "...                                          ...        ...      ...   \n",
       "139287                     CITIBANK NA/CITIGROUP        3.0   476810   \n",
       "139288                   BRANCH BKG&TC/BB&T CORP       16.0   852320   \n",
       "139290              PNC BK NA/PNC FNCL SVC GROUP       14.0   817824   \n",
       "139296                          U S BK NA/U S BC        8.0   504713   \n",
       "139299        WELLS FARGO BK NA/WELLS FARGO & CO        5.0   451965   \n",
       "\n",
       "            Bank Location Charter  Consolidated Assets  Domestic Assets  \\\n",
       "0           CHARLOTTE, NC     NAT         2.518290e+12     2.392162e+12   \n",
       "711          COLUMBUS, OH     NAT         3.267963e+12     2.511821e+12   \n",
       "1426       WILMINGTON, DE     NAT         5.563140e+11     5.543650e+11   \n",
       "1427        CHARLOTTE, NC     SNM         5.648370e+11     5.647720e+11   \n",
       "1428       CINCINNATI, OH     NAT         5.904600e+11     5.807350e+11   \n",
       "...                   ...     ...                  ...              ...   \n",
       "139287       NEW YORK, NY     NAT         5.545400e+11     2.467820e+11   \n",
       "139288  WINSTON-SALEM, NC     SNM         6.415700e+10     6.415700e+10   \n",
       "139290     PITTSBURGH, PA     NAT         6.516700e+10     6.393200e+10   \n",
       "139296     CINCINNATI, OH     NAT         1.864640e+11     1.864640e+11   \n",
       "139299  SAN FRANCISCO, CA     NAT         2.243760e+11     2.238190e+11   \n",
       "\n",
       "        Percentage Domestic Assets  Percentage Cumulative Assets  \\\n",
       "0                             0.95                          0.27   \n",
       "711                           0.77                          0.15   \n",
       "1426                          1.00                          0.50   \n",
       "1427                          1.00                          0.47   \n",
       "1428                          0.98                          0.45   \n",
       "...                            ...                           ...   \n",
       "139287                        0.45                          0.27   \n",
       "139288                        1.00                          0.54   \n",
       "139290                        0.98                          0.52   \n",
       "139296                        1.00                          0.45   \n",
       "139299                        1.00                          0.36   \n",
       "\n",
       "        Domestic Branches  Foreign Branches IBF  Percentage Foreign Owned  \\\n",
       "0                  3804.0              24.0   Y                       NaN   \n",
       "711                4788.0              32.0   Y                       NaN   \n",
       "1426               2556.0               1.0   N                       NaN   \n",
       "1427               2006.0               0.0   N                       NaN   \n",
       "1428               2207.0               1.0   N                       NaN   \n",
       "...                   ...               ...  ..                       ...   \n",
       "139287              388.0             364.0   Y                       0.0   \n",
       "139288              804.0               0.0   N                       0.0   \n",
       "139290              828.0               0.0   Y                       0.0   \n",
       "139296             2518.0               1.0   N                       0.0   \n",
       "139299             1079.0               0.0   Y                       0.0   \n",
       "\n",
       "        Percentage of Total Cosolidated Assets   Quater        Date  \\\n",
       "0                                     0.115448  q1-2023  2023-03-31   \n",
       "711                                   0.149815  q1-2023  2023-03-31   \n",
       "1426                                  0.025503  q1-2023  2023-03-31   \n",
       "1427                                  0.025894  q1-2023  2023-03-31   \n",
       "1428                                  0.027069  q1-2023  2023-03-31   \n",
       "...                                        ...      ...         ...   \n",
       "139287                                0.083206  q3-2003  2003-09-30   \n",
       "139288                                0.009626  q3-2003  2003-09-30   \n",
       "139290                                0.009778  q3-2003  2003-09-30   \n",
       "139296                                0.027978  q3-2003  2003-09-30   \n",
       "139299                                0.033667  q3-2003  2003-09-30   \n",
       "\n",
       "                                       Bank Name  \n",
       "0              BANK OF AMER NA/BANK OF AMER CORP  \n",
       "711     JPMORGAN CHASE BK NA/JPMORGAN CHASE & CO  \n",
       "1426                PNC BK NA/PNC FNCL SVC GROUP  \n",
       "1427                         TRUIST BK/TRUIST FC  \n",
       "1428                            U S BK NA/U S BC  \n",
       "...                                          ...  \n",
       "139287                     CITIBANK NA/CITIGROUP  \n",
       "139288                       TRUIST BK/TRUIST FC  \n",
       "139290              PNC BK NA/PNC FNCL SVC GROUP  \n",
       "139296                          U S BK NA/U S BC  \n",
       "139299        WELLS FARGO BK NA/WELLS FARGO & CO  \n",
       "\n",
       "[553 rows x 17 columns]"
      ]
     },
     "execution_count": 28,
     "metadata": {},
     "output_type": "execute_result"
    }
   ],
   "source": [
    "#Filter the DataFrame to only include the big seven bank, including their consolidated assets for each quarter\n",
    "big_seven_banks={\n",
    "    'JPMORGAN CHASE BK NA/JPMORGAN CHASE & CO': 852218,\n",
    "    'BANK OF AMER NA/BANK OF AMER CORP': 480228,\n",
    "    'CITIBANK NA/CITIGROUP': 476810,\n",
    "    'WELLS FARGO BK NA/WELLS FARGO & CO': 451965,\n",
    "    'U S BK NA/U S BC': 504713,\n",
    "    'TRUIST BK/TRUIST FC': 852320,\n",
    "    'PNC BK NA/PNC FNCL SVC GROUP': 817824}\n",
    "\n",
    "#Filter the DataFrame to only include the big seven banks\n",
    "filtered_df=df[df['Bank ID'].isin(big_seven_banks.values())]\n",
    "\n",
    "#Display the 'filtered_df' DataFrame\n",
    "filtered_df\n"
   ]
  },
  {
   "cell_type": "code",
   "execution_count": 39,
   "metadata": {},
   "outputs": [],
   "source": [
    "#Pivot the DataFrame\n",
    "pivot_df_date=filtered_df.pivot(index='Date',columns='Name',values='Consolidated Assets')\n",
    "\n",
    "#Renaming and summing the columns\n",
    "pivot_df_date['TRUIST BK/TRUIST FC']= pivot_df_date['TRUIST BK/TRUIST FC'].add(pivot_df_date['BRANCH BKG&TC/BB&T CORP'],fill_value=0)\n",
    "pivot_df_date['JPMORGAN CHASE BK NA/JPMORGAN CHASE & CO']=pivot_df_date['JPMORGAN CHASE BK NA/JPMORGAN CHASE & CO'].add(pivot_df_date['JPMORGAN CHASE BK/J P MORGAN CHASE & CO'], fill_value=0)\n",
    "\n",
    "#Remove the old columns\n",
    "pivot_df_date.drop(columns=['BRANCH BKG&TC/BB&T CORP', 'JPMORGAN CHASE BK/J P MORGAN CHASE & CO'],inplace=True, errors='ignore')\n"
   ]
  },
  {
   "cell_type": "code",
   "execution_count": 40,
   "metadata": {},
   "outputs": [
    {
     "name": "stdout",
     "output_type": "stream",
     "text": [
      "<class 'pandas.core.frame.DataFrame'>\n"
     ]
    }
   ],
   "source": [
    "#Confirming the pivot table type\n",
    "print(type(pivot_df_date))"
   ]
  },
  {
   "cell_type": "code",
   "execution_count": null,
   "metadata": {},
   "outputs": [],
   "source": [
    "#Select only the specified banks\n",
    "pivot_df_date=pivot_df_date[list(big_seven_banks.keys())]\n",
    "\n",
    "#Sort data by date\n",
    "pivot_df_date.sort_index(inplace=True)\n",
    "\n",
    "#Display filtered and cleaned data\n",
    "pivot_df_date.head()"
   ]
  },
  {
   "cell_type": "code",
   "execution_count": 43,
   "metadata": {},
   "outputs": [
    {
     "data": {
      "image/png": "[encoded data removed]",
      "text/plain": [
       "<Figure size 1600x900 with 1 Axes>"
      ]
     },
     "metadata": {},
     "output_type": "display_data"
    }
   ],
   "source": [
    "#Plotting the data for trend analysis\n",
    "\n",
    "import seaborn as sns #Advanced plotting library\n",
    "import matplotlib.pyplot as plt #Basic plotting library\n",
    "\n",
    "# Now let's replot the data using the corrected Date-based index with Seaborn\n",
    "plt.figure(figsize=(16, 9))\n",
    "for bank in big_seven_banks.keys():\n",
    "    sns.lineplot(data=pivot_df_date, x=pivot_df_date.index, y=bank, label=bank)\n",
    "\n",
    "# Add title and labels\n",
    "plt.title('Chronological Change in Consolidated Assets of Selected Banks (Corrected)', fontsize=16)\n",
    "plt.xlabel('Date', fontsize=14)\n",
    "plt.ylabel('Consolidated Assets ($)', fontsize=14)\n",
    "plt.legend(title='Banks', fontsize=12)\n",
    "plt.xticks(rotation=45)\n",
    "\n",
    "# Show the plot\n",
    "plt.show()"
   ]
  },
  {
   "cell_type": "code",
   "execution_count": 46,
   "metadata": {},
   "outputs": [],
   "source": [
    "#Creating a dataframe that holds unique pairs of \"Date\" and \"Quarter\"\"Bank Acquisitions\"\n",
    "date_quarter_mapping=df[['Date','Quater']].drop_duplicates()\n",
    "\n",
    "#Reset the index of your pivoted dataframe so that \"Date\" becomes a regular column\n",
    "pivot_df_date.reset_index(inplace=True)\n",
    "\n",
    "#Merge the \"Quarter\" information into pivot_df_date\n",
    "pivot_df_date=pd.merge(pivot_df_date,date_quarter_mapping,on='Date',how='left')"
   ]
  },
  {
   "cell_type": "code",
   "execution_count": 89,
   "metadata": {},
   "outputs": [
    {
     "data": {
      "text/html": [
       "<div>\n",
       "<style scoped>\n",
       "    .dataframe tbody tr th:only-of-type {\n",
       "        vertical-align: middle;\n",
       "    }\n",
       "\n",
       "    .dataframe tbody tr th {\n",
       "        vertical-align: top;\n",
       "    }\n",
       "\n",
       "    .dataframe thead th {\n",
       "        text-align: right;\n",
       "    }\n",
       "</style>\n",
       "<table border=\"1\" class=\"dataframe\">\n",
       "  <thead>\n",
       "    <tr style=\"text-align: right;\">\n",
       "      <th></th>\n",
       "      <th>Date</th>\n",
       "      <th>Chase</th>\n",
       "      <th>Bank of America</th>\n",
       "      <th>Citibank</th>\n",
       "      <th>Wells Fargo</th>\n",
       "      <th>US Bank</th>\n",
       "      <th>Truist Bank</th>\n",
       "      <th>PNC</th>\n",
       "      <th>Quarter</th>\n",
       "      <th>Share of Consolidated Assets</th>\n",
       "      <th>Total Consolidated Assets</th>\n",
       "      <th>Total Consolidated Assets of the Big 7</th>\n",
       "      <th>Big 7 Total Consolidated Assets</th>\n",
       "    </tr>\n",
       "  </thead>\n",
       "  <tbody>\n",
       "    <tr>\n",
       "      <th>0</th>\n",
       "      <td>2003-09-30</td>\n",
       "      <td>6.381200e+11</td>\n",
       "      <td>6.247230e+11</td>\n",
       "      <td>5.545400e+11</td>\n",
       "      <td>2.243760e+11</td>\n",
       "      <td>1.864640e+11</td>\n",
       "      <td>6.415700e+10</td>\n",
       "      <td>6.516700e+10</td>\n",
       "      <td>q3-2003</td>\n",
       "      <td>35.373826</td>\n",
       "      <td>6.664665e+12</td>\n",
       "      <td>2.357547e+12</td>\n",
       "      <td>2.357547e+12</td>\n",
       "    </tr>\n",
       "    <tr>\n",
       "      <th>1</th>\n",
       "      <td>2003-12-31</td>\n",
       "      <td>6.286620e+11</td>\n",
       "      <td>6.179620e+11</td>\n",
       "      <td>5.821230e+11</td>\n",
       "      <td>2.504740e+11</td>\n",
       "      <td>1.891590e+11</td>\n",
       "      <td>6.758400e+10</td>\n",
       "      <td>6.203700e+10</td>\n",
       "      <td>q4-2003</td>\n",
       "      <td>35.400424</td>\n",
       "      <td>6.773933e+12</td>\n",
       "      <td>2.398001e+12</td>\n",
       "      <td>2.398001e+12</td>\n",
       "    </tr>\n",
       "    <tr>\n",
       "      <th>2</th>\n",
       "      <td>2004-03-31</td>\n",
       "      <td>6.486920e+11</td>\n",
       "      <td>6.905730e+11</td>\n",
       "      <td>6.061910e+11</td>\n",
       "      <td>3.475600e+11</td>\n",
       "      <td>1.916060e+11</td>\n",
       "      <td>7.084000e+10</td>\n",
       "      <td>6.782200e+10</td>\n",
       "      <td>q1-2004</td>\n",
       "      <td>37.571255</td>\n",
       "      <td>6.982157e+12</td>\n",
       "      <td>2.623284e+12</td>\n",
       "      <td>2.623284e+12</td>\n",
       "    </tr>\n",
       "    <tr>\n",
       "      <th>3</th>\n",
       "      <td>2004-06-30</td>\n",
       "      <td>6.546410e+11</td>\n",
       "      <td>7.068880e+11</td>\n",
       "      <td>6.482430e+11</td>\n",
       "      <td>3.646980e+11</td>\n",
       "      <td>1.897370e+11</td>\n",
       "      <td>7.489000e+10</td>\n",
       "      <td>6.752700e+10</td>\n",
       "      <td>q2-2004</td>\n",
       "      <td>37.473724</td>\n",
       "      <td>7.222725e+12</td>\n",
       "      <td>2.706624e+12</td>\n",
       "      <td>2.706624e+12</td>\n",
       "    </tr>\n",
       "    <tr>\n",
       "      <th>4</th>\n",
       "      <td>2004-09-30</td>\n",
       "      <td>6.617720e+11</td>\n",
       "      <td>7.406950e+11</td>\n",
       "      <td>6.513450e+11</td>\n",
       "      <td>3.629730e+11</td>\n",
       "      <td>1.924530e+11</td>\n",
       "      <td>7.370000e+10</td>\n",
       "      <td>7.175300e+10</td>\n",
       "      <td>q3-2004</td>\n",
       "      <td>37.167262</td>\n",
       "      <td>7.411606e+12</td>\n",
       "      <td>2.754691e+12</td>\n",
       "      <td>2.754691e+12</td>\n",
       "    </tr>\n",
       "  </tbody>\n",
       "</table>\n",
       "</div>"
      ],
      "text/plain": [
       "         Date         Chase  Bank of America      Citibank   Wells Fargo  \\\n",
       "0  2003-09-30  6.381200e+11     6.247230e+11  5.545400e+11  2.243760e+11   \n",
       "1  2003-12-31  6.286620e+11     6.179620e+11  5.821230e+11  2.504740e+11   \n",
       "2  2004-03-31  6.486920e+11     6.905730e+11  6.061910e+11  3.475600e+11   \n",
       "3  2004-06-30  6.546410e+11     7.068880e+11  6.482430e+11  3.646980e+11   \n",
       "4  2004-09-30  6.617720e+11     7.406950e+11  6.513450e+11  3.629730e+11   \n",
       "\n",
       "        US Bank   Truist Bank           PNC  Quarter  \\\n",
       "0  1.864640e+11  6.415700e+10  6.516700e+10  q3-2003   \n",
       "1  1.891590e+11  6.758400e+10  6.203700e+10  q4-2003   \n",
       "2  1.916060e+11  7.084000e+10  6.782200e+10  q1-2004   \n",
       "3  1.897370e+11  7.489000e+10  6.752700e+10  q2-2004   \n",
       "4  1.924530e+11  7.370000e+10  7.175300e+10  q3-2004   \n",
       "\n",
       "   Share of Consolidated Assets  Total Consolidated Assets  \\\n",
       "0                     35.373826               6.664665e+12   \n",
       "1                     35.400424               6.773933e+12   \n",
       "2                     37.571255               6.982157e+12   \n",
       "3                     37.473724               7.222725e+12   \n",
       "4                     37.167262               7.411606e+12   \n",
       "\n",
       "   Total Consolidated Assets of the Big 7  Big 7 Total Consolidated Assets  \n",
       "0                            2.357547e+12                     2.357547e+12  \n",
       "1                            2.398001e+12                     2.398001e+12  \n",
       "2                            2.623284e+12                     2.623284e+12  \n",
       "3                            2.706624e+12                     2.706624e+12  \n",
       "4                            2.754691e+12                     2.754691e+12  "
      ]
     },
     "execution_count": 89,
     "metadata": {},
     "output_type": "execute_result"
    }
   ],
   "source": [
    "#Adding the \"Percentage of Total Consolidated Assets\" column\n",
    "\n",
    "#Calculate the total assets for each quarter across all banks\n",
    "total_assets_by_date=df.groupby('Date')['Consolidated Assets'].sum()\n",
    "\n",
    "#Calculate the total assets of each quarter for the seven big banks:\n",
    "total_big_seven_assets_by_date=filtered_df.groupby('Date')['Consolidated Assets'].sum()\n",
    "\n",
    "#Calculate the percentage for each quarter\n",
    "percentage_by_date=(total_big_seven_assets_by_date/total_assets_by_date)*100\n",
    "\n",
    "#Merge this percentage to the 'pivot_df_date' dataframe. \n",
    "pivot_df_date[\"Share of Consolidated Assets\"]=pivot_df_date['Date'].map(percentage_by_date)\n",
    "\n",
    "#Merge the total assets for each quarter accross all banks to the 'pivot_df_date' dataframe:\n",
    "pivot_df_date['Total Consolidated Assets']=pivot_df_date['Date'].map(total_assets_by_date)\n",
    "\n",
    "#Merge the summed total assets for each quarter for the seven big banks to the 'pivot_df_date' dataframe:\n",
    "pivot_df_date['Big 7 Total Consolidated Assets']=pivot_df_date['Date'].map(total_big_seven_assets_by_date)\n",
    "\n",
    "#Display the dataframe\n",
    "pivot_df_date.head()"
   ]
  },
  {
   "cell_type": "code",
   "execution_count": null,
   "metadata": {},
   "outputs": [],
   "source": [
    "#Changing the name of the Big 7 banks to their commercial names:\n",
    "\n",
    "name_mapping={\n",
    "    'JPMORGAN CHASE BK NA/JPMORGAN CHASE & CO': 'Chase',\n",
    "    'BANK OF AMER NA/BANK OF AMER CORP': 'Bank of America',\n",
    "    'CITIBANK NA/CITIGROUP': 'Citibank',\n",
    "    'WELLS FARGO BK NA/WELLS FARGO & CO': 'Wells Fargo',\n",
    "    'U S BK NA/U S BC': 'US Bank',\n",
    "    'TRUIST BK/TRUIST FC': 'Truist Bank',\n",
    "    'PNC BK NA/PNC FNCL SVC GROUP': 'PNC'\n",
    "}\n",
    "\n",
    "#Use the 'rename' method to rename the columns\n",
    "pivot_df_date.rename(columns=name_mapping,inplace=True)\n",
    "\n",
    "#Correct type in quarter column name from 'Quater' to 'Quarter'\n",
    "pivot_df_date.rename(columns={'Quater': 'Quarter'}, inplace=True)\n",
    "\n",
    "pivot_df_date"
   ]
  },
  {
   "cell_type": "code",
   "execution_count": 74,
   "metadata": {},
   "outputs": [],
   "source": [
    "#Download 'pivot_df_date' dataframe into a CSV file\n",
    "pivot_df_date.to_csv('pivot_df_big_seven_banks_Updated_9-7-2023.csv',index=False)"
   ]
  },
  {
   "cell_type": "markdown",
   "metadata": {},
   "source": [
    "#### 4b) Creating a pivot dataframe on the percentage of the market share of the 7 Big commercial banks vs. the rest of the large commercial banks based on consolidated assets"
   ]
  },
  {
   "cell_type": "code",
   "execution_count": 6,
   "metadata": {},
   "outputs": [
    {
     "data": {
      "text/html": [
       "<div>\n",
       "<style scoped>\n",
       "    .dataframe tbody tr th:only-of-type {\n",
       "        vertical-align: middle;\n",
       "    }\n",
       "\n",
       "    .dataframe tbody tr th {\n",
       "        vertical-align: top;\n",
       "    }\n",
       "\n",
       "    .dataframe thead th {\n",
       "        text-align: right;\n",
       "    }\n",
       "</style>\n",
       "<table border=\"1\" class=\"dataframe\">\n",
       "  <thead>\n",
       "    <tr style=\"text-align: right;\">\n",
       "      <th></th>\n",
       "      <th>Name</th>\n",
       "      <th>Natl Rank</th>\n",
       "      <th>Bank ID</th>\n",
       "      <th>Bank Location</th>\n",
       "      <th>Charter</th>\n",
       "      <th>Consolidated Assets</th>\n",
       "      <th>Domestic Assets</th>\n",
       "      <th>Percentage Domestic Assets</th>\n",
       "      <th>Percentage Cumulative Assets</th>\n",
       "      <th>Domestic Branches</th>\n",
       "      <th>Foreign Branches</th>\n",
       "      <th>IBF</th>\n",
       "      <th>Percentage Foreign Owned</th>\n",
       "      <th>Percentage of Total Consolidated Assets</th>\n",
       "      <th>Quarter</th>\n",
       "      <th>Date</th>\n",
       "      <th>Bank Name</th>\n",
       "    </tr>\n",
       "  </thead>\n",
       "  <tbody>\n",
       "    <tr>\n",
       "      <th>0</th>\n",
       "      <td>BANK OF AMER NA/BANK OF AMER CORP</td>\n",
       "      <td>2</td>\n",
       "      <td>480228</td>\n",
       "      <td>CHARLOTTE, NC</td>\n",
       "      <td>NAT</td>\n",
       "      <td>2.518290e+12</td>\n",
       "      <td>2.392160e+12</td>\n",
       "      <td>0.95</td>\n",
       "      <td>0.27</td>\n",
       "      <td>3804</td>\n",
       "      <td>24</td>\n",
       "      <td>Y</td>\n",
       "      <td>NaN</td>\n",
       "      <td>0.115448</td>\n",
       "      <td>q1-2023</td>\n",
       "      <td>3/31/2023</td>\n",
       "      <td>BANK OF AMER NA/BANK OF AMER CORP</td>\n",
       "    </tr>\n",
       "    <tr>\n",
       "      <th>1</th>\n",
       "      <td>BANK OF BARTLETT/WEST TENNESSEE BSHRS</td>\n",
       "      <td>1406</td>\n",
       "      <td>225559</td>\n",
       "      <td>BARTLETT, TN</td>\n",
       "      <td>SMB</td>\n",
       "      <td>5.360000e+08</td>\n",
       "      <td>5.360000e+08</td>\n",
       "      <td>1.00</td>\n",
       "      <td>0.99</td>\n",
       "      <td>6</td>\n",
       "      <td>0</td>\n",
       "      <td>N</td>\n",
       "      <td>NaN</td>\n",
       "      <td>0.000025</td>\n",
       "      <td>q1-2023</td>\n",
       "      <td>3/31/2023</td>\n",
       "      <td>BANK OF BARTLETT/WEST TENNESSEE BSHRS</td>\n",
       "    </tr>\n",
       "    <tr>\n",
       "      <th>2</th>\n",
       "      <td>DEMOTTE ST BK/DEMOTTE BC</td>\n",
       "      <td>1421</td>\n",
       "      <td>539340</td>\n",
       "      <td>DEMOTTE, IN</td>\n",
       "      <td>SMB</td>\n",
       "      <td>5.300000e+08</td>\n",
       "      <td>5.300000e+08</td>\n",
       "      <td>1.00</td>\n",
       "      <td>0.99</td>\n",
       "      <td>10</td>\n",
       "      <td>0</td>\n",
       "      <td>N</td>\n",
       "      <td>NaN</td>\n",
       "      <td>0.000024</td>\n",
       "      <td>q1-2023</td>\n",
       "      <td>3/31/2023</td>\n",
       "      <td>DEMOTTE ST BK/DEMOTTE BC</td>\n",
       "    </tr>\n",
       "    <tr>\n",
       "      <th>3</th>\n",
       "      <td>PEOPLES B&amp;TC/PEOPLES BANKTRUST</td>\n",
       "      <td>1420</td>\n",
       "      <td>109136</td>\n",
       "      <td>BUFORD, GA</td>\n",
       "      <td>SNM</td>\n",
       "      <td>5.300000e+08</td>\n",
       "      <td>5.300000e+08</td>\n",
       "      <td>1.00</td>\n",
       "      <td>0.99</td>\n",
       "      <td>0</td>\n",
       "      <td>0</td>\n",
       "      <td>N</td>\n",
       "      <td>NaN</td>\n",
       "      <td>0.000024</td>\n",
       "      <td>q1-2023</td>\n",
       "      <td>3/31/2023</td>\n",
       "      <td>PEOPLES B&amp;TC/PEOPLES BANKTRUST</td>\n",
       "    </tr>\n",
       "    <tr>\n",
       "      <th>4</th>\n",
       "      <td>SAVINGS BK/SAVINGS BC</td>\n",
       "      <td>1419</td>\n",
       "      <td>578116</td>\n",
       "      <td>CIRCLEVILLE, OH</td>\n",
       "      <td>SNM</td>\n",
       "      <td>5.310000e+08</td>\n",
       "      <td>5.310000e+08</td>\n",
       "      <td>1.00</td>\n",
       "      <td>0.99</td>\n",
       "      <td>6</td>\n",
       "      <td>0</td>\n",
       "      <td>N</td>\n",
       "      <td>NaN</td>\n",
       "      <td>0.000024</td>\n",
       "      <td>q1-2023</td>\n",
       "      <td>3/31/2023</td>\n",
       "      <td>SAVINGS BK/SAVINGS BC</td>\n",
       "    </tr>\n",
       "  </tbody>\n",
       "</table>\n",
       "</div>"
      ],
      "text/plain": [
       "                                    Name  Natl Rank  Bank ID    Bank Location  \\\n",
       "0      BANK OF AMER NA/BANK OF AMER CORP          2   480228    CHARLOTTE, NC   \n",
       "1  BANK OF BARTLETT/WEST TENNESSEE BSHRS       1406   225559     BARTLETT, TN   \n",
       "2               DEMOTTE ST BK/DEMOTTE BC       1421   539340      DEMOTTE, IN   \n",
       "3         PEOPLES B&TC/PEOPLES BANKTRUST       1420   109136       BUFORD, GA   \n",
       "4                  SAVINGS BK/SAVINGS BC       1419   578116  CIRCLEVILLE, OH   \n",
       "\n",
       "  Charter  Consolidated Assets  Domestic Assets  Percentage Domestic Assets  \\\n",
       "0     NAT         2.518290e+12     2.392160e+12                        0.95   \n",
       "1     SMB         5.360000e+08     5.360000e+08                        1.00   \n",
       "2     SMB         5.300000e+08     5.300000e+08                        1.00   \n",
       "3     SNM         5.300000e+08     5.300000e+08                        1.00   \n",
       "4     SNM         5.310000e+08     5.310000e+08                        1.00   \n",
       "\n",
       "   Percentage Cumulative Assets  Domestic Branches  Foreign Branches IBF  \\\n",
       "0                          0.27               3804                24   Y   \n",
       "1                          0.99                  6                 0   N   \n",
       "2                          0.99                 10                 0   N   \n",
       "3                          0.99                  0                 0   N   \n",
       "4                          0.99                  6                 0   N   \n",
       "\n",
       "   Percentage Foreign Owned  Percentage of Total Consolidated Assets  Quarter  \\\n",
       "0                       NaN                                 0.115448  q1-2023   \n",
       "1                       NaN                                 0.000025  q1-2023   \n",
       "2                       NaN                                 0.000024  q1-2023   \n",
       "3                       NaN                                 0.000024  q1-2023   \n",
       "4                       NaN                                 0.000024  q1-2023   \n",
       "\n",
       "        Date                              Bank Name  \n",
       "0  3/31/2023      BANK OF AMER NA/BANK OF AMER CORP  \n",
       "1  3/31/2023  BANK OF BARTLETT/WEST TENNESSEE BSHRS  \n",
       "2  3/31/2023               DEMOTTE ST BK/DEMOTTE BC  \n",
       "3  3/31/2023         PEOPLES B&TC/PEOPLES BANKTRUST  \n",
       "4  3/31/2023                  SAVINGS BK/SAVINGS BC  "
      ]
     },
     "execution_count": 6,
     "metadata": {},
     "output_type": "execute_result"
    }
   ],
   "source": [
    "#Load dataset\n",
    "all_data_stardardized=pd.read_csv('all_data_standardized.csv')\n",
    "\n",
    "#Change the name of column 'Quater' to 'Quarter'\n",
    "all_data_stardardized.rename(columns={'Quater':'Quarter'},inplace=True)\n",
    "\n",
    "\n",
    "#Display the first few rows of the dataframe\n",
    "all_data_stardardized.head()"
   ]
  },
  {
   "cell_type": "code",
   "execution_count": 455,
   "metadata": {},
   "outputs": [
    {
     "data": {
      "text/html": [
       "<div>\n",
       "<style scoped>\n",
       "    .dataframe tbody tr th:only-of-type {\n",
       "        vertical-align: middle;\n",
       "    }\n",
       "\n",
       "    .dataframe tbody tr th {\n",
       "        vertical-align: top;\n",
       "    }\n",
       "\n",
       "    .dataframe thead th {\n",
       "        text-align: right;\n",
       "    }\n",
       "</style>\n",
       "<table border=\"1\" class=\"dataframe\">\n",
       "  <thead>\n",
       "    <tr style=\"text-align: right;\">\n",
       "      <th>Name</th>\n",
       "      <th>Date</th>\n",
       "      <th>Quarter</th>\n",
       "      <th>1880 BK/DELMARVA BSHRS</th>\n",
       "      <th>1ST BK NA/FIRST NAT BSHRS HEMPSTEAD CTY</th>\n",
       "      <th>1ST BK NA/MAGNOLIA BKG CORP</th>\n",
       "      <th>1ST BK YUMA/WESTERN AZ BC</th>\n",
       "      <th>1ST BK/GLACIER BC</th>\n",
       "      <th>1ST CAP BK/</th>\n",
       "      <th>1ST CAP BK/1ST CAP BC</th>\n",
       "      <th>1ST CENTENNIAL BK/1ST CENTENNIAL BC</th>\n",
       "      <th>...</th>\n",
       "      <th>YARDVILLE NB/PNC FNCL SVC GROUP</th>\n",
       "      <th>YARDVILLE NB/YARDVILLE NAT BC</th>\n",
       "      <th>YELLOWSTONE BK/YELLOWSTONE HC</th>\n",
       "      <th>YORK TRADITIONS BK/</th>\n",
       "      <th>YOUR CMNTY BK/COMMUNITY BK SHARES</th>\n",
       "      <th>YOUR CMNTY BK/COMMUNITY BK SHARES OF IN</th>\n",
       "      <th>YOUR CMNTY BK/YOUR CMNTY BSHRS</th>\n",
       "      <th>ZB NA/ZIONS BC</th>\n",
       "      <th>ZIONS BC NA/</th>\n",
       "      <th>ZIONS FIRST NB/ZIONS BC</th>\n",
       "    </tr>\n",
       "  </thead>\n",
       "  <tbody>\n",
       "    <tr>\n",
       "      <th>59</th>\n",
       "      <td>2003-09-30</td>\n",
       "      <td>q3-2003</td>\n",
       "      <td>NaN</td>\n",
       "      <td>NaN</td>\n",
       "      <td>NaN</td>\n",
       "      <td>NaN</td>\n",
       "      <td>NaN</td>\n",
       "      <td>NaN</td>\n",
       "      <td>NaN</td>\n",
       "      <td>NaN</td>\n",
       "      <td>...</td>\n",
       "      <td>NaN</td>\n",
       "      <td>0.000363</td>\n",
       "      <td>NaN</td>\n",
       "      <td>NaN</td>\n",
       "      <td>NaN</td>\n",
       "      <td>NaN</td>\n",
       "      <td>NaN</td>\n",
       "      <td>NaN</td>\n",
       "      <td>NaN</td>\n",
       "      <td>0.001541</td>\n",
       "    </tr>\n",
       "    <tr>\n",
       "      <th>0</th>\n",
       "      <td>2003-12-31</td>\n",
       "      <td>q4-2003</td>\n",
       "      <td>NaN</td>\n",
       "      <td>NaN</td>\n",
       "      <td>NaN</td>\n",
       "      <td>NaN</td>\n",
       "      <td>NaN</td>\n",
       "      <td>NaN</td>\n",
       "      <td>NaN</td>\n",
       "      <td>NaN</td>\n",
       "      <td>...</td>\n",
       "      <td>NaN</td>\n",
       "      <td>0.000358</td>\n",
       "      <td>NaN</td>\n",
       "      <td>NaN</td>\n",
       "      <td>NaN</td>\n",
       "      <td>NaN</td>\n",
       "      <td>NaN</td>\n",
       "      <td>NaN</td>\n",
       "      <td>NaN</td>\n",
       "      <td>0.001572</td>\n",
       "    </tr>\n",
       "    <tr>\n",
       "      <th>20</th>\n",
       "      <td>2004-03-31</td>\n",
       "      <td>q1-2004</td>\n",
       "      <td>NaN</td>\n",
       "      <td>NaN</td>\n",
       "      <td>NaN</td>\n",
       "      <td>NaN</td>\n",
       "      <td>NaN</td>\n",
       "      <td>NaN</td>\n",
       "      <td>NaN</td>\n",
       "      <td>NaN</td>\n",
       "      <td>...</td>\n",
       "      <td>NaN</td>\n",
       "      <td>0.000368</td>\n",
       "      <td>NaN</td>\n",
       "      <td>NaN</td>\n",
       "      <td>NaN</td>\n",
       "      <td>NaN</td>\n",
       "      <td>NaN</td>\n",
       "      <td>NaN</td>\n",
       "      <td>NaN</td>\n",
       "      <td>0.001674</td>\n",
       "    </tr>\n",
       "    <tr>\n",
       "      <th>40</th>\n",
       "      <td>2004-06-30</td>\n",
       "      <td>q2-2004</td>\n",
       "      <td>NaN</td>\n",
       "      <td>NaN</td>\n",
       "      <td>NaN</td>\n",
       "      <td>NaN</td>\n",
       "      <td>NaN</td>\n",
       "      <td>NaN</td>\n",
       "      <td>NaN</td>\n",
       "      <td>0.000046</td>\n",
       "      <td>...</td>\n",
       "      <td>NaN</td>\n",
       "      <td>0.000367</td>\n",
       "      <td>NaN</td>\n",
       "      <td>NaN</td>\n",
       "      <td>NaN</td>\n",
       "      <td>NaN</td>\n",
       "      <td>NaN</td>\n",
       "      <td>NaN</td>\n",
       "      <td>NaN</td>\n",
       "      <td>0.001638</td>\n",
       "    </tr>\n",
       "    <tr>\n",
       "      <th>60</th>\n",
       "      <td>2004-09-30</td>\n",
       "      <td>q3-2004</td>\n",
       "      <td>NaN</td>\n",
       "      <td>NaN</td>\n",
       "      <td>NaN</td>\n",
       "      <td>NaN</td>\n",
       "      <td>NaN</td>\n",
       "      <td>NaN</td>\n",
       "      <td>NaN</td>\n",
       "      <td>0.000048</td>\n",
       "      <td>...</td>\n",
       "      <td>NaN</td>\n",
       "      <td>0.000371</td>\n",
       "      <td>NaN</td>\n",
       "      <td>NaN</td>\n",
       "      <td>NaN</td>\n",
       "      <td>NaN</td>\n",
       "      <td>NaN</td>\n",
       "      <td>NaN</td>\n",
       "      <td>NaN</td>\n",
       "      <td>0.001519</td>\n",
       "    </tr>\n",
       "  </tbody>\n",
       "</table>\n",
       "<p>5 rows × 5662 columns</p>\n",
       "</div>"
      ],
      "text/plain": [
       "Name       Date  Quarter  1880 BK/DELMARVA BSHRS  \\\n",
       "59   2003-09-30  q3-2003                     NaN   \n",
       "0    2003-12-31  q4-2003                     NaN   \n",
       "20   2004-03-31  q1-2004                     NaN   \n",
       "40   2004-06-30  q2-2004                     NaN   \n",
       "60   2004-09-30  q3-2004                     NaN   \n",
       "\n",
       "Name  1ST BK NA/FIRST NAT BSHRS HEMPSTEAD CTY  1ST BK NA/MAGNOLIA BKG CORP  \\\n",
       "59                                        NaN                          NaN   \n",
       "0                                         NaN                          NaN   \n",
       "20                                        NaN                          NaN   \n",
       "40                                        NaN                          NaN   \n",
       "60                                        NaN                          NaN   \n",
       "\n",
       "Name  1ST BK YUMA/WESTERN AZ BC  1ST BK/GLACIER BC  1ST CAP BK/  \\\n",
       "59                          NaN                NaN          NaN   \n",
       "0                           NaN                NaN          NaN   \n",
       "20                          NaN                NaN          NaN   \n",
       "40                          NaN                NaN          NaN   \n",
       "60                          NaN                NaN          NaN   \n",
       "\n",
       "Name  1ST CAP BK/1ST CAP BC  1ST CENTENNIAL BK/1ST CENTENNIAL BC  ...  \\\n",
       "59                      NaN                                  NaN  ...   \n",
       "0                       NaN                                  NaN  ...   \n",
       "20                      NaN                                  NaN  ...   \n",
       "40                      NaN                             0.000046  ...   \n",
       "60                      NaN                             0.000048  ...   \n",
       "\n",
       "Name  YARDVILLE NB/PNC FNCL SVC GROUP  YARDVILLE NB/YARDVILLE NAT BC  \\\n",
       "59                                NaN                       0.000363   \n",
       "0                                 NaN                       0.000358   \n",
       "20                                NaN                       0.000368   \n",
       "40                                NaN                       0.000367   \n",
       "60                                NaN                       0.000371   \n",
       "\n",
       "Name  YELLOWSTONE BK/YELLOWSTONE HC  YORK TRADITIONS BK/  \\\n",
       "59                              NaN                  NaN   \n",
       "0                               NaN                  NaN   \n",
       "20                              NaN                  NaN   \n",
       "40                              NaN                  NaN   \n",
       "60                              NaN                  NaN   \n",
       "\n",
       "Name  YOUR CMNTY BK/COMMUNITY BK SHARES  \\\n",
       "59                                  NaN   \n",
       "0                                   NaN   \n",
       "20                                  NaN   \n",
       "40                                  NaN   \n",
       "60                                  NaN   \n",
       "\n",
       "Name  YOUR CMNTY BK/COMMUNITY BK SHARES OF IN  YOUR CMNTY BK/YOUR CMNTY BSHRS  \\\n",
       "59                                        NaN                             NaN   \n",
       "0                                         NaN                             NaN   \n",
       "20                                        NaN                             NaN   \n",
       "40                                        NaN                             NaN   \n",
       "60                                        NaN                             NaN   \n",
       "\n",
       "Name  ZB NA/ZIONS BC  ZIONS BC NA/  ZIONS FIRST NB/ZIONS BC  \n",
       "59               NaN           NaN                 0.001541  \n",
       "0                NaN           NaN                 0.001572  \n",
       "20               NaN           NaN                 0.001674  \n",
       "40               NaN           NaN                 0.001638  \n",
       "60               NaN           NaN                 0.001519  \n",
       "\n",
       "[5 rows x 5662 columns]"
      ]
     },
     "execution_count": 455,
     "metadata": {},
     "output_type": "execute_result"
    }
   ],
   "source": [
    "#Merging pecentages for Chase and Truist\n",
    "\n",
    "def merge_banks(df):\n",
    "    if 'TRUIST BK/TRUIST FC' in df.columns and 'BRANCH BKG&TC/BB&T CORP' in df.columns:\n",
    "        df['TRUIST BK/TRUIST FC']=df['TRUIST BK/TRUIST FC'].add(df['BRANCH BKG&TC/BB&T CORP'],fill_value=0)\n",
    "        df.drop('BRANCH BKG&TC/BB&T CORP',axis=1,inplace=True)\n",
    "\n",
    "    if 'JPMORGAN CHASE BK NA/JPMORGAN CHASE & CO' in df.columns and 'JPMORGAN CHASE BK/J P MORGAN CHASE & CO' in df.columns:\n",
    "        df['JPMORGAN CHASE BK NA/JPMORGAN CHASE & CO'] = df['JPMORGAN CHASE BK NA/JPMORGAN CHASE & CO'].add(df['JPMORGAN CHASE BK/J P MORGAN CHASE & CO'], fill_value=0)\n",
    "        df.drop('JPMORGAN CHASE BK/J P MORGAN CHASE & CO', axis=1, inplace=True)\n",
    "\n",
    "    return df\n",
    "\n",
    "#Create the pivot table\n",
    "pivot_percentage_assets_df=all_data_stardardized.pivot_table(index=['Date','Quarter'],values='Percentage of Total Consolidated Assets',columns='Name',aggfunc=sum).reset_index()\n",
    "\n",
    "# Convert 'Date' column to datetime type\n",
    "pivot_percentage_assets_df['Date']=pd.to_datetime(pivot_percentage_assets_df['Date'])\n",
    "\n",
    "#Sort dataframe based on the 'Date' column\n",
    "pivot_percentage_assets_df.sort_values('Date',ascending=True,inplace=True)\n",
    "\n",
    "#Merge the banks in the pivot table\n",
    "pivot_percentage_assets_df=merge_banks(pivot_percentage_assets_df)\n",
    "\n",
    "#Display the first few rows of the dataframe\n",
    "pivot_percentage_assets_df.head()"
   ]
  },
  {
   "cell_type": "code",
   "execution_count": 159,
   "metadata": {},
   "outputs": [],
   "source": [
    "#Mapping the original bank names to their commercial names:\n",
    "name_mapping = {\n",
    "    'JPMORGAN CHASE BK NA/JPMORGAN CHASE & CO': 'Chase',\n",
    "    'BANK OF AMER NA/BANK OF AMER CORP': 'Bank of America',\n",
    "    'CITIBANK NA/CITIGROUP': 'Citibank',\n",
    "    'WELLS FARGO BK NA/WELLS FARGO & CO': 'Wells Fargo',\n",
    "    'U S BK NA/U S BC': 'US Bank',\n",
    "    'TRUIST BK/TRUIST FC': 'Truist Bank',\n",
    "    'PNC BK NA/PNC FNCL SVC GROUP': 'PNC'\n",
    "}\n",
    "\n",
    "# Rename the columns of the pivot table using the name mapping dictionary\n",
    "pivot_percentage_assets_df=pivot_percentage_assets_df.rename(columns=name_mapping)"
   ]
  },
  {
   "cell_type": "code",
   "execution_count": 452,
   "metadata": {},
   "outputs": [
    {
     "data": {
      "text/html": [
       "<div>\n",
       "<style scoped>\n",
       "    .dataframe tbody tr th:only-of-type {\n",
       "        vertical-align: middle;\n",
       "    }\n",
       "\n",
       "    .dataframe tbody tr th {\n",
       "        vertical-align: top;\n",
       "    }\n",
       "\n",
       "    .dataframe thead th {\n",
       "        text-align: right;\n",
       "    }\n",
       "</style>\n",
       "<table border=\"1\" class=\"dataframe\">\n",
       "  <thead>\n",
       "    <tr style=\"text-align: right;\">\n",
       "      <th>Name</th>\n",
       "      <th>Date</th>\n",
       "      <th>Quarter</th>\n",
       "      <th>Chase</th>\n",
       "      <th>Bank of America</th>\n",
       "      <th>Citibank</th>\n",
       "      <th>Wells Fargo</th>\n",
       "      <th>US Bank</th>\n",
       "      <th>Truist Bank</th>\n",
       "      <th>PNC</th>\n",
       "      <th>Other Banks</th>\n",
       "      <th>Big 7</th>\n",
       "    </tr>\n",
       "  </thead>\n",
       "  <tbody>\n",
       "    <tr>\n",
       "      <th>59</th>\n",
       "      <td>2003-09-30</td>\n",
       "      <td>q3-2003</td>\n",
       "      <td>0.095747</td>\n",
       "      <td>0.093737</td>\n",
       "      <td>0.083206</td>\n",
       "      <td>0.033667</td>\n",
       "      <td>0.027978</td>\n",
       "      <td>0.009626</td>\n",
       "      <td>0.009778</td>\n",
       "      <td>0.646262</td>\n",
       "      <td>0.353738</td>\n",
       "    </tr>\n",
       "    <tr>\n",
       "      <th>0</th>\n",
       "      <td>2003-12-31</td>\n",
       "      <td>q4-2003</td>\n",
       "      <td>0.092806</td>\n",
       "      <td>0.091226</td>\n",
       "      <td>0.085936</td>\n",
       "      <td>0.036976</td>\n",
       "      <td>0.027925</td>\n",
       "      <td>0.009977</td>\n",
       "      <td>0.009158</td>\n",
       "      <td>0.645996</td>\n",
       "      <td>0.354004</td>\n",
       "    </tr>\n",
       "    <tr>\n",
       "      <th>20</th>\n",
       "      <td>2004-03-31</td>\n",
       "      <td>q1-2004</td>\n",
       "      <td>0.092907</td>\n",
       "      <td>0.098905</td>\n",
       "      <td>0.086820</td>\n",
       "      <td>0.049778</td>\n",
       "      <td>0.027442</td>\n",
       "      <td>0.010146</td>\n",
       "      <td>0.009714</td>\n",
       "      <td>0.624287</td>\n",
       "      <td>0.375713</td>\n",
       "    </tr>\n",
       "    <tr>\n",
       "      <th>40</th>\n",
       "      <td>2004-06-30</td>\n",
       "      <td>q2-2004</td>\n",
       "      <td>0.090636</td>\n",
       "      <td>0.097870</td>\n",
       "      <td>0.089750</td>\n",
       "      <td>0.050493</td>\n",
       "      <td>0.026269</td>\n",
       "      <td>0.010369</td>\n",
       "      <td>0.009349</td>\n",
       "      <td>0.625263</td>\n",
       "      <td>0.374737</td>\n",
       "    </tr>\n",
       "    <tr>\n",
       "      <th>60</th>\n",
       "      <td>2004-09-30</td>\n",
       "      <td>q3-2004</td>\n",
       "      <td>0.089289</td>\n",
       "      <td>0.099937</td>\n",
       "      <td>0.087882</td>\n",
       "      <td>0.048974</td>\n",
       "      <td>0.025966</td>\n",
       "      <td>0.009944</td>\n",
       "      <td>0.009681</td>\n",
       "      <td>0.628327</td>\n",
       "      <td>0.371673</td>\n",
       "    </tr>\n",
       "    <tr>\n",
       "      <th>...</th>\n",
       "      <td>...</td>\n",
       "      <td>...</td>\n",
       "      <td>...</td>\n",
       "      <td>...</td>\n",
       "      <td>...</td>\n",
       "      <td>...</td>\n",
       "      <td>...</td>\n",
       "      <td>...</td>\n",
       "      <td>...</td>\n",
       "      <td>...</td>\n",
       "      <td>...</td>\n",
       "    </tr>\n",
       "    <tr>\n",
       "      <th>38</th>\n",
       "      <td>2022-03-31</td>\n",
       "      <td>q1-2022</td>\n",
       "      <td>0.158724</td>\n",
       "      <td>0.114756</td>\n",
       "      <td>0.078433</td>\n",
       "      <td>0.080545</td>\n",
       "      <td>0.026367</td>\n",
       "      <td>0.024244</td>\n",
       "      <td>0.024420</td>\n",
       "      <td>0.492510</td>\n",
       "      <td>0.507490</td>\n",
       "    </tr>\n",
       "    <tr>\n",
       "      <th>58</th>\n",
       "      <td>2022-06-30</td>\n",
       "      <td>q2-2022</td>\n",
       "      <td>0.156061</td>\n",
       "      <td>0.112633</td>\n",
       "      <td>0.079410</td>\n",
       "      <td>0.079052</td>\n",
       "      <td>0.026877</td>\n",
       "      <td>0.024561</td>\n",
       "      <td>0.024666</td>\n",
       "      <td>0.496740</td>\n",
       "      <td>0.503260</td>\n",
       "    </tr>\n",
       "    <tr>\n",
       "      <th>78</th>\n",
       "      <td>2022-09-30</td>\n",
       "      <td>q3-2022</td>\n",
       "      <td>0.153040</td>\n",
       "      <td>0.111379</td>\n",
       "      <td>0.079304</td>\n",
       "      <td>0.079210</td>\n",
       "      <td>0.027347</td>\n",
       "      <td>0.024709</td>\n",
       "      <td>0.025598</td>\n",
       "      <td>0.499413</td>\n",
       "      <td>0.500587</td>\n",
       "    </tr>\n",
       "    <tr>\n",
       "      <th>19</th>\n",
       "      <td>2022-12-31</td>\n",
       "      <td>q4-2022</td>\n",
       "      <td>0.147578</td>\n",
       "      <td>0.111469</td>\n",
       "      <td>0.081430</td>\n",
       "      <td>0.079161</td>\n",
       "      <td>0.026969</td>\n",
       "      <td>0.025176</td>\n",
       "      <td>0.025456</td>\n",
       "      <td>0.502760</td>\n",
       "      <td>0.497240</td>\n",
       "    </tr>\n",
       "    <tr>\n",
       "      <th>39</th>\n",
       "      <td>2023-03-31</td>\n",
       "      <td>q1-2023</td>\n",
       "      <td>0.149815</td>\n",
       "      <td>0.115448</td>\n",
       "      <td>0.078922</td>\n",
       "      <td>0.077361</td>\n",
       "      <td>0.027069</td>\n",
       "      <td>0.025894</td>\n",
       "      <td>0.025503</td>\n",
       "      <td>0.499987</td>\n",
       "      <td>0.500013</td>\n",
       "    </tr>\n",
       "  </tbody>\n",
       "</table>\n",
       "<p>79 rows × 11 columns</p>\n",
       "</div>"
      ],
      "text/plain": [
       "Name       Date  Quarter     Chase  Bank of America  Citibank  Wells Fargo  \\\n",
       "59   2003-09-30  q3-2003  0.095747         0.093737  0.083206     0.033667   \n",
       "0    2003-12-31  q4-2003  0.092806         0.091226  0.085936     0.036976   \n",
       "20   2004-03-31  q1-2004  0.092907         0.098905  0.086820     0.049778   \n",
       "40   2004-06-30  q2-2004  0.090636         0.097870  0.089750     0.050493   \n",
       "60   2004-09-30  q3-2004  0.089289         0.099937  0.087882     0.048974   \n",
       "..          ...      ...       ...              ...       ...          ...   \n",
       "38   2022-03-31  q1-2022  0.158724         0.114756  0.078433     0.080545   \n",
       "58   2022-06-30  q2-2022  0.156061         0.112633  0.079410     0.079052   \n",
       "78   2022-09-30  q3-2022  0.153040         0.111379  0.079304     0.079210   \n",
       "19   2022-12-31  q4-2022  0.147578         0.111469  0.081430     0.079161   \n",
       "39   2023-03-31  q1-2023  0.149815         0.115448  0.078922     0.077361   \n",
       "\n",
       "Name   US Bank  Truist Bank       PNC  Other Banks     Big 7  \n",
       "59    0.027978     0.009626  0.009778     0.646262  0.353738  \n",
       "0     0.027925     0.009977  0.009158     0.645996  0.354004  \n",
       "20    0.027442     0.010146  0.009714     0.624287  0.375713  \n",
       "40    0.026269     0.010369  0.009349     0.625263  0.374737  \n",
       "60    0.025966     0.009944  0.009681     0.628327  0.371673  \n",
       "..         ...          ...       ...          ...       ...  \n",
       "38    0.026367     0.024244  0.024420     0.492510  0.507490  \n",
       "58    0.026877     0.024561  0.024666     0.496740  0.503260  \n",
       "78    0.027347     0.024709  0.025598     0.499413  0.500587  \n",
       "19    0.026969     0.025176  0.025456     0.502760  0.497240  \n",
       "39    0.027069     0.025894  0.025503     0.499987  0.500013  \n",
       "\n",
       "[79 rows x 11 columns]"
      ]
     },
     "execution_count": 452,
     "metadata": {},
     "output_type": "execute_result"
    }
   ],
   "source": [
    "\n",
    "#Create a column that sums the percentage of all other banks\n",
    "\n",
    "#list of Big 7 banks:\n",
    "big_seven_banks=['Chase', 'Bank of America', 'Citibank', 'Wells Fargo', 'US Bank', 'Truist Bank', 'PNC']\n",
    "\n",
    "#Calculate the sum of the Big 7 banks percentages for aach date\n",
    "pivot_percentage_assets_df['Big 7']=pivot_percentage_assets_df[big_seven_banks].sum(axis=1)\n",
    "\n",
    "#Calculate the sum of the 'Other Banks' column as the difference between 100% and the sum of the Big 7 banks\n",
    "pivot_percentage_assets_df['Other Banks']=1-pivot_percentage_assets_df['Big 7']\n",
    "\n",
    "#Add the 'Other Banks' and 'Big 7' as a column to the dataframe\n",
    "pivot_percentage_assets_df=pivot_percentage_assets_df[['Date','Quarter']+big_seven_banks+['Other Banks','Big 7']]\n",
    "\n",
    "pivot_percentage_assets_df"
   ]
  },
  {
   "cell_type": "code",
   "execution_count": 164,
   "metadata": {},
   "outputs": [],
   "source": [
    "#Download 'pivot_df_date' dataframe into a CSV file\n",
    "pivot_percentage_assets_df.to_csv('market_share_prc_cons_assets.csv',index=False)"
   ]
  },
  {
   "cell_type": "markdown",
   "metadata": {},
   "source": [
    "#### 4c) Creating a dataframe for a treemap plotly with a parent category for the 7 Big banks"
   ]
  },
  {
   "cell_type": "code",
   "execution_count": 7,
   "metadata": {},
   "outputs": [
    {
     "data": {
      "text/html": [
       "<div>\n",
       "<style scoped>\n",
       "    .dataframe tbody tr th:only-of-type {\n",
       "        vertical-align: middle;\n",
       "    }\n",
       "\n",
       "    .dataframe tbody tr th {\n",
       "        vertical-align: top;\n",
       "    }\n",
       "\n",
       "    .dataframe thead th {\n",
       "        text-align: right;\n",
       "    }\n",
       "</style>\n",
       "<table border=\"1\" class=\"dataframe\">\n",
       "  <thead>\n",
       "    <tr style=\"text-align: right;\">\n",
       "      <th></th>\n",
       "      <th>Parent</th>\n",
       "      <th>Bank</th>\n",
       "      <th>Consolidated Assets</th>\n",
       "    </tr>\n",
       "  </thead>\n",
       "  <tbody>\n",
       "    <tr>\n",
       "      <th>0</th>\n",
       "      <td>7 Big</td>\n",
       "      <td>Chase  (14.98%)</td>\n",
       "      <td>3267963000000</td>\n",
       "    </tr>\n",
       "    <tr>\n",
       "      <th>1</th>\n",
       "      <td>7 Big</td>\n",
       "      <td>Bank of America (11.54%)</td>\n",
       "      <td>2518290000000</td>\n",
       "    </tr>\n",
       "    <tr>\n",
       "      <th>2</th>\n",
       "      <td>7 Big</td>\n",
       "      <td>Citibank (7.89%)</td>\n",
       "      <td>1721547000000</td>\n",
       "    </tr>\n",
       "    <tr>\n",
       "      <th>3</th>\n",
       "      <td>7 Big</td>\n",
       "      <td>Wells Fargo (7.74%)</td>\n",
       "      <td>1687507000000</td>\n",
       "    </tr>\n",
       "    <tr>\n",
       "      <th>4</th>\n",
       "      <td>7 Big</td>\n",
       "      <td>US Bank (2.71%)</td>\n",
       "      <td>590460000000</td>\n",
       "    </tr>\n",
       "    <tr>\n",
       "      <th>5</th>\n",
       "      <td>7 Big</td>\n",
       "      <td>Truist Bank (2.59%)</td>\n",
       "      <td>564837000000</td>\n",
       "    </tr>\n",
       "    <tr>\n",
       "      <th>6</th>\n",
       "      <td>7 Big</td>\n",
       "      <td>PNC (2.55%)</td>\n",
       "      <td>556314000000</td>\n",
       "    </tr>\n",
       "    <tr>\n",
       "      <th>7</th>\n",
       "      <td>Other Banks (50%)</td>\n",
       "      <td>NaN</td>\n",
       "      <td>10906359000000</td>\n",
       "    </tr>\n",
       "  </tbody>\n",
       "</table>\n",
       "</div>"
      ],
      "text/plain": [
       "              Parent                      Bank  Consolidated Assets\n",
       "0              7 Big           Chase  (14.98%)        3267963000000\n",
       "1              7 Big  Bank of America (11.54%)        2518290000000\n",
       "2              7 Big          Citibank (7.89%)        1721547000000\n",
       "3              7 Big       Wells Fargo (7.74%)        1687507000000\n",
       "4              7 Big           US Bank (2.71%)         590460000000\n",
       "5              7 Big       Truist Bank (2.59%)         564837000000\n",
       "6              7 Big               PNC (2.55%)         556314000000\n",
       "7  Other Banks (50%)                       NaN       10906359000000"
      ]
     },
     "execution_count": 7,
     "metadata": {},
     "output_type": "execute_result"
    }
   ],
   "source": [
    "\n",
    "#Load the dataset\n",
    "treemap_df=pd.read_excel('treemap_df_assets.xlsx')\n",
    "\n",
    "#Display the first few rows of the dataframe\n",
    "treemap_df"
   ]
  },
  {
   "cell_type": "markdown",
   "metadata": {},
   "source": [
    "### 5) Data Visualization"
   ]
  },
  {
   "cell_type": "markdown",
   "metadata": {},
   "source": [
    "#### 5a) Plotting the linear progression of the consolidated assets of the Big 7 commerical banks"
   ]
  },
  {
   "cell_type": "code",
   "execution_count": 207,
   "metadata": {},
   "outputs": [],
   "source": [
    "#Importing necessary visualization libraries\n",
    "import plotly as py\n",
    "import plotly.express as px\n",
    "from sjvisualizer import Canvas #Canvas serves as a material base upon whihc your visualizations are built.\n",
    "from sjvisualizer import DataHandler #DataHandler is a class that helps you to load data from various sources.\n",
    "from sjvisualizer import PieRace #Helps with creating an animate pie chart\n",
    "import time #Time related functions\n",
    "import json #JSON related functions\n",
    "from chart_studio import tools #For uploading plots to Plotly Chart Studio\n",
    "import chart_studio.plotly as py\n"
   ]
  },
  {
   "cell_type": "code",
   "execution_count": 311,
   "metadata": {},
   "outputs": [
    {
     "data": {
      "application/vnd.plotly.v1+json": {
       "config": {
        "plotlyServerURL": "https://plotly.com"
       },
       "data": [
        {
         "hovertemplate": "<b>%{fullData.name}</b><br>%{x}<br>Assets($): %{y:.3s}<extra></extra>",
         "legendgroup": "Chase",
         "line": {
          "color": "#0D5EAF",
          "dash": "solid"
         },
         "marker": {
          "symbol": "circle"
         },
         "mode": "lines",
         "name": "Chase",
         "orientation": "v",
         "showlegend": true,
         "type": "scatter",
         "x": [
          "q3-2003",
          "q4-2003",
          "q1-2004",
          "q2-2004",
          "q3-2004",
          "q4-2004",
          "q1-2005",
          "q2-2005",
          "q3-2005",
          "q4-2005",
          "q1-2006",
          "q2-2006",
          "q3-2006",
          "q4-2006",
          "q1-2007",
          "q2-2007",
          "q3-2007",
          "q4-2007",
          "q1-2008",
          "q2-2008",
          "q3-2008",
          "q4-2008",
          "q1-2009",
          "q2-2009",
          "q3-2009",
          "q4-2009",
          "q1-2010",
          "q2-2010",
          "q3-2010",
          "q4-2010",
          "q1-2011",
          "q2-2011",
          "q3-2011",
          "q4-2011",
          "q1-2012",
          "q2-2012",
          "q3-2012",
          "q4-2012",
          "q1-2013",
          "q2-2013",
          "q3-2013",
          "q4-2013",
          "q1-2014",
          "q2-2014",
          "q3-2014",
          "q4-2014",
          "q1-2015",
          "q2-2015",
          "q3-2015",
          "q4-2015",
          "q1-2016",
          "q2-2016",
          "q3-2016",
          "q4-2016",
          "q1-2017",
          "q2-2017",
          "q3-2017",
          "q4-2017",
          "q1-2018",
          "q2-2018",
          "q3-2018",
          "q4-2018",
          "q1-2019",
          "q2-2019",
          "q3-2019",
          "q4-2019",
          "q1-2020",
          "q2-2020",
          "q3-2020",
          "q4-2020",
          "q1-2021",
          "q2-2021",
          "q3-2021",
          "q4-2021",
          "q1-2022",
          "q2-2022",
          "q3-2022",
          "q4-2022",
          "q1-2023"
         ],
         "xaxis": "x",
         "y": [
          638120000000,
          628662000000,
          648692000000,
          654641000000,
          661772000000,
          967365000000,
          983049000000,
          973113000000,
          1008426000000,
          1013985000000,
          1093394000000,
          1144680000000,
          1173732000000,
          1179390000000,
          1224104000000,
          1252369000000,
          1244049000000,
          1318888000000,
          1407568000000,
          1378468000000,
          1768657000000,
          1746242000000,
          1688164000000,
          1663998000000,
          1669868000000.0005,
          1627684000000,
          1674523000000,
          1568093000000,
          1642691000000,
          1631621000000,
          1723460000000,
          1791060000000,
          1826387000000,
          1811678000000,
          1842735000000,
          1812837000000,
          1850218000000,
          1896773000000,
          1948150000000,
          1947794000000,
          1989875000000,
          1945467000000,
          1970450000000,
          2002047000000,
          2008808000000,
          2074952000000.0005,
          2096114000000,
          1971380000000,
          1954125000000,
          1914658000000,
          2015718000000,
          2051004000000,
          2118497000000,
          2082803000000,
          2138002000000,
          2152006000000,
          2153028000000,
          2140778000000,
          2198296000000,
          2167700000000,
          2194835000000,
          2218960000000,
          2292334000000,
          2354812000000,
          2367127000000,
          2337646000000,
          2690959000000,
          2820922000000,
          2869536000000.0005,
          3025285000000,
          3207521000000,
          3190100000000,
          3290398000000,
          3306982000000,
          3476711000000,
          3380824000000,
          3308575000000,
          3201942000000,
          3267963000000
         ],
         "yaxis": "y"
        },
        {
         "hovertemplate": "<b>%{fullData.name}</b><br>%{x}<br>Assets($): %{y:.3s}<extra></extra>",
         "legendgroup": "Bank of America",
         "line": {
          "color": "#CB0D1F",
          "dash": "solid"
         },
         "marker": {
          "symbol": "circle"
         },
         "mode": "lines",
         "name": "Bank of America",
         "orientation": "v",
         "showlegend": true,
         "type": "scatter",
         "x": [
          "q3-2003",
          "q4-2003",
          "q1-2004",
          "q2-2004",
          "q3-2004",
          "q4-2004",
          "q1-2005",
          "q2-2005",
          "q3-2005",
          "q4-2005",
          "q1-2006",
          "q2-2006",
          "q3-2006",
          "q4-2006",
          "q1-2007",
          "q2-2007",
          "q3-2007",
          "q4-2007",
          "q1-2008",
          "q2-2008",
          "q3-2008",
          "q4-2008",
          "q1-2009",
          "q2-2009",
          "q3-2009",
          "q4-2009",
          "q1-2010",
          "q2-2010",
          "q3-2010",
          "q4-2010",
          "q1-2011",
          "q2-2011",
          "q3-2011",
          "q4-2011",
          "q1-2012",
          "q2-2012",
          "q3-2012",
          "q4-2012",
          "q1-2013",
          "q2-2013",
          "q3-2013",
          "q4-2013",
          "q1-2014",
          "q2-2014",
          "q3-2014",
          "q4-2014",
          "q1-2015",
          "q2-2015",
          "q3-2015",
          "q4-2015",
          "q1-2016",
          "q2-2016",
          "q3-2016",
          "q4-2016",
          "q1-2017",
          "q2-2017",
          "q3-2017",
          "q4-2017",
          "q1-2018",
          "q2-2018",
          "q3-2018",
          "q4-2018",
          "q1-2019",
          "q2-2019",
          "q3-2019",
          "q4-2019",
          "q1-2020",
          "q2-2020",
          "q3-2020",
          "q4-2020",
          "q1-2021",
          "q2-2021",
          "q3-2021",
          "q4-2021",
          "q1-2022",
          "q2-2022",
          "q3-2022",
          "q4-2022",
          "q1-2023"
         ],
         "xaxis": "x",
         "y": [
          624723000000,
          617962000000,
          690573000000,
          706888000000,
          740695000000,
          771619000000,
          838258000000,
          1047537000000,
          1057298000000,
          1082243000000,
          1104944000000,
          1160260000000,
          1185581000000,
          1196124000000,
          1204472000000,
          1252402000000,
          1290376000000,
          1312794000000,
          1355154000000,
          1327429000000,
          1359071000000,
          1471631000000,
          1434037000000,
          1450830000000,
          1460147000000,
          1465221000000,
          1496322000000,
          1518958000000,
          1489197999999.9995,
          1482278000000,
          1451387000000,
          1454051000000,
          1466417000000,
          1451969000000,
          1448262000000,
          1445093000000,
          1448273000000,
          1474077000000,
          1458091000000,
          1429737000000,
          1438859000000,
          1433716000000,
          1457856000000,
          1454742000000,
          1524575000000,
          1574093000000,
          1599746000000,
          1606232000000,
          1616426000000,
          1639305000000,
          1653947000000,
          1657878000000,
          1659793000000,
          1677490000000,
          1707215000000,
          1705928000000,
          1725215000000,
          1751524000000,
          1765242000000,
          1759530000000,
          1797881000000.0005,
          1782639000000,
          1775353000000.0005,
          1792891000000,
          1812976000000,
          1852983000000,
          2031940000000,
          2161656000000,
          2157008000000,
          2258832000000,
          2316773000000,
          2350294000000,
          2400819000000,
          2519525000000,
          2513619000000,
          2440022000000,
          2407902000000,
          2418508000000,
          2518290000000
         ],
         "yaxis": "y"
        },
        {
         "hovertemplate": "<b>%{fullData.name}</b><br>%{x}<br>Assets($): %{y:.3s}<extra></extra>",
         "legendgroup": "Citibank",
         "line": {
          "color": "#1598C3",
          "dash": "solid"
         },
         "marker": {
          "symbol": "circle"
         },
         "mode": "lines",
         "name": "Citibank",
         "orientation": "v",
         "showlegend": true,
         "type": "scatter",
         "x": [
          "q3-2003",
          "q4-2003",
          "q1-2004",
          "q2-2004",
          "q3-2004",
          "q4-2004",
          "q1-2005",
          "q2-2005",
          "q3-2005",
          "q4-2005",
          "q1-2006",
          "q2-2006",
          "q3-2006",
          "q4-2006",
          "q1-2007",
          "q2-2007",
          "q3-2007",
          "q4-2007",
          "q1-2008",
          "q2-2008",
          "q3-2008",
          "q4-2008",
          "q1-2009",
          "q2-2009",
          "q3-2009",
          "q4-2009",
          "q1-2010",
          "q2-2010",
          "q3-2010",
          "q4-2010",
          "q1-2011",
          "q2-2011",
          "q3-2011",
          "q4-2011",
          "q1-2012",
          "q2-2012",
          "q3-2012",
          "q4-2012",
          "q1-2013",
          "q2-2013",
          "q3-2013",
          "q4-2013",
          "q1-2014",
          "q2-2014",
          "q3-2014",
          "q4-2014",
          "q1-2015",
          "q2-2015",
          "q3-2015",
          "q4-2015",
          "q1-2016",
          "q2-2016",
          "q3-2016",
          "q4-2016",
          "q1-2017",
          "q2-2017",
          "q3-2017",
          "q4-2017",
          "q1-2018",
          "q2-2018",
          "q3-2018",
          "q4-2018",
          "q1-2019",
          "q2-2019",
          "q3-2019",
          "q4-2019",
          "q1-2020",
          "q2-2020",
          "q3-2020",
          "q4-2020",
          "q1-2021",
          "q2-2021",
          "q3-2021",
          "q4-2021",
          "q1-2022",
          "q2-2022",
          "q3-2022",
          "q4-2022",
          "q1-2023"
         ],
         "xaxis": "x",
         "y": [
          554540000000,
          582123000000,
          606191000000,
          648243000000,
          651345000000,
          694529000000,
          684592000000,
          704855000000,
          704616000000,
          706497000000,
          749335000000,
          777345000000,
          816362000000,
          1019497000000,
          1076949000000,
          1132840000000,
          1233325000000,
          1251715000000,
          1292503000000,
          1228445000000,
          1207007000000,
          1227040000000,
          1143561000000,
          1165400000000,
          1186754000000,
          1161361000000,
          1171094000000,
          1157877000000,
          1209221000000,
          1154293000000,
          1161359000000,
          1216291000000,
          1300674000000,
          1288658000000,
          1312764000000,
          1347841000000,
          1365026000000,
          1313401000000,
          1306258000000,
          1319359000000,
          1344751000000,
          1346747000000,
          1362220000000,
          1375847000000,
          1377620000000,
          1356781000000,
          1335871000000,
          1336201000000,
          1337821000000,
          1299801000000,
          1342643000000,
          1365660000000,
          1356393000000,
          1349581000000,
          1369153000000,
          1401303000000,
          1407297000000,
          1384707000000,
          1406778000000,
          1397794000000,
          1415081000000,
          1406717000000,
          1430122000000,
          1459623000000,
          1472915000000,
          1453998000000,
          1632405000000,
          1633678000000,
          1648667000000,
          1661507000000,
          1684634000000,
          1693227000000,
          1703923000000,
          1669227000000,
          1718008000000,
          1720308000000,
          1714474000000,
          1766752000000,
          1721547000000
         ],
         "yaxis": "y"
        },
        {
         "hovertemplate": "<b>%{fullData.name}</b><br>%{x}<br>Assets($): %{y:.3s}<extra></extra>",
         "legendgroup": "Wells Fargo",
         "line": {
          "color": "#FFD408",
          "dash": "solid"
         },
         "marker": {
          "symbol": "circle"
         },
         "mode": "lines",
         "name": "Wells Fargo",
         "orientation": "v",
         "showlegend": true,
         "type": "scatter",
         "x": [
          "q3-2003",
          "q4-2003",
          "q1-2004",
          "q2-2004",
          "q3-2004",
          "q4-2004",
          "q1-2005",
          "q2-2005",
          "q3-2005",
          "q4-2005",
          "q1-2006",
          "q2-2006",
          "q3-2006",
          "q4-2006",
          "q1-2007",
          "q2-2007",
          "q3-2007",
          "q4-2007",
          "q1-2008",
          "q2-2008",
          "q3-2008",
          "q4-2008",
          "q1-2009",
          "q2-2009",
          "q3-2009",
          "q4-2009",
          "q1-2010",
          "q2-2010",
          "q3-2010",
          "q4-2010",
          "q1-2011",
          "q2-2011",
          "q3-2011",
          "q4-2011",
          "q1-2012",
          "q2-2012",
          "q3-2012",
          "q4-2012",
          "q1-2013",
          "q2-2013",
          "q3-2013",
          "q4-2013",
          "q1-2014",
          "q2-2014",
          "q3-2014",
          "q4-2014",
          "q1-2015",
          "q2-2015",
          "q3-2015",
          "q4-2015",
          "q1-2016",
          "q2-2016",
          "q3-2016",
          "q4-2016",
          "q1-2017",
          "q2-2017",
          "q3-2017",
          "q4-2017",
          "q1-2018",
          "q2-2018",
          "q3-2018",
          "q4-2018",
          "q1-2019",
          "q2-2019",
          "q3-2019",
          "q4-2019",
          "q1-2020",
          "q2-2020",
          "q3-2020",
          "q4-2020",
          "q1-2021",
          "q2-2021",
          "q3-2021",
          "q4-2021",
          "q1-2022",
          "q2-2022",
          "q3-2022",
          "q4-2022",
          "q1-2023"
         ],
         "xaxis": "x",
         "y": [
          224376000000,
          250474000000,
          347560000000,
          364698000000,
          362973000000,
          366256000000,
          367427000000,
          364120000000,
          380109000000,
          403258000000,
          415802000000,
          415859000000,
          400807000000,
          398671000000,
          396847000000,
          428724000000,
          445446000000,
          467861000000,
          486886000000,
          503327000000,
          514853000000,
          538958000000,
          552170000000,
          539621000000,
          547690000000,
          608778000000,
          1065890000000,
          1073280000000,
          1070489000000,
          1102278000000,
          1093030000000,
          1104833000000,
          1142254000000,
          1161490000000,
          1181817000000,
          1180190000000,
          1218796000000,
          1266125000000,
          1271620000000,
          1284538000000,
          1328009999999.9995,
          1373600000000,
          1388274000000,
          1436828000000,
          1482815000000,
          1532783999999.9995,
          1571389000000,
          1553871000000,
          1579174000000,
          1610580000000,
          1667785000000,
          1699435000000,
          1740819000000,
          1727235000000,
          1749176000000,
          1731937000000,
          1737980000000,
          1747354000000,
          1716532000000,
          1675077000000,
          1665128000000,
          1689351000000,
          1667769000000,
          1699842000000,
          1708548000000,
          1712919000000,
          1763696000000,
          1799940000000,
          1750196000000,
          1767808000000,
          1773157000000,
          1776718000000,
          1786611000000,
          1779504000000,
          1764272000000,
          1712535000000,
          1712442000000,
          1717531000000,
          1687507000000
         ],
         "yaxis": "y"
        },
        {
         "hovertemplate": "<b>%{fullData.name}</b><br>%{x}<br>Assets($): %{y:.3s}<extra></extra>",
         "legendgroup": "US Bank",
         "line": {
          "color": "#C3C2C2",
          "dash": "solid"
         },
         "marker": {
          "symbol": "circle"
         },
         "mode": "lines",
         "name": "US Bank",
         "orientation": "v",
         "showlegend": true,
         "type": "scatter",
         "x": [
          "q3-2003",
          "q4-2003",
          "q1-2004",
          "q2-2004",
          "q3-2004",
          "q4-2004",
          "q1-2005",
          "q2-2005",
          "q3-2005",
          "q4-2005",
          "q1-2006",
          "q2-2006",
          "q3-2006",
          "q4-2006",
          "q1-2007",
          "q2-2007",
          "q3-2007",
          "q4-2007",
          "q1-2008",
          "q2-2008",
          "q3-2008",
          "q4-2008",
          "q1-2009",
          "q2-2009",
          "q3-2009",
          "q4-2009",
          "q1-2010",
          "q2-2010",
          "q3-2010",
          "q4-2010",
          "q1-2011",
          "q2-2011",
          "q3-2011",
          "q4-2011",
          "q1-2012",
          "q2-2012",
          "q3-2012",
          "q4-2012",
          "q1-2013",
          "q2-2013",
          "q3-2013",
          "q4-2013",
          "q1-2014",
          "q2-2014",
          "q3-2014",
          "q4-2014",
          "q1-2015",
          "q2-2015",
          "q3-2015",
          "q4-2015",
          "q1-2016",
          "q2-2016",
          "q3-2016",
          "q4-2016",
          "q1-2017",
          "q2-2017",
          "q3-2017",
          "q4-2017",
          "q1-2018",
          "q2-2018",
          "q3-2018",
          "q4-2018",
          "q1-2019",
          "q2-2019",
          "q3-2019",
          "q4-2019",
          "q1-2020",
          "q2-2020",
          "q3-2020",
          "q4-2020",
          "q1-2021",
          "q2-2021",
          "q3-2021",
          "q4-2021",
          "q1-2022",
          "q2-2022",
          "q3-2022",
          "q4-2022",
          "q1-2023"
         ],
         "xaxis": "x",
         "y": [
          186464000000,
          189159000000,
          191606000000,
          189737000000.00003,
          192453000000,
          194437000000,
          197847000000,
          203478000000,
          206667000000,
          208867000000,
          208940000000,
          212554000000,
          215893000000,
          217802000000,
          219825000000,
          221026000000,
          225976000000,
          232760000000,
          237269000000,
          242308000000,
          242597000000,
          261776000000,
          258527000000,
          260445000000,
          259943000000,
          276376000000,
          277509000000,
          278465000000,
          285762000000,
          302260000000,
          305969000000,
          310100000000,
          319449000000,
          330471000000,
          330227000000,
          342823000000,
          342627000000,
          345089000000,
          345787000000.00006,
          349333000000,
          356590000000,
          360478000000,
          367103000000,
          384194000000,
          387034000000,
          398978000000,
          405363000000,
          414002000000,
          410890000000,
          417458000000,
          423204000000.00006,
          433463000000,
          448401000000,
          441010000000,
          442985000000,
          456910000000,
          452252000000,
          456026000000,
          452256000000,
          453023000000,
          456011000000,
          459477000000,
          467322000000,
          473138000000,
          477394000000,
          486004000000,
          533129000000,
          536291000000,
          530497000000,
          544774000000,
          542566000000,
          547853000000,
          556811000000,
          564155000000.0001,
          577544000000,
          582253000000,
          591211000000,
          585136000000,
          590460000000
         ],
         "yaxis": "y"
        },
        {
         "hovertemplate": "<b>%{fullData.name}</b><br>%{x}<br>Assets($): %{y:.3s}<extra></extra>",
         "legendgroup": "Truist Bank",
         "line": {
          "color": "#5D3099",
          "dash": "solid"
         },
         "marker": {
          "symbol": "circle"
         },
         "mode": "lines",
         "name": "Truist Bank",
         "orientation": "v",
         "showlegend": true,
         "type": "scatter",
         "x": [
          "q3-2003",
          "q4-2003",
          "q1-2004",
          "q2-2004",
          "q3-2004",
          "q4-2004",
          "q1-2005",
          "q2-2005",
          "q3-2005",
          "q4-2005",
          "q1-2006",
          "q2-2006",
          "q3-2006",
          "q4-2006",
          "q1-2007",
          "q2-2007",
          "q3-2007",
          "q4-2007",
          "q1-2008",
          "q2-2008",
          "q3-2008",
          "q4-2008",
          "q1-2009",
          "q2-2009",
          "q3-2009",
          "q4-2009",
          "q1-2010",
          "q2-2010",
          "q3-2010",
          "q4-2010",
          "q1-2011",
          "q2-2011",
          "q3-2011",
          "q4-2011",
          "q1-2012",
          "q2-2012",
          "q3-2012",
          "q4-2012",
          "q1-2013",
          "q2-2013",
          "q3-2013",
          "q4-2013",
          "q1-2014",
          "q2-2014",
          "q3-2014",
          "q4-2014",
          "q1-2015",
          "q2-2015",
          "q3-2015",
          "q4-2015",
          "q1-2016",
          "q2-2016",
          "q3-2016",
          "q4-2016",
          "q1-2017",
          "q2-2017",
          "q3-2017",
          "q4-2017",
          "q1-2018",
          "q2-2018",
          "q3-2018",
          "q4-2018",
          "q1-2019",
          "q2-2019",
          "q3-2019",
          "q4-2019",
          "q1-2020",
          "q2-2020",
          "q3-2020",
          "q4-2020",
          "q1-2021",
          "q2-2021",
          "q3-2021",
          "q4-2021",
          "q1-2022",
          "q2-2022",
          "q3-2022",
          "q4-2022",
          "q1-2023"
         ],
         "xaxis": "x",
         "y": [
          64157000000,
          67584000000,
          70840000000,
          74890000000,
          73700000000,
          74479000000,
          74375000000,
          76719000000,
          77639000000,
          80227000000,
          81169000000,
          85215000000,
          88815000000,
          117134000000,
          118083000000,
          121998000000,
          126290000000,
          127698000000,
          131916000000,
          132884000000,
          133166000000,
          147484000000,
          139275000000,
          147644000000,
          159146000000,
          159676000000,
          157652000000,
          149199000000,
          151545000000,
          150828000000,
          150994000000,
          153342000000,
          162170000000,
          168868000000,
          169026000000,
          173677999999.99997,
          176358000000,
          178034000000,
          176107000000,
          177895000000,
          175616000000,
          179126000000,
          180652000000,
          183627000000,
          182901000000,
          182489000000,
          184405000000,
          186643000000,
          203893000000,
          205126000000,
          206875000000,
          217159000000,
          217378000000,
          214433000000,
          214563000000,
          215274000000,
          214780000000,
          216077000000,
          215012000000,
          216499000000,
          216129000000,
          219071000000,
          219793000000,
          223086000000,
          229886000000,
          461256000000,
          495079000000,
          493999000000,
          488016000000,
          498944000000,
          506471000000,
          510294000000,
          516783000000,
          528514000000,
          531045000000,
          532080000000,
          534185000000,
          546228000000,
          564837000000
         ],
         "yaxis": "y"
        },
        {
         "hovertemplate": "<b>%{fullData.name}</b><br>%{x}<br>Assets($): %{y:.3s}<extra></extra>",
         "legendgroup": "PNC",
         "line": {
          "color": "#E66401",
          "dash": "solid"
         },
         "marker": {
          "symbol": "circle"
         },
         "mode": "lines",
         "name": "PNC",
         "orientation": "v",
         "showlegend": true,
         "type": "scatter",
         "x": [
          "q3-2003",
          "q4-2003",
          "q1-2004",
          "q2-2004",
          "q3-2004",
          "q4-2004",
          "q1-2005",
          "q2-2005",
          "q3-2005",
          "q4-2005",
          "q1-2006",
          "q2-2006",
          "q3-2006",
          "q4-2006",
          "q1-2007",
          "q2-2007",
          "q3-2007",
          "q4-2007",
          "q1-2008",
          "q2-2008",
          "q3-2008",
          "q4-2008",
          "q1-2009",
          "q2-2009",
          "q3-2009",
          "q4-2009",
          "q1-2010",
          "q2-2010",
          "q3-2010",
          "q4-2010",
          "q1-2011",
          "q2-2011",
          "q3-2011",
          "q4-2011",
          "q1-2012",
          "q2-2012",
          "q3-2012",
          "q4-2012",
          "q1-2013",
          "q2-2013",
          "q3-2013",
          "q4-2013",
          "q1-2014",
          "q2-2014",
          "q3-2014",
          "q4-2014",
          "q1-2015",
          "q2-2015",
          "q3-2015",
          "q4-2015",
          "q1-2016",
          "q2-2016",
          "q3-2016",
          "q4-2016",
          "q1-2017",
          "q2-2017",
          "q3-2017",
          "q4-2017",
          "q1-2018",
          "q2-2018",
          "q3-2018",
          "q4-2018",
          "q1-2019",
          "q2-2019",
          "q3-2019",
          "q4-2019",
          "q1-2020",
          "q2-2020",
          "q3-2020",
          "q4-2020",
          "q1-2021",
          "q2-2021",
          "q3-2021",
          "q4-2021",
          "q1-2022",
          "q2-2022",
          "q3-2022",
          "q4-2022",
          "q1-2023"
         ],
         "xaxis": "x",
         "y": [
          65167000000,
          62037000000,
          67822000000,
          67527000000,
          71753000000,
          73809000000,
          75524000000,
          82691000000,
          84742000000,
          82877000000,
          84414000000,
          85947000000,
          87664000000,
          90142000000,
          90405000000,
          93805000000,
          119504000000,
          124782000000,
          128623000000,
          128348000000,
          134780000000,
          140777000000,
          140011000000,
          136388000000,
          146902000000,
          260310000000,
          254518000000,
          251075000000,
          251297000000,
          256639000000,
          251221000000,
          254826000000,
          261236000000,
          263310000000,
          287766000000,
          291824000000,
          292503000000,
          295026000000,
          290108000000,
          294526000000,
          298486000000,
          310000000000,
          313362000000,
          316652000000,
          324117000000,
          335060000000,
          340231000000,
          343630000000,
          351502000000,
          348291000000,
          350643000000,
          350224000000,
          357859000000,
          356000000000,
          360349000000,
          361211000000,
          363681000000,
          370002000000.00006,
          368067000000,
          368951000000,
          368603000000,
          370501000000,
          380593000000,
          393267000000,
          395783000000,
          397703000000,
          433803000000,
          455306000000,
          457454000000,
          463097000000,
          469299000000,
          453974000000,
          462386000000,
          551903000000,
          534892000000,
          534347000000,
          553395000000,
          552307000000,
          556314000000
         ],
         "yaxis": "y"
        }
       ],
       "layout": {
        "legend": {
         "title": {
          "text": "Banks"
         },
         "tracegroupgap": 0
        },
        "template": {
         "data": {
          "bar": [
           {
            "error_x": {
             "color": "#f2f5fa"
            },
            "error_y": {
             "color": "#f2f5fa"
            },
            "marker": {
             "line": {
              "color": "rgb(17,17,17)",
              "width": 0.5
             },
             "pattern": {
              "fillmode": "overlay",
              "size": 10,
              "solidity": 0.2
             }
            },
            "type": "bar"
           }
          ],
          "barpolar": [
           {
            "marker": {
             "line": {
              "color": "rgb(17,17,17)",
              "width": 0.5
             },
             "pattern": {
              "fillmode": "overlay",
              "size": 10,
              "solidity": 0.2
             }
            },
            "type": "barpolar"
           }
          ],
          "carpet": [
           {
            "aaxis": {
             "endlinecolor": "#A2B1C6",
             "gridcolor": "#506784",
             "linecolor": "#506784",
             "minorgridcolor": "#506784",
             "startlinecolor": "#A2B1C6"
            },
            "baxis": {
             "endlinecolor": "#A2B1C6",
             "gridcolor": "#506784",
             "linecolor": "#506784",
             "minorgridcolor": "#506784",
             "startlinecolor": "#A2B1C6"
            },
            "type": "carpet"
           }
          ],
          "choropleth": [
           {
            "colorbar": {
             "outlinewidth": 0,
             "ticks": ""
            },
            "type": "choropleth"
           }
          ],
          "contour": [
           {
            "colorbar": {
             "outlinewidth": 0,
             "ticks": ""
            },
            "colorscale": [
             [
              0,
              "#0d0887"
             ],
             [
              0.1111111111111111,
              "#46039f"
             ],
             [
              0.2222222222222222,
              "#7201a8"
             ],
             [
              0.3333333333333333,
              "#9c179e"
             ],
             [
              0.4444444444444444,
              "#bd3786"
             ],
             [
              0.5555555555555556,
              "#d8576b"
             ],
             [
              0.6666666666666666,
              "#ed7953"
             ],
             [
              0.7777777777777778,
              "#fb9f3a"
             ],
             [
              0.8888888888888888,
              "#fdca26"
             ],
             [
              1,
              "#f0f921"
             ]
            ],
            "type": "contour"
           }
          ],
          "contourcarpet": [
           {
            "colorbar": {
             "outlinewidth": 0,
             "ticks": ""
            },
            "type": "contourcarpet"
           }
          ],
          "heatmap": [
           {
            "colorbar": {
             "outlinewidth": 0,
             "ticks": ""
            },
            "colorscale": [
             [
              0,
              "#0d0887"
             ],
             [
              0.1111111111111111,
              "#46039f"
             ],
             [
              0.2222222222222222,
              "#7201a8"
             ],
             [
              0.3333333333333333,
              "#9c179e"
             ],
             [
              0.4444444444444444,
              "#bd3786"
             ],
             [
              0.5555555555555556,
              "#d8576b"
             ],
             [
              0.6666666666666666,
              "#ed7953"
             ],
             [
              0.7777777777777778,
              "#fb9f3a"
             ],
             [
              0.8888888888888888,
              "#fdca26"
             ],
             [
              1,
              "#f0f921"
             ]
            ],
            "type": "heatmap"
           }
          ],
          "heatmapgl": [
           {
            "colorbar": {
             "outlinewidth": 0,
             "ticks": ""
            },
            "colorscale": [
             [
              0,
              "#0d0887"
             ],
             [
              0.1111111111111111,
              "#46039f"
             ],
             [
              0.2222222222222222,
              "#7201a8"
             ],
             [
              0.3333333333333333,
              "#9c179e"
             ],
             [
              0.4444444444444444,
              "#bd3786"
             ],
             [
              0.5555555555555556,
              "#d8576b"
             ],
             [
              0.6666666666666666,
              "#ed7953"
             ],
             [
              0.7777777777777778,
              "#fb9f3a"
             ],
             [
              0.8888888888888888,
              "#fdca26"
             ],
             [
              1,
              "#f0f921"
             ]
            ],
            "type": "heatmapgl"
           }
          ],
          "histogram": [
           {
            "marker": {
             "pattern": {
              "fillmode": "overlay",
              "size": 10,
              "solidity": 0.2
             }
            },
            "type": "histogram"
           }
          ],
          "histogram2d": [
           {
            "colorbar": {
             "outlinewidth": 0,
             "ticks": ""
            },
            "colorscale": [
             [
              0,
              "#0d0887"
             ],
             [
              0.1111111111111111,
              "#46039f"
             ],
             [
              0.2222222222222222,
              "#7201a8"
             ],
             [
              0.3333333333333333,
              "#9c179e"
             ],
             [
              0.4444444444444444,
              "#bd3786"
             ],
             [
              0.5555555555555556,
              "#d8576b"
             ],
             [
              0.6666666666666666,
              "#ed7953"
             ],
             [
              0.7777777777777778,
              "#fb9f3a"
             ],
             [
              0.8888888888888888,
              "#fdca26"
             ],
             [
              1,
              "#f0f921"
             ]
            ],
            "type": "histogram2d"
           }
          ],
          "histogram2dcontour": [
           {
            "colorbar": {
             "outlinewidth": 0,
             "ticks": ""
            },
            "colorscale": [
             [
              0,
              "#0d0887"
             ],
             [
              0.1111111111111111,
              "#46039f"
             ],
             [
              0.2222222222222222,
              "#7201a8"
             ],
             [
              0.3333333333333333,
              "#9c179e"
             ],
             [
              0.4444444444444444,
              "#bd3786"
             ],
             [
              0.5555555555555556,
              "#d8576b"
             ],
             [
              0.6666666666666666,
              "#ed7953"
             ],
             [
              0.7777777777777778,
              "#fb9f3a"
             ],
             [
              0.8888888888888888,
              "#fdca26"
             ],
             [
              1,
              "#f0f921"
             ]
            ],
            "type": "histogram2dcontour"
           }
          ],
          "mesh3d": [
           {
            "colorbar": {
             "outlinewidth": 0,
             "ticks": ""
            },
            "type": "mesh3d"
           }
          ],
          "parcoords": [
           {
            "line": {
             "colorbar": {
              "outlinewidth": 0,
              "ticks": ""
             }
            },
            "type": "parcoords"
           }
          ],
          "pie": [
           {
            "automargin": true,
            "type": "pie"
           }
          ],
          "scatter": [
           {
            "marker": {
             "line": {
              "color": "#283442"
             }
            },
            "type": "scatter"
           }
          ],
          "scatter3d": [
           {
            "line": {
             "colorbar": {
              "outlinewidth": 0,
              "ticks": ""
             }
            },
            "marker": {
             "colorbar": {
              "outlinewidth": 0,
              "ticks": ""
             }
            },
            "type": "scatter3d"
           }
          ],
          "scattercarpet": [
           {
            "marker": {
             "colorbar": {
              "outlinewidth": 0,
              "ticks": ""
             }
            },
            "type": "scattercarpet"
           }
          ],
          "scattergeo": [
           {
            "marker": {
             "colorbar": {
              "outlinewidth": 0,
              "ticks": ""
             }
            },
            "type": "scattergeo"
           }
          ],
          "scattergl": [
           {
            "marker": {
             "line": {
              "color": "#283442"
             }
            },
            "type": "scattergl"
           }
          ],
          "scattermapbox": [
           {
            "marker": {
             "colorbar": {
              "outlinewidth": 0,
              "ticks": ""
             }
            },
            "type": "scattermapbox"
           }
          ],
          "scatterpolar": [
           {
            "marker": {
             "colorbar": {
              "outlinewidth": 0,
              "ticks": ""
             }
            },
            "type": "scatterpolar"
           }
          ],
          "scatterpolargl": [
           {
            "marker": {
             "colorbar": {
              "outlinewidth": 0,
              "ticks": ""
             }
            },
            "type": "scatterpolargl"
           }
          ],
          "scatterternary": [
           {
            "marker": {
             "colorbar": {
              "outlinewidth": 0,
              "ticks": ""
             }
            },
            "type": "scatterternary"
           }
          ],
          "surface": [
           {
            "colorbar": {
             "outlinewidth": 0,
             "ticks": ""
            },
            "colorscale": [
             [
              0,
              "#0d0887"
             ],
             [
              0.1111111111111111,
              "#46039f"
             ],
             [
              0.2222222222222222,
              "#7201a8"
             ],
             [
              0.3333333333333333,
              "#9c179e"
             ],
             [
              0.4444444444444444,
              "#bd3786"
             ],
             [
              0.5555555555555556,
              "#d8576b"
             ],
             [
              0.6666666666666666,
              "#ed7953"
             ],
             [
              0.7777777777777778,
              "#fb9f3a"
             ],
             [
              0.8888888888888888,
              "#fdca26"
             ],
             [
              1,
              "#f0f921"
             ]
            ],
            "type": "surface"
           }
          ],
          "table": [
           {
            "cells": {
             "fill": {
              "color": "#506784"
             },
             "line": {
              "color": "rgb(17,17,17)"
             }
            },
            "header": {
             "fill": {
              "color": "#2a3f5f"
             },
             "line": {
              "color": "rgb(17,17,17)"
             }
            },
            "type": "table"
           }
          ]
         },
         "layout": {
          "annotationdefaults": {
           "arrowcolor": "#f2f5fa",
           "arrowhead": 0,
           "arrowwidth": 1
          },
          "autotypenumbers": "strict",
          "coloraxis": {
           "colorbar": {
            "outlinewidth": 0,
            "ticks": ""
           }
          },
          "colorscale": {
           "diverging": [
            [
             0,
             "#8e0152"
            ],
            [
             0.1,
             "#c51b7d"
            ],
            [
             0.2,
             "#de77ae"
            ],
            [
             0.3,
             "#f1b6da"
            ],
            [
             0.4,
             "#fde0ef"
            ],
            [
             0.5,
             "#f7f7f7"
            ],
            [
             0.6,
             "#e6f5d0"
            ],
            [
             0.7,
             "#b8e186"
            ],
            [
             0.8,
             "#7fbc41"
            ],
            [
             0.9,
             "#4d9221"
            ],
            [
             1,
             "#276419"
            ]
           ],
           "sequential": [
            [
             0,
             "#0d0887"
            ],
            [
             0.1111111111111111,
             "#46039f"
            ],
            [
             0.2222222222222222,
             "#7201a8"
            ],
            [
             0.3333333333333333,
             "#9c179e"
            ],
            [
             0.4444444444444444,
             "#bd3786"
            ],
            [
             0.5555555555555556,
             "#d8576b"
            ],
            [
             0.6666666666666666,
             "#ed7953"
            ],
            [
             0.7777777777777778,
             "#fb9f3a"
            ],
            [
             0.8888888888888888,
             "#fdca26"
            ],
            [
             1,
             "#f0f921"
            ]
           ],
           "sequentialminus": [
            [
             0,
             "#0d0887"
            ],
            [
             0.1111111111111111,
             "#46039f"
            ],
            [
             0.2222222222222222,
             "#7201a8"
            ],
            [
             0.3333333333333333,
             "#9c179e"
            ],
            [
             0.4444444444444444,
             "#bd3786"
            ],
            [
             0.5555555555555556,
             "#d8576b"
            ],
            [
             0.6666666666666666,
             "#ed7953"
            ],
            [
             0.7777777777777778,
             "#fb9f3a"
            ],
            [
             0.8888888888888888,
             "#fdca26"
            ],
            [
             1,
             "#f0f921"
            ]
           ]
          },
          "colorway": [
           "#636efa",
           "#EF553B",
           "#00cc96",
           "#ab63fa",
           "#FFA15A",
           "#19d3f3",
           "#FF6692",
           "#B6E880",
           "#FF97FF",
           "#FECB52"
          ],
          "font": {
           "color": "#f2f5fa"
          },
          "geo": {
           "bgcolor": "rgb(17,17,17)",
           "lakecolor": "rgb(17,17,17)",
           "landcolor": "rgb(17,17,17)",
           "showlakes": true,
           "showland": true,
           "subunitcolor": "#506784"
          },
          "hoverlabel": {
           "align": "left"
          },
          "hovermode": "closest",
          "mapbox": {
           "style": "dark"
          },
          "paper_bgcolor": "rgb(17,17,17)",
          "plot_bgcolor": "rgb(17,17,17)",
          "polar": {
           "angularaxis": {
            "gridcolor": "#506784",
            "linecolor": "#506784",
            "ticks": ""
           },
           "bgcolor": "rgb(17,17,17)",
           "radialaxis": {
            "gridcolor": "#506784",
            "linecolor": "#506784",
            "ticks": ""
           }
          },
          "scene": {
           "xaxis": {
            "backgroundcolor": "rgb(17,17,17)",
            "gridcolor": "#506784",
            "gridwidth": 2,
            "linecolor": "#506784",
            "showbackground": true,
            "ticks": "",
            "zerolinecolor": "#C8D4E3"
           },
           "yaxis": {
            "backgroundcolor": "rgb(17,17,17)",
            "gridcolor": "#506784",
            "gridwidth": 2,
            "linecolor": "#506784",
            "showbackground": true,
            "ticks": "",
            "zerolinecolor": "#C8D4E3"
           },
           "zaxis": {
            "backgroundcolor": "rgb(17,17,17)",
            "gridcolor": "#506784",
            "gridwidth": 2,
            "linecolor": "#506784",
            "showbackground": true,
            "ticks": "",
            "zerolinecolor": "#C8D4E3"
           }
          },
          "shapedefaults": {
           "line": {
            "color": "#f2f5fa"
           }
          },
          "sliderdefaults": {
           "bgcolor": "#C8D4E3",
           "bordercolor": "rgb(17,17,17)",
           "borderwidth": 1,
           "tickwidth": 0
          },
          "ternary": {
           "aaxis": {
            "gridcolor": "#506784",
            "linecolor": "#506784",
            "ticks": ""
           },
           "baxis": {
            "gridcolor": "#506784",
            "linecolor": "#506784",
            "ticks": ""
           },
           "bgcolor": "rgb(17,17,17)",
           "caxis": {
            "gridcolor": "#506784",
            "linecolor": "#506784",
            "ticks": ""
           }
          },
          "title": {
           "x": 0.05
          },
          "updatemenudefaults": {
           "bgcolor": "#506784",
           "borderwidth": 0
          },
          "xaxis": {
           "automargin": true,
           "gridcolor": "#283442",
           "linecolor": "#506784",
           "ticks": "",
           "title": {
            "standoff": 15
           },
           "zerolinecolor": "#283442",
           "zerolinewidth": 2
          },
          "yaxis": {
           "automargin": true,
           "gridcolor": "#283442",
           "linecolor": "#506784",
           "ticks": "",
           "title": {
            "standoff": 15
           },
           "zerolinecolor": "#283442",
           "zerolinewidth": 2
          }
         }
        },
        "title": {
         "text": "Consolidated Assets of the Big 7 Commercial Banks"
        },
        "xaxis": {
         "anchor": "y",
         "domain": [
          0,
          1
         ],
         "title": {
          "text": "Quarter"
         }
        },
        "yaxis": {
         "anchor": "x",
         "domain": [
          0,
          1
         ],
         "title": {
          "text": "Consolidated Assets($)"
         }
        }
       }
      }
     },
     "metadata": {},
     "output_type": "display_data"
    }
   ],
   "source": [
    "#Linear plotting of the Big 7 banks consolidated assets per quarter\n",
    "fig_linear_big7=px.line(pivot_df_date,\n",
    "                        x='Quarter',\n",
    "                        y=['Chase', 'Bank of America', 'Citibank', 'Wells Fargo', 'US Bank', 'Truist Bank', 'PNC'],\n",
    "                        title='Consolidated Assets of the Big 7 Commercial Banks',\n",
    "                        labels={'value':'Consolidated Assets($)','variable':'Banks'},\n",
    "                        template='plotly_dark',\n",
    "                        color_discrete_map={'Chase': '#0D5EAF',  # Blue\n",
    "                                            'Bank of America': '#CB0D1F',  # Red\n",
    "                                            'Citibank': '#1598C3',  # Blue-ish\n",
    "                                            'Wells Fargo': '#FFD408',  # Yello\n",
    "                                            'US Bank': '#C3C2C2',  # Gray\n",
    "                                            'Truist Bank': '#5D3099',  # Purple\n",
    "                                            'PNC': '#E66401'  # Orange\n",
    "                                \n",
    "})\n",
    "\n",
    "# Update hovertemplate for each trace to customize hover labels\n",
    "#for trace in fig_linear_big7.data:\n",
    "    #trace.hovertemplate = '<b>%{x}</b><br>Assets($): %{y:.3s}'\n",
    "\n",
    "for trace in fig_linear_big7.data:\n",
    "    trace.hovertemplate='<b>%{fullData.name}</b><br>%{x}<br>Assets($): %{y:.3s}<extra></extra>'\n",
    "\n",
    "fig_linear_big7.show()\n"
   ]
  },
  {
   "cell_type": "code",
   "execution_count": 312,
   "metadata": {},
   "outputs": [
    {
     "data": {
      "text/plain": [
       "'https://plotly.com/~juanchojuaninski/42/'"
      ]
     },
     "execution_count": 312,
     "metadata": {},
     "output_type": "execute_result"
    }
   ],
   "source": [
    "#Export line plot to plotly chart studio\n",
    "'''for security purposes, I omitted my username and API key but\n",
    "people who are trying to upload their plots to plotly chart studio\n",
    "should input their credentials in a cell in the following\n",
    "format:\n",
    "\n",
    "import chart_studio\n",
    "chart_studio.tools.set_credentials_file(username='DemoAccount', api_key='lr1c37zw')\n",
    "'''\n",
    "\n",
    "py.plot(fig_linear_big7, filename= 'line_fi_big7_banks', auto_open=True)"
   ]
  },
  {
   "cell_type": "markdown",
   "metadata": {},
   "source": [
    "#### 5b) Plotting a treemap that summarizes the consolidated asssets of the Big 7 banks vs. the rest of the banks"
   ]
  },
  {
   "cell_type": "code",
   "execution_count": 258,
   "metadata": {},
   "outputs": [
    {
     "data": {
      "application/vnd.plotly.v1+json": {
       "config": {
        "plotlyServerURL": "https://plotly.com"
       },
       "data": [
        {
         "branchvalues": "total",
         "customdata": [
          [
           2518290000000
          ],
          [
           3267963000000
          ],
          [
           1721547000000
          ],
          [
           556314000000
          ],
          [
           564837000000
          ],
          [
           590460000000
          ],
          [
           1687507000000
          ],
          [
           2183012630744.2673
          ],
          [
           10906359000000
          ]
         ],
         "domain": {
          "x": [
           0,
           1
          ],
          "y": [
           0,
           1
          ]
         },
         "hovertemplate": "<b>%{label}</b><br>Assets: %{value:.3s}<br>",
         "ids": [
          "7 Big/Bank of America (11.54%)",
          "7 Big/Chase  (14.98%)",
          "7 Big/Citibank (7.89%)",
          "7 Big/PNC (2.55%)",
          "7 Big/Truist Bank (2.59%)",
          "7 Big/US Bank (2.71%)",
          "7 Big/Wells Fargo (7.74%)",
          "7 Big",
          "Other Banks (50%)"
         ],
         "labels": [
          "Bank of America (11.54%)",
          "Chase  (14.98%)",
          "Citibank (7.89%)",
          "PNC (2.55%)",
          "Truist Bank (2.59%)",
          "US Bank (2.71%)",
          "Wells Fargo (7.74%)",
          "7 Big",
          "Other Banks (50%)"
         ],
         "marker": {
          "coloraxis": "coloraxis",
          "colors": [
           2518290000000,
           3267963000000,
           1721547000000,
           556314000000,
           564837000000,
           590460000000,
           1687507000000,
           2183012630744.2673,
           10906359000000
          ]
         },
         "name": "",
         "parents": [
          "7 Big",
          "7 Big",
          "7 Big",
          "7 Big",
          "7 Big",
          "7 Big",
          "7 Big",
          "",
          ""
         ],
         "type": "treemap",
         "values": [
          2518290000000,
          3267963000000,
          1721547000000,
          556314000000,
          564837000000,
          590460000000,
          1687507000000,
          10906918000000,
          10906359000000
         ]
        }
       ],
       "layout": {
        "coloraxis": {
         "colorbar": {
          "title": {
           "text": "Assets (Trillions"
          }
         },
         "colorscale": [
          [
           0,
           "#000004"
          ],
          [
           0.1111111111111111,
           "#1b0c41"
          ],
          [
           0.2222222222222222,
           "#4a0c6b"
          ],
          [
           0.3333333333333333,
           "#781c6d"
          ],
          [
           0.4444444444444444,
           "#a52c60"
          ],
          [
           0.5555555555555556,
           "#cf4446"
          ],
          [
           0.6666666666666666,
           "#ed6925"
          ],
          [
           0.7777777777777778,
           "#fb9b06"
          ],
          [
           0.8888888888888888,
           "#f7d13d"
          ],
          [
           1,
           "#fcffa4"
          ]
         ],
         "showscale": false
        },
        "legend": {
         "tracegroupgap": 0
        },
        "template": {
         "data": {
          "bar": [
           {
            "error_x": {
             "color": "#f2f5fa"
            },
            "error_y": {
             "color": "#f2f5fa"
            },
            "marker": {
             "line": {
              "color": "rgb(17,17,17)",
              "width": 0.5
             },
             "pattern": {
              "fillmode": "overlay",
              "size": 10,
              "solidity": 0.2
             }
            },
            "type": "bar"
           }
          ],
          "barpolar": [
           {
            "marker": {
             "line": {
              "color": "rgb(17,17,17)",
              "width": 0.5
             },
             "pattern": {
              "fillmode": "overlay",
              "size": 10,
              "solidity": 0.2
             }
            },
            "type": "barpolar"
           }
          ],
          "carpet": [
           {
            "aaxis": {
             "endlinecolor": "#A2B1C6",
             "gridcolor": "#506784",
             "linecolor": "#506784",
             "minorgridcolor": "#506784",
             "startlinecolor": "#A2B1C6"
            },
            "baxis": {
             "endlinecolor": "#A2B1C6",
             "gridcolor": "#506784",
             "linecolor": "#506784",
             "minorgridcolor": "#506784",
             "startlinecolor": "#A2B1C6"
            },
            "type": "carpet"
           }
          ],
          "choropleth": [
           {
            "colorbar": {
             "outlinewidth": 0,
             "ticks": ""
            },
            "type": "choropleth"
           }
          ],
          "contour": [
           {
            "colorbar": {
             "outlinewidth": 0,
             "ticks": ""
            },
            "colorscale": [
             [
              0,
              "#0d0887"
             ],
             [
              0.1111111111111111,
              "#46039f"
             ],
             [
              0.2222222222222222,
              "#7201a8"
             ],
             [
              0.3333333333333333,
              "#9c179e"
             ],
             [
              0.4444444444444444,
              "#bd3786"
             ],
             [
              0.5555555555555556,
              "#d8576b"
             ],
             [
              0.6666666666666666,
              "#ed7953"
             ],
             [
              0.7777777777777778,
              "#fb9f3a"
             ],
             [
              0.8888888888888888,
              "#fdca26"
             ],
             [
              1,
              "#f0f921"
             ]
            ],
            "type": "contour"
           }
          ],
          "contourcarpet": [
           {
            "colorbar": {
             "outlinewidth": 0,
             "ticks": ""
            },
            "type": "contourcarpet"
           }
          ],
          "heatmap": [
           {
            "colorbar": {
             "outlinewidth": 0,
             "ticks": ""
            },
            "colorscale": [
             [
              0,
              "#0d0887"
             ],
             [
              0.1111111111111111,
              "#46039f"
             ],
             [
              0.2222222222222222,
              "#7201a8"
             ],
             [
              0.3333333333333333,
              "#9c179e"
             ],
             [
              0.4444444444444444,
              "#bd3786"
             ],
             [
              0.5555555555555556,
              "#d8576b"
             ],
             [
              0.6666666666666666,
              "#ed7953"
             ],
             [
              0.7777777777777778,
              "#fb9f3a"
             ],
             [
              0.8888888888888888,
              "#fdca26"
             ],
             [
              1,
              "#f0f921"
             ]
            ],
            "type": "heatmap"
           }
          ],
          "heatmapgl": [
           {
            "colorbar": {
             "outlinewidth": 0,
             "ticks": ""
            },
            "colorscale": [
             [
              0,
              "#0d0887"
             ],
             [
              0.1111111111111111,
              "#46039f"
             ],
             [
              0.2222222222222222,
              "#7201a8"
             ],
             [
              0.3333333333333333,
              "#9c179e"
             ],
             [
              0.4444444444444444,
              "#bd3786"
             ],
             [
              0.5555555555555556,
              "#d8576b"
             ],
             [
              0.6666666666666666,
              "#ed7953"
             ],
             [
              0.7777777777777778,
              "#fb9f3a"
             ],
             [
              0.8888888888888888,
              "#fdca26"
             ],
             [
              1,
              "#f0f921"
             ]
            ],
            "type": "heatmapgl"
           }
          ],
          "histogram": [
           {
            "marker": {
             "pattern": {
              "fillmode": "overlay",
              "size": 10,
              "solidity": 0.2
             }
            },
            "type": "histogram"
           }
          ],
          "histogram2d": [
           {
            "colorbar": {
             "outlinewidth": 0,
             "ticks": ""
            },
            "colorscale": [
             [
              0,
              "#0d0887"
             ],
             [
              0.1111111111111111,
              "#46039f"
             ],
             [
              0.2222222222222222,
              "#7201a8"
             ],
             [
              0.3333333333333333,
              "#9c179e"
             ],
             [
              0.4444444444444444,
              "#bd3786"
             ],
             [
              0.5555555555555556,
              "#d8576b"
             ],
             [
              0.6666666666666666,
              "#ed7953"
             ],
             [
              0.7777777777777778,
              "#fb9f3a"
             ],
             [
              0.8888888888888888,
              "#fdca26"
             ],
             [
              1,
              "#f0f921"
             ]
            ],
            "type": "histogram2d"
           }
          ],
          "histogram2dcontour": [
           {
            "colorbar": {
             "outlinewidth": 0,
             "ticks": ""
            },
            "colorscale": [
             [
              0,
              "#0d0887"
             ],
             [
              0.1111111111111111,
              "#46039f"
             ],
             [
              0.2222222222222222,
              "#7201a8"
             ],
             [
              0.3333333333333333,
              "#9c179e"
             ],
             [
              0.4444444444444444,
              "#bd3786"
             ],
             [
              0.5555555555555556,
              "#d8576b"
             ],
             [
              0.6666666666666666,
              "#ed7953"
             ],
             [
              0.7777777777777778,
              "#fb9f3a"
             ],
             [
              0.8888888888888888,
              "#fdca26"
             ],
             [
              1,
              "#f0f921"
             ]
            ],
            "type": "histogram2dcontour"
           }
          ],
          "mesh3d": [
           {
            "colorbar": {
             "outlinewidth": 0,
             "ticks": ""
            },
            "type": "mesh3d"
           }
          ],
          "parcoords": [
           {
            "line": {
             "colorbar": {
              "outlinewidth": 0,
              "ticks": ""
             }
            },
            "type": "parcoords"
           }
          ],
          "pie": [
           {
            "automargin": true,
            "type": "pie"
           }
          ],
          "scatter": [
           {
            "marker": {
             "line": {
              "color": "#283442"
             }
            },
            "type": "scatter"
           }
          ],
          "scatter3d": [
           {
            "line": {
             "colorbar": {
              "outlinewidth": 0,
              "ticks": ""
             }
            },
            "marker": {
             "colorbar": {
              "outlinewidth": 0,
              "ticks": ""
             }
            },
            "type": "scatter3d"
           }
          ],
          "scattercarpet": [
           {
            "marker": {
             "colorbar": {
              "outlinewidth": 0,
              "ticks": ""
             }
            },
            "type": "scattercarpet"
           }
          ],
          "scattergeo": [
           {
            "marker": {
             "colorbar": {
              "outlinewidth": 0,
              "ticks": ""
             }
            },
            "type": "scattergeo"
           }
          ],
          "scattergl": [
           {
            "marker": {
             "line": {
              "color": "#283442"
             }
            },
            "type": "scattergl"
           }
          ],
          "scattermapbox": [
           {
            "marker": {
             "colorbar": {
              "outlinewidth": 0,
              "ticks": ""
             }
            },
            "type": "scattermapbox"
           }
          ],
          "scatterpolar": [
           {
            "marker": {
             "colorbar": {
              "outlinewidth": 0,
              "ticks": ""
             }
            },
            "type": "scatterpolar"
           }
          ],
          "scatterpolargl": [
           {
            "marker": {
             "colorbar": {
              "outlinewidth": 0,
              "ticks": ""
             }
            },
            "type": "scatterpolargl"
           }
          ],
          "scatterternary": [
           {
            "marker": {
             "colorbar": {
              "outlinewidth": 0,
              "ticks": ""
             }
            },
            "type": "scatterternary"
           }
          ],
          "surface": [
           {
            "colorbar": {
             "outlinewidth": 0,
             "ticks": ""
            },
            "colorscale": [
             [
              0,
              "#0d0887"
             ],
             [
              0.1111111111111111,
              "#46039f"
             ],
             [
              0.2222222222222222,
              "#7201a8"
             ],
             [
              0.3333333333333333,
              "#9c179e"
             ],
             [
              0.4444444444444444,
              "#bd3786"
             ],
             [
              0.5555555555555556,
              "#d8576b"
             ],
             [
              0.6666666666666666,
              "#ed7953"
             ],
             [
              0.7777777777777778,
              "#fb9f3a"
             ],
             [
              0.8888888888888888,
              "#fdca26"
             ],
             [
              1,
              "#f0f921"
             ]
            ],
            "type": "surface"
           }
          ],
          "table": [
           {
            "cells": {
             "fill": {
              "color": "#506784"
             },
             "line": {
              "color": "rgb(17,17,17)"
             }
            },
            "header": {
             "fill": {
              "color": "#2a3f5f"
             },
             "line": {
              "color": "rgb(17,17,17)"
             }
            },
            "type": "table"
           }
          ]
         },
         "layout": {
          "annotationdefaults": {
           "arrowcolor": "#f2f5fa",
           "arrowhead": 0,
           "arrowwidth": 1
          },
          "autotypenumbers": "strict",
          "coloraxis": {
           "colorbar": {
            "outlinewidth": 0,
            "ticks": ""
           }
          },
          "colorscale": {
           "diverging": [
            [
             0,
             "#8e0152"
            ],
            [
             0.1,
             "#c51b7d"
            ],
            [
             0.2,
             "#de77ae"
            ],
            [
             0.3,
             "#f1b6da"
            ],
            [
             0.4,
             "#fde0ef"
            ],
            [
             0.5,
             "#f7f7f7"
            ],
            [
             0.6,
             "#e6f5d0"
            ],
            [
             0.7,
             "#b8e186"
            ],
            [
             0.8,
             "#7fbc41"
            ],
            [
             0.9,
             "#4d9221"
            ],
            [
             1,
             "#276419"
            ]
           ],
           "sequential": [
            [
             0,
             "#0d0887"
            ],
            [
             0.1111111111111111,
             "#46039f"
            ],
            [
             0.2222222222222222,
             "#7201a8"
            ],
            [
             0.3333333333333333,
             "#9c179e"
            ],
            [
             0.4444444444444444,
             "#bd3786"
            ],
            [
             0.5555555555555556,
             "#d8576b"
            ],
            [
             0.6666666666666666,
             "#ed7953"
            ],
            [
             0.7777777777777778,
             "#fb9f3a"
            ],
            [
             0.8888888888888888,
             "#fdca26"
            ],
            [
             1,
             "#f0f921"
            ]
           ],
           "sequentialminus": [
            [
             0,
             "#0d0887"
            ],
            [
             0.1111111111111111,
             "#46039f"
            ],
            [
             0.2222222222222222,
             "#7201a8"
            ],
            [
             0.3333333333333333,
             "#9c179e"
            ],
            [
             0.4444444444444444,
             "#bd3786"
            ],
            [
             0.5555555555555556,
             "#d8576b"
            ],
            [
             0.6666666666666666,
             "#ed7953"
            ],
            [
             0.7777777777777778,
             "#fb9f3a"
            ],
            [
             0.8888888888888888,
             "#fdca26"
            ],
            [
             1,
             "#f0f921"
            ]
           ]
          },
          "colorway": [
           "#636efa",
           "#EF553B",
           "#00cc96",
           "#ab63fa",
           "#FFA15A",
           "#19d3f3",
           "#FF6692",
           "#B6E880",
           "#FF97FF",
           "#FECB52"
          ],
          "font": {
           "color": "#f2f5fa"
          },
          "geo": {
           "bgcolor": "rgb(17,17,17)",
           "lakecolor": "rgb(17,17,17)",
           "landcolor": "rgb(17,17,17)",
           "showlakes": true,
           "showland": true,
           "subunitcolor": "#506784"
          },
          "hoverlabel": {
           "align": "left"
          },
          "hovermode": "closest",
          "mapbox": {
           "style": "dark"
          },
          "paper_bgcolor": "rgb(17,17,17)",
          "plot_bgcolor": "rgb(17,17,17)",
          "polar": {
           "angularaxis": {
            "gridcolor": "#506784",
            "linecolor": "#506784",
            "ticks": ""
           },
           "bgcolor": "rgb(17,17,17)",
           "radialaxis": {
            "gridcolor": "#506784",
            "linecolor": "#506784",
            "ticks": ""
           }
          },
          "scene": {
           "xaxis": {
            "backgroundcolor": "rgb(17,17,17)",
            "gridcolor": "#506784",
            "gridwidth": 2,
            "linecolor": "#506784",
            "showbackground": true,
            "ticks": "",
            "zerolinecolor": "#C8D4E3"
           },
           "yaxis": {
            "backgroundcolor": "rgb(17,17,17)",
            "gridcolor": "#506784",
            "gridwidth": 2,
            "linecolor": "#506784",
            "showbackground": true,
            "ticks": "",
            "zerolinecolor": "#C8D4E3"
           },
           "zaxis": {
            "backgroundcolor": "rgb(17,17,17)",
            "gridcolor": "#506784",
            "gridwidth": 2,
            "linecolor": "#506784",
            "showbackground": true,
            "ticks": "",
            "zerolinecolor": "#C8D4E3"
           }
          },
          "shapedefaults": {
           "line": {
            "color": "#f2f5fa"
           }
          },
          "sliderdefaults": {
           "bgcolor": "#C8D4E3",
           "bordercolor": "rgb(17,17,17)",
           "borderwidth": 1,
           "tickwidth": 0
          },
          "ternary": {
           "aaxis": {
            "gridcolor": "#506784",
            "linecolor": "#506784",
            "ticks": ""
           },
           "baxis": {
            "gridcolor": "#506784",
            "linecolor": "#506784",
            "ticks": ""
           },
           "bgcolor": "rgb(17,17,17)",
           "caxis": {
            "gridcolor": "#506784",
            "linecolor": "#506784",
            "ticks": ""
           }
          },
          "title": {
           "x": 0.05
          },
          "updatemenudefaults": {
           "bgcolor": "#506784",
           "borderwidth": 0
          },
          "xaxis": {
           "automargin": true,
           "gridcolor": "#283442",
           "linecolor": "#506784",
           "ticks": "",
           "title": {
            "standoff": 15
           },
           "zerolinecolor": "#283442",
           "zerolinewidth": 2
          },
          "yaxis": {
           "automargin": true,
           "gridcolor": "#283442",
           "linecolor": "#506784",
           "ticks": "",
           "title": {
            "standoff": 15
           },
           "zerolinecolor": "#283442",
           "zerolinewidth": 2
          }
         }
        },
        "title": {
         "text": "Consolidated Assets of Large Commercial Banks"
        }
       }
      }
     },
     "metadata": {},
     "output_type": "display_data"
    }
   ],
   "source": [
    "#Setting the dark theme\n",
    "px.defaults.template='plotly_dark'\n",
    "\n",
    "\n",
    "#Creating the treemap\n",
    "fig_treemap=px.treemap(treemap_df,\n",
    "                       path=['Parent','Bank'],\n",
    "                       values='Consolidated Assets',\n",
    "                       title='Consolidated Assets of Large Commercial Banks',\n",
    "                       labels={'Consolidated Assets':'Assets (Trillions'},\n",
    "                       color='Consolidated Assets',\n",
    "                       color_continuous_scale='inferno',\n",
    "                       #hover_data={'Parent':False, #remove the parent column from the hover data\n",
    "                                   #'Consolidated Assets':':.3s', #format the consolidated assets to two decimal places \n",
    "                                   #'Consolidated Assets_sum':False,\n",
    "\n",
    "                                   #}\n",
    ")\n",
    "\n",
    "#Remove the color bar\n",
    "fig_treemap.update_layout(coloraxis_showscale=False)\n",
    "\n",
    "#Update hover labels by using the hovertemplate attribute:\n",
    "for trace in fig_treemap.data:\n",
    "    trace.hovertemplate='<b>%{label}</b><br>Assets: %{value:.3s}<br>'\n",
    "\n",
    "\n",
    "#Display the treemap\n",
    "fig_treemap.show()\n"
   ]
  },
  {
   "cell_type": "markdown",
   "metadata": {},
   "source": [
    "### 6) Mathematical Exploratory Data Analysis \n",
    "\n",
    "#### 6a) Finding the linear regression of the 7 Big banks"
   ]
  },
  {
   "cell_type": "code",
   "execution_count": 313,
   "metadata": {},
   "outputs": [],
   "source": [
    "import seaborn as sns\n",
    "import matplotlib.pyplot as plt\n",
    "from sklearn.linear_model import LinearRegression"
   ]
  },
  {
   "cell_type": "code",
   "execution_count": 315,
   "metadata": {},
   "outputs": [
    {
     "data": {
      "text/html": [
       "<div>\n",
       "<style scoped>\n",
       "    .dataframe tbody tr th:only-of-type {\n",
       "        vertical-align: middle;\n",
       "    }\n",
       "\n",
       "    .dataframe tbody tr th {\n",
       "        vertical-align: top;\n",
       "    }\n",
       "\n",
       "    .dataframe thead th {\n",
       "        text-align: right;\n",
       "    }\n",
       "</style>\n",
       "<table border=\"1\" class=\"dataframe\">\n",
       "  <thead>\n",
       "    <tr style=\"text-align: right;\">\n",
       "      <th></th>\n",
       "      <th>Date</th>\n",
       "      <th>Chase</th>\n",
       "      <th>Bank of America</th>\n",
       "      <th>Citibank</th>\n",
       "      <th>Wells Fargo</th>\n",
       "      <th>US Bank</th>\n",
       "      <th>Truist Bank</th>\n",
       "      <th>PNC</th>\n",
       "      <th>Quarter</th>\n",
       "      <th>Share of Consolidated Assets</th>\n",
       "      <th>Total Consolidated Assets</th>\n",
       "      <th>Big 7 Total Consolidated Assets</th>\n",
       "    </tr>\n",
       "  </thead>\n",
       "  <tbody>\n",
       "    <tr>\n",
       "      <th>0</th>\n",
       "      <td>2003-09-30</td>\n",
       "      <td>6.381200e+11</td>\n",
       "      <td>6.247230e+11</td>\n",
       "      <td>5.545400e+11</td>\n",
       "      <td>2.243760e+11</td>\n",
       "      <td>1.864640e+11</td>\n",
       "      <td>6.415700e+10</td>\n",
       "      <td>6.516700e+10</td>\n",
       "      <td>q3-2003</td>\n",
       "      <td>35.373826</td>\n",
       "      <td>6.664665e+12</td>\n",
       "      <td>2.357547e+12</td>\n",
       "    </tr>\n",
       "    <tr>\n",
       "      <th>1</th>\n",
       "      <td>2003-12-31</td>\n",
       "      <td>6.286620e+11</td>\n",
       "      <td>6.179620e+11</td>\n",
       "      <td>5.821230e+11</td>\n",
       "      <td>2.504740e+11</td>\n",
       "      <td>1.891590e+11</td>\n",
       "      <td>6.758400e+10</td>\n",
       "      <td>6.203700e+10</td>\n",
       "      <td>q4-2003</td>\n",
       "      <td>35.400424</td>\n",
       "      <td>6.773933e+12</td>\n",
       "      <td>2.398001e+12</td>\n",
       "    </tr>\n",
       "    <tr>\n",
       "      <th>2</th>\n",
       "      <td>2004-03-31</td>\n",
       "      <td>6.486920e+11</td>\n",
       "      <td>6.905730e+11</td>\n",
       "      <td>6.061910e+11</td>\n",
       "      <td>3.475600e+11</td>\n",
       "      <td>1.916060e+11</td>\n",
       "      <td>7.084000e+10</td>\n",
       "      <td>6.782200e+10</td>\n",
       "      <td>q1-2004</td>\n",
       "      <td>37.571255</td>\n",
       "      <td>6.982157e+12</td>\n",
       "      <td>2.623284e+12</td>\n",
       "    </tr>\n",
       "    <tr>\n",
       "      <th>3</th>\n",
       "      <td>2004-06-30</td>\n",
       "      <td>6.546410e+11</td>\n",
       "      <td>7.068880e+11</td>\n",
       "      <td>6.482430e+11</td>\n",
       "      <td>3.646980e+11</td>\n",
       "      <td>1.897370e+11</td>\n",
       "      <td>7.489000e+10</td>\n",
       "      <td>6.752700e+10</td>\n",
       "      <td>q2-2004</td>\n",
       "      <td>37.473724</td>\n",
       "      <td>7.222725e+12</td>\n",
       "      <td>2.706624e+12</td>\n",
       "    </tr>\n",
       "    <tr>\n",
       "      <th>4</th>\n",
       "      <td>2004-09-30</td>\n",
       "      <td>6.617720e+11</td>\n",
       "      <td>7.406950e+11</td>\n",
       "      <td>6.513450e+11</td>\n",
       "      <td>3.629730e+11</td>\n",
       "      <td>1.924530e+11</td>\n",
       "      <td>7.370000e+10</td>\n",
       "      <td>7.175300e+10</td>\n",
       "      <td>q3-2004</td>\n",
       "      <td>37.167262</td>\n",
       "      <td>7.411606e+12</td>\n",
       "      <td>2.754691e+12</td>\n",
       "    </tr>\n",
       "  </tbody>\n",
       "</table>\n",
       "</div>"
      ],
      "text/plain": [
       "         Date         Chase  Bank of America      Citibank   Wells Fargo  \\\n",
       "0  2003-09-30  6.381200e+11     6.247230e+11  5.545400e+11  2.243760e+11   \n",
       "1  2003-12-31  6.286620e+11     6.179620e+11  5.821230e+11  2.504740e+11   \n",
       "2  2004-03-31  6.486920e+11     6.905730e+11  6.061910e+11  3.475600e+11   \n",
       "3  2004-06-30  6.546410e+11     7.068880e+11  6.482430e+11  3.646980e+11   \n",
       "4  2004-09-30  6.617720e+11     7.406950e+11  6.513450e+11  3.629730e+11   \n",
       "\n",
       "        US Bank   Truist Bank           PNC  Quarter  \\\n",
       "0  1.864640e+11  6.415700e+10  6.516700e+10  q3-2003   \n",
       "1  1.891590e+11  6.758400e+10  6.203700e+10  q4-2003   \n",
       "2  1.916060e+11  7.084000e+10  6.782200e+10  q1-2004   \n",
       "3  1.897370e+11  7.489000e+10  6.752700e+10  q2-2004   \n",
       "4  1.924530e+11  7.370000e+10  7.175300e+10  q3-2004   \n",
       "\n",
       "   Share of Consolidated Assets  Total Consolidated Assets  \\\n",
       "0                     35.373826               6.664665e+12   \n",
       "1                     35.400424               6.773933e+12   \n",
       "2                     37.571255               6.982157e+12   \n",
       "3                     37.473724               7.222725e+12   \n",
       "4                     37.167262               7.411606e+12   \n",
       "\n",
       "   Big 7 Total Consolidated Assets  \n",
       "0                     2.357547e+12  \n",
       "1                     2.398001e+12  \n",
       "2                     2.623284e+12  \n",
       "3                     2.706624e+12  \n",
       "4                     2.754691e+12  "
      ]
     },
     "execution_count": 315,
     "metadata": {},
     "output_type": "execute_result"
    }
   ],
   "source": [
    "#Displaying dataframe of use\n",
    "pivot_df_date.head()"
   ]
  },
  {
   "cell_type": "code",
   "execution_count": 316,
   "metadata": {},
   "outputs": [
    {
     "data": {
      "text/html": [
       "<div>\n",
       "<style scoped>\n",
       "    .dataframe tbody tr th:only-of-type {\n",
       "        vertical-align: middle;\n",
       "    }\n",
       "\n",
       "    .dataframe tbody tr th {\n",
       "        vertical-align: top;\n",
       "    }\n",
       "\n",
       "    .dataframe thead th {\n",
       "        text-align: right;\n",
       "    }\n",
       "</style>\n",
       "<table border=\"1\" class=\"dataframe\">\n",
       "  <thead>\n",
       "    <tr style=\"text-align: right;\">\n",
       "      <th></th>\n",
       "      <th>Date</th>\n",
       "      <th>Chase</th>\n",
       "      <th>Bank of America</th>\n",
       "      <th>Citibank</th>\n",
       "      <th>Wells Fargo</th>\n",
       "      <th>US Bank</th>\n",
       "      <th>Truist Bank</th>\n",
       "      <th>PNC</th>\n",
       "      <th>Quarter</th>\n",
       "      <th>Share of Consolidated Assets</th>\n",
       "      <th>Total Consolidated Assets</th>\n",
       "      <th>Big 7 Total Consolidated Assets</th>\n",
       "    </tr>\n",
       "  </thead>\n",
       "  <tbody>\n",
       "    <tr>\n",
       "      <th>0</th>\n",
       "      <td>2003-09-30</td>\n",
       "      <td>6.381200e+11</td>\n",
       "      <td>6.247230e+11</td>\n",
       "      <td>5.545400e+11</td>\n",
       "      <td>2.243760e+11</td>\n",
       "      <td>1.864640e+11</td>\n",
       "      <td>6.415700e+10</td>\n",
       "      <td>6.516700e+10</td>\n",
       "      <td>q3-2003</td>\n",
       "      <td>35.373826</td>\n",
       "      <td>6.664665e+12</td>\n",
       "      <td>2.357547e+12</td>\n",
       "    </tr>\n",
       "    <tr>\n",
       "      <th>1</th>\n",
       "      <td>2003-12-31</td>\n",
       "      <td>6.286620e+11</td>\n",
       "      <td>6.179620e+11</td>\n",
       "      <td>5.821230e+11</td>\n",
       "      <td>2.504740e+11</td>\n",
       "      <td>1.891590e+11</td>\n",
       "      <td>6.758400e+10</td>\n",
       "      <td>6.203700e+10</td>\n",
       "      <td>q4-2003</td>\n",
       "      <td>35.400424</td>\n",
       "      <td>6.773933e+12</td>\n",
       "      <td>2.398001e+12</td>\n",
       "    </tr>\n",
       "    <tr>\n",
       "      <th>2</th>\n",
       "      <td>2004-03-31</td>\n",
       "      <td>6.486920e+11</td>\n",
       "      <td>6.905730e+11</td>\n",
       "      <td>6.061910e+11</td>\n",
       "      <td>3.475600e+11</td>\n",
       "      <td>1.916060e+11</td>\n",
       "      <td>7.084000e+10</td>\n",
       "      <td>6.782200e+10</td>\n",
       "      <td>q1-2004</td>\n",
       "      <td>37.571255</td>\n",
       "      <td>6.982157e+12</td>\n",
       "      <td>2.623284e+12</td>\n",
       "    </tr>\n",
       "    <tr>\n",
       "      <th>3</th>\n",
       "      <td>2004-06-30</td>\n",
       "      <td>6.546410e+11</td>\n",
       "      <td>7.068880e+11</td>\n",
       "      <td>6.482430e+11</td>\n",
       "      <td>3.646980e+11</td>\n",
       "      <td>1.897370e+11</td>\n",
       "      <td>7.489000e+10</td>\n",
       "      <td>6.752700e+10</td>\n",
       "      <td>q2-2004</td>\n",
       "      <td>37.473724</td>\n",
       "      <td>7.222725e+12</td>\n",
       "      <td>2.706624e+12</td>\n",
       "    </tr>\n",
       "    <tr>\n",
       "      <th>4</th>\n",
       "      <td>2004-09-30</td>\n",
       "      <td>6.617720e+11</td>\n",
       "      <td>7.406950e+11</td>\n",
       "      <td>6.513450e+11</td>\n",
       "      <td>3.629730e+11</td>\n",
       "      <td>1.924530e+11</td>\n",
       "      <td>7.370000e+10</td>\n",
       "      <td>7.175300e+10</td>\n",
       "      <td>q3-2004</td>\n",
       "      <td>37.167262</td>\n",
       "      <td>7.411606e+12</td>\n",
       "      <td>2.754691e+12</td>\n",
       "    </tr>\n",
       "  </tbody>\n",
       "</table>\n",
       "</div>"
      ],
      "text/plain": [
       "        Date         Chase  Bank of America      Citibank   Wells Fargo  \\\n",
       "0 2003-09-30  6.381200e+11     6.247230e+11  5.545400e+11  2.243760e+11   \n",
       "1 2003-12-31  6.286620e+11     6.179620e+11  5.821230e+11  2.504740e+11   \n",
       "2 2004-03-31  6.486920e+11     6.905730e+11  6.061910e+11  3.475600e+11   \n",
       "3 2004-06-30  6.546410e+11     7.068880e+11  6.482430e+11  3.646980e+11   \n",
       "4 2004-09-30  6.617720e+11     7.406950e+11  6.513450e+11  3.629730e+11   \n",
       "\n",
       "        US Bank   Truist Bank           PNC  Quarter  \\\n",
       "0  1.864640e+11  6.415700e+10  6.516700e+10  q3-2003   \n",
       "1  1.891590e+11  6.758400e+10  6.203700e+10  q4-2003   \n",
       "2  1.916060e+11  7.084000e+10  6.782200e+10  q1-2004   \n",
       "3  1.897370e+11  7.489000e+10  6.752700e+10  q2-2004   \n",
       "4  1.924530e+11  7.370000e+10  7.175300e+10  q3-2004   \n",
       "\n",
       "   Share of Consolidated Assets  Total Consolidated Assets  \\\n",
       "0                     35.373826               6.664665e+12   \n",
       "1                     35.400424               6.773933e+12   \n",
       "2                     37.571255               6.982157e+12   \n",
       "3                     37.473724               7.222725e+12   \n",
       "4                     37.167262               7.411606e+12   \n",
       "\n",
       "   Big 7 Total Consolidated Assets  \n",
       "0                     2.357547e+12  \n",
       "1                     2.398001e+12  \n",
       "2                     2.623284e+12  \n",
       "3                     2.706624e+12  \n",
       "4                     2.754691e+12  "
      ]
     },
     "execution_count": 316,
     "metadata": {},
     "output_type": "execute_result"
    }
   ],
   "source": [
    "#Convert the 'Date' column to a pandas datetime object\n",
    "pivot_df_date['Date']=pd.to_datetime(pivot_df_date['Date'])\n",
    "#Dipslay the first few rows of the dataframe\n",
    "pivot_df_date.head()"
   ]
  },
  {
   "cell_type": "code",
   "execution_count": 465,
   "metadata": {},
   "outputs": [],
   "source": [
    "#Generate a numerical representation of quarters\n",
    "\n",
    "pivot_df_date['Quarter'] = (pivot_df_date['Date'].dt.year - pivot_df_date['Date'].dt.year.min()) * 4 + pivot_df_date['Date'].dt.quarter\n"
   ]
  },
  {
   "cell_type": "code",
   "execution_count": 461,
   "metadata": {},
   "outputs": [],
   "source": [
    "#List of Big 7 banks\n",
    "big_seven_banks=['Chase', 'Bank of America', 'Citibank', 'Wells Fargo', 'US Bank', 'Truist Bank', 'PNC']\n",
    "\n",
    "#Melt the Dataframe to combine all bank data points\n",
    "melted_df=pd.melt(pivot_df_date,id_vars=['Quarter'],value_vars=big_seven_banks,var_name='Bank',value_name='Assets')\n",
    "\n"
   ]
  },
  {
   "cell_type": "code",
   "execution_count": 467,
   "metadata": {},
   "outputs": [
    {
     "data": {
      "image/png": "[encoded data removed]",
      "text/plain": [
       "<Figure size 1200x600 with 1 Axes>"
      ]
     },
     "metadata": {},
     "output_type": "display_data"
    }
   ],
   "source": [
    "#Initializing the linear regression model\n",
    "model=LinearRegression()\n",
    "\n",
    "#Create the linear regression plot using searborn\n",
    "plt.figure(figsize=(12,6))\n",
    "sns.regplot(x='Quarter',y='Assets',data=melted_df,line_kws={'color':'b'},order=1)\n",
    "plt.xlabel('Quater')\n",
    "plt.ylabel('Assets (Trillions)')\n",
    "plt.title('Linear Regression of Big 7 Banks Consolidated Assets')\n",
    "plt.annotate('f(x)=  14.48Bx +  359.94B',xy=(5,3048023790100),xycoords='data',fontsize=15)\n",
    "plt.show()"
   ]
  },
  {
   "cell_type": "code",
   "execution_count": 398,
   "metadata": {},
   "outputs": [
    {
     "name": "stdout",
     "output_type": "stream",
     "text": [
      "m= 14480237901.655304 \n",
      "b= 359937179920.7124\n"
     ]
    }
   ],
   "source": [
    "#Fit the model to the data\n",
    "model.fit(melted_df['Quarter'].values.reshape(-1,1),melted_df['Assets'])\n",
    "m7=model.coef_[0]\n",
    "b7=model.intercept_\n",
    "\n",
    "print('m=',m7,'\\nb=',b7)\n",
    "\n"
   ]
  },
  {
   "cell_type": "code",
   "execution_count": 399,
   "metadata": {},
   "outputs": [
    {
     "name": "stdout",
     "output_type": "stream",
     "text": [
      "m= 14.48 \n",
      "b= 359.94\n"
     ]
    }
   ],
   "source": [
    "#simplify m and b to a billion dollar scale with two decimal places\n",
    "m7=round(m7/1000000000,2)\n",
    "b7=round(b7/1000000000,2)\n",
    "print('m=',m7,'\\nb=',b7)"
   ]
  },
  {
   "cell_type": "code",
   "execution_count": 396,
   "metadata": {},
   "outputs": [
    {
     "name": "stdout",
     "output_type": "stream",
     "text": [
      "f(x)=  14.48 B($) x +  359.94 B($)\n"
     ]
    }
   ],
   "source": [
    "#Display the linear regression equation in billions\n",
    "print(\"f(x)= \",m7,'B($)',\"x + \",b7,'B($)')"
   ]
  },
  {
   "cell_type": "markdown",
   "metadata": {},
   "source": [
    "The regression line suggests a positive correlation between the progression of time and the concentration of consolidated assets among the major seven commercial banks in the U.S. \n",
    "\n",
    "The operation of the Law of Interpenetration of Opposites: The Law of Monopolization sets the intense competition even among the banks, driving them to towards higher forms of the monopolistic consolidation of their own existance. \n",
    "\n",
    "The relationship between time and concentration of banking can be modeled by the following function:\n",
    "\n",
    "f(x)=  14.48 B x +  359.94 B\n",
    "\n",
    "This means that big four banks consolidate 14.48 billion dollars every quarter since 2003. "
   ]
  },
  {
   "cell_type": "markdown",
   "metadata": {},
   "source": [
    "#### 6b) Linear regression of the biggest 4 banks"
   ]
  },
  {
   "cell_type": "code",
   "execution_count": 361,
   "metadata": {},
   "outputs": [],
   "source": [
    "#Identifying the Big 4 banks\n",
    "big_four_banks=['Chase', 'Bank of America', 'Citibank', 'Wells Fargo']\n",
    "#Melt the Dataframe to combine all bank data points\n",
    "melted_df_big4=pd.melt(pivot_df_date,id_vars=['Quarter'],value_vars=big_four_banks,var_name='Bank',value_name='Assets')\n"
   ]
  },
  {
   "cell_type": "code",
   "execution_count": 449,
   "metadata": {},
   "outputs": [
    {
     "data": {
      "image/png": "[encoded data removed]",
      "text/plain": [
       "<Figure size 1200x600 with 1 Axes>"
      ]
     },
     "metadata": {},
     "output_type": "display_data"
    }
   ],
   "source": [
    "#Initializing the linear regression model\n",
    "model=LinearRegression()\n",
    "\n",
    "#Create the linear regression plot using searborn\n",
    "plt.figure(figsize=(12,6))\n",
    "sns.regplot(x='Quarter',y='Assets',data=melted_df_big4,line_kws={'color':'b'},order=1)\n",
    "plt.xlabel('Quater')\n",
    "plt.ylabel('Assets (Trillions)')\n",
    "plt.title('Linear Regression of Big 4 Banks Consolidated Assets')\n",
    "plt.annotate('f(x)=  21.06Bx +  593.63B',xy=(5,3048023790100),xycoords='data',fontsize=15)\n",
    "\n",
    "plt.show()"
   ]
  },
  {
   "cell_type": "code",
   "execution_count": 393,
   "metadata": {},
   "outputs": [
    {
     "name": "stdout",
     "output_type": "stream",
     "text": [
      "m= 21060762767.77021 \n",
      "b= 593634745399.2207\n"
     ]
    }
   ],
   "source": [
    "#Fit the model to the data\n",
    "model.fit(melted_df_big4['Quarter'].values.reshape(-1,1),melted_df_big4['Assets'])\n",
    "m=model.coef_[0]\n",
    "b=model.intercept_\n",
    "\n",
    "print('m=',m,'\\nb=',b)"
   ]
  },
  {
   "cell_type": "code",
   "execution_count": 394,
   "metadata": {},
   "outputs": [
    {
     "name": "stdout",
     "output_type": "stream",
     "text": [
      "m= 21.06 \n",
      "b= 593.63\n"
     ]
    }
   ],
   "source": [
    "#simply m and b to a billion dollar scale with two decimal places\n",
    "m=round(m/1000000000,2)\n",
    "b=round(b/1000000000,2)\n",
    "print('m=',m,'\\nb=',b)\n"
   ]
  },
  {
   "cell_type": "code",
   "execution_count": 395,
   "metadata": {},
   "outputs": [
    {
     "name": "stdout",
     "output_type": "stream",
     "text": [
      "f(x)=  21.06 B($) x +  593.63 B($)\n"
     ]
    }
   ],
   "source": [
    "#Display the linear regression equation in billions\n",
    "print(\"f(x)= \",m,'B($)',\"x + \",b,'B($)')"
   ]
  },
  {
   "cell_type": "markdown",
   "metadata": {},
   "source": [
    "The regression line suggests a positive correlation between the progression of time and the concentration of consolidated assets among the major four commercial banks in the U.S. \n",
    "\n",
    "The operation of the Law of Interpenetration of Opposites: The Law of Monopolization sets the intense competition even among the banks, driving them to towards higher forms of the monopolistic consolidation of their own existance. \n",
    "\n",
    "The relationship between time and concentration of banking can be modeled by the following function:\n",
    "\n",
    "f(x)=  21.06 B($) x +  593.63 B($)\n",
    "\n",
    "This means that big four banks consolidate 21.06 billion dollars every quarter since 2003. "
   ]
  }
 ],
 "metadata": {
  "kernelspec": {
   "display_name": "base",
   "language": "python",
   "name": "python3"
  },
  "language_info": {
   "codemirror_mode": {
    "name": "ipython",
    "version": 3
   },
   "file_extension": ".py",
   "mimetype": "text/x-python",
   "name": "python",
   "nbconvert_exporter": "python",
   "pygments_lexer": "ipython3",
   "version": "3.10.9"
  },
  "orig_nbformat": 4
 },
 "nbformat": 4,
 "nbformat_minor": 2
}
